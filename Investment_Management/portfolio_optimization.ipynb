{
 "cells": [
  {
   "cell_type": "code",
   "execution_count": 9,
   "metadata": {},
   "outputs": [],
   "source": [
    "import pandas as pd\n",
    "import os\n",
    "import numpy\n",
    "import datetime\n",
    "import re\n",
    "import yfinance as yf"
   ]
  },
  {
   "cell_type": "code",
   "execution_count": 10,
   "metadata": {},
   "outputs": [],
   "source": [
    "senate_inv = pd.read_csv('/Users/paigeblackstone/Desktop/Portfolio29/Portfolio29/Investment_Management/UpdatedSenatorTrades.csv')\n",
    "senate_inv2 = pd.read_csv('/Users/paigeblackstone/Desktop/Portfolio29/Portfolio29/Investment_Management/senate_stock_discosures.csv')\n",
    "senate_inv3 = pd.read_csv('/Users/paigeblackstone/Desktop/Portfolio29/Portfolio29/Investment_Management/SenatorCleaned.csv')"
   ]
  },
  {
   "cell_type": "code",
   "execution_count": 11,
   "metadata": {},
   "outputs": [
    {
     "name": "stdout",
     "output_type": "stream",
     "text": [
      "Successfully read the file with encoding: latin1\n"
     ]
    }
   ],
   "source": [
    "encodings = ['latin1', 'ISO-8859-1', 'cp1252']\n",
    "for encoding in encodings:\n",
    "    try:\n",
    "        congress_inv = pd.read_csv('/Users/paigeblackstone/Desktop/Portfolio29/Portfolio29/Investment_Management/Copy of congress-trading-all (3).csv', encoding=encoding)\n",
    "        print(f'Successfully read the file with encoding: {encoding}')\n",
    "        break\n",
    "    except UnicodeDecodeError:\n",
    "        print(f'Failed to read the file with encoding: {encoding}')"
   ]
  },
  {
   "cell_type": "code",
   "execution_count": 12,
   "metadata": {},
   "outputs": [
    {
     "data": {
      "text/plain": [
       "['Ticker',\n",
       " 'TickerType',\n",
       " 'Company',\n",
       " 'Traded',\n",
       " 'Transaction',\n",
       " 'Trade_Size_USD',\n",
       " 'Status',\n",
       " 'Subholding',\n",
       " 'Description',\n",
       " 'Name',\n",
       " 'Filed',\n",
       " 'Party',\n",
       " 'District',\n",
       " 'Chamber',\n",
       " 'Comments',\n",
       " 'Quiver_Upload_Time',\n",
       " 'excess_return',\n",
       " 'State',\n",
       " 'last_modified']"
      ]
     },
     "execution_count": 12,
     "metadata": {},
     "output_type": "execute_result"
    }
   ],
   "source": [
    "congress_inv.columns.to_list()"
   ]
  },
  {
   "cell_type": "markdown",
   "metadata": {},
   "source": [
    "cleaning up date columns"
   ]
  },
  {
   "cell_type": "code",
   "execution_count": 13,
   "metadata": {},
   "outputs": [
    {
     "name": "stdout",
     "output_type": "stream",
     "text": [
      "                       Ticker TickerType  \\\n",
      "0                         NGL         ST   \n",
      "1                         FCX         ST   \n",
      "2                           V         ST   \n",
      "3      APPLE INC. (XNAS:AAPL)         ST   \n",
      "4                        MSFT         ST   \n",
      "...                       ...        ...   \n",
      "46462                     CAT        NaN   \n",
      "46463                      PG        NaN   \n",
      "46464                     KSU        NaN   \n",
      "46465                    EP$C        NaN   \n",
      "46466                    EP$C        NaN   \n",
      "\n",
      "                                                 Company     Traded  \\\n",
      "0      NGL ENERGY PARTNERS LP COMMON UNITS REPRESENTI... 2024-03-11   \n",
      "1                    FREEPORT-MCMORAN, INC. COMMON STOCK 2024-02-29   \n",
      "2                                              VISA INC. 2024-02-29   \n",
      "3                              APPLE INC. - COMMON STOCK 2024-02-29   \n",
      "4                   MICROSOFT CORPORATION - COMMON STOCK 2024-02-29   \n",
      "...                                                  ...        ...   \n",
      "46462                                  CATERPILLAR, INC. 2012-07-26   \n",
      "46463                           PROCTER & GAMBLE COMPANY 2012-07-24   \n",
      "46464                               KANSAS CITY SOUTHERN 2012-06-06   \n",
      "46465                EL PASO CORPORATION PREFERRED STOCK 2012-03-20   \n",
      "46466                EL PASO CORPORATION PREFERRED STOCK 2012-02-27   \n",
      "\n",
      "      Transaction       Trade_Size_USD Status  \\\n",
      "0            Sale    $15,001 - $50,000    NEW   \n",
      "1            Sale     $1,001 - $15,000    NEW   \n",
      "2        Purchase     $1,001 - $15,000    NEW   \n",
      "3        Purchase              $360.00    NEW   \n",
      "4            Sale  $100,001 - $250,000    NEW   \n",
      "...           ...                  ...    ...   \n",
      "46462    Purchase     $1,001 - $15,000    NEW   \n",
      "46463        Sale     $1,001 - $15,000    NEW   \n",
      "46464    Purchase     $1,001 - $15,000    NEW   \n",
      "46465        Sale     $1,001 - $15,000    NEW   \n",
      "46466        Sale     $1,001 - $15,000    NEW   \n",
      "\n",
      "                                     Subholding  \\\n",
      "0                  EQUITABLE RETIREMENT ACCOUNT   \n",
      "1       MORGAN STANLEY - SELECT UMA ACCOUNT # 1   \n",
      "2                                     TRUST ONE   \n",
      "3                                       IRA ONE   \n",
      "4                                           NaN   \n",
      "...                                         ...   \n",
      "46462                    BROKERAGE #2 USAA 8425   \n",
      "46463                    BROKERAGE #2 USAA 8425   \n",
      "46464                                       NaN   \n",
      "46465                                       NaN   \n",
      "46466                                       NaN   \n",
      "\n",
      "                                             Description  \\\n",
      "0                                                    NaN   \n",
      "1                                                    NaN   \n",
      "2                                                    NaN   \n",
      "3                                                    NaN   \n",
      "4      VESTED SHARES SOLD TO SEPARATE TRUST NOT FOR T...   \n",
      "...                                                  ...   \n",
      "46462                                                NaN   \n",
      "46463                                                NaN   \n",
      "46464                                                NaN   \n",
      "46465                                                NaN   \n",
      "46466                                                NaN   \n",
      "\n",
      "                        Name       Filed Party District Chamber Comments  \\\n",
      "0              Mark Dr Green  2024-03-13     R     TN07   House      NaN   \n",
      "1            Josh Gottheimer  2024-03-07     D     NJ05   House      NaN   \n",
      "2              Pete Sessions  2024-03-07     R     TX17   House      NaN   \n",
      "3              Pete Sessions  2024-02-29     R     TX17   House      NaN   \n",
      "4           Suzan K. Delbene  2024-03-08     D     WA01   House      NaN   \n",
      "...                      ...         ...   ...      ...     ...      ...   \n",
      "46462    Ms. Tammy Duckworth  2014-07-08     D     IL08   House      NaN   \n",
      "46463    Ms. Tammy Duckworth  2014-07-08     D     IL08   House      NaN   \n",
      "46464  Mr. Alan S. Lowenthal  2014-05-15     D     CA47   House      NaN   \n",
      "46465  Mr. Alan S. Lowenthal  2014-05-15     D     CA47   House      NaN   \n",
      "46466  Mr. Alan S. Lowenthal  2014-05-15     D     CA47   House      NaN   \n",
      "\n",
      "      Quiver_Upload_Time  excess_return       State last_modified  \n",
      "0             2024-03-14       1.523296   Tennessee    2024-03-14  \n",
      "1             2024-03-08      17.325032  New Jersey    2024-03-08  \n",
      "2             2024-03-08      -0.518105       Texas    2024-03-08  \n",
      "3             2024-03-01      -5.157553       Texas    2024-03-01  \n",
      "4             2024-03-11       0.012454  Washington    2024-03-11  \n",
      "...                  ...            ...         ...           ...  \n",
      "46462         2020-07-26      39.133792    Illinois    2023-11-16  \n",
      "46463         2020-07-26    -131.228673    Illinois    2023-11-16  \n",
      "46464         2020-07-26      89.238230  California    2023-11-16  \n",
      "46465         2020-07-26            NaN  California    2023-11-16  \n",
      "46466         2020-07-26            NaN  California    2023-11-16  \n",
      "\n",
      "[46467 rows x 19 columns]\n",
      "Ticker                        object\n",
      "TickerType                    object\n",
      "Company                       object\n",
      "Traded                datetime64[ns]\n",
      "Transaction                   object\n",
      "Trade_Size_USD                object\n",
      "Status                        object\n",
      "Subholding                    object\n",
      "Description                   object\n",
      "Name                          object\n",
      "Filed                         object\n",
      "Party                         object\n",
      "District                      object\n",
      "Chamber                       object\n",
      "Comments                      object\n",
      "Quiver_Upload_Time            object\n",
      "excess_return                float64\n",
      "State                         object\n",
      "last_modified                 object\n",
      "dtype: object\n"
     ]
    }
   ],
   "source": [
    "congress_inv['Traded'] = pd.to_datetime(congress_inv['Traded'], format='%A, %B %d, %Y')\n",
    "\n",
    "# Display the updated DataFrame and check the data types\n",
    "print(congress_inv)\n",
    "print(congress_inv.dtypes)"
   ]
  },
  {
   "cell_type": "code",
   "execution_count": 14,
   "metadata": {},
   "outputs": [
    {
     "name": "stdout",
     "output_type": "stream",
     "text": [
      "0   2024-03-13\n",
      "1   2024-03-07\n",
      "2   2024-03-07\n",
      "3   2024-02-29\n",
      "4   2024-03-08\n",
      "Name: Filed, dtype: datetime64[ns]\n"
     ]
    }
   ],
   "source": [
    "congress_inv['Filed'] = pd.to_datetime(congress_inv['Filed'], errors='coerce')\n",
    "\n",
    "# Check for any conversion issues\n",
    "print(congress_inv['Filed'].head())"
   ]
  },
  {
   "cell_type": "markdown",
   "metadata": {},
   "source": [
    "Cleaning up tickers data and replacing with a mapping of cleaned tickers"
   ]
  },
  {
   "cell_type": "code",
   "execution_count": 15,
   "metadata": {},
   "outputs": [
    {
     "name": "stdout",
     "output_type": "stream",
     "text": [
      "['NGL', 'FCX', 'V', 'APPLE INC. (XNAS:AAPL)', 'MSFT', 'BA', 'URI', 'TDG', 'DUK$A', 'ZTS', 'PFE', 'QCOM', 'SBLK', 'ASC', 'SSBK', 'GOGL', 'FLNG', 'LRLCY', 'ARLP', 'BBY', 'SBUX', 'AMD', 'PANW', 'ET', 'ACN', 'NVDA', 'AMAT', 'TGT', 'GLA', 'EQNR', 'PG', 'MMC', 'NWN', 'BDX', 'OKE', 'TEX', 'TXN', 'DBSDY', 'CHRD', 'ILMN', 'HUMA', 'PHG', 'KEY', 'AMZN', 'CTSH', 'UL', 'TSM', 'BKNG', 'MDT', 'REGN', 'MDB', 'META', 'KKR', 'LLY', 'NFLX', 'GLAS FUNDS, LP', 'HAMILTO', 'T$A', 'AFRM', 'SPG', 'LNG', 'TTD', 'DE', 'IBM', 'MRNA', 'FSLR', 'SCHW', 'MS', 'MSCI', 'GOOGL', 'EXAS', 'HTGC', 'COST', 'JPM', 'PRNDY', 'ALNY', 'ISRG', 'VIG', 'USFR', 'GOOG', 'BRK.B', 'LRCX', 'NOW', 'TSLA', 'AAPL', 'ON', 'APH', 'ABG', 'TPH', 'LOW', 'AGIO', 'INTC', 'RPM', 'MEDP', 'LAD', 'MRK', 'SYY', '4.WEEK, MATURE', 'AMGN', 'INTU', 'TJX', 'AON', 'CFG', 'CAT', 'MU', 'CME', 'NKE', 'ABT', 'CRM', 'CB', 'PKG', 'ABBV', 'MA', 'LMT', 'WMT', 'JNJ', 'GIS', 'SCCO', 'MNST', 'CLF', 'IDXX', 'FMAO', 'BABA', 'PAM', 'RTX', 'HQY', 'ADSK', 'DIS', 'NVO', 'COIN', 'GNTX', 'VUG', 'ADBE', 'XP', 'SPY', 'BAC', 'ES', 'AXP', 'ADI', 'AME', 'RACE', 'ENB', '3.MONTH, MATURE', 'APD', 'BLK', 'MET', 'TTE', 'W', 'AES', 'VLO', 'GBIL', 'ETRN', 'SCHX', 'CRT', 'MO', 'CAH', 'HSHCY', 'BAP', 'HELE', 'SSDOY', 'ALGM', 'PTEN', 'OCFC', 'NCLTY', 'GTLS', 'PYCR', 'XNGSY', 'PNGAY', 'SHLS', 'RY', 'AMEH', 'LOPE', 'CL', 'HSY', 'BMY', 'BP', 'MAG', 'ELF', 'SFM', 'CYBR', 'ETN', 'GS', 'BMI', 'SPXC', 'OLLI', 'FRPT', 'AXON', 'ORCL', 'SLF', 'UNP', 'DGX', 'XOM', 'DELL', 'S', 'VUZI', 'BX', 'DVN', 'TFC', 'NOC', 'PYPL', 'JKHY', 'ROP', 'HRL', 'TMUS', 'WST', 'CCI', 'DG', 'D', 'SHW', 'TSCO', 'AMT', 'VZ', 'DDOG', '6.MONTH, MATURE', 'EA', 'RF', 'PARA', 'WMB', 'PODD', 'CTVA', 'SHOP', 'FN', 'CELH', 'INST', 'HUBB', 'EXLS', 'FCFS', 'PXD', 'ALB', 'NEE', 'LZAGY', 'HEI', 'VAXX', 'INTA', 'HLI', 'HASI', 'UMBF', 'GLAS FUNDS', 'COP', 'UAA', 'KO', 'SBPYX', 'XCEM', 'GOLD', 'MDLZ', 'CVX', 'SMDV', 'FDRR', 'LIN', 'UPS', 'BUI', 'HD', 'DVA', 'KR', 'CSCO', 'SBCF', 'BK', 'ACI', 'USB', 'HAL', 'CVS', 'CI', 'PII', 'SNOW', 'HDGE', 'KMB', 'EFC$D', 'CMCSA', 'ALK', 'CMG', 'PPG', 'EL', 'PALL', 'UNH', 'URA', 'EW', 'ROK', 'GLPI', 'DTRUY', 'IRM', 'FNF', 'KD', 'MOS', 'EMR', 'FMC', 'DHI', 'AGX', 'CCLD', 'DEO', 'BNTX', 'FANUY', 'SONY', 'WFC', 'SBGSY', 'VLTO', 'PPRUY', 'AZO', 'SPGI', 'DHR', 'TMO', 'ICE', 'HLT', 'CSX', 'STZ', 'FI', 'HON', 'BSX', 'ELV', 'KLAC', 'PEP', 'COCO', 'IGSB', 'T', 'SHY', 'TLT', 'AAIC$B', 'CORP', 'HCA', 'SHEL', 'PWR', 'WBD', 'MMM', 'PCH', 'FIS', 'PM', 'MKL', 'FGBI', 'ASML', 'MCK', 'CHX', 'AORT', 'DASH', 'MCHP', 'OXY', 'LDOS', 'ULTA', 'EVVTY', 'DT', 'SAIC', 'UBER', 'USDP', 'TLH', 'TCMD', 'IP', 'CMBS', 'AGZ', 'X', 'MBB', 'JMBS', 'GIGB', 'EOG', 'MPW', 'BNS', 'ANET', 'ARCC', 'CLX', 'HPQ', 'MCD', 'GWW', 'LULU', 'SGEN', 'HDB', 'ALGN', 'PRIM', 'INSW', 'ICFI', 'ALG', 'UEC', 'GILD', 'VRTX', 'PLD', 'NEP', 'J', 'SYK', 'AVGO', 'C', 'NFE', 'BALL', 'PGR', 'PH', 'HWM', 'PSQ', 'FMBA', 'SHYF', 'GGG', 'SWKS', 'RMD', 'ITW', 'PHM', 'WU', 'FTNT', 'WMS', 'MPWR', 'MCO', 'NXPI', 'DAVA', 'UTZ', 'SLGN', 'ALGT', 'A', 'ADYEY', 'DIOD', 'SGIOY', 'GSK', 'NSC', 'PHR', 'VCYT', 'IART', 'VIAV', 'RVLV', 'RRC', 'CBSH', 'SMNNY', 'CRUS', 'TWKS', 'NVZMY', 'ADP', 'FOXF', 'SKY', 'GMAB', 'ODFL', 'BCRX', 'ATVI', '13.WEEK, MATURE', 'MAR', 'LPX', 'NU', 'DCO', 'UFPI', 'GPK', 'VOD', 'CMP', 'SCHW$D', 'JBL', 'EMXC', 'JEPI', 'VO', 'VOO', 'RVNC', 'VMW', 'GPCR', 'PAA', 'HIG', 'KMI', 'CMI', 'DTE', 'TDY', 'MMP', '91282CDR9', '912797LL9', 'AAM$A', 'NTR', 'GD', 'APA', 'PNC', 'WAL', 'CUBE', 'CF', 'VGR', 'YUM', 'IR', 'SQ', 'KVUE', 'BTO', 'NVS', 'GPP', 'FITB', 'VBTX', 'ARQT', 'AZTA', 'IFF', 'CYRX', 'CSPCY', 'WM', 'RCL', 'FMX', 'ATLKY', 'DXCM', 'IJR', 'FMCSX', 'QQQ', 'DFS', 'BR', 'ETR', 'FAF', 'CBOE', 'XEL', 'DORM', 'LAMR', 'BIO', 'COLD', 'NDAQ', 'WRB', 'HES', 'AOS', 'NSRGY', 'LBRDK', 'SUI', 'TEL', 'WSO', 'DD', 'CASY', 'WAT', 'SO', 'VNT', 'IT', 'GL', 'ARE', 'DUK', 'BWXT', 'AVY', 'BAH', 'MTB', 'FLR', 'FANG', 'POR', 'NSA', 'LKQ', 'SSNC', 'PCAR', 'RGLD', 'TT', 'EXPD', 'LNT', 'CRL', 'PRU', 'TSN', 'RBC', 'JCI', 'AI', 'AMLP', 'WCN', 'TIMB', 'FEP', 'TAK', 'CRWD', 'AGAE', 'INOD', 'BBEU', 'AQN', 'EME', 'NTLA', 'TWLO', 'LH', 'LUV', 'ASAZY', 'CHD', 'EFX', 'NTRS', 'STLA', 'DASTY', 'DBRG', 'CHGCY', 'PSX', 'JHEM', 'F', 'WTT', 'TPR', 'SOFI', 'WTW', 'RMBS', 'CC', 'SHV', 'DUE 10/01/203', 'PR', 'ROAD', 'LNC', 'SWX', 'ABNB', 'NSP', 'ALL', 'LSXMK', 'LSXMA', 'LLYVA', 'SEDG', 'LLYVK', 'WTKWY', 'SIGCY', 'FDS', 'AFL', '914476PV2', '506120KP8', '605699PU5', '784532JF1', 'CCL', 'WBA', 'HLN', 'KUBTY', 'AAGIY', 'BATRK', 'SAP', 'MELI', 'HLIO', 'IFNNY', 'SRPT', 'VTR', 'APTV', 'HMN', 'THO', 'DAR', 'SPOT', 'LSI', 'NXRT', 'BXP', 'DRH', 'RLJ', 'LBTYA', 'SR', 'SKT', 'SHO', 'ENTA', 'PHIN', 'HALO', 'CBU', 'CIEN', 'AVTR', 'WELL', 'TEAM', 'KHC', 'PECO', 'EXR', 'LVMUY', 'STT', 'EPAM', 'AAP', 'CLVT', 'TRIP', 'EVBG', 'UBA', 'IIPR', 'LBTYK', 'PARAA', 'ADC', 'EQR', 'SGH', 'BFS', 'HEI.A', 'PLTK', 'BEPC', 'CTRE', 'AMCX', 'KRG', 'HST', 'AVB', 'GTY', 'AMCR', 'STX', 'RLAY', 'MKTX', 'UDR', 'JAZZ', 'AYX', 'KLIC', 'MAA', 'TNDM', 'INN', 'LHX', 'ESS', 'PEAK', 'KRC', 'SBGI', 'TFX', 'ROIC', 'BGNE', 'UE', 'SBAC', 'CAG', 'MOH', 'WPM', 'CNC', 'ALEX', 'INVH', 'CHPT', 'ADM', 'BELFB', 'EXC', 'JBGS', 'HHC', 'KDP', 'SLG', 'IRT', 'FERG', 'RWT', 'CADE', 'EQIX', 'PK', 'DLTR', 'FCPT', 'ICHR', 'QDEL', 'OGS', 'IOT', 'YUMC', 'PEB', 'RBA', 'EPRT', 'EIX', 'PSA', 'EPR', 'PD', 'LUMN', 'KRYAY', 'SMNEY', 'SALRY', 'HKXCY', 'ALFVY', 'JHX', 'CCOEY', 'TM', 'DANOY', 'SHECY', 'IHG', 'LGRDY', 'BURBY', 'HCMLY', 'HOCPY', 'SXYAY', 'ARKAY', 'DKILY', 'IDEXY', 'TMICY', 'CSLLY', 'UPMMY', 'HESAY', 'BXBLY', 'HSBC', 'OLCLY', 'NRILY', 'PUBGY', 'BAESY', 'SMFG', 'VWAPY', 'SDVKY', 'ANZGY', 'JSGRY', 'SVNDY', 'SONVY', 'NOK', 'ANYYY', 'FJTSY', 'HMC', 'FRRVY', 'TRUMY', 'JTKWY', 'VACNY', 'BVVBY', 'PROSY', 'UMICY', 'UCBJY', 'STBFY', 'AAVMY', 'TEZNY', 'PANDY', 'GVDNY', 'TLGPY', 'SAN', 'PUK', 'IFJPY', 'AEG', 'TKAMY', 'ADRNY', 'SCMWY', 'RIO', 'MKTAY', 'ZURVY', 'TCEHY', 'CJPRY', 'GNGBY', 'CODYY', 'LOGI', 'SAXPY', 'AHKSY', 'SKHHY', 'MDIBY', 'NSANY', 'BTLCY', 'CRH', 'BAYRY', 'ISNPY', 'KBCSY', 'AZN', 'JSAIY', 'DLICY', 'NMR', 'IMBBY', 'MGDDY', 'CAJPY', 'JAPAY', 'UUGRY', 'RTO', 'CRZBY', 'DNNGY', 'ENLAY', 'SNY', 'QBIEY', 'BNTGY', 'EPOKY', 'GASNY', 'TTNDY', 'MFG', 'EBKDY', 'DNZOY', 'KMTUY', 'MIELY', 'CMWAY', 'MTSFY', 'VLVLY', 'SINGY', 'AKZOY', 'BDRFY', 'SGSOY', 'SPKKY', 'DSNKY', 'TKOMY', 'FSUGY', 'AONNY', 'SE', 'DRPRY', 'KGSPY', 'MTUAY', 'GBERY', 'ALC', 'SUTNY', 'YASKY', 'KIM', 'DNPLY', 'HSQVY', 'SKHSY', 'CLLNY', 'SNN', 'FUJIY', 'SOMMY', 'MSLOY', 'SMMNY', 'OTSKY', 'PRYMY', 'DTEGY', 'ESLOY', 'DWAHY', 'TOELY', 'BRDCY', 'MSADY', 'WJRYY', 'ARGX', 'OPHLY', 'SFTBY', 'MSSMY', 'MURGY', 'CGEMY', 'CLPBY', 'TLPFY', 'SCGLY', 'SMTOY', 'BNPQY', 'SMCAY', 'ABBNY', 'OVCHY', 'RHHBY', 'ZLNDY', 'SPXCY', 'SIEGY', 'MKKGY', 'MZDAY', 'BTI', 'KHNGY', 'YARIY', 'KNBWY', 'DSCSY', 'NWG', 'ASHTY', 'WPP', 'CZMWY', 'NRDBY', 'ALPMY', 'NICE', 'VCISY', 'LSRCY', 'RELX', 'SYIEY', 'YAMHY', 'SWRAY', 'NEXOY', 'MQBKY', 'AVVIY', 'DQJCY', 'SSREY', 'QABSY', 'JRONY', 'HXGBY', 'RNMBY', 'OCDDY', 'ICL', 'HEINY', 'HVRRY', 'NINOY', 'NDEKY', 'DFKCY', 'KSRYY', 'ADDYY', 'SSMXY', 'KDDIY', 'SMFKY', 'WRDLY', 'DB', 'MRAAY', 'AHEXY', 'NTDOY', 'ITTOY', 'ERIC', 'TMSNY', 'ISUZY', 'AMKBY', 'TEF', 'DNBBY', 'STM', 'UBS', 'LYG', 'ALIZY', 'SAFRY', 'ING', 'NABZY', 'AIQUY', 'TRYIY', 'CRARY', 'IBDRY', 'OLYMY', 'NTTYY', 'MUFG', 'ALLE', 'SUHJY', 'NNGRY', 'KNRRY', 'ATEYY', 'EDPFY', 'HDELY', 'HTHIY', 'NCBDY', 'NCMGY', 'TOTDY', 'MBGYY', 'AJINY', 'NJDCY', 'RANJY', 'FMS', 'NGG', 'MHGVY', 'ENGIY', 'KGFHY', 'EADSY', 'BBVA', 'KKPNY', 'BUD', 'VEOEY', 'SSEZY', 'AMADY', 'CHEOY', 'TTDKY', 'MTHRY', 'CMSQY', 'DBOEY', 'RPT', 'DHLGY', 'VWAGY', 'OMRNY', 'FBP', 'SWDBY', 'BMRRY', 'AXAHY', 'SOAGY', 'SZKMY', 'UOVEY', 'SKFRY', 'SVNLY', 'FRCOY', 'SKLTY', 'BDNNY', 'DNTUY', 'BCS', 'NTES', 'SOBKY', '8.WEEK, MATURE', 'MSI', 'PAYX', 'SNV', 'COF', 'BROS', 'VAL', 'FDX', 'OLPX', 'LCID', 'ATUS', 'DISH', 'QS', 'BIDU', 'SNPS', 'HUBS', 'SRE$A', 'FTV', 'ARGO', 'MATURE', 'GPN', 'PTON', 'SIRI', 'GLD', 'WBK', 'BELGIUM', 'REIT', 'NTAP', 'SIRE', 'OCLCF', 'JEF', 'BMO', 'AEP', 'FHN', 'CTAS', 'CINF', 'BCE', 'SON', 'AWK', 'DECK', 'NNN', 'AGR', 'TRU', 'IPG', 'USPH', 'CEG', 'KEYS', 'STATE OF', 'ABB', 'IQV', 'AQUA', 'ETSY', 'UI', 'SNAP', 'CCCS', 'PINS', 'VFC', 'AJG', 'LPLA', 'CCK', 'IVV', 'FQAL', 'SNDR', 'BRKR', 'SBIO', 'VSH', 'LGI', 'JHMM', 'FDN', 'AVNT', 'FIMKX', 'FCPIX', 'DGRS', 'MRVL', 'RTH', 'MRO', 'BHF', 'PEG', 'IYY', 'WFAFY', 'RSP', 'IWD', 'UA', 'CARG', 'SYF', 'RITM', 'KRTX', 'EDIT', 'AIG', 'CONN', 'UGI', 'COLB', 'NTNX', 'RNG', 'PLUG', 'NTRA', 'NOV', 'GM', 'HUN', 'ESRT', 'RGA', 'ARRY', 'MRTX', 'GTLB', 'ENPH', 'UAL', 'FOLD', 'AAT', 'NEM', 'TAP', 'UNM', 'SBRA', 'AXS', 'CWK', 'OUT', 'ZS', 'APO', 'VTRS', 'BILL', 'FCNCA', 'INSP', 'VNO', 'QTWO', 'LPSN', 'MLKN', 'LC', 'CSGP', 'VAC', 'FWONK', 'AKR', 'FLO', 'ROKU', 'OPEN', 'DLR', 'MDGL', 'WBS', 'FCEL', 'EWBC', 'NYCB', 'CPT', 'NFG', 'MRVI', 'YOU', 'WY', 'JLL', 'AGNC', 'CAR', 'DNB', 'AHCO', 'CHDN', 'CSII', 'MKSI', 'QSR', 'TREX', 'FLT', 'APPF', 'SCI', 'VCTR', 'CROX', 'MTD', 'GFI', 'DQ', 'NDSN', 'SSD', 'LMST', 'GRMN', 'RH', 'CNHI', 'GRFS', 'MONOY', 'VONOY', 'SKBSY', 'ASXFY', 'ECL', 'DPSGY', 'MITEY', 'NTDTY', 'SMPNY', 'BHKLY', 'SSB', 'VIASP', 'BOH', 'FRC', 'LTRPA', 'CS', 'MPC', 'WCC', 'ABCB', 'O', 'NUE', 'TYG', 'CIVI', 'WDS', 'SIVB', 'SCHD', 'SVC', 'CPB', 'BCC', 'OHI', 'CTLT', 'GMED', 'DEI', 'GO', 'ED', 'DAL', 'NLY', 'ATO', 'Z', 'APPS', 'ALLY', 'RJF', 'BMRN', 'BLNK', 'SILK', 'PAYC', 'SBNY', 'MKC', 'ELAN', 'HE', 'BRO', 'CDNA', 'HPP', 'CNP', 'INCY', 'PACW', 'BIIB', 'IONS', 'SRE', 'RIVN', 'IBRX', 'K', 'RTN', 'PFF', 'RUN', 'FIVE', 'UNICY', 'UNVGY', 'SGAPY', 'TOSYY', 'RCRUY', 'TELNY', 'NPPNY', 'ELUXY', 'ITC', 'KKOYY', 'CBZ', 'MATURIT', 'PFGC', 'FPI', 'SQM', 'BRK.A', 'KBE', 'VFH', 'BSM', 'CANO', 'LUBYX', 'GNR', 'VHT', 'MOO', 'QTEC', 'NXTG', 'CDL', 'LDP', 'ABYIX', 'MBXIX', 'SPGP', 'IGHG', 'VEEV', 'WDAY', 'VRSK', 'IBN', 'MTCH', 'RSG', 'ARWR', 'HZNP', 'SWAV', 'SYNH', 'MAXR', 'FATE', 'WIW', 'CHE', 'ICLR', 'ORLY', 'ENVX', 'SPWR', 'RBLX', 'HAS', 'ESALY', 'BAC.PL', 'RDSMY', 'AGI', 'MTSI', 'CG', 'CHRS', 'CMPS', 'BAX', 'TTWO', 'MUNI', '4.WEEK MATURE', 'PSO', 'JAPSY', '13.WEEK MATURE', 'SAND', 'WTRG', 'HOLX', 'ATKR', 'TU', 'FAST', 'BHP', 'SRVR', 'MGM', 'GEHC', 'GE', 'RNWK', 'SUPN', '91282CFN6', 'COHR', 'GNRC', 'AKAM', 'FISV', 'ARCB', 'SWK', 'BLL', 'WYNN', 'MASI', 'ATHA', 'CRGY', 'GEVO', 'MNRL', 'NTST', 'AVXL', 'TELL', 'PCVX', 'SWTX', '912796ZP7', 'CTRA', 'XPRO', 'KURA', 'AROC', 'DOC', 'KRYS', 'SAVA', 'KALV', 'NESR', 'BLFS', 'HLX', 'HP', 'NOTV', 'RLMD', 'INSW.V', 'CMTG', 'COGT', '912796YJ2', 'INSM', 'SGENX', 'SCHP', 'ESI', 'GFL', 'FFIV', 'BFAM', 'FOUR', 'ACHC', 'BKI', 'ENTG', 'BLDR', 'GT', 'XYL', 'PLNT', 'CDW', 'AZEK', 'LYV', 'REZI', 'MAT', 'LESL', 'BBWI', 'USFD', 'VRT', 'DSEY', 'BERY', 'MLM', 'VICI', 'SMG', 'QRVO', 'CZR', 'CLR', 'ZIMV', 'SSLTY', 'TREASURY INFLATIO', 'ZBH', '6.MONTH', 'BATRA', 'AMP', 'CR', 'QYLD', 'LBRDA', 'BTEC', 'FSMDX', 'FLYW', 'EFA', 'IRBT', 'COUP', 'HSAC', 'AKRO', 'KOD', 'BCEL', 'OCGN', 'ENOB', 'TLRN', 'SI', 'U', 'VYM', 'MAIIX', 'FHYS', 'FDEV', 'BAGIX', 'TWTR', 'AE', 'JOE', 'BMN', 'KBH', 'FB', 'FAS', 'USO', 'FTBFX', 'ANDE', 'CPXWF', 'CCXI', 'EFAD', 'GMRE', 'GSMYX', 'ISEE', 'PLL', 'AEE', 'AMLX', 'BRCM', 'PPL', 'PCTY', '912796X87', 'BRMK', 'VTNR', '912796U31', 'EXPE', 'ELS', 'TROW', 'SH', 'SEIC', 'WIT', 'HQL', 'NID', 'DGRO', 'IMKTA', 'AA', 'MGY', 'WRK', 'NEWT', 'SJT', 'KMX', 'ARKK', '91282CFG1', '912796YH6', 'MFH', 'STAG', 'CVET', 'LGF.B', 'ABMD', 'ONEQ', 'FCNTX', 'IVW', 'CHTR', 'ROST', 'FBKWX', 'ECOM', 'NHI', 'SSYS', 'PTC', '912796XQ7', 'BKEPP', 'XLE', 'OZKAP', 'CDNS', 'HIL', 'AMC', 'FINX', 'IJS', 'MS$P', 'EELV', 'KRE', 'CEF', 'GDXJ', 'RPD', 'PRF', 'GSSC', 'CIBR', 'GSIMX', 'CFA', 'FIASX', 'PYPLV', 'DPZ', 'EMN', 'DURA', 'CMA', 'FICO', 'CARR', 'DRI', 'VRAI', 'REG', 'L', 'CE', 'NVR', 'WHR', 'MAS', 'FIP', 'KNOP', 'ABNFX', 'OC', 'DHS', 'XLY', 'MUB', 'EFAV', 'PCNNX', 'IDV', 'JHCBX', 'XLC', 'BURL', 'SCHF', 'GXO', 'NOVT', 'AATC', 'VTRSV', 'STNG', 'AR', 'UBSI', 'ESTE', 'SM', 'ASBC', 'GNKOQ', 'CDEV', 'PBA', 'UVV', 'TXT', 'TIP', 'SPR', 'IBDO', 'IBDQ', 'VTIP', 'MFC', 'BEKE', 'EPD', 'CWEN.A', 'FNB', 'TXRH', 'AGCO', 'NWBI', 'LHCG', 'ITT', 'RTL', 'EVT', 'IMAX', 'RC', 'AXSM', 'UUUU', 'IWN', 'ACAD', 'FIXD', 'CPE', 'ALLK', 'MAC', 'PLAN', 'NAT', 'KOS', 'NBR', 'NEX', 'GNK', 'SHYG', 'IWB', 'ASB', 'BRBR', 'CERN', 'AMBP', 'U 3%25CD', 'CMS', 'WEC', '912796U49', 'PPA', 'PAVE', 'OXBR', 'VCSH', 'MTBC', 'UPST', 'FWONA', 'FLL', 'ORI', '91282CEG2', 'CHKP', 'DRE', 'LMND', 'MP', 'Y', 'NEE$Q', 'JD', 'SCHH', 'CRNC', 'SDC', 'IWM', 'SPCE', 'UGRO', 'TLRY', 'USAC', 'ECOL', 'T+A', 'R', 'CP', 'SNA', 'CABO', 'EXP', 'BKE', 'NEO', 'TWST', 'AMH', 'ARKG', 'JBI', 'DOW', 'KWEB', 'NNGPF', 'UPMKF', 'VALE', 'PSMMY', 'TGOPY', 'EVRG', 'VOLVY', 'NTT', 'WPC', 'BTVCY', 'ASX', 'DNHBY', 'PWCDF', 'TSCDY', 'SKHCY', 'CSTL', 'BANC$E', 'BLKB', 'FLEX', 'MGA', 'AZSEY', 'TACO', 'GBCI', 'ANTM', 'IAA', 'KMI.W', 'CVNA', 'GFS', 'BBH', 'PBCT', 'ENLC', 'FANUF', 'DAIUF', 'TRNO', 'KAI', 'PI', 'CGNX', 'GH', 'LVMHF', 'IAU', 'FNV', 'PDM', 'DISCA', 'LVS', 'XYIGY', 'AM', 'TRI', 'SCHZ', 'PSXP', 'ICUI', 'NUVA', 'PFFV', 'FE', 'VRP', 'HXL', 'FPE', 'FSP', 'GEMIX', 'LUBFX', 'PTMC', 'BOOT', 'ITA', 'XAR', 'EFG', 'IEUR', 'FLGB', 'SPHB', 'PBFX', 'AXTE', 'AXHE', 'ILPT', 'AB', 'KBA', 'IVOO', 'BEN', 'BTC', 'PSDTX', 'BXMT', 'ABC', 'PONCX', 'HTZWW', 'PATK', 'OLP', 'OTIS', 'DTM', 'KYN', 'AY', 'GLAD', 'PTNQ', 'TDC', 'FXI', 'WES', 'GLW', 'ORMP', 'GVA', 'BF.B', 'ABQCX', 'PEGA', 'FGSCX', 'CLOU', 'NWL', 'FUN', 'FUND 2', 'SRLP', 'FUND 2 LTH', 'DCI', 'ZM', 'SLB', 'HSIC', 'WEX', 'FHLC', 'IS', 'INFO', 'ENVA', 'CLDT', 'NS', 'PNFP', 'CCEP', 'BKEP', 'SPLK', 'RNR', 'CSL', 'SCU', 'RHP', 'QMCO', 'IXJ', 'SHLX', 'IYZ', 'SPH', 'ITCI', 'MPLX', 'CEM', 'FVRR', 'ITUB', 'ASXC', 'RNGR', 'WRK.V', 'PENN', 'VRM', 'RXT', 'PAGS', 'MTX', 'CORPORAT', 'TRUP', 'HBAN', 'XRAY', 'BCPC', 'SLVM', 'CTAA', 'KPLTW', 'ORCC', 'OFC', 'CONE', 'FDIS', 'LITE', 'FTEC', 'TDOC', 'FSK', 'HIPO', 'UN', 'KYOCF', 'FPEI', 'MITK', 'VAIAF', 'TNC', 'COR', 'FBND', 'INDB', 'MAIN', 'LZ', 'CAPL', 'EBS', 'HTLD', 'SRLN', 'ENBL', 'MSB', 'BEP', 'APAM', 'DWAC', 'CARDONA', 'BE', 'KPLT', 'CLNE', 'FMAT', 'CALX', 'DUKH', 'DIAL', 'LRNZ', 'COMM', 'GLP', 'AAL', 'GPS', 'OSW', 'MDNDF', 'ATHM', 'GCGMF', 'NRDY', 'LW', 'WWD', 'GEL', 'WLTW', 'WCLD', 'CRSP', 'PEJ', 'AVYA', 'RLGY', 'MDY', 'GDDY', 'AMJ', 'BLDP', 'PRGS', 'PGX', 'CREE', 'BWA', 'LMRK', 'VSCO', 'XLRE', 'IBUY', 'NVVE', 'CHWY', 'WW', 'ESGC', 'CNA', 'TRV', 'VIAC', 'ROLL', 'XPO', 'ORAN', 'SAM', 'RDSA', 'QTS', 'MONTGOMERY, AL .2, SCHAUMBERG, IL .1', 'ALXN', 'MTUM', 'DTD', 'NLOK', 'LTD', 'VXX', 'AESE', 'FBALX', 'FDRXX', 'MRIN', 'NVCR', 'AMZA', 'HNDL', 'TOTZF', 'ETV', 'CDK', 'AQB', 'RAMP', 'TRIT', 'TNL', 'OGN', 'SITE', 'MTDR', 'STOR', 'BHI', 'GME', 'LEA', 'CCC', 'PLTR', 'AMRC', 'TTEK', 'DOV', 'ALYF', 'STAY', 'GBTC', 'TBBC', 'ETHE', 'WLK', 'VRSN', 'CWH', 'TCF', 'TER', 'SF', 'ATRC', 'JNPR', 'MANT', 'IPGP', 'DOCU', 'LEG', 'WSM', 'TPCO', 'DIN', 'CHGG', 'CELC', 'BALY', 'FFG', 'VVNT', 'BRKS', 'TLK', 'AEIS', 'BOWX', 'NIO', 'VMC', 'APPAD', 'FDSWX', 'LDNXF', 'FL4.SG', 'KTOS', 'ICSH', 'HNST', 'QRTEA', 'HAE', 'LL', 'PCRX', 'TREE', 'SABR', 'BRP', 'GSS', 'YTRA', 'GFN', 'EMKR', 'TGNA', 'GPRO', 'PART INTEREST', 'VAR', 'VPU', 'BPMP', 'SU', 'RHHBF', 'GAN', 'NUAN', 'AMTX', 'ORA', 'OMCL', 'CMLTU', 'NYT', 'WAB', 'CENT', 'CWEN', 'HOFV', 'ETWO.W', 'SHAK', 'QCRH', 'HRTX', 'FUND', 'GTN', 'CACI', 'MCS', 'IEX', 'EBAY', 'CNR', 'QRTEP', 'NASDAQ', 'GDRX', 'NI', 'BJ', 'ARMK', 'ACST', 'CTRM', 'ESTC', 'RDS.A', 'ROG', 'HCRB', 'CMLFU', 'POOL', 'VOX', 'D/B/A ELLIOTT', 'NCLH', 'FIVN', 'SLAB', 'PFPT', 'BKR', 'VIVO', 'OSUR', 'WSC', 'GPC', 'DGNR', 'APHA', 'LUKOY', 'FUPBY', 'BL', 'CNI', 'ERJ', 'RDS.B', 'ABEV', 'CLGX', 'AOSL', 'HRC', 'AL', 'ST', 'EHC', 'SOLO', 'SC', 'LYB', 'XEC', 'ATH', 'UNVR', 'WYND', 'OMF', 'OKTA', 'LYFT', 'DXC', 'IPWR', 'ZG', 'TOL', 'WH', 'SEE', 'ARNA', 'FEMS', 'GGSM', 'EEM', 'CRON', 'GRUB', 'ACB', 'CGC', 'AAIGF', 'MJNA', 'YETI', 'DOMO', 'QUMU', 'XCAPX', 'HUM', 'DMTK', 'DDD', 'PPC', 'EVOP', 'FSLY', 'JIH', 'LEE', 'LMACU', 'NYMX', 'SJM', 'DKNG', 'GBDC', 'SDOG', 'ZOOM', 'DAN', 'JETS', 'PCPL', 'AUY', 'TKC', 'MLYNF', 'TSCDF', 'NCMGF', 'RODM', 'JGCCF', 'VIV.V', 'WOLWF', 'OGFGF', 'MJDLF', 'PDS', 'CEMCF', 'WAIR', 'CIG', 'FSKR', 'VIV', 'AIO', 'FEYE', 'ACGL', 'AJRD', 'TIF', 'LI', 'CHNG', 'CNF', 'FLIR', 'PCPL.U', 'QQXT', 'XLB', 'ARW', 'SRNE', 'LB', 'ASMB', 'XLF', 'RETA', 'EDU', 'HII', 'PSTH', 'HDS', 'FTDR', 'NGLS', 'NBIX', 'EXPI', 'ETY', 'CHL', 'CTXS', 'ARNC', 'VSAT', 'CATM', 'RAD', 'DNKN', 'PRAH', 'SNE', 'AIV', 'THR', 'NVGS', 'ZUO', 'BLUE', 'GSLC', 'CEQP', 'WORK', 'NTRP', 'ZBRA', 'LAND', 'BGG', 'CCMP', 'YEXT', 'WIX', 'GMLP', 'FVD', 'SWN', 'CTRCF', 'REGL', 'PASO', 'VRTU', 'RBCAA', 'HBI', 'PSIX', 'PAAS', 'FISI', 'ACIW', 'PTLC', 'BIP', 'IPHI', 'FUBO', 'OIH', 'SMLP', 'DBX', 'SDXAY', 'ANZBY', 'HLDCY', 'AGESY', 'NTXFY', 'AER', 'BASFY', 'FUJHY', 'WOPEY', 'TLSYY', 'CSLT', 'TOT', 'MFGP', 'MRWSY', 'TEVA', 'GLPEY', 'VOPKY', 'ATASY', 'CAJ', 'SSUMY', 'HSNGY', 'MLCO', 'KPELY', 'DLAKY', 'FINMY', 'OMVKY', 'POAHY', 'RYCEY', 'REPYY', 'IX', 'CUK', 'ACSAY', 'HLPPY', 'EJPRY', 'TLSNY', 'NTOIY', 'E', 'CNS', 'MITSY', 'TS', 'IPXHY', 'HRI', 'MPLN', 'GLOP', 'CVI', 'BYND', 'MMLP', 'AMN', 'VAW', 'SKX', 'BEEM', 'GWPH', 'ACM', 'XLNX', 'RCI', 'APEN', 'PPBI', 'GWRE', 'CSIQ', 'PRLB', 'LGND', 'NBLX', 'OLED', 'PRAA', 'FLCB', 'SPTM', 'FLCO', 'EBSB', 'CATY', 'GOVT', 'VWO', 'VDC', 'FLQL', 'CRY', 'VEA', 'PRA', 'NEOG', 'WSTL', 'TECH', 'NVAX', 'ANSS', 'ROL', 'LII', 'AMED', 'CMLF', 'USMV', 'ESGU', 'VTI', 'IEFA', 'PUTW', 'IEF', 'VLUE', 'IHI', 'DSU', 'XSOE', 'DIV', 'EVV', 'BTZ', 'YNDX', 'CDAY', 'NBL', 'AMTD', 'WKHS', 'ETFC', 'BREW', 'PBF', 'WPX', 'LEVI', 'AVLR', 'PKI', 'ATOAX', 'SVCBY', 'ENR', 'RHI', 'CHUY', 'DRQ', 'POST', 'FHB', 'TGTX', 'SNX', 'BAND', 'USMC', 'INO', 'ANY', 'POWI', 'AMWD', 'BHC', 'CCXX', 'FTA', 'RUSHA', 'MYE', 'DOX', 'SKVKY', 'KMPR', 'XLV', 'CWB', 'WDC', 'SDY', 'BGFV', 'DCP', 'RAND', 'HFC', 'ZI', 'PGNY', 'OSK', 'WDFC', 'NWE', 'CBRE', 'IAC', 'BECN', 'SIL', 'SYPR', 'SPKE', 'BIPC', 'RXN', 'PROF', 'NKLA', 'HUYA', 'TMUSR', 'MSBHY', 'NMIH', 'TCOM', 'DUSA', 'VSLR', 'GGT', 'DLS', 'BAM', 'SFST', 'CXW', 'WK', 'LTHM', 'BLFSD', 'LEN', 'LEN.B', 'KIDS', 'BDC', 'STWD', 'TFFP', 'INFR', 'ISD', 'EFV', 'VV', 'REYN', 'NVIGF', 'BDN', 'SKYY', 'PRJAX', 'PSNL', 'SPSC', 'ETP', 'ITOT', 'AGN', 'ADS', 'IVZ', 'FLS', 'FLXN', 'CMD', 'EVH', 'FNMA', 'IBKR', 'MORN', 'BRY', 'SERV', 'BIF', 'CTECBX', 'ONTO', 'HCSG', 'HOG', 'HRB', 'CTL', 'NWS', 'NWSA', 'AYI', 'LBDAV', 'GLIBA', 'ASGN', 'POEFF', 'DEACU', 'PS', 'RQI', 'SOJA', 'FRIAX', 'CAIFX', 'TRP', 'SUN', 'PAGP', 'TCP', 'TRGP', 'SSL', 'M', 'AXTA', 'EQM', 'BOIVF', 'UTX', 'EAF', 'UHAL', 'PNQI', 'FOXA', 'FOX', 'URBN', 'ACA', 'MSM', 'RL', 'DIA', 'UPLD', 'AIZ', 'NNVC', 'HAYN', 'GLNCY', 'MTSC', 'AIMC', 'NXST', 'DISCK', 'QLEIX', 'PFG', 'FPL', 'ZION', 'AMG', 'GEM', 'BOTZ', 'HCN', 'OAYIX', 'KSS', 'KNX', 'JWN', 'IAT', 'GLOB', 'DSGX', 'UNF', 'IDA', 'AIR', 'VONE', 'FEI', 'HTZ', 'PLYA', 'CIM', 'GOOS', 'FRT', 'QGEN', 'HTA', 'BYD', 'AAN', 'AVT', 'CEMI', 'TLND', 'SZEVY', 'CRRFY', 'RNLSY', 'BG', 'RDEIY', 'CDLX', 'GEAGY', 'PCRFY', 'VC', 'PVH', 'DSDVY', 'HNNMY', 'COTY', 'HLUYY', 'NATI', 'RWEOY', 'PDYPY', 'CCLAY', 'SWGAY', 'WCAGY', 'ENGGY', 'CPRI', 'RBS', 'STE', 'JBAXY', 'HPE', 'SWMAY', 'UHS', 'PRGO', 'SNP', 'AVNS', 'MHK', 'NVEE', 'MEOH', 'JMP', 'JBT', 'EGHT', 'RP', 'KTB', 'ENS', 'ANIK', 'NEWR', 'BBBY', 'FTSM', 'WCMIX', 'FDL', 'COO', 'MTN', 'ENV', 'INMD', 'BSTZ', 'CNK', 'NULG', 'SPYG', 'IGV', 'CFR', 'HZN', 'QSY', 'FNKO', 'DENN', 'EEFT', 'VWDRY', 'KRNT', 'PRSP', 'OMC', 'CSQ', 'SNNUF', 'CHRW', 'TCO', 'WMGI', 'POL', 'KL', '912796WX3', 'BMEZ', 'FRFHF', 'GSAH', 'WCG', 'SANM', 'LPT', 'AROW', 'GRA', 'FMCMF', 'CENTA', 'GCP', 'XRT', 'ADTN', 'BIV', 'FIKMX', 'VFIJX', 'IVE', 'IHS', 'TSS', 'TGBAX', 'GTX', 'FBSI', 'SPN', 'EXPO', 'HACK', 'QUAD', 'ERH', 'CWST', 'NLSN', 'CBS', 'VIAB', 'MYL', 'CMPR', 'CBT', 'CLNC', 'NPSNY', 'GCI', 'CELG', 'DDAIF', 'ECA', 'FND', 'TRHC', 'CLB', 'RGNX', 'AYR', 'CLS', 'IBKC', 'IIVI', 'TWO', 'SIX', 'CAE', 'MN', '12/01/37', 'CBM', 'INDA', 'ZEN', 'MD', 'TWOU', 'MDRX', 'MIDD', 'TYL', 'ERI', 'XBI', 'RYAOF', '3V64.TI', '0QZI.IL', 'JNK', 'LM', 'BPL', 'PRO', 'UPMKY', 'ATR', 'LNN', 'CBL', 'GFSZY', 'DIFTY', 'CLNY', 'PBSFY', 'JMHLY', 'HENOY', 'BZLFY', 'SEMG', 'SNH', 'ETM', 'DNSKY', 'TVTY', 'RCKY', 'CARS', 'UCON', '912796SH3', 'DUE 7/01/20', 'APC', 'JEC', 'MDSO', 'VST', 'TUP', 'MSTR', 'MGP', 'COT', 'KAR', 'PLAY', 'NEU', 'APT', 'DUE 10/01/37', 'DUE 08/01/25', 'REVB', 'APNHY', 'PDCE', 'MINI', 'ANDX', 'IJH', 'ALRM', 'MALOX', 'NRG', 'VPMAX', 'IWF', 'TSCIX', 'GTCSX', 'TCBI', 'RHT', 'BAMXY', 'STI', 'HUB.A', 'WAGE', 'TMK', 'RDUS', 'ARI', 'SRC', 'WING', 'APVO', 'MED', 'HIW', 'FII', 'IRTC', 'CHH', 'ADUS', 'CCOI', 'HL', 'HCP', 'PLCE', 'AXGN', 'G', 'AMBA', 'PGRE', 'WAFD', 'WTS', 'TRMK', 'LANC', 'PNW', 'OXM', 'APLE', 'LLL', 'CVLT', 'FFIN', 'GBT', 'CXP', 'TRMB', 'BOOM', 'SITC', 'UMPQ', 'VRNS', 'FBC', 'BXS', 'H', 'DLB', 'MANH', 'REXR', 'PB', 'EGBN', 'BKU', 'CDE', 'FIBK', 'AWI', 'DNOW', 'LAUR', 'PNR', 'SMGZY', 'BBT', 'RDSA.AS', 'AZPN', 'EXEL', 'ARR', 'MTH', 'FDC', '40056FN84', 'FFRHX', 'MDXG', 'WBC', 'AMRX', 'INFY', 'PDRDY', 'RBGLY', 'GMXAY', 'KOSCF', 'SMECF', 'OOCP', 'CABGY', 'NJ', 'RYDBF', 'PKCOY', 'KYCCF', 'IEMG', '40055AY43', 'CTRL', 'AVP', 'ESGR', 'JGCCY', 'DWDP', 'GDV', 'PBYI', 'KMT', 'AMBR', 'TPX', 'HPT', 'EGY', 'CNDT', '07/01/36', '07/01/28', 'TDS', 'XRX', 'DMRC', 'MGPI', 'ABM', 'RDFN', 'SCHN', 'DBD', 'UBNT', 'WP', 'ULTI', 'EAT', 'ESNT', 'BIG', 'VCRA', 'LLDTF', 'ADSW', 'UNCHF', 'NTDMF', 'SFTBF', 'WGO', 'VIOT', 'SWH', 'PUMP', 'TMHC', 'CCS', 'WDR', 'CRI', 'II', 'TORIX', 'SUP', 'ELLI', 'INGR', 'BOKF', 'LCII', 'CHEUY', 'VET', 'LFUS', 'DCM', 'JRVR', 'CM', 'GOLF', 'WASH', 'BLX', 'AIN', 'AGO', 'EGP', 'BGS', 'BGCP', 'PNM', 'CNSL', 'MAN', 'HOPE', 'HNI', 'FUL', 'CNMD', 'ALE', 'DUK PA', 'FTS', 'HA', 'DKS', 'ALV', 'WGHPY', 'OZK', 'NMRK', 'AHONY', 'MSA', 'DK', 'JCOM', 'LECO', 'PRNHX', 'FSTFX', 'FFHRX', 'FLMVX', 'HRS', 'EYE', 'PER', 'UTGN', 'RCII', 'TFCFA', 'DOOR', 'OGE', 'GBX', 'TFCF', 'FF', 'CTRP', 'XSLV', 'XENT', 'CTB', 'UTHR', 'BH', 'DPLO', 'IBP', 'GBOOY', 'DEA', 'EXG', 'MSG', 'CPRT', 'JJSF', 'APU', 'CNXM', 'CINR', 'SPKEP', 'ZAYO', 'HESM', 'SAVE', 'ORBK', '912796QV4', 'ATHN', 'BFET', 'GCO', 'PSB', 'ESRX', 'UFS', 'ANCX', 'TNTOF', 'NAVI', 'AX', 'OPI', 'SNHY', 'CCT', 'THG', 'IXP', 'LABL', 'AMSF', 'BEL', 'AOBC', 'TVPT', 'WB', 'PETQ', 'LLESY', 'VGT', 'MC', 'CVGW', 'PEGI', 'KN', 'PCG', 'ESL', 'SONO', 'PTLA', 'SCG', 'CXO', 'VOE', 'VB', 'ARAV', 'BKCC', 'MIC', 'RA', 'MZOR', 'FTAI', 'MMS', 'VCR', 'VTV', 'SEKEY', 'MRT', 'SIR', 'LN', 'AMCRY', 'CATO', 'CPYYY', 'ASOMY', 'VLEEY', 'STAR', 'SHPG', 'GOV', 'GFAFX', 'OMI', 'INGIY', 'AHT', 'BHR', 'FSNUY', 'NRBAY', 'SMTA', 'VLP', 'EMLP', 'LM09.SG', 'VWNAX', 'HR', 'SAFM', 'MAIPX', 'XON', 'WGP', 'BBAVY', 'SRCL', 'EQGP', 'IWO', 'PKB', 'PCY', 'HAINX', 'MT', 'BBL', 'STLD', 'ICAGY', 'EMB', 'SLQD', 'EMLC', 'PGF', 'BHGE', 'BRKB', 'AMGP', 'DM', 'WBT', 'BV', 'AET', 'IEZ', 'BAMXF', 'INGN', 'TI', 'AIVAF', 'TKPYY', 'ASBFY', 'MTZPY', 'ROYMY', 'FPAFY', 'CDR', 'ITVPY', 'STRNY', 'YAHOY', 'ACGPF', 'HAIN', 'ARRS', 'SOMLY', 'CA', 'NRZ', 'LXFR', 'PX', 'PRI', 'MSTY.PA', 'SMAWF', 'VSM', 'LSTR', 'ABX', 'ETE', 'DFIN', 'KS', 'RVI', 'EVHC', 'CBLK', 'ONE SHARE FOR ONE SHARE', 'CNQ', 'CCJ', 'SHOO', 'ASND', 'ENLK', 'NVT', 'MLPX', 'HOMB', 'TBT', 'EDR', 'AN', 'IDTI', 'CCH', 'JG', 'SSMXF', 'CUTR', 'GPT', 'KSU', 'ROBO', 'RPG', 'EMGF', 'FTI', 'COTV', 'OZM', 'LOGM', 'DLPH', 'NYLD', '912796QX0', 'VNQ', 'TIS', 'NOKBF', 'GOOCV', 'TANN', 'WPZ', 'MXL', 'WPG', 'PSEC', 'CX', 'IGIB', 'TGE', 'QCP', 'XT', 'UNFI', 'IIN', 'PBR', 'BAF', 'RMP', 'CASH', 'SURG', 'PSTG', 'HGV', 'VRAY', 'CRMT', 'NKTR', 'TWX', 'NORTHWESTER', 'LQD', 'LTC', 'HSTM', 'BAYZF', 'WINA', 'OZRK', 'USG', 'ECPG', 'AHGP', 'CODI', 'DVMT', 'TTM', 'GTES', 'APY', 'GOGO', 'INOV', 'MIK', 'YELP', 'BOX', 'ALLY.A', 'TKGBY', 'TOTL', 'IYE', 'CHK', 'IBM.MX', 'VGK', 'EV', 'SEP', 'CGNT', 'TEP', 'INVESTMEN', 'CDXS', 'ACXM', 'ODVYX', 'BKD', 'FINL', 'CLNS', 'BRX', 'DDR', 'BT', 'SKYAY', 'CCIZX', 'TATYY', 'LXP', 'WARFY', 'DPS', 'NYLD.A', 'YTEN', 'VRNT', 'RYT', 'IYT', 'LVNTA', 'XSD', 'FDUS', 'FNGN', 'CALD', 'APTS', 'FTSI', 'CVA', 'ILG', 'PDCO', 'CSRA', 'MHLD', 'SCHA', 'PCLN', 'GNL', 'JCAP', 'VER', 'PEI', 'HIFR', 'COL', 'TNTR', 'IHE', 'NILSY', 'RYAAY', 'ALOT', 'GRPN', 'IYR', 'BIVV', 'OA', 'HIBB', 'FET', 'TTP', 'VNTV', 'LSCC', 'AXE', 'CBG', 'TCX', 'GXP', 'RGC', 'PFS', 'OAK', 'ENTL', 'OREX', 'FIT', 'LGIH', 'AFT', 'ESV', 'BETR', 'MTCIX', 'FSD', 'TEGP', 'OI', 'AFSI', 'LKSD', 'INWK', 'ITYBY', 'SMGIX', 'CQP', 'MLPA', 'WIN', 'TUES', 'RELL', 'ASPN', 'ELGX', 'TV', 'MRLN', 'IDT', 'TCPC', 'RSPP', 'CSGKF', 'CMLPSX', '36966R5P7', 'SOUHY', 'LVLT', 'CAA', 'IPXL', 'TEUM', 'BONT', 'ATOS', 'DXTR', 'ADRE', 'NGLS$A', 'FNI', 'ZIOP', 'TRXC', 'NEOT', 'RCON', 'NETE', 'HLF', 'LBIX', 'VDE', 'INFI', 'TIXC', 'SCX', 'OTIC', 'WPPGY', 'SGBK', 'WTR', 'WF', 'TCS', 'LNEGY', 'OPK', 'GAMR', 'ANF', 'FV', 'Q', 'BCR', 'SPLS', 'ITEK', 'NPSND', 'VTKLY', 'TD', 'MNK', 'CMPGY', 'JSMD', 'JSML', 'DD.PA', 'NPK', 'EXXI', 'WFM', 'RTNB', 'MWA', 'ARCI', 'ACC', 'VOT', 'VOYA', 'IUSG', 'IUSV', 'FXD', 'SRF', 'PHLD', 'SHPGF', 'RAS', 'NVDQ', 'CYTR', 'CAPR', 'RAI', 'PEY', 'TEAR', 'AEZS', 'CCE', 'CBAY', 'ZN', 'FTR', 'TTC', 'ABDC', 'MBFI', 'ZNGA.SW', 'ORKLY', 'CIU', 'SLV', 'OUNZ', 'JCS', 'OKS', 'CST', 'WLL', 'EONGY', 'MCC', 'NFX', 'CCP', 'CLSN', 'MXIM', 'MDC', 'AFAM', 'TLLP', 'DCTH', 'AINV', 'QTM', 'VNCE', 'VEVIX', 'SLM', 'CLNS$A', 'GTOMY', 'VIVHY', 'UNIT', 'JHB', 'POT', 'JNS', 'PE', 'COH', 'JNUG', 'MNRO', 'OCN', 'FNBC', 'CWEI', 'LCI', 'FTK', 'SZYM', 'CEB', 'PRXL', 'AGU', 'WETF', 'TLRD', 'CMTL', 'IJJ', 'ERIE', 'CMCSK', 'VSAR', 'MLPI', 'RYH', 'FL', 'RVT', 'WOOF', 'LLTC', 'IYH', 'NVG', 'VCIT', 'CLC', 'FCGYF', 'MJN', 'IBB', 'ALOG', 'KERX', 'ACRE', 'GCBC', 'RMBFX', 'AQFH', 'SXL', 'BABY', 'FNMAJ', 'XLI', 'NEE.PC', 'NGD', 'XLP', 'WFT', 'IMGN', 'CLMS', 'DBEF', 'COG', 'PLM', 'MGU', 'REMX', 'ASHS', 'TRN', 'SYNA', 'ZNGA', 'OLCB', 'IAI', 'NSR', 'ISDR', 'MAXD', 'AEXAY', 'FGP', 'IXYS', 'STRZA', 'HBHC', 'TGP', 'TLN', 'DRYS', 'IM', 'SBH', 'NEE.PRI', 'GDX', 'MDU', 'SCTY', 'ADNT', 'JCP', 'CAB', 'NHF', 'DPM', 'ASIX', 'ANGO', 'LEXEA', 'BACWSA', 'IQNT', 'ACE', 'DLX', 'SYRG', 'COKE', 'GPOR', 'EBF', 'ENH', 'SNI', 'UNRDY', 'EGO', 'HOT', 'BUNT', 'GRX', 'CICHY', 'KEP', 'DIISY', 'GIL', 'MDVN', 'AMX', 'OTEX', 'TDHOY', 'MATX', 'EMC', 'TYC', 'TSEM', 'HYH', 'STON', 'ELRC', 'RGT', 'YRD', 'EUO', 'MOAT', 'MGRC', 'SIMO', 'JACK', 'QIHU', 'AXLL', 'MRKT', 'BBU', 'MMHIX', 'LILA', 'FXP', 'TECO', 'GAS', 'DWX', 'PNPFF', 'GG', 'SLW', 'AEM', 'REE', 'PAL', 'PLGTF', 'FCG', 'KGC', 'UA.C', 'CPGX', 'BURFX', 'MON', 'DTO', 'PAY', 'LNCE', '3305779', 'CAFD', 'MBLY', '4824778', 'RELY', '6897143', 'BIOA', 'ITRI', 'B13WZ26', 'BLM7FC2', 'RAVN', '5522714', '4491235', 'FLTX', 'MXWL', 'SSNI', 'B1W8P14', 'BXLT', 'NGVT', 'BIN', 'FDM', 'IRLBF', 'ARG', 'OIL', 'PKW', 'WOR', 'NRF', 'NRE', 'TWC', 'KKD', 'SYT', 'MYRG', 'SNDK', 'SYY.SG', 'TCAP', 'STJ', 'XER.BE', 'AIRM', 'IRET', '2', 'SSW', 'BKJAY', 'WMFFX', 'WAK', 'LMCA', 'LMCK', 'ADT', 'OAS', 'LAZ', 'DNO', 'YACKX', 'JBLU', 'SRI', 'FXH', 'FXN', 'HYG', 'P', 'DUE 12/01/29', 'DUE 07/01/25', 'NCR', 'FLWS', 'PHH', 'SHOS', 'SNMX', 'SUNE', 'LUK', 'CWGL', 'VXUS', 'MGK', 'XLK', 'ADT.F', 'VILLX', 'FBT', 'FBHS', 'FTD', 'FCS', 'PCP', 'BLMN', 'MEG', 'HI', 'FOR', 'NPO', 'FMER', 'CMC', 'AXL', 'KALU', 'ESE', 'XHR', 'GWR', 'TIME', 'LTXB', 'CHMT', 'PAG', 'SXT', 'SJI', 'AEL', 'SIG', 'VSTO', 'SSP', 'UBSH', 'KRNY', 'HMHC', 'ALR', 'WTFC', 'MITL', 'VXF', 'RWL', 'HYI', 'TDIV', 'DTN', 'TBF', 'NASDAQ:WLTW', 'CNRAF', 'UBNK', 'RPXC', 'B923935', 'BOT4J94', 'SPY160219P00180000', 'RDIV', 'AEX.MU', 'DWTI', 'TW', 'RRMS', 'XPOI', 'TCB', 'BCEI', 'DSW', 'ASH', 'TK', 'WSHFX', 'TCIEX', 'DVFAX', 'QCGLIX', 'QCSTIX', 'TILVX', 'QREARX', 'TIMVX', 'TISBX', 'TCOIX', 'QCGRIX', 'HTLF', 'MWE', '^MWE', 'NE', 'HIX', 'MIXT', 'GMCR', 'TOO', 'B1WSP14', 'FSTR', 'HSC', 'CVSL', 'HCBK', 'ARCO', 'DEL', 'IYLD', 'ARMH', 'CPPL', 'CGO', 'LNKD', 'VRX', 'CMLP', 'FTBXL', 'ATAZF', 'HEDJ', 'RDVY', 'FXG', 'CVC', 'SLH', 'JDD', 'XLS', 'DUE 12/01/27', 'TE', 'EQT', 'CIT', 'QLIK', 'FDML', 'DUE 04/01/27', 'HW', 'SPHQ', 'ASHR', 'YCS', 'FPX', 'REX', 'SLY', 'RSCO', 'NGS', 'OCR', 'DUE 07/01/27', 'FAN', 'SPNC', 'LQDT', 'CHLKF', 'SCD', 'KWIPF', 'SNGNF', 'ITOCF', 'ISUZF', 'TELNF', 'NZTCF', 'AMRI', 'USB$N', 'HMSY', 'CBRL', 'TTFS', 'OMN', 'CW', 'TFM', 'SVU', 'BW', 'VNR', 'OAKIX', 'TLSRP', 'AFTEX', 'WSH', 'CJNK', 'SBUX.SW', 'MSACX', 'WSTMX', 'VMIIX', 'CTRX', 'VADDX', 'UPL', 'NGIPX', 'ACSDX', 'MGEMX', 'VSMIX', 'KRFT', 'ALTR', 'TEG', 'ATML', 'CVG', 'FXB', 'FXC', 'CTFS PARTN', 'ACT', 'CY', 'LO', 'DPG', 'BUNT.RP', 'MUR', 'WX', 'DATA', 'DO', 'RCPT', 'CRZO', 'INFA', 'IACI', 'INFN', 'CFFN', 'BRGYY', 'GBTZY', 'IWP', 'DDS', 'HPY', 'AMAG', 'ATI', 'JOY', 'YY', 'ISIS', 'KORS', 'NTCT', 'GMT', 'MNTA', 'SATS', 'CSTM', 'ADVS', 'CLI', 'BITA', 'AKRX', 'CAW', 'SGMA', 'GIFI', 'MMSI', 'DNR', 'MPX', 'DAKT', 'ROVI', 'PNRA', 'GVP', 'AFG', 'GCAP', 'SXE', 'SNR', 'ZMLP', 'AOZOF', 'PMFG', 'AMSYF', 'UNT', '^RGP', 'RGP', 'IGT', 'TBVPF', 'CUAEF', 'CYT', 'FOEAF', 'IPKW', 'EWW', 'FOE', 'RALS', 'B0T4J94', 'FR', 'OPY', 'JMG', 'NXTM', 'SPB', 'RYL', 'BN7Q3G8', 'BLT', 'WGL', 'MRD', 'FEIC', 'VMI', 'XL', 'ZU', 'PRPFX', 'CCLP', 'XLS.WI', 'PETM', 'ERII', 'BSV', 'TRS', 'APL', 'INRD', 'XLU', 'SMEZ', 'QAI', 'AGG', 'DFRG', 'AAON', 'PBH', 'SGY', 'ICON', 'MFRM', 'PLKI', 'RRTS', 'FMBI', 'KWR', 'CMN', 'SMTC', 'CTCT', 'SQI', 'BMR', 'IPCM', 'PLT', 'THRM', 'ATRO', 'AMSG', 'CHEF', 'TUMI', 'HF', 'CYBX', 'SWI', 'TYPE', 'VSI', 'SIGI', 'THS', 'MDCA', 'EPAY', 'EVR', 'ABCO', 'LOCK', 'MG', 'HUBG', 'TNGO', 'CMRE', 'SVM', 'PBI', 'ACMP', 'APAGF', 'DTV', 'EEI', 'SBMRY', 'CTTAY', 'RUK', 'COV', 'BMBLY', 'FOSL', 'CFRUY', 'SNPHY', 'CIOXY', 'NYSE: COV', 'CVE', 'PTNR', 'CJREF', 'OII', 'DVY', 'SDLP', 'ATU', 'VVC', 'NOG', 'AKCPF', 'KLXI', 'VLKPY', 'BEAV', 'URIRP', 'DRAD', 'FCNCB', 'VPFG', 'B', 'HOSPIC', 'TDA', 'TOLLX', 'CPN', 'LNCO', 'VGRAX', 'LINE', 'ACEIX', 'WASCX', 'MDDVX', 'FLRN', 'SDRL', 'SCHE', 'HTD', 'ETG', 'BTF', 'HGH', 'BYI', 'OLN', 'CIR', 'CEA', 'RYN', 'MFCDX', 'CBI', 'SYMC', 'TMH', 'ONVO', 'DBA', 'ENTR', 'BCOR', 'SFLY', 'ELX', 'ARCP', 'COF.PP', 'LYSFF', 'IRDM', 'NES', 'GARPF', 'FOJCF', 'MTW', 'VIXY', 'ASBRF', 'MEMP', '6320058', 'PNNT', 'CDA', 'SCZ', 'INF', 'USB.PN', 'LNXW', 'HBAYF', 'BNEFF', 'AVA', 'FUR', 'SPGYF', 'UFI', 'GSJK', 'ILF', 'EPP', 'VTTI', 'HYT', 'RYAM', 'WLP', 'ATMP', 'OSRN DE', 'LGP', 'SEM', 'FDO', 'RIGP', 'BPAQF', 'HUB.B', 'PL', 'HCC', 'PGH', 'MLPRX', 'BTE', 'CFX', 'BWX', 'PHB', 'MDP', 'IDU', 'TMST', 'TKR', 'NTI', 'RCS', 'PWE', 'QRE', 'YRAIF', 'RNDY', 'LMGEX', 'PRE', 'AIT', 'CMO', 'ROC', 'JOSB', 'DOM', 'TCK', 'IDCBY', 'GNW', 'KMR', 'CAOVY', 'PEGFF', 'DNFGY', 'CCCGY', 'DBP', 'GNC', 'TAL', 'CPE$A', 'NRP', 'PPR', 'GIMO', 'ECIFY', 'RKT', 'BC', 'QEP', 'CFN', 'EGN', 'VR', 'MHFI', 'WNR', 'TRW', 'PHI', 'APOL', 'RRD', 'ONNN', 'WR', 'BRCD', 'STO', 'TSO', 'KMP', 'CAM', 'SJR', 'ZMH', 'NMFC', 'SWAY', 'B5NC0D0', 'CTBI', 'CPSI', 'FLY', 'CHCO', 'CYS', 'LDR', 'YHOO', 'FFBC', 'HTS', 'MWO', 'ROSE', 'LGCY', 'EVEP', 'SUSQ', 'FSFR', 'MTAGF', 'VODPD', 'AZNCF', 'AOZOY', 'JPJQL', 'AETUF', 'NMM', 'WAG', '3%', 'SUSP', 'RIG', 'EC', 'EEP', 'EEQ', 'MOG.A', 'BBRY', 'BFK', 'MIE', 'JMF', 'CEN', 'NML', 'CBA', 'ARP', 'OTTR', 'CPHD', 'PCL', 'MRH', 'CTY', 'VODPF', 'CUB', 'FCN', 'MTZ', 'BBEP', 'HNZ', 'LLTI', 'SAPE', 'NTRI', 'VCLT', 'WCRX', 'MLPN', 'IYG', 'FEZ', 'UIS', 'GMXRQ', 'EP$C']\n"
     ]
    }
   ],
   "source": [
    "ticker_list = congress_inv['Ticker'].unique().tolist()\n",
    "print(ticker_list)\n",
    "unique_tickers = ticker_list"
   ]
  },
  {
   "cell_type": "code",
   "execution_count": 16,
   "metadata": {},
   "outputs": [],
   "source": [
    "cleaned_tickers = []\n",
    "for ticker in unique_tickers:\n",
    "\n",
    "    match = re.search(r'\\(([^)]+)\\)', ticker)\n",
    "    if match:\n",
    "        ticker = match.group(1).split(\":\")[-1]  \n",
    "\n",
    "    ticker = re.sub(r'[^A-Z0-9-]', '', ticker)\n",
    "\n",
    "    if ticker:\n",
    "        cleaned_tickers.append(ticker)"
   ]
  },
  {
   "cell_type": "code",
   "execution_count": 17,
   "metadata": {},
   "outputs": [
    {
     "name": "stdout",
     "output_type": "stream",
     "text": [
      "      Ticker TickerType                                            Company  \\\n",
      "0        GMT         ST  NGL ENERGY PARTNERS LP COMMON UNITS REPRESENTI...   \n",
      "1        DDR         ST                FREEPORT-MCMORAN, INC. COMMON STOCK   \n",
      "2        BCR         ST                                          VISA INC.   \n",
      "3       AAPL         ST                          APPLE INC. - COMMON STOCK   \n",
      "4       RYAM         ST               MICROSOFT CORPORATION - COMMON STOCK   \n",
      "...      ...        ...                                                ...   \n",
      "46459   MNTA        NaN                        LOCKHEED MARTIN CORPORATION   \n",
      "46460  VPMAX      Stock        E. I. du Pont de Nemours and Company (NYSE)   \n",
      "46461   BETR        NaN                           PROCTER & GAMBLE COMPANY   \n",
      "46462   SIMO        NaN                                  CATERPILLAR, INC.   \n",
      "46463   BETR        NaN                           PROCTER & GAMBLE COMPANY   \n",
      "\n",
      "          Traded Transaction       Trade_Size_USD Status  \\\n",
      "0     2024-03-11        Sale    $15,001 - $50,000    NEW   \n",
      "1     2024-02-29        Sale     $1,001 - $15,000    NEW   \n",
      "2     2024-02-29    Purchase     $1,001 - $15,000    NEW   \n",
      "3     2024-02-29    Purchase              $360.00    NEW   \n",
      "4     2024-02-29        Sale  $100,001 - $250,000    NEW   \n",
      "...          ...         ...                  ...    ...   \n",
      "46459 2012-11-13        Sale     $1,001 - $15,000    NEW   \n",
      "46460 2012-09-13    Purchase     $1,001 - $15,000    New   \n",
      "46461 2012-08-16        Sale     $1,001 - $15,000    NEW   \n",
      "46462 2012-07-26    Purchase     $1,001 - $15,000    NEW   \n",
      "46463 2012-07-24        Sale     $1,001 - $15,000    NEW   \n",
      "\n",
      "                                     Subholding  \\\n",
      "0                  EQUITABLE RETIREMENT ACCOUNT   \n",
      "1       MORGAN STANLEY - SELECT UMA ACCOUNT # 1   \n",
      "2                                     TRUST ONE   \n",
      "3                                       IRA ONE   \n",
      "4                                           NaN   \n",
      "...                                         ...   \n",
      "46459                   BROKERAGE #1 - EDJ 2718   \n",
      "46460                                       NaN   \n",
      "46461                   BROKERAGE #1 - EDJ 2718   \n",
      "46462                    BROKERAGE #2 USAA 8425   \n",
      "46463                    BROKERAGE #2 USAA 8425   \n",
      "\n",
      "                                             Description                 Name  \\\n",
      "0                                                    NaN        Mark Dr Green   \n",
      "1                                                    NaN      Josh Gottheimer   \n",
      "2                                                    NaN        Pete Sessions   \n",
      "3                                                    NaN        Pete Sessions   \n",
      "4      VESTED SHARES SOLD TO SEPARATE TRUST NOT FOR T...     Suzan K. Delbene   \n",
      "...                                                  ...                  ...   \n",
      "46459                                                NaN  Ms. Tammy Duckworth   \n",
      "46460                                                NaN    Carper, Thomas R.   \n",
      "46461                                                NaN  Ms. Tammy Duckworth   \n",
      "46462                                                NaN  Ms. Tammy Duckworth   \n",
      "46463                                                NaN  Ms. Tammy Duckworth   \n",
      "\n",
      "           Filed Party District Chamber Comments Quiver_Upload_Time  \\\n",
      "0     2024-03-13     R     TN07   House      NaN         2024-03-14   \n",
      "1     2024-03-07     D     NJ05   House      NaN         2024-03-08   \n",
      "2     2024-03-07     R     TX17   House      NaN         2024-03-08   \n",
      "3     2024-02-29     R     TX17   House      NaN         2024-03-01   \n",
      "4     2024-03-08     D     WA01   House      NaN         2024-03-11   \n",
      "...          ...   ...      ...     ...      ...                ...   \n",
      "46459 2014-07-08     D     IL08   House      NaN         2020-07-26   \n",
      "46460 2015-05-13     D      NaN  Senate      NaN         2020-07-26   \n",
      "46461 2014-07-08     D     IL08   House      NaN         2020-07-26   \n",
      "46462 2014-07-08     D     IL08   House      NaN         2020-07-26   \n",
      "46463 2014-07-08     D     IL08   House      NaN         2020-07-26   \n",
      "\n",
      "       excess_return       State last_modified  \n",
      "0           1.523296   Tennessee    2024-03-14  \n",
      "1          17.325032  New Jersey    2024-03-08  \n",
      "2          -0.518105       Texas    2024-03-08  \n",
      "3          -5.157553       Texas    2024-03-01  \n",
      "4           0.012454  Washington    2024-03-11  \n",
      "...              ...         ...           ...  \n",
      "46459     110.727159    Illinois    2023-11-16  \n",
      "46460    -302.359560    Delaware    2023-08-28  \n",
      "46461    -121.070259    Illinois    2023-11-16  \n",
      "46462      39.133792    Illinois    2023-11-16  \n",
      "46463    -131.228673    Illinois    2023-11-16  \n",
      "\n",
      "[29862 rows x 19 columns]\n"
     ]
    }
   ],
   "source": [
    "ticker_mapping = dict(zip(congress_inv['Ticker'], cleaned_tickers))\n",
    "congress_inv['Ticker'] = congress_inv['Ticker'].map(ticker_mapping)\n",
    "congress_inv = congress_inv[congress_inv['Ticker'].isin(cleaned_tickers)]\n",
    "print(congress_inv)"
   ]
  },
  {
   "cell_type": "markdown",
   "metadata": {},
   "source": [
    "observing counts of tickers traded by filed date and by traded date"
   ]
  },
  {
   "cell_type": "code",
   "execution_count": 20,
   "metadata": {},
   "outputs": [
    {
     "name": "stdout",
     "output_type": "stream",
     "text": [
      "           Filed     Ticker                                          Company  \\\n",
      "0     2014-01-07  36966R5P7                              TJX COMPANIES, INC.   \n",
      "1     2014-01-07       ADTF                          MASTERCARD INCORPORATED   \n",
      "2     2014-01-07       ATRO      INTERNATIONAL BUSINESS MACHINES CORPORATION   \n",
      "3     2014-01-07        BWX                                       3M COMPANY   \n",
      "4     2014-01-07        BYI                  PHILIP MORRIS INTERNATIONAL INC   \n",
      "...          ...        ...                                              ...   \n",
      "23907 2024-03-15        PCH  Southern States Bancshares, Inc. - Common Stock   \n",
      "23908 2024-03-15       SBLK         Star Bulk Carriers Corp. - Common Shares   \n",
      "23909 2024-03-15        SPB                                   Starbucks Corp   \n",
      "23910 2024-03-15       SWAY                        Pfizer, Inc. Common Stock   \n",
      "23911 2024-03-15         TV             QUALCOMM Incorporated - Common Stock   \n",
      "\n",
      "       Transaction  Count  \n",
      "0         Purchase      1  \n",
      "1         Purchase      1  \n",
      "2         Purchase      1  \n",
      "3         Purchase      1  \n",
      "4             Sale      1  \n",
      "...            ...    ...  \n",
      "23907     Purchase      1  \n",
      "23908     Purchase      1  \n",
      "23909     Purchase      1  \n",
      "23910     Purchase      1  \n",
      "23911  Sale (Full)      1  \n",
      "\n",
      "[23912 rows x 5 columns]\n",
      "          Traded Ticker                                            Company  \\\n",
      "0     2012-07-24   BETR                           PROCTER & GAMBLE COMPANY   \n",
      "1     2012-07-26   SIMO                                  CATERPILLAR, INC.   \n",
      "2     2012-08-16   BETR                           PROCTER & GAMBLE COMPANY   \n",
      "3     2012-09-13  VPMAX        E. I. du Pont de Nemours and Company (NYSE)   \n",
      "4     2012-11-13   MNTA                        LOCKHEED MARTIN CORPORATION   \n",
      "...          ...    ...                                                ...   \n",
      "27120 2024-02-29   AAPL                          APPLE INC. - COMMON STOCK   \n",
      "27121 2024-02-29    BCR                                          VISA INC.   \n",
      "27122 2024-02-29    DDR                FREEPORT-MCMORAN, INC. COMMON STOCK   \n",
      "27123 2024-02-29   RYAM               MICROSOFT CORPORATION - COMMON STOCK   \n",
      "27124 2024-03-11    GMT  NGL ENERGY PARTNERS LP COMMON UNITS REPRESENTI...   \n",
      "\n",
      "      Transaction  Count  \n",
      "0            Sale      1  \n",
      "1        Purchase      1  \n",
      "2            Sale      1  \n",
      "3        Purchase      1  \n",
      "4            Sale      1  \n",
      "...           ...    ...  \n",
      "27120    Purchase      1  \n",
      "27121    Purchase      1  \n",
      "27122        Sale      1  \n",
      "27123        Sale      1  \n",
      "27124        Sale      1  \n",
      "\n",
      "[27125 rows x 5 columns]\n"
     ]
    }
   ],
   "source": [
    "ticker_counts_by_filed_date = congress_inv.groupby(['Filed', 'Ticker', 'Company', 'Transaction']).size().reset_index(name='Count')\n",
    "print(ticker_counts_by_filed_date)\n",
    "\n",
    "ticker_counts_by_traded_date = congress_inv.groupby(['Traded', 'Ticker', 'Company', 'Transaction']).size().reset_index(name='Count')\n",
    "print(ticker_counts_by_traded_date)"
   ]
  },
  {
   "cell_type": "code",
   "execution_count": 21,
   "metadata": {},
   "outputs": [],
   "source": [
    "monthly_counts_by_filed_date = congress_inv.groupby([pd.Grouper(key='Filed', freq='M'), 'Ticker']).size().reset_index(name='Count')\n",
    "monthly_counts_by_filed_date['Filed'] = monthly_counts_by_filed_date['Filed'].dt.to_period('M').astype(str)\n",
    "\n",
    "monthly_counts_by_traded_date = congress_inv.groupby([pd.Grouper(key='Traded', freq='M'), 'Ticker']).size().reset_index(name='Count')\n",
    "monthly_counts_by_traded_date['Filed'] = monthly_counts_by_traded_date['Traded'].dt.to_period('M').astype(str)"
   ]
  },
  {
   "cell_type": "markdown",
   "metadata": {},
   "source": [
    "collecting historical stock data based on tickers in the congress financial disclosures dataframe, starting in 2022"
   ]
  },
  {
   "cell_type": "code",
   "execution_count": 22,
   "metadata": {},
   "outputs": [
    {
     "name": "stdout",
     "output_type": "stream",
     "text": [
      "Monthly data for NGL saved successfully.\n",
      "Monthly data for FCX saved successfully.\n",
      "Monthly data for V saved successfully.\n"
     ]
    },
    {
     "name": "stderr",
     "output_type": "stream",
     "text": [
      "$APPLE INC. (XNAS:AAPL): possibly delisted; No timezone found\n"
     ]
    },
    {
     "name": "stdout",
     "output_type": "stream",
     "text": [
      "Error fetching historical data for APPLE INC. (XNAS:AAPL): No historical data found for ticker\n",
      "Monthly data for MSFT saved successfully.\n",
      "Monthly data for BA saved successfully.\n",
      "Monthly data for URI saved successfully.\n",
      "Monthly data for TDG saved successfully.\n"
     ]
    },
    {
     "name": "stderr",
     "output_type": "stream",
     "text": [
      "$DUK$A: possibly delisted; No timezone found\n"
     ]
    },
    {
     "name": "stdout",
     "output_type": "stream",
     "text": [
      "Error fetching historical data for DUK$A: No historical data found for ticker\n",
      "Monthly data for ZTS saved successfully.\n",
      "Monthly data for PFE saved successfully.\n",
      "Monthly data for QCOM saved successfully.\n",
      "Monthly data for SBLK saved successfully.\n",
      "Monthly data for ASC saved successfully.\n",
      "Monthly data for SSBK saved successfully.\n",
      "Monthly data for GOGL saved successfully.\n",
      "Monthly data for FLNG saved successfully.\n",
      "Monthly data for LRLCY saved successfully.\n",
      "Monthly data for ARLP saved successfully.\n",
      "Monthly data for BBY saved successfully.\n",
      "Monthly data for SBUX saved successfully.\n",
      "Monthly data for AMD saved successfully.\n",
      "Monthly data for PANW saved successfully.\n",
      "Monthly data for ET saved successfully.\n",
      "Monthly data for ACN saved successfully.\n",
      "Monthly data for NVDA saved successfully.\n",
      "Monthly data for AMAT saved successfully.\n"
     ]
    },
    {
     "name": "stderr",
     "output_type": "stream",
     "text": [
      "$GLA: possibly delisted; No price data found  (1d 2021-01-01 -> 2024-08-09)\n"
     ]
    },
    {
     "name": "stdout",
     "output_type": "stream",
     "text": [
      "Monthly data for TGT saved successfully.\n",
      "$GLA: possibly delisted; No price data found  (1d 2021-01-01 -> 2024-08-09)\n",
      "Error fetching historical data for GLA: No historical data found for ticker\n",
      "Monthly data for EQNR saved successfully.\n",
      "Monthly data for PG saved successfully.\n",
      "Monthly data for MMC saved successfully.\n",
      "Monthly data for NWN saved successfully.\n",
      "Monthly data for BDX saved successfully.\n",
      "Monthly data for OKE saved successfully.\n",
      "Monthly data for TEX saved successfully.\n",
      "Monthly data for TXN saved successfully.\n",
      "Monthly data for DBSDY saved successfully.\n",
      "Monthly data for CHRD saved successfully.\n",
      "Monthly data for ILMN saved successfully.\n",
      "Monthly data for HUMA saved successfully.\n",
      "Monthly data for PHG saved successfully.\n",
      "Monthly data for KEY saved successfully.\n",
      "Monthly data for AMZN saved successfully.\n",
      "Monthly data for CTSH saved successfully.\n",
      "Monthly data for UL saved successfully.\n",
      "Monthly data for TSM saved successfully.\n",
      "Monthly data for BKNG saved successfully.\n",
      "Monthly data for MDT saved successfully.\n",
      "Monthly data for REGN saved successfully.\n",
      "Monthly data for MDB saved successfully.\n",
      "Monthly data for META saved successfully.\n",
      "Monthly data for KKR saved successfully.\n",
      "Monthly data for LLY saved successfully.\n",
      "Monthly data for NFLX saved successfully.\n"
     ]
    },
    {
     "name": "stderr",
     "output_type": "stream",
     "text": [
      "$GLAS FUNDS, LP: possibly delisted; No timezone found\n"
     ]
    },
    {
     "name": "stdout",
     "output_type": "stream",
     "text": [
      "Error fetching historical data for GLAS FUNDS, LP: No historical data found for ticker\n"
     ]
    },
    {
     "name": "stderr",
     "output_type": "stream",
     "text": [
      "$HAMILTO: possibly delisted; No timezone found\n"
     ]
    },
    {
     "name": "stdout",
     "output_type": "stream",
     "text": [
      "Error fetching historical data for HAMILTO: No historical data found for ticker\n"
     ]
    },
    {
     "name": "stderr",
     "output_type": "stream",
     "text": [
      "$T$A: possibly delisted; No timezone found\n"
     ]
    },
    {
     "name": "stdout",
     "output_type": "stream",
     "text": [
      "Error fetching historical data for T$A: No historical data found for ticker\n",
      "Monthly data for AFRM saved successfully.\n",
      "Monthly data for SPG saved successfully.\n",
      "Monthly data for LNG saved successfully.\n",
      "Monthly data for TTD saved successfully.\n",
      "Monthly data for DE saved successfully.\n",
      "Monthly data for IBM saved successfully.\n",
      "Monthly data for MRNA saved successfully.\n",
      "Monthly data for FSLR saved successfully.\n",
      "Monthly data for SCHW saved successfully.\n",
      "Monthly data for MS saved successfully.\n",
      "Monthly data for MSCI saved successfully.\n",
      "Monthly data for GOOGL saved successfully.\n",
      "Monthly data for EXAS saved successfully.\n",
      "Monthly data for HTGC saved successfully.\n",
      "Monthly data for COST saved successfully.\n",
      "Monthly data for JPM saved successfully.\n",
      "Monthly data for PRNDY saved successfully.\n",
      "Monthly data for ALNY saved successfully.\n",
      "Monthly data for ISRG saved successfully.\n",
      "Monthly data for VIG saved successfully.\n",
      "Monthly data for USFR saved successfully.\n",
      "Monthly data for GOOG saved successfully.\n"
     ]
    },
    {
     "name": "stderr",
     "output_type": "stream",
     "text": [
      "$BRK.B: possibly delisted; No timezone found\n"
     ]
    },
    {
     "name": "stdout",
     "output_type": "stream",
     "text": [
      "Error fetching historical data for BRK.B: No historical data found for ticker\n",
      "Monthly data for LRCX saved successfully.\n",
      "Monthly data for NOW saved successfully.\n",
      "Monthly data for TSLA saved successfully.\n",
      "Monthly data for AAPL saved successfully.\n",
      "Monthly data for ON saved successfully.\n",
      "Monthly data for APH saved successfully.\n",
      "Monthly data for ABG saved successfully.\n",
      "Monthly data for TPH saved successfully.\n",
      "Monthly data for LOW saved successfully.\n",
      "Monthly data for AGIO saved successfully.\n",
      "Monthly data for INTC saved successfully.\n",
      "Monthly data for RPM saved successfully.\n",
      "Monthly data for MEDP saved successfully.\n",
      "Monthly data for LAD saved successfully.\n",
      "Monthly data for MRK saved successfully.\n",
      "Monthly data for SYY saved successfully.\n"
     ]
    },
    {
     "name": "stderr",
     "output_type": "stream",
     "text": [
      "$4.WEEK, MATURE: possibly delisted; No timezone found\n"
     ]
    },
    {
     "name": "stdout",
     "output_type": "stream",
     "text": [
      "Error fetching historical data for 4.WEEK, MATURE: No historical data found for ticker\n",
      "Monthly data for AMGN saved successfully.\n",
      "Monthly data for INTU saved successfully.\n",
      "Monthly data for TJX saved successfully.\n",
      "Monthly data for AON saved successfully.\n",
      "Monthly data for CFG saved successfully.\n",
      "Monthly data for CAT saved successfully.\n",
      "Monthly data for MU saved successfully.\n",
      "Monthly data for CME saved successfully.\n",
      "Monthly data for NKE saved successfully.\n",
      "Monthly data for ABT saved successfully.\n",
      "Monthly data for CRM saved successfully.\n",
      "Monthly data for CB saved successfully.\n",
      "Monthly data for PKG saved successfully.\n",
      "Monthly data for ABBV saved successfully.\n",
      "Monthly data for MA saved successfully.\n",
      "Monthly data for LMT saved successfully.\n",
      "Monthly data for WMT saved successfully.\n",
      "Monthly data for JNJ saved successfully.\n",
      "Monthly data for GIS saved successfully.\n",
      "Monthly data for SCCO saved successfully.\n",
      "Monthly data for MNST saved successfully.\n",
      "Monthly data for CLF saved successfully.\n",
      "Monthly data for IDXX saved successfully.\n",
      "Monthly data for FMAO saved successfully.\n",
      "Monthly data for BABA saved successfully.\n",
      "Monthly data for PAM saved successfully.\n",
      "Monthly data for RTX saved successfully.\n",
      "Monthly data for HQY saved successfully.\n",
      "Monthly data for ADSK saved successfully.\n",
      "Monthly data for DIS saved successfully.\n",
      "Monthly data for NVO saved successfully.\n",
      "Monthly data for COIN saved successfully.\n",
      "Monthly data for GNTX saved successfully.\n",
      "Monthly data for VUG saved successfully.\n",
      "Monthly data for ADBE saved successfully.\n",
      "Monthly data for XP saved successfully.\n",
      "Monthly data for SPY saved successfully.\n",
      "Monthly data for BAC saved successfully.\n",
      "Monthly data for ES saved successfully.\n",
      "Monthly data for AXP saved successfully.\n",
      "Monthly data for ADI saved successfully.\n",
      "Monthly data for AME saved successfully.\n",
      "Monthly data for RACE saved successfully.\n",
      "Monthly data for ENB saved successfully.\n"
     ]
    },
    {
     "name": "stderr",
     "output_type": "stream",
     "text": [
      "$3.MONTH, MATURE: possibly delisted; No timezone found\n"
     ]
    },
    {
     "name": "stdout",
     "output_type": "stream",
     "text": [
      "Error fetching historical data for 3.MONTH, MATURE: No historical data found for ticker\n",
      "Monthly data for APD saved successfully.\n",
      "Monthly data for BLK saved successfully.\n",
      "Monthly data for MET saved successfully.\n",
      "Monthly data for TTE saved successfully.\n",
      "Monthly data for W saved successfully.\n",
      "Monthly data for AES saved successfully.\n",
      "Monthly data for VLO saved successfully.\n",
      "Monthly data for GBIL saved successfully.\n",
      "Monthly data for ETRN saved successfully.\n",
      "Monthly data for SCHX saved successfully.\n",
      "Monthly data for CRT saved successfully.\n",
      "Monthly data for MO saved successfully.\n",
      "Monthly data for CAH saved successfully.\n",
      "Monthly data for HSHCY saved successfully.\n",
      "Monthly data for BAP saved successfully.\n",
      "Monthly data for HELE saved successfully.\n",
      "Monthly data for SSDOY saved successfully.\n",
      "Monthly data for ALGM saved successfully.\n",
      "Monthly data for PTEN saved successfully.\n",
      "Monthly data for OCFC saved successfully.\n",
      "Monthly data for NCLTY saved successfully.\n",
      "Monthly data for GTLS saved successfully.\n",
      "Monthly data for PYCR saved successfully.\n",
      "Monthly data for XNGSY saved successfully.\n",
      "Monthly data for PNGAY saved successfully.\n",
      "Monthly data for SHLS saved successfully.\n",
      "Monthly data for RY saved successfully.\n"
     ]
    },
    {
     "name": "stderr",
     "output_type": "stream",
     "text": [
      "$AMEH: possibly delisted; No timezone found\n"
     ]
    },
    {
     "name": "stdout",
     "output_type": "stream",
     "text": [
      "Error fetching historical data for AMEH: No historical data found for ticker\n",
      "Monthly data for LOPE saved successfully.\n",
      "Monthly data for CL saved successfully.\n",
      "Monthly data for HSY saved successfully.\n",
      "Monthly data for BMY saved successfully.\n",
      "Monthly data for BP saved successfully.\n",
      "Monthly data for MAG saved successfully.\n",
      "Monthly data for ELF saved successfully.\n",
      "Monthly data for SFM saved successfully.\n",
      "Monthly data for CYBR saved successfully.\n",
      "Monthly data for ETN saved successfully.\n",
      "Monthly data for GS saved successfully.\n",
      "Monthly data for BMI saved successfully.\n",
      "Monthly data for SPXC saved successfully.\n",
      "Monthly data for OLLI saved successfully.\n",
      "Monthly data for FRPT saved successfully.\n",
      "Monthly data for AXON saved successfully.\n",
      "Monthly data for ORCL saved successfully.\n",
      "Monthly data for SLF saved successfully.\n",
      "Monthly data for UNP saved successfully.\n",
      "Monthly data for DGX saved successfully.\n",
      "Monthly data for XOM saved successfully.\n",
      "Monthly data for DELL saved successfully.\n",
      "Monthly data for S saved successfully.\n",
      "Monthly data for VUZI saved successfully.\n",
      "Monthly data for BX saved successfully.\n",
      "Monthly data for DVN saved successfully.\n",
      "Monthly data for TFC saved successfully.\n",
      "Monthly data for NOC saved successfully.\n",
      "Monthly data for PYPL saved successfully.\n",
      "Monthly data for JKHY saved successfully.\n",
      "Monthly data for ROP saved successfully.\n",
      "Monthly data for HRL saved successfully.\n",
      "Monthly data for TMUS saved successfully.\n",
      "Monthly data for WST saved successfully.\n",
      "Monthly data for CCI saved successfully.\n",
      "Monthly data for DG saved successfully.\n",
      "Monthly data for D saved successfully.\n",
      "Monthly data for SHW saved successfully.\n",
      "Monthly data for TSCO saved successfully.\n",
      "Monthly data for AMT saved successfully.\n",
      "Monthly data for VZ saved successfully.\n",
      "Monthly data for DDOG saved successfully.\n"
     ]
    },
    {
     "name": "stderr",
     "output_type": "stream",
     "text": [
      "$6.MONTH, MATURE: possibly delisted; No timezone found\n"
     ]
    },
    {
     "name": "stdout",
     "output_type": "stream",
     "text": [
      "Error fetching historical data for 6.MONTH, MATURE: No historical data found for ticker\n",
      "Monthly data for EA saved successfully.\n",
      "Monthly data for RF saved successfully.\n",
      "Monthly data for PARA saved successfully.\n",
      "Monthly data for WMB saved successfully.\n",
      "Monthly data for PODD saved successfully.\n",
      "Monthly data for CTVA saved successfully.\n",
      "Monthly data for SHOP saved successfully.\n",
      "Monthly data for FN saved successfully.\n",
      "Monthly data for CELH saved successfully.\n",
      "Monthly data for INST saved successfully.\n",
      "Monthly data for HUBB saved successfully.\n",
      "Monthly data for EXLS saved successfully.\n",
      "Monthly data for FCFS saved successfully.\n"
     ]
    },
    {
     "name": "stderr",
     "output_type": "stream",
     "text": [
      "$PXD: possibly delisted; No timezone found\n"
     ]
    },
    {
     "name": "stdout",
     "output_type": "stream",
     "text": [
      "Error fetching historical data for PXD: No historical data found for ticker\n",
      "Monthly data for ALB saved successfully.\n",
      "Monthly data for NEE saved successfully.\n",
      "Monthly data for LZAGY saved successfully.\n",
      "Monthly data for HEI saved successfully.\n",
      "Monthly data for VAXX saved successfully.\n",
      "Monthly data for INTA saved successfully.\n",
      "Monthly data for HLI saved successfully.\n",
      "Monthly data for HASI saved successfully.\n",
      "Monthly data for UMBF saved successfully.\n"
     ]
    },
    {
     "name": "stderr",
     "output_type": "stream",
     "text": [
      "$GLAS FUNDS: possibly delisted; No timezone found\n"
     ]
    },
    {
     "name": "stdout",
     "output_type": "stream",
     "text": [
      "Error fetching historical data for GLAS FUNDS: No historical data found for ticker\n",
      "Monthly data for COP saved successfully.\n",
      "Monthly data for UAA saved successfully.\n",
      "Monthly data for KO saved successfully.\n",
      "Monthly data for SBPYX saved successfully.\n",
      "Monthly data for XCEM saved successfully.\n",
      "Monthly data for GOLD saved successfully.\n",
      "Monthly data for MDLZ saved successfully.\n",
      "Monthly data for CVX saved successfully.\n",
      "Monthly data for SMDV saved successfully.\n",
      "Monthly data for FDRR saved successfully.\n",
      "Monthly data for LIN saved successfully.\n",
      "Monthly data for UPS saved successfully.\n",
      "Monthly data for BUI saved successfully.\n",
      "Monthly data for HD saved successfully.\n",
      "Monthly data for DVA saved successfully.\n",
      "Monthly data for KR saved successfully.\n",
      "Monthly data for CSCO saved successfully.\n",
      "Monthly data for SBCF saved successfully.\n",
      "Monthly data for BK saved successfully.\n",
      "Monthly data for ACI saved successfully.\n",
      "Monthly data for USB saved successfully.\n",
      "Monthly data for HAL saved successfully.\n",
      "Monthly data for CVS saved successfully.\n",
      "Monthly data for CI saved successfully.\n",
      "Monthly data for PII saved successfully.\n",
      "Monthly data for SNOW saved successfully.\n",
      "Monthly data for HDGE saved successfully.\n",
      "Monthly data for KMB saved successfully.\n"
     ]
    },
    {
     "name": "stderr",
     "output_type": "stream",
     "text": [
      "$EFC$D: possibly delisted; No timezone found\n"
     ]
    },
    {
     "name": "stdout",
     "output_type": "stream",
     "text": [
      "Error fetching historical data for EFC$D: No historical data found for ticker\n",
      "Monthly data for CMCSA saved successfully.\n",
      "Monthly data for ALK saved successfully.\n",
      "Monthly data for CMG saved successfully.\n",
      "Monthly data for PPG saved successfully.\n",
      "Monthly data for EL saved successfully.\n",
      "Monthly data for PALL saved successfully.\n",
      "Monthly data for UNH saved successfully.\n",
      "Monthly data for URA saved successfully.\n",
      "Monthly data for EW saved successfully.\n",
      "Monthly data for ROK saved successfully.\n",
      "Monthly data for GLPI saved successfully.\n",
      "Monthly data for DTRUY saved successfully.\n",
      "Monthly data for IRM saved successfully.\n",
      "Monthly data for FNF saved successfully.\n",
      "Monthly data for KD saved successfully.\n",
      "Monthly data for MOS saved successfully.\n",
      "Monthly data for EMR saved successfully.\n",
      "Monthly data for FMC saved successfully.\n",
      "Monthly data for DHI saved successfully.\n",
      "Monthly data for AGX saved successfully.\n",
      "Monthly data for CCLD saved successfully.\n",
      "Monthly data for DEO saved successfully.\n",
      "Monthly data for BNTX saved successfully.\n",
      "Monthly data for FANUY saved successfully.\n",
      "Monthly data for SONY saved successfully.\n",
      "Monthly data for WFC saved successfully.\n",
      "Monthly data for SBGSY saved successfully.\n",
      "Monthly data for VLTO saved successfully.\n",
      "Monthly data for PPRUY saved successfully.\n",
      "Monthly data for AZO saved successfully.\n",
      "Monthly data for SPGI saved successfully.\n",
      "Monthly data for DHR saved successfully.\n",
      "Monthly data for TMO saved successfully.\n",
      "Monthly data for ICE saved successfully.\n",
      "Monthly data for HLT saved successfully.\n",
      "Monthly data for CSX saved successfully.\n",
      "Monthly data for STZ saved successfully.\n",
      "Monthly data for FI saved successfully.\n",
      "Monthly data for HON saved successfully.\n",
      "Monthly data for BSX saved successfully.\n",
      "Monthly data for ELV saved successfully.\n",
      "Monthly data for KLAC saved successfully.\n",
      "Monthly data for PEP saved successfully.\n",
      "Monthly data for COCO saved successfully.\n",
      "Monthly data for IGSB saved successfully.\n",
      "Monthly data for T saved successfully.\n",
      "Monthly data for SHY saved successfully.\n",
      "Monthly data for TLT saved successfully.\n"
     ]
    },
    {
     "name": "stderr",
     "output_type": "stream",
     "text": [
      "$AAIC$B: possibly delisted; No timezone found\n"
     ]
    },
    {
     "name": "stdout",
     "output_type": "stream",
     "text": [
      "Error fetching historical data for AAIC$B: No historical data found for ticker\n",
      "Monthly data for CORP saved successfully.\n",
      "Monthly data for HCA saved successfully.\n",
      "Monthly data for SHEL saved successfully.\n",
      "Monthly data for PWR saved successfully.\n",
      "Monthly data for WBD saved successfully.\n",
      "Monthly data for MMM saved successfully.\n",
      "Monthly data for PCH saved successfully.\n",
      "Monthly data for FIS saved successfully.\n",
      "Monthly data for PM saved successfully.\n",
      "Monthly data for MKL saved successfully.\n",
      "Monthly data for FGBI saved successfully.\n",
      "Monthly data for ASML saved successfully.\n",
      "Monthly data for MCK saved successfully.\n",
      "Monthly data for CHX saved successfully.\n",
      "Monthly data for AORT saved successfully.\n",
      "Monthly data for DASH saved successfully.\n",
      "Monthly data for MCHP saved successfully.\n",
      "Monthly data for OXY saved successfully.\n",
      "Monthly data for LDOS saved successfully.\n",
      "Monthly data for ULTA saved successfully.\n",
      "Monthly data for EVVTY saved successfully.\n",
      "Monthly data for DT saved successfully.\n",
      "Monthly data for SAIC saved successfully.\n",
      "Monthly data for UBER saved successfully.\n",
      "Monthly data for USDP saved successfully.\n",
      "Monthly data for TLH saved successfully.\n",
      "Monthly data for TCMD saved successfully.\n",
      "Monthly data for IP saved successfully.\n",
      "Monthly data for CMBS saved successfully.\n",
      "Monthly data for AGZ saved successfully.\n",
      "Monthly data for X saved successfully.\n",
      "Monthly data for MBB saved successfully.\n",
      "Monthly data for JMBS saved successfully.\n",
      "Monthly data for GIGB saved successfully.\n",
      "Monthly data for EOG saved successfully.\n",
      "Monthly data for MPW saved successfully.\n",
      "Monthly data for BNS saved successfully.\n",
      "Monthly data for ANET saved successfully.\n",
      "Monthly data for ARCC saved successfully.\n",
      "Monthly data for CLX saved successfully.\n",
      "Monthly data for HPQ saved successfully.\n",
      "Monthly data for MCD saved successfully.\n",
      "Monthly data for GWW saved successfully.\n",
      "Monthly data for LULU saved successfully.\n"
     ]
    },
    {
     "name": "stderr",
     "output_type": "stream",
     "text": [
      "$SGEN: possibly delisted; No timezone found\n"
     ]
    },
    {
     "name": "stdout",
     "output_type": "stream",
     "text": [
      "Error fetching historical data for SGEN: No historical data found for ticker\n",
      "Monthly data for HDB saved successfully.\n",
      "Monthly data for ALGN saved successfully.\n",
      "Monthly data for PRIM saved successfully.\n",
      "Monthly data for INSW saved successfully.\n",
      "Monthly data for ICFI saved successfully.\n",
      "Monthly data for ALG saved successfully.\n",
      "Monthly data for UEC saved successfully.\n",
      "Monthly data for GILD saved successfully.\n",
      "Monthly data for VRTX saved successfully.\n",
      "Monthly data for PLD saved successfully.\n",
      "Monthly data for NEP saved successfully.\n",
      "Monthly data for J saved successfully.\n",
      "Monthly data for SYK saved successfully.\n",
      "Monthly data for AVGO saved successfully.\n",
      "Monthly data for C saved successfully.\n",
      "Monthly data for NFE saved successfully.\n",
      "Monthly data for BALL saved successfully.\n",
      "Monthly data for PGR saved successfully.\n",
      "Monthly data for PH saved successfully.\n",
      "Monthly data for HWM saved successfully.\n",
      "Monthly data for PSQ saved successfully.\n"
     ]
    },
    {
     "name": "stderr",
     "output_type": "stream",
     "text": [
      "$FMBA: possibly delisted; No timezone found\n"
     ]
    },
    {
     "name": "stdout",
     "output_type": "stream",
     "text": [
      "Error fetching historical data for FMBA: No historical data found for ticker\n",
      "Monthly data for SHYF saved successfully.\n",
      "Monthly data for GGG saved successfully.\n",
      "Monthly data for SWKS saved successfully.\n",
      "Monthly data for RMD saved successfully.\n",
      "Monthly data for ITW saved successfully.\n",
      "Monthly data for PHM saved successfully.\n",
      "Monthly data for WU saved successfully.\n",
      "Monthly data for FTNT saved successfully.\n",
      "Monthly data for WMS saved successfully.\n",
      "Monthly data for MPWR saved successfully.\n",
      "Monthly data for MCO saved successfully.\n",
      "Monthly data for NXPI saved successfully.\n",
      "Monthly data for DAVA saved successfully.\n",
      "Monthly data for UTZ saved successfully.\n",
      "Monthly data for SLGN saved successfully.\n",
      "Monthly data for ALGT saved successfully.\n",
      "Monthly data for A saved successfully.\n",
      "Monthly data for ADYEY saved successfully.\n",
      "Monthly data for DIOD saved successfully.\n",
      "Monthly data for SGIOY saved successfully.\n",
      "Monthly data for GSK saved successfully.\n",
      "Monthly data for NSC saved successfully.\n",
      "Monthly data for PHR saved successfully.\n",
      "Monthly data for VCYT saved successfully.\n",
      "Monthly data for IART saved successfully.\n",
      "Monthly data for VIAV saved successfully.\n",
      "Monthly data for RVLV saved successfully.\n",
      "Monthly data for RRC saved successfully.\n",
      "Monthly data for CBSH saved successfully.\n",
      "Monthly data for SMNNY saved successfully.\n",
      "Monthly data for CRUS saved successfully.\n",
      "Monthly data for TWKS saved successfully.\n",
      "Monthly data for NVZMY saved successfully.\n",
      "Monthly data for ADP saved successfully.\n",
      "Monthly data for FOXF saved successfully.\n",
      "Monthly data for SKY saved successfully.\n",
      "Monthly data for GMAB saved successfully.\n",
      "Monthly data for ODFL saved successfully.\n",
      "Monthly data for BCRX saved successfully.\n"
     ]
    },
    {
     "name": "stderr",
     "output_type": "stream",
     "text": [
      "$ATVI: possibly delisted; No timezone found\n"
     ]
    },
    {
     "name": "stdout",
     "output_type": "stream",
     "text": [
      "Error fetching historical data for ATVI: No historical data found for ticker\n"
     ]
    },
    {
     "name": "stderr",
     "output_type": "stream",
     "text": [
      "$13.WEEK, MATURE: possibly delisted; No timezone found\n"
     ]
    },
    {
     "name": "stdout",
     "output_type": "stream",
     "text": [
      "Error fetching historical data for 13.WEEK, MATURE: No historical data found for ticker\n",
      "Monthly data for MAR saved successfully.\n",
      "Monthly data for LPX saved successfully.\n",
      "Monthly data for NU saved successfully.\n",
      "Monthly data for DCO saved successfully.\n",
      "Monthly data for UFPI saved successfully.\n",
      "Monthly data for GPK saved successfully.\n",
      "Monthly data for VOD saved successfully.\n",
      "Monthly data for CMP saved successfully.\n"
     ]
    },
    {
     "name": "stderr",
     "output_type": "stream",
     "text": [
      "$SCHW$D: possibly delisted; No timezone found\n"
     ]
    },
    {
     "name": "stdout",
     "output_type": "stream",
     "text": [
      "Error fetching historical data for SCHW$D: No historical data found for ticker\n",
      "Monthly data for JBL saved successfully.\n",
      "Monthly data for EMXC saved successfully.\n",
      "Monthly data for JEPI saved successfully.\n",
      "Monthly data for VO saved successfully.\n",
      "Monthly data for VOO saved successfully.\n",
      "Monthly data for RVNC saved successfully.\n"
     ]
    },
    {
     "name": "stderr",
     "output_type": "stream",
     "text": [
      "$VMW: possibly delisted; No timezone found\n"
     ]
    },
    {
     "name": "stdout",
     "output_type": "stream",
     "text": [
      "Error fetching historical data for VMW: No historical data found for ticker\n",
      "Monthly data for GPCR saved successfully.\n",
      "Monthly data for PAA saved successfully.\n",
      "Monthly data for HIG saved successfully.\n",
      "Monthly data for KMI saved successfully.\n",
      "Monthly data for CMI saved successfully.\n",
      "Monthly data for DTE saved successfully.\n",
      "Monthly data for TDY saved successfully.\n"
     ]
    },
    {
     "name": "stderr",
     "output_type": "stream",
     "text": [
      "$MMP: possibly delisted; No timezone found\n"
     ]
    },
    {
     "name": "stdout",
     "output_type": "stream",
     "text": [
      "Error fetching historical data for MMP: No historical data found for ticker\n"
     ]
    },
    {
     "name": "stderr",
     "output_type": "stream",
     "text": [
      "$91282CDR9: possibly delisted; No timezone found\n"
     ]
    },
    {
     "name": "stdout",
     "output_type": "stream",
     "text": [
      "Error fetching historical data for 91282CDR9: No historical data found for ticker\n"
     ]
    },
    {
     "name": "stderr",
     "output_type": "stream",
     "text": [
      "$912797LL9: possibly delisted; No timezone found\n"
     ]
    },
    {
     "name": "stdout",
     "output_type": "stream",
     "text": [
      "Error fetching historical data for 912797LL9: No historical data found for ticker\n"
     ]
    },
    {
     "name": "stderr",
     "output_type": "stream",
     "text": [
      "$AAM$A: possibly delisted; No timezone found\n"
     ]
    },
    {
     "name": "stdout",
     "output_type": "stream",
     "text": [
      "Error fetching historical data for AAM$A: No historical data found for ticker\n",
      "Monthly data for NTR saved successfully.\n",
      "Monthly data for GD saved successfully.\n",
      "Monthly data for APA saved successfully.\n",
      "Monthly data for PNC saved successfully.\n",
      "Monthly data for WAL saved successfully.\n",
      "Monthly data for CUBE saved successfully.\n",
      "Monthly data for CF saved successfully.\n",
      "Monthly data for VGR saved successfully.\n",
      "Monthly data for YUM saved successfully.\n",
      "Monthly data for IR saved successfully.\n",
      "Monthly data for SQ saved successfully.\n",
      "Monthly data for KVUE saved successfully.\n",
      "Monthly data for BTO saved successfully.\n",
      "Monthly data for NVS saved successfully.\n"
     ]
    },
    {
     "name": "stderr",
     "output_type": "stream",
     "text": [
      "$GPP: possibly delisted; No timezone found\n"
     ]
    },
    {
     "name": "stdout",
     "output_type": "stream",
     "text": [
      "Error fetching historical data for GPP: No historical data found for ticker\n",
      "Monthly data for FITB saved successfully.\n",
      "Monthly data for VBTX saved successfully.\n",
      "Monthly data for ARQT saved successfully.\n",
      "Monthly data for AZTA saved successfully.\n",
      "Monthly data for IFF saved successfully.\n",
      "Monthly data for CYRX saved successfully.\n",
      "Monthly data for CSPCY saved successfully.\n",
      "Monthly data for WM saved successfully.\n",
      "Monthly data for RCL saved successfully.\n",
      "Monthly data for FMX saved successfully.\n",
      "Monthly data for ATLKY saved successfully.\n",
      "Monthly data for DXCM saved successfully.\n",
      "Monthly data for IJR saved successfully.\n",
      "Monthly data for FMCSX saved successfully.\n",
      "Monthly data for QQQ saved successfully.\n",
      "Monthly data for DFS saved successfully.\n",
      "Monthly data for BR saved successfully.\n",
      "Monthly data for ETR saved successfully.\n",
      "Monthly data for FAF saved successfully.\n",
      "Monthly data for CBOE saved successfully.\n",
      "Monthly data for XEL saved successfully.\n",
      "Monthly data for DORM saved successfully.\n",
      "Monthly data for LAMR saved successfully.\n",
      "Monthly data for BIO saved successfully.\n",
      "Monthly data for COLD saved successfully.\n",
      "Monthly data for NDAQ saved successfully.\n",
      "Monthly data for WRB saved successfully.\n",
      "Monthly data for HES saved successfully.\n",
      "Monthly data for AOS saved successfully.\n",
      "Monthly data for NSRGY saved successfully.\n",
      "Monthly data for LBRDK saved successfully.\n",
      "Monthly data for SUI saved successfully.\n",
      "Monthly data for TEL saved successfully.\n",
      "Monthly data for WSO saved successfully.\n",
      "Monthly data for DD saved successfully.\n",
      "Monthly data for CASY saved successfully.\n",
      "Monthly data for WAT saved successfully.\n",
      "Monthly data for SO saved successfully.\n",
      "Monthly data for VNT saved successfully.\n",
      "Monthly data for IT saved successfully.\n",
      "Monthly data for GL saved successfully.\n",
      "Monthly data for ARE saved successfully.\n",
      "Monthly data for DUK saved successfully.\n",
      "Monthly data for BWXT saved successfully.\n",
      "Monthly data for AVY saved successfully.\n",
      "Monthly data for BAH saved successfully.\n",
      "Monthly data for MTB saved successfully.\n",
      "Monthly data for FLR saved successfully.\n",
      "Monthly data for FANG saved successfully.\n",
      "Monthly data for POR saved successfully.\n",
      "Monthly data for NSA saved successfully.\n",
      "Monthly data for LKQ saved successfully.\n",
      "Monthly data for SSNC saved successfully.\n",
      "Monthly data for PCAR saved successfully.\n",
      "Monthly data for RGLD saved successfully.\n",
      "Monthly data for TT saved successfully.\n",
      "Monthly data for EXPD saved successfully.\n",
      "Monthly data for LNT saved successfully.\n",
      "Monthly data for CRL saved successfully.\n",
      "Monthly data for PRU saved successfully.\n",
      "Monthly data for TSN saved successfully.\n",
      "Monthly data for RBC saved successfully.\n",
      "Monthly data for JCI saved successfully.\n",
      "Monthly data for AI saved successfully.\n",
      "Monthly data for AMLP saved successfully.\n",
      "Monthly data for WCN saved successfully.\n",
      "Monthly data for TIMB saved successfully.\n",
      "Monthly data for FEP saved successfully.\n",
      "Monthly data for TAK saved successfully.\n",
      "Monthly data for CRWD saved successfully.\n",
      "Monthly data for AGAE saved successfully.\n",
      "Monthly data for INOD saved successfully.\n",
      "Monthly data for BBEU saved successfully.\n",
      "Monthly data for AQN saved successfully.\n",
      "Monthly data for EME saved successfully.\n",
      "Monthly data for NTLA saved successfully.\n",
      "Monthly data for TWLO saved successfully.\n",
      "Monthly data for LH saved successfully.\n",
      "Monthly data for LUV saved successfully.\n",
      "Monthly data for ASAZY saved successfully.\n",
      "Monthly data for CHD saved successfully.\n",
      "Monthly data for EFX saved successfully.\n",
      "Monthly data for NTRS saved successfully.\n",
      "Monthly data for STLA saved successfully.\n",
      "Monthly data for DASTY saved successfully.\n",
      "Monthly data for DBRG saved successfully.\n",
      "Monthly data for CHGCY saved successfully.\n",
      "Monthly data for PSX saved successfully.\n",
      "Monthly data for JHEM saved successfully.\n",
      "Monthly data for F saved successfully.\n"
     ]
    },
    {
     "name": "stderr",
     "output_type": "stream",
     "text": [
      "$WTT: possibly delisted; No timezone found\n"
     ]
    },
    {
     "name": "stdout",
     "output_type": "stream",
     "text": [
      "Error fetching historical data for WTT: No historical data found for ticker\n",
      "Monthly data for TPR saved successfully.\n",
      "Monthly data for SOFI saved successfully.\n",
      "Monthly data for WTW saved successfully.\n",
      "Monthly data for RMBS saved successfully.\n",
      "Monthly data for CC saved successfully.\n",
      "Monthly data for SHV saved successfully.\n"
     ]
    },
    {
     "name": "stderr",
     "output_type": "stream",
     "text": [
      "Failed to get ticker 'DUE 10/01/203' reason: Expecting value: line 1 column 1 (char 0)\n",
      "$DUE 10/01/203: possibly delisted; No timezone found\n"
     ]
    },
    {
     "name": "stdout",
     "output_type": "stream",
     "text": [
      "Error fetching historical data for DUE 10/01/203: No historical data found for ticker\n",
      "Monthly data for PR saved successfully.\n",
      "Monthly data for ROAD saved successfully.\n",
      "Monthly data for LNC saved successfully.\n",
      "Monthly data for SWX saved successfully.\n",
      "Monthly data for ABNB saved successfully.\n",
      "Monthly data for NSP saved successfully.\n",
      "Monthly data for ALL saved successfully.\n",
      "Monthly data for LSXMK saved successfully.\n",
      "Monthly data for LSXMA saved successfully.\n",
      "Monthly data for LLYVA saved successfully.\n",
      "Monthly data for SEDG saved successfully.\n",
      "Monthly data for LLYVK saved successfully.\n",
      "Monthly data for WTKWY saved successfully.\n",
      "Monthly data for SIGCY saved successfully.\n",
      "Monthly data for FDS saved successfully.\n",
      "Monthly data for AFL saved successfully.\n"
     ]
    },
    {
     "name": "stderr",
     "output_type": "stream",
     "text": [
      "$914476PV2: possibly delisted; No timezone found\n"
     ]
    },
    {
     "name": "stdout",
     "output_type": "stream",
     "text": [
      "Error fetching historical data for 914476PV2: No historical data found for ticker\n"
     ]
    },
    {
     "name": "stderr",
     "output_type": "stream",
     "text": [
      "$506120KP8: possibly delisted; No timezone found\n"
     ]
    },
    {
     "name": "stdout",
     "output_type": "stream",
     "text": [
      "Error fetching historical data for 506120KP8: No historical data found for ticker\n"
     ]
    },
    {
     "name": "stderr",
     "output_type": "stream",
     "text": [
      "$605699PU5: possibly delisted; No timezone found\n"
     ]
    },
    {
     "name": "stdout",
     "output_type": "stream",
     "text": [
      "Error fetching historical data for 605699PU5: No historical data found for ticker\n"
     ]
    },
    {
     "name": "stderr",
     "output_type": "stream",
     "text": [
      "$784532JF1: possibly delisted; No timezone found\n"
     ]
    },
    {
     "name": "stdout",
     "output_type": "stream",
     "text": [
      "Error fetching historical data for 784532JF1: No historical data found for ticker\n",
      "Monthly data for CCL saved successfully.\n",
      "Monthly data for WBA saved successfully.\n",
      "Monthly data for HLN saved successfully.\n",
      "Monthly data for KUBTY saved successfully.\n",
      "Monthly data for AAGIY saved successfully.\n",
      "Monthly data for BATRK saved successfully.\n",
      "Monthly data for SAP saved successfully.\n",
      "Monthly data for MELI saved successfully.\n",
      "Monthly data for HLIO saved successfully.\n",
      "Monthly data for IFNNY saved successfully.\n",
      "Monthly data for SRPT saved successfully.\n",
      "Monthly data for VTR saved successfully.\n",
      "Monthly data for APTV saved successfully.\n",
      "Monthly data for HMN saved successfully.\n",
      "Monthly data for THO saved successfully.\n",
      "Monthly data for DAR saved successfully.\n",
      "Monthly data for SPOT saved successfully.\n"
     ]
    },
    {
     "name": "stderr",
     "output_type": "stream",
     "text": [
      "$LSI: possibly delisted; No timezone found\n"
     ]
    },
    {
     "name": "stdout",
     "output_type": "stream",
     "text": [
      "Error fetching historical data for LSI: No historical data found for ticker\n",
      "Monthly data for NXRT saved successfully.\n",
      "Monthly data for BXP saved successfully.\n",
      "Monthly data for DRH saved successfully.\n",
      "Monthly data for RLJ saved successfully.\n",
      "Monthly data for LBTYA saved successfully.\n",
      "Monthly data for SR saved successfully.\n",
      "Monthly data for SKT saved successfully.\n",
      "Monthly data for SHO saved successfully.\n",
      "Monthly data for ENTA saved successfully.\n",
      "Monthly data for PHIN saved successfully.\n",
      "Monthly data for HALO saved successfully.\n",
      "Monthly data for CBU saved successfully.\n",
      "Monthly data for CIEN saved successfully.\n",
      "Monthly data for AVTR saved successfully.\n",
      "Monthly data for WELL saved successfully.\n",
      "Monthly data for TEAM saved successfully.\n",
      "Monthly data for KHC saved successfully.\n",
      "Monthly data for PECO saved successfully.\n",
      "Monthly data for EXR saved successfully.\n",
      "Monthly data for LVMUY saved successfully.\n",
      "Monthly data for STT saved successfully.\n",
      "Monthly data for EPAM saved successfully.\n",
      "Monthly data for AAP saved successfully.\n",
      "Monthly data for CLVT saved successfully.\n",
      "Monthly data for TRIP saved successfully.\n",
      "Monthly data for EVBG saved successfully.\n"
     ]
    },
    {
     "name": "stderr",
     "output_type": "stream",
     "text": [
      "$UBA: possibly delisted; No timezone found\n"
     ]
    },
    {
     "name": "stdout",
     "output_type": "stream",
     "text": [
      "Error fetching historical data for UBA: No historical data found for ticker\n",
      "Monthly data for IIPR saved successfully.\n",
      "Monthly data for LBTYK saved successfully.\n",
      "Monthly data for PARAA saved successfully.\n",
      "Monthly data for ADC saved successfully.\n",
      "Monthly data for EQR saved successfully.\n",
      "Monthly data for SGH saved successfully.\n",
      "Monthly data for BFS saved successfully.\n"
     ]
    },
    {
     "name": "stderr",
     "output_type": "stream",
     "text": [
      "$HEI.A: possibly delisted; No timezone found\n"
     ]
    },
    {
     "name": "stdout",
     "output_type": "stream",
     "text": [
      "Error fetching historical data for HEI.A: No historical data found for ticker\n",
      "Monthly data for PLTK saved successfully.\n",
      "Monthly data for BEPC saved successfully.\n",
      "Monthly data for CTRE saved successfully.\n",
      "Monthly data for AMCX saved successfully.\n",
      "Monthly data for KRG saved successfully.\n",
      "Monthly data for HST saved successfully.\n",
      "Monthly data for AVB saved successfully.\n",
      "Monthly data for GTY saved successfully.\n",
      "Monthly data for AMCR saved successfully.\n",
      "Monthly data for STX saved successfully.\n",
      "Monthly data for RLAY saved successfully.\n",
      "Monthly data for MKTX saved successfully.\n",
      "Monthly data for UDR saved successfully.\n",
      "Monthly data for JAZZ saved successfully.\n"
     ]
    },
    {
     "name": "stderr",
     "output_type": "stream",
     "text": [
      "$AYX: possibly delisted; No timezone found\n"
     ]
    },
    {
     "name": "stdout",
     "output_type": "stream",
     "text": [
      "Error fetching historical data for AYX: No historical data found for ticker\n",
      "Monthly data for KLIC saved successfully.\n",
      "Monthly data for MAA saved successfully.\n",
      "Monthly data for TNDM saved successfully.\n",
      "Monthly data for INN saved successfully.\n",
      "Monthly data for LHX saved successfully.\n",
      "Monthly data for ESS saved successfully.\n"
     ]
    },
    {
     "name": "stderr",
     "output_type": "stream",
     "text": [
      "$PEAK: possibly delisted; No timezone found\n"
     ]
    },
    {
     "name": "stdout",
     "output_type": "stream",
     "text": [
      "Error fetching historical data for PEAK: No historical data found for ticker\n",
      "Monthly data for KRC saved successfully.\n",
      "Monthly data for SBGI saved successfully.\n",
      "Monthly data for TFX saved successfully.\n",
      "Monthly data for ROIC saved successfully.\n",
      "Monthly data for BGNE saved successfully.\n",
      "Monthly data for UE saved successfully.\n",
      "Monthly data for SBAC saved successfully.\n",
      "Monthly data for CAG saved successfully.\n",
      "Monthly data for MOH saved successfully.\n",
      "Monthly data for WPM saved successfully.\n",
      "Monthly data for CNC saved successfully.\n",
      "Monthly data for ALEX saved successfully.\n",
      "Monthly data for INVH saved successfully.\n",
      "Monthly data for CHPT saved successfully.\n",
      "Monthly data for ADM saved successfully.\n",
      "Monthly data for BELFB saved successfully.\n",
      "Monthly data for EXC saved successfully.\n",
      "Monthly data for JBGS saved successfully.\n"
     ]
    },
    {
     "name": "stderr",
     "output_type": "stream",
     "text": [
      "$HHC: possibly delisted; No timezone found\n"
     ]
    },
    {
     "name": "stdout",
     "output_type": "stream",
     "text": [
      "Error fetching historical data for HHC: No historical data found for ticker\n",
      "Monthly data for KDP saved successfully.\n",
      "Monthly data for SLG saved successfully.\n",
      "Monthly data for IRT saved successfully.\n",
      "Monthly data for FERG saved successfully.\n",
      "Monthly data for RWT saved successfully.\n",
      "Monthly data for CADE saved successfully.\n",
      "Monthly data for EQIX saved successfully.\n",
      "Monthly data for PK saved successfully.\n",
      "Monthly data for DLTR saved successfully.\n",
      "Monthly data for FCPT saved successfully.\n",
      "Monthly data for ICHR saved successfully.\n",
      "Monthly data for QDEL saved successfully.\n",
      "Monthly data for OGS saved successfully.\n",
      "Monthly data for IOT saved successfully.\n",
      "Monthly data for YUMC saved successfully.\n",
      "Monthly data for PEB saved successfully.\n",
      "Monthly data for RBA saved successfully.\n",
      "Monthly data for EPRT saved successfully.\n",
      "Monthly data for EIX saved successfully.\n",
      "Monthly data for PSA saved successfully.\n",
      "Monthly data for EPR saved successfully.\n",
      "Monthly data for PD saved successfully.\n",
      "Monthly data for LUMN saved successfully.\n",
      "Monthly data for KRYAY saved successfully.\n",
      "Monthly data for SMNEY saved successfully.\n",
      "Monthly data for SALRY saved successfully.\n",
      "Monthly data for HKXCY saved successfully.\n",
      "Monthly data for ALFVY saved successfully.\n",
      "Monthly data for JHX saved successfully.\n",
      "Monthly data for CCOEY saved successfully.\n",
      "Monthly data for TM saved successfully.\n",
      "Monthly data for DANOY saved successfully.\n",
      "Monthly data for SHECY saved successfully.\n",
      "Monthly data for IHG saved successfully.\n",
      "Monthly data for LGRDY saved successfully.\n",
      "Monthly data for BURBY saved successfully.\n",
      "Monthly data for HCMLY saved successfully.\n",
      "Monthly data for HOCPY saved successfully.\n",
      "Monthly data for SXYAY saved successfully.\n",
      "Monthly data for ARKAY saved successfully.\n",
      "Monthly data for DKILY saved successfully.\n",
      "Monthly data for IDEXY saved successfully.\n",
      "Monthly data for TMICY saved successfully.\n",
      "Monthly data for CSLLY saved successfully.\n",
      "Monthly data for UPMMY saved successfully.\n",
      "Monthly data for HESAY saved successfully.\n",
      "Monthly data for BXBLY saved successfully.\n",
      "Monthly data for HSBC saved successfully.\n",
      "Monthly data for OLCLY saved successfully.\n",
      "Monthly data for NRILY saved successfully.\n",
      "Monthly data for PUBGY saved successfully.\n",
      "Monthly data for BAESY saved successfully.\n",
      "Monthly data for SMFG saved successfully.\n",
      "Monthly data for VWAPY saved successfully.\n",
      "Monthly data for SDVKY saved successfully.\n",
      "Monthly data for ANZGY saved successfully.\n",
      "Monthly data for JSGRY saved successfully.\n",
      "Monthly data for SVNDY saved successfully.\n",
      "Monthly data for SONVY saved successfully.\n",
      "Monthly data for NOK saved successfully.\n",
      "Monthly data for ANYYY saved successfully.\n",
      "Monthly data for FJTSY saved successfully.\n",
      "Monthly data for HMC saved successfully.\n"
     ]
    },
    {
     "name": "stderr",
     "output_type": "stream",
     "text": [
      "$FRRVY: possibly delisted; No timezone found\n"
     ]
    },
    {
     "name": "stdout",
     "output_type": "stream",
     "text": [
      "Error fetching historical data for FRRVY: No historical data found for ticker\n",
      "Monthly data for TRUMY saved successfully.\n",
      "Monthly data for JTKWY saved successfully.\n",
      "Monthly data for VACNY saved successfully.\n",
      "Monthly data for BVVBY saved successfully.\n",
      "Monthly data for PROSY saved successfully.\n",
      "Monthly data for UMICY saved successfully.\n",
      "Monthly data for UCBJY saved successfully.\n",
      "Monthly data for STBFY saved successfully.\n",
      "Monthly data for AAVMY saved successfully.\n",
      "Monthly data for TEZNY saved successfully.\n",
      "Monthly data for PANDY saved successfully.\n",
      "Monthly data for GVDNY saved successfully.\n",
      "Monthly data for TLGPY saved successfully.\n",
      "Monthly data for SAN saved successfully.\n",
      "Monthly data for PUK saved successfully.\n",
      "Monthly data for IFJPY saved successfully.\n",
      "Monthly data for AEG saved successfully.\n",
      "Monthly data for TKAMY saved successfully.\n",
      "Monthly data for ADRNY saved successfully.\n",
      "Monthly data for SCMWY saved successfully.\n",
      "Monthly data for RIO saved successfully.\n",
      "Monthly data for MKTAY saved successfully.\n",
      "Monthly data for ZURVY saved successfully.\n",
      "Monthly data for TCEHY saved successfully.\n",
      "Monthly data for CJPRY saved successfully.\n",
      "Monthly data for GNGBY saved successfully.\n",
      "Monthly data for CODYY saved successfully.\n",
      "Monthly data for LOGI saved successfully.\n",
      "Monthly data for SAXPY saved successfully.\n",
      "Monthly data for AHKSY saved successfully.\n",
      "Monthly data for SKHHY saved successfully.\n",
      "Monthly data for MDIBY saved successfully.\n",
      "Monthly data for NSANY saved successfully.\n",
      "Monthly data for BTLCY saved successfully.\n",
      "Monthly data for CRH saved successfully.\n",
      "Monthly data for BAYRY saved successfully.\n",
      "Monthly data for ISNPY saved successfully.\n",
      "Monthly data for KBCSY saved successfully.\n",
      "Monthly data for AZN saved successfully.\n",
      "Monthly data for JSAIY saved successfully.\n",
      "Monthly data for DLICY saved successfully.\n",
      "Monthly data for NMR saved successfully.\n",
      "Monthly data for IMBBY saved successfully.\n",
      "Monthly data for MGDDY saved successfully.\n",
      "Monthly data for CAJPY saved successfully.\n",
      "Monthly data for JAPAY saved successfully.\n",
      "Monthly data for UUGRY saved successfully.\n",
      "Monthly data for RTO saved successfully.\n",
      "Monthly data for CRZBY saved successfully.\n",
      "Monthly data for DNNGY saved successfully.\n",
      "Monthly data for ENLAY saved successfully.\n",
      "Monthly data for SNY saved successfully.\n",
      "Monthly data for QBIEY saved successfully.\n",
      "Monthly data for BNTGY saved successfully.\n",
      "Monthly data for EPOKY saved successfully.\n",
      "Monthly data for GASNY saved successfully.\n",
      "Monthly data for TTNDY saved successfully.\n",
      "Monthly data for MFG saved successfully.\n",
      "Monthly data for EBKDY saved successfully.\n",
      "Monthly data for DNZOY saved successfully.\n",
      "Monthly data for KMTUY saved successfully.\n",
      "Monthly data for MIELY saved successfully.\n",
      "Monthly data for CMWAY saved successfully.\n",
      "Monthly data for MTSFY saved successfully.\n",
      "Monthly data for VLVLY saved successfully.\n",
      "Monthly data for SINGY saved successfully.\n",
      "Monthly data for AKZOY saved successfully.\n",
      "Monthly data for BDRFY saved successfully.\n",
      "Monthly data for SGSOY saved successfully.\n",
      "Monthly data for SPKKY saved successfully.\n",
      "Monthly data for DSNKY saved successfully.\n",
      "Monthly data for TKOMY saved successfully.\n",
      "Monthly data for FSUGY saved successfully.\n",
      "Monthly data for AONNY saved successfully.\n",
      "Monthly data for SE saved successfully.\n",
      "Monthly data for DRPRY saved successfully.\n",
      "Monthly data for KGSPY saved successfully.\n",
      "Monthly data for MTUAY saved successfully.\n",
      "Monthly data for GBERY saved successfully.\n",
      "Monthly data for ALC saved successfully.\n",
      "Monthly data for SUTNY saved successfully.\n",
      "Monthly data for YASKY saved successfully.\n",
      "Monthly data for KIM saved successfully.\n",
      "Monthly data for DNPLY saved successfully.\n",
      "Monthly data for HSQVY saved successfully.\n",
      "Monthly data for SKHSY saved successfully.\n",
      "Monthly data for CLLNY saved successfully.\n",
      "Monthly data for SNN saved successfully.\n",
      "Monthly data for FUJIY saved successfully.\n",
      "Monthly data for SOMMY saved successfully.\n",
      "Monthly data for MSLOY saved successfully.\n",
      "Monthly data for SMMNY saved successfully.\n",
      "Monthly data for OTSKY saved successfully.\n",
      "Monthly data for PRYMY saved successfully.\n",
      "Monthly data for DTEGY saved successfully.\n",
      "Monthly data for ESLOY saved successfully.\n",
      "Monthly data for DWAHY saved successfully.\n",
      "Monthly data for TOELY saved successfully.\n",
      "Monthly data for BRDCY saved successfully.\n",
      "Monthly data for MSADY saved successfully.\n",
      "Monthly data for WJRYY saved successfully.\n",
      "Monthly data for ARGX saved successfully.\n",
      "Monthly data for OPHLY saved successfully.\n",
      "Monthly data for SFTBY saved successfully.\n",
      "Monthly data for MSSMY saved successfully.\n",
      "Monthly data for MURGY saved successfully.\n",
      "Monthly data for CGEMY saved successfully.\n",
      "Monthly data for CLPBY saved successfully.\n",
      "Monthly data for TLPFY saved successfully.\n",
      "Monthly data for SCGLY saved successfully.\n",
      "Monthly data for SMTOY saved successfully.\n",
      "Monthly data for BNPQY saved successfully.\n",
      "Monthly data for SMCAY saved successfully.\n",
      "Monthly data for ABBNY saved successfully.\n",
      "Monthly data for OVCHY saved successfully.\n",
      "Monthly data for RHHBY saved successfully.\n",
      "Monthly data for ZLNDY saved successfully.\n",
      "Monthly data for SPXCY saved successfully.\n",
      "Monthly data for SIEGY saved successfully.\n",
      "Monthly data for MKKGY saved successfully.\n",
      "Monthly data for MZDAY saved successfully.\n",
      "Monthly data for BTI saved successfully.\n",
      "Monthly data for KHNGY saved successfully.\n",
      "Monthly data for YARIY saved successfully.\n",
      "Monthly data for KNBWY saved successfully.\n",
      "Monthly data for DSCSY saved successfully.\n",
      "Monthly data for NWG saved successfully.\n",
      "Monthly data for ASHTY saved successfully.\n",
      "Monthly data for WPP saved successfully.\n",
      "Monthly data for CZMWY saved successfully.\n",
      "Monthly data for NRDBY saved successfully.\n",
      "Monthly data for ALPMY saved successfully.\n",
      "Monthly data for NICE saved successfully.\n",
      "Monthly data for VCISY saved successfully.\n",
      "Monthly data for LSRCY saved successfully.\n",
      "Monthly data for RELX saved successfully.\n",
      "Monthly data for SYIEY saved successfully.\n"
     ]
    },
    {
     "name": "stderr",
     "output_type": "stream",
     "text": [
      "$YAMHY: possibly delisted; No timezone found\n"
     ]
    },
    {
     "name": "stdout",
     "output_type": "stream",
     "text": [
      "Error fetching historical data for YAMHY: No historical data found for ticker\n",
      "Monthly data for SWRAY saved successfully.\n",
      "Monthly data for NEXOY saved successfully.\n",
      "Monthly data for MQBKY saved successfully.\n",
      "Monthly data for AVVIY saved successfully.\n",
      "Monthly data for DQJCY saved successfully.\n",
      "Monthly data for SSREY saved successfully.\n",
      "Monthly data for QABSY saved successfully.\n",
      "Monthly data for JRONY saved successfully.\n",
      "Monthly data for HXGBY saved successfully.\n",
      "Monthly data for RNMBY saved successfully.\n",
      "Monthly data for OCDDY saved successfully.\n",
      "Monthly data for ICL saved successfully.\n",
      "Monthly data for HEINY saved successfully.\n",
      "Monthly data for HVRRY saved successfully.\n",
      "Monthly data for NINOY saved successfully.\n",
      "Monthly data for NDEKY saved successfully.\n",
      "Monthly data for DFKCY saved successfully.\n",
      "Monthly data for KSRYY saved successfully.\n",
      "Monthly data for ADDYY saved successfully.\n",
      "Monthly data for SSMXY saved successfully.\n",
      "Monthly data for KDDIY saved successfully.\n",
      "Monthly data for SMFKY saved successfully.\n",
      "Monthly data for WRDLY saved successfully.\n",
      "Monthly data for DB saved successfully.\n",
      "Monthly data for MRAAY saved successfully.\n",
      "Monthly data for AHEXY saved successfully.\n",
      "Monthly data for NTDOY saved successfully.\n"
     ]
    },
    {
     "name": "stderr",
     "output_type": "stream",
     "text": [
      "$ITTOY: possibly delisted; No timezone found\n"
     ]
    },
    {
     "name": "stdout",
     "output_type": "stream",
     "text": [
      "Error fetching historical data for ITTOY: No historical data found for ticker\n",
      "Monthly data for ERIC saved successfully.\n",
      "Monthly data for TMSNY saved successfully.\n",
      "Monthly data for ISUZY saved successfully.\n",
      "Monthly data for AMKBY saved successfully.\n",
      "Monthly data for TEF saved successfully.\n",
      "Monthly data for DNBBY saved successfully.\n",
      "Monthly data for STM saved successfully.\n",
      "Monthly data for UBS saved successfully.\n",
      "Monthly data for LYG saved successfully.\n",
      "Monthly data for ALIZY saved successfully.\n",
      "Monthly data for SAFRY saved successfully.\n",
      "Monthly data for ING saved successfully.\n",
      "Monthly data for NABZY saved successfully.\n",
      "Monthly data for AIQUY saved successfully.\n",
      "Monthly data for TRYIY saved successfully.\n",
      "Monthly data for CRARY saved successfully.\n",
      "Monthly data for IBDRY saved successfully.\n",
      "Monthly data for OLYMY saved successfully.\n",
      "Monthly data for NTTYY saved successfully.\n",
      "Monthly data for MUFG saved successfully.\n",
      "Monthly data for ALLE saved successfully.\n",
      "Monthly data for SUHJY saved successfully.\n",
      "Monthly data for NNGRY saved successfully.\n",
      "Monthly data for KNRRY saved successfully.\n",
      "Monthly data for ATEYY saved successfully.\n",
      "Monthly data for EDPFY saved successfully.\n",
      "Monthly data for HDELY saved successfully.\n",
      "Monthly data for HTHIY saved successfully.\n",
      "Monthly data for NCBDY saved successfully.\n"
     ]
    },
    {
     "name": "stderr",
     "output_type": "stream",
     "text": [
      "$NCMGY: possibly delisted; No timezone found\n"
     ]
    },
    {
     "name": "stdout",
     "output_type": "stream",
     "text": [
      "Error fetching historical data for NCMGY: No historical data found for ticker\n",
      "Monthly data for TOTDY saved successfully.\n",
      "Monthly data for MBGYY saved successfully.\n",
      "Monthly data for AJINY saved successfully.\n",
      "Monthly data for NJDCY saved successfully.\n",
      "Monthly data for RANJY saved successfully.\n",
      "Monthly data for FMS saved successfully.\n",
      "Monthly data for NGG saved successfully.\n",
      "Monthly data for MHGVY saved successfully.\n",
      "Monthly data for ENGIY saved successfully.\n",
      "Monthly data for KGFHY saved successfully.\n",
      "Monthly data for EADSY saved successfully.\n",
      "Monthly data for BBVA saved successfully.\n",
      "Monthly data for KKPNY saved successfully.\n",
      "Monthly data for BUD saved successfully.\n",
      "Monthly data for VEOEY saved successfully.\n",
      "Monthly data for SSEZY saved successfully.\n",
      "Monthly data for AMADY saved successfully.\n",
      "Monthly data for CHEOY saved successfully.\n",
      "Monthly data for TTDKY saved successfully.\n",
      "Monthly data for MTHRY saved successfully.\n",
      "Monthly data for CMSQY saved successfully.\n",
      "Monthly data for DBOEY saved successfully.\n"
     ]
    },
    {
     "name": "stderr",
     "output_type": "stream",
     "text": [
      "$RPT: possibly delisted; No timezone found\n"
     ]
    },
    {
     "name": "stdout",
     "output_type": "stream",
     "text": [
      "Error fetching historical data for RPT: No historical data found for ticker\n",
      "Monthly data for DHLGY saved successfully.\n",
      "Monthly data for VWAGY saved successfully.\n",
      "Monthly data for OMRNY saved successfully.\n",
      "Monthly data for FBP saved successfully.\n",
      "Monthly data for SWDBY saved successfully.\n",
      "Monthly data for BMRRY saved successfully.\n",
      "Monthly data for AXAHY saved successfully.\n",
      "Monthly data for SOAGY saved successfully.\n",
      "Monthly data for SZKMY saved successfully.\n",
      "Monthly data for UOVEY saved successfully.\n",
      "Monthly data for SKFRY saved successfully.\n",
      "Monthly data for SVNLY saved successfully.\n",
      "Monthly data for FRCOY saved successfully.\n",
      "Monthly data for SKLTY saved successfully.\n",
      "Monthly data for BDNNY saved successfully.\n",
      "Monthly data for DNTUY saved successfully.\n",
      "Monthly data for BCS saved successfully.\n",
      "Monthly data for NTES saved successfully.\n",
      "Monthly data for SOBKY saved successfully.\n"
     ]
    },
    {
     "name": "stderr",
     "output_type": "stream",
     "text": [
      "$8.WEEK, MATURE: possibly delisted; No timezone found\n"
     ]
    },
    {
     "name": "stdout",
     "output_type": "stream",
     "text": [
      "Error fetching historical data for 8.WEEK, MATURE: No historical data found for ticker\n",
      "Monthly data for MSI saved successfully.\n",
      "Monthly data for PAYX saved successfully.\n",
      "Monthly data for SNV saved successfully.\n",
      "Monthly data for COF saved successfully.\n",
      "Monthly data for BROS saved successfully.\n",
      "Monthly data for VAL saved successfully.\n",
      "Monthly data for FDX saved successfully.\n",
      "Monthly data for OLPX saved successfully.\n",
      "Monthly data for LCID saved successfully.\n",
      "Monthly data for ATUS saved successfully.\n"
     ]
    },
    {
     "name": "stderr",
     "output_type": "stream",
     "text": [
      "$DISH: possibly delisted; No timezone found\n"
     ]
    },
    {
     "name": "stdout",
     "output_type": "stream",
     "text": [
      "Error fetching historical data for DISH: No historical data found for ticker\n",
      "Monthly data for QS saved successfully.\n",
      "Monthly data for BIDU saved successfully.\n",
      "Monthly data for SNPS saved successfully.\n",
      "Monthly data for HUBS saved successfully.\n"
     ]
    },
    {
     "name": "stderr",
     "output_type": "stream",
     "text": [
      "$SRE$A: possibly delisted; No timezone found\n"
     ]
    },
    {
     "name": "stdout",
     "output_type": "stream",
     "text": [
      "Error fetching historical data for SRE$A: No historical data found for ticker\n",
      "Monthly data for FTV saved successfully.\n"
     ]
    },
    {
     "name": "stderr",
     "output_type": "stream",
     "text": [
      "$ARGO: possibly delisted; No timezone found\n"
     ]
    },
    {
     "name": "stdout",
     "output_type": "stream",
     "text": [
      "Error fetching historical data for ARGO: No historical data found for ticker\n"
     ]
    },
    {
     "name": "stderr",
     "output_type": "stream",
     "text": [
      "$MATURE: possibly delisted; No timezone found\n"
     ]
    },
    {
     "name": "stdout",
     "output_type": "stream",
     "text": [
      "Error fetching historical data for MATURE: No historical data found for ticker\n",
      "Monthly data for GPN saved successfully.\n",
      "Monthly data for PTON saved successfully.\n",
      "Monthly data for SIRI saved successfully.\n",
      "Monthly data for GLD saved successfully.\n"
     ]
    },
    {
     "name": "stderr",
     "output_type": "stream",
     "text": [
      "$WBK: possibly delisted; No timezone found\n"
     ]
    },
    {
     "name": "stdout",
     "output_type": "stream",
     "text": [
      "Error fetching historical data for WBK: No historical data found for ticker\n"
     ]
    },
    {
     "name": "stderr",
     "output_type": "stream",
     "text": [
      "$BELGIUM: possibly delisted; No timezone found\n"
     ]
    },
    {
     "name": "stdout",
     "output_type": "stream",
     "text": [
      "Error fetching historical data for BELGIUM: No historical data found for ticker\n",
      "Monthly data for REIT saved successfully.\n",
      "Monthly data for NTAP saved successfully.\n"
     ]
    },
    {
     "name": "stderr",
     "output_type": "stream",
     "text": [
      "$SIRE: possibly delisted; No timezone found\n"
     ]
    },
    {
     "name": "stdout",
     "output_type": "stream",
     "text": [
      "Error fetching historical data for SIRE: No historical data found for ticker\n",
      "Monthly data for OCLCF saved successfully.\n",
      "Monthly data for JEF saved successfully.\n",
      "Monthly data for BMO saved successfully.\n",
      "Monthly data for AEP saved successfully.\n",
      "Monthly data for FHN saved successfully.\n",
      "Monthly data for CTAS saved successfully.\n",
      "Monthly data for CINF saved successfully.\n",
      "Monthly data for BCE saved successfully.\n",
      "Monthly data for SON saved successfully.\n",
      "Monthly data for AWK saved successfully.\n",
      "Monthly data for DECK saved successfully.\n",
      "Monthly data for NNN saved successfully.\n",
      "Monthly data for AGR saved successfully.\n",
      "Monthly data for TRU saved successfully.\n",
      "Monthly data for IPG saved successfully.\n",
      "Monthly data for USPH saved successfully.\n",
      "Monthly data for CEG saved successfully.\n",
      "Monthly data for KEYS saved successfully.\n"
     ]
    },
    {
     "name": "stderr",
     "output_type": "stream",
     "text": [
      "$STATE OF: possibly delisted; No timezone found\n"
     ]
    },
    {
     "name": "stdout",
     "output_type": "stream",
     "text": [
      "Error fetching historical data for STATE OF: No historical data found for ticker\n"
     ]
    },
    {
     "name": "stderr",
     "output_type": "stream",
     "text": [
      "$ABB: possibly delisted; No timezone found\n"
     ]
    },
    {
     "name": "stdout",
     "output_type": "stream",
     "text": [
      "Error fetching historical data for ABB: No historical data found for ticker\n",
      "Monthly data for IQV saved successfully.\n"
     ]
    },
    {
     "name": "stderr",
     "output_type": "stream",
     "text": [
      "$AQUA: possibly delisted; No timezone found\n"
     ]
    },
    {
     "name": "stdout",
     "output_type": "stream",
     "text": [
      "Error fetching historical data for AQUA: No historical data found for ticker\n",
      "Monthly data for ETSY saved successfully.\n",
      "Monthly data for UI saved successfully.\n",
      "Monthly data for SNAP saved successfully.\n",
      "Monthly data for CCCS saved successfully.\n",
      "Monthly data for PINS saved successfully.\n",
      "Monthly data for VFC saved successfully.\n",
      "Monthly data for AJG saved successfully.\n",
      "Monthly data for LPLA saved successfully.\n",
      "Monthly data for CCK saved successfully.\n",
      "Monthly data for IVV saved successfully.\n",
      "Monthly data for FQAL saved successfully.\n",
      "Monthly data for SNDR saved successfully.\n",
      "Monthly data for BRKR saved successfully.\n",
      "Monthly data for SBIO saved successfully.\n",
      "Monthly data for VSH saved successfully.\n",
      "Monthly data for LGI saved successfully.\n",
      "Monthly data for JHMM saved successfully.\n",
      "Monthly data for FDN saved successfully.\n",
      "Monthly data for AVNT saved successfully.\n",
      "Monthly data for FIMKX saved successfully.\n",
      "Monthly data for FCPIX saved successfully.\n",
      "Monthly data for DGRS saved successfully.\n",
      "Monthly data for MRVL saved successfully.\n",
      "Monthly data for RTH saved successfully.\n",
      "Monthly data for MRO saved successfully.\n",
      "Monthly data for BHF saved successfully.\n",
      "Monthly data for PEG saved successfully.\n",
      "Monthly data for IYY saved successfully.\n",
      "Monthly data for WFAFY saved successfully.\n",
      "Monthly data for RSP saved successfully.\n",
      "Monthly data for IWD saved successfully.\n",
      "Monthly data for UA saved successfully.\n",
      "Monthly data for CARG saved successfully.\n",
      "Monthly data for SYF saved successfully.\n",
      "Monthly data for RITM saved successfully.\n"
     ]
    },
    {
     "name": "stderr",
     "output_type": "stream",
     "text": [
      "$KRTX: possibly delisted; No timezone found\n"
     ]
    },
    {
     "name": "stdout",
     "output_type": "stream",
     "text": [
      "Error fetching historical data for KRTX: No historical data found for ticker\n",
      "Monthly data for EDIT saved successfully.\n",
      "Monthly data for AIG saved successfully.\n",
      "Monthly data for CONN saved successfully.\n",
      "Monthly data for UGI saved successfully.\n",
      "Monthly data for COLB saved successfully.\n",
      "Monthly data for NTNX saved successfully.\n",
      "Monthly data for RNG saved successfully.\n",
      "Monthly data for PLUG saved successfully.\n",
      "Monthly data for NTRA saved successfully.\n",
      "Monthly data for NOV saved successfully.\n",
      "Monthly data for GM saved successfully.\n",
      "Monthly data for HUN saved successfully.\n",
      "Monthly data for ESRT saved successfully.\n",
      "Monthly data for RGA saved successfully.\n",
      "Monthly data for ARRY saved successfully.\n"
     ]
    },
    {
     "name": "stderr",
     "output_type": "stream",
     "text": [
      "$MRTX: possibly delisted; No timezone found\n"
     ]
    },
    {
     "name": "stdout",
     "output_type": "stream",
     "text": [
      "Error fetching historical data for MRTX: No historical data found for ticker\n",
      "Monthly data for GTLB saved successfully.\n",
      "Monthly data for ENPH saved successfully.\n",
      "Monthly data for UAL saved successfully.\n",
      "Monthly data for FOLD saved successfully.\n",
      "Monthly data for AAT saved successfully.\n",
      "Monthly data for NEM saved successfully.\n",
      "Monthly data for TAP saved successfully.\n",
      "Monthly data for UNM saved successfully.\n",
      "Monthly data for SBRA saved successfully.\n",
      "Monthly data for AXS saved successfully.\n",
      "Monthly data for CWK saved successfully.\n",
      "Monthly data for OUT saved successfully.\n",
      "Monthly data for ZS saved successfully.\n",
      "Monthly data for APO saved successfully.\n",
      "Monthly data for VTRS saved successfully.\n",
      "Monthly data for BILL saved successfully.\n",
      "Monthly data for FCNCA saved successfully.\n",
      "Monthly data for INSP saved successfully.\n",
      "Monthly data for VNO saved successfully.\n",
      "Monthly data for QTWO saved successfully.\n",
      "Monthly data for LPSN saved successfully.\n",
      "Monthly data for MLKN saved successfully.\n",
      "Monthly data for LC saved successfully.\n",
      "Monthly data for CSGP saved successfully.\n",
      "Monthly data for VAC saved successfully.\n",
      "Monthly data for FWONK saved successfully.\n",
      "Monthly data for AKR saved successfully.\n",
      "Monthly data for FLO saved successfully.\n",
      "Monthly data for ROKU saved successfully.\n",
      "Monthly data for OPEN saved successfully.\n",
      "Monthly data for DLR saved successfully.\n",
      "Monthly data for MDGL saved successfully.\n",
      "Monthly data for WBS saved successfully.\n",
      "Monthly data for FCEL saved successfully.\n",
      "Monthly data for EWBC saved successfully.\n",
      "Monthly data for NYCB saved successfully.\n",
      "Monthly data for CPT saved successfully.\n",
      "Monthly data for NFG saved successfully.\n",
      "Monthly data for MRVI saved successfully.\n",
      "Monthly data for YOU saved successfully.\n",
      "Monthly data for WY saved successfully.\n",
      "Monthly data for JLL saved successfully.\n",
      "Monthly data for AGNC saved successfully.\n",
      "Monthly data for CAR saved successfully.\n",
      "Monthly data for DNB saved successfully.\n",
      "Monthly data for AHCO saved successfully.\n",
      "Monthly data for CHDN saved successfully.\n"
     ]
    },
    {
     "name": "stderr",
     "output_type": "stream",
     "text": [
      "$CSII: possibly delisted; No timezone found\n"
     ]
    },
    {
     "name": "stdout",
     "output_type": "stream",
     "text": [
      "Error fetching historical data for CSII: No historical data found for ticker\n",
      "Monthly data for MKSI saved successfully.\n",
      "Monthly data for QSR saved successfully.\n",
      "Monthly data for TREX saved successfully.\n"
     ]
    },
    {
     "name": "stderr",
     "output_type": "stream",
     "text": [
      "$FLT: possibly delisted; No timezone found\n"
     ]
    },
    {
     "name": "stdout",
     "output_type": "stream",
     "text": [
      "Error fetching historical data for FLT: No historical data found for ticker\n",
      "Monthly data for APPF saved successfully.\n",
      "Monthly data for SCI saved successfully.\n",
      "Monthly data for VCTR saved successfully.\n",
      "Monthly data for CROX saved successfully.\n",
      "Monthly data for MTD saved successfully.\n",
      "Monthly data for GFI saved successfully.\n",
      "Monthly data for DQ saved successfully.\n",
      "Monthly data for NDSN saved successfully.\n",
      "Monthly data for SSD saved successfully.\n"
     ]
    },
    {
     "name": "stderr",
     "output_type": "stream",
     "text": [
      "$LMST: possibly delisted; No timezone found\n"
     ]
    },
    {
     "name": "stdout",
     "output_type": "stream",
     "text": [
      "Error fetching historical data for LMST: No historical data found for ticker\n",
      "Monthly data for GRMN saved successfully.\n",
      "Monthly data for RH saved successfully.\n"
     ]
    },
    {
     "name": "stderr",
     "output_type": "stream",
     "text": [
      "$CNHI: possibly delisted; No timezone found\n"
     ]
    },
    {
     "name": "stdout",
     "output_type": "stream",
     "text": [
      "Error fetching historical data for CNHI: No historical data found for ticker\n",
      "Monthly data for GRFS saved successfully.\n",
      "Monthly data for MONOY saved successfully.\n",
      "Monthly data for VONOY saved successfully.\n",
      "Monthly data for SKBSY saved successfully.\n",
      "Monthly data for ASXFY saved successfully.\n",
      "Monthly data for ECL saved successfully.\n"
     ]
    },
    {
     "name": "stderr",
     "output_type": "stream",
     "text": [
      "$DPSGY: possibly delisted; No timezone found\n"
     ]
    },
    {
     "name": "stdout",
     "output_type": "stream",
     "text": [
      "Error fetching historical data for DPSGY: No historical data found for ticker\n",
      "Monthly data for MITEY saved successfully.\n",
      "Monthly data for NTDTY saved successfully.\n",
      "Monthly data for SMPNY saved successfully.\n",
      "Monthly data for BHKLY saved successfully.\n",
      "Monthly data for SSB saved successfully.\n",
      "Monthly data for VIASP saved successfully.\n",
      "Monthly data for BOH saved successfully.\n"
     ]
    },
    {
     "name": "stderr",
     "output_type": "stream",
     "text": [
      "$FRC: possibly delisted; No timezone found\n"
     ]
    },
    {
     "name": "stdout",
     "output_type": "stream",
     "text": [
      "Error fetching historical data for FRC: No historical data found for ticker\n",
      "Monthly data for LTRPA saved successfully.\n"
     ]
    },
    {
     "name": "stderr",
     "output_type": "stream",
     "text": [
      "$CS: possibly delisted; No timezone found\n"
     ]
    },
    {
     "name": "stdout",
     "output_type": "stream",
     "text": [
      "Error fetching historical data for CS: No historical data found for ticker\n",
      "Monthly data for MPC saved successfully.\n",
      "Monthly data for WCC saved successfully.\n",
      "Monthly data for ABCB saved successfully.\n",
      "Monthly data for O saved successfully.\n",
      "Monthly data for NUE saved successfully.\n",
      "Monthly data for TYG saved successfully.\n",
      "Monthly data for CIVI saved successfully.\n"
     ]
    },
    {
     "name": "stderr",
     "output_type": "stream",
     "text": [
      "SIVB: Period '1mo' is invalid, must be one of ['1d', '5d']\n"
     ]
    },
    {
     "name": "stdout",
     "output_type": "stream",
     "text": [
      "Monthly data for WDS saved successfully.\n",
      "Error fetching historical data for SIVB: No historical data found for ticker\n",
      "Monthly data for SCHD saved successfully.\n",
      "Monthly data for SVC saved successfully.\n",
      "Monthly data for CPB saved successfully.\n",
      "Monthly data for BCC saved successfully.\n",
      "Monthly data for OHI saved successfully.\n",
      "Monthly data for CTLT saved successfully.\n",
      "Monthly data for GMED saved successfully.\n",
      "Monthly data for DEI saved successfully.\n",
      "Monthly data for GO saved successfully.\n",
      "Monthly data for ED saved successfully.\n",
      "Monthly data for DAL saved successfully.\n",
      "Monthly data for NLY saved successfully.\n",
      "Monthly data for ATO saved successfully.\n",
      "Monthly data for Z saved successfully.\n",
      "Monthly data for APPS saved successfully.\n",
      "Monthly data for ALLY saved successfully.\n",
      "Monthly data for RJF saved successfully.\n",
      "Monthly data for BMRN saved successfully.\n",
      "Monthly data for BLNK saved successfully.\n",
      "Monthly data for SILK saved successfully.\n",
      "Monthly data for PAYC saved successfully.\n",
      "Monthly data for SBNY saved successfully.\n",
      "Monthly data for MKC saved successfully.\n",
      "Monthly data for ELAN saved successfully.\n",
      "Monthly data for HE saved successfully.\n",
      "Monthly data for BRO saved successfully.\n",
      "Monthly data for CDNA saved successfully.\n",
      "Monthly data for HPP saved successfully.\n",
      "Monthly data for CNP saved successfully.\n",
      "Monthly data for INCY saved successfully.\n"
     ]
    },
    {
     "name": "stderr",
     "output_type": "stream",
     "text": [
      "$PACW: possibly delisted; No timezone found\n"
     ]
    },
    {
     "name": "stdout",
     "output_type": "stream",
     "text": [
      "Error fetching historical data for PACW: No historical data found for ticker\n",
      "Monthly data for BIIB saved successfully.\n",
      "Monthly data for IONS saved successfully.\n",
      "Monthly data for SRE saved successfully.\n",
      "Monthly data for RIVN saved successfully.\n",
      "Monthly data for IBRX saved successfully.\n",
      "Monthly data for K saved successfully.\n"
     ]
    },
    {
     "name": "stderr",
     "output_type": "stream",
     "text": [
      "$RTN: possibly delisted; No timezone found\n"
     ]
    },
    {
     "name": "stdout",
     "output_type": "stream",
     "text": [
      "Error fetching historical data for RTN: No historical data found for ticker\n",
      "Monthly data for PFF saved successfully.\n",
      "Monthly data for RUN saved successfully.\n",
      "Monthly data for FIVE saved successfully.\n",
      "Monthly data for UNICY saved successfully.\n",
      "Monthly data for UNVGY saved successfully.\n",
      "Monthly data for SGAPY saved successfully.\n"
     ]
    },
    {
     "name": "stderr",
     "output_type": "stream",
     "text": [
      "$TOSYY: possibly delisted; No timezone found\n"
     ]
    },
    {
     "name": "stdout",
     "output_type": "stream",
     "text": [
      "Error fetching historical data for TOSYY: No historical data found for ticker\n",
      "Monthly data for RCRUY saved successfully.\n",
      "Monthly data for TELNY saved successfully.\n",
      "Monthly data for NPPNY saved successfully.\n",
      "Monthly data for ELUXY saved successfully.\n",
      "Monthly data for ITC saved successfully.\n",
      "Monthly data for KKOYY saved successfully.\n",
      "Monthly data for CBZ saved successfully.\n"
     ]
    },
    {
     "name": "stderr",
     "output_type": "stream",
     "text": [
      "$MATURIT: possibly delisted; No timezone found\n"
     ]
    },
    {
     "name": "stdout",
     "output_type": "stream",
     "text": [
      "Error fetching historical data for MATURIT: No historical data found for ticker\n",
      "Monthly data for PFGC saved successfully.\n",
      "Monthly data for FPI saved successfully.\n",
      "Monthly data for SQM saved successfully.\n"
     ]
    },
    {
     "name": "stderr",
     "output_type": "stream",
     "text": [
      "$BRK.A: possibly delisted; No timezone found\n"
     ]
    },
    {
     "name": "stdout",
     "output_type": "stream",
     "text": [
      "Error fetching historical data for BRK.A: No historical data found for ticker\n",
      "Monthly data for KBE saved successfully.\n",
      "Monthly data for VFH saved successfully.\n",
      "Monthly data for BSM saved successfully.\n"
     ]
    },
    {
     "name": "stderr",
     "output_type": "stream",
     "text": [
      "$CANO: possibly delisted; No timezone found\n"
     ]
    },
    {
     "name": "stdout",
     "output_type": "stream",
     "text": [
      "Error fetching historical data for CANO: No historical data found for ticker\n",
      "Monthly data for LUBYX saved successfully.\n",
      "Monthly data for GNR saved successfully.\n",
      "Monthly data for VHT saved successfully.\n",
      "Monthly data for MOO saved successfully.\n",
      "Monthly data for QTEC saved successfully.\n",
      "Monthly data for NXTG saved successfully.\n",
      "Monthly data for CDL saved successfully.\n",
      "Monthly data for LDP saved successfully.\n",
      "Monthly data for ABYIX saved successfully.\n",
      "Monthly data for MBXIX saved successfully.\n",
      "Monthly data for SPGP saved successfully.\n",
      "Monthly data for IGHG saved successfully.\n",
      "Monthly data for VEEV saved successfully.\n",
      "Monthly data for WDAY saved successfully.\n",
      "Monthly data for VRSK saved successfully.\n",
      "Monthly data for IBN saved successfully.\n",
      "Monthly data for MTCH saved successfully.\n"
     ]
    },
    {
     "name": "stderr",
     "output_type": "stream",
     "text": [
      "HZNP: Period '1mo' is invalid, must be one of ['1d', '5d']\n"
     ]
    },
    {
     "name": "stdout",
     "output_type": "stream",
     "text": [
      "Monthly data for RSG saved successfully.\n",
      "Monthly data for ARWR saved successfully.\n",
      "Error fetching historical data for HZNP: No historical data found for ticker\n"
     ]
    },
    {
     "name": "stderr",
     "output_type": "stream",
     "text": [
      "$SWAV: possibly delisted; No timezone found\n"
     ]
    },
    {
     "name": "stdout",
     "output_type": "stream",
     "text": [
      "Error fetching historical data for SWAV: No historical data found for ticker\n"
     ]
    },
    {
     "name": "stderr",
     "output_type": "stream",
     "text": [
      "$SYNH: possibly delisted; No timezone found\n"
     ]
    },
    {
     "name": "stdout",
     "output_type": "stream",
     "text": [
      "Error fetching historical data for SYNH: No historical data found for ticker\n"
     ]
    },
    {
     "name": "stderr",
     "output_type": "stream",
     "text": [
      "$MAXR: possibly delisted; No timezone found\n"
     ]
    },
    {
     "name": "stdout",
     "output_type": "stream",
     "text": [
      "Error fetching historical data for MAXR: No historical data found for ticker\n",
      "Monthly data for FATE saved successfully.\n",
      "Monthly data for WIW saved successfully.\n",
      "Monthly data for CHE saved successfully.\n",
      "Monthly data for ICLR saved successfully.\n",
      "Monthly data for ORLY saved successfully.\n",
      "Monthly data for ENVX saved successfully.\n",
      "Monthly data for SPWR saved successfully.\n",
      "Monthly data for RBLX saved successfully.\n",
      "Monthly data for HAS saved successfully.\n"
     ]
    },
    {
     "name": "stderr",
     "output_type": "stream",
     "text": [
      "$ESALY: possibly delisted; No timezone found\n"
     ]
    },
    {
     "name": "stdout",
     "output_type": "stream",
     "text": [
      "Error fetching historical data for ESALY: No historical data found for ticker\n"
     ]
    },
    {
     "name": "stderr",
     "output_type": "stream",
     "text": [
      "$BAC.PL: possibly delisted; No timezone found\n"
     ]
    },
    {
     "name": "stdout",
     "output_type": "stream",
     "text": [
      "Error fetching historical data for BAC.PL: No historical data found for ticker\n"
     ]
    },
    {
     "name": "stderr",
     "output_type": "stream",
     "text": [
      "$RDSMY: possibly delisted; No timezone found\n"
     ]
    },
    {
     "name": "stdout",
     "output_type": "stream",
     "text": [
      "Error fetching historical data for RDSMY: No historical data found for ticker\n",
      "Monthly data for AGI saved successfully.\n",
      "Monthly data for MTSI saved successfully.\n",
      "Monthly data for CG saved successfully.\n",
      "Monthly data for CHRS saved successfully.\n",
      "Monthly data for CMPS saved successfully.\n",
      "Monthly data for BAX saved successfully.\n",
      "Monthly data for TTWO saved successfully.\n",
      "Monthly data for MUNI saved successfully.\n"
     ]
    },
    {
     "name": "stderr",
     "output_type": "stream",
     "text": [
      "$4.WEEK MATURE: possibly delisted; No timezone found\n"
     ]
    },
    {
     "name": "stdout",
     "output_type": "stream",
     "text": [
      "Error fetching historical data for 4.WEEK MATURE: No historical data found for ticker\n",
      "Monthly data for PSO saved successfully.\n",
      "Monthly data for JAPSY saved successfully.\n"
     ]
    },
    {
     "name": "stderr",
     "output_type": "stream",
     "text": [
      "$13.WEEK MATURE: possibly delisted; No timezone found\n"
     ]
    },
    {
     "name": "stdout",
     "output_type": "stream",
     "text": [
      "Error fetching historical data for 13.WEEK MATURE: No historical data found for ticker\n",
      "Monthly data for SAND saved successfully.\n",
      "Monthly data for WTRG saved successfully.\n",
      "Monthly data for HOLX saved successfully.\n",
      "Monthly data for ATKR saved successfully.\n",
      "Monthly data for TU saved successfully.\n",
      "Monthly data for FAST saved successfully.\n",
      "Monthly data for BHP saved successfully.\n",
      "Monthly data for SRVR saved successfully.\n",
      "Monthly data for MGM saved successfully.\n",
      "Monthly data for GEHC saved successfully.\n",
      "Monthly data for GE saved successfully.\n"
     ]
    },
    {
     "name": "stderr",
     "output_type": "stream",
     "text": [
      "$RNWK: possibly delisted; No timezone found\n"
     ]
    },
    {
     "name": "stdout",
     "output_type": "stream",
     "text": [
      "Error fetching historical data for RNWK: No historical data found for ticker\n",
      "Monthly data for SUPN saved successfully.\n"
     ]
    },
    {
     "name": "stderr",
     "output_type": "stream",
     "text": [
      "$91282CFN6: possibly delisted; No timezone found\n"
     ]
    },
    {
     "name": "stdout",
     "output_type": "stream",
     "text": [
      "Error fetching historical data for 91282CFN6: No historical data found for ticker\n",
      "Monthly data for COHR saved successfully.\n",
      "Monthly data for GNRC saved successfully.\n",
      "Monthly data for AKAM saved successfully.\n",
      "Monthly data for FISV saved successfully.\n",
      "Monthly data for ARCB saved successfully.\n",
      "Monthly data for SWK saved successfully.\n"
     ]
    },
    {
     "name": "stderr",
     "output_type": "stream",
     "text": [
      "$BLL: possibly delisted; No timezone found\n"
     ]
    },
    {
     "name": "stdout",
     "output_type": "stream",
     "text": [
      "Error fetching historical data for BLL: No historical data found for ticker\n",
      "Monthly data for WYNN saved successfully.\n",
      "Monthly data for MASI saved successfully.\n",
      "Monthly data for ATHA saved successfully.\n",
      "Monthly data for CRGY saved successfully.\n",
      "Monthly data for GEVO saved successfully.\n"
     ]
    },
    {
     "name": "stderr",
     "output_type": "stream",
     "text": [
      "$MNRL: possibly delisted; No timezone found\n"
     ]
    },
    {
     "name": "stdout",
     "output_type": "stream",
     "text": [
      "Error fetching historical data for MNRL: No historical data found for ticker\n",
      "Monthly data for NTST saved successfully.\n",
      "Monthly data for AVXL saved successfully.\n",
      "Monthly data for TELL saved successfully.\n",
      "Monthly data for PCVX saved successfully.\n",
      "Monthly data for SWTX saved successfully.\n"
     ]
    },
    {
     "name": "stderr",
     "output_type": "stream",
     "text": [
      "$912796ZP7: possibly delisted; No timezone found\n"
     ]
    },
    {
     "name": "stdout",
     "output_type": "stream",
     "text": [
      "Error fetching historical data for 912796ZP7: No historical data found for ticker\n",
      "Monthly data for CTRA saved successfully.\n",
      "Monthly data for XPRO saved successfully.\n",
      "Monthly data for KURA saved successfully.\n",
      "Monthly data for AROC saved successfully.\n",
      "Monthly data for DOC saved successfully.\n",
      "Monthly data for KRYS saved successfully.\n",
      "Monthly data for SAVA saved successfully.\n",
      "Monthly data for KALV saved successfully.\n",
      "Monthly data for NESR saved successfully.\n",
      "Monthly data for BLFS saved successfully.\n",
      "Monthly data for HLX saved successfully.\n",
      "Monthly data for HP saved successfully.\n",
      "Monthly data for NOTV saved successfully.\n",
      "Monthly data for RLMD saved successfully.\n"
     ]
    },
    {
     "name": "stderr",
     "output_type": "stream",
     "text": [
      "$INSW.V: possibly delisted; No timezone found\n"
     ]
    },
    {
     "name": "stdout",
     "output_type": "stream",
     "text": [
      "Error fetching historical data for INSW.V: No historical data found for ticker\n",
      "Monthly data for CMTG saved successfully.\n",
      "Monthly data for COGT saved successfully.\n"
     ]
    },
    {
     "name": "stderr",
     "output_type": "stream",
     "text": [
      "$912796YJ2: possibly delisted; No timezone found\n"
     ]
    },
    {
     "name": "stdout",
     "output_type": "stream",
     "text": [
      "Error fetching historical data for 912796YJ2: No historical data found for ticker\n",
      "Monthly data for INSM saved successfully.\n",
      "Monthly data for SGENX saved successfully.\n",
      "Monthly data for SCHP saved successfully.\n",
      "Monthly data for ESI saved successfully.\n",
      "Monthly data for GFL saved successfully.\n",
      "Monthly data for FFIV saved successfully.\n",
      "Monthly data for BFAM saved successfully.\n",
      "Monthly data for FOUR saved successfully.\n",
      "Monthly data for ACHC saved successfully.\n"
     ]
    },
    {
     "name": "stderr",
     "output_type": "stream",
     "text": [
      "$BKI: possibly delisted; No timezone found\n"
     ]
    },
    {
     "name": "stdout",
     "output_type": "stream",
     "text": [
      "Error fetching historical data for BKI: No historical data found for ticker\n",
      "Monthly data for ENTG saved successfully.\n",
      "Monthly data for BLDR saved successfully.\n",
      "Monthly data for GT saved successfully.\n",
      "Monthly data for XYL saved successfully.\n",
      "Monthly data for PLNT saved successfully.\n",
      "Monthly data for CDW saved successfully.\n",
      "Monthly data for AZEK saved successfully.\n",
      "Monthly data for LYV saved successfully.\n",
      "Monthly data for REZI saved successfully.\n",
      "Monthly data for MAT saved successfully.\n",
      "Monthly data for LESL saved successfully.\n",
      "Monthly data for BBWI saved successfully.\n",
      "Monthly data for USFD saved successfully.\n",
      "Monthly data for VRT saved successfully.\n"
     ]
    },
    {
     "name": "stderr",
     "output_type": "stream",
     "text": [
      "$DSEY: possibly delisted; No timezone found\n"
     ]
    },
    {
     "name": "stdout",
     "output_type": "stream",
     "text": [
      "Error fetching historical data for DSEY: No historical data found for ticker\n",
      "Monthly data for BERY saved successfully.\n",
      "Monthly data for MLM saved successfully.\n",
      "Monthly data for VICI saved successfully.\n",
      "Monthly data for SMG saved successfully.\n",
      "Monthly data for QRVO saved successfully.\n",
      "Monthly data for CZR saved successfully.\n"
     ]
    },
    {
     "name": "stderr",
     "output_type": "stream",
     "text": [
      "$CLR: possibly delisted; No timezone found\n",
      "$SSLTY: possibly delisted; No price data found  (1d 2021-01-01 -> 2024-08-09)\n"
     ]
    },
    {
     "name": "stdout",
     "output_type": "stream",
     "text": [
      "Error fetching historical data for CLR: No historical data found for ticker\n",
      "Monthly data for ZIMV saved successfully.\n",
      "$SSLTY: possibly delisted; No price data found  (1d 2021-01-01 -> 2024-08-09)\n",
      "Error fetching historical data for SSLTY: No historical data found for ticker\n"
     ]
    },
    {
     "name": "stderr",
     "output_type": "stream",
     "text": [
      "$TREASURY INFLATIO: possibly delisted; No timezone found\n"
     ]
    },
    {
     "name": "stdout",
     "output_type": "stream",
     "text": [
      "Error fetching historical data for TREASURY INFLATIO: No historical data found for ticker\n",
      "Monthly data for ZBH saved successfully.\n"
     ]
    },
    {
     "name": "stderr",
     "output_type": "stream",
     "text": [
      "$6.MONTH: possibly delisted; No timezone found\n"
     ]
    },
    {
     "name": "stdout",
     "output_type": "stream",
     "text": [
      "Error fetching historical data for 6.MONTH: No historical data found for ticker\n",
      "Monthly data for BATRA saved successfully.\n",
      "Monthly data for AMP saved successfully.\n",
      "Monthly data for CR saved successfully.\n",
      "Monthly data for QYLD saved successfully.\n",
      "Monthly data for LBRDA saved successfully.\n",
      "Monthly data for BTEC saved successfully.\n",
      "Monthly data for FSMDX saved successfully.\n",
      "Monthly data for FLYW saved successfully.\n",
      "Monthly data for EFA saved successfully.\n",
      "Monthly data for IRBT saved successfully.\n"
     ]
    },
    {
     "name": "stderr",
     "output_type": "stream",
     "text": [
      "$COUP: possibly delisted; No timezone found\n"
     ]
    },
    {
     "name": "stdout",
     "output_type": "stream",
     "text": [
      "Error fetching historical data for COUP: No historical data found for ticker\n"
     ]
    },
    {
     "name": "stderr",
     "output_type": "stream",
     "text": [
      "$HSAC: possibly delisted; No timezone found\n"
     ]
    },
    {
     "name": "stdout",
     "output_type": "stream",
     "text": [
      "Error fetching historical data for HSAC: No historical data found for ticker\n",
      "Monthly data for AKRO saved successfully.\n",
      "Monthly data for KOD saved successfully.\n",
      "Monthly data for BCEL saved successfully.\n",
      "Monthly data for OCGN saved successfully.\n"
     ]
    },
    {
     "name": "stderr",
     "output_type": "stream",
     "text": [
      "$ENOB: possibly delisted; No timezone found\n",
      "$TLRN: possibly delisted; No price data found  (1d 2021-01-01 -> 2024-08-09)\n"
     ]
    },
    {
     "name": "stdout",
     "output_type": "stream",
     "text": [
      "Error fetching historical data for ENOB: No historical data found for ticker\n",
      "$TLRN: possibly delisted; No price data found  (1d 2021-01-01 -> 2024-08-09)\n",
      "Error fetching historical data for TLRN: No historical data found for ticker\n"
     ]
    },
    {
     "name": "stderr",
     "output_type": "stream",
     "text": [
      "$SI: possibly delisted; No timezone found\n"
     ]
    },
    {
     "name": "stdout",
     "output_type": "stream",
     "text": [
      "Error fetching historical data for SI: No historical data found for ticker\n",
      "Monthly data for U saved successfully.\n",
      "Monthly data for VYM saved successfully.\n",
      "Monthly data for MAIIX saved successfully.\n",
      "Monthly data for FHYS saved successfully.\n",
      "Monthly data for FDEV saved successfully.\n",
      "Monthly data for BAGIX saved successfully.\n"
     ]
    },
    {
     "name": "stderr",
     "output_type": "stream",
     "text": [
      "$TWTR: possibly delisted; No timezone found\n"
     ]
    },
    {
     "name": "stdout",
     "output_type": "stream",
     "text": [
      "Error fetching historical data for TWTR: No historical data found for ticker\n",
      "Monthly data for AE saved successfully.\n",
      "Monthly data for JOE saved successfully.\n",
      "Monthly data for BMN saved successfully.\n",
      "Monthly data for KBH saved successfully.\n"
     ]
    },
    {
     "name": "stderr",
     "output_type": "stream",
     "text": [
      "$FB: possibly delisted; No timezone found\n"
     ]
    },
    {
     "name": "stdout",
     "output_type": "stream",
     "text": [
      "Error fetching historical data for FB: No historical data found for ticker\n",
      "Monthly data for FAS saved successfully.\n",
      "Monthly data for USO saved successfully.\n",
      "Monthly data for FTBFX saved successfully.\n",
      "Monthly data for ANDE saved successfully.\n",
      "Monthly data for CPXWF saved successfully.\n"
     ]
    },
    {
     "name": "stderr",
     "output_type": "stream",
     "text": [
      "$CCXI: possibly delisted; No timezone found\n"
     ]
    },
    {
     "name": "stdout",
     "output_type": "stream",
     "text": [
      "Error fetching historical data for CCXI: No historical data found for ticker\n",
      "Monthly data for EFAD saved successfully.\n",
      "Monthly data for GMRE saved successfully.\n",
      "Monthly data for GSMYX saved successfully.\n"
     ]
    },
    {
     "name": "stderr",
     "output_type": "stream",
     "text": [
      "$ISEE: possibly delisted; No timezone found\n"
     ]
    },
    {
     "name": "stdout",
     "output_type": "stream",
     "text": [
      "Error fetching historical data for ISEE: No historical data found for ticker\n",
      "Monthly data for PLL saved successfully.\n",
      "Monthly data for AEE saved successfully.\n",
      "Monthly data for AMLX saved successfully.\n",
      "$BRCM: possibly delisted; No price data found  (1d 2021-01-01 -> 2024-08-09)\n"
     ]
    },
    {
     "name": "stderr",
     "output_type": "stream",
     "text": [
      "$BRCM: possibly delisted; No price data found  (1d 2021-01-01 -> 2024-08-09)\n"
     ]
    },
    {
     "name": "stdout",
     "output_type": "stream",
     "text": [
      "Error fetching historical data for BRCM: No historical data found for ticker\n",
      "Monthly data for PPL saved successfully.\n",
      "Monthly data for PCTY saved successfully.\n"
     ]
    },
    {
     "name": "stderr",
     "output_type": "stream",
     "text": [
      "$912796X87: possibly delisted; No timezone found\n"
     ]
    },
    {
     "name": "stdout",
     "output_type": "stream",
     "text": [
      "Error fetching historical data for 912796X87: No historical data found for ticker\n"
     ]
    },
    {
     "name": "stderr",
     "output_type": "stream",
     "text": [
      "$BRMK: possibly delisted; No timezone found\n"
     ]
    },
    {
     "name": "stdout",
     "output_type": "stream",
     "text": [
      "Error fetching historical data for BRMK: No historical data found for ticker\n",
      "Monthly data for VTNR saved successfully.\n"
     ]
    },
    {
     "name": "stderr",
     "output_type": "stream",
     "text": [
      "$912796U31: possibly delisted; No timezone found\n"
     ]
    },
    {
     "name": "stdout",
     "output_type": "stream",
     "text": [
      "Error fetching historical data for 912796U31: No historical data found for ticker\n",
      "Monthly data for EXPE saved successfully.\n",
      "Monthly data for ELS saved successfully.\n",
      "Monthly data for TROW saved successfully.\n",
      "Monthly data for SH saved successfully.\n",
      "Monthly data for SEIC saved successfully.\n",
      "Monthly data for WIT saved successfully.\n",
      "Monthly data for HQL saved successfully.\n"
     ]
    },
    {
     "name": "stderr",
     "output_type": "stream",
     "text": [
      "$NID: possibly delisted; No timezone found\n"
     ]
    },
    {
     "name": "stdout",
     "output_type": "stream",
     "text": [
      "Error fetching historical data for NID: No historical data found for ticker\n",
      "Monthly data for DGRO saved successfully.\n",
      "Monthly data for IMKTA saved successfully.\n",
      "Monthly data for AA saved successfully.\n",
      "Monthly data for MGY saved successfully.\n",
      "Monthly data for WRK saved successfully.\n",
      "Monthly data for NEWT saved successfully.\n",
      "Monthly data for SJT saved successfully.\n",
      "Monthly data for KMX saved successfully.\n",
      "Monthly data for ARKK saved successfully.\n"
     ]
    },
    {
     "name": "stderr",
     "output_type": "stream",
     "text": [
      "$91282CFG1: possibly delisted; No timezone found\n"
     ]
    },
    {
     "name": "stdout",
     "output_type": "stream",
     "text": [
      "Error fetching historical data for 91282CFG1: No historical data found for ticker\n"
     ]
    },
    {
     "name": "stderr",
     "output_type": "stream",
     "text": [
      "$912796YH6: possibly delisted; No timezone found\n"
     ]
    },
    {
     "name": "stdout",
     "output_type": "stream",
     "text": [
      "Error fetching historical data for 912796YH6: No historical data found for ticker\n",
      "Monthly data for MFH saved successfully.\n",
      "Monthly data for STAG saved successfully.\n"
     ]
    },
    {
     "name": "stderr",
     "output_type": "stream",
     "text": [
      "$CVET: possibly delisted; No timezone found\n",
      "$LGF.B: possibly delisted; No price data found  (1d 2021-01-01 -> 2024-08-09)\n"
     ]
    },
    {
     "name": "stdout",
     "output_type": "stream",
     "text": [
      "Error fetching historical data for CVET: No historical data found for ticker\n",
      "$LGF.B: possibly delisted; No price data found  (1d 2021-01-01 -> 2024-08-09)\n",
      "Error fetching historical data for LGF.B: No historical data found for ticker\n"
     ]
    },
    {
     "name": "stderr",
     "output_type": "stream",
     "text": [
      "ABMD: No data found, symbol may be delisted\n"
     ]
    },
    {
     "name": "stdout",
     "output_type": "stream",
     "text": [
      "Error fetching historical data for ABMD: No historical data found for ticker\n",
      "Monthly data for ONEQ saved successfully.\n",
      "Monthly data for FCNTX saved successfully.\n",
      "Monthly data for IVW saved successfully.\n",
      "Monthly data for CHTR saved successfully.\n",
      "Monthly data for ROST saved successfully.\n",
      "Monthly data for FBKWX saved successfully.\n"
     ]
    },
    {
     "name": "stderr",
     "output_type": "stream",
     "text": [
      "$ECOM: possibly delisted; No timezone found\n"
     ]
    },
    {
     "name": "stdout",
     "output_type": "stream",
     "text": [
      "Error fetching historical data for ECOM: No historical data found for ticker\n",
      "Monthly data for NHI saved successfully.\n",
      "Monthly data for SSYS saved successfully.\n",
      "Monthly data for PTC saved successfully.\n"
     ]
    },
    {
     "name": "stderr",
     "output_type": "stream",
     "text": [
      "$912796XQ7: possibly delisted; No timezone found\n"
     ]
    },
    {
     "name": "stdout",
     "output_type": "stream",
     "text": [
      "Error fetching historical data for 912796XQ7: No historical data found for ticker\n"
     ]
    },
    {
     "name": "stderr",
     "output_type": "stream",
     "text": [
      "$BKEPP: possibly delisted; No timezone found\n"
     ]
    },
    {
     "name": "stdout",
     "output_type": "stream",
     "text": [
      "Error fetching historical data for BKEPP: No historical data found for ticker\n",
      "Monthly data for XLE saved successfully.\n",
      "Monthly data for OZKAP saved successfully.\n",
      "Monthly data for CDNS saved successfully.\n"
     ]
    },
    {
     "name": "stderr",
     "output_type": "stream",
     "text": [
      "$HIL: possibly delisted; No timezone found\n"
     ]
    },
    {
     "name": "stdout",
     "output_type": "stream",
     "text": [
      "Error fetching historical data for HIL: No historical data found for ticker\n",
      "Monthly data for AMC saved successfully.\n",
      "Monthly data for FINX saved successfully.\n",
      "Monthly data for IJS saved successfully.\n"
     ]
    },
    {
     "name": "stderr",
     "output_type": "stream",
     "text": [
      "$MS$P: possibly delisted; No timezone found\n"
     ]
    },
    {
     "name": "stdout",
     "output_type": "stream",
     "text": [
      "Error fetching historical data for MS$P: No historical data found for ticker\n",
      "Monthly data for EELV saved successfully.\n",
      "Monthly data for KRE saved successfully.\n",
      "Monthly data for CEF saved successfully.\n",
      "Monthly data for GDXJ saved successfully.\n",
      "Monthly data for RPD saved successfully.\n",
      "Monthly data for PRF saved successfully.\n",
      "Monthly data for GSSC saved successfully.\n",
      "Monthly data for CIBR saved successfully.\n",
      "Monthly data for GSIMX saved successfully.\n",
      "Monthly data for CFA saved successfully.\n",
      "Monthly data for FIASX saved successfully.\n"
     ]
    },
    {
     "name": "stderr",
     "output_type": "stream",
     "text": [
      "$PYPLV: possibly delisted; No timezone found\n"
     ]
    },
    {
     "name": "stdout",
     "output_type": "stream",
     "text": [
      "Error fetching historical data for PYPLV: No historical data found for ticker\n",
      "Monthly data for DPZ saved successfully.\n",
      "Monthly data for EMN saved successfully.\n",
      "Monthly data for DURA saved successfully.\n",
      "Monthly data for CMA saved successfully.\n",
      "Monthly data for FICO saved successfully.\n",
      "Monthly data for CARR saved successfully.\n",
      "Monthly data for DRI saved successfully.\n",
      "Monthly data for VRAI saved successfully.\n",
      "Monthly data for REG saved successfully.\n",
      "Monthly data for L saved successfully.\n",
      "Monthly data for CE saved successfully.\n",
      "Monthly data for NVR saved successfully.\n",
      "Monthly data for WHR saved successfully.\n",
      "Monthly data for MAS saved successfully.\n",
      "Monthly data for FIP saved successfully.\n",
      "Monthly data for KNOP saved successfully.\n",
      "Monthly data for ABNFX saved successfully.\n",
      "Monthly data for OC saved successfully.\n",
      "Monthly data for DHS saved successfully.\n",
      "Monthly data for XLY saved successfully.\n",
      "Monthly data for MUB saved successfully.\n",
      "Monthly data for EFAV saved successfully.\n",
      "Monthly data for PCNNX saved successfully.\n",
      "Monthly data for IDV saved successfully.\n",
      "Monthly data for JHCBX saved successfully.\n",
      "Monthly data for XLC saved successfully.\n",
      "Monthly data for BURL saved successfully.\n",
      "Monthly data for SCHF saved successfully.\n",
      "Monthly data for GXO saved successfully.\n",
      "Monthly data for NOVT saved successfully.\n",
      "Monthly data for AATC saved successfully.\n"
     ]
    },
    {
     "name": "stderr",
     "output_type": "stream",
     "text": [
      "$VTRSV: possibly delisted; No timezone found\n"
     ]
    },
    {
     "name": "stdout",
     "output_type": "stream",
     "text": [
      "Error fetching historical data for VTRSV: No historical data found for ticker\n",
      "Monthly data for STNG saved successfully.\n",
      "Monthly data for AR saved successfully.\n",
      "Monthly data for UBSI saved successfully.\n"
     ]
    },
    {
     "name": "stderr",
     "output_type": "stream",
     "text": [
      "$ESTE: possibly delisted; No timezone found\n"
     ]
    },
    {
     "name": "stdout",
     "output_type": "stream",
     "text": [
      "Error fetching historical data for ESTE: No historical data found for ticker\n",
      "Monthly data for SM saved successfully.\n"
     ]
    },
    {
     "name": "stderr",
     "output_type": "stream",
     "text": [
      "$ASBC: possibly delisted; No price data found  (1d 2021-01-01 -> 2024-08-09)\n"
     ]
    },
    {
     "name": "stdout",
     "output_type": "stream",
     "text": [
      "$ASBC: possibly delisted; No price data found  (1d 2021-01-01 -> 2024-08-09)\n",
      "Error fetching historical data for ASBC: No historical data found for ticker\n"
     ]
    },
    {
     "name": "stderr",
     "output_type": "stream",
     "text": [
      "$GNKOQ: possibly delisted; No timezone found\n"
     ]
    },
    {
     "name": "stdout",
     "output_type": "stream",
     "text": [
      "Error fetching historical data for GNKOQ: No historical data found for ticker\n"
     ]
    },
    {
     "name": "stderr",
     "output_type": "stream",
     "text": [
      "$CDEV: possibly delisted; No timezone found\n"
     ]
    },
    {
     "name": "stdout",
     "output_type": "stream",
     "text": [
      "Error fetching historical data for CDEV: No historical data found for ticker\n",
      "Monthly data for PBA saved successfully.\n",
      "Monthly data for UVV saved successfully.\n",
      "Monthly data for TXT saved successfully.\n",
      "Monthly data for TIP saved successfully.\n",
      "Monthly data for SPR saved successfully.\n",
      "Monthly data for IBDO saved successfully.\n",
      "Monthly data for IBDQ saved successfully.\n",
      "Monthly data for VTIP saved successfully.\n",
      "Monthly data for MFC saved successfully.\n",
      "Monthly data for BEKE saved successfully.\n",
      "Monthly data for EPD saved successfully.\n"
     ]
    },
    {
     "name": "stderr",
     "output_type": "stream",
     "text": [
      "$CWEN.A: possibly delisted; No timezone found\n"
     ]
    },
    {
     "name": "stdout",
     "output_type": "stream",
     "text": [
      "Error fetching historical data for CWEN.A: No historical data found for ticker\n",
      "Monthly data for FNB saved successfully.\n",
      "Monthly data for TXRH saved successfully.\n",
      "Monthly data for AGCO saved successfully.\n",
      "Monthly data for NWBI saved successfully.\n"
     ]
    },
    {
     "name": "stderr",
     "output_type": "stream",
     "text": [
      "$LHCG: possibly delisted; No timezone found\n"
     ]
    },
    {
     "name": "stdout",
     "output_type": "stream",
     "text": [
      "Error fetching historical data for LHCG: No historical data found for ticker\n",
      "Monthly data for ITT saved successfully.\n"
     ]
    },
    {
     "name": "stderr",
     "output_type": "stream",
     "text": [
      "$RTL: possibly delisted; No timezone found\n"
     ]
    },
    {
     "name": "stdout",
     "output_type": "stream",
     "text": [
      "Error fetching historical data for RTL: No historical data found for ticker\n",
      "Monthly data for EVT saved successfully.\n",
      "Monthly data for IMAX saved successfully.\n",
      "Monthly data for RC saved successfully.\n",
      "Monthly data for AXSM saved successfully.\n",
      "Monthly data for UUUU saved successfully.\n",
      "Monthly data for IWN saved successfully.\n",
      "Monthly data for ACAD saved successfully.\n",
      "Monthly data for FIXD saved successfully.\n"
     ]
    },
    {
     "name": "stderr",
     "output_type": "stream",
     "text": [
      "$CPE: possibly delisted; No timezone found\n"
     ]
    },
    {
     "name": "stdout",
     "output_type": "stream",
     "text": [
      "Error fetching historical data for CPE: No historical data found for ticker\n",
      "Monthly data for ALLK saved successfully.\n",
      "Monthly data for MAC saved successfully.\n"
     ]
    },
    {
     "name": "stderr",
     "output_type": "stream",
     "text": [
      "$PLAN: possibly delisted; No timezone found\n"
     ]
    },
    {
     "name": "stdout",
     "output_type": "stream",
     "text": [
      "Error fetching historical data for PLAN: No historical data found for ticker\n",
      "Monthly data for NAT saved successfully.\n",
      "Monthly data for KOS saved successfully.\n",
      "Monthly data for NBR saved successfully.\n"
     ]
    },
    {
     "name": "stderr",
     "output_type": "stream",
     "text": [
      "$NEX: possibly delisted; No timezone found\n"
     ]
    },
    {
     "name": "stdout",
     "output_type": "stream",
     "text": [
      "Error fetching historical data for NEX: No historical data found for ticker\n",
      "Monthly data for GNK saved successfully.\n",
      "Monthly data for SHYG saved successfully.\n",
      "Monthly data for IWB saved successfully.\n",
      "Monthly data for ASB saved successfully.\n",
      "Monthly data for BRBR saved successfully.\n"
     ]
    },
    {
     "name": "stderr",
     "output_type": "stream",
     "text": [
      "$CERN: possibly delisted; No timezone found\n"
     ]
    },
    {
     "name": "stdout",
     "output_type": "stream",
     "text": [
      "Error fetching historical data for CERN: No historical data found for ticker\n",
      "Monthly data for AMBP saved successfully.\n"
     ]
    },
    {
     "name": "stderr",
     "output_type": "stream",
     "text": [
      "$U 3%25CD: possibly delisted; No timezone found\n"
     ]
    },
    {
     "name": "stdout",
     "output_type": "stream",
     "text": [
      "Error fetching historical data for U 3%25CD: No historical data found for ticker\n",
      "Monthly data for CMS saved successfully.\n",
      "Monthly data for WEC saved successfully.\n"
     ]
    },
    {
     "name": "stderr",
     "output_type": "stream",
     "text": [
      "$912796U49: possibly delisted; No timezone found\n"
     ]
    },
    {
     "name": "stdout",
     "output_type": "stream",
     "text": [
      "Error fetching historical data for 912796U49: No historical data found for ticker\n",
      "Monthly data for PPA saved successfully.\n",
      "Monthly data for PAVE saved successfully.\n",
      "Monthly data for OXBR saved successfully.\n",
      "Monthly data for VCSH saved successfully.\n"
     ]
    },
    {
     "name": "stderr",
     "output_type": "stream",
     "text": [
      "$MTBC: possibly delisted; No timezone found\n"
     ]
    },
    {
     "name": "stdout",
     "output_type": "stream",
     "text": [
      "Error fetching historical data for MTBC: No historical data found for ticker\n",
      "Monthly data for UPST saved successfully.\n",
      "Monthly data for FWONA saved successfully.\n",
      "Monthly data for FLL saved successfully.\n",
      "Monthly data for ORI saved successfully.\n"
     ]
    },
    {
     "name": "stderr",
     "output_type": "stream",
     "text": [
      "$91282CEG2: possibly delisted; No timezone found\n"
     ]
    },
    {
     "name": "stdout",
     "output_type": "stream",
     "text": [
      "Error fetching historical data for 91282CEG2: No historical data found for ticker\n",
      "Monthly data for CHKP saved successfully.\n"
     ]
    },
    {
     "name": "stderr",
     "output_type": "stream",
     "text": [
      "$DRE: possibly delisted; No timezone found\n"
     ]
    },
    {
     "name": "stdout",
     "output_type": "stream",
     "text": [
      "Error fetching historical data for DRE: No historical data found for ticker\n",
      "Monthly data for LMND saved successfully.\n",
      "Monthly data for MP saved successfully.\n"
     ]
    },
    {
     "name": "stderr",
     "output_type": "stream",
     "text": [
      "$Y: possibly delisted; No timezone found\n"
     ]
    },
    {
     "name": "stdout",
     "output_type": "stream",
     "text": [
      "Error fetching historical data for Y: No historical data found for ticker\n"
     ]
    },
    {
     "name": "stderr",
     "output_type": "stream",
     "text": [
      "$NEE$Q: possibly delisted; No timezone found\n"
     ]
    },
    {
     "name": "stdout",
     "output_type": "stream",
     "text": [
      "Error fetching historical data for NEE$Q: No historical data found for ticker\n",
      "Monthly data for JD saved successfully.\n",
      "Monthly data for SCHH saved successfully.\n",
      "Monthly data for CRNC saved successfully.\n"
     ]
    },
    {
     "name": "stderr",
     "output_type": "stream",
     "text": [
      "$SDC: possibly delisted; No timezone found\n"
     ]
    },
    {
     "name": "stdout",
     "output_type": "stream",
     "text": [
      "Error fetching historical data for SDC: No historical data found for ticker\n",
      "Monthly data for IWM saved successfully.\n",
      "Monthly data for SPCE saved successfully.\n",
      "Monthly data for UGRO saved successfully.\n",
      "Monthly data for TLRY saved successfully.\n",
      "Monthly data for USAC saved successfully.\n"
     ]
    },
    {
     "name": "stderr",
     "output_type": "stream",
     "text": [
      "$ECOL: possibly delisted; No timezone found\n"
     ]
    },
    {
     "name": "stdout",
     "output_type": "stream",
     "text": [
      "Error fetching historical data for ECOL: No historical data found for ticker\n"
     ]
    },
    {
     "name": "stderr",
     "output_type": "stream",
     "text": [
      "$T+A: possibly delisted; No timezone found\n"
     ]
    },
    {
     "name": "stdout",
     "output_type": "stream",
     "text": [
      "Error fetching historical data for T+A: No historical data found for ticker\n",
      "Monthly data for R saved successfully.\n",
      "Monthly data for CP saved successfully.\n",
      "Monthly data for SNA saved successfully.\n",
      "Monthly data for CABO saved successfully.\n",
      "Monthly data for EXP saved successfully.\n",
      "Monthly data for BKE saved successfully.\n",
      "Monthly data for NEO saved successfully.\n",
      "Monthly data for TWST saved successfully.\n",
      "Monthly data for AMH saved successfully.\n",
      "Monthly data for ARKG saved successfully.\n",
      "Monthly data for JBI saved successfully.\n",
      "Monthly data for DOW saved successfully.\n",
      "Monthly data for KWEB saved successfully.\n",
      "Monthly data for NNGPF saved successfully.\n",
      "Monthly data for UPMKF saved successfully.\n",
      "Monthly data for VALE saved successfully.\n",
      "Monthly data for PSMMY saved successfully.\n",
      "Monthly data for TGOPY saved successfully.\n",
      "Monthly data for EVRG saved successfully.\n"
     ]
    },
    {
     "name": "stderr",
     "output_type": "stream",
     "text": [
      "$VOLVY: possibly delisted; No price data found  (1d 2021-01-01 -> 2024-08-09)\n",
      "$NTT: possibly delisted; No price data found  (1d 2021-01-01 -> 2024-08-09)\n"
     ]
    },
    {
     "name": "stdout",
     "output_type": "stream",
     "text": [
      "$VOLVY: possibly delisted; No price data found  (1d 2021-01-01 -> 2024-08-09)\n",
      "Error fetching historical data for VOLVY: No historical data found for ticker\n",
      "$NTT: possibly delisted; No price data found  (1d 2021-01-01 -> 2024-08-09)\n",
      "Error fetching historical data for NTT: No historical data found for ticker\n",
      "Monthly data for WPC saved successfully.\n",
      "Monthly data for BTVCY saved successfully.\n",
      "Monthly data for ASX saved successfully.\n"
     ]
    },
    {
     "name": "stderr",
     "output_type": "stream",
     "text": [
      "$DNHBY: possibly delisted; No timezone found\n"
     ]
    },
    {
     "name": "stdout",
     "output_type": "stream",
     "text": [
      "Error fetching historical data for DNHBY: No historical data found for ticker\n",
      "Monthly data for PWCDF saved successfully.\n",
      "Monthly data for TSCDY saved successfully.\n"
     ]
    },
    {
     "name": "stderr",
     "output_type": "stream",
     "text": [
      "$SKHCY: possibly delisted; No timezone found\n"
     ]
    },
    {
     "name": "stdout",
     "output_type": "stream",
     "text": [
      "Error fetching historical data for SKHCY: No historical data found for ticker\n",
      "Monthly data for CSTL saved successfully.\n"
     ]
    },
    {
     "name": "stderr",
     "output_type": "stream",
     "text": [
      "$BANC$E: possibly delisted; No timezone found\n"
     ]
    },
    {
     "name": "stdout",
     "output_type": "stream",
     "text": [
      "Error fetching historical data for BANC$E: No historical data found for ticker\n",
      "Monthly data for BLKB saved successfully.\n",
      "Monthly data for FLEX saved successfully.\n",
      "Monthly data for MGA saved successfully.\n"
     ]
    },
    {
     "name": "stderr",
     "output_type": "stream",
     "text": [
      "$AZSEY: possibly delisted; No timezone found\n"
     ]
    },
    {
     "name": "stdout",
     "output_type": "stream",
     "text": [
      "Error fetching historical data for AZSEY: No historical data found for ticker\n",
      "Monthly data for TACO saved successfully.\n",
      "Monthly data for GBCI saved successfully.\n"
     ]
    },
    {
     "name": "stderr",
     "output_type": "stream",
     "text": [
      "$ANTM: possibly delisted; No timezone found\n"
     ]
    },
    {
     "name": "stdout",
     "output_type": "stream",
     "text": [
      "Error fetching historical data for ANTM: No historical data found for ticker\n"
     ]
    },
    {
     "name": "stderr",
     "output_type": "stream",
     "text": [
      "$IAA: possibly delisted; No timezone found\n"
     ]
    },
    {
     "name": "stdout",
     "output_type": "stream",
     "text": [
      "Error fetching historical data for IAA: No historical data found for ticker\n"
     ]
    },
    {
     "name": "stderr",
     "output_type": "stream",
     "text": [
      "$KMI.W: possibly delisted; No timezone found\n"
     ]
    },
    {
     "name": "stdout",
     "output_type": "stream",
     "text": [
      "Error fetching historical data for KMI.W: No historical data found for ticker\n",
      "Monthly data for CVNA saved successfully.\n",
      "Monthly data for GFS saved successfully.\n",
      "Monthly data for BBH saved successfully.\n"
     ]
    },
    {
     "name": "stderr",
     "output_type": "stream",
     "text": [
      "$PBCT: possibly delisted; No timezone found\n"
     ]
    },
    {
     "name": "stdout",
     "output_type": "stream",
     "text": [
      "Error fetching historical data for PBCT: No historical data found for ticker\n",
      "Monthly data for ENLC saved successfully.\n",
      "Monthly data for FANUF saved successfully.\n",
      "Monthly data for DAIUF saved successfully.\n",
      "Monthly data for TRNO saved successfully.\n",
      "Monthly data for KAI saved successfully.\n",
      "Monthly data for PI saved successfully.\n",
      "Monthly data for CGNX saved successfully.\n",
      "Monthly data for GH saved successfully.\n",
      "Monthly data for LVMHF saved successfully.\n",
      "Monthly data for IAU saved successfully.\n",
      "Monthly data for FNV saved successfully.\n",
      "Monthly data for PDM saved successfully.\n"
     ]
    },
    {
     "name": "stderr",
     "output_type": "stream",
     "text": [
      "$DISCA: possibly delisted; No timezone found\n"
     ]
    },
    {
     "name": "stdout",
     "output_type": "stream",
     "text": [
      "Error fetching historical data for DISCA: No historical data found for ticker\n",
      "Monthly data for LVS saved successfully.\n",
      "Monthly data for XYIGY saved successfully.\n",
      "Monthly data for AM saved successfully.\n",
      "Monthly data for TRI saved successfully.\n",
      "Monthly data for SCHZ saved successfully.\n"
     ]
    },
    {
     "name": "stderr",
     "output_type": "stream",
     "text": [
      "$PSXP: possibly delisted; No timezone found\n"
     ]
    },
    {
     "name": "stdout",
     "output_type": "stream",
     "text": [
      "Error fetching historical data for PSXP: No historical data found for ticker\n",
      "Monthly data for ICUI saved successfully.\n"
     ]
    },
    {
     "name": "stderr",
     "output_type": "stream",
     "text": [
      "$NUVA: possibly delisted; No timezone found\n"
     ]
    },
    {
     "name": "stdout",
     "output_type": "stream",
     "text": [
      "Error fetching historical data for NUVA: No historical data found for ticker\n",
      "Monthly data for PFFV saved successfully.\n",
      "Monthly data for FE saved successfully.\n",
      "Monthly data for VRP saved successfully.\n",
      "Monthly data for HXL saved successfully.\n",
      "Monthly data for FPE saved successfully.\n",
      "Monthly data for FSP saved successfully.\n",
      "Monthly data for GEMIX saved successfully.\n",
      "Monthly data for LUBFX saved successfully.\n",
      "Monthly data for PTMC saved successfully.\n",
      "Monthly data for BOOT saved successfully.\n",
      "Monthly data for ITA saved successfully.\n",
      "Monthly data for XAR saved successfully.\n",
      "Monthly data for EFG saved successfully.\n",
      "Monthly data for IEUR saved successfully.\n",
      "Monthly data for FLGB saved successfully.\n",
      "Monthly data for SPHB saved successfully.\n"
     ]
    },
    {
     "name": "stderr",
     "output_type": "stream",
     "text": [
      "$PBFX: possibly delisted; No timezone found\n",
      "AXTE: Period '1mo' is invalid, must be one of ['1d', '5d']\n",
      "AXHE: Period '1mo' is invalid, must be one of ['1d', '5d']\n"
     ]
    },
    {
     "name": "stdout",
     "output_type": "stream",
     "text": [
      "Error fetching historical data for PBFX: No historical data found for ticker\n",
      "Error fetching historical data for AXTE: No historical data found for ticker\n",
      "Error fetching historical data for AXHE: No historical data found for ticker\n",
      "Monthly data for ILPT saved successfully.\n",
      "Monthly data for AB saved successfully.\n",
      "Monthly data for KBA saved successfully.\n",
      "Monthly data for IVOO saved successfully.\n",
      "Monthly data for BEN saved successfully.\n",
      "Monthly data for BTC saved successfully.\n",
      "Monthly data for PSDTX saved successfully.\n",
      "Monthly data for BXMT saved successfully.\n"
     ]
    },
    {
     "name": "stderr",
     "output_type": "stream",
     "text": [
      "$ABC: possibly delisted; No timezone found\n",
      "HTZWW: Period '1mo' is invalid, must be one of ['1d', '5d']\n"
     ]
    },
    {
     "name": "stdout",
     "output_type": "stream",
     "text": [
      "Error fetching historical data for ABC: No historical data found for ticker\n",
      "Monthly data for PONCX saved successfully.\n",
      "Error fetching historical data for HTZWW: No historical data found for ticker\n",
      "Monthly data for PATK saved successfully.\n",
      "Monthly data for OLP saved successfully.\n",
      "Monthly data for OTIS saved successfully.\n",
      "Monthly data for DTM saved successfully.\n",
      "Monthly data for KYN saved successfully.\n",
      "Monthly data for AY saved successfully.\n",
      "Monthly data for GLAD saved successfully.\n",
      "Monthly data for PTNQ saved successfully.\n",
      "Monthly data for TDC saved successfully.\n",
      "Monthly data for FXI saved successfully.\n",
      "Monthly data for WES saved successfully.\n",
      "Monthly data for GLW saved successfully.\n",
      "Monthly data for ORMP saved successfully.\n",
      "Monthly data for GVA saved successfully.\n"
     ]
    },
    {
     "name": "stderr",
     "output_type": "stream",
     "text": [
      "$BF.B: possibly delisted; No price data found  (1d 2021-01-01 -> 2024-08-09)\n"
     ]
    },
    {
     "name": "stdout",
     "output_type": "stream",
     "text": [
      "$BF.B: possibly delisted; No price data found  (1d 2021-01-01 -> 2024-08-09)\n",
      "Error fetching historical data for BF.B: No historical data found for ticker\n",
      "Monthly data for ABQCX saved successfully.\n",
      "Monthly data for PEGA saved successfully.\n",
      "Monthly data for FGSCX saved successfully.\n",
      "Monthly data for CLOU saved successfully.\n",
      "Monthly data for NWL saved successfully.\n",
      "Monthly data for FUN saved successfully.\n"
     ]
    },
    {
     "name": "stderr",
     "output_type": "stream",
     "text": [
      "$FUND 2: possibly delisted; No timezone found\n"
     ]
    },
    {
     "name": "stdout",
     "output_type": "stream",
     "text": [
      "Error fetching historical data for FUND 2: No historical data found for ticker\n"
     ]
    },
    {
     "name": "stderr",
     "output_type": "stream",
     "text": [
      "$SRLP: possibly delisted; No timezone found\n"
     ]
    },
    {
     "name": "stdout",
     "output_type": "stream",
     "text": [
      "Error fetching historical data for SRLP: No historical data found for ticker\n"
     ]
    },
    {
     "name": "stderr",
     "output_type": "stream",
     "text": [
      "$FUND 2 LTH: possibly delisted; No timezone found\n"
     ]
    },
    {
     "name": "stdout",
     "output_type": "stream",
     "text": [
      "Error fetching historical data for FUND 2 LTH: No historical data found for ticker\n",
      "Monthly data for DCI saved successfully.\n",
      "Monthly data for ZM saved successfully.\n",
      "Monthly data for SLB saved successfully.\n",
      "Monthly data for HSIC saved successfully.\n",
      "Monthly data for WEX saved successfully.\n",
      "Monthly data for FHLC saved successfully.\n"
     ]
    },
    {
     "name": "stderr",
     "output_type": "stream",
     "text": [
      "$IS: possibly delisted; No timezone found\n"
     ]
    },
    {
     "name": "stdout",
     "output_type": "stream",
     "text": [
      "Error fetching historical data for IS: No historical data found for ticker\n"
     ]
    },
    {
     "name": "stderr",
     "output_type": "stream",
     "text": [
      "$INFO: possibly delisted; No timezone found\n"
     ]
    },
    {
     "name": "stdout",
     "output_type": "stream",
     "text": [
      "Error fetching historical data for INFO: No historical data found for ticker\n",
      "Monthly data for ENVA saved successfully.\n",
      "Monthly data for CLDT saved successfully.\n"
     ]
    },
    {
     "name": "stderr",
     "output_type": "stream",
     "text": [
      "$NS: possibly delisted; No timezone found\n"
     ]
    },
    {
     "name": "stdout",
     "output_type": "stream",
     "text": [
      "Error fetching historical data for NS: No historical data found for ticker\n",
      "Monthly data for PNFP saved successfully.\n",
      "Monthly data for CCEP saved successfully.\n"
     ]
    },
    {
     "name": "stderr",
     "output_type": "stream",
     "text": [
      "$BKEP: possibly delisted; No timezone found\n"
     ]
    },
    {
     "name": "stdout",
     "output_type": "stream",
     "text": [
      "Error fetching historical data for BKEP: No historical data found for ticker\n"
     ]
    },
    {
     "name": "stderr",
     "output_type": "stream",
     "text": [
      "$SPLK: possibly delisted; No timezone found\n"
     ]
    },
    {
     "name": "stdout",
     "output_type": "stream",
     "text": [
      "Error fetching historical data for SPLK: No historical data found for ticker\n",
      "Monthly data for RNR saved successfully.\n",
      "Monthly data for CSL saved successfully.\n"
     ]
    },
    {
     "name": "stderr",
     "output_type": "stream",
     "text": [
      "$SCU: possibly delisted; No timezone found\n"
     ]
    },
    {
     "name": "stdout",
     "output_type": "stream",
     "text": [
      "Error fetching historical data for SCU: No historical data found for ticker\n",
      "Monthly data for RHP saved successfully.\n",
      "Monthly data for QMCO saved successfully.\n",
      "Monthly data for IXJ saved successfully.\n"
     ]
    },
    {
     "name": "stderr",
     "output_type": "stream",
     "text": [
      "$SHLX: possibly delisted; No timezone found\n"
     ]
    },
    {
     "name": "stdout",
     "output_type": "stream",
     "text": [
      "Error fetching historical data for SHLX: No historical data found for ticker\n",
      "Monthly data for IYZ saved successfully.\n",
      "Monthly data for SPH saved successfully.\n",
      "Monthly data for ITCI saved successfully.\n",
      "Monthly data for MPLX saved successfully.\n",
      "Monthly data for CEM saved successfully.\n",
      "Monthly data for FVRR saved successfully.\n",
      "Monthly data for ITUB saved successfully.\n",
      "Monthly data for ASXC saved successfully.\n",
      "Monthly data for RNGR saved successfully.\n"
     ]
    },
    {
     "name": "stderr",
     "output_type": "stream",
     "text": [
      "$WRK.V: possibly delisted; No timezone found\n"
     ]
    },
    {
     "name": "stdout",
     "output_type": "stream",
     "text": [
      "Error fetching historical data for WRK.V: No historical data found for ticker\n",
      "Monthly data for PENN saved successfully.\n",
      "Monthly data for VRM saved successfully.\n",
      "Monthly data for RXT saved successfully.\n",
      "Monthly data for PAGS saved successfully.\n",
      "Monthly data for MTX saved successfully.\n"
     ]
    },
    {
     "name": "stderr",
     "output_type": "stream",
     "text": [
      "$CORPORAT: possibly delisted; No timezone found\n"
     ]
    },
    {
     "name": "stdout",
     "output_type": "stream",
     "text": [
      "Error fetching historical data for CORPORAT: No historical data found for ticker\n",
      "Monthly data for TRUP saved successfully.\n",
      "Monthly data for HBAN saved successfully.\n",
      "Monthly data for XRAY saved successfully.\n",
      "Monthly data for BCPC saved successfully.\n",
      "Monthly data for SLVM saved successfully.\n"
     ]
    },
    {
     "name": "stderr",
     "output_type": "stream",
     "text": [
      "$CTAA: possibly delisted; No timezone found\n",
      "KPLTW: Period '1mo' is invalid, must be one of ['1d', '5d']\n"
     ]
    },
    {
     "name": "stdout",
     "output_type": "stream",
     "text": [
      "Error fetching historical data for CTAA: No historical data found for ticker\n",
      "Error fetching historical data for KPLTW: No historical data found for ticker\n"
     ]
    },
    {
     "name": "stderr",
     "output_type": "stream",
     "text": [
      "$ORCC: possibly delisted; No timezone found\n"
     ]
    },
    {
     "name": "stdout",
     "output_type": "stream",
     "text": [
      "Error fetching historical data for ORCC: No historical data found for ticker\n"
     ]
    },
    {
     "name": "stderr",
     "output_type": "stream",
     "text": [
      "$OFC: possibly delisted; No timezone found\n"
     ]
    },
    {
     "name": "stdout",
     "output_type": "stream",
     "text": [
      "Error fetching historical data for OFC: No historical data found for ticker\n"
     ]
    },
    {
     "name": "stderr",
     "output_type": "stream",
     "text": [
      "$CONE: possibly delisted; No timezone found\n"
     ]
    },
    {
     "name": "stdout",
     "output_type": "stream",
     "text": [
      "Error fetching historical data for CONE: No historical data found for ticker\n",
      "Monthly data for FDIS saved successfully.\n",
      "Monthly data for LITE saved successfully.\n",
      "Monthly data for FTEC saved successfully.\n",
      "Monthly data for TDOC saved successfully.\n",
      "Monthly data for FSK saved successfully.\n",
      "Monthly data for HIPO saved successfully.\n"
     ]
    },
    {
     "name": "stderr",
     "output_type": "stream",
     "text": [
      "$UN: possibly delisted; No timezone found\n"
     ]
    },
    {
     "name": "stdout",
     "output_type": "stream",
     "text": [
      "Error fetching historical data for UN: No historical data found for ticker\n",
      "Monthly data for KYOCF saved successfully.\n",
      "Monthly data for FPEI saved successfully.\n",
      "Monthly data for MITK saved successfully.\n",
      "Monthly data for VAIAF saved successfully.\n",
      "Monthly data for TNC saved successfully.\n",
      "Monthly data for COR saved successfully.\n",
      "Monthly data for FBND saved successfully.\n",
      "Monthly data for INDB saved successfully.\n",
      "Monthly data for MAIN saved successfully.\n",
      "Monthly data for LZ saved successfully.\n",
      "Monthly data for CAPL saved successfully.\n",
      "Monthly data for EBS saved successfully.\n",
      "Monthly data for HTLD saved successfully.\n",
      "Monthly data for SRLN saved successfully.\n"
     ]
    },
    {
     "name": "stderr",
     "output_type": "stream",
     "text": [
      "$ENBL: possibly delisted; No timezone found\n"
     ]
    },
    {
     "name": "stdout",
     "output_type": "stream",
     "text": [
      "Error fetching historical data for ENBL: No historical data found for ticker\n",
      "Monthly data for MSB saved successfully.\n",
      "Monthly data for BEP saved successfully.\n",
      "Monthly data for APAM saved successfully.\n"
     ]
    },
    {
     "name": "stderr",
     "output_type": "stream",
     "text": [
      "$DWAC: possibly delisted; No timezone found\n"
     ]
    },
    {
     "name": "stdout",
     "output_type": "stream",
     "text": [
      "Error fetching historical data for DWAC: No historical data found for ticker\n"
     ]
    },
    {
     "name": "stderr",
     "output_type": "stream",
     "text": [
      "$CARDONA: possibly delisted; No timezone found\n"
     ]
    },
    {
     "name": "stdout",
     "output_type": "stream",
     "text": [
      "Error fetching historical data for CARDONA: No historical data found for ticker\n",
      "Monthly data for BE saved successfully.\n",
      "Monthly data for KPLT saved successfully.\n",
      "Monthly data for CLNE saved successfully.\n",
      "Monthly data for FMAT saved successfully.\n",
      "Monthly data for CALX saved successfully.\n",
      "Monthly data for DUKH saved successfully.\n",
      "Monthly data for DIAL saved successfully.\n",
      "Monthly data for LRNZ saved successfully.\n",
      "Monthly data for COMM saved successfully.\n",
      "Monthly data for GLP saved successfully.\n",
      "Monthly data for AAL saved successfully.\n",
      "Monthly data for GPS saved successfully.\n",
      "Monthly data for OSW saved successfully.\n",
      "Monthly data for MDNDF saved successfully.\n",
      "Monthly data for ATHM saved successfully.\n"
     ]
    },
    {
     "name": "stderr",
     "output_type": "stream",
     "text": [
      "$GCGMF: possibly delisted; No timezone found\n"
     ]
    },
    {
     "name": "stdout",
     "output_type": "stream",
     "text": [
      "Error fetching historical data for GCGMF: No historical data found for ticker\n",
      "Monthly data for NRDY saved successfully.\n",
      "Monthly data for LW saved successfully.\n",
      "Monthly data for WWD saved successfully.\n",
      "Monthly data for GEL saved successfully.\n"
     ]
    },
    {
     "name": "stderr",
     "output_type": "stream",
     "text": [
      "$WLTW: possibly delisted; No timezone found\n"
     ]
    },
    {
     "name": "stdout",
     "output_type": "stream",
     "text": [
      "Error fetching historical data for WLTW: No historical data found for ticker\n",
      "Monthly data for WCLD saved successfully.\n",
      "Monthly data for CRSP saved successfully.\n",
      "Monthly data for PEJ saved successfully.\n"
     ]
    },
    {
     "name": "stderr",
     "output_type": "stream",
     "text": [
      "$AVYA: possibly delisted; No timezone found\n"
     ]
    },
    {
     "name": "stdout",
     "output_type": "stream",
     "text": [
      "Error fetching historical data for AVYA: No historical data found for ticker\n"
     ]
    },
    {
     "name": "stderr",
     "output_type": "stream",
     "text": [
      "$RLGY: possibly delisted; No timezone found\n"
     ]
    },
    {
     "name": "stdout",
     "output_type": "stream",
     "text": [
      "Error fetching historical data for RLGY: No historical data found for ticker\n",
      "Monthly data for MDY saved successfully.\n",
      "Monthly data for GDDY saved successfully.\n",
      "Monthly data for AMJ saved successfully.\n",
      "Monthly data for BLDP saved successfully.\n",
      "Monthly data for PRGS saved successfully.\n",
      "Monthly data for PGX saved successfully.\n"
     ]
    },
    {
     "name": "stderr",
     "output_type": "stream",
     "text": [
      "$CREE: possibly delisted; No timezone found\n"
     ]
    },
    {
     "name": "stdout",
     "output_type": "stream",
     "text": [
      "Error fetching historical data for CREE: No historical data found for ticker\n",
      "Monthly data for BWA saved successfully.\n"
     ]
    },
    {
     "name": "stderr",
     "output_type": "stream",
     "text": [
      "$LMRK: possibly delisted; No timezone found\n"
     ]
    },
    {
     "name": "stdout",
     "output_type": "stream",
     "text": [
      "Error fetching historical data for LMRK: No historical data found for ticker\n",
      "Monthly data for VSCO saved successfully.\n",
      "Monthly data for XLRE saved successfully.\n",
      "Monthly data for IBUY saved successfully.\n",
      "Monthly data for NVVE saved successfully.\n",
      "Monthly data for CHWY saved successfully.\n",
      "Monthly data for WW saved successfully.\n"
     ]
    },
    {
     "name": "stderr",
     "output_type": "stream",
     "text": [
      "$ESGC: possibly delisted; No timezone found\n"
     ]
    },
    {
     "name": "stdout",
     "output_type": "stream",
     "text": [
      "Error fetching historical data for ESGC: No historical data found for ticker\n",
      "Monthly data for CNA saved successfully.\n",
      "Monthly data for TRV saved successfully.\n"
     ]
    },
    {
     "name": "stderr",
     "output_type": "stream",
     "text": [
      "$VIAC: possibly delisted; No timezone found\n"
     ]
    },
    {
     "name": "stdout",
     "output_type": "stream",
     "text": [
      "Error fetching historical data for VIAC: No historical data found for ticker\n"
     ]
    },
    {
     "name": "stderr",
     "output_type": "stream",
     "text": [
      "$ROLL: possibly delisted; No timezone found\n"
     ]
    },
    {
     "name": "stdout",
     "output_type": "stream",
     "text": [
      "Error fetching historical data for ROLL: No historical data found for ticker\n",
      "Monthly data for XPO saved successfully.\n",
      "Monthly data for ORAN saved successfully.\n",
      "Monthly data for SAM saved successfully.\n"
     ]
    },
    {
     "name": "stderr",
     "output_type": "stream",
     "text": [
      "$RDSA: possibly delisted; No timezone found\n"
     ]
    },
    {
     "name": "stdout",
     "output_type": "stream",
     "text": [
      "Error fetching historical data for RDSA: No historical data found for ticker\n"
     ]
    },
    {
     "name": "stderr",
     "output_type": "stream",
     "text": [
      "$QTS: possibly delisted; No timezone found\n"
     ]
    },
    {
     "name": "stdout",
     "output_type": "stream",
     "text": [
      "Error fetching historical data for QTS: No historical data found for ticker\n"
     ]
    },
    {
     "name": "stderr",
     "output_type": "stream",
     "text": [
      "$MONTGOMERY, AL .2, SCHAUMBERG, IL .1: possibly delisted; No timezone found\n"
     ]
    },
    {
     "name": "stdout",
     "output_type": "stream",
     "text": [
      "Error fetching historical data for MONTGOMERY, AL .2, SCHAUMBERG, IL .1: No historical data found for ticker\n"
     ]
    },
    {
     "name": "stderr",
     "output_type": "stream",
     "text": [
      "$ALXN: possibly delisted; No timezone found\n"
     ]
    },
    {
     "name": "stdout",
     "output_type": "stream",
     "text": [
      "Error fetching historical data for ALXN: No historical data found for ticker\n",
      "Monthly data for MTUM saved successfully.\n",
      "Monthly data for DTD saved successfully.\n"
     ]
    },
    {
     "name": "stderr",
     "output_type": "stream",
     "text": [
      "$NLOK: possibly delisted; No timezone found\n",
      "$LTD: possibly delisted; No price data found  (1d 2021-01-01 -> 2024-08-09)\n"
     ]
    },
    {
     "name": "stdout",
     "output_type": "stream",
     "text": [
      "Error fetching historical data for NLOK: No historical data found for ticker\n",
      "$LTD: possibly delisted; No price data found  (1d 2021-01-01 -> 2024-08-09)\n",
      "Error fetching historical data for LTD: No historical data found for ticker\n",
      "Monthly data for VXX saved successfully.\n"
     ]
    },
    {
     "name": "stderr",
     "output_type": "stream",
     "text": [
      "$AESE: possibly delisted; No timezone found\n"
     ]
    },
    {
     "name": "stdout",
     "output_type": "stream",
     "text": [
      "Error fetching historical data for AESE: No historical data found for ticker\n",
      "Monthly data for FBALX saved successfully.\n"
     ]
    },
    {
     "name": "stderr",
     "output_type": "stream",
     "text": [
      "FDRXX: Period '1mo' is invalid, must be one of ['1d', '5d']\n"
     ]
    },
    {
     "name": "stdout",
     "output_type": "stream",
     "text": [
      "Error fetching historical data for FDRXX: No historical data found for ticker\n",
      "Monthly data for MRIN saved successfully.\n",
      "Monthly data for NVCR saved successfully.\n",
      "Monthly data for AMZA saved successfully.\n",
      "Monthly data for HNDL saved successfully.\n",
      "Monthly data for TOTZF saved successfully.\n",
      "Monthly data for ETV saved successfully.\n"
     ]
    },
    {
     "name": "stderr",
     "output_type": "stream",
     "text": [
      "$CDK: possibly delisted; No timezone found\n"
     ]
    },
    {
     "name": "stdout",
     "output_type": "stream",
     "text": [
      "Error fetching historical data for CDK: No historical data found for ticker\n",
      "Monthly data for AQB saved successfully.\n",
      "Monthly data for RAMP saved successfully.\n",
      "Monthly data for TRIT saved successfully.\n",
      "Monthly data for TNL saved successfully.\n",
      "Monthly data for OGN saved successfully.\n",
      "Monthly data for SITE saved successfully.\n",
      "Monthly data for MTDR saved successfully.\n"
     ]
    },
    {
     "name": "stderr",
     "output_type": "stream",
     "text": [
      "$STOR: possibly delisted; No timezone found\n",
      "$BHI: possibly delisted; No price data found  (1d 2021-01-01 -> 2024-08-09)\n"
     ]
    },
    {
     "name": "stdout",
     "output_type": "stream",
     "text": [
      "Error fetching historical data for STOR: No historical data found for ticker\n",
      "$BHI: possibly delisted; No price data found  (1d 2021-01-01 -> 2024-08-09)\n",
      "Error fetching historical data for BHI: No historical data found for ticker\n",
      "Monthly data for GME saved successfully.\n",
      "Monthly data for LEA saved successfully.\n"
     ]
    },
    {
     "name": "stderr",
     "output_type": "stream",
     "text": [
      "$CCC: possibly delisted; No timezone found\n"
     ]
    },
    {
     "name": "stdout",
     "output_type": "stream",
     "text": [
      "Error fetching historical data for CCC: No historical data found for ticker\n",
      "Monthly data for PLTR saved successfully.\n",
      "Monthly data for AMRC saved successfully.\n",
      "Monthly data for TTEK saved successfully.\n",
      "Monthly data for DOV saved successfully.\n"
     ]
    },
    {
     "name": "stderr",
     "output_type": "stream",
     "text": [
      "$ALYF: possibly delisted; No timezone found\n"
     ]
    },
    {
     "name": "stdout",
     "output_type": "stream",
     "text": [
      "Error fetching historical data for ALYF: No historical data found for ticker\n"
     ]
    },
    {
     "name": "stderr",
     "output_type": "stream",
     "text": [
      "$STAY: possibly delisted; No timezone found\n"
     ]
    },
    {
     "name": "stdout",
     "output_type": "stream",
     "text": [
      "Error fetching historical data for STAY: No historical data found for ticker\n",
      "Monthly data for GBTC saved successfully.\n",
      "Monthly data for TBBC saved successfully.\n",
      "Monthly data for ETHE saved successfully.\n",
      "Monthly data for WLK saved successfully.\n",
      "Monthly data for VRSN saved successfully.\n",
      "Monthly data for CWH saved successfully.\n"
     ]
    },
    {
     "name": "stderr",
     "output_type": "stream",
     "text": [
      "$TCF: possibly delisted; No timezone found\n"
     ]
    },
    {
     "name": "stdout",
     "output_type": "stream",
     "text": [
      "Error fetching historical data for TCF: No historical data found for ticker\n",
      "Monthly data for TER saved successfully.\n",
      "Monthly data for SF saved successfully.\n",
      "Monthly data for ATRC saved successfully.\n",
      "Monthly data for JNPR saved successfully.\n"
     ]
    },
    {
     "name": "stderr",
     "output_type": "stream",
     "text": [
      "$MANT: possibly delisted; No timezone found\n"
     ]
    },
    {
     "name": "stdout",
     "output_type": "stream",
     "text": [
      "Error fetching historical data for MANT: No historical data found for ticker\n",
      "Monthly data for IPGP saved successfully.\n",
      "Monthly data for DOCU saved successfully.\n",
      "Monthly data for LEG saved successfully.\n",
      "Monthly data for WSM saved successfully.\n"
     ]
    },
    {
     "name": "stderr",
     "output_type": "stream",
     "text": [
      "$TPCO: possibly delisted; No timezone found\n"
     ]
    },
    {
     "name": "stdout",
     "output_type": "stream",
     "text": [
      "Error fetching historical data for TPCO: No historical data found for ticker\n",
      "Monthly data for DIN saved successfully.\n",
      "Monthly data for CHGG saved successfully.\n",
      "Monthly data for CELC saved successfully.\n",
      "Monthly data for BALY saved successfully.\n"
     ]
    },
    {
     "name": "stderr",
     "output_type": "stream",
     "text": [
      "$FFG: possibly delisted; No timezone found\n"
     ]
    },
    {
     "name": "stdout",
     "output_type": "stream",
     "text": [
      "Error fetching historical data for FFG: No historical data found for ticker\n"
     ]
    },
    {
     "name": "stderr",
     "output_type": "stream",
     "text": [
      "$VVNT: possibly delisted; No timezone found\n"
     ]
    },
    {
     "name": "stdout",
     "output_type": "stream",
     "text": [
      "Error fetching historical data for VVNT: No historical data found for ticker\n"
     ]
    },
    {
     "name": "stderr",
     "output_type": "stream",
     "text": [
      "$BRKS: possibly delisted; No timezone found\n"
     ]
    },
    {
     "name": "stdout",
     "output_type": "stream",
     "text": [
      "Error fetching historical data for BRKS: No historical data found for ticker\n",
      "Monthly data for TLK saved successfully.\n",
      "Monthly data for AEIS saved successfully.\n"
     ]
    },
    {
     "name": "stderr",
     "output_type": "stream",
     "text": [
      "$BOWX: possibly delisted; No timezone found\n"
     ]
    },
    {
     "name": "stdout",
     "output_type": "stream",
     "text": [
      "Error fetching historical data for BOWX: No historical data found for ticker\n",
      "Monthly data for NIO saved successfully.\n",
      "Monthly data for VMC saved successfully.\n"
     ]
    },
    {
     "name": "stderr",
     "output_type": "stream",
     "text": [
      "$APPAD: possibly delisted; No timezone found\n"
     ]
    },
    {
     "name": "stdout",
     "output_type": "stream",
     "text": [
      "Error fetching historical data for APPAD: No historical data found for ticker\n",
      "Monthly data for FDSWX saved successfully.\n",
      "Monthly data for LDNXF saved successfully.\n"
     ]
    },
    {
     "name": "stderr",
     "output_type": "stream",
     "text": [
      "$FL4.SG: possibly delisted; No timezone found\n"
     ]
    },
    {
     "name": "stdout",
     "output_type": "stream",
     "text": [
      "Error fetching historical data for FL4.SG: No historical data found for ticker\n",
      "Monthly data for KTOS saved successfully.\n",
      "Monthly data for ICSH saved successfully.\n",
      "Monthly data for HNST saved successfully.\n",
      "Monthly data for QRTEA saved successfully.\n",
      "Monthly data for HAE saved successfully.\n",
      "Monthly data for LL saved successfully.\n",
      "Monthly data for PCRX saved successfully.\n",
      "Monthly data for TREE saved successfully.\n",
      "Monthly data for SABR saved successfully.\n"
     ]
    },
    {
     "name": "stderr",
     "output_type": "stream",
     "text": [
      "$BRP: possibly delisted; No timezone found\n"
     ]
    },
    {
     "name": "stdout",
     "output_type": "stream",
     "text": [
      "Error fetching historical data for BRP: No historical data found for ticker\n"
     ]
    },
    {
     "name": "stderr",
     "output_type": "stream",
     "text": [
      "$GSS: possibly delisted; No timezone found\n"
     ]
    },
    {
     "name": "stdout",
     "output_type": "stream",
     "text": [
      "Error fetching historical data for GSS: No historical data found for ticker\n",
      "Monthly data for YTRA saved successfully.\n"
     ]
    },
    {
     "name": "stderr",
     "output_type": "stream",
     "text": [
      "$GFN: possibly delisted; No timezone found\n"
     ]
    },
    {
     "name": "stdout",
     "output_type": "stream",
     "text": [
      "Error fetching historical data for GFN: No historical data found for ticker\n",
      "Monthly data for EMKR saved successfully.\n",
      "Monthly data for TGNA saved successfully.\n",
      "Monthly data for GPRO saved successfully.\n"
     ]
    },
    {
     "name": "stderr",
     "output_type": "stream",
     "text": [
      "$PART INTEREST: possibly delisted; No timezone found\n"
     ]
    },
    {
     "name": "stdout",
     "output_type": "stream",
     "text": [
      "Error fetching historical data for PART INTEREST: No historical data found for ticker\n"
     ]
    },
    {
     "name": "stderr",
     "output_type": "stream",
     "text": [
      "$VAR: possibly delisted; No timezone found\n"
     ]
    },
    {
     "name": "stdout",
     "output_type": "stream",
     "text": [
      "Error fetching historical data for VAR: No historical data found for ticker\n",
      "Monthly data for VPU saved successfully.\n"
     ]
    },
    {
     "name": "stderr",
     "output_type": "stream",
     "text": [
      "$BPMP: possibly delisted; No timezone found\n"
     ]
    },
    {
     "name": "stdout",
     "output_type": "stream",
     "text": [
      "Error fetching historical data for BPMP: No historical data found for ticker\n",
      "Monthly data for SU saved successfully.\n",
      "Monthly data for RHHBF saved successfully.\n",
      "Monthly data for GAN saved successfully.\n"
     ]
    },
    {
     "name": "stderr",
     "output_type": "stream",
     "text": [
      "$NUAN: possibly delisted; No timezone found\n"
     ]
    },
    {
     "name": "stdout",
     "output_type": "stream",
     "text": [
      "Error fetching historical data for NUAN: No historical data found for ticker\n",
      "Monthly data for AMTX saved successfully.\n",
      "Monthly data for ORA saved successfully.\n",
      "Monthly data for OMCL saved successfully.\n"
     ]
    },
    {
     "name": "stderr",
     "output_type": "stream",
     "text": [
      "$CMLTU: possibly delisted; No timezone found\n"
     ]
    },
    {
     "name": "stdout",
     "output_type": "stream",
     "text": [
      "Error fetching historical data for CMLTU: No historical data found for ticker\n",
      "Monthly data for NYT saved successfully.\n",
      "Monthly data for WAB saved successfully.\n",
      "Monthly data for CENT saved successfully.\n",
      "Monthly data for CWEN saved successfully.\n",
      "Monthly data for HOFV saved successfully.\n"
     ]
    },
    {
     "name": "stderr",
     "output_type": "stream",
     "text": [
      "$ETWO.W: possibly delisted; No timezone found\n"
     ]
    },
    {
     "name": "stdout",
     "output_type": "stream",
     "text": [
      "Error fetching historical data for ETWO.W: No historical data found for ticker\n",
      "Monthly data for SHAK saved successfully.\n",
      "Monthly data for QCRH saved successfully.\n",
      "Monthly data for HRTX saved successfully.\n",
      "Monthly data for FUND saved successfully.\n",
      "Monthly data for GTN saved successfully.\n",
      "Monthly data for CACI saved successfully.\n",
      "Monthly data for MCS saved successfully.\n",
      "Monthly data for IEX saved successfully.\n",
      "Monthly data for EBAY saved successfully.\n"
     ]
    },
    {
     "name": "stderr",
     "output_type": "stream",
     "text": [
      "$CNR: possibly delisted; No timezone found\n"
     ]
    },
    {
     "name": "stdout",
     "output_type": "stream",
     "text": [
      "Error fetching historical data for CNR: No historical data found for ticker\n",
      "Monthly data for QRTEP saved successfully.\n",
      "$NASDAQ: possibly delisted; No price data found  (1d 2021-01-01 -> 2024-08-09)\n"
     ]
    },
    {
     "name": "stderr",
     "output_type": "stream",
     "text": [
      "$NASDAQ: possibly delisted; No price data found  (1d 2021-01-01 -> 2024-08-09)\n"
     ]
    },
    {
     "name": "stdout",
     "output_type": "stream",
     "text": [
      "Error fetching historical data for NASDAQ: No historical data found for ticker\n",
      "Monthly data for GDRX saved successfully.\n",
      "Monthly data for NI saved successfully.\n",
      "Monthly data for BJ saved successfully.\n",
      "Monthly data for ARMK saved successfully.\n",
      "Monthly data for ACST saved successfully.\n",
      "Monthly data for CTRM saved successfully.\n",
      "Monthly data for ESTC saved successfully.\n"
     ]
    },
    {
     "name": "stderr",
     "output_type": "stream",
     "text": [
      "$RDS.A: possibly delisted; No timezone found\n"
     ]
    },
    {
     "name": "stdout",
     "output_type": "stream",
     "text": [
      "Error fetching historical data for RDS.A: No historical data found for ticker\n",
      "Monthly data for ROG saved successfully.\n",
      "Monthly data for HCRB saved successfully.\n"
     ]
    },
    {
     "name": "stderr",
     "output_type": "stream",
     "text": [
      "$CMLFU: possibly delisted; No timezone found\n"
     ]
    },
    {
     "name": "stdout",
     "output_type": "stream",
     "text": [
      "Error fetching historical data for CMLFU: No historical data found for ticker\n",
      "Monthly data for POOL saved successfully.\n",
      "Monthly data for VOX saved successfully.\n"
     ]
    },
    {
     "name": "stderr",
     "output_type": "stream",
     "text": [
      "Failed to get ticker 'D/B/A ELLIOTT' reason: Expecting value: line 1 column 1 (char 0)\n",
      "$D/B/A ELLIOTT: possibly delisted; No timezone found\n"
     ]
    },
    {
     "name": "stdout",
     "output_type": "stream",
     "text": [
      "Error fetching historical data for D/B/A ELLIOTT: No historical data found for ticker\n",
      "Monthly data for NCLH saved successfully.\n",
      "Monthly data for FIVN saved successfully.\n",
      "Monthly data for SLAB saved successfully.\n"
     ]
    },
    {
     "name": "stderr",
     "output_type": "stream",
     "text": [
      "$PFPT: possibly delisted; No timezone found\n"
     ]
    },
    {
     "name": "stdout",
     "output_type": "stream",
     "text": [
      "Error fetching historical data for PFPT: No historical data found for ticker\n",
      "Monthly data for BKR saved successfully.\n"
     ]
    },
    {
     "name": "stderr",
     "output_type": "stream",
     "text": [
      "$VIVO: possibly delisted; No timezone found\n"
     ]
    },
    {
     "name": "stdout",
     "output_type": "stream",
     "text": [
      "Error fetching historical data for VIVO: No historical data found for ticker\n",
      "Monthly data for OSUR saved successfully.\n",
      "Monthly data for WSC saved successfully.\n",
      "Monthly data for GPC saved successfully.\n"
     ]
    },
    {
     "name": "stderr",
     "output_type": "stream",
     "text": [
      "$DGNR: possibly delisted; No timezone found\n"
     ]
    },
    {
     "name": "stdout",
     "output_type": "stream",
     "text": [
      "Error fetching historical data for DGNR: No historical data found for ticker\n"
     ]
    },
    {
     "name": "stderr",
     "output_type": "stream",
     "text": [
      "$APHA: possibly delisted; No timezone found\n"
     ]
    },
    {
     "name": "stdout",
     "output_type": "stream",
     "text": [
      "Error fetching historical data for APHA: No historical data found for ticker\n",
      "Monthly data for LUKOY saved successfully.\n",
      "Monthly data for FUPBY saved successfully.\n",
      "Monthly data for BL saved successfully.\n"
     ]
    },
    {
     "name": "stderr",
     "output_type": "stream",
     "text": [
      "$RDS.B: possibly delisted; No price data found  (1d 2021-01-01 -> 2024-08-09)\n"
     ]
    },
    {
     "name": "stdout",
     "output_type": "stream",
     "text": [
      "Monthly data for CNI saved successfully.\n",
      "Monthly data for ERJ saved successfully.\n",
      "$RDS.B: possibly delisted; No price data found  (1d 2021-01-01 -> 2024-08-09)\n",
      "Error fetching historical data for RDS.B: No historical data found for ticker\n",
      "Monthly data for ABEV saved successfully.\n"
     ]
    },
    {
     "name": "stderr",
     "output_type": "stream",
     "text": [
      "$CLGX: possibly delisted; No timezone found\n"
     ]
    },
    {
     "name": "stdout",
     "output_type": "stream",
     "text": [
      "Error fetching historical data for CLGX: No historical data found for ticker\n",
      "Monthly data for AOSL saved successfully.\n"
     ]
    },
    {
     "name": "stderr",
     "output_type": "stream",
     "text": [
      "$HRC: possibly delisted; No timezone found\n"
     ]
    },
    {
     "name": "stdout",
     "output_type": "stream",
     "text": [
      "Error fetching historical data for HRC: No historical data found for ticker\n",
      "Monthly data for AL saved successfully.\n",
      "Monthly data for ST saved successfully.\n",
      "Monthly data for EHC saved successfully.\n"
     ]
    },
    {
     "name": "stderr",
     "output_type": "stream",
     "text": [
      "$SOLO: possibly delisted; No timezone found\n"
     ]
    },
    {
     "name": "stdout",
     "output_type": "stream",
     "text": [
      "Error fetching historical data for SOLO: No historical data found for ticker\n"
     ]
    },
    {
     "name": "stderr",
     "output_type": "stream",
     "text": [
      "$SC: possibly delisted; No timezone found\n"
     ]
    },
    {
     "name": "stdout",
     "output_type": "stream",
     "text": [
      "Error fetching historical data for SC: No historical data found for ticker\n",
      "Monthly data for LYB saved successfully.\n"
     ]
    },
    {
     "name": "stderr",
     "output_type": "stream",
     "text": [
      "$XEC: possibly delisted; No timezone found\n"
     ]
    },
    {
     "name": "stdout",
     "output_type": "stream",
     "text": [
      "Error fetching historical data for XEC: No historical data found for ticker\n"
     ]
    },
    {
     "name": "stderr",
     "output_type": "stream",
     "text": [
      "$ATH: possibly delisted; No timezone found\n"
     ]
    },
    {
     "name": "stdout",
     "output_type": "stream",
     "text": [
      "Error fetching historical data for ATH: No historical data found for ticker\n"
     ]
    },
    {
     "name": "stderr",
     "output_type": "stream",
     "text": [
      "$UNVR: possibly delisted; No timezone found\n"
     ]
    },
    {
     "name": "stdout",
     "output_type": "stream",
     "text": [
      "Error fetching historical data for UNVR: No historical data found for ticker\n"
     ]
    },
    {
     "name": "stderr",
     "output_type": "stream",
     "text": [
      "$WYND: possibly delisted; No timezone found\n"
     ]
    },
    {
     "name": "stdout",
     "output_type": "stream",
     "text": [
      "Error fetching historical data for WYND: No historical data found for ticker\n",
      "Monthly data for OMF saved successfully.\n",
      "Monthly data for OKTA saved successfully.\n",
      "Monthly data for LYFT saved successfully.\n",
      "Monthly data for DXC saved successfully.\n",
      "Monthly data for IPWR saved successfully.\n",
      "Monthly data for ZG saved successfully.\n",
      "Monthly data for TOL saved successfully.\n",
      "Monthly data for WH saved successfully.\n",
      "Monthly data for SEE saved successfully.\n"
     ]
    },
    {
     "name": "stderr",
     "output_type": "stream",
     "text": [
      "$ARNA: possibly delisted; No timezone found\n"
     ]
    },
    {
     "name": "stdout",
     "output_type": "stream",
     "text": [
      "Error fetching historical data for ARNA: No historical data found for ticker\n",
      "Monthly data for FEMS saved successfully.\n",
      "Monthly data for GGSM saved successfully.\n",
      "Monthly data for EEM saved successfully.\n",
      "Monthly data for CRON saved successfully.\n"
     ]
    },
    {
     "name": "stderr",
     "output_type": "stream",
     "text": [
      "$GRUB: possibly delisted; No timezone found\n"
     ]
    },
    {
     "name": "stdout",
     "output_type": "stream",
     "text": [
      "Error fetching historical data for GRUB: No historical data found for ticker\n",
      "Monthly data for ACB saved successfully.\n",
      "Monthly data for CGC saved successfully.\n",
      "Monthly data for AAIGF saved successfully.\n",
      "Monthly data for MJNA saved successfully.\n",
      "Monthly data for YETI saved successfully.\n",
      "Monthly data for DOMO saved successfully.\n"
     ]
    },
    {
     "name": "stderr",
     "output_type": "stream",
     "text": [
      "$QUMU: possibly delisted; No timezone found\n"
     ]
    },
    {
     "name": "stdout",
     "output_type": "stream",
     "text": [
      "Error fetching historical data for QUMU: No historical data found for ticker\n",
      "Monthly data for XCAPX saved successfully.\n",
      "Monthly data for HUM saved successfully.\n",
      "Monthly data for DMTK saved successfully.\n",
      "Monthly data for DDD saved successfully.\n",
      "Monthly data for PPC saved successfully.\n"
     ]
    },
    {
     "name": "stderr",
     "output_type": "stream",
     "text": [
      "$EVOP: possibly delisted; No timezone found\n"
     ]
    },
    {
     "name": "stdout",
     "output_type": "stream",
     "text": [
      "Error fetching historical data for EVOP: No historical data found for ticker\n",
      "Monthly data for FSLY saved successfully.\n"
     ]
    },
    {
     "name": "stderr",
     "output_type": "stream",
     "text": [
      "$JIH: possibly delisted; No timezone found\n"
     ]
    },
    {
     "name": "stdout",
     "output_type": "stream",
     "text": [
      "Error fetching historical data for JIH: No historical data found for ticker\n",
      "Monthly data for LEE saved successfully.\n"
     ]
    },
    {
     "name": "stderr",
     "output_type": "stream",
     "text": [
      "$LMACU: possibly delisted; No timezone found\n"
     ]
    },
    {
     "name": "stdout",
     "output_type": "stream",
     "text": [
      "Error fetching historical data for LMACU: No historical data found for ticker\n"
     ]
    },
    {
     "name": "stderr",
     "output_type": "stream",
     "text": [
      "$NYMX: possibly delisted; No timezone found\n"
     ]
    },
    {
     "name": "stdout",
     "output_type": "stream",
     "text": [
      "Error fetching historical data for NYMX: No historical data found for ticker\n",
      "Monthly data for SJM saved successfully.\n",
      "Monthly data for DKNG saved successfully.\n",
      "Monthly data for GBDC saved successfully.\n",
      "Monthly data for SDOG saved successfully.\n"
     ]
    },
    {
     "name": "stderr",
     "output_type": "stream",
     "text": [
      "$ZOOM: possibly delisted; No timezone found\n"
     ]
    },
    {
     "name": "stdout",
     "output_type": "stream",
     "text": [
      "Error fetching historical data for ZOOM: No historical data found for ticker\n",
      "Monthly data for DAN saved successfully.\n",
      "Monthly data for JETS saved successfully.\n"
     ]
    },
    {
     "name": "stderr",
     "output_type": "stream",
     "text": [
      "$PCPL: possibly delisted; No timezone found\n"
     ]
    },
    {
     "name": "stdout",
     "output_type": "stream",
     "text": [
      "Error fetching historical data for PCPL: No historical data found for ticker\n"
     ]
    },
    {
     "name": "stderr",
     "output_type": "stream",
     "text": [
      "$AUY: possibly delisted; No timezone found\n"
     ]
    },
    {
     "name": "stdout",
     "output_type": "stream",
     "text": [
      "Error fetching historical data for AUY: No historical data found for ticker\n",
      "Monthly data for TKC saved successfully.\n",
      "Monthly data for MLYNF saved successfully.\n",
      "Monthly data for TSCDF saved successfully.\n"
     ]
    },
    {
     "name": "stderr",
     "output_type": "stream",
     "text": [
      "$NCMGF: possibly delisted; No timezone found\n"
     ]
    },
    {
     "name": "stdout",
     "output_type": "stream",
     "text": [
      "Error fetching historical data for NCMGF: No historical data found for ticker\n",
      "Monthly data for RODM saved successfully.\n",
      "Monthly data for JGCCF saved successfully.\n"
     ]
    },
    {
     "name": "stderr",
     "output_type": "stream",
     "text": [
      "$VIV.V: possibly delisted; No timezone found\n"
     ]
    },
    {
     "name": "stdout",
     "output_type": "stream",
     "text": [
      "Error fetching historical data for VIV.V: No historical data found for ticker\n",
      "Monthly data for WOLWF saved successfully.\n",
      "Monthly data for OGFGF saved successfully.\n",
      "Monthly data for MJDLF saved successfully.\n",
      "Monthly data for PDS saved successfully.\n"
     ]
    },
    {
     "name": "stderr",
     "output_type": "stream",
     "text": [
      "$CEMCF: possibly delisted; No timezone found\n"
     ]
    },
    {
     "name": "stdout",
     "output_type": "stream",
     "text": [
      "Error fetching historical data for CEMCF: No historical data found for ticker\n"
     ]
    },
    {
     "name": "stderr",
     "output_type": "stream",
     "text": [
      "$WAIR: possibly delisted; No timezone found\n"
     ]
    },
    {
     "name": "stdout",
     "output_type": "stream",
     "text": [
      "Error fetching historical data for WAIR: No historical data found for ticker\n",
      "Monthly data for CIG saved successfully.\n"
     ]
    },
    {
     "name": "stderr",
     "output_type": "stream",
     "text": [
      "$FSKR: possibly delisted; No timezone found\n"
     ]
    },
    {
     "name": "stdout",
     "output_type": "stream",
     "text": [
      "Error fetching historical data for FSKR: No historical data found for ticker\n",
      "Monthly data for VIV saved successfully.\n",
      "Monthly data for AIO saved successfully.\n"
     ]
    },
    {
     "name": "stderr",
     "output_type": "stream",
     "text": [
      "$FEYE: possibly delisted; No timezone found\n"
     ]
    },
    {
     "name": "stdout",
     "output_type": "stream",
     "text": [
      "Error fetching historical data for FEYE: No historical data found for ticker\n",
      "Monthly data for ACGL saved successfully.\n"
     ]
    },
    {
     "name": "stderr",
     "output_type": "stream",
     "text": [
      "$AJRD: possibly delisted; No timezone found\n"
     ]
    },
    {
     "name": "stdout",
     "output_type": "stream",
     "text": [
      "Error fetching historical data for AJRD: No historical data found for ticker\n"
     ]
    },
    {
     "name": "stderr",
     "output_type": "stream",
     "text": [
      "$TIF: possibly delisted; No timezone found\n"
     ]
    },
    {
     "name": "stdout",
     "output_type": "stream",
     "text": [
      "Error fetching historical data for TIF: No historical data found for ticker\n",
      "Monthly data for LI saved successfully.\n"
     ]
    },
    {
     "name": "stderr",
     "output_type": "stream",
     "text": [
      "$CHNG: possibly delisted; No timezone found\n"
     ]
    },
    {
     "name": "stdout",
     "output_type": "stream",
     "text": [
      "Error fetching historical data for CHNG: No historical data found for ticker\n",
      "Monthly data for CNF saved successfully.\n"
     ]
    },
    {
     "name": "stderr",
     "output_type": "stream",
     "text": [
      "$FLIR: possibly delisted; No timezone found\n"
     ]
    },
    {
     "name": "stdout",
     "output_type": "stream",
     "text": [
      "Error fetching historical data for FLIR: No historical data found for ticker\n"
     ]
    },
    {
     "name": "stderr",
     "output_type": "stream",
     "text": [
      "$PCPL.U: possibly delisted; No timezone found\n"
     ]
    },
    {
     "name": "stdout",
     "output_type": "stream",
     "text": [
      "Error fetching historical data for PCPL.U: No historical data found for ticker\n",
      "Monthly data for QQXT saved successfully.\n",
      "Monthly data for XLB saved successfully.\n",
      "Monthly data for ARW saved successfully.\n",
      "Monthly data for SRNE saved successfully.\n",
      "Monthly data for LB saved successfully.\n",
      "Monthly data for ASMB saved successfully.\n",
      "Monthly data for XLF saved successfully.\n"
     ]
    },
    {
     "name": "stderr",
     "output_type": "stream",
     "text": [
      "$RETA: possibly delisted; No timezone found\n"
     ]
    },
    {
     "name": "stdout",
     "output_type": "stream",
     "text": [
      "Error fetching historical data for RETA: No historical data found for ticker\n",
      "Monthly data for EDU saved successfully.\n",
      "Monthly data for HII saved successfully.\n"
     ]
    },
    {
     "name": "stderr",
     "output_type": "stream",
     "text": [
      "$PSTH: possibly delisted; No timezone found\n"
     ]
    },
    {
     "name": "stdout",
     "output_type": "stream",
     "text": [
      "Error fetching historical data for PSTH: No historical data found for ticker\n"
     ]
    },
    {
     "name": "stderr",
     "output_type": "stream",
     "text": [
      "$HDS: possibly delisted; No timezone found\n"
     ]
    },
    {
     "name": "stdout",
     "output_type": "stream",
     "text": [
      "Error fetching historical data for HDS: No historical data found for ticker\n",
      "Monthly data for FTDR saved successfully.\n"
     ]
    },
    {
     "name": "stderr",
     "output_type": "stream",
     "text": [
      "$NGLS: possibly delisted; No price data found  (1d 2021-01-01 -> 2024-08-09)\n"
     ]
    },
    {
     "name": "stdout",
     "output_type": "stream",
     "text": [
      "$NGLS: possibly delisted; No price data found  (1d 2021-01-01 -> 2024-08-09)\n",
      "Error fetching historical data for NGLS: No historical data found for ticker\n",
      "Monthly data for NBIX saved successfully.\n",
      "Monthly data for EXPI saved successfully.\n",
      "Monthly data for ETY saved successfully.\n"
     ]
    },
    {
     "name": "stderr",
     "output_type": "stream",
     "text": [
      "$CHL: possibly delisted; No timezone found\n"
     ]
    },
    {
     "name": "stdout",
     "output_type": "stream",
     "text": [
      "Error fetching historical data for CHL: No historical data found for ticker\n"
     ]
    },
    {
     "name": "stderr",
     "output_type": "stream",
     "text": [
      "$CTXS: possibly delisted; No timezone found\n"
     ]
    },
    {
     "name": "stdout",
     "output_type": "stream",
     "text": [
      "Error fetching historical data for CTXS: No historical data found for ticker\n"
     ]
    },
    {
     "name": "stderr",
     "output_type": "stream",
     "text": [
      "$ARNC: possibly delisted; No timezone found\n"
     ]
    },
    {
     "name": "stdout",
     "output_type": "stream",
     "text": [
      "Error fetching historical data for ARNC: No historical data found for ticker\n",
      "Monthly data for VSAT saved successfully.\n"
     ]
    },
    {
     "name": "stderr",
     "output_type": "stream",
     "text": [
      "$CATM: possibly delisted; No timezone found\n"
     ]
    },
    {
     "name": "stdout",
     "output_type": "stream",
     "text": [
      "Error fetching historical data for CATM: No historical data found for ticker\n"
     ]
    },
    {
     "name": "stderr",
     "output_type": "stream",
     "text": [
      "$RAD: possibly delisted; No timezone found\n"
     ]
    },
    {
     "name": "stdout",
     "output_type": "stream",
     "text": [
      "Error fetching historical data for RAD: No historical data found for ticker\n"
     ]
    },
    {
     "name": "stderr",
     "output_type": "stream",
     "text": [
      "$DNKN: possibly delisted; No timezone found\n"
     ]
    },
    {
     "name": "stdout",
     "output_type": "stream",
     "text": [
      "Error fetching historical data for DNKN: No historical data found for ticker\n"
     ]
    },
    {
     "name": "stderr",
     "output_type": "stream",
     "text": [
      "$PRAH: possibly delisted; No timezone found\n"
     ]
    },
    {
     "name": "stdout",
     "output_type": "stream",
     "text": [
      "Error fetching historical data for PRAH: No historical data found for ticker\n"
     ]
    },
    {
     "name": "stderr",
     "output_type": "stream",
     "text": [
      "$SNE: possibly delisted; No timezone found\n"
     ]
    },
    {
     "name": "stdout",
     "output_type": "stream",
     "text": [
      "Error fetching historical data for SNE: No historical data found for ticker\n",
      "Monthly data for AIV saved successfully.\n",
      "Monthly data for THR saved successfully.\n",
      "Monthly data for NVGS saved successfully.\n",
      "Monthly data for ZUO saved successfully.\n",
      "Monthly data for BLUE saved successfully.\n",
      "Monthly data for GSLC saved successfully.\n"
     ]
    },
    {
     "name": "stderr",
     "output_type": "stream",
     "text": [
      "$CEQP: possibly delisted; No timezone found\n"
     ]
    },
    {
     "name": "stdout",
     "output_type": "stream",
     "text": [
      "Error fetching historical data for CEQP: No historical data found for ticker\n"
     ]
    },
    {
     "name": "stderr",
     "output_type": "stream",
     "text": [
      "$WORK: possibly delisted; No timezone found\n"
     ]
    },
    {
     "name": "stdout",
     "output_type": "stream",
     "text": [
      "Error fetching historical data for WORK: No historical data found for ticker\n",
      "Monthly data for NTRP saved successfully.\n",
      "Monthly data for ZBRA saved successfully.\n",
      "Monthly data for LAND saved successfully.\n"
     ]
    },
    {
     "name": "stderr",
     "output_type": "stream",
     "text": [
      "$BGG: possibly delisted; No timezone found\n"
     ]
    },
    {
     "name": "stdout",
     "output_type": "stream",
     "text": [
      "Error fetching historical data for BGG: No historical data found for ticker\n"
     ]
    },
    {
     "name": "stderr",
     "output_type": "stream",
     "text": [
      "$CCMP: possibly delisted; No timezone found\n"
     ]
    },
    {
     "name": "stdout",
     "output_type": "stream",
     "text": [
      "Error fetching historical data for CCMP: No historical data found for ticker\n",
      "Monthly data for YEXT saved successfully.\n",
      "Monthly data for WIX saved successfully.\n"
     ]
    },
    {
     "name": "stderr",
     "output_type": "stream",
     "text": [
      "$GMLP: possibly delisted; No timezone found\n"
     ]
    },
    {
     "name": "stdout",
     "output_type": "stream",
     "text": [
      "Error fetching historical data for GMLP: No historical data found for ticker\n",
      "Monthly data for FVD saved successfully.\n",
      "Monthly data for SWN saved successfully.\n"
     ]
    },
    {
     "name": "stderr",
     "output_type": "stream",
     "text": [
      "$CTRCF: possibly delisted; No timezone found\n"
     ]
    },
    {
     "name": "stdout",
     "output_type": "stream",
     "text": [
      "Error fetching historical data for CTRCF: No historical data found for ticker\n",
      "Monthly data for REGL saved successfully.\n",
      "Monthly data for PASO saved successfully.\n"
     ]
    },
    {
     "name": "stderr",
     "output_type": "stream",
     "text": [
      "$VRTU: possibly delisted; No timezone found\n"
     ]
    },
    {
     "name": "stdout",
     "output_type": "stream",
     "text": [
      "Error fetching historical data for VRTU: No historical data found for ticker\n",
      "Monthly data for RBCAA saved successfully.\n",
      "Monthly data for HBI saved successfully.\n",
      "Monthly data for PSIX saved successfully.\n",
      "Monthly data for PAAS saved successfully.\n",
      "Monthly data for FISI saved successfully.\n",
      "Monthly data for ACIW saved successfully.\n",
      "Monthly data for PTLC saved successfully.\n",
      "Monthly data for BIP saved successfully.\n"
     ]
    },
    {
     "name": "stderr",
     "output_type": "stream",
     "text": [
      "$IPHI: possibly delisted; No timezone found\n"
     ]
    },
    {
     "name": "stdout",
     "output_type": "stream",
     "text": [
      "Error fetching historical data for IPHI: No historical data found for ticker\n",
      "Monthly data for FUBO saved successfully.\n",
      "Monthly data for OIH saved successfully.\n",
      "Monthly data for SMLP saved successfully.\n",
      "Monthly data for DBX saved successfully.\n",
      "Monthly data for SDXAY saved successfully.\n"
     ]
    },
    {
     "name": "stderr",
     "output_type": "stream",
     "text": [
      "$ANZBY: possibly delisted; No timezone found\n"
     ]
    },
    {
     "name": "stdout",
     "output_type": "stream",
     "text": [
      "Error fetching historical data for ANZBY: No historical data found for ticker\n",
      "Monthly data for HLDCY saved successfully.\n",
      "Monthly data for AGESY saved successfully.\n"
     ]
    },
    {
     "name": "stderr",
     "output_type": "stream",
     "text": [
      "$NTXFY: possibly delisted; No timezone found\n"
     ]
    },
    {
     "name": "stdout",
     "output_type": "stream",
     "text": [
      "Error fetching historical data for NTXFY: No historical data found for ticker\n",
      "Monthly data for AER saved successfully.\n",
      "Monthly data for BASFY saved successfully.\n",
      "Monthly data for FUJHY saved successfully.\n"
     ]
    },
    {
     "name": "stderr",
     "output_type": "stream",
     "text": [
      "$WOPEY: possibly delisted; No timezone found\n"
     ]
    },
    {
     "name": "stdout",
     "output_type": "stream",
     "text": [
      "Error fetching historical data for WOPEY: No historical data found for ticker\n"
     ]
    },
    {
     "name": "stderr",
     "output_type": "stream",
     "text": [
      "$TLSYY: possibly delisted; No timezone found\n"
     ]
    },
    {
     "name": "stdout",
     "output_type": "stream",
     "text": [
      "Error fetching historical data for TLSYY: No historical data found for ticker\n"
     ]
    },
    {
     "name": "stderr",
     "output_type": "stream",
     "text": [
      "$CSLT: possibly delisted; No timezone found\n"
     ]
    },
    {
     "name": "stdout",
     "output_type": "stream",
     "text": [
      "Error fetching historical data for CSLT: No historical data found for ticker\n"
     ]
    },
    {
     "name": "stderr",
     "output_type": "stream",
     "text": [
      "$TOT: possibly delisted; No timezone found\n"
     ]
    },
    {
     "name": "stdout",
     "output_type": "stream",
     "text": [
      "Error fetching historical data for TOT: No historical data found for ticker\n"
     ]
    },
    {
     "name": "stderr",
     "output_type": "stream",
     "text": [
      "$MFGP: possibly delisted; No timezone found\n"
     ]
    },
    {
     "name": "stdout",
     "output_type": "stream",
     "text": [
      "Error fetching historical data for MFGP: No historical data found for ticker\n"
     ]
    },
    {
     "name": "stderr",
     "output_type": "stream",
     "text": [
      "$MRWSY: possibly delisted; No timezone found\n"
     ]
    },
    {
     "name": "stdout",
     "output_type": "stream",
     "text": [
      "Error fetching historical data for MRWSY: No historical data found for ticker\n",
      "Monthly data for TEVA saved successfully.\n",
      "Monthly data for GLPEY saved successfully.\n",
      "Monthly data for VOPKY saved successfully.\n"
     ]
    },
    {
     "name": "stderr",
     "output_type": "stream",
     "text": [
      "$ATASY: possibly delisted; No timezone found\n"
     ]
    },
    {
     "name": "stdout",
     "output_type": "stream",
     "text": [
      "Error fetching historical data for ATASY: No historical data found for ticker\n"
     ]
    },
    {
     "name": "stderr",
     "output_type": "stream",
     "text": [
      "$CAJ: possibly delisted; No timezone found\n"
     ]
    },
    {
     "name": "stdout",
     "output_type": "stream",
     "text": [
      "Error fetching historical data for CAJ: No historical data found for ticker\n",
      "Monthly data for SSUMY saved successfully.\n",
      "Monthly data for HSNGY saved successfully.\n",
      "Monthly data for MLCO saved successfully.\n",
      "Monthly data for KPELY saved successfully.\n",
      "Monthly data for DLAKY saved successfully.\n",
      "Monthly data for FINMY saved successfully.\n",
      "Monthly data for OMVKY saved successfully.\n",
      "Monthly data for POAHY saved successfully.\n",
      "Monthly data for RYCEY saved successfully.\n",
      "Monthly data for REPYY saved successfully.\n",
      "Monthly data for IX saved successfully.\n",
      "Monthly data for CUK saved successfully.\n",
      "Monthly data for ACSAY saved successfully.\n",
      "Monthly data for HLPPY saved successfully.\n",
      "Monthly data for EJPRY saved successfully.\n",
      "Monthly data for TLSNY saved successfully.\n",
      "Monthly data for NTOIY saved successfully.\n",
      "Monthly data for E saved successfully.\n",
      "Monthly data for CNS saved successfully.\n",
      "Monthly data for MITSY saved successfully.\n",
      "Monthly data for TS saved successfully.\n",
      "Monthly data for IPXHY saved successfully.\n",
      "Monthly data for HRI saved successfully.\n",
      "Monthly data for MPLN saved successfully.\n"
     ]
    },
    {
     "name": "stderr",
     "output_type": "stream",
     "text": [
      "$GLOP: possibly delisted; No timezone found\n"
     ]
    },
    {
     "name": "stdout",
     "output_type": "stream",
     "text": [
      "Error fetching historical data for GLOP: No historical data found for ticker\n",
      "Monthly data for CVI saved successfully.\n",
      "Monthly data for BYND saved successfully.\n",
      "Monthly data for MMLP saved successfully.\n",
      "Monthly data for AMN saved successfully.\n",
      "Monthly data for VAW saved successfully.\n",
      "Monthly data for SKX saved successfully.\n",
      "Monthly data for BEEM saved successfully.\n"
     ]
    },
    {
     "name": "stderr",
     "output_type": "stream",
     "text": [
      "$GWPH: possibly delisted; No timezone found\n"
     ]
    },
    {
     "name": "stdout",
     "output_type": "stream",
     "text": [
      "Error fetching historical data for GWPH: No historical data found for ticker\n",
      "Monthly data for ACM saved successfully.\n"
     ]
    },
    {
     "name": "stderr",
     "output_type": "stream",
     "text": [
      "$XLNX: possibly delisted; No timezone found\n"
     ]
    },
    {
     "name": "stdout",
     "output_type": "stream",
     "text": [
      "Error fetching historical data for XLNX: No historical data found for ticker\n",
      "Monthly data for RCI saved successfully.\n"
     ]
    },
    {
     "name": "stderr",
     "output_type": "stream",
     "text": [
      "$APEN: possibly delisted; No timezone found\n"
     ]
    },
    {
     "name": "stdout",
     "output_type": "stream",
     "text": [
      "Error fetching historical data for APEN: No historical data found for ticker\n",
      "Monthly data for PPBI saved successfully.\n",
      "Monthly data for GWRE saved successfully.\n",
      "Monthly data for CSIQ saved successfully.\n",
      "Monthly data for PRLB saved successfully.\n",
      "Monthly data for LGND saved successfully.\n"
     ]
    },
    {
     "name": "stderr",
     "output_type": "stream",
     "text": [
      "$NBLX: possibly delisted; No timezone found\n"
     ]
    },
    {
     "name": "stdout",
     "output_type": "stream",
     "text": [
      "Error fetching historical data for NBLX: No historical data found for ticker\n",
      "Monthly data for OLED saved successfully.\n",
      "Monthly data for PRAA saved successfully.\n",
      "Monthly data for FLCB saved successfully.\n",
      "Monthly data for SPTM saved successfully.\n",
      "Monthly data for FLCO saved successfully.\n"
     ]
    },
    {
     "name": "stderr",
     "output_type": "stream",
     "text": [
      "$EBSB: possibly delisted; No timezone found\n"
     ]
    },
    {
     "name": "stdout",
     "output_type": "stream",
     "text": [
      "Error fetching historical data for EBSB: No historical data found for ticker\n",
      "Monthly data for CATY saved successfully.\n",
      "Monthly data for GOVT saved successfully.\n",
      "Monthly data for VWO saved successfully.\n",
      "Monthly data for VDC saved successfully.\n",
      "Monthly data for FLQL saved successfully.\n"
     ]
    },
    {
     "name": "stderr",
     "output_type": "stream",
     "text": [
      "$CRY: possibly delisted; No timezone found\n"
     ]
    },
    {
     "name": "stdout",
     "output_type": "stream",
     "text": [
      "Error fetching historical data for CRY: No historical data found for ticker\n",
      "Monthly data for VEA saved successfully.\n",
      "Monthly data for PRA saved successfully.\n",
      "Monthly data for NEOG saved successfully.\n",
      "Monthly data for WSTL saved successfully.\n",
      "Monthly data for TECH saved successfully.\n",
      "Monthly data for NVAX saved successfully.\n",
      "Monthly data for ANSS saved successfully.\n",
      "Monthly data for ROL saved successfully.\n",
      "Monthly data for LII saved successfully.\n",
      "Monthly data for AMED saved successfully.\n"
     ]
    },
    {
     "name": "stderr",
     "output_type": "stream",
     "text": [
      "$CMLF: possibly delisted; No timezone found\n"
     ]
    },
    {
     "name": "stdout",
     "output_type": "stream",
     "text": [
      "Error fetching historical data for CMLF: No historical data found for ticker\n",
      "Monthly data for USMV saved successfully.\n",
      "Monthly data for ESGU saved successfully.\n",
      "Monthly data for VTI saved successfully.\n",
      "Monthly data for IEFA saved successfully.\n",
      "Monthly data for PUTW saved successfully.\n",
      "Monthly data for IEF saved successfully.\n",
      "Monthly data for VLUE saved successfully.\n",
      "Monthly data for IHI saved successfully.\n",
      "Monthly data for DSU saved successfully.\n",
      "Monthly data for XSOE saved successfully.\n",
      "Monthly data for DIV saved successfully.\n",
      "Monthly data for EVV saved successfully.\n",
      "Monthly data for BTZ saved successfully.\n",
      "Monthly data for YNDX saved successfully.\n"
     ]
    },
    {
     "name": "stderr",
     "output_type": "stream",
     "text": [
      "$CDAY: possibly delisted; No timezone found\n"
     ]
    },
    {
     "name": "stdout",
     "output_type": "stream",
     "text": [
      "Error fetching historical data for CDAY: No historical data found for ticker\n"
     ]
    },
    {
     "name": "stderr",
     "output_type": "stream",
     "text": [
      "$NBL: possibly delisted; No timezone found\n"
     ]
    },
    {
     "name": "stdout",
     "output_type": "stream",
     "text": [
      "Error fetching historical data for NBL: No historical data found for ticker\n",
      "Monthly data for AMTD saved successfully.\n",
      "Monthly data for WKHS saved successfully.\n"
     ]
    },
    {
     "name": "stderr",
     "output_type": "stream",
     "text": [
      "$ETFC: possibly delisted; No timezone found\n"
     ]
    },
    {
     "name": "stdout",
     "output_type": "stream",
     "text": [
      "Error fetching historical data for ETFC: No historical data found for ticker\n"
     ]
    },
    {
     "name": "stderr",
     "output_type": "stream",
     "text": [
      "$BREW: possibly delisted; No timezone found\n"
     ]
    },
    {
     "name": "stdout",
     "output_type": "stream",
     "text": [
      "Error fetching historical data for BREW: No historical data found for ticker\n",
      "Monthly data for PBF saved successfully.\n"
     ]
    },
    {
     "name": "stderr",
     "output_type": "stream",
     "text": [
      "$WPX: possibly delisted; No timezone found\n"
     ]
    },
    {
     "name": "stdout",
     "output_type": "stream",
     "text": [
      "Error fetching historical data for WPX: No historical data found for ticker\n",
      "Monthly data for LEVI saved successfully.\n"
     ]
    },
    {
     "name": "stderr",
     "output_type": "stream",
     "text": [
      "$AVLR: possibly delisted; No timezone found\n"
     ]
    },
    {
     "name": "stdout",
     "output_type": "stream",
     "text": [
      "Error fetching historical data for AVLR: No historical data found for ticker\n"
     ]
    },
    {
     "name": "stderr",
     "output_type": "stream",
     "text": [
      "$PKI: possibly delisted; No timezone found\n"
     ]
    },
    {
     "name": "stdout",
     "output_type": "stream",
     "text": [
      "Error fetching historical data for PKI: No historical data found for ticker\n",
      "Monthly data for ATOAX saved successfully.\n"
     ]
    },
    {
     "name": "stderr",
     "output_type": "stream",
     "text": [
      "$SVCBY: possibly delisted; No timezone found\n"
     ]
    },
    {
     "name": "stdout",
     "output_type": "stream",
     "text": [
      "Error fetching historical data for SVCBY: No historical data found for ticker\n",
      "Monthly data for ENR saved successfully.\n",
      "Monthly data for RHI saved successfully.\n",
      "Monthly data for CHUY saved successfully.\n",
      "Monthly data for DRQ saved successfully.\n",
      "Monthly data for POST saved successfully.\n",
      "Monthly data for FHB saved successfully.\n",
      "Monthly data for TGTX saved successfully.\n",
      "Monthly data for SNX saved successfully.\n",
      "Monthly data for BAND saved successfully.\n",
      "Monthly data for USMC saved successfully.\n",
      "Monthly data for INO saved successfully.\n",
      "Monthly data for ANY saved successfully.\n",
      "Monthly data for POWI saved successfully.\n",
      "Monthly data for AMWD saved successfully.\n",
      "Monthly data for BHC saved successfully.\n"
     ]
    },
    {
     "name": "stderr",
     "output_type": "stream",
     "text": [
      "$CCXX: possibly delisted; No timezone found\n"
     ]
    },
    {
     "name": "stdout",
     "output_type": "stream",
     "text": [
      "Error fetching historical data for CCXX: No historical data found for ticker\n",
      "Monthly data for FTA saved successfully.\n",
      "Monthly data for RUSHA saved successfully.\n",
      "Monthly data for MYE saved successfully.\n",
      "Monthly data for DOX saved successfully.\n"
     ]
    },
    {
     "name": "stderr",
     "output_type": "stream",
     "text": [
      "$SKVKY: possibly delisted; No timezone found\n"
     ]
    },
    {
     "name": "stdout",
     "output_type": "stream",
     "text": [
      "Error fetching historical data for SKVKY: No historical data found for ticker\n",
      "Monthly data for KMPR saved successfully.\n",
      "Monthly data for XLV saved successfully.\n",
      "Monthly data for CWB saved successfully.\n",
      "Monthly data for WDC saved successfully.\n",
      "Monthly data for SDY saved successfully.\n",
      "Monthly data for BGFV saved successfully.\n"
     ]
    },
    {
     "name": "stderr",
     "output_type": "stream",
     "text": [
      "$DCP: possibly delisted; No timezone found\n"
     ]
    },
    {
     "name": "stdout",
     "output_type": "stream",
     "text": [
      "Error fetching historical data for DCP: No historical data found for ticker\n",
      "Monthly data for RAND saved successfully.\n"
     ]
    },
    {
     "name": "stderr",
     "output_type": "stream",
     "text": [
      "$HFC: possibly delisted; No timezone found\n"
     ]
    },
    {
     "name": "stdout",
     "output_type": "stream",
     "text": [
      "Error fetching historical data for HFC: No historical data found for ticker\n",
      "Monthly data for ZI saved successfully.\n",
      "Monthly data for PGNY saved successfully.\n",
      "Monthly data for OSK saved successfully.\n",
      "Monthly data for WDFC saved successfully.\n",
      "Monthly data for NWE saved successfully.\n",
      "Monthly data for CBRE saved successfully.\n",
      "Monthly data for IAC saved successfully.\n",
      "Monthly data for BECN saved successfully.\n",
      "Monthly data for SIL saved successfully.\n",
      "Monthly data for SYPR saved successfully.\n"
     ]
    },
    {
     "name": "stderr",
     "output_type": "stream",
     "text": [
      "$SPKE: possibly delisted; No timezone found\n"
     ]
    },
    {
     "name": "stdout",
     "output_type": "stream",
     "text": [
      "Error fetching historical data for SPKE: No historical data found for ticker\n",
      "Monthly data for BIPC saved successfully.\n"
     ]
    },
    {
     "name": "stderr",
     "output_type": "stream",
     "text": [
      "$RXN: possibly delisted; No timezone found\n"
     ]
    },
    {
     "name": "stdout",
     "output_type": "stream",
     "text": [
      "Error fetching historical data for RXN: No historical data found for ticker\n",
      "Monthly data for PROF saved successfully.\n",
      "Monthly data for NKLA saved successfully.\n",
      "Monthly data for HUYA saved successfully.\n"
     ]
    },
    {
     "name": "stderr",
     "output_type": "stream",
     "text": [
      "$TMUSR: possibly delisted; No timezone found\n"
     ]
    },
    {
     "name": "stdout",
     "output_type": "stream",
     "text": [
      "Error fetching historical data for TMUSR: No historical data found for ticker\n"
     ]
    },
    {
     "name": "stderr",
     "output_type": "stream",
     "text": [
      "$MSBHY: possibly delisted; No timezone found\n"
     ]
    },
    {
     "name": "stdout",
     "output_type": "stream",
     "text": [
      "Error fetching historical data for MSBHY: No historical data found for ticker\n",
      "Monthly data for NMIH saved successfully.\n",
      "Monthly data for TCOM saved successfully.\n",
      "Monthly data for DUSA saved successfully.\n"
     ]
    },
    {
     "name": "stderr",
     "output_type": "stream",
     "text": [
      "$VSLR: possibly delisted; No timezone found\n"
     ]
    },
    {
     "name": "stdout",
     "output_type": "stream",
     "text": [
      "Error fetching historical data for VSLR: No historical data found for ticker\n",
      "Monthly data for GGT saved successfully.\n",
      "Monthly data for DLS saved successfully.\n",
      "Monthly data for BAM saved successfully.\n",
      "Monthly data for SFST saved successfully.\n",
      "Monthly data for CXW saved successfully.\n",
      "Monthly data for WK saved successfully.\n"
     ]
    },
    {
     "name": "stderr",
     "output_type": "stream",
     "text": [
      "$LTHM: possibly delisted; No timezone found\n"
     ]
    },
    {
     "name": "stdout",
     "output_type": "stream",
     "text": [
      "Error fetching historical data for LTHM: No historical data found for ticker\n"
     ]
    },
    {
     "name": "stderr",
     "output_type": "stream",
     "text": [
      "$BLFSD: possibly delisted; No timezone found\n"
     ]
    },
    {
     "name": "stdout",
     "output_type": "stream",
     "text": [
      "Error fetching historical data for BLFSD: No historical data found for ticker\n"
     ]
    },
    {
     "name": "stderr",
     "output_type": "stream",
     "text": [
      "$LEN.B: possibly delisted; No price data found  (1d 2021-01-01 -> 2024-08-09)\n"
     ]
    },
    {
     "name": "stdout",
     "output_type": "stream",
     "text": [
      "Monthly data for LEN saved successfully.\n",
      "$LEN.B: possibly delisted; No price data found  (1d 2021-01-01 -> 2024-08-09)\n",
      "Error fetching historical data for LEN.B: No historical data found for ticker\n",
      "Monthly data for KIDS saved successfully.\n",
      "Monthly data for BDC saved successfully.\n",
      "Monthly data for STWD saved successfully.\n",
      "Monthly data for TFFP saved successfully.\n",
      "Monthly data for INFR saved successfully.\n",
      "Monthly data for ISD saved successfully.\n",
      "Monthly data for EFV saved successfully.\n",
      "Monthly data for VV saved successfully.\n",
      "Monthly data for REYN saved successfully.\n"
     ]
    },
    {
     "name": "stderr",
     "output_type": "stream",
     "text": [
      "$NVIGF: possibly delisted; No timezone found\n"
     ]
    },
    {
     "name": "stdout",
     "output_type": "stream",
     "text": [
      "Error fetching historical data for NVIGF: No historical data found for ticker\n",
      "Monthly data for BDN saved successfully.\n",
      "Monthly data for SKYY saved successfully.\n",
      "Monthly data for PRJAX saved successfully.\n",
      "Monthly data for PSNL saved successfully.\n",
      "Monthly data for SPSC saved successfully.\n",
      "Monthly data for ETP saved successfully.\n",
      "Monthly data for ITOT saved successfully.\n"
     ]
    },
    {
     "name": "stderr",
     "output_type": "stream",
     "text": [
      "$AGN: possibly delisted; No timezone found\n"
     ]
    },
    {
     "name": "stdout",
     "output_type": "stream",
     "text": [
      "Error fetching historical data for AGN: No historical data found for ticker\n"
     ]
    },
    {
     "name": "stderr",
     "output_type": "stream",
     "text": [
      "$ADS: possibly delisted; No timezone found\n"
     ]
    },
    {
     "name": "stdout",
     "output_type": "stream",
     "text": [
      "Error fetching historical data for ADS: No historical data found for ticker\n",
      "Monthly data for IVZ saved successfully.\n",
      "Monthly data for FLS saved successfully.\n"
     ]
    },
    {
     "name": "stderr",
     "output_type": "stream",
     "text": [
      "$FLXN: possibly delisted; No timezone found\n"
     ]
    },
    {
     "name": "stdout",
     "output_type": "stream",
     "text": [
      "Error fetching historical data for FLXN: No historical data found for ticker\n"
     ]
    },
    {
     "name": "stderr",
     "output_type": "stream",
     "text": [
      "$CMD: possibly delisted; No timezone found\n"
     ]
    },
    {
     "name": "stdout",
     "output_type": "stream",
     "text": [
      "Error fetching historical data for CMD: No historical data found for ticker\n",
      "Monthly data for EVH saved successfully.\n",
      "Monthly data for FNMA saved successfully.\n",
      "Monthly data for IBKR saved successfully.\n",
      "Monthly data for MORN saved successfully.\n",
      "Monthly data for BRY saved successfully.\n",
      "Monthly data for SERV saved successfully.\n"
     ]
    },
    {
     "name": "stderr",
     "output_type": "stream",
     "text": [
      "$BIF: possibly delisted; No timezone found\n",
      "$CTECBX: possibly delisted; No price data found  (1d 2021-01-01 -> 2024-08-09)\n"
     ]
    },
    {
     "name": "stdout",
     "output_type": "stream",
     "text": [
      "Error fetching historical data for BIF: No historical data found for ticker\n",
      "$CTECBX: possibly delisted; No price data found  (1d 2021-01-01 -> 2024-08-09)\n",
      "Error fetching historical data for CTECBX: No historical data found for ticker\n",
      "Monthly data for ONTO saved successfully.\n",
      "Monthly data for HCSG saved successfully.\n",
      "Monthly data for HOG saved successfully.\n",
      "Monthly data for HRB saved successfully.\n"
     ]
    },
    {
     "name": "stderr",
     "output_type": "stream",
     "text": [
      "$CTL: possibly delisted; No timezone found\n"
     ]
    },
    {
     "name": "stdout",
     "output_type": "stream",
     "text": [
      "Error fetching historical data for CTL: No historical data found for ticker\n",
      "Monthly data for NWS saved successfully.\n",
      "Monthly data for NWSA saved successfully.\n",
      "Monthly data for AYI saved successfully.\n"
     ]
    },
    {
     "name": "stderr",
     "output_type": "stream",
     "text": [
      "$LBDAV: possibly delisted; No timezone found\n"
     ]
    },
    {
     "name": "stdout",
     "output_type": "stream",
     "text": [
      "Error fetching historical data for LBDAV: No historical data found for ticker\n"
     ]
    },
    {
     "name": "stderr",
     "output_type": "stream",
     "text": [
      "$GLIBA: possibly delisted; No timezone found\n"
     ]
    },
    {
     "name": "stdout",
     "output_type": "stream",
     "text": [
      "Error fetching historical data for GLIBA: No historical data found for ticker\n",
      "Monthly data for ASGN saved successfully.\n"
     ]
    },
    {
     "name": "stderr",
     "output_type": "stream",
     "text": [
      "$POEFF: possibly delisted; No timezone found\n"
     ]
    },
    {
     "name": "stdout",
     "output_type": "stream",
     "text": [
      "Error fetching historical data for POEFF: No historical data found for ticker\n"
     ]
    },
    {
     "name": "stderr",
     "output_type": "stream",
     "text": [
      "$DEACU: possibly delisted; No timezone found\n"
     ]
    },
    {
     "name": "stdout",
     "output_type": "stream",
     "text": [
      "Error fetching historical data for DEACU: No historical data found for ticker\n"
     ]
    },
    {
     "name": "stderr",
     "output_type": "stream",
     "text": [
      "$PS: possibly delisted; No timezone found\n"
     ]
    },
    {
     "name": "stdout",
     "output_type": "stream",
     "text": [
      "Error fetching historical data for PS: No historical data found for ticker\n",
      "Monthly data for RQI saved successfully.\n"
     ]
    },
    {
     "name": "stderr",
     "output_type": "stream",
     "text": [
      "$SOJA: possibly delisted; No price data found  (1d 2021-01-01 -> 2024-08-09)\n"
     ]
    },
    {
     "name": "stdout",
     "output_type": "stream",
     "text": [
      "$SOJA: possibly delisted; No price data found  (1d 2021-01-01 -> 2024-08-09)\n",
      "Error fetching historical data for SOJA: No historical data found for ticker\n",
      "Monthly data for FRIAX saved successfully.\n",
      "Monthly data for CAIFX saved successfully.\n",
      "Monthly data for TRP saved successfully.\n",
      "Monthly data for SUN saved successfully.\n",
      "Monthly data for PAGP saved successfully.\n"
     ]
    },
    {
     "name": "stderr",
     "output_type": "stream",
     "text": [
      "$TCP: possibly delisted; No timezone found\n"
     ]
    },
    {
     "name": "stdout",
     "output_type": "stream",
     "text": [
      "Error fetching historical data for TCP: No historical data found for ticker\n",
      "Monthly data for TRGP saved successfully.\n",
      "Monthly data for SSL saved successfully.\n",
      "Monthly data for M saved successfully.\n",
      "Monthly data for AXTA saved successfully.\n"
     ]
    },
    {
     "name": "stderr",
     "output_type": "stream",
     "text": [
      "$EQM: possibly delisted; No timezone found\n"
     ]
    },
    {
     "name": "stdout",
     "output_type": "stream",
     "text": [
      "Error fetching historical data for EQM: No historical data found for ticker\n",
      "Monthly data for BOIVF saved successfully.\n"
     ]
    },
    {
     "name": "stderr",
     "output_type": "stream",
     "text": [
      "$UTX: possibly delisted; No timezone found\n"
     ]
    },
    {
     "name": "stdout",
     "output_type": "stream",
     "text": [
      "Error fetching historical data for UTX: No historical data found for ticker\n",
      "Monthly data for EAF saved successfully.\n",
      "Monthly data for UHAL saved successfully.\n",
      "Monthly data for PNQI saved successfully.\n",
      "Monthly data for FOXA saved successfully.\n",
      "Monthly data for FOX saved successfully.\n",
      "Monthly data for URBN saved successfully.\n",
      "Monthly data for ACA saved successfully.\n",
      "Monthly data for MSM saved successfully.\n",
      "Monthly data for RL saved successfully.\n",
      "Monthly data for DIA saved successfully.\n",
      "Monthly data for UPLD saved successfully.\n",
      "Monthly data for AIZ saved successfully.\n",
      "Monthly data for NNVC saved successfully.\n",
      "Monthly data for HAYN saved successfully.\n",
      "Monthly data for GLNCY saved successfully.\n"
     ]
    },
    {
     "name": "stderr",
     "output_type": "stream",
     "text": [
      "$MTSC: possibly delisted; No timezone found\n"
     ]
    },
    {
     "name": "stdout",
     "output_type": "stream",
     "text": [
      "Error fetching historical data for MTSC: No historical data found for ticker\n"
     ]
    },
    {
     "name": "stderr",
     "output_type": "stream",
     "text": [
      "$AIMC: possibly delisted; No timezone found\n"
     ]
    },
    {
     "name": "stdout",
     "output_type": "stream",
     "text": [
      "Error fetching historical data for AIMC: No historical data found for ticker\n",
      "Monthly data for NXST saved successfully.\n"
     ]
    },
    {
     "name": "stderr",
     "output_type": "stream",
     "text": [
      "$DISCK: possibly delisted; No timezone found\n"
     ]
    },
    {
     "name": "stdout",
     "output_type": "stream",
     "text": [
      "Error fetching historical data for DISCK: No historical data found for ticker\n",
      "Monthly data for QLEIX saved successfully.\n",
      "Monthly data for PFG saved successfully.\n"
     ]
    },
    {
     "name": "stderr",
     "output_type": "stream",
     "text": [
      "$FPL: possibly delisted; No timezone found\n"
     ]
    },
    {
     "name": "stdout",
     "output_type": "stream",
     "text": [
      "Error fetching historical data for FPL: No historical data found for ticker\n",
      "Monthly data for ZION saved successfully.\n",
      "Monthly data for AMG saved successfully.\n",
      "Monthly data for GEM saved successfully.\n",
      "Monthly data for BOTZ saved successfully.\n"
     ]
    },
    {
     "name": "stderr",
     "output_type": "stream",
     "text": [
      "$HCN: possibly delisted; No price data found  (1d 2021-01-01 -> 2024-08-09)\n"
     ]
    },
    {
     "name": "stdout",
     "output_type": "stream",
     "text": [
      "$HCN: possibly delisted; No price data found  (1d 2021-01-01 -> 2024-08-09)\n",
      "Error fetching historical data for HCN: No historical data found for ticker\n",
      "Monthly data for OAYIX saved successfully.\n",
      "Monthly data for KSS saved successfully.\n",
      "Monthly data for KNX saved successfully.\n",
      "Monthly data for JWN saved successfully.\n",
      "Monthly data for IAT saved successfully.\n",
      "Monthly data for GLOB saved successfully.\n",
      "Monthly data for DSGX saved successfully.\n",
      "Monthly data for UNF saved successfully.\n",
      "Monthly data for IDA saved successfully.\n",
      "Monthly data for AIR saved successfully.\n",
      "Monthly data for VONE saved successfully.\n"
     ]
    },
    {
     "name": "stderr",
     "output_type": "stream",
     "text": [
      "$FEI: possibly delisted; No timezone found\n"
     ]
    },
    {
     "name": "stdout",
     "output_type": "stream",
     "text": [
      "Error fetching historical data for FEI: No historical data found for ticker\n",
      "Monthly data for HTZ saved successfully.\n",
      "Monthly data for PLYA saved successfully.\n",
      "Monthly data for CIM saved successfully.\n",
      "Monthly data for GOOS saved successfully.\n",
      "Monthly data for FRT saved successfully.\n",
      "Monthly data for QGEN saved successfully.\n"
     ]
    },
    {
     "name": "stderr",
     "output_type": "stream",
     "text": [
      "$HTA: possibly delisted; No timezone found\n"
     ]
    },
    {
     "name": "stdout",
     "output_type": "stream",
     "text": [
      "Error fetching historical data for HTA: No historical data found for ticker\n",
      "Monthly data for BYD saved successfully.\n",
      "Monthly data for AAN saved successfully.\n",
      "Monthly data for AVT saved successfully.\n"
     ]
    },
    {
     "name": "stderr",
     "output_type": "stream",
     "text": [
      "$CEMI: possibly delisted; No timezone found\n"
     ]
    },
    {
     "name": "stdout",
     "output_type": "stream",
     "text": [
      "Error fetching historical data for CEMI: No historical data found for ticker\n"
     ]
    },
    {
     "name": "stderr",
     "output_type": "stream",
     "text": [
      "$TLND: possibly delisted; No timezone found\n"
     ]
    },
    {
     "name": "stdout",
     "output_type": "stream",
     "text": [
      "Error fetching historical data for TLND: No historical data found for ticker\n"
     ]
    },
    {
     "name": "stderr",
     "output_type": "stream",
     "text": [
      "$SZEVY: possibly delisted; No timezone found\n"
     ]
    },
    {
     "name": "stdout",
     "output_type": "stream",
     "text": [
      "Error fetching historical data for SZEVY: No historical data found for ticker\n",
      "Monthly data for CRRFY saved successfully.\n",
      "Monthly data for RNLSY saved successfully.\n",
      "Monthly data for BG saved successfully.\n",
      "Monthly data for RDEIY saved successfully.\n",
      "Monthly data for CDLX saved successfully.\n"
     ]
    },
    {
     "name": "stderr",
     "output_type": "stream",
     "text": [
      "$GEAGY: possibly delisted; No timezone found\n"
     ]
    },
    {
     "name": "stdout",
     "output_type": "stream",
     "text": [
      "Error fetching historical data for GEAGY: No historical data found for ticker\n"
     ]
    },
    {
     "name": "stderr",
     "output_type": "stream",
     "text": [
      "$PCRFY: possibly delisted; No timezone found\n"
     ]
    },
    {
     "name": "stdout",
     "output_type": "stream",
     "text": [
      "Error fetching historical data for PCRFY: No historical data found for ticker\n",
      "Monthly data for VC saved successfully.\n",
      "Monthly data for PVH saved successfully.\n",
      "Monthly data for DSDVY saved successfully.\n",
      "Monthly data for HNNMY saved successfully.\n",
      "Monthly data for COTY saved successfully.\n"
     ]
    },
    {
     "name": "stderr",
     "output_type": "stream",
     "text": [
      "$HLUYY: possibly delisted; No timezone found\n"
     ]
    },
    {
     "name": "stdout",
     "output_type": "stream",
     "text": [
      "Error fetching historical data for HLUYY: No historical data found for ticker\n"
     ]
    },
    {
     "name": "stderr",
     "output_type": "stream",
     "text": [
      "$NATI: possibly delisted; No timezone found\n"
     ]
    },
    {
     "name": "stdout",
     "output_type": "stream",
     "text": [
      "Error fetching historical data for NATI: No historical data found for ticker\n",
      "Monthly data for RWEOY saved successfully.\n"
     ]
    },
    {
     "name": "stderr",
     "output_type": "stream",
     "text": [
      "$PDYPY: possibly delisted; No timezone found\n"
     ]
    },
    {
     "name": "stdout",
     "output_type": "stream",
     "text": [
      "Error fetching historical data for PDYPY: No historical data found for ticker\n"
     ]
    },
    {
     "name": "stderr",
     "output_type": "stream",
     "text": [
      "$CCLAY: possibly delisted; No timezone found\n"
     ]
    },
    {
     "name": "stdout",
     "output_type": "stream",
     "text": [
      "Error fetching historical data for CCLAY: No historical data found for ticker\n",
      "Monthly data for SWGAY saved successfully.\n"
     ]
    },
    {
     "name": "stderr",
     "output_type": "stream",
     "text": [
      "$WCAGY: possibly delisted; No timezone found\n"
     ]
    },
    {
     "name": "stdout",
     "output_type": "stream",
     "text": [
      "Error fetching historical data for WCAGY: No historical data found for ticker\n",
      "Monthly data for ENGGY saved successfully.\n",
      "Monthly data for CPRI saved successfully.\n"
     ]
    },
    {
     "name": "stderr",
     "output_type": "stream",
     "text": [
      "$RBS: possibly delisted; No timezone found\n"
     ]
    },
    {
     "name": "stdout",
     "output_type": "stream",
     "text": [
      "Error fetching historical data for RBS: No historical data found for ticker\n",
      "Monthly data for STE saved successfully.\n",
      "Monthly data for JBAXY saved successfully.\n",
      "Monthly data for HPE saved successfully.\n"
     ]
    },
    {
     "name": "stderr",
     "output_type": "stream",
     "text": [
      "$SWMAY: possibly delisted; No timezone found\n"
     ]
    },
    {
     "name": "stdout",
     "output_type": "stream",
     "text": [
      "Error fetching historical data for SWMAY: No historical data found for ticker\n",
      "Monthly data for UHS saved successfully.\n",
      "Monthly data for PRGO saved successfully.\n"
     ]
    },
    {
     "name": "stderr",
     "output_type": "stream",
     "text": [
      "$SNP: possibly delisted; No timezone found\n"
     ]
    },
    {
     "name": "stdout",
     "output_type": "stream",
     "text": [
      "Error fetching historical data for SNP: No historical data found for ticker\n",
      "Monthly data for AVNS saved successfully.\n",
      "Monthly data for MHK saved successfully.\n",
      "Monthly data for NVEE saved successfully.\n",
      "Monthly data for MEOH saved successfully.\n"
     ]
    },
    {
     "name": "stderr",
     "output_type": "stream",
     "text": [
      "$JMP: possibly delisted; No timezone found\n"
     ]
    },
    {
     "name": "stdout",
     "output_type": "stream",
     "text": [
      "Error fetching historical data for JMP: No historical data found for ticker\n",
      "Monthly data for JBT saved successfully.\n",
      "Monthly data for EGHT saved successfully.\n"
     ]
    },
    {
     "name": "stderr",
     "output_type": "stream",
     "text": [
      "$RP: possibly delisted; No timezone found\n"
     ]
    },
    {
     "name": "stdout",
     "output_type": "stream",
     "text": [
      "Error fetching historical data for RP: No historical data found for ticker\n",
      "Monthly data for KTB saved successfully.\n",
      "Monthly data for ENS saved successfully.\n",
      "Monthly data for ANIK saved successfully.\n"
     ]
    },
    {
     "name": "stderr",
     "output_type": "stream",
     "text": [
      "$NEWR: possibly delisted; No timezone found\n"
     ]
    },
    {
     "name": "stdout",
     "output_type": "stream",
     "text": [
      "Error fetching historical data for NEWR: No historical data found for ticker\n"
     ]
    },
    {
     "name": "stderr",
     "output_type": "stream",
     "text": [
      "$BBBY: possibly delisted; No timezone found\n"
     ]
    },
    {
     "name": "stdout",
     "output_type": "stream",
     "text": [
      "Error fetching historical data for BBBY: No historical data found for ticker\n",
      "Monthly data for FTSM saved successfully.\n",
      "Monthly data for WCMIX saved successfully.\n",
      "Monthly data for FDL saved successfully.\n",
      "Monthly data for COO saved successfully.\n",
      "Monthly data for MTN saved successfully.\n",
      "Monthly data for ENV saved successfully.\n",
      "Monthly data for INMD saved successfully.\n",
      "Monthly data for BSTZ saved successfully.\n",
      "Monthly data for CNK saved successfully.\n",
      "Monthly data for NULG saved successfully.\n",
      "Monthly data for SPYG saved successfully.\n",
      "Monthly data for IGV saved successfully.\n",
      "Monthly data for CFR saved successfully.\n"
     ]
    },
    {
     "name": "stderr",
     "output_type": "stream",
     "text": [
      "$HZN: possibly delisted; No timezone found\n"
     ]
    },
    {
     "name": "stdout",
     "output_type": "stream",
     "text": [
      "Error fetching historical data for HZN: No historical data found for ticker\n",
      "Monthly data for QSY saved successfully.\n",
      "Monthly data for FNKO saved successfully.\n",
      "Monthly data for DENN saved successfully.\n",
      "Monthly data for EEFT saved successfully.\n",
      "Monthly data for VWDRY saved successfully.\n",
      "Monthly data for KRNT saved successfully.\n"
     ]
    },
    {
     "name": "stderr",
     "output_type": "stream",
     "text": [
      "$PRSP: possibly delisted; No timezone found\n"
     ]
    },
    {
     "name": "stdout",
     "output_type": "stream",
     "text": [
      "Error fetching historical data for PRSP: No historical data found for ticker\n",
      "Monthly data for OMC saved successfully.\n",
      "Monthly data for CSQ saved successfully.\n",
      "Monthly data for SNNUF saved successfully.\n",
      "Monthly data for CHRW saved successfully.\n"
     ]
    },
    {
     "name": "stderr",
     "output_type": "stream",
     "text": [
      "$TCO: possibly delisted; No timezone found\n"
     ]
    },
    {
     "name": "stdout",
     "output_type": "stream",
     "text": [
      "Error fetching historical data for TCO: No historical data found for ticker\n"
     ]
    },
    {
     "name": "stderr",
     "output_type": "stream",
     "text": [
      "$WMGI: possibly delisted; No timezone found\n"
     ]
    },
    {
     "name": "stdout",
     "output_type": "stream",
     "text": [
      "Error fetching historical data for WMGI: No historical data found for ticker\n"
     ]
    },
    {
     "name": "stderr",
     "output_type": "stream",
     "text": [
      "$POL: possibly delisted; No timezone found\n"
     ]
    },
    {
     "name": "stdout",
     "output_type": "stream",
     "text": [
      "Error fetching historical data for POL: No historical data found for ticker\n"
     ]
    },
    {
     "name": "stderr",
     "output_type": "stream",
     "text": [
      "$KL: possibly delisted; No timezone found\n"
     ]
    },
    {
     "name": "stdout",
     "output_type": "stream",
     "text": [
      "Error fetching historical data for KL: No historical data found for ticker\n"
     ]
    },
    {
     "name": "stderr",
     "output_type": "stream",
     "text": [
      "$912796WX3: possibly delisted; No timezone found\n"
     ]
    },
    {
     "name": "stdout",
     "output_type": "stream",
     "text": [
      "Error fetching historical data for 912796WX3: No historical data found for ticker\n",
      "Monthly data for BMEZ saved successfully.\n",
      "Monthly data for FRFHF saved successfully.\n"
     ]
    },
    {
     "name": "stderr",
     "output_type": "stream",
     "text": [
      "$GSAH: possibly delisted; No timezone found\n"
     ]
    },
    {
     "name": "stdout",
     "output_type": "stream",
     "text": [
      "Error fetching historical data for GSAH: No historical data found for ticker\n"
     ]
    },
    {
     "name": "stderr",
     "output_type": "stream",
     "text": [
      "$WCG: possibly delisted; No timezone found\n"
     ]
    },
    {
     "name": "stdout",
     "output_type": "stream",
     "text": [
      "Error fetching historical data for WCG: No historical data found for ticker\n",
      "Monthly data for SANM saved successfully.\n"
     ]
    },
    {
     "name": "stderr",
     "output_type": "stream",
     "text": [
      "$LPT: possibly delisted; No timezone found\n"
     ]
    },
    {
     "name": "stdout",
     "output_type": "stream",
     "text": [
      "Error fetching historical data for LPT: No historical data found for ticker\n",
      "Monthly data for AROW saved successfully.\n"
     ]
    },
    {
     "name": "stderr",
     "output_type": "stream",
     "text": [
      "$GRA: possibly delisted; No timezone found\n",
      "$FMCMF: possibly delisted; No price data found  (1d 2021-01-01 -> 2024-08-09)\n"
     ]
    },
    {
     "name": "stdout",
     "output_type": "stream",
     "text": [
      "Error fetching historical data for GRA: No historical data found for ticker\n",
      "$FMCMF: possibly delisted; No price data found  (1d 2021-01-01 -> 2024-08-09)\n",
      "Error fetching historical data for FMCMF: No historical data found for ticker\n",
      "Monthly data for CENTA saved successfully.\n"
     ]
    },
    {
     "name": "stderr",
     "output_type": "stream",
     "text": [
      "$GCP: possibly delisted; No timezone found\n"
     ]
    },
    {
     "name": "stdout",
     "output_type": "stream",
     "text": [
      "Error fetching historical data for GCP: No historical data found for ticker\n",
      "Monthly data for XRT saved successfully.\n",
      "Monthly data for ADTN saved successfully.\n",
      "Monthly data for BIV saved successfully.\n",
      "Monthly data for FIKMX saved successfully.\n",
      "Monthly data for VFIJX saved successfully.\n",
      "Monthly data for IVE saved successfully.\n",
      "Monthly data for IHS saved successfully.\n"
     ]
    },
    {
     "name": "stderr",
     "output_type": "stream",
     "text": [
      "$TSS: possibly delisted; No timezone found\n"
     ]
    },
    {
     "name": "stdout",
     "output_type": "stream",
     "text": [
      "Error fetching historical data for TSS: No historical data found for ticker\n",
      "Monthly data for TGBAX saved successfully.\n",
      "Monthly data for GTX saved successfully.\n",
      "Monthly data for FBSI saved successfully.\n"
     ]
    },
    {
     "name": "stderr",
     "output_type": "stream",
     "text": [
      "$SPN: possibly delisted; No timezone found\n"
     ]
    },
    {
     "name": "stdout",
     "output_type": "stream",
     "text": [
      "Error fetching historical data for SPN: No historical data found for ticker\n",
      "Monthly data for EXPO saved successfully.\n",
      "Monthly data for HACK saved successfully.\n",
      "Monthly data for QUAD saved successfully.\n",
      "Monthly data for ERH saved successfully.\n",
      "Monthly data for CWST saved successfully.\n"
     ]
    },
    {
     "name": "stderr",
     "output_type": "stream",
     "text": [
      "$NLSN: possibly delisted; No timezone found\n"
     ]
    },
    {
     "name": "stdout",
     "output_type": "stream",
     "text": [
      "Error fetching historical data for NLSN: No historical data found for ticker\n"
     ]
    },
    {
     "name": "stderr",
     "output_type": "stream",
     "text": [
      "$CBS: possibly delisted; No timezone found\n"
     ]
    },
    {
     "name": "stdout",
     "output_type": "stream",
     "text": [
      "Error fetching historical data for CBS: No historical data found for ticker\n"
     ]
    },
    {
     "name": "stderr",
     "output_type": "stream",
     "text": [
      "$VIAB: possibly delisted; No timezone found\n"
     ]
    },
    {
     "name": "stdout",
     "output_type": "stream",
     "text": [
      "Error fetching historical data for VIAB: No historical data found for ticker\n"
     ]
    },
    {
     "name": "stderr",
     "output_type": "stream",
     "text": [
      "$MYL: possibly delisted; No timezone found\n"
     ]
    },
    {
     "name": "stdout",
     "output_type": "stream",
     "text": [
      "Error fetching historical data for MYL: No historical data found for ticker\n",
      "Monthly data for CMPR saved successfully.\n",
      "Monthly data for CBT saved successfully.\n"
     ]
    },
    {
     "name": "stderr",
     "output_type": "stream",
     "text": [
      "$CLNC: possibly delisted; No timezone found\n"
     ]
    },
    {
     "name": "stdout",
     "output_type": "stream",
     "text": [
      "Error fetching historical data for CLNC: No historical data found for ticker\n",
      "Monthly data for NPSNY saved successfully.\n",
      "Monthly data for GCI saved successfully.\n"
     ]
    },
    {
     "name": "stderr",
     "output_type": "stream",
     "text": [
      "$CELG: possibly delisted; No timezone found\n"
     ]
    },
    {
     "name": "stdout",
     "output_type": "stream",
     "text": [
      "Error fetching historical data for CELG: No historical data found for ticker\n"
     ]
    },
    {
     "name": "stderr",
     "output_type": "stream",
     "text": [
      "$DDAIF: possibly delisted; No timezone found\n"
     ]
    },
    {
     "name": "stdout",
     "output_type": "stream",
     "text": [
      "Error fetching historical data for DDAIF: No historical data found for ticker\n"
     ]
    },
    {
     "name": "stderr",
     "output_type": "stream",
     "text": [
      "$ECA: possibly delisted; No timezone found\n"
     ]
    },
    {
     "name": "stdout",
     "output_type": "stream",
     "text": [
      "Error fetching historical data for ECA: No historical data found for ticker\n",
      "Monthly data for FND saved successfully.\n"
     ]
    },
    {
     "name": "stderr",
     "output_type": "stream",
     "text": [
      "$TRHC: possibly delisted; No timezone found\n"
     ]
    },
    {
     "name": "stdout",
     "output_type": "stream",
     "text": [
      "Error fetching historical data for TRHC: No historical data found for ticker\n",
      "Monthly data for CLB saved successfully.\n",
      "Monthly data for RGNX saved successfully.\n"
     ]
    },
    {
     "name": "stderr",
     "output_type": "stream",
     "text": [
      "$AYR: possibly delisted; No timezone found\n"
     ]
    },
    {
     "name": "stdout",
     "output_type": "stream",
     "text": [
      "Error fetching historical data for AYR: No historical data found for ticker\n",
      "Monthly data for CLS saved successfully.\n"
     ]
    },
    {
     "name": "stderr",
     "output_type": "stream",
     "text": [
      "$IBKC: possibly delisted; No timezone found\n"
     ]
    },
    {
     "name": "stdout",
     "output_type": "stream",
     "text": [
      "Error fetching historical data for IBKC: No historical data found for ticker\n"
     ]
    },
    {
     "name": "stderr",
     "output_type": "stream",
     "text": [
      "$IIVI: possibly delisted; No timezone found\n"
     ]
    },
    {
     "name": "stdout",
     "output_type": "stream",
     "text": [
      "Error fetching historical data for IIVI: No historical data found for ticker\n",
      "Monthly data for TWO saved successfully.\n",
      "Monthly data for SIX saved successfully.\n",
      "Monthly data for CAE saved successfully.\n"
     ]
    },
    {
     "name": "stderr",
     "output_type": "stream",
     "text": [
      "$MN: possibly delisted; No timezone found\n"
     ]
    },
    {
     "name": "stdout",
     "output_type": "stream",
     "text": [
      "Error fetching historical data for MN: No historical data found for ticker\n"
     ]
    },
    {
     "name": "stderr",
     "output_type": "stream",
     "text": [
      "Failed to get ticker '12/01/37' reason: Expecting value: line 1 column 1 (char 0)\n",
      "$12/01/37: possibly delisted; No timezone found\n"
     ]
    },
    {
     "name": "stdout",
     "output_type": "stream",
     "text": [
      "Error fetching historical data for 12/01/37: No historical data found for ticker\n"
     ]
    },
    {
     "name": "stderr",
     "output_type": "stream",
     "text": [
      "$CBM: possibly delisted; No timezone found\n"
     ]
    },
    {
     "name": "stdout",
     "output_type": "stream",
     "text": [
      "Error fetching historical data for CBM: No historical data found for ticker\n",
      "Monthly data for INDA saved successfully.\n"
     ]
    },
    {
     "name": "stderr",
     "output_type": "stream",
     "text": [
      "$ZEN: possibly delisted; No timezone found\n"
     ]
    },
    {
     "name": "stdout",
     "output_type": "stream",
     "text": [
      "Error fetching historical data for ZEN: No historical data found for ticker\n",
      "Monthly data for MD saved successfully.\n",
      "Monthly data for TWOU saved successfully.\n",
      "Monthly data for MDRX saved successfully.\n",
      "Monthly data for MIDD saved successfully.\n",
      "Monthly data for TYL saved successfully.\n"
     ]
    },
    {
     "name": "stderr",
     "output_type": "stream",
     "text": [
      "$ERI: possibly delisted; No timezone found\n"
     ]
    },
    {
     "name": "stdout",
     "output_type": "stream",
     "text": [
      "Error fetching historical data for ERI: No historical data found for ticker\n",
      "Monthly data for XBI saved successfully.\n",
      "Monthly data for RYAOF saved successfully.\n"
     ]
    },
    {
     "name": "stderr",
     "output_type": "stream",
     "text": [
      "$3V64.TI: possibly delisted; No timezone found\n"
     ]
    },
    {
     "name": "stdout",
     "output_type": "stream",
     "text": [
      "Error fetching historical data for 3V64.TI: No historical data found for ticker\n",
      "Monthly data for 0QZI.IL saved successfully.\n",
      "Monthly data for JNK saved successfully.\n"
     ]
    },
    {
     "name": "stderr",
     "output_type": "stream",
     "text": [
      "$LM: possibly delisted; No timezone found\n"
     ]
    },
    {
     "name": "stdout",
     "output_type": "stream",
     "text": [
      "Error fetching historical data for LM: No historical data found for ticker\n"
     ]
    },
    {
     "name": "stderr",
     "output_type": "stream",
     "text": [
      "$BPL: possibly delisted; No timezone found\n"
     ]
    },
    {
     "name": "stdout",
     "output_type": "stream",
     "text": [
      "Error fetching historical data for BPL: No historical data found for ticker\n",
      "Monthly data for PRO saved successfully.\n"
     ]
    },
    {
     "name": "stderr",
     "output_type": "stream",
     "text": [
      "$UPMKY: possibly delisted; No timezone found\n"
     ]
    },
    {
     "name": "stdout",
     "output_type": "stream",
     "text": [
      "Error fetching historical data for UPMKY: No historical data found for ticker\n",
      "Monthly data for ATR saved successfully.\n",
      "Monthly data for LNN saved successfully.\n",
      "Monthly data for CBL saved successfully.\n"
     ]
    },
    {
     "name": "stderr",
     "output_type": "stream",
     "text": [
      "$GFSZY: possibly delisted; No timezone found\n"
     ]
    },
    {
     "name": "stdout",
     "output_type": "stream",
     "text": [
      "Error fetching historical data for GFSZY: No historical data found for ticker\n",
      "Monthly data for DIFTY saved successfully.\n"
     ]
    },
    {
     "name": "stderr",
     "output_type": "stream",
     "text": [
      "$CLNY: possibly delisted; No timezone found\n"
     ]
    },
    {
     "name": "stdout",
     "output_type": "stream",
     "text": [
      "Error fetching historical data for CLNY: No historical data found for ticker\n",
      "Monthly data for PBSFY saved successfully.\n",
      "Monthly data for JMHLY saved successfully.\n",
      "Monthly data for HENOY saved successfully.\n",
      "Monthly data for BZLFY saved successfully.\n"
     ]
    },
    {
     "name": "stderr",
     "output_type": "stream",
     "text": [
      "$SEMG: possibly delisted; No timezone found\n"
     ]
    },
    {
     "name": "stdout",
     "output_type": "stream",
     "text": [
      "Error fetching historical data for SEMG: No historical data found for ticker\n"
     ]
    },
    {
     "name": "stderr",
     "output_type": "stream",
     "text": [
      "$SNH: possibly delisted; No timezone found\n"
     ]
    },
    {
     "name": "stdout",
     "output_type": "stream",
     "text": [
      "Error fetching historical data for SNH: No historical data found for ticker\n"
     ]
    },
    {
     "name": "stderr",
     "output_type": "stream",
     "text": [
      "$ETM: possibly delisted; No timezone found\n",
      "$DNSKY: possibly delisted; No price data found  (1d 2021-01-01 -> 2024-08-09)\n"
     ]
    },
    {
     "name": "stdout",
     "output_type": "stream",
     "text": [
      "Error fetching historical data for ETM: No historical data found for ticker\n",
      "$DNSKY: possibly delisted; No price data found  (1d 2021-01-01 -> 2024-08-09)\n",
      "Error fetching historical data for DNSKY: No historical data found for ticker\n"
     ]
    },
    {
     "name": "stderr",
     "output_type": "stream",
     "text": [
      "$TVTY: possibly delisted; No timezone found\n"
     ]
    },
    {
     "name": "stdout",
     "output_type": "stream",
     "text": [
      "Error fetching historical data for TVTY: No historical data found for ticker\n",
      "Monthly data for RCKY saved successfully.\n",
      "Monthly data for CARS saved successfully.\n",
      "Monthly data for UCON saved successfully.\n"
     ]
    },
    {
     "name": "stderr",
     "output_type": "stream",
     "text": [
      "$912796SH3: possibly delisted; No timezone found\n"
     ]
    },
    {
     "name": "stdout",
     "output_type": "stream",
     "text": [
      "Error fetching historical data for 912796SH3: No historical data found for ticker\n"
     ]
    },
    {
     "name": "stderr",
     "output_type": "stream",
     "text": [
      "Failed to get ticker 'DUE 7/01/20' reason: Expecting value: line 1 column 1 (char 0)\n",
      "$DUE 7/01/20: possibly delisted; No timezone found\n"
     ]
    },
    {
     "name": "stdout",
     "output_type": "stream",
     "text": [
      "Error fetching historical data for DUE 7/01/20: No historical data found for ticker\n"
     ]
    },
    {
     "name": "stderr",
     "output_type": "stream",
     "text": [
      "$APC: possibly delisted; No timezone found\n"
     ]
    },
    {
     "name": "stdout",
     "output_type": "stream",
     "text": [
      "Error fetching historical data for APC: No historical data found for ticker\n"
     ]
    },
    {
     "name": "stderr",
     "output_type": "stream",
     "text": [
      "$JEC: possibly delisted; No timezone found\n"
     ]
    },
    {
     "name": "stdout",
     "output_type": "stream",
     "text": [
      "Error fetching historical data for JEC: No historical data found for ticker\n"
     ]
    },
    {
     "name": "stderr",
     "output_type": "stream",
     "text": [
      "$MDSO: possibly delisted; No timezone found\n"
     ]
    },
    {
     "name": "stdout",
     "output_type": "stream",
     "text": [
      "Error fetching historical data for MDSO: No historical data found for ticker\n",
      "Monthly data for VST saved successfully.\n",
      "Monthly data for TUP saved successfully.\n",
      "Monthly data for MSTR saved successfully.\n"
     ]
    },
    {
     "name": "stderr",
     "output_type": "stream",
     "text": [
      "$MGP: possibly delisted; No timezone found\n"
     ]
    },
    {
     "name": "stdout",
     "output_type": "stream",
     "text": [
      "Error fetching historical data for MGP: No historical data found for ticker\n"
     ]
    },
    {
     "name": "stderr",
     "output_type": "stream",
     "text": [
      "$COT: possibly delisted; No timezone found\n"
     ]
    },
    {
     "name": "stdout",
     "output_type": "stream",
     "text": [
      "Error fetching historical data for COT: No historical data found for ticker\n",
      "Monthly data for KAR saved successfully.\n",
      "Monthly data for PLAY saved successfully.\n",
      "Monthly data for NEU saved successfully.\n",
      "Monthly data for APT saved successfully.\n"
     ]
    },
    {
     "name": "stderr",
     "output_type": "stream",
     "text": [
      "Failed to get ticker 'DUE 10/01/37' reason: Expecting value: line 1 column 1 (char 0)\n",
      "$DUE 10/01/37: possibly delisted; No timezone found\n"
     ]
    },
    {
     "name": "stdout",
     "output_type": "stream",
     "text": [
      "Error fetching historical data for DUE 10/01/37: No historical data found for ticker\n"
     ]
    },
    {
     "name": "stderr",
     "output_type": "stream",
     "text": [
      "Failed to get ticker 'DUE 08/01/25' reason: Expecting value: line 1 column 1 (char 0)\n",
      "$DUE 08/01/25: possibly delisted; No timezone found\n"
     ]
    },
    {
     "name": "stdout",
     "output_type": "stream",
     "text": [
      "Error fetching historical data for DUE 08/01/25: No historical data found for ticker\n",
      "Monthly data for REVB saved successfully.\n"
     ]
    },
    {
     "name": "stderr",
     "output_type": "stream",
     "text": [
      "PDCE: Period '1mo' is invalid, must be one of ['1d', '5d']\n"
     ]
    },
    {
     "name": "stdout",
     "output_type": "stream",
     "text": [
      "Monthly data for APNHY saved successfully.\n",
      "Error fetching historical data for PDCE: No historical data found for ticker\n"
     ]
    },
    {
     "name": "stderr",
     "output_type": "stream",
     "text": [
      "$MINI: possibly delisted; No timezone found\n"
     ]
    },
    {
     "name": "stdout",
     "output_type": "stream",
     "text": [
      "Error fetching historical data for MINI: No historical data found for ticker\n"
     ]
    },
    {
     "name": "stderr",
     "output_type": "stream",
     "text": [
      "$ANDX: possibly delisted; No timezone found\n"
     ]
    },
    {
     "name": "stdout",
     "output_type": "stream",
     "text": [
      "Error fetching historical data for ANDX: No historical data found for ticker\n",
      "Monthly data for IJH saved successfully.\n",
      "Monthly data for ALRM saved successfully.\n",
      "Monthly data for MALOX saved successfully.\n",
      "Monthly data for NRG saved successfully.\n",
      "Monthly data for VPMAX saved successfully.\n",
      "Monthly data for IWF saved successfully.\n",
      "Monthly data for TSCIX saved successfully.\n",
      "Monthly data for GTCSX saved successfully.\n",
      "Monthly data for TCBI saved successfully.\n"
     ]
    },
    {
     "name": "stderr",
     "output_type": "stream",
     "text": [
      "$RHT: possibly delisted; No timezone found\n",
      "$BAMXY: possibly delisted; No price data found  (1d 2021-01-01 -> 2024-08-09)\n"
     ]
    },
    {
     "name": "stdout",
     "output_type": "stream",
     "text": [
      "Error fetching historical data for RHT: No historical data found for ticker\n",
      "$BAMXY: possibly delisted; No price data found  (1d 2021-01-01 -> 2024-08-09)\n",
      "Error fetching historical data for BAMXY: No historical data found for ticker\n",
      "Monthly data for STI saved successfully.\n"
     ]
    },
    {
     "name": "stderr",
     "output_type": "stream",
     "text": [
      "$HUB.A: possibly delisted; No timezone found\n"
     ]
    },
    {
     "name": "stdout",
     "output_type": "stream",
     "text": [
      "Error fetching historical data for HUB.A: No historical data found for ticker\n"
     ]
    },
    {
     "name": "stderr",
     "output_type": "stream",
     "text": [
      "$WAGE: possibly delisted; No timezone found\n"
     ]
    },
    {
     "name": "stdout",
     "output_type": "stream",
     "text": [
      "Error fetching historical data for WAGE: No historical data found for ticker\n"
     ]
    },
    {
     "name": "stderr",
     "output_type": "stream",
     "text": [
      "$TMK: possibly delisted; No timezone found\n"
     ]
    },
    {
     "name": "stdout",
     "output_type": "stream",
     "text": [
      "Error fetching historical data for TMK: No historical data found for ticker\n",
      "Monthly data for RDUS saved successfully.\n",
      "Monthly data for ARI saved successfully.\n"
     ]
    },
    {
     "name": "stderr",
     "output_type": "stream",
     "text": [
      "$SRC: possibly delisted; No timezone found\n"
     ]
    },
    {
     "name": "stdout",
     "output_type": "stream",
     "text": [
      "Error fetching historical data for SRC: No historical data found for ticker\n",
      "Monthly data for WING saved successfully.\n",
      "Monthly data for APVO saved successfully.\n",
      "Monthly data for MED saved successfully.\n",
      "Monthly data for HIW saved successfully.\n"
     ]
    },
    {
     "name": "stderr",
     "output_type": "stream",
     "text": [
      "$FII: possibly delisted; No timezone found\n"
     ]
    },
    {
     "name": "stdout",
     "output_type": "stream",
     "text": [
      "Error fetching historical data for FII: No historical data found for ticker\n",
      "Monthly data for IRTC saved successfully.\n",
      "Monthly data for CHH saved successfully.\n",
      "Monthly data for ADUS saved successfully.\n",
      "Monthly data for CCOI saved successfully.\n",
      "Monthly data for HL saved successfully.\n",
      "Monthly data for HCP saved successfully.\n",
      "Monthly data for PLCE saved successfully.\n",
      "Monthly data for AXGN saved successfully.\n",
      "Monthly data for G saved successfully.\n",
      "Monthly data for AMBA saved successfully.\n",
      "Monthly data for PGRE saved successfully.\n",
      "Monthly data for WAFD saved successfully.\n",
      "Monthly data for WTS saved successfully.\n",
      "Monthly data for TRMK saved successfully.\n",
      "Monthly data for LANC saved successfully.\n",
      "Monthly data for PNW saved successfully.\n",
      "Monthly data for OXM saved successfully.\n",
      "Monthly data for APLE saved successfully.\n"
     ]
    },
    {
     "name": "stderr",
     "output_type": "stream",
     "text": [
      "$LLL: possibly delisted; No timezone found\n"
     ]
    },
    {
     "name": "stdout",
     "output_type": "stream",
     "text": [
      "Error fetching historical data for LLL: No historical data found for ticker\n",
      "Monthly data for CVLT saved successfully.\n",
      "Monthly data for FFIN saved successfully.\n"
     ]
    },
    {
     "name": "stderr",
     "output_type": "stream",
     "text": [
      "$GBT: possibly delisted; No timezone found\n"
     ]
    },
    {
     "name": "stdout",
     "output_type": "stream",
     "text": [
      "Error fetching historical data for GBT: No historical data found for ticker\n"
     ]
    },
    {
     "name": "stderr",
     "output_type": "stream",
     "text": [
      "$CXP: possibly delisted; No timezone found\n"
     ]
    },
    {
     "name": "stdout",
     "output_type": "stream",
     "text": [
      "Error fetching historical data for CXP: No historical data found for ticker\n",
      "Monthly data for TRMB saved successfully.\n",
      "Monthly data for BOOM saved successfully.\n",
      "Monthly data for SITC saved successfully.\n"
     ]
    },
    {
     "name": "stderr",
     "output_type": "stream",
     "text": [
      "$UMPQ: possibly delisted; No timezone found\n"
     ]
    },
    {
     "name": "stdout",
     "output_type": "stream",
     "text": [
      "Error fetching historical data for UMPQ: No historical data found for ticker\n",
      "Monthly data for VRNS saved successfully.\n"
     ]
    },
    {
     "name": "stderr",
     "output_type": "stream",
     "text": [
      "$FBC: possibly delisted; No timezone found\n"
     ]
    },
    {
     "name": "stdout",
     "output_type": "stream",
     "text": [
      "Error fetching historical data for FBC: No historical data found for ticker\n"
     ]
    },
    {
     "name": "stderr",
     "output_type": "stream",
     "text": [
      "$BXS: possibly delisted; No timezone found\n"
     ]
    },
    {
     "name": "stdout",
     "output_type": "stream",
     "text": [
      "Error fetching historical data for BXS: No historical data found for ticker\n",
      "Monthly data for H saved successfully.\n",
      "Monthly data for DLB saved successfully.\n",
      "Monthly data for MANH saved successfully.\n",
      "Monthly data for REXR saved successfully.\n",
      "Monthly data for PB saved successfully.\n",
      "Monthly data for EGBN saved successfully.\n",
      "Monthly data for BKU saved successfully.\n",
      "Monthly data for CDE saved successfully.\n",
      "Monthly data for FIBK saved successfully.\n",
      "Monthly data for AWI saved successfully.\n",
      "Monthly data for DNOW saved successfully.\n",
      "Monthly data for LAUR saved successfully.\n",
      "Monthly data for PNR saved successfully.\n",
      "Monthly data for SMGZY saved successfully.\n"
     ]
    },
    {
     "name": "stderr",
     "output_type": "stream",
     "text": [
      "$BBT: possibly delisted; No timezone found\n"
     ]
    },
    {
     "name": "stdout",
     "output_type": "stream",
     "text": [
      "Error fetching historical data for BBT: No historical data found for ticker\n"
     ]
    },
    {
     "name": "stderr",
     "output_type": "stream",
     "text": [
      "$RDSA.AS: possibly delisted; No timezone found\n"
     ]
    },
    {
     "name": "stdout",
     "output_type": "stream",
     "text": [
      "Error fetching historical data for RDSA.AS: No historical data found for ticker\n",
      "Monthly data for AZPN saved successfully.\n",
      "Monthly data for EXEL saved successfully.\n",
      "Monthly data for ARR saved successfully.\n",
      "Monthly data for MTH saved successfully.\n"
     ]
    },
    {
     "name": "stderr",
     "output_type": "stream",
     "text": [
      "$FDC: possibly delisted; No timezone found\n"
     ]
    },
    {
     "name": "stdout",
     "output_type": "stream",
     "text": [
      "Error fetching historical data for FDC: No historical data found for ticker\n"
     ]
    },
    {
     "name": "stderr",
     "output_type": "stream",
     "text": [
      "$40056FN84: possibly delisted; No timezone found\n"
     ]
    },
    {
     "name": "stdout",
     "output_type": "stream",
     "text": [
      "Error fetching historical data for 40056FN84: No historical data found for ticker\n",
      "Monthly data for FFRHX saved successfully.\n",
      "Monthly data for MDXG saved successfully.\n"
     ]
    },
    {
     "name": "stderr",
     "output_type": "stream",
     "text": [
      "$WBC: possibly delisted; No timezone found\n"
     ]
    },
    {
     "name": "stdout",
     "output_type": "stream",
     "text": [
      "Error fetching historical data for WBC: No historical data found for ticker\n",
      "Monthly data for AMRX saved successfully.\n",
      "Monthly data for INFY saved successfully.\n"
     ]
    },
    {
     "name": "stderr",
     "output_type": "stream",
     "text": [
      "$PDRDY: possibly delisted; No timezone found\n"
     ]
    },
    {
     "name": "stdout",
     "output_type": "stream",
     "text": [
      "Error fetching historical data for PDRDY: No historical data found for ticker\n",
      "Monthly data for RBGLY saved successfully.\n"
     ]
    },
    {
     "name": "stderr",
     "output_type": "stream",
     "text": [
      "$GMXAY: possibly delisted; No timezone found\n"
     ]
    },
    {
     "name": "stdout",
     "output_type": "stream",
     "text": [
      "Error fetching historical data for GMXAY: No historical data found for ticker\n",
      "Monthly data for KOSCF saved successfully.\n",
      "Monthly data for SMECF saved successfully.\n"
     ]
    },
    {
     "name": "stderr",
     "output_type": "stream",
     "text": [
      "$OOCP: possibly delisted; No timezone found\n"
     ]
    },
    {
     "name": "stdout",
     "output_type": "stream",
     "text": [
      "Error fetching historical data for OOCP: No historical data found for ticker\n",
      "Monthly data for CABGY saved successfully.\n"
     ]
    },
    {
     "name": "stderr",
     "output_type": "stream",
     "text": [
      "$NJ: possibly delisted; No price data found  (1d 2021-01-01 -> 2024-08-09)\n"
     ]
    },
    {
     "name": "stdout",
     "output_type": "stream",
     "text": [
      "$NJ: possibly delisted; No price data found  (1d 2021-01-01 -> 2024-08-09)\n",
      "Error fetching historical data for NJ: No historical data found for ticker\n"
     ]
    },
    {
     "name": "stderr",
     "output_type": "stream",
     "text": [
      "$RYDBF: possibly delisted; No timezone found\n"
     ]
    },
    {
     "name": "stdout",
     "output_type": "stream",
     "text": [
      "Error fetching historical data for RYDBF: No historical data found for ticker\n",
      "Monthly data for PKCOY saved successfully.\n",
      "Monthly data for KYCCF saved successfully.\n",
      "Monthly data for IEMG saved successfully.\n"
     ]
    },
    {
     "name": "stderr",
     "output_type": "stream",
     "text": [
      "$40055AY43: possibly delisted; No timezone found\n"
     ]
    },
    {
     "name": "stdout",
     "output_type": "stream",
     "text": [
      "Error fetching historical data for 40055AY43: No historical data found for ticker\n"
     ]
    },
    {
     "name": "stderr",
     "output_type": "stream",
     "text": [
      "$CTRL: possibly delisted; No timezone found\n"
     ]
    },
    {
     "name": "stdout",
     "output_type": "stream",
     "text": [
      "Error fetching historical data for CTRL: No historical data found for ticker\n"
     ]
    },
    {
     "name": "stderr",
     "output_type": "stream",
     "text": [
      "$AVP: possibly delisted; No timezone found\n"
     ]
    },
    {
     "name": "stdout",
     "output_type": "stream",
     "text": [
      "Error fetching historical data for AVP: No historical data found for ticker\n",
      "Monthly data for ESGR saved successfully.\n",
      "Monthly data for JGCCY saved successfully.\n"
     ]
    },
    {
     "name": "stderr",
     "output_type": "stream",
     "text": [
      "$DWDP: possibly delisted; No timezone found\n"
     ]
    },
    {
     "name": "stdout",
     "output_type": "stream",
     "text": [
      "Error fetching historical data for DWDP: No historical data found for ticker\n",
      "Monthly data for GDV saved successfully.\n",
      "Monthly data for PBYI saved successfully.\n",
      "Monthly data for KMT saved successfully.\n"
     ]
    },
    {
     "name": "stderr",
     "output_type": "stream",
     "text": [
      "$AMBR: possibly delisted; No timezone found\n"
     ]
    },
    {
     "name": "stdout",
     "output_type": "stream",
     "text": [
      "Error fetching historical data for AMBR: No historical data found for ticker\n",
      "Monthly data for TPX saved successfully.\n"
     ]
    },
    {
     "name": "stderr",
     "output_type": "stream",
     "text": [
      "$HPT: possibly delisted; No timezone found\n"
     ]
    },
    {
     "name": "stdout",
     "output_type": "stream",
     "text": [
      "Error fetching historical data for HPT: No historical data found for ticker\n",
      "Monthly data for EGY saved successfully.\n",
      "Monthly data for CNDT saved successfully.\n"
     ]
    },
    {
     "name": "stderr",
     "output_type": "stream",
     "text": [
      "Failed to get ticker '07/01/36' reason: Expecting value: line 1 column 1 (char 0)\n",
      "$07/01/36: possibly delisted; No timezone found\n"
     ]
    },
    {
     "name": "stdout",
     "output_type": "stream",
     "text": [
      "Error fetching historical data for 07/01/36: No historical data found for ticker\n"
     ]
    },
    {
     "name": "stderr",
     "output_type": "stream",
     "text": [
      "Failed to get ticker '07/01/28' reason: Expecting value: line 1 column 1 (char 0)\n",
      "$07/01/28: possibly delisted; No timezone found\n"
     ]
    },
    {
     "name": "stdout",
     "output_type": "stream",
     "text": [
      "Error fetching historical data for 07/01/28: No historical data found for ticker\n",
      "Monthly data for TDS saved successfully.\n",
      "Monthly data for XRX saved successfully.\n",
      "Monthly data for DMRC saved successfully.\n",
      "Monthly data for MGPI saved successfully.\n",
      "Monthly data for ABM saved successfully.\n",
      "Monthly data for RDFN saved successfully.\n"
     ]
    },
    {
     "name": "stderr",
     "output_type": "stream",
     "text": [
      "$SCHN: possibly delisted; No timezone found\n"
     ]
    },
    {
     "name": "stdout",
     "output_type": "stream",
     "text": [
      "Error fetching historical data for SCHN: No historical data found for ticker\n",
      "Monthly data for DBD saved successfully.\n"
     ]
    },
    {
     "name": "stderr",
     "output_type": "stream",
     "text": [
      "$UBNT: possibly delisted; No timezone found\n"
     ]
    },
    {
     "name": "stdout",
     "output_type": "stream",
     "text": [
      "Error fetching historical data for UBNT: No historical data found for ticker\n"
     ]
    },
    {
     "name": "stderr",
     "output_type": "stream",
     "text": [
      "$WP: possibly delisted; No timezone found\n"
     ]
    },
    {
     "name": "stdout",
     "output_type": "stream",
     "text": [
      "Error fetching historical data for WP: No historical data found for ticker\n"
     ]
    },
    {
     "name": "stderr",
     "output_type": "stream",
     "text": [
      "$ULTI: possibly delisted; No timezone found\n"
     ]
    },
    {
     "name": "stdout",
     "output_type": "stream",
     "text": [
      "Error fetching historical data for ULTI: No historical data found for ticker\n",
      "Monthly data for EAT saved successfully.\n",
      "Monthly data for ESNT saved successfully.\n",
      "Monthly data for BIG saved successfully.\n"
     ]
    },
    {
     "name": "stderr",
     "output_type": "stream",
     "text": [
      "$VCRA: possibly delisted; No timezone found\n"
     ]
    },
    {
     "name": "stdout",
     "output_type": "stream",
     "text": [
      "Error fetching historical data for VCRA: No historical data found for ticker\n",
      "Monthly data for LLDTF saved successfully.\n"
     ]
    },
    {
     "name": "stderr",
     "output_type": "stream",
     "text": [
      "$ADSW: possibly delisted; No timezone found\n"
     ]
    },
    {
     "name": "stdout",
     "output_type": "stream",
     "text": [
      "Error fetching historical data for ADSW: No historical data found for ticker\n",
      "Monthly data for UNCHF saved successfully.\n"
     ]
    },
    {
     "name": "stderr",
     "output_type": "stream",
     "text": [
      "$NTDMF: possibly delisted; No timezone found\n"
     ]
    },
    {
     "name": "stdout",
     "output_type": "stream",
     "text": [
      "Error fetching historical data for NTDMF: No historical data found for ticker\n",
      "Monthly data for SFTBF saved successfully.\n"
     ]
    },
    {
     "name": "stderr",
     "output_type": "stream",
     "text": [
      "$SWH: possibly delisted; No price data found  (1d 2021-01-01 -> 2024-08-09)\n"
     ]
    },
    {
     "name": "stdout",
     "output_type": "stream",
     "text": [
      "Monthly data for WGO saved successfully.\n",
      "Monthly data for VIOT saved successfully.\n",
      "$SWH: possibly delisted; No price data found  (1d 2021-01-01 -> 2024-08-09)\n",
      "Error fetching historical data for SWH: No historical data found for ticker\n",
      "Monthly data for PUMP saved successfully.\n",
      "Monthly data for TMHC saved successfully.\n",
      "Monthly data for CCS saved successfully.\n"
     ]
    },
    {
     "name": "stderr",
     "output_type": "stream",
     "text": [
      "$WDR: possibly delisted; No timezone found\n"
     ]
    },
    {
     "name": "stdout",
     "output_type": "stream",
     "text": [
      "Error fetching historical data for WDR: No historical data found for ticker\n",
      "Monthly data for CRI saved successfully.\n"
     ]
    },
    {
     "name": "stderr",
     "output_type": "stream",
     "text": [
      "$II: possibly delisted; No price data found  (1d 2021-01-01 -> 2024-08-09)\n"
     ]
    },
    {
     "name": "stdout",
     "output_type": "stream",
     "text": [
      "$II: possibly delisted; No price data found  (1d 2021-01-01 -> 2024-08-09)\n",
      "Error fetching historical data for II: No historical data found for ticker\n",
      "Monthly data for TORIX saved successfully.\n",
      "Monthly data for SUP saved successfully.\n"
     ]
    },
    {
     "name": "stderr",
     "output_type": "stream",
     "text": [
      "$ELLI: possibly delisted; No timezone found\n"
     ]
    },
    {
     "name": "stdout",
     "output_type": "stream",
     "text": [
      "Error fetching historical data for ELLI: No historical data found for ticker\n",
      "Monthly data for INGR saved successfully.\n"
     ]
    },
    {
     "name": "stderr",
     "output_type": "stream",
     "text": [
      "$CHEUY: possibly delisted; No price data found  (1d 2021-01-01 -> 2024-08-09)\n"
     ]
    },
    {
     "name": "stdout",
     "output_type": "stream",
     "text": [
      "Monthly data for BOKF saved successfully.\n",
      "Monthly data for LCII saved successfully.\n",
      "$CHEUY: possibly delisted; No price data found  (1d 2021-01-01 -> 2024-08-09)\n",
      "Error fetching historical data for CHEUY: No historical data found for ticker\n",
      "Monthly data for VET saved successfully.\n",
      "Monthly data for LFUS saved successfully.\n"
     ]
    },
    {
     "name": "stderr",
     "output_type": "stream",
     "text": [
      "$DCM: possibly delisted; No price data found  (1d 2021-01-01 -> 2024-08-09)\n"
     ]
    },
    {
     "name": "stdout",
     "output_type": "stream",
     "text": [
      "$DCM: possibly delisted; No price data found  (1d 2021-01-01 -> 2024-08-09)\n",
      "Error fetching historical data for DCM: No historical data found for ticker\n",
      "Monthly data for JRVR saved successfully.\n",
      "Monthly data for CM saved successfully.\n",
      "Monthly data for GOLF saved successfully.\n",
      "Monthly data for WASH saved successfully.\n",
      "Monthly data for BLX saved successfully.\n",
      "Monthly data for AIN saved successfully.\n",
      "Monthly data for AGO saved successfully.\n",
      "Monthly data for EGP saved successfully.\n",
      "Monthly data for BGS saved successfully.\n"
     ]
    },
    {
     "name": "stderr",
     "output_type": "stream",
     "text": [
      "$BGCP: possibly delisted; No timezone found\n"
     ]
    },
    {
     "name": "stdout",
     "output_type": "stream",
     "text": [
      "Error fetching historical data for BGCP: No historical data found for ticker\n",
      "Monthly data for PNM saved successfully.\n",
      "Monthly data for CNSL saved successfully.\n",
      "Monthly data for MAN saved successfully.\n",
      "Monthly data for HOPE saved successfully.\n",
      "Monthly data for HNI saved successfully.\n",
      "Monthly data for FUL saved successfully.\n",
      "Monthly data for CNMD saved successfully.\n",
      "Monthly data for ALE saved successfully.\n"
     ]
    },
    {
     "name": "stderr",
     "output_type": "stream",
     "text": [
      "$DUK PA: possibly delisted; No timezone found\n"
     ]
    },
    {
     "name": "stdout",
     "output_type": "stream",
     "text": [
      "Error fetching historical data for DUK PA: No historical data found for ticker\n",
      "Monthly data for FTS saved successfully.\n",
      "Monthly data for HA saved successfully.\n",
      "Monthly data for DKS saved successfully.\n",
      "Monthly data for ALV saved successfully.\n"
     ]
    },
    {
     "name": "stderr",
     "output_type": "stream",
     "text": [
      "$WGHPY: possibly delisted; No timezone found\n"
     ]
    },
    {
     "name": "stdout",
     "output_type": "stream",
     "text": [
      "Error fetching historical data for WGHPY: No historical data found for ticker\n",
      "Monthly data for OZK saved successfully.\n",
      "Monthly data for NMRK saved successfully.\n"
     ]
    },
    {
     "name": "stderr",
     "output_type": "stream",
     "text": [
      "$AHONY: possibly delisted; No timezone found\n"
     ]
    },
    {
     "name": "stdout",
     "output_type": "stream",
     "text": [
      "Error fetching historical data for AHONY: No historical data found for ticker\n",
      "Monthly data for MSA saved successfully.\n",
      "Monthly data for DK saved successfully.\n"
     ]
    },
    {
     "name": "stderr",
     "output_type": "stream",
     "text": [
      "$JCOM: possibly delisted; No timezone found\n"
     ]
    },
    {
     "name": "stdout",
     "output_type": "stream",
     "text": [
      "Error fetching historical data for JCOM: No historical data found for ticker\n",
      "Monthly data for LECO saved successfully.\n",
      "Monthly data for PRNHX saved successfully.\n",
      "Monthly data for FSTFX saved successfully.\n"
     ]
    },
    {
     "name": "stderr",
     "output_type": "stream",
     "text": [
      "$FFHRX: possibly delisted; No timezone found\n"
     ]
    },
    {
     "name": "stdout",
     "output_type": "stream",
     "text": [
      "Error fetching historical data for FFHRX: No historical data found for ticker\n",
      "Monthly data for FLMVX saved successfully.\n"
     ]
    },
    {
     "name": "stderr",
     "output_type": "stream",
     "text": [
      "$HRS: possibly delisted; No timezone found\n"
     ]
    },
    {
     "name": "stdout",
     "output_type": "stream",
     "text": [
      "Error fetching historical data for HRS: No historical data found for ticker\n",
      "Monthly data for EYE saved successfully.\n"
     ]
    },
    {
     "name": "stderr",
     "output_type": "stream",
     "text": [
      "$PER: possibly delisted; No timezone found\n"
     ]
    },
    {
     "name": "stdout",
     "output_type": "stream",
     "text": [
      "Error fetching historical data for PER: No historical data found for ticker\n",
      "Monthly data for UTGN saved successfully.\n"
     ]
    },
    {
     "name": "stderr",
     "output_type": "stream",
     "text": [
      "$RCII: possibly delisted; No timezone found\n"
     ]
    },
    {
     "name": "stdout",
     "output_type": "stream",
     "text": [
      "Error fetching historical data for RCII: No historical data found for ticker\n"
     ]
    },
    {
     "name": "stderr",
     "output_type": "stream",
     "text": [
      "$TFCFA: possibly delisted; No timezone found\n"
     ]
    },
    {
     "name": "stdout",
     "output_type": "stream",
     "text": [
      "Error fetching historical data for TFCFA: No historical data found for ticker\n"
     ]
    },
    {
     "name": "stderr",
     "output_type": "stream",
     "text": [
      "$DOOR: possibly delisted; No timezone found\n"
     ]
    },
    {
     "name": "stdout",
     "output_type": "stream",
     "text": [
      "Error fetching historical data for DOOR: No historical data found for ticker\n",
      "Monthly data for OGE saved successfully.\n",
      "Monthly data for GBX saved successfully.\n"
     ]
    },
    {
     "name": "stderr",
     "output_type": "stream",
     "text": [
      "$TFCF: possibly delisted; No timezone found\n"
     ]
    },
    {
     "name": "stdout",
     "output_type": "stream",
     "text": [
      "Error fetching historical data for TFCF: No historical data found for ticker\n",
      "Monthly data for FF saved successfully.\n"
     ]
    },
    {
     "name": "stderr",
     "output_type": "stream",
     "text": [
      "$CTRP: possibly delisted; No timezone found\n"
     ]
    },
    {
     "name": "stdout",
     "output_type": "stream",
     "text": [
      "Error fetching historical data for CTRP: No historical data found for ticker\n",
      "Monthly data for XSLV saved successfully.\n"
     ]
    },
    {
     "name": "stderr",
     "output_type": "stream",
     "text": [
      "$XENT: possibly delisted; No timezone found\n"
     ]
    },
    {
     "name": "stdout",
     "output_type": "stream",
     "text": [
      "Error fetching historical data for XENT: No historical data found for ticker\n"
     ]
    },
    {
     "name": "stderr",
     "output_type": "stream",
     "text": [
      "$CTB: possibly delisted; No timezone found\n"
     ]
    },
    {
     "name": "stdout",
     "output_type": "stream",
     "text": [
      "Error fetching historical data for CTB: No historical data found for ticker\n",
      "Monthly data for UTHR saved successfully.\n",
      "Monthly data for BH saved successfully.\n"
     ]
    },
    {
     "name": "stderr",
     "output_type": "stream",
     "text": [
      "$DPLO: possibly delisted; No timezone found\n"
     ]
    },
    {
     "name": "stdout",
     "output_type": "stream",
     "text": [
      "Error fetching historical data for DPLO: No historical data found for ticker\n",
      "Monthly data for IBP saved successfully.\n",
      "Monthly data for GBOOY saved successfully.\n",
      "Monthly data for DEA saved successfully.\n",
      "Monthly data for EXG saved successfully.\n"
     ]
    },
    {
     "name": "stderr",
     "output_type": "stream",
     "text": [
      "$MSG: possibly delisted; No timezone found\n"
     ]
    },
    {
     "name": "stdout",
     "output_type": "stream",
     "text": [
      "Error fetching historical data for MSG: No historical data found for ticker\n",
      "Monthly data for CPRT saved successfully.\n",
      "Monthly data for JJSF saved successfully.\n"
     ]
    },
    {
     "name": "stderr",
     "output_type": "stream",
     "text": [
      "$APU: possibly delisted; No timezone found\n"
     ]
    },
    {
     "name": "stdout",
     "output_type": "stream",
     "text": [
      "Error fetching historical data for APU: No historical data found for ticker\n"
     ]
    },
    {
     "name": "stderr",
     "output_type": "stream",
     "text": [
      "$CNXM: possibly delisted; No timezone found\n"
     ]
    },
    {
     "name": "stdout",
     "output_type": "stream",
     "text": [
      "Error fetching historical data for CNXM: No historical data found for ticker\n"
     ]
    },
    {
     "name": "stderr",
     "output_type": "stream",
     "text": [
      "$CINR: possibly delisted; No timezone found\n"
     ]
    },
    {
     "name": "stdout",
     "output_type": "stream",
     "text": [
      "Error fetching historical data for CINR: No historical data found for ticker\n"
     ]
    },
    {
     "name": "stderr",
     "output_type": "stream",
     "text": [
      "$SPKEP: possibly delisted; No timezone found\n"
     ]
    },
    {
     "name": "stdout",
     "output_type": "stream",
     "text": [
      "Error fetching historical data for SPKEP: No historical data found for ticker\n"
     ]
    },
    {
     "name": "stderr",
     "output_type": "stream",
     "text": [
      "$ZAYO: possibly delisted; No timezone found\n"
     ]
    },
    {
     "name": "stdout",
     "output_type": "stream",
     "text": [
      "Error fetching historical data for ZAYO: No historical data found for ticker\n",
      "Monthly data for HESM saved successfully.\n",
      "Monthly data for SAVE saved successfully.\n"
     ]
    },
    {
     "name": "stderr",
     "output_type": "stream",
     "text": [
      "$ORBK: possibly delisted; No timezone found\n"
     ]
    },
    {
     "name": "stdout",
     "output_type": "stream",
     "text": [
      "Error fetching historical data for ORBK: No historical data found for ticker\n"
     ]
    },
    {
     "name": "stderr",
     "output_type": "stream",
     "text": [
      "$912796QV4: possibly delisted; No timezone found\n"
     ]
    },
    {
     "name": "stdout",
     "output_type": "stream",
     "text": [
      "Error fetching historical data for 912796QV4: No historical data found for ticker\n"
     ]
    },
    {
     "name": "stderr",
     "output_type": "stream",
     "text": [
      "$ATHN: possibly delisted; No timezone found\n",
      "$BFET: possibly delisted; No price data found  (1d 2021-01-01 -> 2024-08-09)\n"
     ]
    },
    {
     "name": "stdout",
     "output_type": "stream",
     "text": [
      "Error fetching historical data for ATHN: No historical data found for ticker\n",
      "$BFET: possibly delisted; No price data found  (1d 2021-01-01 -> 2024-08-09)\n",
      "Error fetching historical data for BFET: No historical data found for ticker\n",
      "Monthly data for GCO saved successfully.\n"
     ]
    },
    {
     "name": "stderr",
     "output_type": "stream",
     "text": [
      "$PSB: possibly delisted; No timezone found\n",
      "$ESRX: possibly delisted; No price data found  (1d 2021-01-01 -> 2024-08-09)\n"
     ]
    },
    {
     "name": "stdout",
     "output_type": "stream",
     "text": [
      "Error fetching historical data for PSB: No historical data found for ticker\n",
      "$ESRX: possibly delisted; No price data found  (1d 2021-01-01 -> 2024-08-09)\n",
      "Error fetching historical data for ESRX: No historical data found for ticker\n"
     ]
    },
    {
     "name": "stderr",
     "output_type": "stream",
     "text": [
      "$UFS: possibly delisted; No timezone found\n",
      "$ANCX: possibly delisted; No price data found  (1d 2021-01-01 -> 2024-08-09)\n"
     ]
    },
    {
     "name": "stdout",
     "output_type": "stream",
     "text": [
      "Error fetching historical data for UFS: No historical data found for ticker\n",
      "$ANCX: possibly delisted; No price data found  (1d 2021-01-01 -> 2024-08-09)\n",
      "Error fetching historical data for ANCX: No historical data found for ticker\n"
     ]
    },
    {
     "name": "stderr",
     "output_type": "stream",
     "text": [
      "$TNTOF: possibly delisted; No timezone found\n"
     ]
    },
    {
     "name": "stdout",
     "output_type": "stream",
     "text": [
      "Error fetching historical data for TNTOF: No historical data found for ticker\n",
      "Monthly data for NAVI saved successfully.\n",
      "Monthly data for AX saved successfully.\n",
      "Monthly data for OPI saved successfully.\n"
     ]
    },
    {
     "name": "stderr",
     "output_type": "stream",
     "text": [
      "$SNHY: possibly delisted; No timezone found\n",
      "$CCT: possibly delisted; No price data found  (1d 2021-01-01 -> 2024-08-09)\n"
     ]
    },
    {
     "name": "stdout",
     "output_type": "stream",
     "text": [
      "Error fetching historical data for SNHY: No historical data found for ticker\n",
      "$CCT: possibly delisted; No price data found  (1d 2021-01-01 -> 2024-08-09)\n",
      "Error fetching historical data for CCT: No historical data found for ticker\n",
      "Monthly data for THG saved successfully.\n",
      "Monthly data for IXP saved successfully.\n"
     ]
    },
    {
     "name": "stderr",
     "output_type": "stream",
     "text": [
      "$LABL: possibly delisted; No timezone found\n"
     ]
    },
    {
     "name": "stdout",
     "output_type": "stream",
     "text": [
      "Error fetching historical data for LABL: No historical data found for ticker\n",
      "Monthly data for AMSF saved successfully.\n"
     ]
    },
    {
     "name": "stderr",
     "output_type": "stream",
     "text": [
      "$BEL: possibly delisted; No timezone found\n"
     ]
    },
    {
     "name": "stdout",
     "output_type": "stream",
     "text": [
      "Error fetching historical data for BEL: No historical data found for ticker\n"
     ]
    },
    {
     "name": "stderr",
     "output_type": "stream",
     "text": [
      "$AOBC: possibly delisted; No timezone found\n",
      "$TVPT: possibly delisted; No price data found  (1d 2021-01-01 -> 2024-08-09)\n"
     ]
    },
    {
     "name": "stdout",
     "output_type": "stream",
     "text": [
      "Error fetching historical data for AOBC: No historical data found for ticker\n",
      "$TVPT: possibly delisted; No price data found  (1d 2021-01-01 -> 2024-08-09)\n",
      "Error fetching historical data for TVPT: No historical data found for ticker\n",
      "Monthly data for WB saved successfully.\n",
      "Monthly data for PETQ saved successfully.\n",
      "Monthly data for LLESY saved successfully.\n",
      "Monthly data for VGT saved successfully.\n",
      "Monthly data for MC saved successfully.\n",
      "Monthly data for CVGW saved successfully.\n"
     ]
    },
    {
     "name": "stderr",
     "output_type": "stream",
     "text": [
      "$PEGI: possibly delisted; No timezone found\n"
     ]
    },
    {
     "name": "stdout",
     "output_type": "stream",
     "text": [
      "Error fetching historical data for PEGI: No historical data found for ticker\n",
      "Monthly data for KN saved successfully.\n",
      "Monthly data for PCG saved successfully.\n"
     ]
    },
    {
     "name": "stderr",
     "output_type": "stream",
     "text": [
      "$ESL: possibly delisted; No timezone found\n"
     ]
    },
    {
     "name": "stdout",
     "output_type": "stream",
     "text": [
      "Error fetching historical data for ESL: No historical data found for ticker\n",
      "Monthly data for SONO saved successfully.\n"
     ]
    },
    {
     "name": "stderr",
     "output_type": "stream",
     "text": [
      "$PTLA: possibly delisted; No timezone found\n",
      "$SCG: possibly delisted; No price data found  (1d 2021-01-01 -> 2024-08-09)\n"
     ]
    },
    {
     "name": "stdout",
     "output_type": "stream",
     "text": [
      "Error fetching historical data for PTLA: No historical data found for ticker\n",
      "$SCG: possibly delisted; No price data found  (1d 2021-01-01 -> 2024-08-09)\n",
      "Error fetching historical data for SCG: No historical data found for ticker\n"
     ]
    },
    {
     "name": "stderr",
     "output_type": "stream",
     "text": [
      "$CXO: possibly delisted; No timezone found\n"
     ]
    },
    {
     "name": "stdout",
     "output_type": "stream",
     "text": [
      "Error fetching historical data for CXO: No historical data found for ticker\n",
      "Monthly data for VOE saved successfully.\n",
      "Monthly data for VB saved successfully.\n"
     ]
    },
    {
     "name": "stderr",
     "output_type": "stream",
     "text": [
      "$ARAV: possibly delisted; No timezone found\n"
     ]
    },
    {
     "name": "stdout",
     "output_type": "stream",
     "text": [
      "Error fetching historical data for ARAV: No historical data found for ticker\n"
     ]
    },
    {
     "name": "stderr",
     "output_type": "stream",
     "text": [
      "$BKCC: possibly delisted; No timezone found\n"
     ]
    },
    {
     "name": "stdout",
     "output_type": "stream",
     "text": [
      "Error fetching historical data for BKCC: No historical data found for ticker\n"
     ]
    },
    {
     "name": "stderr",
     "output_type": "stream",
     "text": [
      "$MIC: possibly delisted; No timezone found\n"
     ]
    },
    {
     "name": "stdout",
     "output_type": "stream",
     "text": [
      "Error fetching historical data for MIC: No historical data found for ticker\n"
     ]
    },
    {
     "name": "stderr",
     "output_type": "stream",
     "text": [
      "$MZOR: possibly delisted; No price data found  (1d 2021-01-01 -> 2024-08-09)\n"
     ]
    },
    {
     "name": "stdout",
     "output_type": "stream",
     "text": [
      "Monthly data for RA saved successfully.\n",
      "$MZOR: possibly delisted; No price data found  (1d 2021-01-01 -> 2024-08-09)\n",
      "Error fetching historical data for MZOR: No historical data found for ticker\n",
      "Monthly data for FTAI saved successfully.\n",
      "Monthly data for MMS saved successfully.\n",
      "Monthly data for VCR saved successfully.\n",
      "Monthly data for VTV saved successfully.\n",
      "Monthly data for SEKEY saved successfully.\n",
      "Monthly data for MRT saved successfully.\n",
      "Monthly data for SIR saved successfully.\n"
     ]
    },
    {
     "name": "stderr",
     "output_type": "stream",
     "text": [
      "$LN: possibly delisted; No timezone found\n"
     ]
    },
    {
     "name": "stdout",
     "output_type": "stream",
     "text": [
      "Error fetching historical data for LN: No historical data found for ticker\n"
     ]
    },
    {
     "name": "stderr",
     "output_type": "stream",
     "text": [
      "$AMCRY: possibly delisted; No timezone found\n"
     ]
    },
    {
     "name": "stdout",
     "output_type": "stream",
     "text": [
      "Error fetching historical data for AMCRY: No historical data found for ticker\n",
      "Monthly data for CATO saved successfully.\n",
      "Monthly data for CPYYY saved successfully.\n",
      "Monthly data for ASOMY saved successfully.\n",
      "Monthly data for VLEEY saved successfully.\n"
     ]
    },
    {
     "name": "stderr",
     "output_type": "stream",
     "text": [
      "$STAR: possibly delisted; No timezone found\n",
      "$SHPG: possibly delisted; No price data found  (1d 2021-01-01 -> 2024-08-09)\n",
      "$GOV: possibly delisted; No price data found  (1d 2021-01-01 -> 2024-08-09)\n"
     ]
    },
    {
     "name": "stdout",
     "output_type": "stream",
     "text": [
      "Error fetching historical data for STAR: No historical data found for ticker\n",
      "$SHPG: possibly delisted; No price data found  (1d 2021-01-01 -> 2024-08-09)\n",
      "Error fetching historical data for SHPG: No historical data found for ticker\n",
      "$GOV: possibly delisted; No price data found  (1d 2021-01-01 -> 2024-08-09)\n",
      "Error fetching historical data for GOV: No historical data found for ticker\n",
      "Monthly data for GFAFX saved successfully.\n",
      "Monthly data for OMI saved successfully.\n"
     ]
    },
    {
     "name": "stderr",
     "output_type": "stream",
     "text": [
      "$INGIY: possibly delisted; No timezone found\n"
     ]
    },
    {
     "name": "stdout",
     "output_type": "stream",
     "text": [
      "Error fetching historical data for INGIY: No historical data found for ticker\n",
      "Monthly data for AHT saved successfully.\n",
      "Monthly data for BHR saved successfully.\n",
      "Monthly data for FSNUY saved successfully.\n"
     ]
    },
    {
     "name": "stderr",
     "output_type": "stream",
     "text": [
      "$NRBAY: possibly delisted; No price data found  (1d 2021-01-01 -> 2024-08-09)\n"
     ]
    },
    {
     "name": "stdout",
     "output_type": "stream",
     "text": [
      "$NRBAY: possibly delisted; No price data found  (1d 2021-01-01 -> 2024-08-09)\n",
      "Error fetching historical data for NRBAY: No historical data found for ticker\n"
     ]
    },
    {
     "name": "stderr",
     "output_type": "stream",
     "text": [
      "$SMTA: possibly delisted; No timezone found\n",
      "$VLP: possibly delisted; No price data found  (1d 2021-01-01 -> 2024-08-09)\n"
     ]
    },
    {
     "name": "stdout",
     "output_type": "stream",
     "text": [
      "Error fetching historical data for SMTA: No historical data found for ticker\n",
      "$VLP: possibly delisted; No price data found  (1d 2021-01-01 -> 2024-08-09)\n",
      "Error fetching historical data for VLP: No historical data found for ticker\n",
      "Monthly data for EMLP saved successfully.\n"
     ]
    },
    {
     "name": "stderr",
     "output_type": "stream",
     "text": [
      "$LM09.SG: possibly delisted; No timezone found\n"
     ]
    },
    {
     "name": "stdout",
     "output_type": "stream",
     "text": [
      "Error fetching historical data for LM09.SG: No historical data found for ticker\n",
      "Monthly data for VWNAX saved successfully.\n",
      "Monthly data for HR saved successfully.\n"
     ]
    },
    {
     "name": "stderr",
     "output_type": "stream",
     "text": [
      "$SAFM: possibly delisted; No timezone found\n"
     ]
    },
    {
     "name": "stdout",
     "output_type": "stream",
     "text": [
      "Error fetching historical data for SAFM: No historical data found for ticker\n",
      "Monthly data for MAIPX saved successfully.\n"
     ]
    },
    {
     "name": "stderr",
     "output_type": "stream",
     "text": [
      "$XON: possibly delisted; No timezone found\n"
     ]
    },
    {
     "name": "stdout",
     "output_type": "stream",
     "text": [
      "Error fetching historical data for XON: No historical data found for ticker\n"
     ]
    },
    {
     "name": "stderr",
     "output_type": "stream",
     "text": [
      "$WGP: possibly delisted; No timezone found\n"
     ]
    },
    {
     "name": "stdout",
     "output_type": "stream",
     "text": [
      "Error fetching historical data for WGP: No historical data found for ticker\n"
     ]
    },
    {
     "name": "stderr",
     "output_type": "stream",
     "text": [
      "$BBAVY: possibly delisted; No timezone found\n"
     ]
    },
    {
     "name": "stdout",
     "output_type": "stream",
     "text": [
      "Error fetching historical data for BBAVY: No historical data found for ticker\n",
      "Monthly data for SRCL saved successfully.\n"
     ]
    },
    {
     "name": "stderr",
     "output_type": "stream",
     "text": [
      "$EQGP: possibly delisted; No price data found  (1d 2021-01-01 -> 2024-08-09)\n"
     ]
    },
    {
     "name": "stdout",
     "output_type": "stream",
     "text": [
      "$EQGP: possibly delisted; No price data found  (1d 2021-01-01 -> 2024-08-09)\n",
      "Error fetching historical data for EQGP: No historical data found for ticker\n",
      "Monthly data for IWO saved successfully.\n",
      "Monthly data for PKB saved successfully.\n",
      "Monthly data for PCY saved successfully.\n",
      "Monthly data for HAINX saved successfully.\n",
      "Monthly data for MT saved successfully.\n"
     ]
    },
    {
     "name": "stderr",
     "output_type": "stream",
     "text": [
      "$BBL: possibly delisted; No timezone found\n"
     ]
    },
    {
     "name": "stdout",
     "output_type": "stream",
     "text": [
      "Error fetching historical data for BBL: No historical data found for ticker\n",
      "Monthly data for STLD saved successfully.\n",
      "Monthly data for ICAGY saved successfully.\n",
      "Monthly data for EMB saved successfully.\n",
      "Monthly data for SLQD saved successfully.\n",
      "Monthly data for EMLC saved successfully.\n",
      "Monthly data for PGF saved successfully.\n"
     ]
    },
    {
     "name": "stderr",
     "output_type": "stream",
     "text": [
      "$BHGE: possibly delisted; No timezone found\n"
     ]
    },
    {
     "name": "stdout",
     "output_type": "stream",
     "text": [
      "Error fetching historical data for BHGE: No historical data found for ticker\n"
     ]
    },
    {
     "name": "stderr",
     "output_type": "stream",
     "text": [
      "$BRKB: possibly delisted; No timezone found\n"
     ]
    },
    {
     "name": "stdout",
     "output_type": "stream",
     "text": [
      "Error fetching historical data for BRKB: No historical data found for ticker\n"
     ]
    },
    {
     "name": "stderr",
     "output_type": "stream",
     "text": [
      "$AMGP: possibly delisted; No timezone found\n"
     ]
    },
    {
     "name": "stdout",
     "output_type": "stream",
     "text": [
      "Error fetching historical data for AMGP: No historical data found for ticker\n",
      "Monthly data for DM saved successfully.\n"
     ]
    },
    {
     "name": "stderr",
     "output_type": "stream",
     "text": [
      "$WBT: possibly delisted; No timezone found\n",
      "$AET: possibly delisted; No price data found  (1d 2021-01-01 -> 2024-08-09)\n"
     ]
    },
    {
     "name": "stdout",
     "output_type": "stream",
     "text": [
      "Error fetching historical data for WBT: No historical data found for ticker\n",
      "Monthly data for BV saved successfully.\n",
      "$AET: possibly delisted; No price data found  (1d 2021-01-01 -> 2024-08-09)\n",
      "Error fetching historical data for AET: No historical data found for ticker\n",
      "Monthly data for IEZ saved successfully.\n",
      "Monthly data for BAMXF saved successfully.\n",
      "Monthly data for INGN saved successfully.\n"
     ]
    },
    {
     "name": "stderr",
     "output_type": "stream",
     "text": [
      "$TI: possibly delisted; No timezone found\n"
     ]
    },
    {
     "name": "stdout",
     "output_type": "stream",
     "text": [
      "Error fetching historical data for TI: No historical data found for ticker\n",
      "Monthly data for AIVAF saved successfully.\n",
      "$TKPYY: possibly delisted; No price data found  (1d 2021-01-01 -> 2024-08-09)\n"
     ]
    },
    {
     "name": "stderr",
     "output_type": "stream",
     "text": [
      "$TKPYY: possibly delisted; No price data found  (1d 2021-01-01 -> 2024-08-09)\n"
     ]
    },
    {
     "name": "stdout",
     "output_type": "stream",
     "text": [
      "Error fetching historical data for TKPYY: No historical data found for ticker\n",
      "Monthly data for ASBFY saved successfully.\n"
     ]
    },
    {
     "name": "stderr",
     "output_type": "stream",
     "text": [
      "$MTZPY: possibly delisted; No timezone found\n"
     ]
    },
    {
     "name": "stdout",
     "output_type": "stream",
     "text": [
      "Error fetching historical data for MTZPY: No historical data found for ticker\n",
      "Monthly data for ROYMY saved successfully.\n",
      "Monthly data for FPAFY saved successfully.\n"
     ]
    },
    {
     "name": "stderr",
     "output_type": "stream",
     "text": [
      "$CDR: possibly delisted; No timezone found\n"
     ]
    },
    {
     "name": "stdout",
     "output_type": "stream",
     "text": [
      "Error fetching historical data for CDR: No historical data found for ticker\n",
      "Monthly data for ITVPY saved successfully.\n",
      "Monthly data for STRNY saved successfully.\n",
      "Monthly data for YAHOY saved successfully.\n"
     ]
    },
    {
     "name": "stderr",
     "output_type": "stream",
     "text": [
      "$ACGPF: possibly delisted; No timezone found\n"
     ]
    },
    {
     "name": "stdout",
     "output_type": "stream",
     "text": [
      "Error fetching historical data for ACGPF: No historical data found for ticker\n",
      "Monthly data for HAIN saved successfully.\n"
     ]
    },
    {
     "name": "stderr",
     "output_type": "stream",
     "text": [
      "$ARRS: possibly delisted; No timezone found\n"
     ]
    },
    {
     "name": "stdout",
     "output_type": "stream",
     "text": [
      "Error fetching historical data for ARRS: No historical data found for ticker\n",
      "Monthly data for SOMLY saved successfully.\n",
      "Monthly data for CA saved successfully.\n"
     ]
    },
    {
     "name": "stderr",
     "output_type": "stream",
     "text": [
      "$NRZ: possibly delisted; No timezone found\n"
     ]
    },
    {
     "name": "stdout",
     "output_type": "stream",
     "text": [
      "Error fetching historical data for NRZ: No historical data found for ticker\n",
      "Monthly data for LXFR saved successfully.\n",
      "Monthly data for PX saved successfully.\n",
      "Monthly data for PRI saved successfully.\n"
     ]
    },
    {
     "name": "stderr",
     "output_type": "stream",
     "text": [
      "$MSTY.PA: possibly delisted; No timezone found\n"
     ]
    },
    {
     "name": "stdout",
     "output_type": "stream",
     "text": [
      "Error fetching historical data for MSTY.PA: No historical data found for ticker\n",
      "Monthly data for SMAWF saved successfully.\n"
     ]
    },
    {
     "name": "stderr",
     "output_type": "stream",
     "text": [
      "$VSM: possibly delisted; No timezone found\n"
     ]
    },
    {
     "name": "stdout",
     "output_type": "stream",
     "text": [
      "Error fetching historical data for VSM: No historical data found for ticker\n",
      "Monthly data for LSTR saved successfully.\n"
     ]
    },
    {
     "name": "stderr",
     "output_type": "stream",
     "text": [
      "$ABX: possibly delisted; No price data found  (1d 2021-01-01 -> 2024-08-09)\n",
      "$ETE: possibly delisted; No price data found  (1d 2021-01-01 -> 2024-08-09)\n"
     ]
    },
    {
     "name": "stdout",
     "output_type": "stream",
     "text": [
      "$ABX: possibly delisted; No price data found  (1d 2021-01-01 -> 2024-08-09)\n",
      "Error fetching historical data for ABX: No historical data found for ticker\n",
      "$ETE: possibly delisted; No price data found  (1d 2021-01-01 -> 2024-08-09)\n",
      "Error fetching historical data for ETE: No historical data found for ticker\n",
      "Monthly data for DFIN saved successfully.\n",
      "Monthly data for KS saved successfully.\n"
     ]
    },
    {
     "name": "stderr",
     "output_type": "stream",
     "text": [
      "$RVI: possibly delisted; No timezone found\n",
      "$EVHC: possibly delisted; No price data found  (1d 2021-01-01 -> 2024-08-09)\n"
     ]
    },
    {
     "name": "stdout",
     "output_type": "stream",
     "text": [
      "Error fetching historical data for RVI: No historical data found for ticker\n",
      "$EVHC: possibly delisted; No price data found  (1d 2021-01-01 -> 2024-08-09)\n",
      "Error fetching historical data for EVHC: No historical data found for ticker\n"
     ]
    },
    {
     "name": "stderr",
     "output_type": "stream",
     "text": [
      "$CBLK: possibly delisted; No timezone found\n"
     ]
    },
    {
     "name": "stdout",
     "output_type": "stream",
     "text": [
      "Error fetching historical data for CBLK: No historical data found for ticker\n"
     ]
    },
    {
     "name": "stderr",
     "output_type": "stream",
     "text": [
      "$ONE SHARE FOR ONE SHARE: possibly delisted; No timezone found\n"
     ]
    },
    {
     "name": "stdout",
     "output_type": "stream",
     "text": [
      "Error fetching historical data for ONE SHARE FOR ONE SHARE: No historical data found for ticker\n",
      "Monthly data for CNQ saved successfully.\n",
      "Monthly data for CCJ saved successfully.\n",
      "Monthly data for SHOO saved successfully.\n"
     ]
    },
    {
     "name": "stderr",
     "output_type": "stream",
     "text": [
      "$ENLK: possibly delisted; No price data found  (1d 2021-01-01 -> 2024-08-09)\n"
     ]
    },
    {
     "name": "stdout",
     "output_type": "stream",
     "text": [
      "Monthly data for ASND saved successfully.\n",
      "$ENLK: possibly delisted; No price data found  (1d 2021-01-01 -> 2024-08-09)\n",
      "Error fetching historical data for ENLK: No historical data found for ticker\n",
      "Monthly data for NVT saved successfully.\n",
      "Monthly data for MLPX saved successfully.\n",
      "Monthly data for HOMB saved successfully.\n",
      "Monthly data for TBT saved successfully.\n",
      "Monthly data for EDR saved successfully.\n",
      "Monthly data for AN saved successfully.\n"
     ]
    },
    {
     "name": "stderr",
     "output_type": "stream",
     "text": [
      "$IDTI: possibly delisted; No timezone found\n"
     ]
    },
    {
     "name": "stdout",
     "output_type": "stream",
     "text": [
      "Error fetching historical data for IDTI: No historical data found for ticker\n"
     ]
    },
    {
     "name": "stderr",
     "output_type": "stream",
     "text": [
      "$CCH: possibly delisted; No timezone found\n"
     ]
    },
    {
     "name": "stdout",
     "output_type": "stream",
     "text": [
      "Error fetching historical data for CCH: No historical data found for ticker\n",
      "Monthly data for JG saved successfully.\n"
     ]
    },
    {
     "name": "stderr",
     "output_type": "stream",
     "text": [
      "$GPT: possibly delisted; No price data found  (1d 2021-01-01 -> 2024-08-09)\n"
     ]
    },
    {
     "name": "stdout",
     "output_type": "stream",
     "text": [
      "Monthly data for SSMXF saved successfully.\n",
      "Monthly data for CUTR saved successfully.\n",
      "$GPT: possibly delisted; No price data found  (1d 2021-01-01 -> 2024-08-09)\n",
      "Error fetching historical data for GPT: No historical data found for ticker\n"
     ]
    },
    {
     "name": "stderr",
     "output_type": "stream",
     "text": [
      "$KSU: possibly delisted; No timezone found\n"
     ]
    },
    {
     "name": "stdout",
     "output_type": "stream",
     "text": [
      "Error fetching historical data for KSU: No historical data found for ticker\n",
      "Monthly data for ROBO saved successfully.\n",
      "Monthly data for RPG saved successfully.\n",
      "Monthly data for EMGF saved successfully.\n"
     ]
    },
    {
     "name": "stderr",
     "output_type": "stream",
     "text": [
      "$COTV: possibly delisted; No price data found  (1d 2021-01-01 -> 2024-08-09)\n"
     ]
    },
    {
     "name": "stdout",
     "output_type": "stream",
     "text": [
      "Monthly data for FTI saved successfully.\n",
      "$COTV: possibly delisted; No price data found  (1d 2021-01-01 -> 2024-08-09)\n",
      "Error fetching historical data for COTV: No historical data found for ticker\n"
     ]
    },
    {
     "name": "stderr",
     "output_type": "stream",
     "text": [
      "$OZM: possibly delisted; No timezone found\n"
     ]
    },
    {
     "name": "stdout",
     "output_type": "stream",
     "text": [
      "Error fetching historical data for OZM: No historical data found for ticker\n"
     ]
    },
    {
     "name": "stderr",
     "output_type": "stream",
     "text": [
      "$LOGM: possibly delisted; No timezone found\n"
     ]
    },
    {
     "name": "stdout",
     "output_type": "stream",
     "text": [
      "Error fetching historical data for LOGM: No historical data found for ticker\n"
     ]
    },
    {
     "name": "stderr",
     "output_type": "stream",
     "text": [
      "$DLPH: possibly delisted; No timezone found\n",
      "$NYLD: possibly delisted; No price data found  (1d 2021-01-01 -> 2024-08-09)\n"
     ]
    },
    {
     "name": "stdout",
     "output_type": "stream",
     "text": [
      "Error fetching historical data for DLPH: No historical data found for ticker\n",
      "$NYLD: possibly delisted; No price data found  (1d 2021-01-01 -> 2024-08-09)\n",
      "Error fetching historical data for NYLD: No historical data found for ticker\n"
     ]
    },
    {
     "name": "stderr",
     "output_type": "stream",
     "text": [
      "$912796QX0: possibly delisted; No timezone found\n"
     ]
    },
    {
     "name": "stdout",
     "output_type": "stream",
     "text": [
      "Error fetching historical data for 912796QX0: No historical data found for ticker\n",
      "Monthly data for VNQ saved successfully.\n"
     ]
    },
    {
     "name": "stderr",
     "output_type": "stream",
     "text": [
      "$TIS: possibly delisted; No timezone found\n"
     ]
    },
    {
     "name": "stdout",
     "output_type": "stream",
     "text": [
      "Error fetching historical data for TIS: No historical data found for ticker\n",
      "Monthly data for NOKBF saved successfully.\n"
     ]
    },
    {
     "name": "stderr",
     "output_type": "stream",
     "text": [
      "GOOCV: Period '1mo' is invalid, must be one of ['1d', '5d']\n",
      "$TANN: possibly delisted; No price data found  (1d 2021-01-01 -> 2024-08-09)\n",
      "$WPZ: possibly delisted; No price data found  (1d 2021-01-01 -> 2024-08-09)\n"
     ]
    },
    {
     "name": "stdout",
     "output_type": "stream",
     "text": [
      "Error fetching historical data for GOOCV: No historical data found for ticker\n",
      "$TANN: possibly delisted; No price data found  (1d 2021-01-01 -> 2024-08-09)\n",
      "Error fetching historical data for TANN: No historical data found for ticker\n",
      "$WPZ: possibly delisted; No price data found  (1d 2021-01-01 -> 2024-08-09)\n",
      "Error fetching historical data for WPZ: No historical data found for ticker\n",
      "Monthly data for MXL saved successfully.\n"
     ]
    },
    {
     "name": "stderr",
     "output_type": "stream",
     "text": [
      "$WPG: possibly delisted; No timezone found\n"
     ]
    },
    {
     "name": "stdout",
     "output_type": "stream",
     "text": [
      "Error fetching historical data for WPG: No historical data found for ticker\n",
      "Monthly data for PSEC saved successfully.\n",
      "Monthly data for CX saved successfully.\n",
      "Monthly data for IGIB saved successfully.\n"
     ]
    },
    {
     "name": "stderr",
     "output_type": "stream",
     "text": [
      "$TGE: possibly delisted; No timezone found\n",
      "$QCP: possibly delisted; No price data found  (1d 2021-01-01 -> 2024-08-09)\n"
     ]
    },
    {
     "name": "stdout",
     "output_type": "stream",
     "text": [
      "Error fetching historical data for TGE: No historical data found for ticker\n",
      "$QCP: possibly delisted; No price data found  (1d 2021-01-01 -> 2024-08-09)\n",
      "Error fetching historical data for QCP: No historical data found for ticker\n",
      "Monthly data for XT saved successfully.\n",
      "Monthly data for UNFI saved successfully.\n"
     ]
    },
    {
     "name": "stderr",
     "output_type": "stream",
     "text": [
      "$IIN: possibly delisted; No timezone found\n"
     ]
    },
    {
     "name": "stdout",
     "output_type": "stream",
     "text": [
      "Error fetching historical data for IIN: No historical data found for ticker\n",
      "Monthly data for PBR saved successfully.\n"
     ]
    },
    {
     "name": "stderr",
     "output_type": "stream",
     "text": [
      "$BAF: possibly delisted; No timezone found\n",
      "$RMP: possibly delisted; No price data found  (1d 2021-01-01 -> 2024-08-09)\n"
     ]
    },
    {
     "name": "stdout",
     "output_type": "stream",
     "text": [
      "Error fetching historical data for BAF: No historical data found for ticker\n",
      "$RMP: possibly delisted; No price data found  (1d 2021-01-01 -> 2024-08-09)\n",
      "Error fetching historical data for RMP: No historical data found for ticker\n",
      "Monthly data for CASH saved successfully.\n",
      "Monthly data for SURG saved successfully.\n"
     ]
    },
    {
     "name": "stderr",
     "output_type": "stream",
     "text": [
      "VRAY: Period '1mo' is invalid, must be one of ['1d', '5d']\n"
     ]
    },
    {
     "name": "stdout",
     "output_type": "stream",
     "text": [
      "Monthly data for PSTG saved successfully.\n",
      "Monthly data for HGV saved successfully.\n",
      "Error fetching historical data for VRAY: No historical data found for ticker\n",
      "Monthly data for CRMT saved successfully.\n",
      "Monthly data for NKTR saved successfully.\n"
     ]
    },
    {
     "name": "stderr",
     "output_type": "stream",
     "text": [
      "$TWX: possibly delisted; No price data found  (1d 2021-01-01 -> 2024-08-09)\n"
     ]
    },
    {
     "name": "stdout",
     "output_type": "stream",
     "text": [
      "$TWX: possibly delisted; No price data found  (1d 2021-01-01 -> 2024-08-09)\n",
      "Error fetching historical data for TWX: No historical data found for ticker\n"
     ]
    },
    {
     "name": "stderr",
     "output_type": "stream",
     "text": [
      "$NORTHWESTER: possibly delisted; No timezone found\n"
     ]
    },
    {
     "name": "stdout",
     "output_type": "stream",
     "text": [
      "Error fetching historical data for NORTHWESTER: No historical data found for ticker\n",
      "Monthly data for LQD saved successfully.\n",
      "Monthly data for LTC saved successfully.\n",
      "Monthly data for HSTM saved successfully.\n",
      "Monthly data for BAYZF saved successfully.\n",
      "Monthly data for WINA saved successfully.\n"
     ]
    },
    {
     "name": "stderr",
     "output_type": "stream",
     "text": [
      "$OZRK: possibly delisted; No timezone found\n"
     ]
    },
    {
     "name": "stdout",
     "output_type": "stream",
     "text": [
      "Error fetching historical data for OZRK: No historical data found for ticker\n",
      "Monthly data for USG saved successfully.\n"
     ]
    },
    {
     "name": "stderr",
     "output_type": "stream",
     "text": [
      "$AHGP: possibly delisted; No price data found  (1d 2021-01-01 -> 2024-08-09)\n"
     ]
    },
    {
     "name": "stdout",
     "output_type": "stream",
     "text": [
      "Monthly data for ECPG saved successfully.\n",
      "$AHGP: possibly delisted; No price data found  (1d 2021-01-01 -> 2024-08-09)\n",
      "Error fetching historical data for AHGP: No historical data found for ticker\n"
     ]
    },
    {
     "name": "stderr",
     "output_type": "stream",
     "text": [
      "$DVMT: possibly delisted; No price data found  (1d 2021-01-01 -> 2024-08-09)\n"
     ]
    },
    {
     "name": "stdout",
     "output_type": "stream",
     "text": [
      "Monthly data for CODI saved successfully.\n",
      "$DVMT: possibly delisted; No price data found  (1d 2021-01-01 -> 2024-08-09)\n",
      "Error fetching historical data for DVMT: No historical data found for ticker\n"
     ]
    },
    {
     "name": "stderr",
     "output_type": "stream",
     "text": [
      "$TTM: possibly delisted; No timezone found\n"
     ]
    },
    {
     "name": "stdout",
     "output_type": "stream",
     "text": [
      "Error fetching historical data for TTM: No historical data found for ticker\n",
      "Monthly data for GTES saved successfully.\n"
     ]
    },
    {
     "name": "stderr",
     "output_type": "stream",
     "text": [
      "$APY: possibly delisted; No timezone found\n"
     ]
    },
    {
     "name": "stdout",
     "output_type": "stream",
     "text": [
      "Error fetching historical data for APY: No historical data found for ticker\n",
      "Monthly data for GOGO saved successfully.\n",
      "Monthly data for INOV saved successfully.\n"
     ]
    },
    {
     "name": "stderr",
     "output_type": "stream",
     "text": [
      "$MIK: possibly delisted; No timezone found\n"
     ]
    },
    {
     "name": "stdout",
     "output_type": "stream",
     "text": [
      "Error fetching historical data for MIK: No historical data found for ticker\n",
      "Monthly data for YELP saved successfully.\n",
      "Monthly data for BOX saved successfully.\n"
     ]
    },
    {
     "name": "stderr",
     "output_type": "stream",
     "text": [
      "$ALLY.A: possibly delisted; No timezone found\n"
     ]
    },
    {
     "name": "stdout",
     "output_type": "stream",
     "text": [
      "Error fetching historical data for ALLY.A: No historical data found for ticker\n",
      "Monthly data for TKGBY saved successfully.\n",
      "Monthly data for TOTL saved successfully.\n",
      "Monthly data for IYE saved successfully.\n",
      "Monthly data for CHK saved successfully.\n",
      "Monthly data for IBM.MX saved successfully.\n"
     ]
    },
    {
     "name": "stderr",
     "output_type": "stream",
     "text": [
      "$SEP: possibly delisted; No price data found  (1d 2021-01-01 -> 2024-08-09)\n"
     ]
    },
    {
     "name": "stdout",
     "output_type": "stream",
     "text": [
      "Monthly data for VGK saved successfully.\n",
      "Monthly data for EV saved successfully.\n",
      "$SEP: possibly delisted; No price data found  (1d 2021-01-01 -> 2024-08-09)\n",
      "Error fetching historical data for SEP: No historical data found for ticker\n"
     ]
    },
    {
     "name": "stderr",
     "output_type": "stream",
     "text": [
      "$TEP: possibly delisted; No price data found  (1d 2021-01-01 -> 2024-08-09)\n"
     ]
    },
    {
     "name": "stdout",
     "output_type": "stream",
     "text": [
      "Monthly data for CGNT saved successfully.\n",
      "$TEP: possibly delisted; No price data found  (1d 2021-01-01 -> 2024-08-09)\n",
      "Error fetching historical data for TEP: No historical data found for ticker\n"
     ]
    },
    {
     "name": "stderr",
     "output_type": "stream",
     "text": [
      "$INVESTMEN: possibly delisted; No timezone found\n",
      "$ACXM: possibly delisted; No price data found  (1d 2021-01-01 -> 2024-08-09)\n"
     ]
    },
    {
     "name": "stdout",
     "output_type": "stream",
     "text": [
      "Error fetching historical data for INVESTMEN: No historical data found for ticker\n",
      "Monthly data for CDXS saved successfully.\n",
      "$ACXM: possibly delisted; No price data found  (1d 2021-01-01 -> 2024-08-09)\n",
      "Error fetching historical data for ACXM: No historical data found for ticker\n"
     ]
    },
    {
     "name": "stderr",
     "output_type": "stream",
     "text": [
      "$FINL: possibly delisted; No price data found  (1d 2021-01-01 -> 2024-08-09)\n"
     ]
    },
    {
     "name": "stdout",
     "output_type": "stream",
     "text": [
      "Monthly data for ODVYX saved successfully.\n",
      "Monthly data for BKD saved successfully.\n",
      "$FINL: possibly delisted; No price data found  (1d 2021-01-01 -> 2024-08-09)\n",
      "Error fetching historical data for FINL: No historical data found for ticker\n"
     ]
    },
    {
     "name": "stderr",
     "output_type": "stream",
     "text": [
      "$CLNS: possibly delisted; No price data found  (1d 2021-01-01 -> 2024-08-09)\n"
     ]
    },
    {
     "name": "stdout",
     "output_type": "stream",
     "text": [
      "$CLNS: possibly delisted; No price data found  (1d 2021-01-01 -> 2024-08-09)\n",
      "Error fetching historical data for CLNS: No historical data found for ticker\n",
      "Monthly data for BRX saved successfully.\n"
     ]
    },
    {
     "name": "stderr",
     "output_type": "stream",
     "text": [
      "$DDR: possibly delisted; No price data found  (1d 2021-01-01 -> 2024-08-09)\n"
     ]
    },
    {
     "name": "stdout",
     "output_type": "stream",
     "text": [
      "$DDR: possibly delisted; No price data found  (1d 2021-01-01 -> 2024-08-09)\n",
      "Error fetching historical data for DDR: No historical data found for ticker\n"
     ]
    },
    {
     "name": "stderr",
     "output_type": "stream",
     "text": [
      "$BT: possibly delisted; No timezone found\n",
      "$SKYAY: possibly delisted; No price data found  (1d 2021-01-01 -> 2024-08-09)\n"
     ]
    },
    {
     "name": "stdout",
     "output_type": "stream",
     "text": [
      "Error fetching historical data for BT: No historical data found for ticker\n",
      "$SKYAY: possibly delisted; No price data found  (1d 2021-01-01 -> 2024-08-09)\n",
      "Error fetching historical data for SKYAY: No historical data found for ticker\n",
      "Monthly data for CCIZX saved successfully.\n",
      "Monthly data for TATYY saved successfully.\n",
      "Monthly data for LXP saved successfully.\n"
     ]
    },
    {
     "name": "stderr",
     "output_type": "stream",
     "text": [
      "$DPS: possibly delisted; No price data found  (1d 2021-01-01 -> 2024-08-09)\n"
     ]
    },
    {
     "name": "stdout",
     "output_type": "stream",
     "text": [
      "Monthly data for WARFY saved successfully.\n",
      "$DPS: possibly delisted; No price data found  (1d 2021-01-01 -> 2024-08-09)\n",
      "Error fetching historical data for DPS: No historical data found for ticker\n"
     ]
    },
    {
     "name": "stderr",
     "output_type": "stream",
     "text": [
      "$NYLD.A: possibly delisted; No timezone found\n"
     ]
    },
    {
     "name": "stdout",
     "output_type": "stream",
     "text": [
      "Error fetching historical data for NYLD.A: No historical data found for ticker\n",
      "Monthly data for YTEN saved successfully.\n",
      "Monthly data for VRNT saved successfully.\n",
      "Monthly data for RYT saved successfully.\n"
     ]
    },
    {
     "name": "stderr",
     "output_type": "stream",
     "text": [
      "$LVNTA: possibly delisted; No price data found  (1d 2021-01-01 -> 2024-08-09)\n"
     ]
    },
    {
     "name": "stdout",
     "output_type": "stream",
     "text": [
      "Monthly data for IYT saved successfully.\n",
      "$LVNTA: possibly delisted; No price data found  (1d 2021-01-01 -> 2024-08-09)\n",
      "Error fetching historical data for LVNTA: No historical data found for ticker\n",
      "Monthly data for XSD saved successfully.\n",
      "Monthly data for FDUS saved successfully.\n"
     ]
    },
    {
     "name": "stderr",
     "output_type": "stream",
     "text": [
      "$FNGN: possibly delisted; No timezone found\n",
      "$CALD: possibly delisted; No price data found  (1d 2021-01-01 -> 2024-08-09)\n"
     ]
    },
    {
     "name": "stdout",
     "output_type": "stream",
     "text": [
      "Error fetching historical data for FNGN: No historical data found for ticker\n",
      "$CALD: possibly delisted; No price data found  (1d 2021-01-01 -> 2024-08-09)\n",
      "Error fetching historical data for CALD: No historical data found for ticker\n"
     ]
    },
    {
     "name": "stderr",
     "output_type": "stream",
     "text": [
      "$APTS: possibly delisted; No timezone found\n"
     ]
    },
    {
     "name": "stdout",
     "output_type": "stream",
     "text": [
      "Error fetching historical data for APTS: No historical data found for ticker\n"
     ]
    },
    {
     "name": "stderr",
     "output_type": "stream",
     "text": [
      "$FTSI: possibly delisted; No timezone found\n"
     ]
    },
    {
     "name": "stdout",
     "output_type": "stream",
     "text": [
      "Error fetching historical data for FTSI: No historical data found for ticker\n"
     ]
    },
    {
     "name": "stderr",
     "output_type": "stream",
     "text": [
      "$CVA: possibly delisted; No timezone found\n",
      "$ILG: possibly delisted; No price data found  (1d 2021-01-01 -> 2024-08-09)\n"
     ]
    },
    {
     "name": "stdout",
     "output_type": "stream",
     "text": [
      "Error fetching historical data for CVA: No historical data found for ticker\n",
      "$ILG: possibly delisted; No price data found  (1d 2021-01-01 -> 2024-08-09)\n",
      "Error fetching historical data for ILG: No historical data found for ticker\n"
     ]
    },
    {
     "name": "stderr",
     "output_type": "stream",
     "text": [
      "$CSRA: possibly delisted; No price data found  (1d 2021-01-01 -> 2024-08-09)\n"
     ]
    },
    {
     "name": "stdout",
     "output_type": "stream",
     "text": [
      "Monthly data for PDCO saved successfully.\n",
      "$CSRA: possibly delisted; No price data found  (1d 2021-01-01 -> 2024-08-09)\n",
      "Error fetching historical data for CSRA: No historical data found for ticker\n",
      "Monthly data for MHLD saved successfully.\n",
      "Monthly data for SCHA saved successfully.\n"
     ]
    },
    {
     "name": "stderr",
     "output_type": "stream",
     "text": [
      "$PCLN: possibly delisted; No price data found  (1d 2021-01-01 -> 2024-08-09)\n"
     ]
    },
    {
     "name": "stdout",
     "output_type": "stream",
     "text": [
      "$PCLN: possibly delisted; No price data found  (1d 2021-01-01 -> 2024-08-09)\n",
      "Error fetching historical data for PCLN: No historical data found for ticker\n",
      "Monthly data for GNL saved successfully.\n"
     ]
    },
    {
     "name": "stderr",
     "output_type": "stream",
     "text": [
      "$JCAP: possibly delisted; No timezone found\n"
     ]
    },
    {
     "name": "stdout",
     "output_type": "stream",
     "text": [
      "Error fetching historical data for JCAP: No historical data found for ticker\n"
     ]
    },
    {
     "name": "stderr",
     "output_type": "stream",
     "text": [
      "$VER: possibly delisted; No timezone found\n"
     ]
    },
    {
     "name": "stdout",
     "output_type": "stream",
     "text": [
      "Error fetching historical data for VER: No historical data found for ticker\n"
     ]
    },
    {
     "name": "stderr",
     "output_type": "stream",
     "text": [
      "$PEI: possibly delisted; No timezone found\n"
     ]
    },
    {
     "name": "stdout",
     "output_type": "stream",
     "text": [
      "Error fetching historical data for PEI: No historical data found for ticker\n"
     ]
    },
    {
     "name": "stderr",
     "output_type": "stream",
     "text": [
      "$HIFR: possibly delisted; No timezone found\n",
      "$COL: possibly delisted; No price data found  (1d 2021-01-01 -> 2024-08-09)\n"
     ]
    },
    {
     "name": "stdout",
     "output_type": "stream",
     "text": [
      "Error fetching historical data for HIFR: No historical data found for ticker\n",
      "$COL: possibly delisted; No price data found  (1d 2021-01-01 -> 2024-08-09)\n",
      "Error fetching historical data for COL: No historical data found for ticker\n"
     ]
    },
    {
     "name": "stderr",
     "output_type": "stream",
     "text": [
      "$TNTR: possibly delisted; No timezone found\n"
     ]
    },
    {
     "name": "stdout",
     "output_type": "stream",
     "text": [
      "Error fetching historical data for TNTR: No historical data found for ticker\n",
      "Monthly data for IHE saved successfully.\n"
     ]
    },
    {
     "name": "stderr",
     "output_type": "stream",
     "text": [
      "$NILSY: possibly delisted; No timezone found\n"
     ]
    },
    {
     "name": "stdout",
     "output_type": "stream",
     "text": [
      "Error fetching historical data for NILSY: No historical data found for ticker\n",
      "Monthly data for RYAAY saved successfully.\n",
      "Monthly data for ALOT saved successfully.\n"
     ]
    },
    {
     "name": "stderr",
     "output_type": "stream",
     "text": [
      "$BIVV: possibly delisted; No price data found  (1d 2021-01-01 -> 2024-08-09)\n"
     ]
    },
    {
     "name": "stdout",
     "output_type": "stream",
     "text": [
      "Monthly data for GRPN saved successfully.\n",
      "Monthly data for IYR saved successfully.\n",
      "$BIVV: possibly delisted; No price data found  (1d 2021-01-01 -> 2024-08-09)\n",
      "Error fetching historical data for BIVV: No historical data found for ticker\n"
     ]
    },
    {
     "name": "stderr",
     "output_type": "stream",
     "text": [
      "$OA: possibly delisted; No price data found  (1d 2021-01-01 -> 2024-08-09)\n"
     ]
    },
    {
     "name": "stdout",
     "output_type": "stream",
     "text": [
      "$OA: possibly delisted; No price data found  (1d 2021-01-01 -> 2024-08-09)\n",
      "Error fetching historical data for OA: No historical data found for ticker\n",
      "Monthly data for HIBB saved successfully.\n"
     ]
    },
    {
     "name": "stderr",
     "output_type": "stream",
     "text": [
      "$VNTV: possibly delisted; No price data found  (1d 2021-01-01 -> 2024-08-09)\n"
     ]
    },
    {
     "name": "stdout",
     "output_type": "stream",
     "text": [
      "Monthly data for FET saved successfully.\n",
      "Monthly data for TTP saved successfully.\n",
      "$VNTV: possibly delisted; No price data found  (1d 2021-01-01 -> 2024-08-09)\n",
      "Error fetching historical data for VNTV: No historical data found for ticker\n",
      "Monthly data for LSCC saved successfully.\n"
     ]
    },
    {
     "name": "stderr",
     "output_type": "stream",
     "text": [
      "$AXE: possibly delisted; No timezone found\n",
      "$CBG: possibly delisted; No price data found  (1d 2021-01-01 -> 2024-08-09)\n"
     ]
    },
    {
     "name": "stdout",
     "output_type": "stream",
     "text": [
      "Error fetching historical data for AXE: No historical data found for ticker\n",
      "$CBG: possibly delisted; No price data found  (1d 2021-01-01 -> 2024-08-09)\n",
      "Error fetching historical data for CBG: No historical data found for ticker\n",
      "Monthly data for TCX saved successfully.\n"
     ]
    },
    {
     "name": "stderr",
     "output_type": "stream",
     "text": [
      "$GXP: possibly delisted; No price data found  (1d 2021-01-01 -> 2024-08-09)\n"
     ]
    },
    {
     "name": "stdout",
     "output_type": "stream",
     "text": [
      "$GXP: possibly delisted; No price data found  (1d 2021-01-01 -> 2024-08-09)\n",
      "Error fetching historical data for GXP: No historical data found for ticker\n",
      "Monthly data for RGC saved successfully.\n",
      "Monthly data for PFS saved successfully.\n"
     ]
    },
    {
     "name": "stderr",
     "output_type": "stream",
     "text": [
      "$OAK: possibly delisted; No timezone found\n",
      "$ENTL: possibly delisted; No price data found  (1d 2021-01-01 -> 2024-08-09)\n",
      "$OREX: possibly delisted; No price data found  (1d 2021-01-01 -> 2024-08-09)\n"
     ]
    },
    {
     "name": "stdout",
     "output_type": "stream",
     "text": [
      "Error fetching historical data for OAK: No historical data found for ticker\n",
      "$ENTL: possibly delisted; No price data found  (1d 2021-01-01 -> 2024-08-09)\n",
      "Error fetching historical data for ENTL: No historical data found for ticker\n",
      "$OREX: possibly delisted; No price data found  (1d 2021-01-01 -> 2024-08-09)\n",
      "Error fetching historical data for OREX: No historical data found for ticker\n"
     ]
    },
    {
     "name": "stderr",
     "output_type": "stream",
     "text": [
      "$FIT: possibly delisted; No timezone found\n"
     ]
    },
    {
     "name": "stdout",
     "output_type": "stream",
     "text": [
      "Error fetching historical data for FIT: No historical data found for ticker\n",
      "Monthly data for LGIH saved successfully.\n",
      "Monthly data for AFT saved successfully.\n"
     ]
    },
    {
     "name": "stderr",
     "output_type": "stream",
     "text": [
      "$ESV: possibly delisted; No timezone found\n"
     ]
    },
    {
     "name": "stdout",
     "output_type": "stream",
     "text": [
      "Error fetching historical data for ESV: No historical data found for ticker\n",
      "Monthly data for BETR saved successfully.\n",
      "Monthly data for MTCIX saved successfully.\n",
      "Monthly data for FSD saved successfully.\n"
     ]
    },
    {
     "name": "stderr",
     "output_type": "stream",
     "text": [
      "$TEGP: possibly delisted; No price data found  (1d 2021-01-01 -> 2024-08-09)\n"
     ]
    },
    {
     "name": "stdout",
     "output_type": "stream",
     "text": [
      "$TEGP: possibly delisted; No price data found  (1d 2021-01-01 -> 2024-08-09)\n",
      "Error fetching historical data for TEGP: No historical data found for ticker\n",
      "Monthly data for OI saved successfully.\n"
     ]
    },
    {
     "name": "stderr",
     "output_type": "stream",
     "text": [
      "$AFSI: possibly delisted; No price data found  (1d 2021-01-01 -> 2024-08-09)\n"
     ]
    },
    {
     "name": "stdout",
     "output_type": "stream",
     "text": [
      "$AFSI: possibly delisted; No price data found  (1d 2021-01-01 -> 2024-08-09)\n",
      "Error fetching historical data for AFSI: No historical data found for ticker\n"
     ]
    },
    {
     "name": "stderr",
     "output_type": "stream",
     "text": [
      "$LKSD: possibly delisted; No timezone found\n"
     ]
    },
    {
     "name": "stdout",
     "output_type": "stream",
     "text": [
      "Error fetching historical data for LKSD: No historical data found for ticker\n"
     ]
    },
    {
     "name": "stderr",
     "output_type": "stream",
     "text": [
      "$INWK: possibly delisted; No timezone found\n",
      "$ITYBY: possibly delisted; No price data found  (1d 2021-01-01 -> 2024-08-09)\n"
     ]
    },
    {
     "name": "stdout",
     "output_type": "stream",
     "text": [
      "Error fetching historical data for INWK: No historical data found for ticker\n",
      "$ITYBY: possibly delisted; No price data found  (1d 2021-01-01 -> 2024-08-09)\n",
      "Error fetching historical data for ITYBY: No historical data found for ticker\n",
      "Monthly data for SMGIX saved successfully.\n",
      "Monthly data for CQP saved successfully.\n",
      "Monthly data for MLPA saved successfully.\n"
     ]
    },
    {
     "name": "stderr",
     "output_type": "stream",
     "text": [
      "$WIN: possibly delisted; No timezone found\n"
     ]
    },
    {
     "name": "stdout",
     "output_type": "stream",
     "text": [
      "Error fetching historical data for WIN: No historical data found for ticker\n"
     ]
    },
    {
     "name": "stderr",
     "output_type": "stream",
     "text": [
      "$TUES: possibly delisted; No timezone found\n"
     ]
    },
    {
     "name": "stdout",
     "output_type": "stream",
     "text": [
      "Error fetching historical data for TUES: No historical data found for ticker\n",
      "Monthly data for RELL saved successfully.\n",
      "Monthly data for ASPN saved successfully.\n"
     ]
    },
    {
     "name": "stderr",
     "output_type": "stream",
     "text": [
      "$ELGX: possibly delisted; No timezone found\n"
     ]
    },
    {
     "name": "stdout",
     "output_type": "stream",
     "text": [
      "Error fetching historical data for ELGX: No historical data found for ticker\n",
      "Monthly data for TV saved successfully.\n"
     ]
    },
    {
     "name": "stderr",
     "output_type": "stream",
     "text": [
      "$MRLN: possibly delisted; No timezone found\n"
     ]
    },
    {
     "name": "stdout",
     "output_type": "stream",
     "text": [
      "Error fetching historical data for MRLN: No historical data found for ticker\n",
      "Monthly data for IDT saved successfully.\n"
     ]
    },
    {
     "name": "stderr",
     "output_type": "stream",
     "text": [
      "$RSPP: possibly delisted; No price data found  (1d 2021-01-01 -> 2024-08-09)\n"
     ]
    },
    {
     "name": "stdout",
     "output_type": "stream",
     "text": [
      "Monthly data for TCPC saved successfully.\n",
      "$RSPP: possibly delisted; No price data found  (1d 2021-01-01 -> 2024-08-09)\n",
      "Error fetching historical data for RSPP: No historical data found for ticker\n"
     ]
    },
    {
     "name": "stderr",
     "output_type": "stream",
     "text": [
      "$CSGKF: possibly delisted; No timezone found\n",
      "$CMLPSX: possibly delisted; No price data found  (1d 2021-01-01 -> 2024-08-09)\n"
     ]
    },
    {
     "name": "stdout",
     "output_type": "stream",
     "text": [
      "Error fetching historical data for CSGKF: No historical data found for ticker\n",
      "$CMLPSX: possibly delisted; No price data found  (1d 2021-01-01 -> 2024-08-09)\n",
      "Error fetching historical data for CMLPSX: No historical data found for ticker\n"
     ]
    },
    {
     "name": "stderr",
     "output_type": "stream",
     "text": [
      "$36966R5P7: possibly delisted; No timezone found\n"
     ]
    },
    {
     "name": "stdout",
     "output_type": "stream",
     "text": [
      "Error fetching historical data for 36966R5P7: No historical data found for ticker\n",
      "Monthly data for SOUHY saved successfully.\n"
     ]
    },
    {
     "name": "stderr",
     "output_type": "stream",
     "text": [
      "$LVLT: possibly delisted; No price data found  (1d 2021-01-01 -> 2024-08-09)\n",
      "$CAA: possibly delisted; No price data found  (1d 2021-01-01 -> 2024-08-09)\n",
      "$IPXL: possibly delisted; No price data found  (1d 2021-01-01 -> 2024-08-09)\n"
     ]
    },
    {
     "name": "stdout",
     "output_type": "stream",
     "text": [
      "$LVLT: possibly delisted; No price data found  (1d 2021-01-01 -> 2024-08-09)\n",
      "Error fetching historical data for LVLT: No historical data found for ticker\n",
      "$CAA: possibly delisted; No price data found  (1d 2021-01-01 -> 2024-08-09)\n",
      "Error fetching historical data for CAA: No historical data found for ticker\n",
      "$IPXL: possibly delisted; No price data found  (1d 2021-01-01 -> 2024-08-09)\n",
      "Error fetching historical data for IPXL: No historical data found for ticker\n"
     ]
    },
    {
     "name": "stderr",
     "output_type": "stream",
     "text": [
      "$TEUM: possibly delisted; No timezone found\n",
      "$BONT: possibly delisted; No price data found  (1d 2021-01-01 -> 2024-08-09)\n"
     ]
    },
    {
     "name": "stdout",
     "output_type": "stream",
     "text": [
      "Error fetching historical data for TEUM: No historical data found for ticker\n",
      "$BONT: possibly delisted; No price data found  (1d 2021-01-01 -> 2024-08-09)\n",
      "Error fetching historical data for BONT: No historical data found for ticker\n",
      "Monthly data for ATOS saved successfully.\n"
     ]
    },
    {
     "name": "stderr",
     "output_type": "stream",
     "text": [
      "$DXTR: possibly delisted; No price data found  (1d 2021-01-01 -> 2024-08-09)\n"
     ]
    },
    {
     "name": "stdout",
     "output_type": "stream",
     "text": [
      "$DXTR: possibly delisted; No price data found  (1d 2021-01-01 -> 2024-08-09)\n",
      "Error fetching historical data for DXTR: No historical data found for ticker\n",
      "Monthly data for ADRE saved successfully.\n"
     ]
    },
    {
     "name": "stderr",
     "output_type": "stream",
     "text": [
      "$NGLS$A: possibly delisted; No timezone found\n"
     ]
    },
    {
     "name": "stdout",
     "output_type": "stream",
     "text": [
      "Error fetching historical data for NGLS$A: No historical data found for ticker\n",
      "Monthly data for FNI saved successfully.\n"
     ]
    },
    {
     "name": "stderr",
     "output_type": "stream",
     "text": [
      "$ZIOP: possibly delisted; No timezone found\n"
     ]
    },
    {
     "name": "stdout",
     "output_type": "stream",
     "text": [
      "Error fetching historical data for ZIOP: No historical data found for ticker\n"
     ]
    },
    {
     "name": "stderr",
     "output_type": "stream",
     "text": [
      "$TRXC: possibly delisted; No timezone found\n",
      "$NEOT: possibly delisted; No price data found  (1d 2021-01-01 -> 2024-08-09)\n"
     ]
    },
    {
     "name": "stdout",
     "output_type": "stream",
     "text": [
      "Error fetching historical data for TRXC: No historical data found for ticker\n",
      "$NEOT: possibly delisted; No price data found  (1d 2021-01-01 -> 2024-08-09)\n",
      "Error fetching historical data for NEOT: No historical data found for ticker\n",
      "Monthly data for RCON saved successfully.\n"
     ]
    },
    {
     "name": "stderr",
     "output_type": "stream",
     "text": [
      "$NETE: possibly delisted; No timezone found\n"
     ]
    },
    {
     "name": "stdout",
     "output_type": "stream",
     "text": [
      "Error fetching historical data for NETE: No historical data found for ticker\n",
      "Monthly data for HLF saved successfully.\n"
     ]
    },
    {
     "name": "stderr",
     "output_type": "stream",
     "text": [
      "$LBIX: possibly delisted; No price data found  (1d 2021-01-01 -> 2024-08-09)\n"
     ]
    },
    {
     "name": "stdout",
     "output_type": "stream",
     "text": [
      "$LBIX: possibly delisted; No price data found  (1d 2021-01-01 -> 2024-08-09)\n",
      "Error fetching historical data for LBIX: No historical data found for ticker\n",
      "Monthly data for VDE saved successfully.\n"
     ]
    },
    {
     "name": "stderr",
     "output_type": "stream",
     "text": [
      "$INFI: possibly delisted; No timezone found\n"
     ]
    },
    {
     "name": "stdout",
     "output_type": "stream",
     "text": [
      "Error fetching historical data for INFI: No historical data found for ticker\n",
      "Monthly data for TIXC saved successfully.\n"
     ]
    },
    {
     "name": "stderr",
     "output_type": "stream",
     "text": [
      "$SCX: possibly delisted; No timezone found\n",
      "OTIC: Period '1mo' is invalid, must be one of ['1d', '5d']\n",
      "$WPPGY: possibly delisted; No price data found  (1d 2021-01-01 -> 2024-08-09)\n",
      "$SGBK: possibly delisted; No price data found  (1d 2021-01-01 -> 2024-08-09)\n"
     ]
    },
    {
     "name": "stdout",
     "output_type": "stream",
     "text": [
      "Error fetching historical data for SCX: No historical data found for ticker\n",
      "Error fetching historical data for OTIC: No historical data found for ticker\n",
      "$WPPGY: possibly delisted; No price data found  (1d 2021-01-01 -> 2024-08-09)\n",
      "Error fetching historical data for WPPGY: No historical data found for ticker\n",
      "$SGBK: possibly delisted; No price data found  (1d 2021-01-01 -> 2024-08-09)\n",
      "Error fetching historical data for SGBK: No historical data found for ticker\n"
     ]
    },
    {
     "name": "stderr",
     "output_type": "stream",
     "text": [
      "$WTR: possibly delisted; No timezone found\n"
     ]
    },
    {
     "name": "stdout",
     "output_type": "stream",
     "text": [
      "Error fetching historical data for WTR: No historical data found for ticker\n",
      "Monthly data for WF saved successfully.\n",
      "Monthly data for TCS saved successfully.\n"
     ]
    },
    {
     "name": "stderr",
     "output_type": "stream",
     "text": [
      "$LNEGY: possibly delisted; No timezone found\n"
     ]
    },
    {
     "name": "stdout",
     "output_type": "stream",
     "text": [
      "Error fetching historical data for LNEGY: No historical data found for ticker\n",
      "Monthly data for OPK saved successfully.\n",
      "Monthly data for GAMR saved successfully.\n",
      "Monthly data for ANF saved successfully.\n"
     ]
    },
    {
     "name": "stderr",
     "output_type": "stream",
     "text": [
      "$Q: possibly delisted; No price data found  (1d 2021-01-01 -> 2024-08-09)\n",
      "$BCR: possibly delisted; No price data found  (1d 2021-01-01 -> 2024-08-09)\n",
      "$SPLS: possibly delisted; No price data found  (1d 2021-01-01 -> 2024-08-09)\n"
     ]
    },
    {
     "name": "stdout",
     "output_type": "stream",
     "text": [
      "Monthly data for FV saved successfully.\n",
      "$Q: possibly delisted; No price data found  (1d 2021-01-01 -> 2024-08-09)\n",
      "Error fetching historical data for Q: No historical data found for ticker\n",
      "$BCR: possibly delisted; No price data found  (1d 2021-01-01 -> 2024-08-09)\n",
      "Error fetching historical data for BCR: No historical data found for ticker\n",
      "$SPLS: possibly delisted; No price data found  (1d 2021-01-01 -> 2024-08-09)\n",
      "Error fetching historical data for SPLS: No historical data found for ticker\n"
     ]
    },
    {
     "name": "stderr",
     "output_type": "stream",
     "text": [
      "$ITEK: possibly delisted; No price data found  (1d 2021-01-01 -> 2024-08-09)\n",
      "$NPSND: possibly delisted; No price data found  (1d 2021-01-01 -> 2024-08-09)\n"
     ]
    },
    {
     "name": "stdout",
     "output_type": "stream",
     "text": [
      "$ITEK: possibly delisted; No price data found  (1d 2021-01-01 -> 2024-08-09)\n",
      "Error fetching historical data for ITEK: No historical data found for ticker\n",
      "$NPSND: possibly delisted; No price data found  (1d 2021-01-01 -> 2024-08-09)\n",
      "Error fetching historical data for NPSND: No historical data found for ticker\n",
      "Monthly data for VTKLY saved successfully.\n",
      "Monthly data for TD saved successfully.\n"
     ]
    },
    {
     "name": "stderr",
     "output_type": "stream",
     "text": [
      "$MNK: possibly delisted; No timezone found\n"
     ]
    },
    {
     "name": "stdout",
     "output_type": "stream",
     "text": [
      "Error fetching historical data for MNK: No historical data found for ticker\n",
      "Monthly data for CMPGY saved successfully.\n",
      "Monthly data for JSMD saved successfully.\n",
      "Monthly data for JSML saved successfully.\n"
     ]
    },
    {
     "name": "stderr",
     "output_type": "stream",
     "text": [
      "$DD.PA: possibly delisted; No price data found  (1d 2021-01-01 -> 2024-08-09)\n"
     ]
    },
    {
     "name": "stdout",
     "output_type": "stream",
     "text": [
      "$DD.PA: possibly delisted; No price data found  (1d 2021-01-01 -> 2024-08-09)\n",
      "Error fetching historical data for DD.PA: No historical data found for ticker\n",
      "Monthly data for NPK saved successfully.\n"
     ]
    },
    {
     "name": "stderr",
     "output_type": "stream",
     "text": [
      "$EXXI: possibly delisted; No price data found  (1d 2021-01-01 -> 2024-08-09)\n",
      "$WFM: possibly delisted; No price data found  (1d 2021-01-01 -> 2024-08-09)\n"
     ]
    },
    {
     "name": "stdout",
     "output_type": "stream",
     "text": [
      "$EXXI: possibly delisted; No price data found  (1d 2021-01-01 -> 2024-08-09)\n",
      "Error fetching historical data for EXXI: No historical data found for ticker\n",
      "$WFM: possibly delisted; No price data found  (1d 2021-01-01 -> 2024-08-09)\n",
      "Error fetching historical data for WFM: No historical data found for ticker\n",
      "Monthly data for RTNB saved successfully.\n",
      "Monthly data for MWA saved successfully.\n"
     ]
    },
    {
     "name": "stderr",
     "output_type": "stream",
     "text": [
      "$ARCI: possibly delisted; No timezone found\n"
     ]
    },
    {
     "name": "stdout",
     "output_type": "stream",
     "text": [
      "Error fetching historical data for ARCI: No historical data found for ticker\n"
     ]
    },
    {
     "name": "stderr",
     "output_type": "stream",
     "text": [
      "$ACC: possibly delisted; No timezone found\n"
     ]
    },
    {
     "name": "stdout",
     "output_type": "stream",
     "text": [
      "Error fetching historical data for ACC: No historical data found for ticker\n",
      "Monthly data for VOT saved successfully.\n",
      "Monthly data for VOYA saved successfully.\n",
      "Monthly data for IUSG saved successfully.\n",
      "Monthly data for IUSV saved successfully.\n",
      "Monthly data for FXD saved successfully.\n"
     ]
    },
    {
     "name": "stderr",
     "output_type": "stream",
     "text": [
      "$SRF: possibly delisted; No timezone found\n"
     ]
    },
    {
     "name": "stdout",
     "output_type": "stream",
     "text": [
      "Error fetching historical data for SRF: No historical data found for ticker\n"
     ]
    },
    {
     "name": "stderr",
     "output_type": "stream",
     "text": [
      "$PHLD: possibly delisted; No timezone found\n"
     ]
    },
    {
     "name": "stdout",
     "output_type": "stream",
     "text": [
      "Error fetching historical data for PHLD: No historical data found for ticker\n"
     ]
    },
    {
     "name": "stderr",
     "output_type": "stream",
     "text": [
      "$SHPGF: possibly delisted; No timezone found\n",
      "$RAS: possibly delisted; No price data found  (1d 2021-01-01 -> 2024-08-09)\n"
     ]
    },
    {
     "name": "stdout",
     "output_type": "stream",
     "text": [
      "Error fetching historical data for SHPGF: No historical data found for ticker\n",
      "$RAS: possibly delisted; No price data found  (1d 2021-01-01 -> 2024-08-09)\n",
      "Error fetching historical data for RAS: No historical data found for ticker\n",
      "Monthly data for NVDQ saved successfully.\n"
     ]
    },
    {
     "name": "stderr",
     "output_type": "stream",
     "text": [
      "$CYTR: possibly delisted; No timezone found\n",
      "$RAI: possibly delisted; No price data found  (1d 2021-01-01 -> 2024-08-09)\n"
     ]
    },
    {
     "name": "stdout",
     "output_type": "stream",
     "text": [
      "Error fetching historical data for CYTR: No historical data found for ticker\n",
      "Monthly data for CAPR saved successfully.\n",
      "$RAI: possibly delisted; No price data found  (1d 2021-01-01 -> 2024-08-09)\n",
      "Error fetching historical data for RAI: No historical data found for ticker\n",
      "Monthly data for PEY saved successfully.\n"
     ]
    },
    {
     "name": "stderr",
     "output_type": "stream",
     "text": [
      "$TEAR: possibly delisted; No timezone found\n",
      "$CCE: possibly delisted; No price data found  (1d 2021-01-01 -> 2024-08-09)\n"
     ]
    },
    {
     "name": "stdout",
     "output_type": "stream",
     "text": [
      "Error fetching historical data for TEAR: No historical data found for ticker\n",
      "Monthly data for AEZS saved successfully.\n",
      "$CCE: possibly delisted; No price data found  (1d 2021-01-01 -> 2024-08-09)\n",
      "Error fetching historical data for CCE: No historical data found for ticker\n"
     ]
    },
    {
     "name": "stderr",
     "output_type": "stream",
     "text": [
      "$CBAY: possibly delisted; No timezone found\n"
     ]
    },
    {
     "name": "stdout",
     "output_type": "stream",
     "text": [
      "Error fetching historical data for CBAY: No historical data found for ticker\n"
     ]
    },
    {
     "name": "stderr",
     "output_type": "stream",
     "text": [
      "$ZN: possibly delisted; No timezone found\n"
     ]
    },
    {
     "name": "stdout",
     "output_type": "stream",
     "text": [
      "Error fetching historical data for ZN: No historical data found for ticker\n"
     ]
    },
    {
     "name": "stderr",
     "output_type": "stream",
     "text": [
      "$FTR: possibly delisted; No timezone found\n"
     ]
    },
    {
     "name": "stdout",
     "output_type": "stream",
     "text": [
      "Error fetching historical data for FTR: No historical data found for ticker\n",
      "Monthly data for TTC saved successfully.\n"
     ]
    },
    {
     "name": "stderr",
     "output_type": "stream",
     "text": [
      "$ABDC: possibly delisted; No timezone found\n"
     ]
    },
    {
     "name": "stdout",
     "output_type": "stream",
     "text": [
      "Error fetching historical data for ABDC: No historical data found for ticker\n"
     ]
    },
    {
     "name": "stderr",
     "output_type": "stream",
     "text": [
      "$MBFI: possibly delisted; No timezone found\n"
     ]
    },
    {
     "name": "stdout",
     "output_type": "stream",
     "text": [
      "Error fetching historical data for MBFI: No historical data found for ticker\n"
     ]
    },
    {
     "name": "stderr",
     "output_type": "stream",
     "text": [
      "$ZNGA.SW: possibly delisted; No timezone found\n"
     ]
    },
    {
     "name": "stdout",
     "output_type": "stream",
     "text": [
      "Error fetching historical data for ZNGA.SW: No historical data found for ticker\n",
      "Monthly data for ORKLY saved successfully.\n"
     ]
    },
    {
     "name": "stderr",
     "output_type": "stream",
     "text": [
      "$CIU: possibly delisted; No price data found  (1d 2021-01-01 -> 2024-08-09)\n"
     ]
    },
    {
     "name": "stdout",
     "output_type": "stream",
     "text": [
      "$CIU: possibly delisted; No price data found  (1d 2021-01-01 -> 2024-08-09)\n",
      "Error fetching historical data for CIU: No historical data found for ticker\n",
      "Monthly data for SLV saved successfully.\n",
      "Monthly data for OUNZ saved successfully.\n"
     ]
    },
    {
     "name": "stderr",
     "output_type": "stream",
     "text": [
      "$JCS: possibly delisted; No timezone found\n",
      "$OKS: possibly delisted; No price data found  (1d 2021-01-01 -> 2024-08-09)\n",
      "$CST: possibly delisted; No price data found  (1d 2021-01-01 -> 2024-08-09)\n"
     ]
    },
    {
     "name": "stdout",
     "output_type": "stream",
     "text": [
      "Error fetching historical data for JCS: No historical data found for ticker\n",
      "$OKS: possibly delisted; No price data found  (1d 2021-01-01 -> 2024-08-09)\n",
      "Error fetching historical data for OKS: No historical data found for ticker\n",
      "$CST: possibly delisted; No price data found  (1d 2021-01-01 -> 2024-08-09)\n",
      "Error fetching historical data for CST: No historical data found for ticker\n"
     ]
    },
    {
     "name": "stderr",
     "output_type": "stream",
     "text": [
      "$WLL: possibly delisted; No timezone found\n"
     ]
    },
    {
     "name": "stdout",
     "output_type": "stream",
     "text": [
      "Error fetching historical data for WLL: No historical data found for ticker\n",
      "Monthly data for EONGY saved successfully.\n"
     ]
    },
    {
     "name": "stderr",
     "output_type": "stream",
     "text": [
      "$MCC: possibly delisted; No timezone found\n",
      "$NFX: possibly delisted; No price data found  (1d 2021-01-01 -> 2024-08-09)\n",
      "$CCP: possibly delisted; No price data found  (1d 2021-01-01 -> 2024-08-09)\n"
     ]
    },
    {
     "name": "stdout",
     "output_type": "stream",
     "text": [
      "Error fetching historical data for MCC: No historical data found for ticker\n",
      "$NFX: possibly delisted; No price data found  (1d 2021-01-01 -> 2024-08-09)\n",
      "Error fetching historical data for NFX: No historical data found for ticker\n",
      "$CCP: possibly delisted; No price data found  (1d 2021-01-01 -> 2024-08-09)\n",
      "Error fetching historical data for CCP: No historical data found for ticker\n"
     ]
    },
    {
     "name": "stderr",
     "output_type": "stream",
     "text": [
      "$CLSN: possibly delisted; No timezone found\n"
     ]
    },
    {
     "name": "stdout",
     "output_type": "stream",
     "text": [
      "Error fetching historical data for CLSN: No historical data found for ticker\n"
     ]
    },
    {
     "name": "stderr",
     "output_type": "stream",
     "text": [
      "$MXIM: possibly delisted; No timezone found\n"
     ]
    },
    {
     "name": "stdout",
     "output_type": "stream",
     "text": [
      "Error fetching historical data for MXIM: No historical data found for ticker\n"
     ]
    },
    {
     "name": "stderr",
     "output_type": "stream",
     "text": [
      "$MDC: possibly delisted; No timezone found\n",
      "$AFAM: possibly delisted; No price data found  (1d 2021-01-01 -> 2024-08-09)\n",
      "$TLLP: possibly delisted; No price data found  (1d 2021-01-01 -> 2024-08-09)\n"
     ]
    },
    {
     "name": "stdout",
     "output_type": "stream",
     "text": [
      "Error fetching historical data for MDC: No historical data found for ticker\n",
      "$AFAM: possibly delisted; No price data found  (1d 2021-01-01 -> 2024-08-09)\n",
      "Error fetching historical data for AFAM: No historical data found for ticker\n",
      "$TLLP: possibly delisted; No price data found  (1d 2021-01-01 -> 2024-08-09)\n",
      "Error fetching historical data for TLLP: No historical data found for ticker\n",
      "Monthly data for DCTH saved successfully.\n"
     ]
    },
    {
     "name": "stderr",
     "output_type": "stream",
     "text": [
      "$AINV: possibly delisted; No timezone found\n",
      "$QTM: possibly delisted; No price data found  (1d 2021-01-01 -> 2024-08-09)\n"
     ]
    },
    {
     "name": "stdout",
     "output_type": "stream",
     "text": [
      "Error fetching historical data for AINV: No historical data found for ticker\n",
      "$QTM: possibly delisted; No price data found  (1d 2021-01-01 -> 2024-08-09)\n",
      "Error fetching historical data for QTM: No historical data found for ticker\n",
      "Monthly data for VNCE saved successfully.\n",
      "Monthly data for VEVIX saved successfully.\n",
      "Monthly data for SLM saved successfully.\n"
     ]
    },
    {
     "name": "stderr",
     "output_type": "stream",
     "text": [
      "$CLNS$A: possibly delisted; No timezone found\n"
     ]
    },
    {
     "name": "stdout",
     "output_type": "stream",
     "text": [
      "Error fetching historical data for CLNS$A: No historical data found for ticker\n"
     ]
    },
    {
     "name": "stderr",
     "output_type": "stream",
     "text": [
      "$GTOMY: possibly delisted; No timezone found\n"
     ]
    },
    {
     "name": "stdout",
     "output_type": "stream",
     "text": [
      "Error fetching historical data for GTOMY: No historical data found for ticker\n",
      "Monthly data for VIVHY saved successfully.\n",
      "Monthly data for UNIT saved successfully.\n"
     ]
    },
    {
     "name": "stderr",
     "output_type": "stream",
     "text": [
      "$JHB: possibly delisted; No timezone found\n",
      "$POT: possibly delisted; No price data found  (1d 2021-01-01 -> 2024-08-09)\n",
      "$JNS: possibly delisted; No price data found  (1d 2021-01-01 -> 2024-08-09)\n"
     ]
    },
    {
     "name": "stdout",
     "output_type": "stream",
     "text": [
      "Error fetching historical data for JHB: No historical data found for ticker\n",
      "$POT: possibly delisted; No price data found  (1d 2021-01-01 -> 2024-08-09)\n",
      "Error fetching historical data for POT: No historical data found for ticker\n",
      "$JNS: possibly delisted; No price data found  (1d 2021-01-01 -> 2024-08-09)\n",
      "Error fetching historical data for JNS: No historical data found for ticker\n"
     ]
    },
    {
     "name": "stderr",
     "output_type": "stream",
     "text": [
      "$PE: possibly delisted; No timezone found\n",
      "$COH: possibly delisted; No price data found  (1d 2021-01-01 -> 2024-08-09)\n"
     ]
    },
    {
     "name": "stdout",
     "output_type": "stream",
     "text": [
      "Error fetching historical data for PE: No historical data found for ticker\n",
      "$COH: possibly delisted; No price data found  (1d 2021-01-01 -> 2024-08-09)\n",
      "Error fetching historical data for COH: No historical data found for ticker\n",
      "Monthly data for JNUG saved successfully.\n",
      "Monthly data for MNRO saved successfully.\n"
     ]
    },
    {
     "name": "stderr",
     "output_type": "stream",
     "text": [
      "$FNBC: possibly delisted; No price data found  (1d 2021-01-01 -> 2024-08-09)\n",
      "$CWEI: possibly delisted; No price data found  (1d 2021-01-01 -> 2024-08-09)\n"
     ]
    },
    {
     "name": "stdout",
     "output_type": "stream",
     "text": [
      "Monthly data for OCN saved successfully.\n",
      "$FNBC: possibly delisted; No price data found  (1d 2021-01-01 -> 2024-08-09)\n",
      "Error fetching historical data for FNBC: No historical data found for ticker\n",
      "$CWEI: possibly delisted; No price data found  (1d 2021-01-01 -> 2024-08-09)\n",
      "Error fetching historical data for CWEI: No historical data found for ticker\n"
     ]
    },
    {
     "name": "stderr",
     "output_type": "stream",
     "text": [
      "$LCI: possibly delisted; No timezone found\n",
      "$SZYM: possibly delisted; No price data found  (1d 2021-01-01 -> 2024-08-09)\n"
     ]
    },
    {
     "name": "stdout",
     "output_type": "stream",
     "text": [
      "Error fetching historical data for LCI: No historical data found for ticker\n",
      "Monthly data for FTK saved successfully.\n",
      "$SZYM: possibly delisted; No price data found  (1d 2021-01-01 -> 2024-08-09)\n",
      "Error fetching historical data for SZYM: No historical data found for ticker\n"
     ]
    },
    {
     "name": "stderr",
     "output_type": "stream",
     "text": [
      "$CEB: possibly delisted; No price data found  (1d 2021-01-01 -> 2024-08-09)\n",
      "$PRXL: possibly delisted; No price data found  (1d 2021-01-01 -> 2024-08-09)\n",
      "$AGU: possibly delisted; No price data found  (1d 2021-01-01 -> 2024-08-09)\n"
     ]
    },
    {
     "name": "stdout",
     "output_type": "stream",
     "text": [
      "$CEB: possibly delisted; No price data found  (1d 2021-01-01 -> 2024-08-09)\n",
      "Error fetching historical data for CEB: No historical data found for ticker\n",
      "$PRXL: possibly delisted; No price data found  (1d 2021-01-01 -> 2024-08-09)\n",
      "Error fetching historical data for PRXL: No historical data found for ticker\n",
      "$AGU: possibly delisted; No price data found  (1d 2021-01-01 -> 2024-08-09)\n",
      "Error fetching historical data for AGU: No historical data found for ticker\n"
     ]
    },
    {
     "name": "stderr",
     "output_type": "stream",
     "text": [
      "$WETF: possibly delisted; No timezone found\n"
     ]
    },
    {
     "name": "stdout",
     "output_type": "stream",
     "text": [
      "Error fetching historical data for WETF: No historical data found for ticker\n"
     ]
    },
    {
     "name": "stderr",
     "output_type": "stream",
     "text": [
      "$TLRD: possibly delisted; No timezone found\n"
     ]
    },
    {
     "name": "stdout",
     "output_type": "stream",
     "text": [
      "Error fetching historical data for TLRD: No historical data found for ticker\n",
      "Monthly data for CMTL saved successfully.\n",
      "Monthly data for IJJ saved successfully.\n",
      "Monthly data for ERIE saved successfully.\n"
     ]
    },
    {
     "name": "stderr",
     "output_type": "stream",
     "text": [
      "$CMCSK: possibly delisted; No price data found  (1d 2021-01-01 -> 2024-08-09)\n",
      "$VSAR: possibly delisted; No price data found  (1d 2021-01-01 -> 2024-08-09)\n",
      "$MLPI: possibly delisted; No price data found  (1d 2021-01-01 -> 2024-08-09)\n"
     ]
    },
    {
     "name": "stdout",
     "output_type": "stream",
     "text": [
      "$CMCSK: possibly delisted; No price data found  (1d 2021-01-01 -> 2024-08-09)\n",
      "Error fetching historical data for CMCSK: No historical data found for ticker\n",
      "$VSAR: possibly delisted; No price data found  (1d 2021-01-01 -> 2024-08-09)\n",
      "Error fetching historical data for VSAR: No historical data found for ticker\n",
      "$MLPI: possibly delisted; No price data found  (1d 2021-01-01 -> 2024-08-09)\n",
      "Error fetching historical data for MLPI: No historical data found for ticker\n",
      "Monthly data for RYH saved successfully.\n",
      "Monthly data for FL saved successfully.\n"
     ]
    },
    {
     "name": "stderr",
     "output_type": "stream",
     "text": [
      "$LLTC: possibly delisted; No price data found  (1d 2021-01-01 -> 2024-08-09)\n"
     ]
    },
    {
     "name": "stdout",
     "output_type": "stream",
     "text": [
      "Monthly data for RVT saved successfully.\n",
      "Monthly data for WOOF saved successfully.\n",
      "$LLTC: possibly delisted; No price data found  (1d 2021-01-01 -> 2024-08-09)\n",
      "Error fetching historical data for LLTC: No historical data found for ticker\n",
      "Monthly data for IYH saved successfully.\n",
      "Monthly data for NVG saved successfully.\n"
     ]
    },
    {
     "name": "stderr",
     "output_type": "stream",
     "text": [
      "$CLC: possibly delisted; No price data found  (1d 2021-01-01 -> 2024-08-09)\n",
      "$FCGYF: possibly delisted; No price data found  (1d 2021-01-01 -> 2024-08-09)\n",
      "$MJN: possibly delisted; No price data found  (1d 2021-01-01 -> 2024-08-09)\n"
     ]
    },
    {
     "name": "stdout",
     "output_type": "stream",
     "text": [
      "Monthly data for VCIT saved successfully.\n",
      "$CLC: possibly delisted; No price data found  (1d 2021-01-01 -> 2024-08-09)\n",
      "Error fetching historical data for CLC: No historical data found for ticker\n",
      "$FCGYF: possibly delisted; No price data found  (1d 2021-01-01 -> 2024-08-09)\n",
      "Error fetching historical data for FCGYF: No historical data found for ticker\n",
      "$MJN: possibly delisted; No price data found  (1d 2021-01-01 -> 2024-08-09)\n",
      "Error fetching historical data for MJN: No historical data found for ticker\n"
     ]
    },
    {
     "name": "stderr",
     "output_type": "stream",
     "text": [
      "$ALOG: possibly delisted; No price data found  (1d 2021-01-01 -> 2024-08-09)\n",
      "$KERX: possibly delisted; No price data found  (1d 2021-01-01 -> 2024-08-09)\n"
     ]
    },
    {
     "name": "stdout",
     "output_type": "stream",
     "text": [
      "Monthly data for IBB saved successfully.\n",
      "$ALOG: possibly delisted; No price data found  (1d 2021-01-01 -> 2024-08-09)\n",
      "Error fetching historical data for ALOG: No historical data found for ticker\n",
      "$KERX: possibly delisted; No price data found  (1d 2021-01-01 -> 2024-08-09)\n",
      "Error fetching historical data for KERX: No historical data found for ticker\n",
      "Monthly data for ACRE saved successfully.\n",
      "Monthly data for GCBC saved successfully.\n"
     ]
    },
    {
     "name": "stderr",
     "output_type": "stream",
     "text": [
      "$RMBFX: possibly delisted; No price data found  (1d 2021-01-01 -> 2024-08-09)\n"
     ]
    },
    {
     "name": "stdout",
     "output_type": "stream",
     "text": [
      "$RMBFX: possibly delisted; No price data found  (1d 2021-01-01 -> 2024-08-09)\n",
      "Error fetching historical data for RMBFX: No historical data found for ticker\n"
     ]
    },
    {
     "name": "stderr",
     "output_type": "stream",
     "text": [
      "$AQFH: possibly delisted; No timezone found\n",
      "$SXL: possibly delisted; No price data found  (1d 2021-01-01 -> 2024-08-09)\n"
     ]
    },
    {
     "name": "stdout",
     "output_type": "stream",
     "text": [
      "Error fetching historical data for AQFH: No historical data found for ticker\n",
      "$SXL: possibly delisted; No price data found  (1d 2021-01-01 -> 2024-08-09)\n",
      "Error fetching historical data for SXL: No historical data found for ticker\n"
     ]
    },
    {
     "name": "stderr",
     "output_type": "stream",
     "text": [
      "$BABY: possibly delisted; No timezone found\n"
     ]
    },
    {
     "name": "stdout",
     "output_type": "stream",
     "text": [
      "Error fetching historical data for BABY: No historical data found for ticker\n",
      "Monthly data for FNMAJ saved successfully.\n",
      "Monthly data for XLI saved successfully.\n"
     ]
    },
    {
     "name": "stderr",
     "output_type": "stream",
     "text": [
      "$NEE.PC: possibly delisted; No timezone found\n"
     ]
    },
    {
     "name": "stdout",
     "output_type": "stream",
     "text": [
      "Error fetching historical data for NEE.PC: No historical data found for ticker\n",
      "Monthly data for NGD saved successfully.\n",
      "Monthly data for XLP saved successfully.\n"
     ]
    },
    {
     "name": "stderr",
     "output_type": "stream",
     "text": [
      "$WFT: possibly delisted; No timezone found\n"
     ]
    },
    {
     "name": "stdout",
     "output_type": "stream",
     "text": [
      "Error fetching historical data for WFT: No historical data found for ticker\n"
     ]
    },
    {
     "name": "stderr",
     "output_type": "stream",
     "text": [
      "$IMGN: possibly delisted; No timezone found\n",
      "$CLMS: possibly delisted; No price data found  (1d 2021-01-01 -> 2024-08-09)\n"
     ]
    },
    {
     "name": "stdout",
     "output_type": "stream",
     "text": [
      "Error fetching historical data for IMGN: No historical data found for ticker\n",
      "$CLMS: possibly delisted; No price data found  (1d 2021-01-01 -> 2024-08-09)\n",
      "Error fetching historical data for CLMS: No historical data found for ticker\n",
      "Monthly data for DBEF saved successfully.\n"
     ]
    },
    {
     "name": "stderr",
     "output_type": "stream",
     "text": [
      "$COG: possibly delisted; No timezone found\n"
     ]
    },
    {
     "name": "stdout",
     "output_type": "stream",
     "text": [
      "Error fetching historical data for COG: No historical data found for ticker\n"
     ]
    },
    {
     "name": "stderr",
     "output_type": "stream",
     "text": [
      "$PLM: possibly delisted; No timezone found\n"
     ]
    },
    {
     "name": "stdout",
     "output_type": "stream",
     "text": [
      "Error fetching historical data for PLM: No historical data found for ticker\n"
     ]
    },
    {
     "name": "stderr",
     "output_type": "stream",
     "text": [
      "$MGU: possibly delisted; No timezone found\n"
     ]
    },
    {
     "name": "stdout",
     "output_type": "stream",
     "text": [
      "Error fetching historical data for MGU: No historical data found for ticker\n",
      "Monthly data for REMX saved successfully.\n",
      "Monthly data for ASHS saved successfully.\n",
      "Monthly data for TRN saved successfully.\n",
      "Monthly data for SYNA saved successfully.\n"
     ]
    },
    {
     "name": "stderr",
     "output_type": "stream",
     "text": [
      "$ZNGA: possibly delisted; No timezone found\n",
      "$OLCB: possibly delisted; No price data found  (1d 2021-01-01 -> 2024-08-09)\n"
     ]
    },
    {
     "name": "stdout",
     "output_type": "stream",
     "text": [
      "Error fetching historical data for ZNGA: No historical data found for ticker\n",
      "$OLCB: possibly delisted; No price data found  (1d 2021-01-01 -> 2024-08-09)\n",
      "Error fetching historical data for OLCB: No historical data found for ticker\n",
      "Monthly data for IAI saved successfully.\n"
     ]
    },
    {
     "name": "stderr",
     "output_type": "stream",
     "text": [
      "$NSR: possibly delisted; No timezone found\n"
     ]
    },
    {
     "name": "stdout",
     "output_type": "stream",
     "text": [
      "Error fetching historical data for NSR: No historical data found for ticker\n",
      "Monthly data for ISDR saved successfully.\n",
      "Monthly data for MAXD saved successfully.\n",
      "Monthly data for AEXAY saved successfully.\n"
     ]
    },
    {
     "name": "stderr",
     "output_type": "stream",
     "text": [
      "$FGP: possibly delisted; No timezone found\n",
      "$IXYS: possibly delisted; No price data found  (1d 2021-01-01 -> 2024-08-09)\n",
      "$STRZA: possibly delisted; No price data found  (1d 2021-01-01 -> 2024-08-09)\n",
      "$HBHC: possibly delisted; No price data found  (1d 2021-01-01 -> 2024-08-09)\n"
     ]
    },
    {
     "name": "stdout",
     "output_type": "stream",
     "text": [
      "Error fetching historical data for FGP: No historical data found for ticker\n",
      "$IXYS: possibly delisted; No price data found  (1d 2021-01-01 -> 2024-08-09)\n",
      "Error fetching historical data for IXYS: No historical data found for ticker\n",
      "$STRZA: possibly delisted; No price data found  (1d 2021-01-01 -> 2024-08-09)\n",
      "Error fetching historical data for STRZA: No historical data found for ticker\n",
      "$HBHC: possibly delisted; No price data found  (1d 2021-01-01 -> 2024-08-09)\n",
      "Error fetching historical data for HBHC: No historical data found for ticker\n"
     ]
    },
    {
     "name": "stderr",
     "output_type": "stream",
     "text": [
      "$TGP: possibly delisted; No timezone found\n"
     ]
    },
    {
     "name": "stdout",
     "output_type": "stream",
     "text": [
      "Error fetching historical data for TGP: No historical data found for ticker\n",
      "Monthly data for TLN saved successfully.\n"
     ]
    },
    {
     "name": "stderr",
     "output_type": "stream",
     "text": [
      "$DRYS: possibly delisted; No timezone found\n",
      "$IM: possibly delisted; No price data found  (1d 2021-01-01 -> 2024-08-09)\n"
     ]
    },
    {
     "name": "stdout",
     "output_type": "stream",
     "text": [
      "Error fetching historical data for DRYS: No historical data found for ticker\n",
      "$IM: possibly delisted; No price data found  (1d 2021-01-01 -> 2024-08-09)\n",
      "Error fetching historical data for IM: No historical data found for ticker\n",
      "Monthly data for SBH saved successfully.\n"
     ]
    },
    {
     "name": "stderr",
     "output_type": "stream",
     "text": [
      "$NEE.PRI: possibly delisted; No timezone found\n"
     ]
    },
    {
     "name": "stdout",
     "output_type": "stream",
     "text": [
      "Error fetching historical data for NEE.PRI: No historical data found for ticker\n",
      "Monthly data for GDX saved successfully.\n",
      "Monthly data for MDU saved successfully.\n"
     ]
    },
    {
     "name": "stderr",
     "output_type": "stream",
     "text": [
      "$SCTY: possibly delisted; No timezone found\n"
     ]
    },
    {
     "name": "stdout",
     "output_type": "stream",
     "text": [
      "Error fetching historical data for SCTY: No historical data found for ticker\n",
      "Monthly data for ADNT saved successfully.\n"
     ]
    },
    {
     "name": "stderr",
     "output_type": "stream",
     "text": [
      "$JCP: possibly delisted; No timezone found\n",
      "$CAB: possibly delisted; No price data found  (1d 2021-01-01 -> 2024-08-09)\n"
     ]
    },
    {
     "name": "stdout",
     "output_type": "stream",
     "text": [
      "Error fetching historical data for JCP: No historical data found for ticker\n",
      "$CAB: possibly delisted; No price data found  (1d 2021-01-01 -> 2024-08-09)\n",
      "Error fetching historical data for CAB: No historical data found for ticker\n"
     ]
    },
    {
     "name": "stderr",
     "output_type": "stream",
     "text": [
      "$NHF: possibly delisted; No timezone found\n"
     ]
    },
    {
     "name": "stdout",
     "output_type": "stream",
     "text": [
      "Error fetching historical data for NHF: No historical data found for ticker\n"
     ]
    },
    {
     "name": "stderr",
     "output_type": "stream",
     "text": [
      "$DPM: possibly delisted; No timezone found\n"
     ]
    },
    {
     "name": "stdout",
     "output_type": "stream",
     "text": [
      "Error fetching historical data for DPM: No historical data found for ticker\n",
      "Monthly data for ASIX saved successfully.\n",
      "Monthly data for ANGO saved successfully.\n"
     ]
    },
    {
     "name": "stderr",
     "output_type": "stream",
     "text": [
      "$LEXEA: possibly delisted; No timezone found\n"
     ]
    },
    {
     "name": "stdout",
     "output_type": "stream",
     "text": [
      "Error fetching historical data for LEXEA: No historical data found for ticker\n"
     ]
    },
    {
     "name": "stderr",
     "output_type": "stream",
     "text": [
      "$BACWSA: possibly delisted; No timezone found\n",
      "$IQNT: possibly delisted; No price data found  (1d 2021-01-01 -> 2024-08-09)\n",
      "$ACE: possibly delisted; No price data found  (1d 2021-01-01 -> 2024-08-09)\n"
     ]
    },
    {
     "name": "stdout",
     "output_type": "stream",
     "text": [
      "Error fetching historical data for BACWSA: No historical data found for ticker\n",
      "$IQNT: possibly delisted; No price data found  (1d 2021-01-01 -> 2024-08-09)\n",
      "Error fetching historical data for IQNT: No historical data found for ticker\n",
      "$ACE: possibly delisted; No price data found  (1d 2021-01-01 -> 2024-08-09)\n",
      "Error fetching historical data for ACE: No historical data found for ticker\n"
     ]
    },
    {
     "name": "stderr",
     "output_type": "stream",
     "text": [
      "$SYRG: possibly delisted; No price data found  (1d 2021-01-01 -> 2024-08-09)\n"
     ]
    },
    {
     "name": "stdout",
     "output_type": "stream",
     "text": [
      "Monthly data for DLX saved successfully.\n",
      "$SYRG: possibly delisted; No price data found  (1d 2021-01-01 -> 2024-08-09)\n",
      "Error fetching historical data for SYRG: No historical data found for ticker\n",
      "Monthly data for COKE saved successfully.\n",
      "Monthly data for GPOR saved successfully.\n"
     ]
    },
    {
     "name": "stderr",
     "output_type": "stream",
     "text": [
      "$ENH: possibly delisted; No price data found  (1d 2021-01-01 -> 2024-08-09)\n",
      "$SNI: possibly delisted; No price data found  (1d 2021-01-01 -> 2024-08-09)\n"
     ]
    },
    {
     "name": "stdout",
     "output_type": "stream",
     "text": [
      "Monthly data for EBF saved successfully.\n",
      "$ENH: possibly delisted; No price data found  (1d 2021-01-01 -> 2024-08-09)\n",
      "Error fetching historical data for ENH: No historical data found for ticker\n",
      "$SNI: possibly delisted; No price data found  (1d 2021-01-01 -> 2024-08-09)\n",
      "Error fetching historical data for SNI: No historical data found for ticker\n"
     ]
    },
    {
     "name": "stderr",
     "output_type": "stream",
     "text": [
      "$UNRDY: possibly delisted; No timezone found\n"
     ]
    },
    {
     "name": "stdout",
     "output_type": "stream",
     "text": [
      "Error fetching historical data for UNRDY: No historical data found for ticker\n",
      "Monthly data for EGO saved successfully.\n"
     ]
    },
    {
     "name": "stderr",
     "output_type": "stream",
     "text": [
      "$HOT: possibly delisted; No price data found  (1d 2021-01-01 -> 2024-08-09)\n",
      "$BUNT: possibly delisted; No price data found  (1d 2021-01-01 -> 2024-08-09)\n"
     ]
    },
    {
     "name": "stdout",
     "output_type": "stream",
     "text": [
      "$HOT: possibly delisted; No price data found  (1d 2021-01-01 -> 2024-08-09)\n",
      "Error fetching historical data for HOT: No historical data found for ticker\n",
      "$BUNT: possibly delisted; No price data found  (1d 2021-01-01 -> 2024-08-09)\n",
      "Error fetching historical data for BUNT: No historical data found for ticker\n",
      "Monthly data for GRX saved successfully.\n",
      "Monthly data for CICHY saved successfully.\n",
      "Monthly data for KEP saved successfully.\n",
      "Monthly data for DIISY saved successfully.\n"
     ]
    },
    {
     "name": "stderr",
     "output_type": "stream",
     "text": [
      "$MDVN: possibly delisted; No price data found  (1d 2021-01-01 -> 2024-08-09)\n"
     ]
    },
    {
     "name": "stdout",
     "output_type": "stream",
     "text": [
      "Monthly data for GIL saved successfully.\n",
      "$MDVN: possibly delisted; No price data found  (1d 2021-01-01 -> 2024-08-09)\n",
      "Error fetching historical data for MDVN: No historical data found for ticker\n",
      "Monthly data for AMX saved successfully.\n",
      "Monthly data for OTEX saved successfully.\n",
      "Monthly data for TDHOY saved successfully.\n",
      "Monthly data for MATX saved successfully.\n"
     ]
    },
    {
     "name": "stderr",
     "output_type": "stream",
     "text": [
      "$TYC: possibly delisted; No price data found  (1d 2021-01-01 -> 2024-08-09)\n"
     ]
    },
    {
     "name": "stdout",
     "output_type": "stream",
     "text": [
      "Monthly data for EMC saved successfully.\n",
      "$TYC: possibly delisted; No price data found  (1d 2021-01-01 -> 2024-08-09)\n",
      "Error fetching historical data for TYC: No historical data found for ticker\n",
      "Monthly data for TSEM saved successfully.\n"
     ]
    },
    {
     "name": "stderr",
     "output_type": "stream",
     "text": [
      "$HYH: possibly delisted; No price data found  (1d 2021-01-01 -> 2024-08-09)\n"
     ]
    },
    {
     "name": "stdout",
     "output_type": "stream",
     "text": [
      "$HYH: possibly delisted; No price data found  (1d 2021-01-01 -> 2024-08-09)\n",
      "Error fetching historical data for HYH: No historical data found for ticker\n"
     ]
    },
    {
     "name": "stderr",
     "output_type": "stream",
     "text": [
      "$STON: possibly delisted; No timezone found\n",
      "$ELRC: possibly delisted; No price data found  (1d 2021-01-01 -> 2024-08-09)\n"
     ]
    },
    {
     "name": "stdout",
     "output_type": "stream",
     "text": [
      "Error fetching historical data for STON: No historical data found for ticker\n",
      "$ELRC: possibly delisted; No price data found  (1d 2021-01-01 -> 2024-08-09)\n",
      "Error fetching historical data for ELRC: No historical data found for ticker\n",
      "Monthly data for RGT saved successfully.\n",
      "Monthly data for YRD saved successfully.\n",
      "Monthly data for EUO saved successfully.\n",
      "Monthly data for MOAT saved successfully.\n",
      "Monthly data for MGRC saved successfully.\n",
      "Monthly data for SIMO saved successfully.\n"
     ]
    },
    {
     "name": "stderr",
     "output_type": "stream",
     "text": [
      "$QIHU: possibly delisted; No price data found  (1d 2021-01-01 -> 2024-08-09)\n",
      "$AXLL: possibly delisted; No price data found  (1d 2021-01-01 -> 2024-08-09)\n",
      "$MRKT: possibly delisted; No price data found  (1d 2021-01-01 -> 2024-08-09)\n"
     ]
    },
    {
     "name": "stdout",
     "output_type": "stream",
     "text": [
      "Monthly data for JACK saved successfully.\n",
      "$QIHU: possibly delisted; No price data found  (1d 2021-01-01 -> 2024-08-09)\n",
      "Error fetching historical data for QIHU: No historical data found for ticker\n",
      "$AXLL: possibly delisted; No price data found  (1d 2021-01-01 -> 2024-08-09)\n",
      "Error fetching historical data for AXLL: No historical data found for ticker\n",
      "$MRKT: possibly delisted; No price data found  (1d 2021-01-01 -> 2024-08-09)\n",
      "Error fetching historical data for MRKT: No historical data found for ticker\n",
      "Monthly data for BBU saved successfully.\n",
      "Monthly data for MMHIX saved successfully.\n",
      "Monthly data for LILA saved successfully.\n",
      "Monthly data for FXP saved successfully.\n"
     ]
    },
    {
     "name": "stderr",
     "output_type": "stream",
     "text": [
      "$TECO: possibly delisted; No timezone found\n",
      "$GAS: possibly delisted; No price data found  (1d 2021-01-01 -> 2024-08-09)\n"
     ]
    },
    {
     "name": "stdout",
     "output_type": "stream",
     "text": [
      "Error fetching historical data for TECO: No historical data found for ticker\n",
      "$GAS: possibly delisted; No price data found  (1d 2021-01-01 -> 2024-08-09)\n",
      "Error fetching historical data for GAS: No historical data found for ticker\n",
      "Monthly data for DWX saved successfully.\n",
      "Monthly data for PNPFF saved successfully.\n"
     ]
    },
    {
     "name": "stderr",
     "output_type": "stream",
     "text": [
      "$GG: possibly delisted; No timezone found\n",
      "$SLW: possibly delisted; No price data found  (1d 2021-01-01 -> 2024-08-09)\n"
     ]
    },
    {
     "name": "stdout",
     "output_type": "stream",
     "text": [
      "Error fetching historical data for GG: No historical data found for ticker\n",
      "$SLW: possibly delisted; No price data found  (1d 2021-01-01 -> 2024-08-09)\n",
      "Error fetching historical data for SLW: No historical data found for ticker\n",
      "Monthly data for AEM saved successfully.\n",
      "Monthly data for REE saved successfully.\n",
      "Monthly data for PAL saved successfully.\n"
     ]
    },
    {
     "name": "stderr",
     "output_type": "stream",
     "text": [
      "$PLGTF: possibly delisted; No timezone found\n"
     ]
    },
    {
     "name": "stdout",
     "output_type": "stream",
     "text": [
      "Error fetching historical data for PLGTF: No historical data found for ticker\n",
      "Monthly data for FCG saved successfully.\n",
      "Monthly data for KGC saved successfully.\n"
     ]
    },
    {
     "name": "stderr",
     "output_type": "stream",
     "text": [
      "$UA.C: possibly delisted; No timezone found\n",
      "$CPGX: possibly delisted; No price data found  (1d 2021-01-01 -> 2024-08-09)\n",
      "$BURFX: possibly delisted; No price data found  (1d 2021-01-01 -> 2024-08-09)\n"
     ]
    },
    {
     "name": "stdout",
     "output_type": "stream",
     "text": [
      "Error fetching historical data for UA.C: No historical data found for ticker\n",
      "$CPGX: possibly delisted; No price data found  (1d 2021-01-01 -> 2024-08-09)\n",
      "Error fetching historical data for CPGX: No historical data found for ticker\n",
      "$BURFX: possibly delisted; No price data found  (1d 2021-01-01 -> 2024-08-09)\n",
      "Error fetching historical data for BURFX: No historical data found for ticker\n"
     ]
    },
    {
     "name": "stderr",
     "output_type": "stream",
     "text": [
      "$MON: possibly delisted; No timezone found\n",
      "$DTO: possibly delisted; No price data found  (1d 2021-01-01 -> 2024-08-09)\n"
     ]
    },
    {
     "name": "stdout",
     "output_type": "stream",
     "text": [
      "Error fetching historical data for MON: No historical data found for ticker\n",
      "$DTO: possibly delisted; No price data found  (1d 2021-01-01 -> 2024-08-09)\n",
      "Error fetching historical data for DTO: No historical data found for ticker\n",
      "Monthly data for PAY saved successfully.\n"
     ]
    },
    {
     "name": "stderr",
     "output_type": "stream",
     "text": [
      "$LNCE: possibly delisted; No price data found  (1d 2021-01-01 -> 2024-08-09)\n"
     ]
    },
    {
     "name": "stdout",
     "output_type": "stream",
     "text": [
      "$LNCE: possibly delisted; No price data found  (1d 2021-01-01 -> 2024-08-09)\n",
      "Error fetching historical data for LNCE: No historical data found for ticker\n"
     ]
    },
    {
     "name": "stderr",
     "output_type": "stream",
     "text": [
      "$3305779: possibly delisted; No timezone found\n",
      "$CAFD: possibly delisted; No price data found  (1d 2021-01-01 -> 2024-08-09)\n"
     ]
    },
    {
     "name": "stdout",
     "output_type": "stream",
     "text": [
      "Error fetching historical data for 3305779: No historical data found for ticker\n",
      "$CAFD: possibly delisted; No price data found  (1d 2021-01-01 -> 2024-08-09)\n",
      "Error fetching historical data for CAFD: No historical data found for ticker\n",
      "Monthly data for MBLY saved successfully.\n"
     ]
    },
    {
     "name": "stderr",
     "output_type": "stream",
     "text": [
      "$4824778: possibly delisted; No timezone found\n"
     ]
    },
    {
     "name": "stdout",
     "output_type": "stream",
     "text": [
      "Error fetching historical data for 4824778: No historical data found for ticker\n",
      "Monthly data for RELY saved successfully.\n"
     ]
    },
    {
     "name": "stderr",
     "output_type": "stream",
     "text": [
      "$6897143: possibly delisted; No timezone found\n",
      "$BIOA: possibly delisted; No price data found  (1d 2021-01-01 -> 2024-08-09)\n"
     ]
    },
    {
     "name": "stdout",
     "output_type": "stream",
     "text": [
      "Error fetching historical data for 6897143: No historical data found for ticker\n",
      "$BIOA: possibly delisted; No price data found  (1d 2021-01-01 -> 2024-08-09)\n",
      "Error fetching historical data for BIOA: No historical data found for ticker\n",
      "Monthly data for ITRI saved successfully.\n"
     ]
    },
    {
     "name": "stderr",
     "output_type": "stream",
     "text": [
      "$B13WZ26: possibly delisted; No timezone found\n"
     ]
    },
    {
     "name": "stdout",
     "output_type": "stream",
     "text": [
      "Error fetching historical data for B13WZ26: No historical data found for ticker\n"
     ]
    },
    {
     "name": "stderr",
     "output_type": "stream",
     "text": [
      "$BLM7FC2: possibly delisted; No timezone found\n"
     ]
    },
    {
     "name": "stdout",
     "output_type": "stream",
     "text": [
      "Error fetching historical data for BLM7FC2: No historical data found for ticker\n"
     ]
    },
    {
     "name": "stderr",
     "output_type": "stream",
     "text": [
      "$RAVN: possibly delisted; No timezone found\n"
     ]
    },
    {
     "name": "stdout",
     "output_type": "stream",
     "text": [
      "Error fetching historical data for RAVN: No historical data found for ticker\n"
     ]
    },
    {
     "name": "stderr",
     "output_type": "stream",
     "text": [
      "$5522714: possibly delisted; No timezone found\n"
     ]
    },
    {
     "name": "stdout",
     "output_type": "stream",
     "text": [
      "Error fetching historical data for 5522714: No historical data found for ticker\n"
     ]
    },
    {
     "name": "stderr",
     "output_type": "stream",
     "text": [
      "$4491235: possibly delisted; No timezone found\n",
      "$FLTX: possibly delisted; No price data found  (1d 2021-01-01 -> 2024-08-09)\n"
     ]
    },
    {
     "name": "stdout",
     "output_type": "stream",
     "text": [
      "Error fetching historical data for 4491235: No historical data found for ticker\n",
      "$FLTX: possibly delisted; No price data found  (1d 2021-01-01 -> 2024-08-09)\n",
      "Error fetching historical data for FLTX: No historical data found for ticker\n"
     ]
    },
    {
     "name": "stderr",
     "output_type": "stream",
     "text": [
      "$MXWL: possibly delisted; No timezone found\n",
      "$SSNI: possibly delisted; No price data found  (1d 2021-01-01 -> 2024-08-09)\n"
     ]
    },
    {
     "name": "stdout",
     "output_type": "stream",
     "text": [
      "Error fetching historical data for MXWL: No historical data found for ticker\n",
      "$SSNI: possibly delisted; No price data found  (1d 2021-01-01 -> 2024-08-09)\n",
      "Error fetching historical data for SSNI: No historical data found for ticker\n"
     ]
    },
    {
     "name": "stderr",
     "output_type": "stream",
     "text": [
      "$B1W8P14: possibly delisted; No timezone found\n",
      "$BXLT: possibly delisted; No price data found  (1d 2021-01-01 -> 2024-08-09)\n"
     ]
    },
    {
     "name": "stdout",
     "output_type": "stream",
     "text": [
      "Error fetching historical data for B1W8P14: No historical data found for ticker\n",
      "$BXLT: possibly delisted; No price data found  (1d 2021-01-01 -> 2024-08-09)\n",
      "Error fetching historical data for BXLT: No historical data found for ticker\n",
      "Monthly data for NGVT saved successfully.\n"
     ]
    },
    {
     "name": "stderr",
     "output_type": "stream",
     "text": [
      "$BIN: possibly delisted; No price data found  (1d 2021-01-01 -> 2024-08-09)\n"
     ]
    },
    {
     "name": "stdout",
     "output_type": "stream",
     "text": [
      "$BIN: possibly delisted; No price data found  (1d 2021-01-01 -> 2024-08-09)\n",
      "Error fetching historical data for BIN: No historical data found for ticker\n",
      "Monthly data for FDM saved successfully.\n"
     ]
    },
    {
     "name": "stderr",
     "output_type": "stream",
     "text": [
      "$IRLBF: possibly delisted; No price data found  (1d 2021-01-01 -> 2024-08-09)\n",
      "$ARG: possibly delisted; No price data found  (1d 2021-01-01 -> 2024-08-09)\n"
     ]
    },
    {
     "name": "stdout",
     "output_type": "stream",
     "text": [
      "$IRLBF: possibly delisted; No price data found  (1d 2021-01-01 -> 2024-08-09)\n",
      "Error fetching historical data for IRLBF: No historical data found for ticker\n",
      "$ARG: possibly delisted; No price data found  (1d 2021-01-01 -> 2024-08-09)\n",
      "Error fetching historical data for ARG: No historical data found for ticker\n",
      "Monthly data for OIL saved successfully.\n",
      "Monthly data for PKW saved successfully.\n",
      "Monthly data for WOR saved successfully.\n"
     ]
    },
    {
     "name": "stderr",
     "output_type": "stream",
     "text": [
      "$NRF: possibly delisted; No price data found  (1d 2021-01-01 -> 2024-08-09)\n"
     ]
    },
    {
     "name": "stdout",
     "output_type": "stream",
     "text": [
      "$NRF: possibly delisted; No price data found  (1d 2021-01-01 -> 2024-08-09)\n",
      "Error fetching historical data for NRF: No historical data found for ticker\n"
     ]
    },
    {
     "name": "stderr",
     "output_type": "stream",
     "text": [
      "$NRE: possibly delisted; No timezone found\n",
      "$TWC: possibly delisted; No price data found  (1d 2021-01-01 -> 2024-08-09)\n",
      "$KKD: possibly delisted; No price data found  (1d 2021-01-01 -> 2024-08-09)\n"
     ]
    },
    {
     "name": "stdout",
     "output_type": "stream",
     "text": [
      "Error fetching historical data for NRE: No historical data found for ticker\n",
      "$TWC: possibly delisted; No price data found  (1d 2021-01-01 -> 2024-08-09)\n",
      "Error fetching historical data for TWC: No historical data found for ticker\n",
      "$KKD: possibly delisted; No price data found  (1d 2021-01-01 -> 2024-08-09)\n",
      "Error fetching historical data for KKD: No historical data found for ticker\n",
      "Monthly data for SYT saved successfully.\n",
      "Monthly data for MYRG saved successfully.\n"
     ]
    },
    {
     "name": "stderr",
     "output_type": "stream",
     "text": [
      "$SNDK: possibly delisted; No price data found  (1d 2021-01-01 -> 2024-08-09)\n"
     ]
    },
    {
     "name": "stdout",
     "output_type": "stream",
     "text": [
      "$SNDK: possibly delisted; No price data found  (1d 2021-01-01 -> 2024-08-09)\n",
      "Error fetching historical data for SNDK: No historical data found for ticker\n",
      "Monthly data for SYY.SG saved successfully.\n"
     ]
    },
    {
     "name": "stderr",
     "output_type": "stream",
     "text": [
      "$TCAP: possibly delisted; No price data found  (1d 2021-01-01 -> 2024-08-09)\n",
      "$STJ: possibly delisted; No price data found  (1d 2021-01-01 -> 2024-08-09)\n"
     ]
    },
    {
     "name": "stdout",
     "output_type": "stream",
     "text": [
      "$TCAP: possibly delisted; No price data found  (1d 2021-01-01 -> 2024-08-09)\n",
      "Error fetching historical data for TCAP: No historical data found for ticker\n",
      "$STJ: possibly delisted; No price data found  (1d 2021-01-01 -> 2024-08-09)\n",
      "Error fetching historical data for STJ: No historical data found for ticker\n"
     ]
    },
    {
     "name": "stderr",
     "output_type": "stream",
     "text": [
      "$XER.BE: possibly delisted; No timezone found\n",
      "$AIRM: possibly delisted; No price data found  (1d 2021-01-01 -> 2024-08-09)\n"
     ]
    },
    {
     "name": "stdout",
     "output_type": "stream",
     "text": [
      "Error fetching historical data for XER.BE: No historical data found for ticker\n",
      "$AIRM: possibly delisted; No price data found  (1d 2021-01-01 -> 2024-08-09)\n",
      "Error fetching historical data for AIRM: No historical data found for ticker\n",
      "Monthly data for IRET saved successfully.\n"
     ]
    },
    {
     "name": "stderr",
     "output_type": "stream",
     "text": [
      "$2: possibly delisted; No timezone found\n"
     ]
    },
    {
     "name": "stdout",
     "output_type": "stream",
     "text": [
      "Error fetching historical data for 2: No historical data found for ticker\n"
     ]
    },
    {
     "name": "stderr",
     "output_type": "stream",
     "text": [
      "$SSW: possibly delisted; No timezone found\n",
      "$BKJAY: possibly delisted; No price data found  (1d 2021-01-01 -> 2024-08-09)\n"
     ]
    },
    {
     "name": "stdout",
     "output_type": "stream",
     "text": [
      "Error fetching historical data for SSW: No historical data found for ticker\n",
      "$BKJAY: possibly delisted; No price data found  (1d 2021-01-01 -> 2024-08-09)\n",
      "Error fetching historical data for BKJAY: No historical data found for ticker\n",
      "Monthly data for WMFFX saved successfully.\n"
     ]
    },
    {
     "name": "stderr",
     "output_type": "stream",
     "text": [
      "$WAK: possibly delisted; No price data found  (1d 2021-01-01 -> 2024-08-09)\n",
      "$LMCA: possibly delisted; No price data found  (1d 2021-01-01 -> 2024-08-09)\n"
     ]
    },
    {
     "name": "stdout",
     "output_type": "stream",
     "text": [
      "$WAK: possibly delisted; No price data found  (1d 2021-01-01 -> 2024-08-09)\n",
      "Error fetching historical data for WAK: No historical data found for ticker\n",
      "$LMCA: possibly delisted; No price data found  (1d 2021-01-01 -> 2024-08-09)\n",
      "Error fetching historical data for LMCA: No historical data found for ticker\n"
     ]
    },
    {
     "name": "stderr",
     "output_type": "stream",
     "text": [
      "$LMCK: possibly delisted; No timezone found\n"
     ]
    },
    {
     "name": "stdout",
     "output_type": "stream",
     "text": [
      "Error fetching historical data for LMCK: No historical data found for ticker\n",
      "Monthly data for ADT saved successfully.\n"
     ]
    },
    {
     "name": "stderr",
     "output_type": "stream",
     "text": [
      "$OAS: possibly delisted; No timezone found\n"
     ]
    },
    {
     "name": "stdout",
     "output_type": "stream",
     "text": [
      "Error fetching historical data for OAS: No historical data found for ticker\n",
      "Monthly data for LAZ saved successfully.\n"
     ]
    },
    {
     "name": "stderr",
     "output_type": "stream",
     "text": [
      "$DNO: possibly delisted; No price data found  (1d 2021-01-01 -> 2024-08-09)\n"
     ]
    },
    {
     "name": "stdout",
     "output_type": "stream",
     "text": [
      "$DNO: possibly delisted; No price data found  (1d 2021-01-01 -> 2024-08-09)\n",
      "Error fetching historical data for DNO: No historical data found for ticker\n",
      "Monthly data for YACKX saved successfully.\n",
      "Monthly data for JBLU saved successfully.\n",
      "Monthly data for SRI saved successfully.\n",
      "Monthly data for FXH saved successfully.\n"
     ]
    },
    {
     "name": "stderr",
     "output_type": "stream",
     "text": [
      "$P: possibly delisted; No price data found  (1d 2021-01-01 -> 2024-08-09)\n"
     ]
    },
    {
     "name": "stdout",
     "output_type": "stream",
     "text": [
      "Monthly data for FXN saved successfully.\n",
      "Monthly data for HYG saved successfully.\n",
      "$P: possibly delisted; No price data found  (1d 2021-01-01 -> 2024-08-09)\n",
      "Error fetching historical data for P: No historical data found for ticker\n"
     ]
    },
    {
     "name": "stderr",
     "output_type": "stream",
     "text": [
      "Failed to get ticker 'DUE 12/01/29' reason: Expecting value: line 1 column 1 (char 0)\n",
      "$DUE 12/01/29: possibly delisted; No timezone found\n"
     ]
    },
    {
     "name": "stdout",
     "output_type": "stream",
     "text": [
      "Error fetching historical data for DUE 12/01/29: No historical data found for ticker\n"
     ]
    },
    {
     "name": "stderr",
     "output_type": "stream",
     "text": [
      "Failed to get ticker 'DUE 07/01/25' reason: Expecting value: line 1 column 1 (char 0)\n",
      "$DUE 07/01/25: possibly delisted; No timezone found\n"
     ]
    },
    {
     "name": "stdout",
     "output_type": "stream",
     "text": [
      "Error fetching historical data for DUE 07/01/25: No historical data found for ticker\n"
     ]
    },
    {
     "name": "stderr",
     "output_type": "stream",
     "text": [
      "$NCR: possibly delisted; No timezone found\n"
     ]
    },
    {
     "name": "stdout",
     "output_type": "stream",
     "text": [
      "Error fetching historical data for NCR: No historical data found for ticker\n",
      "Monthly data for FLWS saved successfully.\n"
     ]
    },
    {
     "name": "stderr",
     "output_type": "stream",
     "text": [
      "$PHH: possibly delisted; No price data found  (1d 2021-01-01 -> 2024-08-09)\n"
     ]
    },
    {
     "name": "stdout",
     "output_type": "stream",
     "text": [
      "$PHH: possibly delisted; No price data found  (1d 2021-01-01 -> 2024-08-09)\n",
      "Error fetching historical data for PHH: No historical data found for ticker\n"
     ]
    },
    {
     "name": "stderr",
     "output_type": "stream",
     "text": [
      "$SHOS: possibly delisted; No timezone found\n",
      "$SNMX: possibly delisted; No price data found  (1d 2021-01-01 -> 2024-08-09)\n",
      "$SUNE: possibly delisted; No price data found  (1d 2021-01-01 -> 2024-08-09)\n",
      "$LUK: possibly delisted; No price data found  (1d 2021-01-01 -> 2024-08-09)\n"
     ]
    },
    {
     "name": "stdout",
     "output_type": "stream",
     "text": [
      "Error fetching historical data for SHOS: No historical data found for ticker\n",
      "$SNMX: possibly delisted; No price data found  (1d 2021-01-01 -> 2024-08-09)\n",
      "Error fetching historical data for SNMX: No historical data found for ticker\n",
      "$SUNE: possibly delisted; No price data found  (1d 2021-01-01 -> 2024-08-09)\n",
      "Error fetching historical data for SUNE: No historical data found for ticker\n",
      "$LUK: possibly delisted; No price data found  (1d 2021-01-01 -> 2024-08-09)\n",
      "Error fetching historical data for LUK: No historical data found for ticker\n",
      "Monthly data for CWGL saved successfully.\n",
      "Monthly data for VXUS saved successfully.\n",
      "Monthly data for MGK saved successfully.\n",
      "Monthly data for XLK saved successfully.\n"
     ]
    },
    {
     "name": "stderr",
     "output_type": "stream",
     "text": [
      "$ADT.F: possibly delisted; No timezone found\n"
     ]
    },
    {
     "name": "stdout",
     "output_type": "stream",
     "text": [
      "Error fetching historical data for ADT.F: No historical data found for ticker\n",
      "Monthly data for VILLX saved successfully.\n",
      "Monthly data for FBT saved successfully.\n"
     ]
    },
    {
     "name": "stderr",
     "output_type": "stream",
     "text": [
      "$FBHS: possibly delisted; No timezone found\n"
     ]
    },
    {
     "name": "stdout",
     "output_type": "stream",
     "text": [
      "Error fetching historical data for FBHS: No historical data found for ticker\n"
     ]
    },
    {
     "name": "stderr",
     "output_type": "stream",
     "text": [
      "$FTD: possibly delisted; No timezone found\n",
      "$FCS: possibly delisted; No price data found  (1d 2021-01-01 -> 2024-08-09)\n",
      "$PCP: possibly delisted; No price data found  (1d 2021-01-01 -> 2024-08-09)\n"
     ]
    },
    {
     "name": "stdout",
     "output_type": "stream",
     "text": [
      "Error fetching historical data for FTD: No historical data found for ticker\n",
      "$FCS: possibly delisted; No price data found  (1d 2021-01-01 -> 2024-08-09)\n",
      "Error fetching historical data for FCS: No historical data found for ticker\n",
      "$PCP: possibly delisted; No price data found  (1d 2021-01-01 -> 2024-08-09)\n",
      "Error fetching historical data for PCP: No historical data found for ticker\n",
      "Monthly data for BLMN saved successfully.\n",
      "Monthly data for MEG saved successfully.\n",
      "Monthly data for HI saved successfully.\n",
      "Monthly data for FOR saved successfully.\n"
     ]
    },
    {
     "name": "stderr",
     "output_type": "stream",
     "text": [
      "$FMER: possibly delisted; No price data found  (1d 2021-01-01 -> 2024-08-09)\n"
     ]
    },
    {
     "name": "stdout",
     "output_type": "stream",
     "text": [
      "Monthly data for NPO saved successfully.\n",
      "$FMER: possibly delisted; No price data found  (1d 2021-01-01 -> 2024-08-09)\n",
      "Error fetching historical data for FMER: No historical data found for ticker\n",
      "Monthly data for CMC saved successfully.\n",
      "Monthly data for AXL saved successfully.\n",
      "Monthly data for KALU saved successfully.\n",
      "Monthly data for ESE saved successfully.\n",
      "Monthly data for XHR saved successfully.\n"
     ]
    },
    {
     "name": "stderr",
     "output_type": "stream",
     "text": [
      "$GWR: possibly delisted; No timezone found\n"
     ]
    },
    {
     "name": "stdout",
     "output_type": "stream",
     "text": [
      "Error fetching historical data for GWR: No historical data found for ticker\n",
      "Monthly data for TIME saved successfully.\n"
     ]
    },
    {
     "name": "stderr",
     "output_type": "stream",
     "text": [
      "$LTXB: possibly delisted; No timezone found\n"
     ]
    },
    {
     "name": "stdout",
     "output_type": "stream",
     "text": [
      "Error fetching historical data for LTXB: No historical data found for ticker\n"
     ]
    },
    {
     "name": "stderr",
     "output_type": "stream",
     "text": [
      "$CHMT: possibly delisted; No timezone found\n"
     ]
    },
    {
     "name": "stdout",
     "output_type": "stream",
     "text": [
      "Error fetching historical data for CHMT: No historical data found for ticker\n",
      "Monthly data for PAG saved successfully.\n",
      "Monthly data for SXT saved successfully.\n"
     ]
    },
    {
     "name": "stderr",
     "output_type": "stream",
     "text": [
      "$SJI: possibly delisted; No timezone found\n"
     ]
    },
    {
     "name": "stdout",
     "output_type": "stream",
     "text": [
      "Error fetching historical data for SJI: No historical data found for ticker\n"
     ]
    },
    {
     "name": "stderr",
     "output_type": "stream",
     "text": [
      "$AEL: possibly delisted; No timezone found\n"
     ]
    },
    {
     "name": "stdout",
     "output_type": "stream",
     "text": [
      "Error fetching historical data for AEL: No historical data found for ticker\n",
      "Monthly data for SIG saved successfully.\n",
      "Monthly data for VSTO saved successfully.\n",
      "Monthly data for SSP saved successfully.\n"
     ]
    },
    {
     "name": "stderr",
     "output_type": "stream",
     "text": [
      "$UBSH: possibly delisted; No timezone found\n"
     ]
    },
    {
     "name": "stdout",
     "output_type": "stream",
     "text": [
      "Error fetching historical data for UBSH: No historical data found for ticker\n",
      "Monthly data for KRNY saved successfully.\n"
     ]
    },
    {
     "name": "stderr",
     "output_type": "stream",
     "text": [
      "$HMHC: possibly delisted; No timezone found\n"
     ]
    },
    {
     "name": "stdout",
     "output_type": "stream",
     "text": [
      "Error fetching historical data for HMHC: No historical data found for ticker\n"
     ]
    },
    {
     "name": "stderr",
     "output_type": "stream",
     "text": [
      "$ALR: possibly delisted; No timezone found\n"
     ]
    },
    {
     "name": "stdout",
     "output_type": "stream",
     "text": [
      "Error fetching historical data for ALR: No historical data found for ticker\n"
     ]
    },
    {
     "name": "stderr",
     "output_type": "stream",
     "text": [
      "$MITL: possibly delisted; No price data found  (1d 2021-01-01 -> 2024-08-09)\n"
     ]
    },
    {
     "name": "stdout",
     "output_type": "stream",
     "text": [
      "Monthly data for WTFC saved successfully.\n",
      "$MITL: possibly delisted; No price data found  (1d 2021-01-01 -> 2024-08-09)\n",
      "Error fetching historical data for MITL: No historical data found for ticker\n",
      "Monthly data for VXF saved successfully.\n",
      "Monthly data for RWL saved successfully.\n",
      "Monthly data for HYI saved successfully.\n",
      "Monthly data for TDIV saved successfully.\n",
      "Monthly data for DTN saved successfully.\n",
      "Monthly data for TBF saved successfully.\n"
     ]
    },
    {
     "name": "stderr",
     "output_type": "stream",
     "text": [
      "$NASDAQ:WLTW: possibly delisted; No timezone found\n"
     ]
    },
    {
     "name": "stdout",
     "output_type": "stream",
     "text": [
      "Error fetching historical data for NASDAQ:WLTW: No historical data found for ticker\n",
      "Monthly data for CNRAF saved successfully.\n"
     ]
    },
    {
     "name": "stderr",
     "output_type": "stream",
     "text": [
      "$UBNK: possibly delisted; No timezone found\n"
     ]
    },
    {
     "name": "stdout",
     "output_type": "stream",
     "text": [
      "Error fetching historical data for UBNK: No historical data found for ticker\n"
     ]
    },
    {
     "name": "stderr",
     "output_type": "stream",
     "text": [
      "$RPXC: possibly delisted; No timezone found\n"
     ]
    },
    {
     "name": "stdout",
     "output_type": "stream",
     "text": [
      "Error fetching historical data for RPXC: No historical data found for ticker\n"
     ]
    },
    {
     "name": "stderr",
     "output_type": "stream",
     "text": [
      "$B923935: possibly delisted; No timezone found\n"
     ]
    },
    {
     "name": "stdout",
     "output_type": "stream",
     "text": [
      "Error fetching historical data for B923935: No historical data found for ticker\n"
     ]
    },
    {
     "name": "stderr",
     "output_type": "stream",
     "text": [
      "$BOT4J94: possibly delisted; No timezone found\n"
     ]
    },
    {
     "name": "stdout",
     "output_type": "stream",
     "text": [
      "Error fetching historical data for BOT4J94: No historical data found for ticker\n"
     ]
    },
    {
     "name": "stderr",
     "output_type": "stream",
     "text": [
      "$SPY160219P00180000: possibly delisted; No timezone found\n"
     ]
    },
    {
     "name": "stdout",
     "output_type": "stream",
     "text": [
      "Error fetching historical data for SPY160219P00180000: No historical data found for ticker\n",
      "Monthly data for RDIV saved successfully.\n",
      "Monthly data for AEX.MU saved successfully.\n"
     ]
    },
    {
     "name": "stderr",
     "output_type": "stream",
     "text": [
      "$DWTI: possibly delisted; No timezone found\n",
      "$RRMS: possibly delisted; No price data found  (1d 2021-01-01 -> 2024-08-09)\n"
     ]
    },
    {
     "name": "stdout",
     "output_type": "stream",
     "text": [
      "Error fetching historical data for DWTI: No historical data found for ticker\n",
      "Monthly data for TW saved successfully.\n",
      "$RRMS: possibly delisted; No price data found  (1d 2021-01-01 -> 2024-08-09)\n",
      "Error fetching historical data for RRMS: No historical data found for ticker\n"
     ]
    },
    {
     "name": "stderr",
     "output_type": "stream",
     "text": [
      "$XPOI: possibly delisted; No price data found  (1d 2021-01-01 -> 2024-08-09)\n",
      "$TCB: possibly delisted; No price data found  (1d 2021-01-01 -> 2024-08-09)\n"
     ]
    },
    {
     "name": "stdout",
     "output_type": "stream",
     "text": [
      "$XPOI: possibly delisted; No price data found  (1d 2021-01-01 -> 2024-08-09)\n",
      "Error fetching historical data for XPOI: No historical data found for ticker\n",
      "$TCB: possibly delisted; No price data found  (1d 2021-01-01 -> 2024-08-09)\n",
      "Error fetching historical data for TCB: No historical data found for ticker\n"
     ]
    },
    {
     "name": "stderr",
     "output_type": "stream",
     "text": [
      "$BCEI: possibly delisted; No timezone found\n"
     ]
    },
    {
     "name": "stdout",
     "output_type": "stream",
     "text": [
      "Error fetching historical data for BCEI: No historical data found for ticker\n"
     ]
    },
    {
     "name": "stderr",
     "output_type": "stream",
     "text": [
      "$DSW: possibly delisted; No timezone found\n"
     ]
    },
    {
     "name": "stdout",
     "output_type": "stream",
     "text": [
      "Error fetching historical data for DSW: No historical data found for ticker\n",
      "Monthly data for ASH saved successfully.\n",
      "Monthly data for TK saved successfully.\n",
      "Monthly data for WSHFX saved successfully.\n",
      "Monthly data for TCIEX saved successfully.\n",
      "Monthly data for DVFAX saved successfully.\n",
      "Monthly data for QCGLIX saved successfully.\n",
      "Monthly data for QCSTIX saved successfully.\n",
      "Monthly data for TILVX saved successfully.\n",
      "Monthly data for QREARX saved successfully.\n",
      "Monthly data for TIMVX saved successfully.\n",
      "Monthly data for TISBX saved successfully.\n",
      "Monthly data for TCOIX saved successfully.\n",
      "Monthly data for QCGRIX saved successfully.\n",
      "Monthly data for HTLF saved successfully.\n"
     ]
    },
    {
     "name": "stderr",
     "output_type": "stream",
     "text": [
      "$MWE: possibly delisted; No price data found  (1d 2021-01-01 -> 2024-08-09)\n",
      "^MWE: Period '1mo' is invalid, must be one of ['1d', '5d']\n"
     ]
    },
    {
     "name": "stdout",
     "output_type": "stream",
     "text": [
      "$MWE: possibly delisted; No price data found  (1d 2021-01-01 -> 2024-08-09)\n",
      "Error fetching historical data for MWE: No historical data found for ticker\n",
      "Error fetching historical data for ^MWE: No historical data found for ticker\n",
      "Monthly data for NE saved successfully.\n",
      "Monthly data for HIX saved successfully.\n"
     ]
    },
    {
     "name": "stderr",
     "output_type": "stream",
     "text": [
      "$MIXT: possibly delisted; No timezone found\n",
      "$GMCR: possibly delisted; No price data found  (1d 2021-01-01 -> 2024-08-09)\n"
     ]
    },
    {
     "name": "stdout",
     "output_type": "stream",
     "text": [
      "Error fetching historical data for MIXT: No historical data found for ticker\n",
      "$GMCR: possibly delisted; No price data found  (1d 2021-01-01 -> 2024-08-09)\n",
      "Error fetching historical data for GMCR: No historical data found for ticker\n"
     ]
    },
    {
     "name": "stderr",
     "output_type": "stream",
     "text": [
      "$TOO: possibly delisted; No timezone found\n"
     ]
    },
    {
     "name": "stdout",
     "output_type": "stream",
     "text": [
      "Error fetching historical data for TOO: No historical data found for ticker\n"
     ]
    },
    {
     "name": "stderr",
     "output_type": "stream",
     "text": [
      "$B1WSP14: possibly delisted; No timezone found\n"
     ]
    },
    {
     "name": "stdout",
     "output_type": "stream",
     "text": [
      "Error fetching historical data for B1WSP14: No historical data found for ticker\n",
      "Monthly data for FSTR saved successfully.\n"
     ]
    },
    {
     "name": "stderr",
     "output_type": "stream",
     "text": [
      "$HSC: possibly delisted; No timezone found\n",
      "$CVSL: possibly delisted; No price data found  (1d 2021-01-01 -> 2024-08-09)\n",
      "$HCBK: possibly delisted; No price data found  (1d 2021-01-01 -> 2024-08-09)\n"
     ]
    },
    {
     "name": "stdout",
     "output_type": "stream",
     "text": [
      "Error fetching historical data for HSC: No historical data found for ticker\n",
      "$CVSL: possibly delisted; No price data found  (1d 2021-01-01 -> 2024-08-09)\n",
      "Error fetching historical data for CVSL: No historical data found for ticker\n",
      "$HCBK: possibly delisted; No price data found  (1d 2021-01-01 -> 2024-08-09)\n",
      "Error fetching historical data for HCBK: No historical data found for ticker\n"
     ]
    },
    {
     "name": "stderr",
     "output_type": "stream",
     "text": [
      "$DEL: possibly delisted; No price data found  (1d 2021-01-01 -> 2024-08-09)\n"
     ]
    },
    {
     "name": "stdout",
     "output_type": "stream",
     "text": [
      "Monthly data for ARCO saved successfully.\n",
      "$DEL: possibly delisted; No price data found  (1d 2021-01-01 -> 2024-08-09)\n",
      "Error fetching historical data for DEL: No historical data found for ticker\n"
     ]
    },
    {
     "name": "stderr",
     "output_type": "stream",
     "text": [
      "$ARMH: possibly delisted; No price data found  (1d 2021-01-01 -> 2024-08-09)\n",
      "$CPPL: possibly delisted; No price data found  (1d 2021-01-01 -> 2024-08-09)\n"
     ]
    },
    {
     "name": "stdout",
     "output_type": "stream",
     "text": [
      "Monthly data for IYLD saved successfully.\n",
      "$ARMH: possibly delisted; No price data found  (1d 2021-01-01 -> 2024-08-09)\n",
      "Error fetching historical data for ARMH: No historical data found for ticker\n",
      "$CPPL: possibly delisted; No price data found  (1d 2021-01-01 -> 2024-08-09)\n",
      "Error fetching historical data for CPPL: No historical data found for ticker\n"
     ]
    },
    {
     "name": "stderr",
     "output_type": "stream",
     "text": [
      "$LNKD: possibly delisted; No price data found  (1d 2021-01-01 -> 2024-08-09)\n",
      "$VRX: possibly delisted; No price data found  (1d 2021-01-01 -> 2024-08-09)\n",
      "$CMLP: possibly delisted; No price data found  (1d 2021-01-01 -> 2024-08-09)\n"
     ]
    },
    {
     "name": "stdout",
     "output_type": "stream",
     "text": [
      "Monthly data for CGO saved successfully.\n",
      "$LNKD: possibly delisted; No price data found  (1d 2021-01-01 -> 2024-08-09)\n",
      "Error fetching historical data for LNKD: No historical data found for ticker\n",
      "$VRX: possibly delisted; No price data found  (1d 2021-01-01 -> 2024-08-09)\n",
      "Error fetching historical data for VRX: No historical data found for ticker\n",
      "$CMLP: possibly delisted; No price data found  (1d 2021-01-01 -> 2024-08-09)\n",
      "Error fetching historical data for CMLP: No historical data found for ticker\n"
     ]
    },
    {
     "name": "stderr",
     "output_type": "stream",
     "text": [
      "$FTBXL: possibly delisted; No timezone found\n"
     ]
    },
    {
     "name": "stdout",
     "output_type": "stream",
     "text": [
      "Error fetching historical data for FTBXL: No historical data found for ticker\n",
      "Monthly data for ATAZF saved successfully.\n",
      "Monthly data for HEDJ saved successfully.\n",
      "Monthly data for RDVY saved successfully.\n"
     ]
    },
    {
     "name": "stderr",
     "output_type": "stream",
     "text": [
      "$CVC: possibly delisted; No price data found  (1d 2021-01-01 -> 2024-08-09)\n",
      "$SLH: possibly delisted; No price data found  (1d 2021-01-01 -> 2024-08-09)\n"
     ]
    },
    {
     "name": "stdout",
     "output_type": "stream",
     "text": [
      "Monthly data for FXG saved successfully.\n",
      "$CVC: possibly delisted; No price data found  (1d 2021-01-01 -> 2024-08-09)\n",
      "Error fetching historical data for CVC: No historical data found for ticker\n",
      "$SLH: possibly delisted; No price data found  (1d 2021-01-01 -> 2024-08-09)\n",
      "Error fetching historical data for SLH: No historical data found for ticker\n"
     ]
    },
    {
     "name": "stderr",
     "output_type": "stream",
     "text": [
      "$JDD: possibly delisted; No timezone found\n",
      "$XLS: possibly delisted; No price data found  (1d 2021-01-01 -> 2024-08-09)\n"
     ]
    },
    {
     "name": "stdout",
     "output_type": "stream",
     "text": [
      "Error fetching historical data for JDD: No historical data found for ticker\n",
      "$XLS: possibly delisted; No price data found  (1d 2021-01-01 -> 2024-08-09)\n",
      "Error fetching historical data for XLS: No historical data found for ticker\n"
     ]
    },
    {
     "name": "stderr",
     "output_type": "stream",
     "text": [
      "Failed to get ticker 'DUE 12/01/27' reason: Expecting value: line 1 column 1 (char 0)\n",
      "$DUE 12/01/27: possibly delisted; No timezone found\n",
      "$TE: possibly delisted; No price data found  (1d 2021-01-01 -> 2024-08-09)\n"
     ]
    },
    {
     "name": "stdout",
     "output_type": "stream",
     "text": [
      "Error fetching historical data for DUE 12/01/27: No historical data found for ticker\n",
      "$TE: possibly delisted; No price data found  (1d 2021-01-01 -> 2024-08-09)\n",
      "Error fetching historical data for TE: No historical data found for ticker\n",
      "Monthly data for EQT saved successfully.\n"
     ]
    },
    {
     "name": "stderr",
     "output_type": "stream",
     "text": [
      "$CIT: possibly delisted; No timezone found\n",
      "$QLIK: possibly delisted; No price data found  (1d 2021-01-01 -> 2024-08-09)\n",
      "$FDML: possibly delisted; No price data found  (1d 2021-01-01 -> 2024-08-09)\n"
     ]
    },
    {
     "name": "stdout",
     "output_type": "stream",
     "text": [
      "Error fetching historical data for CIT: No historical data found for ticker\n",
      "$QLIK: possibly delisted; No price data found  (1d 2021-01-01 -> 2024-08-09)\n",
      "Error fetching historical data for QLIK: No historical data found for ticker\n",
      "$FDML: possibly delisted; No price data found  (1d 2021-01-01 -> 2024-08-09)\n",
      "Error fetching historical data for FDML: No historical data found for ticker\n"
     ]
    },
    {
     "name": "stderr",
     "output_type": "stream",
     "text": [
      "Failed to get ticker 'DUE 04/01/27' reason: Expecting value: line 1 column 1 (char 0)\n",
      "$DUE 04/01/27: possibly delisted; No timezone found\n",
      "$HW: possibly delisted; No price data found  (1d 2021-01-01 -> 2024-08-09)\n"
     ]
    },
    {
     "name": "stdout",
     "output_type": "stream",
     "text": [
      "Error fetching historical data for DUE 04/01/27: No historical data found for ticker\n",
      "$HW: possibly delisted; No price data found  (1d 2021-01-01 -> 2024-08-09)\n",
      "Error fetching historical data for HW: No historical data found for ticker\n",
      "Monthly data for SPHQ saved successfully.\n",
      "Monthly data for ASHR saved successfully.\n",
      "Monthly data for YCS saved successfully.\n",
      "Monthly data for FPX saved successfully.\n",
      "Monthly data for REX saved successfully.\n",
      "Monthly data for SLY saved successfully.\n"
     ]
    },
    {
     "name": "stderr",
     "output_type": "stream",
     "text": [
      "$RSCO: possibly delisted; No price data found  (1d 2021-01-01 -> 2024-08-09)\n"
     ]
    },
    {
     "name": "stdout",
     "output_type": "stream",
     "text": [
      "$RSCO: possibly delisted; No price data found  (1d 2021-01-01 -> 2024-08-09)\n",
      "Error fetching historical data for RSCO: No historical data found for ticker\n",
      "Monthly data for NGS saved successfully.\n"
     ]
    },
    {
     "name": "stderr",
     "output_type": "stream",
     "text": [
      "$OCR: possibly delisted; No price data found  (1d 2021-01-01 -> 2024-08-09)\n"
     ]
    },
    {
     "name": "stdout",
     "output_type": "stream",
     "text": [
      "$OCR: possibly delisted; No price data found  (1d 2021-01-01 -> 2024-08-09)\n",
      "Error fetching historical data for OCR: No historical data found for ticker\n"
     ]
    },
    {
     "name": "stderr",
     "output_type": "stream",
     "text": [
      "Failed to get ticker 'DUE 07/01/27' reason: Expecting value: line 1 column 1 (char 0)\n",
      "$DUE 07/01/27: possibly delisted; No timezone found\n"
     ]
    },
    {
     "name": "stdout",
     "output_type": "stream",
     "text": [
      "Error fetching historical data for DUE 07/01/27: No historical data found for ticker\n",
      "Monthly data for FAN saved successfully.\n"
     ]
    },
    {
     "name": "stderr",
     "output_type": "stream",
     "text": [
      "$SPNC: possibly delisted; No price data found  (1d 2021-01-01 -> 2024-08-09)\n"
     ]
    },
    {
     "name": "stdout",
     "output_type": "stream",
     "text": [
      "$SPNC: possibly delisted; No price data found  (1d 2021-01-01 -> 2024-08-09)\n",
      "Error fetching historical data for SPNC: No historical data found for ticker\n",
      "Monthly data for LQDT saved successfully.\n"
     ]
    },
    {
     "name": "stderr",
     "output_type": "stream",
     "text": [
      "$CHLKF: possibly delisted; No timezone found\n"
     ]
    },
    {
     "name": "stdout",
     "output_type": "stream",
     "text": [
      "Error fetching historical data for CHLKF: No historical data found for ticker\n",
      "Monthly data for SCD saved successfully.\n",
      "Monthly data for KWIPF saved successfully.\n",
      "Monthly data for SNGNF saved successfully.\n",
      "Monthly data for ITOCF saved successfully.\n",
      "Monthly data for ISUZF saved successfully.\n"
     ]
    },
    {
     "name": "stderr",
     "output_type": "stream",
     "text": [
      "$AMRI: possibly delisted; No price data found  (1d 2021-01-01 -> 2024-08-09)\n"
     ]
    },
    {
     "name": "stdout",
     "output_type": "stream",
     "text": [
      "Monthly data for TELNF saved successfully.\n",
      "Monthly data for NZTCF saved successfully.\n",
      "$AMRI: possibly delisted; No price data found  (1d 2021-01-01 -> 2024-08-09)\n",
      "Error fetching historical data for AMRI: No historical data found for ticker\n"
     ]
    },
    {
     "name": "stderr",
     "output_type": "stream",
     "text": [
      "$USB$N: possibly delisted; No timezone found\n"
     ]
    },
    {
     "name": "stdout",
     "output_type": "stream",
     "text": [
      "Error fetching historical data for USB$N: No historical data found for ticker\n"
     ]
    },
    {
     "name": "stderr",
     "output_type": "stream",
     "text": [
      "$HMSY: possibly delisted; No timezone found\n"
     ]
    },
    {
     "name": "stdout",
     "output_type": "stream",
     "text": [
      "Error fetching historical data for HMSY: No historical data found for ticker\n"
     ]
    },
    {
     "name": "stderr",
     "output_type": "stream",
     "text": [
      "$TTFS: possibly delisted; No price data found  (1d 2021-01-01 -> 2024-08-09)\n"
     ]
    },
    {
     "name": "stdout",
     "output_type": "stream",
     "text": [
      "Monthly data for CBRL saved successfully.\n",
      "$TTFS: possibly delisted; No price data found  (1d 2021-01-01 -> 2024-08-09)\n",
      "Error fetching historical data for TTFS: No historical data found for ticker\n"
     ]
    },
    {
     "name": "stderr",
     "output_type": "stream",
     "text": [
      "$OMN: possibly delisted; No timezone found\n"
     ]
    },
    {
     "name": "stdout",
     "output_type": "stream",
     "text": [
      "Error fetching historical data for OMN: No historical data found for ticker\n"
     ]
    },
    {
     "name": "stderr",
     "output_type": "stream",
     "text": [
      "$TFM: possibly delisted; No price data found  (1d 2021-01-01 -> 2024-08-09)\n",
      "$SVU: possibly delisted; No price data found  (1d 2021-01-01 -> 2024-08-09)\n"
     ]
    },
    {
     "name": "stdout",
     "output_type": "stream",
     "text": [
      "Monthly data for CW saved successfully.\n",
      "$TFM: possibly delisted; No price data found  (1d 2021-01-01 -> 2024-08-09)\n",
      "Error fetching historical data for TFM: No historical data found for ticker\n",
      "$SVU: possibly delisted; No price data found  (1d 2021-01-01 -> 2024-08-09)\n",
      "Error fetching historical data for SVU: No historical data found for ticker\n"
     ]
    },
    {
     "name": "stderr",
     "output_type": "stream",
     "text": [
      "$VNR: possibly delisted; No price data found  (1d 2021-01-01 -> 2024-08-09)\n"
     ]
    },
    {
     "name": "stdout",
     "output_type": "stream",
     "text": [
      "Monthly data for BW saved successfully.\n",
      "$VNR: possibly delisted; No price data found  (1d 2021-01-01 -> 2024-08-09)\n",
      "Error fetching historical data for VNR: No historical data found for ticker\n",
      "Monthly data for OAKIX saved successfully.\n"
     ]
    },
    {
     "name": "stderr",
     "output_type": "stream",
     "text": [
      "$TLSRP: possibly delisted; No timezone found\n"
     ]
    },
    {
     "name": "stdout",
     "output_type": "stream",
     "text": [
      "Error fetching historical data for TLSRP: No historical data found for ticker\n",
      "Monthly data for AFTEX saved successfully.\n"
     ]
    },
    {
     "name": "stderr",
     "output_type": "stream",
     "text": [
      "$WSH: possibly delisted; No price data found  (1d 2021-01-01 -> 2024-08-09)\n"
     ]
    },
    {
     "name": "stdout",
     "output_type": "stream",
     "text": [
      "$WSH: possibly delisted; No price data found  (1d 2021-01-01 -> 2024-08-09)\n",
      "Error fetching historical data for WSH: No historical data found for ticker\n",
      "Monthly data for CJNK saved successfully.\n",
      "Monthly data for SBUX.SW saved successfully.\n",
      "Monthly data for MSACX saved successfully.\n"
     ]
    },
    {
     "name": "stderr",
     "output_type": "stream",
     "text": [
      "$CTRX: possibly delisted; No price data found  (1d 2021-01-01 -> 2024-08-09)\n"
     ]
    },
    {
     "name": "stdout",
     "output_type": "stream",
     "text": [
      "Monthly data for WSTMX saved successfully.\n",
      "Monthly data for VMIIX saved successfully.\n",
      "$CTRX: possibly delisted; No price data found  (1d 2021-01-01 -> 2024-08-09)\n",
      "Error fetching historical data for CTRX: No historical data found for ticker\n",
      "Monthly data for VADDX saved successfully.\n"
     ]
    },
    {
     "name": "stderr",
     "output_type": "stream",
     "text": [
      "$UPL: possibly delisted; No timezone found\n",
      "$NGIPX: possibly delisted; No price data found  (1d 2021-01-01 -> 2024-08-09)\n"
     ]
    },
    {
     "name": "stdout",
     "output_type": "stream",
     "text": [
      "Error fetching historical data for UPL: No historical data found for ticker\n",
      "$NGIPX: possibly delisted; No price data found  (1d 2021-01-01 -> 2024-08-09)\n",
      "Error fetching historical data for NGIPX: No historical data found for ticker\n",
      "Monthly data for ACSDX saved successfully.\n"
     ]
    },
    {
     "name": "stderr",
     "output_type": "stream",
     "text": [
      "$KRFT: possibly delisted; No price data found  (1d 2021-01-01 -> 2024-08-09)\n"
     ]
    },
    {
     "name": "stdout",
     "output_type": "stream",
     "text": [
      "Monthly data for MGEMX saved successfully.\n",
      "Monthly data for VSMIX saved successfully.\n",
      "$KRFT: possibly delisted; No price data found  (1d 2021-01-01 -> 2024-08-09)\n",
      "Error fetching historical data for KRFT: No historical data found for ticker\n"
     ]
    },
    {
     "name": "stderr",
     "output_type": "stream",
     "text": [
      "$TEG: possibly delisted; No price data found  (1d 2021-01-01 -> 2024-08-09)\n",
      "$ATML: possibly delisted; No price data found  (1d 2021-01-01 -> 2024-08-09)\n"
     ]
    },
    {
     "name": "stdout",
     "output_type": "stream",
     "text": [
      "Monthly data for ALTR saved successfully.\n",
      "$TEG: possibly delisted; No price data found  (1d 2021-01-01 -> 2024-08-09)\n",
      "Error fetching historical data for TEG: No historical data found for ticker\n",
      "$ATML: possibly delisted; No price data found  (1d 2021-01-01 -> 2024-08-09)\n",
      "Error fetching historical data for ATML: No historical data found for ticker\n",
      "Monthly data for CVG saved successfully.\n",
      "Monthly data for FXB saved successfully.\n",
      "Monthly data for FXC saved successfully.\n"
     ]
    },
    {
     "name": "stderr",
     "output_type": "stream",
     "text": [
      "$CTFS PARTN: possibly delisted; No timezone found\n"
     ]
    },
    {
     "name": "stdout",
     "output_type": "stream",
     "text": [
      "Error fetching historical data for CTFS PARTN: No historical data found for ticker\n",
      "Monthly data for ACT saved successfully.\n"
     ]
    },
    {
     "name": "stderr",
     "output_type": "stream",
     "text": [
      "$CY: possibly delisted; No timezone found\n",
      "$LO: possibly delisted; No price data found  (1d 2021-01-01 -> 2024-08-09)\n"
     ]
    },
    {
     "name": "stdout",
     "output_type": "stream",
     "text": [
      "Error fetching historical data for CY: No historical data found for ticker\n",
      "$LO: possibly delisted; No price data found  (1d 2021-01-01 -> 2024-08-09)\n",
      "Error fetching historical data for LO: No historical data found for ticker\n",
      "Monthly data for DPG saved successfully.\n"
     ]
    },
    {
     "name": "stderr",
     "output_type": "stream",
     "text": [
      "$BUNT.RP: possibly delisted; No timezone found\n"
     ]
    },
    {
     "name": "stdout",
     "output_type": "stream",
     "text": [
      "Error fetching historical data for BUNT.RP: No historical data found for ticker\n"
     ]
    },
    {
     "name": "stderr",
     "output_type": "stream",
     "text": [
      "$WX: possibly delisted; No price data found  (1d 2021-01-01 -> 2024-08-09)\n"
     ]
    },
    {
     "name": "stdout",
     "output_type": "stream",
     "text": [
      "Monthly data for MUR saved successfully.\n",
      "$WX: possibly delisted; No price data found  (1d 2021-01-01 -> 2024-08-09)\n",
      "Error fetching historical data for WX: No historical data found for ticker\n"
     ]
    },
    {
     "name": "stderr",
     "output_type": "stream",
     "text": [
      "$DATA: possibly delisted; No timezone found\n",
      "$RCPT: possibly delisted; No price data found  (1d 2021-01-01 -> 2024-08-09)\n"
     ]
    },
    {
     "name": "stdout",
     "output_type": "stream",
     "text": [
      "Error fetching historical data for DATA: No historical data found for ticker\n",
      "Monthly data for DO saved successfully.\n",
      "$RCPT: possibly delisted; No price data found  (1d 2021-01-01 -> 2024-08-09)\n",
      "Error fetching historical data for RCPT: No historical data found for ticker\n"
     ]
    },
    {
     "name": "stderr",
     "output_type": "stream",
     "text": [
      "$CRZO: possibly delisted; No timezone found\n",
      "$IACI: possibly delisted; No price data found  (1d 2021-01-01 -> 2024-08-09)\n"
     ]
    },
    {
     "name": "stdout",
     "output_type": "stream",
     "text": [
      "Error fetching historical data for CRZO: No historical data found for ticker\n",
      "Monthly data for INFA saved successfully.\n",
      "$IACI: possibly delisted; No price data found  (1d 2021-01-01 -> 2024-08-09)\n",
      "Error fetching historical data for IACI: No historical data found for ticker\n",
      "Monthly data for INFN saved successfully.\n",
      "Monthly data for CFFN saved successfully.\n"
     ]
    },
    {
     "name": "stderr",
     "output_type": "stream",
     "text": [
      "$BRGYY: possibly delisted; No price data found  (1d 2021-01-01 -> 2024-08-09)\n"
     ]
    },
    {
     "name": "stdout",
     "output_type": "stream",
     "text": [
      "$BRGYY: possibly delisted; No price data found  (1d 2021-01-01 -> 2024-08-09)\n",
      "Error fetching historical data for BRGYY: No historical data found for ticker\n"
     ]
    },
    {
     "name": "stderr",
     "output_type": "stream",
     "text": [
      "$GBTZY: possibly delisted; No timezone found\n"
     ]
    },
    {
     "name": "stdout",
     "output_type": "stream",
     "text": [
      "Error fetching historical data for GBTZY: No historical data found for ticker\n",
      "Monthly data for IWP saved successfully.\n"
     ]
    },
    {
     "name": "stderr",
     "output_type": "stream",
     "text": [
      "$HPY: possibly delisted; No price data found  (1d 2021-01-01 -> 2024-08-09)\n"
     ]
    },
    {
     "name": "stdout",
     "output_type": "stream",
     "text": [
      "Monthly data for DDS saved successfully.\n",
      "$HPY: possibly delisted; No price data found  (1d 2021-01-01 -> 2024-08-09)\n",
      "Error fetching historical data for HPY: No historical data found for ticker\n"
     ]
    },
    {
     "name": "stderr",
     "output_type": "stream",
     "text": [
      "$AMAG: possibly delisted; No timezone found\n"
     ]
    },
    {
     "name": "stdout",
     "output_type": "stream",
     "text": [
      "Error fetching historical data for AMAG: No historical data found for ticker\n",
      "Monthly data for ATI saved successfully.\n"
     ]
    },
    {
     "name": "stderr",
     "output_type": "stream",
     "text": [
      "$JOY: possibly delisted; No price data found  (1d 2021-01-01 -> 2024-08-09)\n",
      "$ISIS: possibly delisted; No price data found  (1d 2021-01-01 -> 2024-08-09)\n"
     ]
    },
    {
     "name": "stdout",
     "output_type": "stream",
     "text": [
      "$JOY: possibly delisted; No price data found  (1d 2021-01-01 -> 2024-08-09)\n",
      "Error fetching historical data for JOY: No historical data found for ticker\n",
      "Monthly data for YY saved successfully.\n",
      "$ISIS: possibly delisted; No price data found  (1d 2021-01-01 -> 2024-08-09)\n",
      "Error fetching historical data for ISIS: No historical data found for ticker\n"
     ]
    },
    {
     "name": "stderr",
     "output_type": "stream",
     "text": [
      "$KORS: possibly delisted; No price data found  (1d 2021-01-01 -> 2024-08-09)\n",
      "$GMT: possibly delisted; No price data found  (1d 2021-01-01 -> 2024-08-09)\n"
     ]
    },
    {
     "name": "stdout",
     "output_type": "stream",
     "text": [
      "$KORS: possibly delisted; No price data found  (1d 2021-01-01 -> 2024-08-09)\n",
      "Error fetching historical data for KORS: No historical data found for ticker\n",
      "Monthly data for NTCT saved successfully.\n",
      "$GMT: possibly delisted; No price data found  (1d 2021-01-01 -> 2024-08-09)\n",
      "Error fetching historical data for GMT: No historical data found for ticker\n"
     ]
    },
    {
     "name": "stderr",
     "output_type": "stream",
     "text": [
      "$MNTA: possibly delisted; No timezone found\n"
     ]
    },
    {
     "name": "stdout",
     "output_type": "stream",
     "text": [
      "Error fetching historical data for MNTA: No historical data found for ticker\n",
      "Monthly data for SATS saved successfully.\n",
      "Monthly data for CSTM saved successfully.\n"
     ]
    },
    {
     "name": "stderr",
     "output_type": "stream",
     "text": [
      "$ADVS: possibly delisted; No price data found  (1d 2021-01-01 -> 2024-08-09)\n"
     ]
    },
    {
     "name": "stdout",
     "output_type": "stream",
     "text": [
      "$ADVS: possibly delisted; No price data found  (1d 2021-01-01 -> 2024-08-09)\n",
      "Error fetching historical data for ADVS: No historical data found for ticker\n"
     ]
    },
    {
     "name": "stderr",
     "output_type": "stream",
     "text": [
      "$CLI: possibly delisted; No timezone found\n"
     ]
    },
    {
     "name": "stdout",
     "output_type": "stream",
     "text": [
      "Error fetching historical data for CLI: No historical data found for ticker\n"
     ]
    },
    {
     "name": "stderr",
     "output_type": "stream",
     "text": [
      "$BITA: possibly delisted; No timezone found\n"
     ]
    },
    {
     "name": "stdout",
     "output_type": "stream",
     "text": [
      "Error fetching historical data for BITA: No historical data found for ticker\n"
     ]
    },
    {
     "name": "stderr",
     "output_type": "stream",
     "text": [
      "$AKRX: possibly delisted; No timezone found\n"
     ]
    },
    {
     "name": "stdout",
     "output_type": "stream",
     "text": [
      "Error fetching historical data for AKRX: No historical data found for ticker\n"
     ]
    },
    {
     "name": "stderr",
     "output_type": "stream",
     "text": [
      "$CAW: possibly delisted; No timezone found\n"
     ]
    },
    {
     "name": "stdout",
     "output_type": "stream",
     "text": [
      "Error fetching historical data for CAW: No historical data found for ticker\n",
      "Monthly data for SGMA saved successfully.\n",
      "Monthly data for GIFI saved successfully.\n",
      "Monthly data for MMSI saved successfully.\n"
     ]
    },
    {
     "name": "stderr",
     "output_type": "stream",
     "text": [
      "$DNR: possibly delisted; No timezone found\n"
     ]
    },
    {
     "name": "stdout",
     "output_type": "stream",
     "text": [
      "Error fetching historical data for DNR: No historical data found for ticker\n",
      "Monthly data for MPX saved successfully.\n"
     ]
    },
    {
     "name": "stderr",
     "output_type": "stream",
     "text": [
      "$ROVI: possibly delisted; No price data found  (1d 2021-01-01 -> 2024-08-09)\n",
      "$PNRA: possibly delisted; No price data found  (1d 2021-01-01 -> 2024-08-09)\n"
     ]
    },
    {
     "name": "stdout",
     "output_type": "stream",
     "text": [
      "Monthly data for DAKT saved successfully.\n",
      "$ROVI: possibly delisted; No price data found  (1d 2021-01-01 -> 2024-08-09)\n",
      "Error fetching historical data for ROVI: No historical data found for ticker\n",
      "$PNRA: possibly delisted; No price data found  (1d 2021-01-01 -> 2024-08-09)\n",
      "Error fetching historical data for PNRA: No historical data found for ticker\n",
      "Monthly data for GVP saved successfully.\n",
      "Monthly data for AFG saved successfully.\n"
     ]
    },
    {
     "name": "stderr",
     "output_type": "stream",
     "text": [
      "$GCAP: possibly delisted; No timezone found\n"
     ]
    },
    {
     "name": "stdout",
     "output_type": "stream",
     "text": [
      "Error fetching historical data for GCAP: No historical data found for ticker\n"
     ]
    },
    {
     "name": "stderr",
     "output_type": "stream",
     "text": [
      "$SXE: possibly delisted; No timezone found\n"
     ]
    },
    {
     "name": "stdout",
     "output_type": "stream",
     "text": [
      "Error fetching historical data for SXE: No historical data found for ticker\n"
     ]
    },
    {
     "name": "stderr",
     "output_type": "stream",
     "text": [
      "$SNR: possibly delisted; No timezone found\n",
      "$ZMLP: possibly delisted; No price data found  (1d 2021-01-01 -> 2024-08-09)\n"
     ]
    },
    {
     "name": "stdout",
     "output_type": "stream",
     "text": [
      "Error fetching historical data for SNR: No historical data found for ticker\n",
      "$ZMLP: possibly delisted; No price data found  (1d 2021-01-01 -> 2024-08-09)\n",
      "Error fetching historical data for ZMLP: No historical data found for ticker\n",
      "Monthly data for AOZOF saved successfully.\n"
     ]
    },
    {
     "name": "stderr",
     "output_type": "stream",
     "text": [
      "$PMFG: possibly delisted; No price data found  (1d 2021-01-01 -> 2024-08-09)\n"
     ]
    },
    {
     "name": "stdout",
     "output_type": "stream",
     "text": [
      "$PMFG: possibly delisted; No price data found  (1d 2021-01-01 -> 2024-08-09)\n",
      "Error fetching historical data for PMFG: No historical data found for ticker\n",
      "Monthly data for AMSYF saved successfully.\n"
     ]
    },
    {
     "name": "stderr",
     "output_type": "stream",
     "text": [
      "$UNT: possibly delisted; No timezone found\n",
      "^RGP: Period '1mo' is invalid, must be one of ['1d', '5d']\n"
     ]
    },
    {
     "name": "stdout",
     "output_type": "stream",
     "text": [
      "Error fetching historical data for UNT: No historical data found for ticker\n",
      "Error fetching historical data for ^RGP: No historical data found for ticker\n",
      "Monthly data for RGP saved successfully.\n",
      "Monthly data for IGT saved successfully.\n",
      "Monthly data for TBVPF saved successfully.\n",
      "Monthly data for CUAEF saved successfully.\n"
     ]
    },
    {
     "name": "stderr",
     "output_type": "stream",
     "text": [
      "$CYT: possibly delisted; No timezone found\n"
     ]
    },
    {
     "name": "stdout",
     "output_type": "stream",
     "text": [
      "Error fetching historical data for CYT: No historical data found for ticker\n"
     ]
    },
    {
     "name": "stderr",
     "output_type": "stream",
     "text": [
      "$FOEAF: possibly delisted; No timezone found\n"
     ]
    },
    {
     "name": "stdout",
     "output_type": "stream",
     "text": [
      "Error fetching historical data for FOEAF: No historical data found for ticker\n",
      "Monthly data for IPKW saved successfully.\n",
      "Monthly data for EWW saved successfully.\n"
     ]
    },
    {
     "name": "stderr",
     "output_type": "stream",
     "text": [
      "$FOE: possibly delisted; No timezone found\n"
     ]
    },
    {
     "name": "stdout",
     "output_type": "stream",
     "text": [
      "Error fetching historical data for FOE: No historical data found for ticker\n",
      "Monthly data for RALS saved successfully.\n"
     ]
    },
    {
     "name": "stderr",
     "output_type": "stream",
     "text": [
      "$B0T4J94: possibly delisted; No timezone found\n"
     ]
    },
    {
     "name": "stdout",
     "output_type": "stream",
     "text": [
      "Error fetching historical data for B0T4J94: No historical data found for ticker\n",
      "Monthly data for FR saved successfully.\n"
     ]
    },
    {
     "name": "stderr",
     "output_type": "stream",
     "text": [
      "$JMG: possibly delisted; No price data found  (1d 2021-01-01 -> 2024-08-09)\n"
     ]
    },
    {
     "name": "stdout",
     "output_type": "stream",
     "text": [
      "Monthly data for OPY saved successfully.\n",
      "$JMG: possibly delisted; No price data found  (1d 2021-01-01 -> 2024-08-09)\n",
      "Error fetching historical data for JMG: No historical data found for ticker\n"
     ]
    },
    {
     "name": "stderr",
     "output_type": "stream",
     "text": [
      "$NXTM: possibly delisted; No timezone found\n"
     ]
    },
    {
     "name": "stdout",
     "output_type": "stream",
     "text": [
      "Error fetching historical data for NXTM: No historical data found for ticker\n",
      "Monthly data for SPB saved successfully.\n"
     ]
    },
    {
     "name": "stderr",
     "output_type": "stream",
     "text": [
      "$RYL: possibly delisted; No price data found  (1d 2021-01-01 -> 2024-08-09)\n"
     ]
    },
    {
     "name": "stdout",
     "output_type": "stream",
     "text": [
      "$RYL: possibly delisted; No price data found  (1d 2021-01-01 -> 2024-08-09)\n",
      "Error fetching historical data for RYL: No historical data found for ticker\n"
     ]
    },
    {
     "name": "stderr",
     "output_type": "stream",
     "text": [
      "$BN7Q3G8: possibly delisted; No timezone found\n",
      "$BLT: possibly delisted; No price data found  (1d 2021-01-01 -> 2024-08-09)\n",
      "$WGL: possibly delisted; No price data found  (1d 2021-01-01 -> 2024-08-09)\n"
     ]
    },
    {
     "name": "stdout",
     "output_type": "stream",
     "text": [
      "Error fetching historical data for BN7Q3G8: No historical data found for ticker\n",
      "$BLT: possibly delisted; No price data found  (1d 2021-01-01 -> 2024-08-09)\n",
      "Error fetching historical data for BLT: No historical data found for ticker\n",
      "$WGL: possibly delisted; No price data found  (1d 2021-01-01 -> 2024-08-09)\n",
      "Error fetching historical data for WGL: No historical data found for ticker\n",
      "$MRD: possibly delisted; No price data found  (1d 2021-01-01 -> 2024-08-09)\n"
     ]
    },
    {
     "name": "stderr",
     "output_type": "stream",
     "text": [
      "$MRD: possibly delisted; No price data found  (1d 2021-01-01 -> 2024-08-09)\n",
      "$FEIC: possibly delisted; No price data found  (1d 2021-01-01 -> 2024-08-09)\n"
     ]
    },
    {
     "name": "stdout",
     "output_type": "stream",
     "text": [
      "Error fetching historical data for MRD: No historical data found for ticker\n",
      "$FEIC: possibly delisted; No price data found  (1d 2021-01-01 -> 2024-08-09)\n",
      "Error fetching historical data for FEIC: No historical data found for ticker\n",
      "Monthly data for VMI saved successfully.\n"
     ]
    },
    {
     "name": "stderr",
     "output_type": "stream",
     "text": [
      "$XL: possibly delisted; No timezone found\n"
     ]
    },
    {
     "name": "stdout",
     "output_type": "stream",
     "text": [
      "Error fetching historical data for XL: No historical data found for ticker\n"
     ]
    },
    {
     "name": "stderr",
     "output_type": "stream",
     "text": [
      "$ZU: possibly delisted; No timezone found\n"
     ]
    },
    {
     "name": "stdout",
     "output_type": "stream",
     "text": [
      "Error fetching historical data for ZU: No historical data found for ticker\n",
      "Monthly data for PRPFX saved successfully.\n"
     ]
    },
    {
     "name": "stderr",
     "output_type": "stream",
     "text": [
      "$CCLP: possibly delisted; No timezone found\n"
     ]
    },
    {
     "name": "stdout",
     "output_type": "stream",
     "text": [
      "Error fetching historical data for CCLP: No historical data found for ticker\n"
     ]
    },
    {
     "name": "stderr",
     "output_type": "stream",
     "text": [
      "$XLS.WI: possibly delisted; No timezone found\n",
      "$PETM: possibly delisted; No price data found  (1d 2021-01-01 -> 2024-08-09)\n"
     ]
    },
    {
     "name": "stdout",
     "output_type": "stream",
     "text": [
      "Error fetching historical data for XLS.WI: No historical data found for ticker\n",
      "$PETM: possibly delisted; No price data found  (1d 2021-01-01 -> 2024-08-09)\n",
      "Error fetching historical data for PETM: No historical data found for ticker\n",
      "Monthly data for ERII saved successfully.\n"
     ]
    },
    {
     "name": "stderr",
     "output_type": "stream",
     "text": [
      "$APL: possibly delisted; No price data found  (1d 2021-01-01 -> 2024-08-09)\n"
     ]
    },
    {
     "name": "stdout",
     "output_type": "stream",
     "text": [
      "Monthly data for BSV saved successfully.\n",
      "Monthly data for TRS saved successfully.\n",
      "$APL: possibly delisted; No price data found  (1d 2021-01-01 -> 2024-08-09)\n",
      "Error fetching historical data for APL: No historical data found for ticker\n",
      "Monthly data for INRD saved successfully.\n",
      "Monthly data for XLU saved successfully.\n",
      "Monthly data for SMEZ saved successfully.\n",
      "Monthly data for QAI saved successfully.\n",
      "Monthly data for AGG saved successfully.\n"
     ]
    },
    {
     "name": "stderr",
     "output_type": "stream",
     "text": [
      "$DFRG: possibly delisted; No timezone found\n"
     ]
    },
    {
     "name": "stdout",
     "output_type": "stream",
     "text": [
      "Error fetching historical data for DFRG: No historical data found for ticker\n",
      "Monthly data for AAON saved successfully.\n"
     ]
    },
    {
     "name": "stderr",
     "output_type": "stream",
     "text": [
      "$SGY: possibly delisted; No price data found  (1d 2021-01-01 -> 2024-08-09)\n"
     ]
    },
    {
     "name": "stdout",
     "output_type": "stream",
     "text": [
      "Monthly data for PBH saved successfully.\n",
      "$SGY: possibly delisted; No price data found  (1d 2021-01-01 -> 2024-08-09)\n",
      "Error fetching historical data for SGY: No historical data found for ticker\n"
     ]
    },
    {
     "name": "stderr",
     "output_type": "stream",
     "text": [
      "$MFRM: possibly delisted; No price data found  (1d 2021-01-01 -> 2024-08-09)\n",
      "$PLKI: possibly delisted; No price data found  (1d 2021-01-01 -> 2024-08-09)\n"
     ]
    },
    {
     "name": "stdout",
     "output_type": "stream",
     "text": [
      "Monthly data for ICON saved successfully.\n",
      "$MFRM: possibly delisted; No price data found  (1d 2021-01-01 -> 2024-08-09)\n",
      "Error fetching historical data for MFRM: No historical data found for ticker\n",
      "$PLKI: possibly delisted; No price data found  (1d 2021-01-01 -> 2024-08-09)\n",
      "Error fetching historical data for PLKI: No historical data found for ticker\n",
      "Monthly data for RRTS saved successfully.\n"
     ]
    },
    {
     "name": "stderr",
     "output_type": "stream",
     "text": [
      "$FMBI: possibly delisted; No timezone found\n"
     ]
    },
    {
     "name": "stdout",
     "output_type": "stream",
     "text": [
      "Error fetching historical data for FMBI: No historical data found for ticker\n",
      "Monthly data for KWR saved successfully.\n"
     ]
    },
    {
     "name": "stderr",
     "output_type": "stream",
     "text": [
      "$CMN: possibly delisted; No price data found  (1d 2021-01-01 -> 2024-08-09)\n",
      "$CTCT: possibly delisted; No price data found  (1d 2021-01-01 -> 2024-08-09)\n"
     ]
    },
    {
     "name": "stdout",
     "output_type": "stream",
     "text": [
      "$CMN: possibly delisted; No price data found  (1d 2021-01-01 -> 2024-08-09)\n",
      "Error fetching historical data for CMN: No historical data found for ticker\n",
      "Monthly data for SMTC saved successfully.\n",
      "$CTCT: possibly delisted; No price data found  (1d 2021-01-01 -> 2024-08-09)\n",
      "Error fetching historical data for CTCT: No historical data found for ticker\n"
     ]
    },
    {
     "name": "stderr",
     "output_type": "stream",
     "text": [
      "$SQI: possibly delisted; No price data found  (1d 2021-01-01 -> 2024-08-09)\n",
      "$IPCM: possibly delisted; No price data found  (1d 2021-01-01 -> 2024-08-09)\n"
     ]
    },
    {
     "name": "stdout",
     "output_type": "stream",
     "text": [
      "$SQI: possibly delisted; No price data found  (1d 2021-01-01 -> 2024-08-09)\n",
      "Error fetching historical data for SQI: No historical data found for ticker\n",
      "Monthly data for BMR saved successfully.\n",
      "$IPCM: possibly delisted; No price data found  (1d 2021-01-01 -> 2024-08-09)\n",
      "Error fetching historical data for IPCM: No historical data found for ticker\n"
     ]
    },
    {
     "name": "stderr",
     "output_type": "stream",
     "text": [
      "$PLT: possibly delisted; No timezone found\n"
     ]
    },
    {
     "name": "stdout",
     "output_type": "stream",
     "text": [
      "Error fetching historical data for PLT: No historical data found for ticker\n",
      "Monthly data for THRM saved successfully.\n"
     ]
    },
    {
     "name": "stderr",
     "output_type": "stream",
     "text": [
      "$AMSG: possibly delisted; No price data found  (1d 2021-01-01 -> 2024-08-09)\n"
     ]
    },
    {
     "name": "stdout",
     "output_type": "stream",
     "text": [
      "Monthly data for ATRO saved successfully.\n",
      "$AMSG: possibly delisted; No price data found  (1d 2021-01-01 -> 2024-08-09)\n",
      "Error fetching historical data for AMSG: No historical data found for ticker\n",
      "Monthly data for CHEF saved successfully.\n"
     ]
    },
    {
     "name": "stderr",
     "output_type": "stream",
     "text": [
      "$TUMI: possibly delisted; No price data found  (1d 2021-01-01 -> 2024-08-09)\n",
      "$CYBX: possibly delisted; No price data found  (1d 2021-01-01 -> 2024-08-09)\n"
     ]
    },
    {
     "name": "stdout",
     "output_type": "stream",
     "text": [
      "$TUMI: possibly delisted; No price data found  (1d 2021-01-01 -> 2024-08-09)\n",
      "Error fetching historical data for TUMI: No historical data found for ticker\n",
      "Monthly data for HF saved successfully.\n",
      "$CYBX: possibly delisted; No price data found  (1d 2021-01-01 -> 2024-08-09)\n",
      "Error fetching historical data for CYBX: No historical data found for ticker\n",
      "Monthly data for SWI saved successfully.\n"
     ]
    },
    {
     "name": "stderr",
     "output_type": "stream",
     "text": [
      "$TYPE: possibly delisted; No timezone found\n"
     ]
    },
    {
     "name": "stdout",
     "output_type": "stream",
     "text": [
      "Error fetching historical data for TYPE: No historical data found for ticker\n"
     ]
    },
    {
     "name": "stderr",
     "output_type": "stream",
     "text": [
      "$VSI: possibly delisted; No timezone found\n"
     ]
    },
    {
     "name": "stdout",
     "output_type": "stream",
     "text": [
      "Error fetching historical data for VSI: No historical data found for ticker\n",
      "Monthly data for SIGI saved successfully.\n",
      "Monthly data for THS saved successfully.\n"
     ]
    },
    {
     "name": "stderr",
     "output_type": "stream",
     "text": [
      "$MDCA: possibly delisted; No timezone found\n"
     ]
    },
    {
     "name": "stdout",
     "output_type": "stream",
     "text": [
      "Error fetching historical data for MDCA: No historical data found for ticker\n"
     ]
    },
    {
     "name": "stderr",
     "output_type": "stream",
     "text": [
      "$EPAY: possibly delisted; No timezone found\n"
     ]
    },
    {
     "name": "stdout",
     "output_type": "stream",
     "text": [
      "Error fetching historical data for EPAY: No historical data found for ticker\n",
      "Monthly data for EVR saved successfully.\n"
     ]
    },
    {
     "name": "stderr",
     "output_type": "stream",
     "text": [
      "$ABCO: possibly delisted; No price data found  (1d 2021-01-01 -> 2024-08-09)\n",
      "$LOCK: possibly delisted; No price data found  (1d 2021-01-01 -> 2024-08-09)\n"
     ]
    },
    {
     "name": "stdout",
     "output_type": "stream",
     "text": [
      "$ABCO: possibly delisted; No price data found  (1d 2021-01-01 -> 2024-08-09)\n",
      "Error fetching historical data for ABCO: No historical data found for ticker\n",
      "$LOCK: possibly delisted; No price data found  (1d 2021-01-01 -> 2024-08-09)\n",
      "Error fetching historical data for LOCK: No historical data found for ticker\n"
     ]
    },
    {
     "name": "stderr",
     "output_type": "stream",
     "text": [
      "$TNGO: possibly delisted; No price data found  (1d 2021-01-01 -> 2024-08-09)\n"
     ]
    },
    {
     "name": "stdout",
     "output_type": "stream",
     "text": [
      "Monthly data for MG saved successfully.\n",
      "Monthly data for HUBG saved successfully.\n",
      "$TNGO: possibly delisted; No price data found  (1d 2021-01-01 -> 2024-08-09)\n",
      "Error fetching historical data for TNGO: No historical data found for ticker\n",
      "Monthly data for CMRE saved successfully.\n",
      "Monthly data for SVM saved successfully.\n"
     ]
    },
    {
     "name": "stderr",
     "output_type": "stream",
     "text": [
      "$ACMP: possibly delisted; No price data found  (1d 2021-01-01 -> 2024-08-09)\n",
      "$APAGF: possibly delisted; No price data found  (1d 2021-01-01 -> 2024-08-09)\n"
     ]
    },
    {
     "name": "stdout",
     "output_type": "stream",
     "text": [
      "Monthly data for PBI saved successfully.\n",
      "$ACMP: possibly delisted; No price data found  (1d 2021-01-01 -> 2024-08-09)\n",
      "Error fetching historical data for ACMP: No historical data found for ticker\n",
      "$APAGF: possibly delisted; No price data found  (1d 2021-01-01 -> 2024-08-09)\n",
      "Error fetching historical data for APAGF: No historical data found for ticker\n"
     ]
    },
    {
     "name": "stderr",
     "output_type": "stream",
     "text": [
      "$DTV: possibly delisted; No timezone found\n"
     ]
    },
    {
     "name": "stdout",
     "output_type": "stream",
     "text": [
      "Error fetching historical data for DTV: No historical data found for ticker\n"
     ]
    },
    {
     "name": "stderr",
     "output_type": "stream",
     "text": [
      "$EEI: possibly delisted; No timezone found\n",
      "$SBMRY: possibly delisted; No price data found  (1d 2021-01-01 -> 2024-08-09)\n"
     ]
    },
    {
     "name": "stdout",
     "output_type": "stream",
     "text": [
      "Error fetching historical data for EEI: No historical data found for ticker\n",
      "$SBMRY: possibly delisted; No price data found  (1d 2021-01-01 -> 2024-08-09)\n",
      "Error fetching historical data for SBMRY: No historical data found for ticker\n"
     ]
    },
    {
     "name": "stderr",
     "output_type": "stream",
     "text": [
      "$RUK: possibly delisted; No price data found  (1d 2021-01-01 -> 2024-08-09)\n",
      "$COV: possibly delisted; No price data found  (1d 2021-01-01 -> 2024-08-09)\n"
     ]
    },
    {
     "name": "stdout",
     "output_type": "stream",
     "text": [
      "Monthly data for CTTAY saved successfully.\n",
      "$RUK: possibly delisted; No price data found  (1d 2021-01-01 -> 2024-08-09)\n",
      "Error fetching historical data for RUK: No historical data found for ticker\n",
      "$COV: possibly delisted; No price data found  (1d 2021-01-01 -> 2024-08-09)\n",
      "Error fetching historical data for COV: No historical data found for ticker\n"
     ]
    },
    {
     "name": "stderr",
     "output_type": "stream",
     "text": [
      "$BMBLY: possibly delisted; No timezone found\n"
     ]
    },
    {
     "name": "stdout",
     "output_type": "stream",
     "text": [
      "Error fetching historical data for BMBLY: No historical data found for ticker\n",
      "Monthly data for FOSL saved successfully.\n",
      "Monthly data for CFRUY saved successfully.\n",
      "Monthly data for SNPHY saved successfully.\n",
      "Monthly data for CIOXY saved successfully.\n"
     ]
    },
    {
     "name": "stderr",
     "output_type": "stream",
     "text": [
      "$NYSE: COV: possibly delisted; No timezone found\n"
     ]
    },
    {
     "name": "stdout",
     "output_type": "stream",
     "text": [
      "Error fetching historical data for NYSE: COV: No historical data found for ticker\n",
      "Monthly data for CVE saved successfully.\n"
     ]
    },
    {
     "name": "stderr",
     "output_type": "stream",
     "text": [
      "$PTNR: possibly delisted; No timezone found\n"
     ]
    },
    {
     "name": "stdout",
     "output_type": "stream",
     "text": [
      "Error fetching historical data for PTNR: No historical data found for ticker\n",
      "Monthly data for CJREF saved successfully.\n",
      "Monthly data for OII saved successfully.\n",
      "Monthly data for DVY saved successfully.\n"
     ]
    },
    {
     "name": "stderr",
     "output_type": "stream",
     "text": [
      "$SDLP: possibly delisted; No timezone found\n"
     ]
    },
    {
     "name": "stdout",
     "output_type": "stream",
     "text": [
      "Error fetching historical data for SDLP: No historical data found for ticker\n"
     ]
    },
    {
     "name": "stderr",
     "output_type": "stream",
     "text": [
      "$ATU: possibly delisted; No timezone found\n"
     ]
    },
    {
     "name": "stdout",
     "output_type": "stream",
     "text": [
      "Error fetching historical data for ATU: No historical data found for ticker\n",
      "Monthly data for VVC saved successfully.\n",
      "Monthly data for NOG saved successfully.\n"
     ]
    },
    {
     "name": "stderr",
     "output_type": "stream",
     "text": [
      "$AKCPF: possibly delisted; No timezone found\n",
      "$KLXI: possibly delisted; No price data found  (1d 2021-01-01 -> 2024-08-09)\n",
      "$VLKPY: possibly delisted; No price data found  (1d 2021-01-01 -> 2024-08-09)\n",
      "$BEAV: possibly delisted; No price data found  (1d 2021-01-01 -> 2024-08-09)\n"
     ]
    },
    {
     "name": "stdout",
     "output_type": "stream",
     "text": [
      "Error fetching historical data for AKCPF: No historical data found for ticker\n",
      "$KLXI: possibly delisted; No price data found  (1d 2021-01-01 -> 2024-08-09)\n",
      "Error fetching historical data for KLXI: No historical data found for ticker\n",
      "$VLKPY: possibly delisted; No price data found  (1d 2021-01-01 -> 2024-08-09)\n",
      "Error fetching historical data for VLKPY: No historical data found for ticker\n",
      "$BEAV: possibly delisted; No price data found  (1d 2021-01-01 -> 2024-08-09)\n",
      "Error fetching historical data for BEAV: No historical data found for ticker\n"
     ]
    },
    {
     "name": "stderr",
     "output_type": "stream",
     "text": [
      "$URIRP: possibly delisted; No price data found  (1d 2021-01-01 -> 2024-08-09)\n"
     ]
    },
    {
     "name": "stdout",
     "output_type": "stream",
     "text": [
      "$URIRP: possibly delisted; No price data found  (1d 2021-01-01 -> 2024-08-09)\n",
      "Error fetching historical data for URIRP: No historical data found for ticker\n"
     ]
    },
    {
     "name": "stderr",
     "output_type": "stream",
     "text": [
      "$DRAD: possibly delisted; No timezone found\n"
     ]
    },
    {
     "name": "stdout",
     "output_type": "stream",
     "text": [
      "Error fetching historical data for DRAD: No historical data found for ticker\n",
      "Monthly data for FCNCB saved successfully.\n"
     ]
    },
    {
     "name": "stderr",
     "output_type": "stream",
     "text": [
      "$VPFG: possibly delisted; No price data found  (1d 2021-01-01 -> 2024-08-09)\n"
     ]
    },
    {
     "name": "stdout",
     "output_type": "stream",
     "text": [
      "$VPFG: possibly delisted; No price data found  (1d 2021-01-01 -> 2024-08-09)\n",
      "Error fetching historical data for VPFG: No historical data found for ticker\n",
      "Monthly data for B saved successfully.\n"
     ]
    },
    {
     "name": "stderr",
     "output_type": "stream",
     "text": [
      "$HOSPIC: possibly delisted; No timezone found\n"
     ]
    },
    {
     "name": "stdout",
     "output_type": "stream",
     "text": [
      "Error fetching historical data for HOSPIC: No historical data found for ticker\n"
     ]
    },
    {
     "name": "stderr",
     "output_type": "stream",
     "text": [
      "$TDA: possibly delisted; No timezone found\n",
      "$CPN: possibly delisted; No price data found  (1d 2021-01-01 -> 2024-08-09)\n"
     ]
    },
    {
     "name": "stdout",
     "output_type": "stream",
     "text": [
      "Error fetching historical data for TDA: No historical data found for ticker\n",
      "Monthly data for TOLLX saved successfully.\n",
      "$CPN: possibly delisted; No price data found  (1d 2021-01-01 -> 2024-08-09)\n",
      "Error fetching historical data for CPN: No historical data found for ticker\n"
     ]
    },
    {
     "name": "stderr",
     "output_type": "stream",
     "text": [
      "$LNCO: possibly delisted; No price data found  (1d 2021-01-01 -> 2024-08-09)\n",
      "$VGRAX: possibly delisted; No price data found  (1d 2021-01-01 -> 2024-08-09)\n"
     ]
    },
    {
     "name": "stdout",
     "output_type": "stream",
     "text": [
      "$LNCO: possibly delisted; No price data found  (1d 2021-01-01 -> 2024-08-09)\n",
      "Error fetching historical data for LNCO: No historical data found for ticker\n",
      "$VGRAX: possibly delisted; No price data found  (1d 2021-01-01 -> 2024-08-09)\n",
      "Error fetching historical data for VGRAX: No historical data found for ticker\n",
      "Monthly data for LINE saved successfully.\n",
      "Monthly data for ACEIX saved successfully.\n",
      "Monthly data for WASCX saved successfully.\n",
      "Monthly data for MDDVX saved successfully.\n",
      "Monthly data for FLRN saved successfully.\n",
      "Monthly data for SDRL saved successfully.\n",
      "Monthly data for SCHE saved successfully.\n",
      "Monthly data for HTD saved successfully.\n",
      "Monthly data for ETG saved successfully.\n",
      "Monthly data for BTF saved successfully.\n"
     ]
    },
    {
     "name": "stderr",
     "output_type": "stream",
     "text": [
      "$HGH: possibly delisted; No timezone found\n",
      "$BYI: possibly delisted; No price data found  (1d 2021-01-01 -> 2024-08-09)\n"
     ]
    },
    {
     "name": "stdout",
     "output_type": "stream",
     "text": [
      "Error fetching historical data for HGH: No historical data found for ticker\n",
      "$BYI: possibly delisted; No price data found  (1d 2021-01-01 -> 2024-08-09)\n",
      "Error fetching historical data for BYI: No historical data found for ticker\n",
      "Monthly data for OLN saved successfully.\n"
     ]
    },
    {
     "name": "stderr",
     "output_type": "stream",
     "text": [
      "$CIR: possibly delisted; No timezone found\n"
     ]
    },
    {
     "name": "stdout",
     "output_type": "stream",
     "text": [
      "Error fetching historical data for CIR: No historical data found for ticker\n"
     ]
    },
    {
     "name": "stderr",
     "output_type": "stream",
     "text": [
      "$CEA: possibly delisted; No timezone found\n"
     ]
    },
    {
     "name": "stdout",
     "output_type": "stream",
     "text": [
      "Error fetching historical data for CEA: No historical data found for ticker\n",
      "Monthly data for RYN saved successfully.\n",
      "Monthly data for MFCDX saved successfully.\n",
      "Monthly data for CBI saved successfully.\n"
     ]
    },
    {
     "name": "stderr",
     "output_type": "stream",
     "text": [
      "$SYMC: possibly delisted; No timezone found\n",
      "$TMH: possibly delisted; No price data found  (1d 2021-01-01 -> 2024-08-09)\n"
     ]
    },
    {
     "name": "stdout",
     "output_type": "stream",
     "text": [
      "Error fetching historical data for SYMC: No historical data found for ticker\n",
      "$TMH: possibly delisted; No price data found  (1d 2021-01-01 -> 2024-08-09)\n",
      "Error fetching historical data for TMH: No historical data found for ticker\n",
      "Monthly data for ONVO saved successfully.\n",
      "Monthly data for DBA saved successfully.\n",
      "Monthly data for ENTR saved successfully.\n"
     ]
    },
    {
     "name": "stderr",
     "output_type": "stream",
     "text": [
      "$BCOR: possibly delisted; No timezone found\n"
     ]
    },
    {
     "name": "stdout",
     "output_type": "stream",
     "text": [
      "Error fetching historical data for BCOR: No historical data found for ticker\n"
     ]
    },
    {
     "name": "stderr",
     "output_type": "stream",
     "text": [
      "$SFLY: possibly delisted; No timezone found\n",
      "$ELX: possibly delisted; No price data found  (1d 2021-01-01 -> 2024-08-09)\n",
      "$ARCP: possibly delisted; No price data found  (1d 2021-01-01 -> 2024-08-09)\n"
     ]
    },
    {
     "name": "stdout",
     "output_type": "stream",
     "text": [
      "Error fetching historical data for SFLY: No historical data found for ticker\n",
      "$ELX: possibly delisted; No price data found  (1d 2021-01-01 -> 2024-08-09)\n",
      "Error fetching historical data for ELX: No historical data found for ticker\n",
      "$ARCP: possibly delisted; No price data found  (1d 2021-01-01 -> 2024-08-09)\n",
      "Error fetching historical data for ARCP: No historical data found for ticker\n"
     ]
    },
    {
     "name": "stderr",
     "output_type": "stream",
     "text": [
      "$COF.PP: possibly delisted; No timezone found\n"
     ]
    },
    {
     "name": "stdout",
     "output_type": "stream",
     "text": [
      "Error fetching historical data for COF.PP: No historical data found for ticker\n",
      "Monthly data for LYSFF saved successfully.\n",
      "Monthly data for IRDM saved successfully.\n"
     ]
    },
    {
     "name": "stderr",
     "output_type": "stream",
     "text": [
      "$NES: possibly delisted; No timezone found\n"
     ]
    },
    {
     "name": "stdout",
     "output_type": "stream",
     "text": [
      "Error fetching historical data for NES: No historical data found for ticker\n",
      "Monthly data for GARPF saved successfully.\n",
      "Monthly data for FOJCF saved successfully.\n",
      "Monthly data for MTW saved successfully.\n"
     ]
    },
    {
     "name": "stderr",
     "output_type": "stream",
     "text": [
      "$MEMP: possibly delisted; No price data found  (1d 2021-01-01 -> 2024-08-09)\n"
     ]
    },
    {
     "name": "stdout",
     "output_type": "stream",
     "text": [
      "Monthly data for VIXY saved successfully.\n",
      "Monthly data for ASBRF saved successfully.\n",
      "$MEMP: possibly delisted; No price data found  (1d 2021-01-01 -> 2024-08-09)\n",
      "Error fetching historical data for MEMP: No historical data found for ticker\n"
     ]
    },
    {
     "name": "stderr",
     "output_type": "stream",
     "text": [
      "$6320058: possibly delisted; No timezone found\n",
      "$CDA: possibly delisted; No price data found  (1d 2021-01-01 -> 2024-08-09)\n"
     ]
    },
    {
     "name": "stdout",
     "output_type": "stream",
     "text": [
      "Error fetching historical data for 6320058: No historical data found for ticker\n",
      "Monthly data for PNNT saved successfully.\n",
      "$CDA: possibly delisted; No price data found  (1d 2021-01-01 -> 2024-08-09)\n",
      "Error fetching historical data for CDA: No historical data found for ticker\n",
      "Monthly data for SCZ saved successfully.\n"
     ]
    },
    {
     "name": "stderr",
     "output_type": "stream",
     "text": [
      "$INF: possibly delisted; No timezone found\n"
     ]
    },
    {
     "name": "stdout",
     "output_type": "stream",
     "text": [
      "Error fetching historical data for INF: No historical data found for ticker\n"
     ]
    },
    {
     "name": "stderr",
     "output_type": "stream",
     "text": [
      "$USB.PN: possibly delisted; No timezone found\n"
     ]
    },
    {
     "name": "stdout",
     "output_type": "stream",
     "text": [
      "Error fetching historical data for USB.PN: No historical data found for ticker\n",
      "Monthly data for LNXW saved successfully.\n"
     ]
    },
    {
     "name": "stderr",
     "output_type": "stream",
     "text": [
      "$HBAYF: possibly delisted; No timezone found\n"
     ]
    },
    {
     "name": "stdout",
     "output_type": "stream",
     "text": [
      "Error fetching historical data for HBAYF: No historical data found for ticker\n",
      "Monthly data for BNEFF saved successfully.\n"
     ]
    },
    {
     "name": "stderr",
     "output_type": "stream",
     "text": [
      "$FUR: possibly delisted; No price data found  (1d 2021-01-01 -> 2024-08-09)\n"
     ]
    },
    {
     "name": "stdout",
     "output_type": "stream",
     "text": [
      "Monthly data for AVA saved successfully.\n",
      "$FUR: possibly delisted; No price data found  (1d 2021-01-01 -> 2024-08-09)\n",
      "Error fetching historical data for FUR: No historical data found for ticker\n",
      "Monthly data for SPGYF saved successfully.\n"
     ]
    },
    {
     "name": "stderr",
     "output_type": "stream",
     "text": [
      "$GSJK: possibly delisted; No price data found  (1d 2021-01-01 -> 2024-08-09)\n"
     ]
    },
    {
     "name": "stdout",
     "output_type": "stream",
     "text": [
      "Monthly data for UFI saved successfully.\n",
      "$GSJK: possibly delisted; No price data found  (1d 2021-01-01 -> 2024-08-09)\n",
      "Error fetching historical data for GSJK: No historical data found for ticker\n",
      "Monthly data for ILF saved successfully.\n"
     ]
    },
    {
     "name": "stderr",
     "output_type": "stream",
     "text": [
      "$VTTI: possibly delisted; No price data found  (1d 2021-01-01 -> 2024-08-09)\n"
     ]
    },
    {
     "name": "stdout",
     "output_type": "stream",
     "text": [
      "Monthly data for EPP saved successfully.\n",
      "$VTTI: possibly delisted; No price data found  (1d 2021-01-01 -> 2024-08-09)\n",
      "Error fetching historical data for VTTI: No historical data found for ticker\n",
      "Monthly data for HYT saved successfully.\n"
     ]
    },
    {
     "name": "stderr",
     "output_type": "stream",
     "text": [
      "$WLP: possibly delisted; No price data found  (1d 2021-01-01 -> 2024-08-09)\n"
     ]
    },
    {
     "name": "stdout",
     "output_type": "stream",
     "text": [
      "Monthly data for RYAM saved successfully.\n",
      "$WLP: possibly delisted; No price data found  (1d 2021-01-01 -> 2024-08-09)\n",
      "Error fetching historical data for WLP: No historical data found for ticker\n",
      "Monthly data for ATMP saved successfully.\n"
     ]
    },
    {
     "name": "stderr",
     "output_type": "stream",
     "text": [
      "$OSRN DE: possibly delisted; No timezone found\n",
      "$LGP: possibly delisted; No price data found  (1d 2021-01-01 -> 2024-08-09)\n"
     ]
    },
    {
     "name": "stdout",
     "output_type": "stream",
     "text": [
      "Error fetching historical data for OSRN DE: No historical data found for ticker\n",
      "$LGP: possibly delisted; No price data found  (1d 2021-01-01 -> 2024-08-09)\n",
      "Error fetching historical data for LGP: No historical data found for ticker\n"
     ]
    },
    {
     "name": "stderr",
     "output_type": "stream",
     "text": [
      "$FDO: possibly delisted; No price data found  (1d 2021-01-01 -> 2024-08-09)\n",
      "$RIGP: possibly delisted; No price data found  (1d 2021-01-01 -> 2024-08-09)\n"
     ]
    },
    {
     "name": "stdout",
     "output_type": "stream",
     "text": [
      "Monthly data for SEM saved successfully.\n",
      "$FDO: possibly delisted; No price data found  (1d 2021-01-01 -> 2024-08-09)\n",
      "Error fetching historical data for FDO: No historical data found for ticker\n",
      "$RIGP: possibly delisted; No price data found  (1d 2021-01-01 -> 2024-08-09)\n",
      "Error fetching historical data for RIGP: No historical data found for ticker\n"
     ]
    },
    {
     "name": "stderr",
     "output_type": "stream",
     "text": [
      "$HUB.B: possibly delisted; No price data found  (1d 2021-01-01 -> 2024-08-09)\n"
     ]
    },
    {
     "name": "stdout",
     "output_type": "stream",
     "text": [
      "Monthly data for BPAQF saved successfully.\n",
      "$HUB.B: possibly delisted; No price data found  (1d 2021-01-01 -> 2024-08-09)\n",
      "Error fetching historical data for HUB.B: No historical data found for ticker\n",
      "Monthly data for PL saved successfully.\n"
     ]
    },
    {
     "name": "stderr",
     "output_type": "stream",
     "text": [
      "$PGH: possibly delisted; No price data found  (1d 2021-01-01 -> 2024-08-09)\n"
     ]
    },
    {
     "name": "stdout",
     "output_type": "stream",
     "text": [
      "Monthly data for HCC saved successfully.\n",
      "$PGH: possibly delisted; No price data found  (1d 2021-01-01 -> 2024-08-09)\n",
      "Error fetching historical data for PGH: No historical data found for ticker\n",
      "Monthly data for MLPRX saved successfully.\n",
      "Monthly data for BTE saved successfully.\n"
     ]
    },
    {
     "name": "stderr",
     "output_type": "stream",
     "text": [
      "$CFX: possibly delisted; No timezone found\n"
     ]
    },
    {
     "name": "stdout",
     "output_type": "stream",
     "text": [
      "Error fetching historical data for CFX: No historical data found for ticker\n",
      "Monthly data for BWX saved successfully.\n",
      "Monthly data for PHB saved successfully.\n"
     ]
    },
    {
     "name": "stderr",
     "output_type": "stream",
     "text": [
      "$MDP: possibly delisted; No timezone found\n"
     ]
    },
    {
     "name": "stdout",
     "output_type": "stream",
     "text": [
      "Error fetching historical data for MDP: No historical data found for ticker\n",
      "Monthly data for IDU saved successfully.\n"
     ]
    },
    {
     "name": "stderr",
     "output_type": "stream",
     "text": [
      "$TMST: possibly delisted; No timezone found\n"
     ]
    },
    {
     "name": "stdout",
     "output_type": "stream",
     "text": [
      "Error fetching historical data for TMST: No historical data found for ticker\n",
      "Monthly data for TKR saved successfully.\n"
     ]
    },
    {
     "name": "stderr",
     "output_type": "stream",
     "text": [
      "$NTI: possibly delisted; No price data found  (1d 2021-01-01 -> 2024-08-09)\n"
     ]
    },
    {
     "name": "stdout",
     "output_type": "stream",
     "text": [
      "$NTI: possibly delisted; No price data found  (1d 2021-01-01 -> 2024-08-09)\n",
      "Error fetching historical data for NTI: No historical data found for ticker\n",
      "Monthly data for RCS saved successfully.\n"
     ]
    },
    {
     "name": "stderr",
     "output_type": "stream",
     "text": [
      "$PWE: possibly delisted; No price data found  (1d 2021-01-01 -> 2024-08-09)\n",
      "$QRE: possibly delisted; No price data found  (1d 2021-01-01 -> 2024-08-09)\n"
     ]
    },
    {
     "name": "stdout",
     "output_type": "stream",
     "text": [
      "$PWE: possibly delisted; No price data found  (1d 2021-01-01 -> 2024-08-09)\n",
      "Error fetching historical data for PWE: No historical data found for ticker\n",
      "$QRE: possibly delisted; No price data found  (1d 2021-01-01 -> 2024-08-09)\n",
      "Error fetching historical data for QRE: No historical data found for ticker\n",
      "Monthly data for YRAIF saved successfully.\n"
     ]
    },
    {
     "name": "stderr",
     "output_type": "stream",
     "text": [
      "$RNDY: possibly delisted; No price data found  (1d 2021-01-01 -> 2024-08-09)\n"
     ]
    },
    {
     "name": "stdout",
     "output_type": "stream",
     "text": [
      "$RNDY: possibly delisted; No price data found  (1d 2021-01-01 -> 2024-08-09)\n",
      "Error fetching historical data for RNDY: No historical data found for ticker\n",
      "Monthly data for LMGEX saved successfully.\n",
      "Monthly data for PRE saved successfully.\n",
      "Monthly data for AIT saved successfully.\n"
     ]
    },
    {
     "name": "stderr",
     "output_type": "stream",
     "text": [
      "$CMO: possibly delisted; No timezone found\n"
     ]
    },
    {
     "name": "stdout",
     "output_type": "stream",
     "text": [
      "Error fetching historical data for CMO: No historical data found for ticker\n"
     ]
    },
    {
     "name": "stderr",
     "output_type": "stream",
     "text": [
      "$ROC: possibly delisted; No timezone found\n",
      "$JOSB: possibly delisted; No price data found  (1d 2021-01-01 -> 2024-08-09)\n",
      "$DOM: possibly delisted; No price data found  (1d 2021-01-01 -> 2024-08-09)\n",
      "$TCK: possibly delisted; No price data found  (1d 2021-01-01 -> 2024-08-09)\n"
     ]
    },
    {
     "name": "stdout",
     "output_type": "stream",
     "text": [
      "Error fetching historical data for ROC: No historical data found for ticker\n",
      "$JOSB: possibly delisted; No price data found  (1d 2021-01-01 -> 2024-08-09)\n",
      "Error fetching historical data for JOSB: No historical data found for ticker\n",
      "$DOM: possibly delisted; No price data found  (1d 2021-01-01 -> 2024-08-09)\n",
      "Error fetching historical data for DOM: No historical data found for ticker\n",
      "$TCK: possibly delisted; No price data found  (1d 2021-01-01 -> 2024-08-09)\n",
      "Error fetching historical data for TCK: No historical data found for ticker\n",
      "Monthly data for IDCBY saved successfully.\n",
      "Monthly data for GNW saved successfully.\n",
      "$KMR: possibly delisted; No price data found  (1d 2021-01-01 -> 2024-08-09)\n"
     ]
    },
    {
     "name": "stderr",
     "output_type": "stream",
     "text": [
      "$KMR: possibly delisted; No price data found  (1d 2021-01-01 -> 2024-08-09)\n",
      "$PEGFF: possibly delisted; No price data found  (1d 2021-01-01 -> 2024-08-09)\n"
     ]
    },
    {
     "name": "stdout",
     "output_type": "stream",
     "text": [
      "Error fetching historical data for KMR: No historical data found for ticker\n",
      "Monthly data for CAOVY saved successfully.\n",
      "$PEGFF: possibly delisted; No price data found  (1d 2021-01-01 -> 2024-08-09)\n",
      "Error fetching historical data for PEGFF: No historical data found for ticker\n",
      "Monthly data for DNFGY saved successfully.\n"
     ]
    },
    {
     "name": "stderr",
     "output_type": "stream",
     "text": [
      "$CCCGY: possibly delisted; No timezone found\n"
     ]
    },
    {
     "name": "stdout",
     "output_type": "stream",
     "text": [
      "Error fetching historical data for CCCGY: No historical data found for ticker\n",
      "Monthly data for DBP saved successfully.\n"
     ]
    },
    {
     "name": "stderr",
     "output_type": "stream",
     "text": [
      "$GNC: possibly delisted; No timezone found\n"
     ]
    },
    {
     "name": "stdout",
     "output_type": "stream",
     "text": [
      "Error fetching historical data for GNC: No historical data found for ticker\n",
      "Monthly data for TAL saved successfully.\n"
     ]
    },
    {
     "name": "stderr",
     "output_type": "stream",
     "text": [
      "$CPE$A: possibly delisted; No timezone found\n"
     ]
    },
    {
     "name": "stdout",
     "output_type": "stream",
     "text": [
      "Error fetching historical data for CPE$A: No historical data found for ticker\n",
      "Monthly data for NRP saved successfully.\n"
     ]
    },
    {
     "name": "stderr",
     "output_type": "stream",
     "text": [
      "$PPR: possibly delisted; No timezone found\n",
      "$GIMO: possibly delisted; No price data found  (1d 2021-01-01 -> 2024-08-09)\n"
     ]
    },
    {
     "name": "stdout",
     "output_type": "stream",
     "text": [
      "Error fetching historical data for PPR: No historical data found for ticker\n",
      "$GIMO: possibly delisted; No price data found  (1d 2021-01-01 -> 2024-08-09)\n",
      "Error fetching historical data for GIMO: No historical data found for ticker\n"
     ]
    },
    {
     "name": "stderr",
     "output_type": "stream",
     "text": [
      "$ECIFY: possibly delisted; No timezone found\n"
     ]
    },
    {
     "name": "stdout",
     "output_type": "stream",
     "text": [
      "Error fetching historical data for ECIFY: No historical data found for ticker\n",
      "Monthly data for RKT saved successfully.\n",
      "Monthly data for BC saved successfully.\n"
     ]
    },
    {
     "name": "stderr",
     "output_type": "stream",
     "text": [
      "$QEP: possibly delisted; No timezone found\n",
      "$CFN: possibly delisted; No price data found  (1d 2021-01-01 -> 2024-08-09)\n",
      "$EGN: possibly delisted; No price data found  (1d 2021-01-01 -> 2024-08-09)\n"
     ]
    },
    {
     "name": "stdout",
     "output_type": "stream",
     "text": [
      "Error fetching historical data for QEP: No historical data found for ticker\n",
      "$CFN: possibly delisted; No price data found  (1d 2021-01-01 -> 2024-08-09)\n",
      "Error fetching historical data for CFN: No historical data found for ticker\n",
      "$EGN: possibly delisted; No price data found  (1d 2021-01-01 -> 2024-08-09)\n",
      "Error fetching historical data for EGN: No historical data found for ticker\n"
     ]
    },
    {
     "name": "stderr",
     "output_type": "stream",
     "text": [
      "$MHFI: possibly delisted; No price data found  (1d 2021-01-01 -> 2024-08-09)\n",
      "$WNR: possibly delisted; No price data found  (1d 2021-01-01 -> 2024-08-09)\n",
      "$TRW: possibly delisted; No price data found  (1d 2021-01-01 -> 2024-08-09)\n"
     ]
    },
    {
     "name": "stdout",
     "output_type": "stream",
     "text": [
      "Monthly data for VR saved successfully.\n",
      "$MHFI: possibly delisted; No price data found  (1d 2021-01-01 -> 2024-08-09)\n",
      "Error fetching historical data for MHFI: No historical data found for ticker\n",
      "$WNR: possibly delisted; No price data found  (1d 2021-01-01 -> 2024-08-09)\n",
      "Error fetching historical data for WNR: No historical data found for ticker\n",
      "$TRW: possibly delisted; No price data found  (1d 2021-01-01 -> 2024-08-09)\n",
      "Error fetching historical data for TRW: No historical data found for ticker\n"
     ]
    },
    {
     "name": "stderr",
     "output_type": "stream",
     "text": [
      "$APOL: possibly delisted; No price data found  (1d 2021-01-01 -> 2024-08-09)\n"
     ]
    },
    {
     "name": "stdout",
     "output_type": "stream",
     "text": [
      "Monthly data for PHI saved successfully.\n",
      "$APOL: possibly delisted; No price data found  (1d 2021-01-01 -> 2024-08-09)\n",
      "Error fetching historical data for APOL: No historical data found for ticker\n"
     ]
    },
    {
     "name": "stderr",
     "output_type": "stream",
     "text": [
      "$RRD: possibly delisted; No timezone found\n",
      "$ONNN: possibly delisted; No price data found  (1d 2021-01-01 -> 2024-08-09)\n",
      "$WR: possibly delisted; No price data found  (1d 2021-01-01 -> 2024-08-09)\n"
     ]
    },
    {
     "name": "stdout",
     "output_type": "stream",
     "text": [
      "Error fetching historical data for RRD: No historical data found for ticker\n",
      "$ONNN: possibly delisted; No price data found  (1d 2021-01-01 -> 2024-08-09)\n",
      "Error fetching historical data for ONNN: No historical data found for ticker\n",
      "$WR: possibly delisted; No price data found  (1d 2021-01-01 -> 2024-08-09)\n",
      "Error fetching historical data for WR: No historical data found for ticker\n"
     ]
    },
    {
     "name": "stderr",
     "output_type": "stream",
     "text": [
      "$BRCD: possibly delisted; No price data found  (1d 2021-01-01 -> 2024-08-09)\n",
      "$STO: possibly delisted; No price data found  (1d 2021-01-01 -> 2024-08-09)\n",
      "$TSO: possibly delisted; No price data found  (1d 2021-01-01 -> 2024-08-09)\n",
      "$KMP: possibly delisted; No price data found  (1d 2021-01-01 -> 2024-08-09)\n"
     ]
    },
    {
     "name": "stdout",
     "output_type": "stream",
     "text": [
      "$BRCD: possibly delisted; No price data found  (1d 2021-01-01 -> 2024-08-09)\n",
      "Error fetching historical data for BRCD: No historical data found for ticker\n",
      "$STO: possibly delisted; No price data found  (1d 2021-01-01 -> 2024-08-09)\n",
      "Error fetching historical data for STO: No historical data found for ticker\n",
      "$TSO: possibly delisted; No price data found  (1d 2021-01-01 -> 2024-08-09)\n",
      "Error fetching historical data for TSO: No historical data found for ticker\n",
      "$KMP: possibly delisted; No price data found  (1d 2021-01-01 -> 2024-08-09)\n",
      "Error fetching historical data for KMP: No historical data found for ticker\n"
     ]
    },
    {
     "name": "stderr",
     "output_type": "stream",
     "text": [
      "$CAM: possibly delisted; No price data found  (1d 2021-01-01 -> 2024-08-09)\n"
     ]
    },
    {
     "name": "stdout",
     "output_type": "stream",
     "text": [
      "$CAM: possibly delisted; No price data found  (1d 2021-01-01 -> 2024-08-09)\n",
      "Error fetching historical data for CAM: No historical data found for ticker\n"
     ]
    },
    {
     "name": "stderr",
     "output_type": "stream",
     "text": [
      "$SJR: possibly delisted; No timezone found\n",
      "$ZMH: possibly delisted; No price data found  (1d 2021-01-01 -> 2024-08-09)\n"
     ]
    },
    {
     "name": "stdout",
     "output_type": "stream",
     "text": [
      "Error fetching historical data for SJR: No historical data found for ticker\n",
      "$ZMH: possibly delisted; No price data found  (1d 2021-01-01 -> 2024-08-09)\n",
      "Error fetching historical data for ZMH: No historical data found for ticker\n",
      "Monthly data for NMFC saved successfully.\n"
     ]
    },
    {
     "name": "stderr",
     "output_type": "stream",
     "text": [
      "$SWAY: possibly delisted; No timezone found\n"
     ]
    },
    {
     "name": "stdout",
     "output_type": "stream",
     "text": [
      "Error fetching historical data for SWAY: No historical data found for ticker\n"
     ]
    },
    {
     "name": "stderr",
     "output_type": "stream",
     "text": [
      "$B5NC0D0: possibly delisted; No timezone found\n"
     ]
    },
    {
     "name": "stdout",
     "output_type": "stream",
     "text": [
      "Error fetching historical data for B5NC0D0: No historical data found for ticker\n",
      "Monthly data for CTBI saved successfully.\n"
     ]
    },
    {
     "name": "stderr",
     "output_type": "stream",
     "text": [
      "$CPSI: possibly delisted; No timezone found\n"
     ]
    },
    {
     "name": "stdout",
     "output_type": "stream",
     "text": [
      "Error fetching historical data for CPSI: No historical data found for ticker\n"
     ]
    },
    {
     "name": "stderr",
     "output_type": "stream",
     "text": [
      "$FLY: possibly delisted; No timezone found\n"
     ]
    },
    {
     "name": "stdout",
     "output_type": "stream",
     "text": [
      "Error fetching historical data for FLY: No historical data found for ticker\n",
      "Monthly data for CHCO saved successfully.\n"
     ]
    },
    {
     "name": "stderr",
     "output_type": "stream",
     "text": [
      "$CYS: possibly delisted; No price data found  (1d 2021-01-01 -> 2024-08-09)\n",
      "$LDR: possibly delisted; No price data found  (1d 2021-01-01 -> 2024-08-09)\n"
     ]
    },
    {
     "name": "stdout",
     "output_type": "stream",
     "text": [
      "$CYS: possibly delisted; No price data found  (1d 2021-01-01 -> 2024-08-09)\n",
      "Error fetching historical data for CYS: No historical data found for ticker\n",
      "$LDR: possibly delisted; No price data found  (1d 2021-01-01 -> 2024-08-09)\n",
      "Error fetching historical data for LDR: No historical data found for ticker\n"
     ]
    },
    {
     "name": "stderr",
     "output_type": "stream",
     "text": [
      "$YHOO: possibly delisted; No timezone found\n"
     ]
    },
    {
     "name": "stdout",
     "output_type": "stream",
     "text": [
      "Error fetching historical data for YHOO: No historical data found for ticker\n",
      "Monthly data for FFBC saved successfully.\n"
     ]
    },
    {
     "name": "stderr",
     "output_type": "stream",
     "text": [
      "$HTS: possibly delisted; No price data found  (1d 2021-01-01 -> 2024-08-09)\n",
      "$MWO: possibly delisted; No price data found  (1d 2021-01-01 -> 2024-08-09)\n"
     ]
    },
    {
     "name": "stdout",
     "output_type": "stream",
     "text": [
      "$HTS: possibly delisted; No price data found  (1d 2021-01-01 -> 2024-08-09)\n",
      "Error fetching historical data for HTS: No historical data found for ticker\n",
      "$MWO: possibly delisted; No price data found  (1d 2021-01-01 -> 2024-08-09)\n",
      "Error fetching historical data for MWO: No historical data found for ticker\n"
     ]
    },
    {
     "name": "stderr",
     "output_type": "stream",
     "text": [
      "$ROSE: possibly delisted; No timezone found\n",
      "$LGCY: possibly delisted; No price data found  (1d 2021-01-01 -> 2024-08-09)\n",
      "$EVEP: possibly delisted; No price data found  (1d 2021-01-01 -> 2024-08-09)\n",
      "$SUSQ: possibly delisted; No price data found  (1d 2021-01-01 -> 2024-08-09)\n"
     ]
    },
    {
     "name": "stdout",
     "output_type": "stream",
     "text": [
      "Error fetching historical data for ROSE: No historical data found for ticker\n",
      "$LGCY: possibly delisted; No price data found  (1d 2021-01-01 -> 2024-08-09)\n",
      "Error fetching historical data for LGCY: No historical data found for ticker\n",
      "$EVEP: possibly delisted; No price data found  (1d 2021-01-01 -> 2024-08-09)\n",
      "Error fetching historical data for EVEP: No historical data found for ticker\n",
      "$SUSQ: possibly delisted; No price data found  (1d 2021-01-01 -> 2024-08-09)\n",
      "Error fetching historical data for SUSQ: No historical data found for ticker\n"
     ]
    },
    {
     "name": "stderr",
     "output_type": "stream",
     "text": [
      "$FSFR: possibly delisted; No price data found  (1d 2021-01-01 -> 2024-08-09)\n",
      "VODPD: Period '1mo' is invalid, must be one of ['1d', '5d']\n"
     ]
    },
    {
     "name": "stdout",
     "output_type": "stream",
     "text": [
      "$FSFR: possibly delisted; No price data found  (1d 2021-01-01 -> 2024-08-09)\n",
      "Error fetching historical data for FSFR: No historical data found for ticker\n",
      "Monthly data for MTAGF saved successfully.\n",
      "Error fetching historical data for VODPD: No historical data found for ticker\n",
      "Monthly data for AZNCF saved successfully.\n",
      "Monthly data for AOZOY saved successfully.\n"
     ]
    },
    {
     "name": "stderr",
     "output_type": "stream",
     "text": [
      "$JPJQL: possibly delisted; No timezone found\n"
     ]
    },
    {
     "name": "stdout",
     "output_type": "stream",
     "text": [
      "Error fetching historical data for JPJQL: No historical data found for ticker\n",
      "Monthly data for AETUF saved successfully.\n"
     ]
    },
    {
     "name": "stderr",
     "output_type": "stream",
     "text": [
      "$WAG: possibly delisted; No price data found  (1d 2021-01-01 -> 2024-08-09)\n"
     ]
    },
    {
     "name": "stdout",
     "output_type": "stream",
     "text": [
      "Monthly data for NMM saved successfully.\n",
      "$WAG: possibly delisted; No price data found  (1d 2021-01-01 -> 2024-08-09)\n",
      "Error fetching historical data for WAG: No historical data found for ticker\n"
     ]
    },
    {
     "name": "stderr",
     "output_type": "stream",
     "text": [
      "$3%: possibly delisted; No timezone found\n",
      "$SUSP: possibly delisted; No price data found  (1d 2021-01-01 -> 2024-08-09)\n"
     ]
    },
    {
     "name": "stdout",
     "output_type": "stream",
     "text": [
      "Error fetching historical data for 3%: No historical data found for ticker\n",
      "$SUSP: possibly delisted; No price data found  (1d 2021-01-01 -> 2024-08-09)\n",
      "Error fetching historical data for SUSP: No historical data found for ticker\n",
      "Monthly data for RIG saved successfully.\n",
      "Monthly data for EC saved successfully.\n"
     ]
    },
    {
     "name": "stderr",
     "output_type": "stream",
     "text": [
      "$EEP: possibly delisted; No price data found  (1d 2021-01-01 -> 2024-08-09)\n",
      "$EEQ: possibly delisted; No price data found  (1d 2021-01-01 -> 2024-08-09)\n"
     ]
    },
    {
     "name": "stdout",
     "output_type": "stream",
     "text": [
      "$EEP: possibly delisted; No price data found  (1d 2021-01-01 -> 2024-08-09)\n",
      "Error fetching historical data for EEP: No historical data found for ticker\n",
      "$EEQ: possibly delisted; No price data found  (1d 2021-01-01 -> 2024-08-09)\n",
      "Error fetching historical data for EEQ: No historical data found for ticker\n"
     ]
    },
    {
     "name": "stderr",
     "output_type": "stream",
     "text": [
      "$MOG.A: possibly delisted; No timezone found\n",
      "$BBRY: possibly delisted; No price data found  (1d 2021-01-01 -> 2024-08-09)\n"
     ]
    },
    {
     "name": "stdout",
     "output_type": "stream",
     "text": [
      "Error fetching historical data for MOG.A: No historical data found for ticker\n",
      "$BBRY: possibly delisted; No price data found  (1d 2021-01-01 -> 2024-08-09)\n",
      "Error fetching historical data for BBRY: No historical data found for ticker\n",
      "Monthly data for BFK saved successfully.\n"
     ]
    },
    {
     "name": "stderr",
     "output_type": "stream",
     "text": [
      "$MIE: possibly delisted; No timezone found\n"
     ]
    },
    {
     "name": "stdout",
     "output_type": "stream",
     "text": [
      "Error fetching historical data for MIE: No historical data found for ticker\n"
     ]
    },
    {
     "name": "stderr",
     "output_type": "stream",
     "text": [
      "$JMF: possibly delisted; No timezone found\n"
     ]
    },
    {
     "name": "stdout",
     "output_type": "stream",
     "text": [
      "Error fetching historical data for JMF: No historical data found for ticker\n"
     ]
    },
    {
     "name": "stderr",
     "output_type": "stream",
     "text": [
      "$CEN: possibly delisted; No timezone found\n"
     ]
    },
    {
     "name": "stdout",
     "output_type": "stream",
     "text": [
      "Error fetching historical data for CEN: No historical data found for ticker\n",
      "Monthly data for NML saved successfully.\n",
      "Monthly data for CBA saved successfully.\n",
      "Monthly data for ARP saved successfully.\n",
      "Monthly data for OTTR saved successfully.\n"
     ]
    },
    {
     "name": "stderr",
     "output_type": "stream",
     "text": [
      "$CPHD: possibly delisted; No price data found  (1d 2021-01-01 -> 2024-08-09)\n",
      "$PCL: possibly delisted; No price data found  (1d 2021-01-01 -> 2024-08-09)\n",
      "$MRH: possibly delisted; No price data found  (1d 2021-01-01 -> 2024-08-09)\n"
     ]
    },
    {
     "name": "stdout",
     "output_type": "stream",
     "text": [
      "$CPHD: possibly delisted; No price data found  (1d 2021-01-01 -> 2024-08-09)\n",
      "Error fetching historical data for CPHD: No historical data found for ticker\n",
      "$PCL: possibly delisted; No price data found  (1d 2021-01-01 -> 2024-08-09)\n",
      "Error fetching historical data for PCL: No historical data found for ticker\n",
      "$MRH: possibly delisted; No price data found  (1d 2021-01-01 -> 2024-08-09)\n",
      "Error fetching historical data for MRH: No historical data found for ticker\n"
     ]
    },
    {
     "name": "stderr",
     "output_type": "stream",
     "text": [
      "$CTY: possibly delisted; No timezone found\n",
      "CUB: Period '1mo' is invalid, must be one of ['1d', '5d']\n"
     ]
    },
    {
     "name": "stdout",
     "output_type": "stream",
     "text": [
      "Error fetching historical data for CTY: No historical data found for ticker\n",
      "Monthly data for VODPF saved successfully.\n",
      "Error fetching historical data for CUB: No historical data found for ticker\n"
     ]
    },
    {
     "name": "stderr",
     "output_type": "stream",
     "text": [
      "$BBEP: possibly delisted; No price data found  (1d 2021-01-01 -> 2024-08-09)\n"
     ]
    },
    {
     "name": "stdout",
     "output_type": "stream",
     "text": [
      "Monthly data for FCN saved successfully.\n",
      "Monthly data for MTZ saved successfully.\n",
      "$BBEP: possibly delisted; No price data found  (1d 2021-01-01 -> 2024-08-09)\n"
     ]
    },
    {
     "name": "stderr",
     "output_type": "stream",
     "text": [
      "$HNZ: possibly delisted; No price data found  (1d 2021-01-01 -> 2024-08-09)\n",
      "$LLTI: possibly delisted; No price data found  (1d 2021-01-01 -> 2024-08-09)\n",
      "$SAPE: possibly delisted; No price data found  (1d 2021-01-01 -> 2024-08-09)\n"
     ]
    },
    {
     "name": "stdout",
     "output_type": "stream",
     "text": [
      "Error fetching historical data for BBEP: No historical data found for ticker\n",
      "$HNZ: possibly delisted; No price data found  (1d 2021-01-01 -> 2024-08-09)\n",
      "Error fetching historical data for HNZ: No historical data found for ticker\n",
      "$LLTI: possibly delisted; No price data found  (1d 2021-01-01 -> 2024-08-09)\n",
      "Error fetching historical data for LLTI: No historical data found for ticker\n",
      "$SAPE: possibly delisted; No price data found  (1d 2021-01-01 -> 2024-08-09)\n",
      "Error fetching historical data for SAPE: No historical data found for ticker\n"
     ]
    },
    {
     "name": "stderr",
     "output_type": "stream",
     "text": [
      "$NTRI: possibly delisted; No timezone found\n"
     ]
    },
    {
     "name": "stdout",
     "output_type": "stream",
     "text": [
      "Error fetching historical data for NTRI: No historical data found for ticker\n",
      "Monthly data for VCLT saved successfully.\n"
     ]
    },
    {
     "name": "stderr",
     "output_type": "stream",
     "text": [
      "$WCRX: possibly delisted; No price data found  (1d 2021-01-01 -> 2024-08-09)\n",
      "$MLPN: possibly delisted; No price data found  (1d 2021-01-01 -> 2024-08-09)\n"
     ]
    },
    {
     "name": "stdout",
     "output_type": "stream",
     "text": [
      "$WCRX: possibly delisted; No price data found  (1d 2021-01-01 -> 2024-08-09)\n",
      "Error fetching historical data for WCRX: No historical data found for ticker\n",
      "$MLPN: possibly delisted; No price data found  (1d 2021-01-01 -> 2024-08-09)\n",
      "Error fetching historical data for MLPN: No historical data found for ticker\n",
      "Monthly data for IYG saved successfully.\n",
      "Monthly data for FEZ saved successfully.\n",
      "Monthly data for UIS saved successfully.\n"
     ]
    },
    {
     "name": "stderr",
     "output_type": "stream",
     "text": [
      "$GMXRQ: possibly delisted; No timezone found\n"
     ]
    },
    {
     "name": "stdout",
     "output_type": "stream",
     "text": [
      "Error fetching historical data for GMXRQ: No historical data found for ticker\n"
     ]
    },
    {
     "name": "stderr",
     "output_type": "stream",
     "text": [
      "$EP$C: possibly delisted; No timezone found\n"
     ]
    },
    {
     "name": "stdout",
     "output_type": "stream",
     "text": [
      "Error fetching historical data for EP$C: No historical data found for ticker\n",
      "Data collection completed.\n"
     ]
    }
   ],
   "source": [
    "def get_stock_info(ticker):\n",
    "    try:\n",
    "        stock = yf.Ticker(ticker)\n",
    "        info = stock.info\n",
    "        if not info:  # Check if info is empty\n",
    "            raise ValueError(\"No data found for ticker\")\n",
    "        return {\n",
    "            'Ticker': ticker,\n",
    "            'Industry': info.get('industry', 'N/A'),\n",
    "            'Sector': info.get('sector', 'N/A'),\n",
    "            'Market Cap': info.get('marketCap', 'N/A'),\n",
    "            'High Price': info.get('dayHigh', 'N/A'),\n",
    "            'Low Price': info.get('dayLow', 'N/A'),\n",
    "            '52 Week High': info.get('fiftyTwoWeekHigh', 'N/A'),\n",
    "            '52 Week Low': info.get('fiftyTwoWeekLow', 'N/A'),\n",
    "            'Previous Close': info.get('regularMarketPreviousClose', 'N/A'),\n",
    "            'PE Ratio': info.get('trailingPE', 'N/A')\n",
    "        }\n",
    "    except Exception as e:\n",
    "        print(f\"Error fetching data for {ticker}: {e}\")\n",
    "        return None  # Return None if there's an error\n",
    "\n",
    "def get_monthly_data(ticker, start_date):\n",
    "    try:\n",
    "        stock = yf.Ticker(ticker)\n",
    "        hist = stock.history(start=start_date)\n",
    "        if hist.empty:  # Check if history data is empty\n",
    "            raise ValueError(\"No historical data found for ticker\")\n",
    "        hist['Ticker'] = ticker\n",
    "        monthly_hist = hist.resample('M').agg({\n",
    "            'Open': 'mean',\n",
    "            'High': 'max',\n",
    "            'Low': 'min',\n",
    "            'Close': 'mean',\n",
    "            'Volume': 'sum'\n",
    "        })\n",
    "        return monthly_hist\n",
    "    except Exception as e:\n",
    "        print(f\"Error fetching historical data for {ticker}: {e}\")\n",
    "        return pd.DataFrame()  # Return empty DataFrame if there's an error\n",
    "\n",
    "# Collect industry information and save per ticker\n",
    "#for ticker in unique_tickers:\n",
    "    #stock_info = get_stock_info(ticker)\n",
    "    #if stock_info:  # Only save if stock_info is not None\n",
    "        #stock_info_df = pd.DataFrame([stock_info])\n",
    "        #stock_info_df.to_csv(f'{ticker}_info.csv', index=False)\n",
    "        #print(f\"Industry data for {ticker} saved successfully.\")\n",
    "\n",
    "# Collect monthly data starting from January 1, 2022, and save per ticker\n",
    "start_date = '2021-01-01'\n",
    "for ticker in unique_tickers:\n",
    "    monthly_data = get_monthly_data(ticker, start_date)\n",
    "    if not monthly_data.empty:\n",
    "        monthly_data.to_csv(f'{ticker}_monthly_data.csv')\n",
    "        print(f\"Monthly data for {ticker} saved successfully.\")\n",
    "\n",
    "print(\"Data collection completed.\")\n"
   ]
  }
 ],
 "metadata": {
  "kernelspec": {
   "display_name": "venv",
   "language": "python",
   "name": "python3"
  },
  "language_info": {
   "codemirror_mode": {
    "name": "ipython",
    "version": 3
   },
   "file_extension": ".py",
   "mimetype": "text/x-python",
   "name": "python",
   "nbconvert_exporter": "python",
   "pygments_lexer": "ipython3",
   "version": "3.12.4"
  }
 },
 "nbformat": 4,
 "nbformat_minor": 2
}
