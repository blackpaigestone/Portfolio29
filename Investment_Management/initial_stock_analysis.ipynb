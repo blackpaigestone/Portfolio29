{
 "cells": [
  {
   "cell_type": "code",
   "execution_count": 6,
   "metadata": {},
   "outputs": [],
   "source": [
    "import yfinance as yf\n",
    "import plotly.express as px\n",
    "import plotly.io as pio\n",
    "import numpy as np\n",
    "import pyarrow\n",
    "import pandas as pd"
   ]
  },
  {
   "cell_type": "code",
   "execution_count": 7,
   "metadata": {},
   "outputs": [],
   "source": [
    "combined_df = pd.read_parquet('/Users/paigeblackstone/Desktop/Portfolio29/Portfolio29/Investment_Management/datapull_YF_081224/congress_stock_data.parquet')"
   ]
  },
  {
   "cell_type": "code",
   "execution_count": 8,
   "metadata": {},
   "outputs": [
    {
     "data": {
      "text/plain": [
       "['Date',\n",
       " 'Open',\n",
       " 'High',\n",
       " 'Low',\n",
       " 'Close',\n",
       " 'Volume',\n",
       " 'Ticker',\n",
       " 'Industry',\n",
       " 'Sector',\n",
       " 'Market Cap',\n",
       " 'PE Ratio',\n",
       " 'Price to Book',\n",
       " 'Return on Equity',\n",
       " 'Price to Sales',\n",
       " 'Dividend Yield',\n",
       " 'Current Ratio',\n",
       " 'Beta']"
      ]
     },
     "execution_count": 8,
     "metadata": {},
     "output_type": "execute_result"
    }
   ],
   "source": [
    "combined_df.columns.to_list()"
   ]
  },
  {
   "cell_type": "code",
   "execution_count": 9,
   "metadata": {},
   "outputs": [],
   "source": [
    "combined_df['open_close_diff'] = ((combined_df['Close'] - combined_df['Open']) / combined_df['Open']) * 100"
   ]
  },
  {
   "cell_type": "code",
   "execution_count": 10,
   "metadata": {},
   "outputs": [],
   "source": [
    "combined_df = combined_df.sort_values(by=['Ticker', 'Date'])\n",
    "\n",
    "# Group by 'Ticker' and calculate the month-over-month percentage change in 'Volume'\n",
    "combined_df['volume_mom_change'] = combined_df.groupby('Ticker')['Volume'].pct_change() * 100"
   ]
  },
  {
   "cell_type": "code",
   "execution_count": 17,
   "metadata": {},
   "outputs": [],
   "source": [
    "combined_df['Date'] = pd.to_datetime(combined_df['Date'], utc=True)\n",
    "combined_df = combined_df.sort_values(by=['Ticker', 'Date'])\n",
    "combined_df.set_index('Date', inplace=True)\n",
    "monthly_close = combined_df.groupby('Ticker').resample('M').agg({'Close': 'last'})\n",
    "monthly_close.reset_index(inplace=True)\n",
    "monthly_close['monthly_return'] = monthly_close.groupby('Ticker')['Close'].pct_change() * 100\n"
   ]
  },
  {
   "cell_type": "code",
   "execution_count": 18,
   "metadata": {},
   "outputs": [],
   "source": [
    "combined_df = pd.merge(combined_df.reset_index(), monthly_close[['Ticker', 'Date', 'monthly_return']], on=['Ticker', 'Date'], how='left')\n"
   ]
  },
  {
   "cell_type": "code",
   "execution_count": 19,
   "metadata": {},
   "outputs": [
    {
     "name": "stdout",
     "output_type": "stream",
     "text": [
      "                       Date        Open        High         Low       Close  \\\n",
      "0 2020-01-31 00:00:00+00:00  216.773911  223.873828  200.863791  216.249698   \n",
      "1 2020-02-29 00:00:00+00:00  207.110925  219.244956  181.605603  207.606898   \n",
      "2 2020-03-30 23:00:00+00:00  165.829335  197.213635  137.178695  165.552751   \n",
      "3 2020-04-29 23:00:00+00:00  176.624813  209.125851  150.532978  176.314108   \n",
      "4 2020-05-30 23:00:00+00:00  215.125735  240.377989  198.568780  216.181845   \n",
      "\n",
      "    Volume   Ticker                        Industry                  Sector  \\\n",
      "0  1707831  0QZI.IL  Internet Content & Information  Communication Services   \n",
      "1   917405  0QZI.IL  Internet Content & Information  Communication Services   \n",
      "2  1514934  0QZI.IL  Internet Content & Information  Communication Services   \n",
      "3  1279808  0QZI.IL  Internet Content & Information  Communication Services   \n",
      "4   753312  0QZI.IL  Internet Content & Information  Communication Services   \n",
      "\n",
      "     Market Cap  PE Ratio  Price to Book  Return on Equity  Price to Sales  \\\n",
      "0  1.300928e+12  44.70228       9.186446           0.22275       10.247074   \n",
      "1  1.300928e+12  44.70228       9.186446           0.22275       10.247074   \n",
      "2  1.300928e+12  44.70228       9.186446           0.22275       10.247074   \n",
      "3  1.300928e+12  44.70228       9.186446           0.22275       10.247074   \n",
      "4  1.300928e+12  44.70228       9.186446           0.22275       10.247074   \n",
      "\n",
      "   Dividend Yield  Current Ratio      Beta  open_close_diff  \\\n",
      "0             NaN          2.567  1.221153        -0.241825   \n",
      "1             NaN          2.567  1.221153         0.239472   \n",
      "2             NaN          2.567  1.221153        -0.166789   \n",
      "3             NaN          2.567  1.221153        -0.175912   \n",
      "4             NaN          2.567  1.221153         0.490927   \n",
      "\n",
      "   volume_mom_change  monthly_return  \n",
      "0                NaN             NaN  \n",
      "1         -46.282448       -3.996676  \n",
      "2          65.132521             NaN  \n",
      "3         -15.520544             NaN  \n",
      "4         -41.138671             NaN  \n"
     ]
    }
   ],
   "source": [
    "print(combined_df.head())"
   ]
  },
  {
   "cell_type": "code",
   "execution_count": null,
   "metadata": {},
   "outputs": [],
   "source": [
    "def risk_return(df, adj=True, crypto=False):\n",
    "    if adj:\n",
    "        close=df.loc[:, \"adj_close\"].copy()\n",
    "    else:\n",
    "        close=df.loc[:, \"close\"].copy()\n",
    "    if crypto:\n",
    "        trading_days=365\n",
    "    else: \n",
    "        trading_days=252\n",
    "    \n",
    "    stock_returns=close.pct_change().dropna().mul(100)\n",
    "    summary=stock_returns.describe().T.loc[:, [\"mean\", \"std\"]]\n",
    "    summary[\"mean\"]=summary[\"mean\"]*trading_days\n",
    "    summary[\"std\"]=summary[\"std\"]*np.sqrt(trading_days)\n",
    "    summary.rename(columns={'mean':'Return', 'std': 'Risk'}, inplace=True)\n",
    "    fig=px.scatter(summary,\n",
    "                   x='Risk',\n",
    "                   y='Return',\n",
    "                   title='monthly risk/return',\n",
    "                   text=summary.index,\n",
    "                   template='plotly_dark')\n",
    "    fig.update_traces(marker={'size':12},\n",
    "                      textposition='top center')\n",
    "    fig.update_layout(\n",
    "        legend=dict(title=None),\n",
    "        title={\n",
    "            'y':0.9,\n",
    "            'x':0.5,\n",
    "            'font':{'size':20},\n",
    "            'xanchor':'center',\n",
    "            'yanchor':'top'\n",
    "        },\n",
    "        xaxis=dict(title=dict(font=dict(size=14))),\n",
    "        yaxis=dict(title=dict(font=dict(size=14)))\n",
    "    )\n",
    "    fig.show()\n"
   ]
  },
  {
   "cell_type": "code",
   "execution_count": null,
   "metadata": {},
   "outputs": [],
   "source": [
    "def return_corr(df, adj=True, crypto=False):\n",
    "    if adj:\n",
    "        close=df.loc[:, \"adj_close\"].copy()\n",
    "    else:\n",
    "        close=df.loc[:, \"close\"].copy()\n",
    "    \n",
    "    if crypto:\n",
    "        trading_days=365\n",
    "    else:\n",
    "        trading_days=252\n",
    "    \n",
    "    stock_return=close.pct_change().dropna().mul(100)\n",
    "    \n",
    "    summary=stock_return.describe().T.loc[:, [\"mean\", \"std\"]]\n",
    "    summary[\"mean\"]=summary[\"mean\"]*trading_days\n",
    "    summary[\"std\"]=summary[\"std\"]*np.sqrt(trading_days)\n",
    "    summary.rename(columns={'mean':'Return', 'std': 'Risk'}, inplace=True)\n",
    "    \n",
    "    fig=px.imshow(stock_return.corr(), text_auto=True, color_continuous_scale='tempo', template='plotly_dark', title=\"correlation of returns\")\n",
    "    fig.update_layout(\n",
    "        legend=dict(title=None),\n",
    "        title={\n",
    "            'y':0.9,\n",
    "            'x':0.5,\n",
    "            'font':{'size':20},\n",
    "            'xanchor':'center',\n",
    "            'yanchor':'top'\n",
    "        })\n",
    "    fig.show()"
   ]
  }
 ],
 "metadata": {
  "kernelspec": {
   "display_name": "venv",
   "language": "python",
   "name": "python3"
  },
  "language_info": {
   "codemirror_mode": {
    "name": "ipython",
    "version": 3
   },
   "file_extension": ".py",
   "mimetype": "text/x-python",
   "name": "python",
   "nbconvert_exporter": "python",
   "pygments_lexer": "ipython3",
   "version": "3.12.4"
  }
 },
 "nbformat": 4,
 "nbformat_minor": 2
}
