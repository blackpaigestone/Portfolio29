{
 "cells": [
  {
   "cell_type": "code",
   "execution_count": 1,
   "metadata": {},
   "outputs": [],
   "source": [
    "import pandas as pd\n",
    "import os\n",
    "import numpy\n",
    "import datetime\n",
    "import re\n",
    "import yfinance as yf"
   ]
  },
  {
   "cell_type": "code",
   "execution_count": 2,
   "metadata": {},
   "outputs": [],
   "source": [
    "senate_inv = pd.read_csv('/Users/paigeblackstone/Desktop/Portfolio29/Portfolio29/Investment_Management/UpdatedSenatorTrades.csv')\n",
    "senate_inv2 = pd.read_csv('/Users/paigeblackstone/Desktop/Portfolio29/Portfolio29/Investment_Management/senate_stock_discosures.csv')\n",
    "senate_inv3 = pd.read_csv('/Users/paigeblackstone/Desktop/Portfolio29/Portfolio29/Investment_Management/SenatorCleaned.csv')"
   ]
  },
  {
   "cell_type": "code",
   "execution_count": 3,
   "metadata": {},
   "outputs": [
    {
     "name": "stdout",
     "output_type": "stream",
     "text": [
      "Successfully read the file with encoding: latin1\n"
     ]
    }
   ],
   "source": [
    "encodings = ['latin1', 'ISO-8859-1', 'cp1252']\n",
    "for encoding in encodings:\n",
    "    try:\n",
    "        congress_inv = pd.read_csv('/Users/paigeblackstone/Desktop/Portfolio29/Portfolio29/Investment_Management/Copy of congress-trading-all (3).csv', encoding=encoding)\n",
    "        print(f'Successfully read the file with encoding: {encoding}')\n",
    "        break\n",
    "    except UnicodeDecodeError:\n",
    "        print(f'Failed to read the file with encoding: {encoding}')"
   ]
  },
  {
   "cell_type": "code",
   "execution_count": 5,
   "metadata": {},
   "outputs": [
    {
     "data": {
      "text/plain": [
       "['Ticker',\n",
       " 'TickerType',\n",
       " 'Company',\n",
       " 'Traded',\n",
       " 'Transaction',\n",
       " 'Trade_Size_USD',\n",
       " 'Status',\n",
       " 'Subholding',\n",
       " 'Description',\n",
       " 'Name',\n",
       " 'Filed',\n",
       " 'Party',\n",
       " 'District',\n",
       " 'Chamber',\n",
       " 'Comments',\n",
       " 'Quiver_Upload_Time',\n",
       " 'excess_return',\n",
       " 'State',\n",
       " 'last_modified']"
      ]
     },
     "execution_count": 5,
     "metadata": {},
     "output_type": "execute_result"
    }
   ],
   "source": [
    "congress_inv.columns.to_list()"
   ]
  },
  {
   "cell_type": "markdown",
   "metadata": {},
   "source": [
    "cleaning up date columns"
   ]
  },
  {
   "cell_type": "code",
   "execution_count": 7,
   "metadata": {},
   "outputs": [
    {
     "name": "stdout",
     "output_type": "stream",
     "text": [
      "                       Ticker TickerType  \\\n",
      "0                         NGL         ST   \n",
      "1                         FCX         ST   \n",
      "2                           V         ST   \n",
      "3      APPLE INC. (XNAS:AAPL)         ST   \n",
      "4                        MSFT         ST   \n",
      "...                       ...        ...   \n",
      "46462                     CAT        NaN   \n",
      "46463                      PG        NaN   \n",
      "46464                     KSU        NaN   \n",
      "46465                    EP$C        NaN   \n",
      "46466                    EP$C        NaN   \n",
      "\n",
      "                                                 Company     Traded  \\\n",
      "0      NGL ENERGY PARTNERS LP COMMON UNITS REPRESENTI... 2024-03-11   \n",
      "1                    FREEPORT-MCMORAN, INC. COMMON STOCK 2024-02-29   \n",
      "2                                              VISA INC. 2024-02-29   \n",
      "3                              APPLE INC. - COMMON STOCK 2024-02-29   \n",
      "4                   MICROSOFT CORPORATION - COMMON STOCK 2024-02-29   \n",
      "...                                                  ...        ...   \n",
      "46462                                  CATERPILLAR, INC. 2012-07-26   \n",
      "46463                           PROCTER & GAMBLE COMPANY 2012-07-24   \n",
      "46464                               KANSAS CITY SOUTHERN 2012-06-06   \n",
      "46465                EL PASO CORPORATION PREFERRED STOCK 2012-03-20   \n",
      "46466                EL PASO CORPORATION PREFERRED STOCK 2012-02-27   \n",
      "\n",
      "      Transaction       Trade_Size_USD Status  \\\n",
      "0            Sale    $15,001 - $50,000    NEW   \n",
      "1            Sale     $1,001 - $15,000    NEW   \n",
      "2        Purchase     $1,001 - $15,000    NEW   \n",
      "3        Purchase              $360.00    NEW   \n",
      "4            Sale  $100,001 - $250,000    NEW   \n",
      "...           ...                  ...    ...   \n",
      "46462    Purchase     $1,001 - $15,000    NEW   \n",
      "46463        Sale     $1,001 - $15,000    NEW   \n",
      "46464    Purchase     $1,001 - $15,000    NEW   \n",
      "46465        Sale     $1,001 - $15,000    NEW   \n",
      "46466        Sale     $1,001 - $15,000    NEW   \n",
      "\n",
      "                                     Subholding  \\\n",
      "0                  EQUITABLE RETIREMENT ACCOUNT   \n",
      "1       MORGAN STANLEY - SELECT UMA ACCOUNT # 1   \n",
      "2                                     TRUST ONE   \n",
      "3                                       IRA ONE   \n",
      "4                                           NaN   \n",
      "...                                         ...   \n",
      "46462                    BROKERAGE #2 USAA 8425   \n",
      "46463                    BROKERAGE #2 USAA 8425   \n",
      "46464                                       NaN   \n",
      "46465                                       NaN   \n",
      "46466                                       NaN   \n",
      "\n",
      "                                             Description  \\\n",
      "0                                                    NaN   \n",
      "1                                                    NaN   \n",
      "2                                                    NaN   \n",
      "3                                                    NaN   \n",
      "4      VESTED SHARES SOLD TO SEPARATE TRUST NOT FOR T...   \n",
      "...                                                  ...   \n",
      "46462                                                NaN   \n",
      "46463                                                NaN   \n",
      "46464                                                NaN   \n",
      "46465                                                NaN   \n",
      "46466                                                NaN   \n",
      "\n",
      "                        Name       Filed Party District Chamber Comments  \\\n",
      "0              Mark Dr Green  2024-03-13     R     TN07   House      NaN   \n",
      "1            Josh Gottheimer  2024-03-07     D     NJ05   House      NaN   \n",
      "2              Pete Sessions  2024-03-07     R     TX17   House      NaN   \n",
      "3              Pete Sessions  2024-02-29     R     TX17   House      NaN   \n",
      "4           Suzan K. Delbene  2024-03-08     D     WA01   House      NaN   \n",
      "...                      ...         ...   ...      ...     ...      ...   \n",
      "46462    Ms. Tammy Duckworth  2014-07-08     D     IL08   House      NaN   \n",
      "46463    Ms. Tammy Duckworth  2014-07-08     D     IL08   House      NaN   \n",
      "46464  Mr. Alan S. Lowenthal  2014-05-15     D     CA47   House      NaN   \n",
      "46465  Mr. Alan S. Lowenthal  2014-05-15     D     CA47   House      NaN   \n",
      "46466  Mr. Alan S. Lowenthal  2014-05-15     D     CA47   House      NaN   \n",
      "\n",
      "      Quiver_Upload_Time  excess_return       State last_modified  \n",
      "0             2024-03-14       1.523296   Tennessee    2024-03-14  \n",
      "1             2024-03-08      17.325032  New Jersey    2024-03-08  \n",
      "2             2024-03-08      -0.518105       Texas    2024-03-08  \n",
      "3             2024-03-01      -5.157553       Texas    2024-03-01  \n",
      "4             2024-03-11       0.012454  Washington    2024-03-11  \n",
      "...                  ...            ...         ...           ...  \n",
      "46462         2020-07-26      39.133792    Illinois    2023-11-16  \n",
      "46463         2020-07-26    -131.228673    Illinois    2023-11-16  \n",
      "46464         2020-07-26      89.238230  California    2023-11-16  \n",
      "46465         2020-07-26            NaN  California    2023-11-16  \n",
      "46466         2020-07-26            NaN  California    2023-11-16  \n",
      "\n",
      "[46467 rows x 19 columns]\n",
      "Ticker                        object\n",
      "TickerType                    object\n",
      "Company                       object\n",
      "Traded                datetime64[ns]\n",
      "Transaction                   object\n",
      "Trade_Size_USD                object\n",
      "Status                        object\n",
      "Subholding                    object\n",
      "Description                   object\n",
      "Name                          object\n",
      "Filed                         object\n",
      "Party                         object\n",
      "District                      object\n",
      "Chamber                       object\n",
      "Comments                      object\n",
      "Quiver_Upload_Time            object\n",
      "excess_return                float64\n",
      "State                         object\n",
      "last_modified                 object\n",
      "dtype: object\n"
     ]
    }
   ],
   "source": [
    "congress_inv['Traded'] = pd.to_datetime(congress_inv['Traded'], format='%A, %B %d, %Y')\n",
    "\n",
    "# Display the updated DataFrame and check the data types\n",
    "print(congress_inv)\n",
    "print(congress_inv.dtypes)"
   ]
  },
  {
   "cell_type": "code",
   "execution_count": 8,
   "metadata": {},
   "outputs": [
    {
     "name": "stdout",
     "output_type": "stream",
     "text": [
      "0   2024-03-13\n",
      "1   2024-03-07\n",
      "2   2024-03-07\n",
      "3   2024-02-29\n",
      "4   2024-03-08\n",
      "Name: Filed, dtype: datetime64[ns]\n"
     ]
    }
   ],
   "source": [
    "congress_inv['Filed'] = pd.to_datetime(congress_inv['Filed'], errors='coerce')\n",
    "\n",
    "# Check for any conversion issues\n",
    "print(congress_inv['Filed'].head())"
   ]
  },
  {
   "cell_type": "markdown",
   "metadata": {},
   "source": [
    "Cleaning up tickers data and replacing with a mapping of cleaned tickers"
   ]
  },
  {
   "cell_type": "code",
   "execution_count": 9,
   "metadata": {},
   "outputs": [
    {
     "name": "stdout",
     "output_type": "stream",
     "text": [
      "['NGL', 'FCX', 'V', 'APPLE INC. (XNAS:AAPL)', 'MSFT', 'BA', 'URI', 'TDG', 'DUK$A', 'ZTS', 'PFE', 'QCOM', 'SBLK', 'ASC', 'SSBK', 'GOGL', 'FLNG', 'LRLCY', 'ARLP', 'BBY', 'SBUX', 'AMD', 'PANW', 'ET', 'ACN', 'NVDA', 'AMAT', 'TGT', 'GLA', 'EQNR', 'PG', 'MMC', 'NWN', 'BDX', 'OKE', 'TEX', 'TXN', 'DBSDY', 'CHRD', 'ILMN', 'HUMA', 'PHG', 'KEY', 'AMZN', 'CTSH', 'UL', 'TSM', 'BKNG', 'MDT', 'REGN', 'MDB', 'META', 'KKR', 'LLY', 'NFLX', 'GLAS FUNDS, LP', 'HAMILTO', 'T$A', 'AFRM', 'SPG', 'LNG', 'TTD', 'DE', 'IBM', 'MRNA', 'FSLR', 'SCHW', 'MS', 'MSCI', 'GOOGL', 'EXAS', 'HTGC', 'COST', 'JPM', 'PRNDY', 'ALNY', 'ISRG', 'VIG', 'USFR', 'GOOG', 'BRK.B', 'LRCX', 'NOW', 'TSLA', 'AAPL', 'ON', 'APH', 'ABG', 'TPH', 'LOW', 'AGIO', 'INTC', 'RPM', 'MEDP', 'LAD', 'MRK', 'SYY', '4.WEEK, MATURE', 'AMGN', 'INTU', 'TJX', 'AON', 'CFG', 'CAT', 'MU', 'CME', 'NKE', 'ABT', 'CRM', 'CB', 'PKG', 'ABBV', 'MA', 'LMT', 'WMT', 'JNJ', 'GIS', 'SCCO', 'MNST', 'CLF', 'IDXX', 'FMAO', 'BABA', 'PAM', 'RTX', 'HQY', 'ADSK', 'DIS', 'NVO', 'COIN', 'GNTX', 'VUG', 'ADBE', 'XP', 'SPY', 'BAC', 'ES', 'AXP', 'ADI', 'AME', 'RACE', 'ENB', '3.MONTH, MATURE', 'APD', 'BLK', 'MET', 'TTE', 'W', 'AES', 'VLO', 'GBIL', 'ETRN', 'SCHX', 'CRT', 'MO', 'CAH', 'HSHCY', 'BAP', 'HELE', 'SSDOY', 'ALGM', 'PTEN', 'OCFC', 'NCLTY', 'GTLS', 'PYCR', 'XNGSY', 'PNGAY', 'SHLS', 'RY', 'AMEH', 'LOPE', 'CL', 'HSY', 'BMY', 'BP', 'MAG', 'ELF', 'SFM', 'CYBR', 'ETN', 'GS', 'BMI', 'SPXC', 'OLLI', 'FRPT', 'AXON', 'ORCL', 'SLF', 'UNP', 'DGX', 'XOM', 'DELL', 'S', 'VUZI', 'BX', 'DVN', 'TFC', 'NOC', 'PYPL', 'JKHY', 'ROP', 'HRL', 'TMUS', 'WST', 'CCI', 'DG', 'D', 'SHW', 'TSCO', 'AMT', 'VZ', 'DDOG', '6.MONTH, MATURE', 'EA', 'RF', 'PARA', 'WMB', 'PODD', 'CTVA', 'SHOP', 'FN', 'CELH', 'INST', 'HUBB', 'EXLS', 'FCFS', 'PXD', 'ALB', 'NEE', 'LZAGY', 'HEI', 'VAXX', 'INTA', 'HLI', 'HASI', 'UMBF', 'GLAS FUNDS', 'COP', 'UAA', 'KO', 'SBPYX', 'XCEM', 'GOLD', 'MDLZ', 'CVX', 'SMDV', 'FDRR', 'LIN', 'UPS', 'BUI', 'HD', 'DVA', 'KR', 'CSCO', 'SBCF', 'BK', 'ACI', 'USB', 'HAL', 'CVS', 'CI', 'PII', 'SNOW', 'HDGE', 'KMB', 'EFC$D', 'CMCSA', 'ALK', 'CMG', 'PPG', 'EL', 'PALL', 'UNH', 'URA', 'EW', 'ROK', 'GLPI', 'DTRUY', 'IRM', 'FNF', 'KD', 'MOS', 'EMR', 'FMC', 'DHI', 'AGX', 'CCLD', 'DEO', 'BNTX', 'FANUY', 'SONY', 'WFC', 'SBGSY', 'VLTO', 'PPRUY', 'AZO', 'SPGI', 'DHR', 'TMO', 'ICE', 'HLT', 'CSX', 'STZ', 'FI', 'HON', 'BSX', 'ELV', 'KLAC', 'PEP', 'COCO', 'IGSB', 'T', 'SHY', 'TLT', 'AAIC$B', 'CORP', 'HCA', 'SHEL', 'PWR', 'WBD', 'MMM', 'PCH', 'FIS', 'PM', 'MKL', 'FGBI', 'ASML', 'MCK', 'CHX', 'AORT', 'DASH', 'MCHP', 'OXY', 'LDOS', 'ULTA', 'EVVTY', 'DT', 'SAIC', 'UBER', 'USDP', 'TLH', 'TCMD', 'IP', 'CMBS', 'AGZ', 'X', 'MBB', 'JMBS', 'GIGB', 'EOG', 'MPW', 'BNS', 'ANET', 'ARCC', 'CLX', 'HPQ', 'MCD', 'GWW', 'LULU', 'SGEN', 'HDB', 'ALGN', 'PRIM', 'INSW', 'ICFI', 'ALG', 'UEC', 'GILD', 'VRTX', 'PLD', 'NEP', 'J', 'SYK', 'AVGO', 'C', 'NFE', 'BALL', 'PGR', 'PH', 'HWM', 'PSQ', 'FMBA', 'SHYF', 'GGG', 'SWKS', 'RMD', 'ITW', 'PHM', 'WU', 'FTNT', 'WMS', 'MPWR', 'MCO', 'NXPI', 'DAVA', 'UTZ', 'SLGN', 'ALGT', 'A', 'ADYEY', 'DIOD', 'SGIOY', 'GSK', 'NSC', 'PHR', 'VCYT', 'IART', 'VIAV', 'RVLV', 'RRC', 'CBSH', 'SMNNY', 'CRUS', 'TWKS', 'NVZMY', 'ADP', 'FOXF', 'SKY', 'GMAB', 'ODFL', 'BCRX', 'ATVI', '13.WEEK, MATURE', 'MAR', 'LPX', 'NU', 'DCO', 'UFPI', 'GPK', 'VOD', 'CMP', 'SCHW$D', 'JBL', 'EMXC', 'JEPI', 'VO', 'VOO', 'RVNC', 'VMW', 'GPCR', 'PAA', 'HIG', 'KMI', 'CMI', 'DTE', 'TDY', 'MMP', '91282CDR9', '912797LL9', 'AAM$A', 'NTR', 'GD', 'APA', 'PNC', 'WAL', 'CUBE', 'CF', 'VGR', 'YUM', 'IR', 'SQ', 'KVUE', 'BTO', 'NVS', 'GPP', 'FITB', 'VBTX', 'ARQT', 'AZTA', 'IFF', 'CYRX', 'CSPCY', 'WM', 'RCL', 'FMX', 'ATLKY', 'DXCM', 'IJR', 'FMCSX', 'QQQ', 'DFS', 'BR', 'ETR', 'FAF', 'CBOE', 'XEL', 'DORM', 'LAMR', 'BIO', 'COLD', 'NDAQ', 'WRB', 'HES', 'AOS', 'NSRGY', 'LBRDK', 'SUI', 'TEL', 'WSO', 'DD', 'CASY', 'WAT', 'SO', 'VNT', 'IT', 'GL', 'ARE', 'DUK', 'BWXT', 'AVY', 'BAH', 'MTB', 'FLR', 'FANG', 'POR', 'NSA', 'LKQ', 'SSNC', 'PCAR', 'RGLD', 'TT', 'EXPD', 'LNT', 'CRL', 'PRU', 'TSN', 'RBC', 'JCI', 'AI', 'AMLP', 'WCN', 'TIMB', 'FEP', 'TAK', 'CRWD', 'AGAE', 'INOD', 'BBEU', 'AQN', 'EME', 'NTLA', 'TWLO', 'LH', 'LUV', 'ASAZY', 'CHD', 'EFX', 'NTRS', 'STLA', 'DASTY', 'DBRG', 'CHGCY', 'PSX', 'JHEM', 'F', 'WTT', 'TPR', 'SOFI', 'WTW', 'RMBS', 'CC', 'SHV', 'DUE 10/01/203', 'PR', 'ROAD', 'LNC', 'SWX', 'ABNB', 'NSP', 'ALL', 'LSXMK', 'LSXMA', 'LLYVA', 'SEDG', 'LLYVK', 'WTKWY', 'SIGCY', 'FDS', 'AFL', '914476PV2', '506120KP8', '605699PU5', '784532JF1', 'CCL', 'WBA', 'HLN', 'KUBTY', 'AAGIY', 'BATRK', 'SAP', 'MELI', 'HLIO', 'IFNNY', 'SRPT', 'VTR', 'APTV', 'HMN', 'THO', 'DAR', 'SPOT', 'LSI', 'NXRT', 'BXP', 'DRH', 'RLJ', 'LBTYA', 'SR', 'SKT', 'SHO', 'ENTA', 'PHIN', 'HALO', 'CBU', 'CIEN', 'AVTR', 'WELL', 'TEAM', 'KHC', 'PECO', 'EXR', 'LVMUY', 'STT', 'EPAM', 'AAP', 'CLVT', 'TRIP', 'EVBG', 'UBA', 'IIPR', 'LBTYK', 'PARAA', 'ADC', 'EQR', 'SGH', 'BFS', 'HEI.A', 'PLTK', 'BEPC', 'CTRE', 'AMCX', 'KRG', 'HST', 'AVB', 'GTY', 'AMCR', 'STX', 'RLAY', 'MKTX', 'UDR', 'JAZZ', 'AYX', 'KLIC', 'MAA', 'TNDM', 'INN', 'LHX', 'ESS', 'PEAK', 'KRC', 'SBGI', 'TFX', 'ROIC', 'BGNE', 'UE', 'SBAC', 'CAG', 'MOH', 'WPM', 'CNC', 'ALEX', 'INVH', 'CHPT', 'ADM', 'BELFB', 'EXC', 'JBGS', 'HHC', 'KDP', 'SLG', 'IRT', 'FERG', 'RWT', 'CADE', 'EQIX', 'PK', 'DLTR', 'FCPT', 'ICHR', 'QDEL', 'OGS', 'IOT', 'YUMC', 'PEB', 'RBA', 'EPRT', 'EIX', 'PSA', 'EPR', 'PD', 'LUMN', 'KRYAY', 'SMNEY', 'SALRY', 'HKXCY', 'ALFVY', 'JHX', 'CCOEY', 'TM', 'DANOY', 'SHECY', 'IHG', 'LGRDY', 'BURBY', 'HCMLY', 'HOCPY', 'SXYAY', 'ARKAY', 'DKILY', 'IDEXY', 'TMICY', 'CSLLY', 'UPMMY', 'HESAY', 'BXBLY', 'HSBC', 'OLCLY', 'NRILY', 'PUBGY', 'BAESY', 'SMFG', 'VWAPY', 'SDVKY', 'ANZGY', 'JSGRY', 'SVNDY', 'SONVY', 'NOK', 'ANYYY', 'FJTSY', 'HMC', 'FRRVY', 'TRUMY', 'JTKWY', 'VACNY', 'BVVBY', 'PROSY', 'UMICY', 'UCBJY', 'STBFY', 'AAVMY', 'TEZNY', 'PANDY', 'GVDNY', 'TLGPY', 'SAN', 'PUK', 'IFJPY', 'AEG', 'TKAMY', 'ADRNY', 'SCMWY', 'RIO', 'MKTAY', 'ZURVY', 'TCEHY', 'CJPRY', 'GNGBY', 'CODYY', 'LOGI', 'SAXPY', 'AHKSY', 'SKHHY', 'MDIBY', 'NSANY', 'BTLCY', 'CRH', 'BAYRY', 'ISNPY', 'KBCSY', 'AZN', 'JSAIY', 'DLICY', 'NMR', 'IMBBY', 'MGDDY', 'CAJPY', 'JAPAY', 'UUGRY', 'RTO', 'CRZBY', 'DNNGY', 'ENLAY', 'SNY', 'QBIEY', 'BNTGY', 'EPOKY', 'GASNY', 'TTNDY', 'MFG', 'EBKDY', 'DNZOY', 'KMTUY', 'MIELY', 'CMWAY', 'MTSFY', 'VLVLY', 'SINGY', 'AKZOY', 'BDRFY', 'SGSOY', 'SPKKY', 'DSNKY', 'TKOMY', 'FSUGY', 'AONNY', 'SE', 'DRPRY', 'KGSPY', 'MTUAY', 'GBERY', 'ALC', 'SUTNY', 'YASKY', 'KIM', 'DNPLY', 'HSQVY', 'SKHSY', 'CLLNY', 'SNN', 'FUJIY', 'SOMMY', 'MSLOY', 'SMMNY', 'OTSKY', 'PRYMY', 'DTEGY', 'ESLOY', 'DWAHY', 'TOELY', 'BRDCY', 'MSADY', 'WJRYY', 'ARGX', 'OPHLY', 'SFTBY', 'MSSMY', 'MURGY', 'CGEMY', 'CLPBY', 'TLPFY', 'SCGLY', 'SMTOY', 'BNPQY', 'SMCAY', 'ABBNY', 'OVCHY', 'RHHBY', 'ZLNDY', 'SPXCY', 'SIEGY', 'MKKGY', 'MZDAY', 'BTI', 'KHNGY', 'YARIY', 'KNBWY', 'DSCSY', 'NWG', 'ASHTY', 'WPP', 'CZMWY', 'NRDBY', 'ALPMY', 'NICE', 'VCISY', 'LSRCY', 'RELX', 'SYIEY', 'YAMHY', 'SWRAY', 'NEXOY', 'MQBKY', 'AVVIY', 'DQJCY', 'SSREY', 'QABSY', 'JRONY', 'HXGBY', 'RNMBY', 'OCDDY', 'ICL', 'HEINY', 'HVRRY', 'NINOY', 'NDEKY', 'DFKCY', 'KSRYY', 'ADDYY', 'SSMXY', 'KDDIY', 'SMFKY', 'WRDLY', 'DB', 'MRAAY', 'AHEXY', 'NTDOY', 'ITTOY', 'ERIC', 'TMSNY', 'ISUZY', 'AMKBY', 'TEF', 'DNBBY', 'STM', 'UBS', 'LYG', 'ALIZY', 'SAFRY', 'ING', 'NABZY', 'AIQUY', 'TRYIY', 'CRARY', 'IBDRY', 'OLYMY', 'NTTYY', 'MUFG', 'ALLE', 'SUHJY', 'NNGRY', 'KNRRY', 'ATEYY', 'EDPFY', 'HDELY', 'HTHIY', 'NCBDY', 'NCMGY', 'TOTDY', 'MBGYY', 'AJINY', 'NJDCY', 'RANJY', 'FMS', 'NGG', 'MHGVY', 'ENGIY', 'KGFHY', 'EADSY', 'BBVA', 'KKPNY', 'BUD', 'VEOEY', 'SSEZY', 'AMADY', 'CHEOY', 'TTDKY', 'MTHRY', 'CMSQY', 'DBOEY', 'RPT', 'DHLGY', 'VWAGY', 'OMRNY', 'FBP', 'SWDBY', 'BMRRY', 'AXAHY', 'SOAGY', 'SZKMY', 'UOVEY', 'SKFRY', 'SVNLY', 'FRCOY', 'SKLTY', 'BDNNY', 'DNTUY', 'BCS', 'NTES', 'SOBKY', '8.WEEK, MATURE', 'MSI', 'PAYX', 'SNV', 'COF', 'BROS', 'VAL', 'FDX', 'OLPX', 'LCID', 'ATUS', 'DISH', 'QS', 'BIDU', 'SNPS', 'HUBS', 'SRE$A', 'FTV', 'ARGO', 'MATURE', 'GPN', 'PTON', 'SIRI', 'GLD', 'WBK', 'BELGIUM', 'REIT', 'NTAP', 'SIRE', 'OCLCF', 'JEF', 'BMO', 'AEP', 'FHN', 'CTAS', 'CINF', 'BCE', 'SON', 'AWK', 'DECK', 'NNN', 'AGR', 'TRU', 'IPG', 'USPH', 'CEG', 'KEYS', 'STATE OF', 'ABB', 'IQV', 'AQUA', 'ETSY', 'UI', 'SNAP', 'CCCS', 'PINS', 'VFC', 'AJG', 'LPLA', 'CCK', 'IVV', 'FQAL', 'SNDR', 'BRKR', 'SBIO', 'VSH', 'LGI', 'JHMM', 'FDN', 'AVNT', 'FIMKX', 'FCPIX', 'DGRS', 'MRVL', 'RTH', 'MRO', 'BHF', 'PEG', 'IYY', 'WFAFY', 'RSP', 'IWD', 'UA', 'CARG', 'SYF', 'RITM', 'KRTX', 'EDIT', 'AIG', 'CONN', 'UGI', 'COLB', 'NTNX', 'RNG', 'PLUG', 'NTRA', 'NOV', 'GM', 'HUN', 'ESRT', 'RGA', 'ARRY', 'MRTX', 'GTLB', 'ENPH', 'UAL', 'FOLD', 'AAT', 'NEM', 'TAP', 'UNM', 'SBRA', 'AXS', 'CWK', 'OUT', 'ZS', 'APO', 'VTRS', 'BILL', 'FCNCA', 'INSP', 'VNO', 'QTWO', 'LPSN', 'MLKN', 'LC', 'CSGP', 'VAC', 'FWONK', 'AKR', 'FLO', 'ROKU', 'OPEN', 'DLR', 'MDGL', 'WBS', 'FCEL', 'EWBC', 'NYCB', 'CPT', 'NFG', 'MRVI', 'YOU', 'WY', 'JLL', 'AGNC', 'CAR', 'DNB', 'AHCO', 'CHDN', 'CSII', 'MKSI', 'QSR', 'TREX', 'FLT', 'APPF', 'SCI', 'VCTR', 'CROX', 'MTD', 'GFI', 'DQ', 'NDSN', 'SSD', 'LMST', 'GRMN', 'RH', 'CNHI', 'GRFS', 'MONOY', 'VONOY', 'SKBSY', 'ASXFY', 'ECL', 'DPSGY', 'MITEY', 'NTDTY', 'SMPNY', 'BHKLY', 'SSB', 'VIASP', 'BOH', 'FRC', 'LTRPA', 'CS', 'MPC', 'WCC', 'ABCB', 'O', 'NUE', 'TYG', 'CIVI', 'WDS', 'SIVB', 'SCHD', 'SVC', 'CPB', 'BCC', 'OHI', 'CTLT', 'GMED', 'DEI', 'GO', 'ED', 'DAL', 'NLY', 'ATO', 'Z', 'APPS', 'ALLY', 'RJF', 'BMRN', 'BLNK', 'SILK', 'PAYC', 'SBNY', 'MKC', 'ELAN', 'HE', 'BRO', 'CDNA', 'HPP', 'CNP', 'INCY', 'PACW', 'BIIB', 'IONS', 'SRE', 'RIVN', 'IBRX', 'K', 'RTN', 'PFF', 'RUN', 'FIVE', 'UNICY', 'UNVGY', 'SGAPY', 'TOSYY', 'RCRUY', 'TELNY', 'NPPNY', 'ELUXY', 'ITC', 'KKOYY', 'CBZ', 'MATURIT', 'PFGC', 'FPI', 'SQM', 'BRK.A', 'KBE', 'VFH', 'BSM', 'CANO', 'LUBYX', 'GNR', 'VHT', 'MOO', 'QTEC', 'NXTG', 'CDL', 'LDP', 'ABYIX', 'MBXIX', 'SPGP', 'IGHG', 'VEEV', 'WDAY', 'VRSK', 'IBN', 'MTCH', 'RSG', 'ARWR', 'HZNP', 'SWAV', 'SYNH', 'MAXR', 'FATE', 'WIW', 'CHE', 'ICLR', 'ORLY', 'ENVX', 'SPWR', 'RBLX', 'HAS', 'ESALY', 'BAC.PL', 'RDSMY', 'AGI', 'MTSI', 'CG', 'CHRS', 'CMPS', 'BAX', 'TTWO', 'MUNI', '4.WEEK MATURE', 'PSO', 'JAPSY', '13.WEEK MATURE', 'SAND', 'WTRG', 'HOLX', 'ATKR', 'TU', 'FAST', 'BHP', 'SRVR', 'MGM', 'GEHC', 'GE', 'RNWK', 'SUPN', '91282CFN6', 'COHR', 'GNRC', 'AKAM', 'FISV', 'ARCB', 'SWK', 'BLL', 'WYNN', 'MASI', 'ATHA', 'CRGY', 'GEVO', 'MNRL', 'NTST', 'AVXL', 'TELL', 'PCVX', 'SWTX', '912796ZP7', 'CTRA', 'XPRO', 'KURA', 'AROC', 'DOC', 'KRYS', 'SAVA', 'KALV', 'NESR', 'BLFS', 'HLX', 'HP', 'NOTV', 'RLMD', 'INSW.V', 'CMTG', 'COGT', '912796YJ2', 'INSM', 'SGENX', 'SCHP', 'ESI', 'GFL', 'FFIV', 'BFAM', 'FOUR', 'ACHC', 'BKI', 'ENTG', 'BLDR', 'GT', 'XYL', 'PLNT', 'CDW', 'AZEK', 'LYV', 'REZI', 'MAT', 'LESL', 'BBWI', 'USFD', 'VRT', 'DSEY', 'BERY', 'MLM', 'VICI', 'SMG', 'QRVO', 'CZR', 'CLR', 'ZIMV', 'SSLTY', 'TREASURY INFLATIO', 'ZBH', '6.MONTH', 'BATRA', 'AMP', 'CR', 'QYLD', 'LBRDA', 'BTEC', 'FSMDX', 'FLYW', 'EFA', 'IRBT', 'COUP', 'HSAC', 'AKRO', 'KOD', 'BCEL', 'OCGN', 'ENOB', 'TLRN', 'SI', 'U', 'VYM', 'MAIIX', 'FHYS', 'FDEV', 'BAGIX', 'TWTR', 'AE', 'JOE', 'BMN', 'KBH', 'FB', 'FAS', 'USO', 'FTBFX', 'ANDE', 'CPXWF', 'CCXI', 'EFAD', 'GMRE', 'GSMYX', 'ISEE', 'PLL', 'AEE', 'AMLX', 'BRCM', 'PPL', 'PCTY', '912796X87', 'BRMK', 'VTNR', '912796U31', 'EXPE', 'ELS', 'TROW', 'SH', 'SEIC', 'WIT', 'HQL', 'NID', 'DGRO', 'IMKTA', 'AA', 'MGY', 'WRK', 'NEWT', 'SJT', 'KMX', 'ARKK', '91282CFG1', '912796YH6', 'MFH', 'STAG', 'CVET', 'LGF.B', 'ABMD', 'ONEQ', 'FCNTX', 'IVW', 'CHTR', 'ROST', 'FBKWX', 'ECOM', 'NHI', 'SSYS', 'PTC', '912796XQ7', 'BKEPP', 'XLE', 'OZKAP', 'CDNS', 'HIL', 'AMC', 'FINX', 'IJS', 'MS$P', 'EELV', 'KRE', 'CEF', 'GDXJ', 'RPD', 'PRF', 'GSSC', 'CIBR', 'GSIMX', 'CFA', 'FIASX', 'PYPLV', 'DPZ', 'EMN', 'DURA', 'CMA', 'FICO', 'CARR', 'DRI', 'VRAI', 'REG', 'L', 'CE', 'NVR', 'WHR', 'MAS', 'FIP', 'KNOP', 'ABNFX', 'OC', 'DHS', 'XLY', 'MUB', 'EFAV', 'PCNNX', 'IDV', 'JHCBX', 'XLC', 'BURL', 'SCHF', 'GXO', 'NOVT', 'AATC', 'VTRSV', 'STNG', 'AR', 'UBSI', 'ESTE', 'SM', 'ASBC', 'GNKOQ', 'CDEV', 'PBA', 'UVV', 'TXT', 'TIP', 'SPR', 'IBDO', 'IBDQ', 'VTIP', 'MFC', 'BEKE', 'EPD', 'CWEN.A', 'FNB', 'TXRH', 'AGCO', 'NWBI', 'LHCG', 'ITT', 'RTL', 'EVT', 'IMAX', 'RC', 'AXSM', 'UUUU', 'IWN', 'ACAD', 'FIXD', 'CPE', 'ALLK', 'MAC', 'PLAN', 'NAT', 'KOS', 'NBR', 'NEX', 'GNK', 'SHYG', 'IWB', 'ASB', 'BRBR', 'CERN', 'AMBP', 'U 3%25CD', 'CMS', 'WEC', '912796U49', 'PPA', 'PAVE', 'OXBR', 'VCSH', 'MTBC', 'UPST', 'FWONA', 'FLL', 'ORI', '91282CEG2', 'CHKP', 'DRE', 'LMND', 'MP', 'Y', 'NEE$Q', 'JD', 'SCHH', 'CRNC', 'SDC', 'IWM', 'SPCE', 'UGRO', 'TLRY', 'USAC', 'ECOL', 'T+A', 'R', 'CP', 'SNA', 'CABO', 'EXP', 'BKE', 'NEO', 'TWST', 'AMH', 'ARKG', 'JBI', 'DOW', 'KWEB', 'NNGPF', 'UPMKF', 'VALE', 'PSMMY', 'TGOPY', 'EVRG', 'VOLVY', 'NTT', 'WPC', 'BTVCY', 'ASX', 'DNHBY', 'PWCDF', 'TSCDY', 'SKHCY', 'CSTL', 'BANC$E', 'BLKB', 'FLEX', 'MGA', 'AZSEY', 'TACO', 'GBCI', 'ANTM', 'IAA', 'KMI.W', 'CVNA', 'GFS', 'BBH', 'PBCT', 'ENLC', 'FANUF', 'DAIUF', 'TRNO', 'KAI', 'PI', 'CGNX', 'GH', 'LVMHF', 'IAU', 'FNV', 'PDM', 'DISCA', 'LVS', 'XYIGY', 'AM', 'TRI', 'SCHZ', 'PSXP', 'ICUI', 'NUVA', 'PFFV', 'FE', 'VRP', 'HXL', 'FPE', 'FSP', 'GEMIX', 'LUBFX', 'PTMC', 'BOOT', 'ITA', 'XAR', 'EFG', 'IEUR', 'FLGB', 'SPHB', 'PBFX', 'AXTE', 'AXHE', 'ILPT', 'AB', 'KBA', 'IVOO', 'BEN', 'BTC', 'PSDTX', 'BXMT', 'ABC', 'PONCX', 'HTZWW', 'PATK', 'OLP', 'OTIS', 'DTM', 'KYN', 'AY', 'GLAD', 'PTNQ', 'TDC', 'FXI', 'WES', 'GLW', 'ORMP', 'GVA', 'BF.B', 'ABQCX', 'PEGA', 'FGSCX', 'CLOU', 'NWL', 'FUN', 'FUND 2', 'SRLP', 'FUND 2 LTH', 'DCI', 'ZM', 'SLB', 'HSIC', 'WEX', 'FHLC', 'IS', 'INFO', 'ENVA', 'CLDT', 'NS', 'PNFP', 'CCEP', 'BKEP', 'SPLK', 'RNR', 'CSL', 'SCU', 'RHP', 'QMCO', 'IXJ', 'SHLX', 'IYZ', 'SPH', 'ITCI', 'MPLX', 'CEM', 'FVRR', 'ITUB', 'ASXC', 'RNGR', 'WRK.V', 'PENN', 'VRM', 'RXT', 'PAGS', 'MTX', 'CORPORAT', 'TRUP', 'HBAN', 'XRAY', 'BCPC', 'SLVM', 'CTAA', 'KPLTW', 'ORCC', 'OFC', 'CONE', 'FDIS', 'LITE', 'FTEC', 'TDOC', 'FSK', 'HIPO', 'UN', 'KYOCF', 'FPEI', 'MITK', 'VAIAF', 'TNC', 'COR', 'FBND', 'INDB', 'MAIN', 'LZ', 'CAPL', 'EBS', 'HTLD', 'SRLN', 'ENBL', 'MSB', 'BEP', 'APAM', 'DWAC', 'CARDONA', 'BE', 'KPLT', 'CLNE', 'FMAT', 'CALX', 'DUKH', 'DIAL', 'LRNZ', 'COMM', 'GLP', 'AAL', 'GPS', 'OSW', 'MDNDF', 'ATHM', 'GCGMF', 'NRDY', 'LW', 'WWD', 'GEL', 'WLTW', 'WCLD', 'CRSP', 'PEJ', 'AVYA', 'RLGY', 'MDY', 'GDDY', 'AMJ', 'BLDP', 'PRGS', 'PGX', 'CREE', 'BWA', 'LMRK', 'VSCO', 'XLRE', 'IBUY', 'NVVE', 'CHWY', 'WW', 'ESGC', 'CNA', 'TRV', 'VIAC', 'ROLL', 'XPO', 'ORAN', 'SAM', 'RDSA', 'QTS', 'MONTGOMERY, AL .2, SCHAUMBERG, IL .1', 'ALXN', 'MTUM', 'DTD', 'NLOK', 'LTD', 'VXX', 'AESE', 'FBALX', 'FDRXX', 'MRIN', 'NVCR', 'AMZA', 'HNDL', 'TOTZF', 'ETV', 'CDK', 'AQB', 'RAMP', 'TRIT', 'TNL', 'OGN', 'SITE', 'MTDR', 'STOR', 'BHI', 'GME', 'LEA', 'CCC', 'PLTR', 'AMRC', 'TTEK', 'DOV', 'ALYF', 'STAY', 'GBTC', 'TBBC', 'ETHE', 'WLK', 'VRSN', 'CWH', 'TCF', 'TER', 'SF', 'ATRC', 'JNPR', 'MANT', 'IPGP', 'DOCU', 'LEG', 'WSM', 'TPCO', 'DIN', 'CHGG', 'CELC', 'BALY', 'FFG', 'VVNT', 'BRKS', 'TLK', 'AEIS', 'BOWX', 'NIO', 'VMC', 'APPAD', 'FDSWX', 'LDNXF', 'FL4.SG', 'KTOS', 'ICSH', 'HNST', 'QRTEA', 'HAE', 'LL', 'PCRX', 'TREE', 'SABR', 'BRP', 'GSS', 'YTRA', 'GFN', 'EMKR', 'TGNA', 'GPRO', 'PART INTEREST', 'VAR', 'VPU', 'BPMP', 'SU', 'RHHBF', 'GAN', 'NUAN', 'AMTX', 'ORA', 'OMCL', 'CMLTU', 'NYT', 'WAB', 'CENT', 'CWEN', 'HOFV', 'ETWO.W', 'SHAK', 'QCRH', 'HRTX', 'FUND', 'GTN', 'CACI', 'MCS', 'IEX', 'EBAY', 'CNR', 'QRTEP', 'NASDAQ', 'GDRX', 'NI', 'BJ', 'ARMK', 'ACST', 'CTRM', 'ESTC', 'RDS.A', 'ROG', 'HCRB', 'CMLFU', 'POOL', 'VOX', 'D/B/A ELLIOTT', 'NCLH', 'FIVN', 'SLAB', 'PFPT', 'BKR', 'VIVO', 'OSUR', 'WSC', 'GPC', 'DGNR', 'APHA', 'LUKOY', 'FUPBY', 'BL', 'CNI', 'ERJ', 'RDS.B', 'ABEV', 'CLGX', 'AOSL', 'HRC', 'AL', 'ST', 'EHC', 'SOLO', 'SC', 'LYB', 'XEC', 'ATH', 'UNVR', 'WYND', 'OMF', 'OKTA', 'LYFT', 'DXC', 'IPWR', 'ZG', 'TOL', 'WH', 'SEE', 'ARNA', 'FEMS', 'GGSM', 'EEM', 'CRON', 'GRUB', 'ACB', 'CGC', 'AAIGF', 'MJNA', 'YETI', 'DOMO', 'QUMU', 'XCAPX', 'HUM', 'DMTK', 'DDD', 'PPC', 'EVOP', 'FSLY', 'JIH', 'LEE', 'LMACU', 'NYMX', 'SJM', 'DKNG', 'GBDC', 'SDOG', 'ZOOM', 'DAN', 'JETS', 'PCPL', 'AUY', 'TKC', 'MLYNF', 'TSCDF', 'NCMGF', 'RODM', 'JGCCF', 'VIV.V', 'WOLWF', 'OGFGF', 'MJDLF', 'PDS', 'CEMCF', 'WAIR', 'CIG', 'FSKR', 'VIV', 'AIO', 'FEYE', 'ACGL', 'AJRD', 'TIF', 'LI', 'CHNG', 'CNF', 'FLIR', 'PCPL.U', 'QQXT', 'XLB', 'ARW', 'SRNE', 'LB', 'ASMB', 'XLF', 'RETA', 'EDU', 'HII', 'PSTH', 'HDS', 'FTDR', 'NGLS', 'NBIX', 'EXPI', 'ETY', 'CHL', 'CTXS', 'ARNC', 'VSAT', 'CATM', 'RAD', 'DNKN', 'PRAH', 'SNE', 'AIV', 'THR', 'NVGS', 'ZUO', 'BLUE', 'GSLC', 'CEQP', 'WORK', 'NTRP', 'ZBRA', 'LAND', 'BGG', 'CCMP', 'YEXT', 'WIX', 'GMLP', 'FVD', 'SWN', 'CTRCF', 'REGL', 'PASO', 'VRTU', 'RBCAA', 'HBI', 'PSIX', 'PAAS', 'FISI', 'ACIW', 'PTLC', 'BIP', 'IPHI', 'FUBO', 'OIH', 'SMLP', 'DBX', 'SDXAY', 'ANZBY', 'HLDCY', 'AGESY', 'NTXFY', 'AER', 'BASFY', 'FUJHY', 'WOPEY', 'TLSYY', 'CSLT', 'TOT', 'MFGP', 'MRWSY', 'TEVA', 'GLPEY', 'VOPKY', 'ATASY', 'CAJ', 'SSUMY', 'HSNGY', 'MLCO', 'KPELY', 'DLAKY', 'FINMY', 'OMVKY', 'POAHY', 'RYCEY', 'REPYY', 'IX', 'CUK', 'ACSAY', 'HLPPY', 'EJPRY', 'TLSNY', 'NTOIY', 'E', 'CNS', 'MITSY', 'TS', 'IPXHY', 'HRI', 'MPLN', 'GLOP', 'CVI', 'BYND', 'MMLP', 'AMN', 'VAW', 'SKX', 'BEEM', 'GWPH', 'ACM', 'XLNX', 'RCI', 'APEN', 'PPBI', 'GWRE', 'CSIQ', 'PRLB', 'LGND', 'NBLX', 'OLED', 'PRAA', 'FLCB', 'SPTM', 'FLCO', 'EBSB', 'CATY', 'GOVT', 'VWO', 'VDC', 'FLQL', 'CRY', 'VEA', 'PRA', 'NEOG', 'WSTL', 'TECH', 'NVAX', 'ANSS', 'ROL', 'LII', 'AMED', 'CMLF', 'USMV', 'ESGU', 'VTI', 'IEFA', 'PUTW', 'IEF', 'VLUE', 'IHI', 'DSU', 'XSOE', 'DIV', 'EVV', 'BTZ', 'YNDX', 'CDAY', 'NBL', 'AMTD', 'WKHS', 'ETFC', 'BREW', 'PBF', 'WPX', 'LEVI', 'AVLR', 'PKI', 'ATOAX', 'SVCBY', 'ENR', 'RHI', 'CHUY', 'DRQ', 'POST', 'FHB', 'TGTX', 'SNX', 'BAND', 'USMC', 'INO', 'ANY', 'POWI', 'AMWD', 'BHC', 'CCXX', 'FTA', 'RUSHA', 'MYE', 'DOX', 'SKVKY', 'KMPR', 'XLV', 'CWB', 'WDC', 'SDY', 'BGFV', 'DCP', 'RAND', 'HFC', 'ZI', 'PGNY', 'OSK', 'WDFC', 'NWE', 'CBRE', 'IAC', 'BECN', 'SIL', 'SYPR', 'SPKE', 'BIPC', 'RXN', 'PROF', 'NKLA', 'HUYA', 'TMUSR', 'MSBHY', 'NMIH', 'TCOM', 'DUSA', 'VSLR', 'GGT', 'DLS', 'BAM', 'SFST', 'CXW', 'WK', 'LTHM', 'BLFSD', 'LEN', 'LEN.B', 'KIDS', 'BDC', 'STWD', 'TFFP', 'INFR', 'ISD', 'EFV', 'VV', 'REYN', 'NVIGF', 'BDN', 'SKYY', 'PRJAX', 'PSNL', 'SPSC', 'ETP', 'ITOT', 'AGN', 'ADS', 'IVZ', 'FLS', 'FLXN', 'CMD', 'EVH', 'FNMA', 'IBKR', 'MORN', 'BRY', 'SERV', 'BIF', 'CTECBX', 'ONTO', 'HCSG', 'HOG', 'HRB', 'CTL', 'NWS', 'NWSA', 'AYI', 'LBDAV', 'GLIBA', 'ASGN', 'POEFF', 'DEACU', 'PS', 'RQI', 'SOJA', 'FRIAX', 'CAIFX', 'TRP', 'SUN', 'PAGP', 'TCP', 'TRGP', 'SSL', 'M', 'AXTA', 'EQM', 'BOIVF', 'UTX', 'EAF', 'UHAL', 'PNQI', 'FOXA', 'FOX', 'URBN', 'ACA', 'MSM', 'RL', 'DIA', 'UPLD', 'AIZ', 'NNVC', 'HAYN', 'GLNCY', 'MTSC', 'AIMC', 'NXST', 'DISCK', 'QLEIX', 'PFG', 'FPL', 'ZION', 'AMG', 'GEM', 'BOTZ', 'HCN', 'OAYIX', 'KSS', 'KNX', 'JWN', 'IAT', 'GLOB', 'DSGX', 'UNF', 'IDA', 'AIR', 'VONE', 'FEI', 'HTZ', 'PLYA', 'CIM', 'GOOS', 'FRT', 'QGEN', 'HTA', 'BYD', 'AAN', 'AVT', 'CEMI', 'TLND', 'SZEVY', 'CRRFY', 'RNLSY', 'BG', 'RDEIY', 'CDLX', 'GEAGY', 'PCRFY', 'VC', 'PVH', 'DSDVY', 'HNNMY', 'COTY', 'HLUYY', 'NATI', 'RWEOY', 'PDYPY', 'CCLAY', 'SWGAY', 'WCAGY', 'ENGGY', 'CPRI', 'RBS', 'STE', 'JBAXY', 'HPE', 'SWMAY', 'UHS', 'PRGO', 'SNP', 'AVNS', 'MHK', 'NVEE', 'MEOH', 'JMP', 'JBT', 'EGHT', 'RP', 'KTB', 'ENS', 'ANIK', 'NEWR', 'BBBY', 'FTSM', 'WCMIX', 'FDL', 'COO', 'MTN', 'ENV', 'INMD', 'BSTZ', 'CNK', 'NULG', 'SPYG', 'IGV', 'CFR', 'HZN', 'QSY', 'FNKO', 'DENN', 'EEFT', 'VWDRY', 'KRNT', 'PRSP', 'OMC', 'CSQ', 'SNNUF', 'CHRW', 'TCO', 'WMGI', 'POL', 'KL', '912796WX3', 'BMEZ', 'FRFHF', 'GSAH', 'WCG', 'SANM', 'LPT', 'AROW', 'GRA', 'FMCMF', 'CENTA', 'GCP', 'XRT', 'ADTN', 'BIV', 'FIKMX', 'VFIJX', 'IVE', 'IHS', 'TSS', 'TGBAX', 'GTX', 'FBSI', 'SPN', 'EXPO', 'HACK', 'QUAD', 'ERH', 'CWST', 'NLSN', 'CBS', 'VIAB', 'MYL', 'CMPR', 'CBT', 'CLNC', 'NPSNY', 'GCI', 'CELG', 'DDAIF', 'ECA', 'FND', 'TRHC', 'CLB', 'RGNX', 'AYR', 'CLS', 'IBKC', 'IIVI', 'TWO', 'SIX', 'CAE', 'MN', '12/01/37', 'CBM', 'INDA', 'ZEN', 'MD', 'TWOU', 'MDRX', 'MIDD', 'TYL', 'ERI', 'XBI', 'RYAOF', '3V64.TI', '0QZI.IL', 'JNK', 'LM', 'BPL', 'PRO', 'UPMKY', 'ATR', 'LNN', 'CBL', 'GFSZY', 'DIFTY', 'CLNY', 'PBSFY', 'JMHLY', 'HENOY', 'BZLFY', 'SEMG', 'SNH', 'ETM', 'DNSKY', 'TVTY', 'RCKY', 'CARS', 'UCON', '912796SH3', 'DUE 7/01/20', 'APC', 'JEC', 'MDSO', 'VST', 'TUP', 'MSTR', 'MGP', 'COT', 'KAR', 'PLAY', 'NEU', 'APT', 'DUE 10/01/37', 'DUE 08/01/25', 'REVB', 'APNHY', 'PDCE', 'MINI', 'ANDX', 'IJH', 'ALRM', 'MALOX', 'NRG', 'VPMAX', 'IWF', 'TSCIX', 'GTCSX', 'TCBI', 'RHT', 'BAMXY', 'STI', 'HUB.A', 'WAGE', 'TMK', 'RDUS', 'ARI', 'SRC', 'WING', 'APVO', 'MED', 'HIW', 'FII', 'IRTC', 'CHH', 'ADUS', 'CCOI', 'HL', 'HCP', 'PLCE', 'AXGN', 'G', 'AMBA', 'PGRE', 'WAFD', 'WTS', 'TRMK', 'LANC', 'PNW', 'OXM', 'APLE', 'LLL', 'CVLT', 'FFIN', 'GBT', 'CXP', 'TRMB', 'BOOM', 'SITC', 'UMPQ', 'VRNS', 'FBC', 'BXS', 'H', 'DLB', 'MANH', 'REXR', 'PB', 'EGBN', 'BKU', 'CDE', 'FIBK', 'AWI', 'DNOW', 'LAUR', 'PNR', 'SMGZY', 'BBT', 'RDSA.AS', 'AZPN', 'EXEL', 'ARR', 'MTH', 'FDC', '40056FN84', 'FFRHX', 'MDXG', 'WBC', 'AMRX', 'INFY', 'PDRDY', 'RBGLY', 'GMXAY', 'KOSCF', 'SMECF', 'OOCP', 'CABGY', 'NJ', 'RYDBF', 'PKCOY', 'KYCCF', 'IEMG', '40055AY43', 'CTRL', 'AVP', 'ESGR', 'JGCCY', 'DWDP', 'GDV', 'PBYI', 'KMT', 'AMBR', 'TPX', 'HPT', 'EGY', 'CNDT', '07/01/36', '07/01/28', 'TDS', 'XRX', 'DMRC', 'MGPI', 'ABM', 'RDFN', 'SCHN', 'DBD', 'UBNT', 'WP', 'ULTI', 'EAT', 'ESNT', 'BIG', 'VCRA', 'LLDTF', 'ADSW', 'UNCHF', 'NTDMF', 'SFTBF', 'WGO', 'VIOT', 'SWH', 'PUMP', 'TMHC', 'CCS', 'WDR', 'CRI', 'II', 'TORIX', 'SUP', 'ELLI', 'INGR', 'BOKF', 'LCII', 'CHEUY', 'VET', 'LFUS', 'DCM', 'JRVR', 'CM', 'GOLF', 'WASH', 'BLX', 'AIN', 'AGO', 'EGP', 'BGS', 'BGCP', 'PNM', 'CNSL', 'MAN', 'HOPE', 'HNI', 'FUL', 'CNMD', 'ALE', 'DUK PA', 'FTS', 'HA', 'DKS', 'ALV', 'WGHPY', 'OZK', 'NMRK', 'AHONY', 'MSA', 'DK', 'JCOM', 'LECO', 'PRNHX', 'FSTFX', 'FFHRX', 'FLMVX', 'HRS', 'EYE', 'PER', 'UTGN', 'RCII', 'TFCFA', 'DOOR', 'OGE', 'GBX', 'TFCF', 'FF', 'CTRP', 'XSLV', 'XENT', 'CTB', 'UTHR', 'BH', 'DPLO', 'IBP', 'GBOOY', 'DEA', 'EXG', 'MSG', 'CPRT', 'JJSF', 'APU', 'CNXM', 'CINR', 'SPKEP', 'ZAYO', 'HESM', 'SAVE', 'ORBK', '912796QV4', 'ATHN', 'BFET', 'GCO', 'PSB', 'ESRX', 'UFS', 'ANCX', 'TNTOF', 'NAVI', 'AX', 'OPI', 'SNHY', 'CCT', 'THG', 'IXP', 'LABL', 'AMSF', 'BEL', 'AOBC', 'TVPT', 'WB', 'PETQ', 'LLESY', 'VGT', 'MC', 'CVGW', 'PEGI', 'KN', 'PCG', 'ESL', 'SONO', 'PTLA', 'SCG', 'CXO', 'VOE', 'VB', 'ARAV', 'BKCC', 'MIC', 'RA', 'MZOR', 'FTAI', 'MMS', 'VCR', 'VTV', 'SEKEY', 'MRT', 'SIR', 'LN', 'AMCRY', 'CATO', 'CPYYY', 'ASOMY', 'VLEEY', 'STAR', 'SHPG', 'GOV', 'GFAFX', 'OMI', 'INGIY', 'AHT', 'BHR', 'FSNUY', 'NRBAY', 'SMTA', 'VLP', 'EMLP', 'LM09.SG', 'VWNAX', 'HR', 'SAFM', 'MAIPX', 'XON', 'WGP', 'BBAVY', 'SRCL', 'EQGP', 'IWO', 'PKB', 'PCY', 'HAINX', 'MT', 'BBL', 'STLD', 'ICAGY', 'EMB', 'SLQD', 'EMLC', 'PGF', 'BHGE', 'BRKB', 'AMGP', 'DM', 'WBT', 'BV', 'AET', 'IEZ', 'BAMXF', 'INGN', 'TI', 'AIVAF', 'TKPYY', 'ASBFY', 'MTZPY', 'ROYMY', 'FPAFY', 'CDR', 'ITVPY', 'STRNY', 'YAHOY', 'ACGPF', 'HAIN', 'ARRS', 'SOMLY', 'CA', 'NRZ', 'LXFR', 'PX', 'PRI', 'MSTY.PA', 'SMAWF', 'VSM', 'LSTR', 'ABX', 'ETE', 'DFIN', 'KS', 'RVI', 'EVHC', 'CBLK', 'ONE SHARE FOR ONE SHARE', 'CNQ', 'CCJ', 'SHOO', 'ASND', 'ENLK', 'NVT', 'MLPX', 'HOMB', 'TBT', 'EDR', 'AN', 'IDTI', 'CCH', 'JG', 'SSMXF', 'CUTR', 'GPT', 'KSU', 'ROBO', 'RPG', 'EMGF', 'FTI', 'COTV', 'OZM', 'LOGM', 'DLPH', 'NYLD', '912796QX0', 'VNQ', 'TIS', 'NOKBF', 'GOOCV', 'TANN', 'WPZ', 'MXL', 'WPG', 'PSEC', 'CX', 'IGIB', 'TGE', 'QCP', 'XT', 'UNFI', 'IIN', 'PBR', 'BAF', 'RMP', 'CASH', 'SURG', 'PSTG', 'HGV', 'VRAY', 'CRMT', 'NKTR', 'TWX', 'NORTHWESTER', 'LQD', 'LTC', 'HSTM', 'BAYZF', 'WINA', 'OZRK', 'USG', 'ECPG', 'AHGP', 'CODI', 'DVMT', 'TTM', 'GTES', 'APY', 'GOGO', 'INOV', 'MIK', 'YELP', 'BOX', 'ALLY.A', 'TKGBY', 'TOTL', 'IYE', 'CHK', 'IBM.MX', 'VGK', 'EV', 'SEP', 'CGNT', 'TEP', 'INVESTMEN', 'CDXS', 'ACXM', 'ODVYX', 'BKD', 'FINL', 'CLNS', 'BRX', 'DDR', 'BT', 'SKYAY', 'CCIZX', 'TATYY', 'LXP', 'WARFY', 'DPS', 'NYLD.A', 'YTEN', 'VRNT', 'RYT', 'IYT', 'LVNTA', 'XSD', 'FDUS', 'FNGN', 'CALD', 'APTS', 'FTSI', 'CVA', 'ILG', 'PDCO', 'CSRA', 'MHLD', 'SCHA', 'PCLN', 'GNL', 'JCAP', 'VER', 'PEI', 'HIFR', 'COL', 'TNTR', 'IHE', 'NILSY', 'RYAAY', 'ALOT', 'GRPN', 'IYR', 'BIVV', 'OA', 'HIBB', 'FET', 'TTP', 'VNTV', 'LSCC', 'AXE', 'CBG', 'TCX', 'GXP', 'RGC', 'PFS', 'OAK', 'ENTL', 'OREX', 'FIT', 'LGIH', 'AFT', 'ESV', 'BETR', 'MTCIX', 'FSD', 'TEGP', 'OI', 'AFSI', 'LKSD', 'INWK', 'ITYBY', 'SMGIX', 'CQP', 'MLPA', 'WIN', 'TUES', 'RELL', 'ASPN', 'ELGX', 'TV', 'MRLN', 'IDT', 'TCPC', 'RSPP', 'CSGKF', 'CMLPSX', '36966R5P7', 'SOUHY', 'LVLT', 'CAA', 'IPXL', 'TEUM', 'BONT', 'ATOS', 'DXTR', 'ADRE', 'NGLS$A', 'FNI', 'ZIOP', 'TRXC', 'NEOT', 'RCON', 'NETE', 'HLF', 'LBIX', 'VDE', 'INFI', 'TIXC', 'SCX', 'OTIC', 'WPPGY', 'SGBK', 'WTR', 'WF', 'TCS', 'LNEGY', 'OPK', 'GAMR', 'ANF', 'FV', 'Q', 'BCR', 'SPLS', 'ITEK', 'NPSND', 'VTKLY', 'TD', 'MNK', 'CMPGY', 'JSMD', 'JSML', 'DD.PA', 'NPK', 'EXXI', 'WFM', 'RTNB', 'MWA', 'ARCI', 'ACC', 'VOT', 'VOYA', 'IUSG', 'IUSV', 'FXD', 'SRF', 'PHLD', 'SHPGF', 'RAS', 'NVDQ', 'CYTR', 'CAPR', 'RAI', 'PEY', 'TEAR', 'AEZS', 'CCE', 'CBAY', 'ZN', 'FTR', 'TTC', 'ABDC', 'MBFI', 'ZNGA.SW', 'ORKLY', 'CIU', 'SLV', 'OUNZ', 'JCS', 'OKS', 'CST', 'WLL', 'EONGY', 'MCC', 'NFX', 'CCP', 'CLSN', 'MXIM', 'MDC', 'AFAM', 'TLLP', 'DCTH', 'AINV', 'QTM', 'VNCE', 'VEVIX', 'SLM', 'CLNS$A', 'GTOMY', 'VIVHY', 'UNIT', 'JHB', 'POT', 'JNS', 'PE', 'COH', 'JNUG', 'MNRO', 'OCN', 'FNBC', 'CWEI', 'LCI', 'FTK', 'SZYM', 'CEB', 'PRXL', 'AGU', 'WETF', 'TLRD', 'CMTL', 'IJJ', 'ERIE', 'CMCSK', 'VSAR', 'MLPI', 'RYH', 'FL', 'RVT', 'WOOF', 'LLTC', 'IYH', 'NVG', 'VCIT', 'CLC', 'FCGYF', 'MJN', 'IBB', 'ALOG', 'KERX', 'ACRE', 'GCBC', 'RMBFX', 'AQFH', 'SXL', 'BABY', 'FNMAJ', 'XLI', 'NEE.PC', 'NGD', 'XLP', 'WFT', 'IMGN', 'CLMS', 'DBEF', 'COG', 'PLM', 'MGU', 'REMX', 'ASHS', 'TRN', 'SYNA', 'ZNGA', 'OLCB', 'IAI', 'NSR', 'ISDR', 'MAXD', 'AEXAY', 'FGP', 'IXYS', 'STRZA', 'HBHC', 'TGP', 'TLN', 'DRYS', 'IM', 'SBH', 'NEE.PRI', 'GDX', 'MDU', 'SCTY', 'ADNT', 'JCP', 'CAB', 'NHF', 'DPM', 'ASIX', 'ANGO', 'LEXEA', 'BACWSA', 'IQNT', 'ACE', 'DLX', 'SYRG', 'COKE', 'GPOR', 'EBF', 'ENH', 'SNI', 'UNRDY', 'EGO', 'HOT', 'BUNT', 'GRX', 'CICHY', 'KEP', 'DIISY', 'GIL', 'MDVN', 'AMX', 'OTEX', 'TDHOY', 'MATX', 'EMC', 'TYC', 'TSEM', 'HYH', 'STON', 'ELRC', 'RGT', 'YRD', 'EUO', 'MOAT', 'MGRC', 'SIMO', 'JACK', 'QIHU', 'AXLL', 'MRKT', 'BBU', 'MMHIX', 'LILA', 'FXP', 'TECO', 'GAS', 'DWX', 'PNPFF', 'GG', 'SLW', 'AEM', 'REE', 'PAL', 'PLGTF', 'FCG', 'KGC', 'UA.C', 'CPGX', 'BURFX', 'MON', 'DTO', 'PAY', 'LNCE', '3305779', 'CAFD', 'MBLY', '4824778', 'RELY', '6897143', 'BIOA', 'ITRI', 'B13WZ26', 'BLM7FC2', 'RAVN', '5522714', '4491235', 'FLTX', 'MXWL', 'SSNI', 'B1W8P14', 'BXLT', 'NGVT', 'BIN', 'FDM', 'IRLBF', 'ARG', 'OIL', 'PKW', 'WOR', 'NRF', 'NRE', 'TWC', 'KKD', 'SYT', 'MYRG', 'SNDK', 'SYY.SG', 'TCAP', 'STJ', 'XER.BE', 'AIRM', 'IRET', '2', 'SSW', 'BKJAY', 'WMFFX', 'WAK', 'LMCA', 'LMCK', 'ADT', 'OAS', 'LAZ', 'DNO', 'YACKX', 'JBLU', 'SRI', 'FXH', 'FXN', 'HYG', 'P', 'DUE 12/01/29', 'DUE 07/01/25', 'NCR', 'FLWS', 'PHH', 'SHOS', 'SNMX', 'SUNE', 'LUK', 'CWGL', 'VXUS', 'MGK', 'XLK', 'ADT.F', 'VILLX', 'FBT', 'FBHS', 'FTD', 'FCS', 'PCP', 'BLMN', 'MEG', 'HI', 'FOR', 'NPO', 'FMER', 'CMC', 'AXL', 'KALU', 'ESE', 'XHR', 'GWR', 'TIME', 'LTXB', 'CHMT', 'PAG', 'SXT', 'SJI', 'AEL', 'SIG', 'VSTO', 'SSP', 'UBSH', 'KRNY', 'HMHC', 'ALR', 'WTFC', 'MITL', 'VXF', 'RWL', 'HYI', 'TDIV', 'DTN', 'TBF', 'NASDAQ:WLTW', 'CNRAF', 'UBNK', 'RPXC', 'B923935', 'BOT4J94', 'SPY160219P00180000', 'RDIV', 'AEX.MU', 'DWTI', 'TW', 'RRMS', 'XPOI', 'TCB', 'BCEI', 'DSW', 'ASH', 'TK', 'WSHFX', 'TCIEX', 'DVFAX', 'QCGLIX', 'QCSTIX', 'TILVX', 'QREARX', 'TIMVX', 'TISBX', 'TCOIX', 'QCGRIX', 'HTLF', 'MWE', '^MWE', 'NE', 'HIX', 'MIXT', 'GMCR', 'TOO', 'B1WSP14', 'FSTR', 'HSC', 'CVSL', 'HCBK', 'ARCO', 'DEL', 'IYLD', 'ARMH', 'CPPL', 'CGO', 'LNKD', 'VRX', 'CMLP', 'FTBXL', 'ATAZF', 'HEDJ', 'RDVY', 'FXG', 'CVC', 'SLH', 'JDD', 'XLS', 'DUE 12/01/27', 'TE', 'EQT', 'CIT', 'QLIK', 'FDML', 'DUE 04/01/27', 'HW', 'SPHQ', 'ASHR', 'YCS', 'FPX', 'REX', 'SLY', 'RSCO', 'NGS', 'OCR', 'DUE 07/01/27', 'FAN', 'SPNC', 'LQDT', 'CHLKF', 'SCD', 'KWIPF', 'SNGNF', 'ITOCF', 'ISUZF', 'TELNF', 'NZTCF', 'AMRI', 'USB$N', 'HMSY', 'CBRL', 'TTFS', 'OMN', 'CW', 'TFM', 'SVU', 'BW', 'VNR', 'OAKIX', 'TLSRP', 'AFTEX', 'WSH', 'CJNK', 'SBUX.SW', 'MSACX', 'WSTMX', 'VMIIX', 'CTRX', 'VADDX', 'UPL', 'NGIPX', 'ACSDX', 'MGEMX', 'VSMIX', 'KRFT', 'ALTR', 'TEG', 'ATML', 'CVG', 'FXB', 'FXC', 'CTFS PARTN', 'ACT', 'CY', 'LO', 'DPG', 'BUNT.RP', 'MUR', 'WX', 'DATA', 'DO', 'RCPT', 'CRZO', 'INFA', 'IACI', 'INFN', 'CFFN', 'BRGYY', 'GBTZY', 'IWP', 'DDS', 'HPY', 'AMAG', 'ATI', 'JOY', 'YY', 'ISIS', 'KORS', 'NTCT', 'GMT', 'MNTA', 'SATS', 'CSTM', 'ADVS', 'CLI', 'BITA', 'AKRX', 'CAW', 'SGMA', 'GIFI', 'MMSI', 'DNR', 'MPX', 'DAKT', 'ROVI', 'PNRA', 'GVP', 'AFG', 'GCAP', 'SXE', 'SNR', 'ZMLP', 'AOZOF', 'PMFG', 'AMSYF', 'UNT', '^RGP', 'RGP', 'IGT', 'TBVPF', 'CUAEF', 'CYT', 'FOEAF', 'IPKW', 'EWW', 'FOE', 'RALS', 'B0T4J94', 'FR', 'OPY', 'JMG', 'NXTM', 'SPB', 'RYL', 'BN7Q3G8', 'BLT', 'WGL', 'MRD', 'FEIC', 'VMI', 'XL', 'ZU', 'PRPFX', 'CCLP', 'XLS.WI', 'PETM', 'ERII', 'BSV', 'TRS', 'APL', 'INRD', 'XLU', 'SMEZ', 'QAI', 'AGG', 'DFRG', 'AAON', 'PBH', 'SGY', 'ICON', 'MFRM', 'PLKI', 'RRTS', 'FMBI', 'KWR', 'CMN', 'SMTC', 'CTCT', 'SQI', 'BMR', 'IPCM', 'PLT', 'THRM', 'ATRO', 'AMSG', 'CHEF', 'TUMI', 'HF', 'CYBX', 'SWI', 'TYPE', 'VSI', 'SIGI', 'THS', 'MDCA', 'EPAY', 'EVR', 'ABCO', 'LOCK', 'MG', 'HUBG', 'TNGO', 'CMRE', 'SVM', 'PBI', 'ACMP', 'APAGF', 'DTV', 'EEI', 'SBMRY', 'CTTAY', 'RUK', 'COV', 'BMBLY', 'FOSL', 'CFRUY', 'SNPHY', 'CIOXY', 'NYSE: COV', 'CVE', 'PTNR', 'CJREF', 'OII', 'DVY', 'SDLP', 'ATU', 'VVC', 'NOG', 'AKCPF', 'KLXI', 'VLKPY', 'BEAV', 'URIRP', 'DRAD', 'FCNCB', 'VPFG', 'B', 'HOSPIC', 'TDA', 'TOLLX', 'CPN', 'LNCO', 'VGRAX', 'LINE', 'ACEIX', 'WASCX', 'MDDVX', 'FLRN', 'SDRL', 'SCHE', 'HTD', 'ETG', 'BTF', 'HGH', 'BYI', 'OLN', 'CIR', 'CEA', 'RYN', 'MFCDX', 'CBI', 'SYMC', 'TMH', 'ONVO', 'DBA', 'ENTR', 'BCOR', 'SFLY', 'ELX', 'ARCP', 'COF.PP', 'LYSFF', 'IRDM', 'NES', 'GARPF', 'FOJCF', 'MTW', 'VIXY', 'ASBRF', 'MEMP', '6320058', 'PNNT', 'CDA', 'SCZ', 'INF', 'USB.PN', 'LNXW', 'HBAYF', 'BNEFF', 'AVA', 'FUR', 'SPGYF', 'UFI', 'GSJK', 'ILF', 'EPP', 'VTTI', 'HYT', 'RYAM', 'WLP', 'ATMP', 'OSRN DE', 'LGP', 'SEM', 'FDO', 'RIGP', 'BPAQF', 'HUB.B', 'PL', 'HCC', 'PGH', 'MLPRX', 'BTE', 'CFX', 'BWX', 'PHB', 'MDP', 'IDU', 'TMST', 'TKR', 'NTI', 'RCS', 'PWE', 'QRE', 'YRAIF', 'RNDY', 'LMGEX', 'PRE', 'AIT', 'CMO', 'ROC', 'JOSB', 'DOM', 'TCK', 'IDCBY', 'GNW', 'KMR', 'CAOVY', 'PEGFF', 'DNFGY', 'CCCGY', 'DBP', 'GNC', 'TAL', 'CPE$A', 'NRP', 'PPR', 'GIMO', 'ECIFY', 'RKT', 'BC', 'QEP', 'CFN', 'EGN', 'VR', 'MHFI', 'WNR', 'TRW', 'PHI', 'APOL', 'RRD', 'ONNN', 'WR', 'BRCD', 'STO', 'TSO', 'KMP', 'CAM', 'SJR', 'ZMH', 'NMFC', 'SWAY', 'B5NC0D0', 'CTBI', 'CPSI', 'FLY', 'CHCO', 'CYS', 'LDR', 'YHOO', 'FFBC', 'HTS', 'MWO', 'ROSE', 'LGCY', 'EVEP', 'SUSQ', 'FSFR', 'MTAGF', 'VODPD', 'AZNCF', 'AOZOY', 'JPJQL', 'AETUF', 'NMM', 'WAG', '3%', 'SUSP', 'RIG', 'EC', 'EEP', 'EEQ', 'MOG.A', 'BBRY', 'BFK', 'MIE', 'JMF', 'CEN', 'NML', 'CBA', 'ARP', 'OTTR', 'CPHD', 'PCL', 'MRH', 'CTY', 'VODPF', 'CUB', 'FCN', 'MTZ', 'BBEP', 'HNZ', 'LLTI', 'SAPE', 'NTRI', 'VCLT', 'WCRX', 'MLPN', 'IYG', 'FEZ', 'UIS', 'GMXRQ', 'EP$C']\n"
     ]
    }
   ],
   "source": [
    "ticker_list = congress_inv['Ticker'].unique().tolist()\n",
    "print(ticker_list)\n",
    "unique_tickers = ticker_list"
   ]
  },
  {
   "cell_type": "code",
   "execution_count": 10,
   "metadata": {},
   "outputs": [],
   "source": [
    "cleaned_tickers = []\n",
    "for ticker in unique_tickers:\n",
    "\n",
    "    match = re.search(r'\\(([^)]+)\\)', ticker)\n",
    "    if match:\n",
    "        ticker = match.group(1).split(\":\")[-1]  \n",
    "\n",
    "    ticker = re.sub(r'[^A-Z0-9-]', '', ticker)\n",
    "\n",
    "    if ticker:\n",
    "        cleaned_tickers.append(ticker)"
   ]
  },
  {
   "cell_type": "code",
   "execution_count": 11,
   "metadata": {},
   "outputs": [
    {
     "name": "stdout",
     "output_type": "stream",
     "text": [
      "      Ticker TickerType                                            Company  \\\n",
      "0        GMT         ST  NGL ENERGY PARTNERS LP COMMON UNITS REPRESENTI...   \n",
      "1        DDR         ST                FREEPORT-MCMORAN, INC. COMMON STOCK   \n",
      "2        BCR         ST                                          VISA INC.   \n",
      "3       AAPL         ST                          APPLE INC. - COMMON STOCK   \n",
      "4       RYAM         ST               MICROSOFT CORPORATION - COMMON STOCK   \n",
      "...      ...        ...                                                ...   \n",
      "46459   MNTA        NaN                        LOCKHEED MARTIN CORPORATION   \n",
      "46460  VPMAX      Stock        E. I. du Pont de Nemours and Company (NYSE)   \n",
      "46461   BETR        NaN                           PROCTER & GAMBLE COMPANY   \n",
      "46462   SIMO        NaN                                  CATERPILLAR, INC.   \n",
      "46463   BETR        NaN                           PROCTER & GAMBLE COMPANY   \n",
      "\n",
      "          Traded Transaction       Trade_Size_USD Status  \\\n",
      "0     2024-03-11        Sale    $15,001 - $50,000    NEW   \n",
      "1     2024-02-29        Sale     $1,001 - $15,000    NEW   \n",
      "2     2024-02-29    Purchase     $1,001 - $15,000    NEW   \n",
      "3     2024-02-29    Purchase              $360.00    NEW   \n",
      "4     2024-02-29        Sale  $100,001 - $250,000    NEW   \n",
      "...          ...         ...                  ...    ...   \n",
      "46459 2012-11-13        Sale     $1,001 - $15,000    NEW   \n",
      "46460 2012-09-13    Purchase     $1,001 - $15,000    New   \n",
      "46461 2012-08-16        Sale     $1,001 - $15,000    NEW   \n",
      "46462 2012-07-26    Purchase     $1,001 - $15,000    NEW   \n",
      "46463 2012-07-24        Sale     $1,001 - $15,000    NEW   \n",
      "\n",
      "                                     Subholding  \\\n",
      "0                  EQUITABLE RETIREMENT ACCOUNT   \n",
      "1       MORGAN STANLEY - SELECT UMA ACCOUNT # 1   \n",
      "2                                     TRUST ONE   \n",
      "3                                       IRA ONE   \n",
      "4                                           NaN   \n",
      "...                                         ...   \n",
      "46459                   BROKERAGE #1 - EDJ 2718   \n",
      "46460                                       NaN   \n",
      "46461                   BROKERAGE #1 - EDJ 2718   \n",
      "46462                    BROKERAGE #2 USAA 8425   \n",
      "46463                    BROKERAGE #2 USAA 8425   \n",
      "\n",
      "                                             Description                 Name  \\\n",
      "0                                                    NaN        Mark Dr Green   \n",
      "1                                                    NaN      Josh Gottheimer   \n",
      "2                                                    NaN        Pete Sessions   \n",
      "3                                                    NaN        Pete Sessions   \n",
      "4      VESTED SHARES SOLD TO SEPARATE TRUST NOT FOR T...     Suzan K. Delbene   \n",
      "...                                                  ...                  ...   \n",
      "46459                                                NaN  Ms. Tammy Duckworth   \n",
      "46460                                                NaN    Carper, Thomas R.   \n",
      "46461                                                NaN  Ms. Tammy Duckworth   \n",
      "46462                                                NaN  Ms. Tammy Duckworth   \n",
      "46463                                                NaN  Ms. Tammy Duckworth   \n",
      "\n",
      "           Filed Party District Chamber Comments Quiver_Upload_Time  \\\n",
      "0     2024-03-13     R     TN07   House      NaN         2024-03-14   \n",
      "1     2024-03-07     D     NJ05   House      NaN         2024-03-08   \n",
      "2     2024-03-07     R     TX17   House      NaN         2024-03-08   \n",
      "3     2024-02-29     R     TX17   House      NaN         2024-03-01   \n",
      "4     2024-03-08     D     WA01   House      NaN         2024-03-11   \n",
      "...          ...   ...      ...     ...      ...                ...   \n",
      "46459 2014-07-08     D     IL08   House      NaN         2020-07-26   \n",
      "46460 2015-05-13     D      NaN  Senate      NaN         2020-07-26   \n",
      "46461 2014-07-08     D     IL08   House      NaN         2020-07-26   \n",
      "46462 2014-07-08     D     IL08   House      NaN         2020-07-26   \n",
      "46463 2014-07-08     D     IL08   House      NaN         2020-07-26   \n",
      "\n",
      "       excess_return       State last_modified  \n",
      "0           1.523296   Tennessee    2024-03-14  \n",
      "1          17.325032  New Jersey    2024-03-08  \n",
      "2          -0.518105       Texas    2024-03-08  \n",
      "3          -5.157553       Texas    2024-03-01  \n",
      "4           0.012454  Washington    2024-03-11  \n",
      "...              ...         ...           ...  \n",
      "46459     110.727159    Illinois    2023-11-16  \n",
      "46460    -302.359560    Delaware    2023-08-28  \n",
      "46461    -121.070259    Illinois    2023-11-16  \n",
      "46462      39.133792    Illinois    2023-11-16  \n",
      "46463    -131.228673    Illinois    2023-11-16  \n",
      "\n",
      "[29862 rows x 19 columns]\n"
     ]
    }
   ],
   "source": [
    "ticker_mapping = dict(zip(congress_inv['Ticker'], cleaned_tickers))\n",
    "congress_inv['Ticker'] = congress_inv['Ticker'].map(ticker_mapping)\n",
    "congress_inv = congress_inv[congress_inv['Ticker'].isin(cleaned_tickers)]\n",
    "print(congress_inv)"
   ]
  },
  {
   "cell_type": "markdown",
   "metadata": {},
   "source": [
    "observing counts of tickers traded by filed date and by traded date"
   ]
  },
  {
   "cell_type": "code",
   "execution_count": 12,
   "metadata": {},
   "outputs": [
    {
     "name": "stdout",
     "output_type": "stream",
     "text": [
      "           Filed     Ticker                                          Company  \\\n",
      "0     2014-01-07  36966R5P7                              TJX COMPANIES, INC.   \n",
      "1     2014-01-07       ADTF                          MASTERCARD INCORPORATED   \n",
      "2     2014-01-07       ATRO      INTERNATIONAL BUSINESS MACHINES CORPORATION   \n",
      "3     2014-01-07        BWX                                       3M COMPANY   \n",
      "4     2014-01-07        BYI                  PHILIP MORRIS INTERNATIONAL INC   \n",
      "...          ...        ...                                              ...   \n",
      "23907 2024-03-15        PCH  Southern States Bancshares, Inc. - Common Stock   \n",
      "23908 2024-03-15       SBLK         Star Bulk Carriers Corp. - Common Shares   \n",
      "23909 2024-03-15        SPB                                   Starbucks Corp   \n",
      "23910 2024-03-15       SWAY                        Pfizer, Inc. Common Stock   \n",
      "23911 2024-03-15         TV             QUALCOMM Incorporated - Common Stock   \n",
      "\n",
      "       Transaction  Count  \n",
      "0         Purchase      1  \n",
      "1         Purchase      1  \n",
      "2         Purchase      1  \n",
      "3         Purchase      1  \n",
      "4             Sale      1  \n",
      "...            ...    ...  \n",
      "23907     Purchase      1  \n",
      "23908     Purchase      1  \n",
      "23909     Purchase      1  \n",
      "23910     Purchase      1  \n",
      "23911  Sale (Full)      1  \n",
      "\n",
      "[23912 rows x 5 columns]\n",
      "          Traded Ticker                                            Company  \\\n",
      "0     2012-07-24   BETR                           PROCTER & GAMBLE COMPANY   \n",
      "1     2012-07-26   SIMO                                  CATERPILLAR, INC.   \n",
      "2     2012-08-16   BETR                           PROCTER & GAMBLE COMPANY   \n",
      "3     2012-09-13  VPMAX        E. I. du Pont de Nemours and Company (NYSE)   \n",
      "4     2012-11-13   MNTA                        LOCKHEED MARTIN CORPORATION   \n",
      "...          ...    ...                                                ...   \n",
      "27120 2024-02-29   AAPL                          APPLE INC. - COMMON STOCK   \n",
      "27121 2024-02-29    BCR                                          VISA INC.   \n",
      "27122 2024-02-29    DDR                FREEPORT-MCMORAN, INC. COMMON STOCK   \n",
      "27123 2024-02-29   RYAM               MICROSOFT CORPORATION - COMMON STOCK   \n",
      "27124 2024-03-11    GMT  NGL ENERGY PARTNERS LP COMMON UNITS REPRESENTI...   \n",
      "\n",
      "      Transaction  Count  \n",
      "0            Sale      1  \n",
      "1        Purchase      1  \n",
      "2            Sale      1  \n",
      "3        Purchase      1  \n",
      "4            Sale      1  \n",
      "...           ...    ...  \n",
      "27120    Purchase      1  \n",
      "27121    Purchase      1  \n",
      "27122        Sale      1  \n",
      "27123        Sale      1  \n",
      "27124        Sale      1  \n",
      "\n",
      "[27125 rows x 5 columns]\n"
     ]
    }
   ],
   "source": [
    "ticker_counts_by_filed_date = congress_inv.groupby(['Filed', 'Ticker', 'Company', 'Transaction']).size().reset_index(name='Count')\n",
    "print(ticker_counts_by_filed_date)\n",
    "\n",
    "ticker_counts_by_traded_date = congress_inv.groupby(['Traded', 'Ticker', 'Company', 'Transaction']).size().reset_index(name='Count')\n",
    "print(ticker_counts_by_traded_date)"
   ]
  },
  {
   "cell_type": "code",
   "execution_count": 13,
   "metadata": {},
   "outputs": [],
   "source": [
    "monthly_counts_by_filed_date = congress_inv.groupby([pd.Grouper(key='Filed', freq='M'), 'Ticker']).size().reset_index(name='Count')\n",
    "monthly_counts_by_filed_date['Filed'] = monthly_counts_by_filed_date['Filed'].dt.to_period('M').astype(str)\n",
    "\n",
    "monthly_counts_by_traded_date = congress_inv.groupby([pd.Grouper(key='Traded', freq='M'), 'Ticker']).size().reset_index(name='Count')\n",
    "monthly_counts_by_traded_date['Filed'] = monthly_counts_by_traded_date['Traded'].dt.to_period('M').astype(str)"
   ]
  },
  {
   "cell_type": "markdown",
   "metadata": {},
   "source": [
    "average length of time between trade date and file date by name, by ticker, and when transaction= Purchase and when transcation= Sale"
   ]
  },
  {
   "cell_type": "code",
   "execution_count": 14,
   "metadata": {},
   "outputs": [],
   "source": [
    "congress_inv['Traded'] = pd.to_datetime(congress_inv['Traded'], format='%A, %B %d, %Y')\n",
    "\n",
    "congress_inv['Filed'] = pd.to_datetime(congress_inv['Filed'], format='%Y-%m-%d')"
   ]
  },
  {
   "cell_type": "code",
   "execution_count": 15,
   "metadata": {},
   "outputs": [
    {
     "name": "stdout",
     "output_type": "stream",
     "text": [
      "          Traded      Filed  days_traded_to_filed\n",
      "0     2024-03-11 2024-03-13                     2\n",
      "1     2024-02-29 2024-03-07                     7\n",
      "2     2024-02-29 2024-03-07                     7\n",
      "3     2024-02-29 2024-02-29                     0\n",
      "4     2024-02-29 2024-03-08                     8\n",
      "...          ...        ...                   ...\n",
      "46459 2012-11-13 2014-07-08                   602\n",
      "46460 2012-09-13 2015-05-13                   972\n",
      "46461 2012-08-16 2014-07-08                   691\n",
      "46462 2012-07-26 2014-07-08                   712\n",
      "46463 2012-07-24 2014-07-08                   714\n",
      "\n",
      "[29862 rows x 3 columns]\n"
     ]
    }
   ],
   "source": [
    "congress_inv['days_traded_to_filed'] = (congress_inv['Filed'] - congress_inv['Traded']).dt.days\n",
    "print(congress_inv[['Traded', 'Filed', 'days_traded_to_filed']])"
   ]
  },
  {
   "cell_type": "markdown",
   "metadata": {},
   "source": [
    "collecting historical stock data based on tickers in the congress financial disclosures dataframe, starting in 2022"
   ]
  },
  {
   "cell_type": "code",
   "execution_count": 16,
   "metadata": {},
   "outputs": [
    {
     "name": "stdout",
     "output_type": "stream",
     "text": [
      "Monthly data for NGL saved successfully.\n",
      "Monthly data for FCX saved successfully.\n",
      "Monthly data for V saved successfully.\n",
      "Monthly data for AAPL saved successfully.\n",
      "Monthly data for MSFT saved successfully.\n",
      "Monthly data for BA saved successfully.\n",
      "Monthly data for URI saved successfully.\n",
      "Monthly data for TDG saved successfully.\n"
     ]
    },
    {
     "name": "stderr",
     "output_type": "stream",
     "text": [
      "$DUKA: possibly delisted; No timezone found\n"
     ]
    },
    {
     "name": "stdout",
     "output_type": "stream",
     "text": [
      "Error fetching historical data for DUKA: No historical data found for ticker\n",
      "Monthly data for ZTS saved successfully.\n",
      "Monthly data for PFE saved successfully.\n",
      "Monthly data for QCOM saved successfully.\n",
      "Monthly data for SBLK saved successfully.\n",
      "Monthly data for ASC saved successfully.\n",
      "Monthly data for SSBK saved successfully.\n",
      "Monthly data for GOGL saved successfully.\n",
      "Monthly data for FLNG saved successfully.\n",
      "Monthly data for LRLCY saved successfully.\n",
      "Monthly data for ARLP saved successfully.\n",
      "Monthly data for BBY saved successfully.\n",
      "Monthly data for SBUX saved successfully.\n",
      "Monthly data for AMD saved successfully.\n",
      "Monthly data for PANW saved successfully.\n",
      "Monthly data for ET saved successfully.\n",
      "Monthly data for ACN saved successfully.\n",
      "Monthly data for NVDA saved successfully.\n",
      "Monthly data for AMAT saved successfully.\n"
     ]
    },
    {
     "name": "stderr",
     "output_type": "stream",
     "text": [
      "$GLA: possibly delisted; No price data found  (1d 2020-01-01 -> 2024-08-28)\n"
     ]
    },
    {
     "name": "stdout",
     "output_type": "stream",
     "text": [
      "Monthly data for TGT saved successfully.\n",
      "$GLA: possibly delisted; No price data found  (1d 2020-01-01 -> 2024-08-28)\n",
      "Error fetching historical data for GLA: No historical data found for ticker\n",
      "Monthly data for EQNR saved successfully.\n",
      "Monthly data for PG saved successfully.\n",
      "Monthly data for MMC saved successfully.\n",
      "Monthly data for NWN saved successfully.\n",
      "Monthly data for BDX saved successfully.\n",
      "Monthly data for OKE saved successfully.\n",
      "Monthly data for TEX saved successfully.\n",
      "Monthly data for TXN saved successfully.\n",
      "Monthly data for DBSDY saved successfully.\n",
      "Monthly data for CHRD saved successfully.\n",
      "Monthly data for ILMN saved successfully.\n",
      "Monthly data for HUMA saved successfully.\n",
      "Monthly data for PHG saved successfully.\n",
      "Monthly data for KEY saved successfully.\n",
      "Monthly data for AMZN saved successfully.\n",
      "Monthly data for CTSH saved successfully.\n",
      "Monthly data for UL saved successfully.\n",
      "Monthly data for TSM saved successfully.\n",
      "Monthly data for BKNG saved successfully.\n",
      "Monthly data for MDT saved successfully.\n",
      "Monthly data for REGN saved successfully.\n",
      "Monthly data for MDB saved successfully.\n",
      "Monthly data for META saved successfully.\n",
      "Monthly data for KKR saved successfully.\n",
      "Monthly data for LLY saved successfully.\n",
      "Monthly data for NFLX saved successfully.\n"
     ]
    },
    {
     "name": "stderr",
     "output_type": "stream",
     "text": [
      "$GLASFUNDSLP: possibly delisted; No timezone found\n"
     ]
    },
    {
     "name": "stdout",
     "output_type": "stream",
     "text": [
      "Error fetching historical data for GLASFUNDSLP: No historical data found for ticker\n"
     ]
    },
    {
     "name": "stderr",
     "output_type": "stream",
     "text": [
      "$HAMILTO: possibly delisted; No timezone found\n"
     ]
    },
    {
     "name": "stdout",
     "output_type": "stream",
     "text": [
      "Error fetching historical data for HAMILTO: No historical data found for ticker\n"
     ]
    },
    {
     "name": "stderr",
     "output_type": "stream",
     "text": [
      "$TA: possibly delisted; No timezone found\n"
     ]
    },
    {
     "name": "stdout",
     "output_type": "stream",
     "text": [
      "Error fetching historical data for TA: No historical data found for ticker\n",
      "Monthly data for AFRM saved successfully.\n",
      "Monthly data for SPG saved successfully.\n",
      "Monthly data for LNG saved successfully.\n",
      "Monthly data for TTD saved successfully.\n",
      "Monthly data for DE saved successfully.\n",
      "Monthly data for IBM saved successfully.\n",
      "Monthly data for MRNA saved successfully.\n",
      "Monthly data for FSLR saved successfully.\n",
      "Monthly data for SCHW saved successfully.\n",
      "Monthly data for MS saved successfully.\n",
      "Monthly data for MSCI saved successfully.\n",
      "Monthly data for GOOGL saved successfully.\n",
      "Monthly data for EXAS saved successfully.\n",
      "Monthly data for HTGC saved successfully.\n",
      "Monthly data for COST saved successfully.\n",
      "Monthly data for JPM saved successfully.\n",
      "Monthly data for PRNDY saved successfully.\n",
      "Monthly data for ALNY saved successfully.\n",
      "Monthly data for ISRG saved successfully.\n",
      "Monthly data for VIG saved successfully.\n",
      "Monthly data for USFR saved successfully.\n",
      "Monthly data for GOOG saved successfully.\n"
     ]
    },
    {
     "name": "stderr",
     "output_type": "stream",
     "text": [
      "$BRKB: possibly delisted; No timezone found\n"
     ]
    },
    {
     "name": "stdout",
     "output_type": "stream",
     "text": [
      "Error fetching historical data for BRKB: No historical data found for ticker\n",
      "Monthly data for LRCX saved successfully.\n",
      "Monthly data for NOW saved successfully.\n",
      "Monthly data for TSLA saved successfully.\n",
      "Monthly data for AAPL saved successfully.\n",
      "Monthly data for ON saved successfully.\n",
      "Monthly data for APH saved successfully.\n",
      "Monthly data for ABG saved successfully.\n",
      "Monthly data for TPH saved successfully.\n",
      "Monthly data for LOW saved successfully.\n",
      "Monthly data for AGIO saved successfully.\n",
      "Error fetching data for INTC: HTTPSConnectionPool(host='query2.finance.yahoo.com', port=443): Read timed out.\n",
      "Error fetching data for INTC: HTTPSConnectionPool(host='query2.finance.yahoo.com', port=443): Read timed out.\n",
      "Monthly data for INTC saved successfully.\n",
      "Monthly data for RPM saved successfully.\n",
      "Monthly data for MEDP saved successfully.\n",
      "Monthly data for LAD saved successfully.\n",
      "Monthly data for MRK saved successfully.\n",
      "Monthly data for SYY saved successfully.\n"
     ]
    },
    {
     "name": "stderr",
     "output_type": "stream",
     "text": [
      "$4WEEKMATURE: possibly delisted; No timezone found\n"
     ]
    },
    {
     "name": "stdout",
     "output_type": "stream",
     "text": [
      "Error fetching historical data for 4WEEKMATURE: No historical data found for ticker\n",
      "Monthly data for AMGN saved successfully.\n",
      "Monthly data for INTU saved successfully.\n",
      "Monthly data for TJX saved successfully.\n",
      "Monthly data for AON saved successfully.\n",
      "Monthly data for CFG saved successfully.\n",
      "Monthly data for CAT saved successfully.\n",
      "Monthly data for MU saved successfully.\n",
      "Monthly data for CME saved successfully.\n",
      "Monthly data for NKE saved successfully.\n",
      "Monthly data for ABT saved successfully.\n",
      "Monthly data for CRM saved successfully.\n",
      "Monthly data for CB saved successfully.\n",
      "Monthly data for PKG saved successfully.\n",
      "Monthly data for ABBV saved successfully.\n",
      "Monthly data for MA saved successfully.\n",
      "Monthly data for LMT saved successfully.\n",
      "Monthly data for WMT saved successfully.\n",
      "Monthly data for JNJ saved successfully.\n",
      "Monthly data for GIS saved successfully.\n",
      "Monthly data for SCCO saved successfully.\n",
      "Monthly data for MNST saved successfully.\n",
      "Monthly data for CLF saved successfully.\n",
      "Monthly data for IDXX saved successfully.\n",
      "Monthly data for FMAO saved successfully.\n",
      "Monthly data for BABA saved successfully.\n",
      "Monthly data for PAM saved successfully.\n",
      "Monthly data for RTX saved successfully.\n",
      "Monthly data for HQY saved successfully.\n",
      "Monthly data for ADSK saved successfully.\n",
      "Monthly data for DIS saved successfully.\n",
      "Monthly data for NVO saved successfully.\n",
      "Monthly data for COIN saved successfully.\n",
      "Monthly data for GNTX saved successfully.\n",
      "Monthly data for VUG saved successfully.\n",
      "Monthly data for ADBE saved successfully.\n",
      "Monthly data for XP saved successfully.\n",
      "Monthly data for SPY saved successfully.\n",
      "Monthly data for BAC saved successfully.\n",
      "Monthly data for ES saved successfully.\n",
      "Monthly data for AXP saved successfully.\n",
      "Monthly data for ADI saved successfully.\n",
      "Monthly data for AME saved successfully.\n",
      "Monthly data for RACE saved successfully.\n",
      "Monthly data for ENB saved successfully.\n"
     ]
    },
    {
     "name": "stderr",
     "output_type": "stream",
     "text": [
      "$3MONTHMATURE: possibly delisted; No timezone found\n"
     ]
    },
    {
     "name": "stdout",
     "output_type": "stream",
     "text": [
      "Error fetching historical data for 3MONTHMATURE: No historical data found for ticker\n",
      "Monthly data for APD saved successfully.\n",
      "Monthly data for BLK saved successfully.\n",
      "Monthly data for MET saved successfully.\n",
      "Monthly data for TTE saved successfully.\n",
      "Monthly data for W saved successfully.\n",
      "Monthly data for AES saved successfully.\n",
      "Monthly data for VLO saved successfully.\n",
      "Monthly data for GBIL saved successfully.\n",
      "Monthly data for ETRN saved successfully.\n",
      "Monthly data for SCHX saved successfully.\n",
      "Monthly data for CRT saved successfully.\n",
      "Monthly data for MO saved successfully.\n",
      "Monthly data for CAH saved successfully.\n",
      "Monthly data for HSHCY saved successfully.\n",
      "Monthly data for BAP saved successfully.\n",
      "Monthly data for HELE saved successfully.\n",
      "Monthly data for SSDOY saved successfully.\n",
      "Monthly data for ALGM saved successfully.\n",
      "Monthly data for PTEN saved successfully.\n",
      "Monthly data for OCFC saved successfully.\n",
      "Monthly data for NCLTY saved successfully.\n",
      "Monthly data for GTLS saved successfully.\n",
      "Monthly data for PYCR saved successfully.\n",
      "Monthly data for XNGSY saved successfully.\n",
      "Monthly data for PNGAY saved successfully.\n",
      "Monthly data for SHLS saved successfully.\n",
      "Monthly data for RY saved successfully.\n"
     ]
    },
    {
     "name": "stderr",
     "output_type": "stream",
     "text": [
      "$AMEH: possibly delisted; No timezone found\n"
     ]
    },
    {
     "name": "stdout",
     "output_type": "stream",
     "text": [
      "Error fetching historical data for AMEH: No historical data found for ticker\n",
      "Monthly data for LOPE saved successfully.\n",
      "Monthly data for CL saved successfully.\n",
      "Monthly data for HSY saved successfully.\n",
      "Monthly data for BMY saved successfully.\n",
      "Monthly data for BP saved successfully.\n",
      "Monthly data for MAG saved successfully.\n",
      "Monthly data for ELF saved successfully.\n",
      "Monthly data for SFM saved successfully.\n",
      "Monthly data for CYBR saved successfully.\n",
      "Monthly data for ETN saved successfully.\n",
      "Monthly data for GS saved successfully.\n",
      "Monthly data for BMI saved successfully.\n",
      "Monthly data for SPXC saved successfully.\n",
      "Monthly data for OLLI saved successfully.\n",
      "Monthly data for FRPT saved successfully.\n",
      "Monthly data for AXON saved successfully.\n",
      "Monthly data for ORCL saved successfully.\n",
      "Monthly data for SLF saved successfully.\n",
      "Monthly data for UNP saved successfully.\n",
      "Monthly data for DGX saved successfully.\n",
      "Monthly data for XOM saved successfully.\n",
      "Monthly data for DELL saved successfully.\n",
      "Monthly data for S saved successfully.\n",
      "Monthly data for VUZI saved successfully.\n",
      "Monthly data for BX saved successfully.\n",
      "Monthly data for DVN saved successfully.\n",
      "Monthly data for TFC saved successfully.\n",
      "Monthly data for NOC saved successfully.\n",
      "Monthly data for PYPL saved successfully.\n",
      "Monthly data for JKHY saved successfully.\n",
      "Monthly data for ROP saved successfully.\n",
      "Monthly data for HRL saved successfully.\n",
      "Monthly data for TMUS saved successfully.\n",
      "Monthly data for WST saved successfully.\n",
      "Monthly data for CCI saved successfully.\n",
      "Monthly data for DG saved successfully.\n",
      "Monthly data for D saved successfully.\n",
      "Monthly data for SHW saved successfully.\n",
      "Monthly data for TSCO saved successfully.\n",
      "Monthly data for AMT saved successfully.\n",
      "Monthly data for VZ saved successfully.\n",
      "Monthly data for DDOG saved successfully.\n"
     ]
    },
    {
     "name": "stderr",
     "output_type": "stream",
     "text": [
      "$6MONTHMATURE: possibly delisted; No timezone found\n"
     ]
    },
    {
     "name": "stdout",
     "output_type": "stream",
     "text": [
      "Error fetching historical data for 6MONTHMATURE: No historical data found for ticker\n",
      "Monthly data for EA saved successfully.\n",
      "Monthly data for RF saved successfully.\n",
      "Monthly data for PARA saved successfully.\n",
      "Monthly data for WMB saved successfully.\n",
      "Monthly data for PODD saved successfully.\n",
      "Monthly data for CTVA saved successfully.\n",
      "Monthly data for SHOP saved successfully.\n",
      "Monthly data for FN saved successfully.\n",
      "Monthly data for CELH saved successfully.\n",
      "Monthly data for INST saved successfully.\n",
      "Monthly data for HUBB saved successfully.\n",
      "Monthly data for EXLS saved successfully.\n",
      "Monthly data for FCFS saved successfully.\n"
     ]
    },
    {
     "name": "stderr",
     "output_type": "stream",
     "text": [
      "$PXD: possibly delisted; No timezone found\n"
     ]
    },
    {
     "name": "stdout",
     "output_type": "stream",
     "text": [
      "Error fetching historical data for PXD: No historical data found for ticker\n",
      "Monthly data for ALB saved successfully.\n",
      "Monthly data for NEE saved successfully.\n",
      "Monthly data for LZAGY saved successfully.\n",
      "Monthly data for HEI saved successfully.\n",
      "Monthly data for VAXX saved successfully.\n",
      "Monthly data for INTA saved successfully.\n",
      "Monthly data for HLI saved successfully.\n",
      "Monthly data for HASI saved successfully.\n",
      "Monthly data for UMBF saved successfully.\n"
     ]
    },
    {
     "name": "stderr",
     "output_type": "stream",
     "text": [
      "$GLASFUNDS: possibly delisted; No timezone found\n"
     ]
    },
    {
     "name": "stdout",
     "output_type": "stream",
     "text": [
      "Error fetching historical data for GLASFUNDS: No historical data found for ticker\n",
      "Monthly data for COP saved successfully.\n",
      "Monthly data for UAA saved successfully.\n",
      "Monthly data for KO saved successfully.\n",
      "Monthly data for SBPYX saved successfully.\n",
      "Monthly data for XCEM saved successfully.\n",
      "Monthly data for GOLD saved successfully.\n",
      "Monthly data for MDLZ saved successfully.\n",
      "Monthly data for CVX saved successfully.\n",
      "Monthly data for SMDV saved successfully.\n",
      "Monthly data for FDRR saved successfully.\n",
      "Monthly data for LIN saved successfully.\n",
      "Monthly data for UPS saved successfully.\n",
      "Monthly data for BUI saved successfully.\n",
      "Monthly data for HD saved successfully.\n",
      "Monthly data for DVA saved successfully.\n",
      "Monthly data for KR saved successfully.\n",
      "Monthly data for CSCO saved successfully.\n",
      "Monthly data for SBCF saved successfully.\n",
      "Monthly data for BK saved successfully.\n",
      "Monthly data for ACI saved successfully.\n",
      "Monthly data for USB saved successfully.\n",
      "Monthly data for HAL saved successfully.\n",
      "Monthly data for CVS saved successfully.\n",
      "Monthly data for CI saved successfully.\n",
      "Monthly data for PII saved successfully.\n",
      "Monthly data for SNOW saved successfully.\n",
      "Monthly data for HDGE saved successfully.\n",
      "Monthly data for KMB saved successfully.\n"
     ]
    },
    {
     "name": "stderr",
     "output_type": "stream",
     "text": [
      "$EFCD: possibly delisted; No timezone found\n"
     ]
    },
    {
     "name": "stdout",
     "output_type": "stream",
     "text": [
      "Error fetching historical data for EFCD: No historical data found for ticker\n",
      "Monthly data for CMCSA saved successfully.\n",
      "Monthly data for ALK saved successfully.\n",
      "Monthly data for CMG saved successfully.\n",
      "Monthly data for PPG saved successfully.\n",
      "Monthly data for EL saved successfully.\n",
      "Monthly data for PALL saved successfully.\n",
      "Monthly data for UNH saved successfully.\n",
      "Monthly data for URA saved successfully.\n",
      "Monthly data for EW saved successfully.\n",
      "Monthly data for ROK saved successfully.\n",
      "Monthly data for GLPI saved successfully.\n",
      "Monthly data for DTRUY saved successfully.\n",
      "Monthly data for IRM saved successfully.\n",
      "Monthly data for FNF saved successfully.\n",
      "Monthly data for KD saved successfully.\n",
      "Monthly data for MOS saved successfully.\n",
      "Monthly data for EMR saved successfully.\n",
      "Monthly data for FMC saved successfully.\n",
      "Monthly data for DHI saved successfully.\n",
      "Monthly data for AGX saved successfully.\n",
      "Monthly data for CCLD saved successfully.\n",
      "Monthly data for DEO saved successfully.\n",
      "Monthly data for BNTX saved successfully.\n",
      "Monthly data for FANUY saved successfully.\n",
      "Monthly data for SONY saved successfully.\n",
      "Monthly data for WFC saved successfully.\n",
      "Monthly data for SBGSY saved successfully.\n",
      "Monthly data for VLTO saved successfully.\n",
      "Monthly data for PPRUY saved successfully.\n",
      "Monthly data for AZO saved successfully.\n",
      "Monthly data for SPGI saved successfully.\n",
      "Monthly data for DHR saved successfully.\n",
      "Monthly data for TMO saved successfully.\n",
      "Monthly data for ICE saved successfully.\n",
      "Monthly data for HLT saved successfully.\n",
      "Monthly data for CSX saved successfully.\n",
      "Monthly data for STZ saved successfully.\n",
      "Monthly data for FI saved successfully.\n",
      "Monthly data for HON saved successfully.\n",
      "Monthly data for BSX saved successfully.\n",
      "Monthly data for ELV saved successfully.\n",
      "Monthly data for KLAC saved successfully.\n",
      "Monthly data for PEP saved successfully.\n",
      "Monthly data for COCO saved successfully.\n",
      "Monthly data for IGSB saved successfully.\n",
      "Monthly data for T saved successfully.\n",
      "Monthly data for SHY saved successfully.\n",
      "Monthly data for TLT saved successfully.\n"
     ]
    },
    {
     "name": "stderr",
     "output_type": "stream",
     "text": [
      "$AAICB: possibly delisted; No timezone found\n"
     ]
    },
    {
     "name": "stdout",
     "output_type": "stream",
     "text": [
      "Error fetching historical data for AAICB: No historical data found for ticker\n",
      "Monthly data for CORP saved successfully.\n",
      "Monthly data for HCA saved successfully.\n",
      "Monthly data for SHEL saved successfully.\n",
      "Monthly data for PWR saved successfully.\n",
      "Monthly data for WBD saved successfully.\n",
      "Monthly data for MMM saved successfully.\n",
      "Monthly data for PCH saved successfully.\n",
      "Monthly data for FIS saved successfully.\n",
      "Monthly data for PM saved successfully.\n",
      "Monthly data for MKL saved successfully.\n",
      "Monthly data for FGBI saved successfully.\n",
      "Monthly data for ASML saved successfully.\n",
      "Monthly data for MCK saved successfully.\n",
      "Monthly data for CHX saved successfully.\n",
      "Monthly data for AORT saved successfully.\n",
      "Monthly data for DASH saved successfully.\n",
      "Monthly data for MCHP saved successfully.\n",
      "Monthly data for OXY saved successfully.\n",
      "Monthly data for LDOS saved successfully.\n",
      "Monthly data for ULTA saved successfully.\n",
      "Monthly data for EVVTY saved successfully.\n",
      "Monthly data for DT saved successfully.\n",
      "Monthly data for SAIC saved successfully.\n",
      "Monthly data for UBER saved successfully.\n",
      "Monthly data for USDP saved successfully.\n",
      "Monthly data for TLH saved successfully.\n",
      "Monthly data for TCMD saved successfully.\n",
      "Monthly data for IP saved successfully.\n",
      "Monthly data for CMBS saved successfully.\n",
      "Monthly data for AGZ saved successfully.\n",
      "Monthly data for X saved successfully.\n",
      "Monthly data for MBB saved successfully.\n",
      "Monthly data for JMBS saved successfully.\n",
      "Monthly data for GIGB saved successfully.\n",
      "Monthly data for EOG saved successfully.\n",
      "Monthly data for MPW saved successfully.\n",
      "Monthly data for BNS saved successfully.\n",
      "Monthly data for ANET saved successfully.\n",
      "Monthly data for ARCC saved successfully.\n",
      "Monthly data for CLX saved successfully.\n",
      "Monthly data for HPQ saved successfully.\n",
      "Monthly data for MCD saved successfully.\n",
      "Monthly data for GWW saved successfully.\n",
      "Monthly data for LULU saved successfully.\n"
     ]
    },
    {
     "name": "stderr",
     "output_type": "stream",
     "text": [
      "$SGEN: possibly delisted; No timezone found\n"
     ]
    },
    {
     "name": "stdout",
     "output_type": "stream",
     "text": [
      "Error fetching historical data for SGEN: No historical data found for ticker\n",
      "Monthly data for HDB saved successfully.\n",
      "Error fetching data for ALGN: HTTPSConnectionPool(host='query2.finance.yahoo.com', port=443): Read timed out.\n",
      "Monthly data for ALGN saved successfully.\n",
      "Monthly data for PRIM saved successfully.\n",
      "Monthly data for INSW saved successfully.\n",
      "Monthly data for ICFI saved successfully.\n",
      "Monthly data for ALG saved successfully.\n",
      "Monthly data for UEC saved successfully.\n",
      "Monthly data for GILD saved successfully.\n",
      "Monthly data for VRTX saved successfully.\n",
      "Monthly data for PLD saved successfully.\n",
      "Monthly data for NEP saved successfully.\n",
      "Monthly data for J saved successfully.\n",
      "Monthly data for SYK saved successfully.\n",
      "Monthly data for AVGO saved successfully.\n",
      "Monthly data for C saved successfully.\n",
      "Monthly data for NFE saved successfully.\n",
      "Monthly data for BALL saved successfully.\n",
      "Monthly data for PGR saved successfully.\n",
      "Monthly data for PH saved successfully.\n",
      "Monthly data for HWM saved successfully.\n",
      "Monthly data for PSQ saved successfully.\n"
     ]
    },
    {
     "name": "stderr",
     "output_type": "stream",
     "text": [
      "$FMBA: possibly delisted; No timezone found\n"
     ]
    },
    {
     "name": "stdout",
     "output_type": "stream",
     "text": [
      "Error fetching historical data for FMBA: No historical data found for ticker\n",
      "Monthly data for SHYF saved successfully.\n",
      "Monthly data for GGG saved successfully.\n",
      "Monthly data for SWKS saved successfully.\n",
      "Monthly data for RMD saved successfully.\n",
      "Monthly data for ITW saved successfully.\n",
      "Monthly data for PHM saved successfully.\n",
      "Monthly data for WU saved successfully.\n",
      "Monthly data for FTNT saved successfully.\n",
      "Monthly data for WMS saved successfully.\n",
      "Monthly data for MPWR saved successfully.\n",
      "Monthly data for MCO saved successfully.\n",
      "Monthly data for NXPI saved successfully.\n",
      "Monthly data for DAVA saved successfully.\n",
      "Monthly data for UTZ saved successfully.\n",
      "Monthly data for SLGN saved successfully.\n",
      "Monthly data for ALGT saved successfully.\n",
      "Monthly data for A saved successfully.\n",
      "Monthly data for ADYEY saved successfully.\n",
      "Monthly data for DIOD saved successfully.\n",
      "Monthly data for SGIOY saved successfully.\n",
      "Monthly data for GSK saved successfully.\n",
      "Monthly data for NSC saved successfully.\n",
      "Monthly data for PHR saved successfully.\n",
      "Monthly data for VCYT saved successfully.\n",
      "Monthly data for IART saved successfully.\n",
      "Monthly data for VIAV saved successfully.\n",
      "Monthly data for RVLV saved successfully.\n",
      "Monthly data for RRC saved successfully.\n",
      "Monthly data for CBSH saved successfully.\n",
      "Monthly data for SMNNY saved successfully.\n",
      "Monthly data for CRUS saved successfully.\n",
      "Monthly data for TWKS saved successfully.\n",
      "Monthly data for NVZMY saved successfully.\n",
      "Monthly data for ADP saved successfully.\n",
      "Monthly data for FOXF saved successfully.\n",
      "Monthly data for SKY saved successfully.\n",
      "Monthly data for GMAB saved successfully.\n",
      "Monthly data for ODFL saved successfully.\n",
      "Monthly data for BCRX saved successfully.\n"
     ]
    },
    {
     "name": "stderr",
     "output_type": "stream",
     "text": [
      "$ATVI: possibly delisted; No timezone found\n"
     ]
    },
    {
     "name": "stdout",
     "output_type": "stream",
     "text": [
      "Error fetching historical data for ATVI: No historical data found for ticker\n"
     ]
    },
    {
     "name": "stderr",
     "output_type": "stream",
     "text": [
      "$13WEEKMATURE: possibly delisted; No timezone found\n"
     ]
    },
    {
     "name": "stdout",
     "output_type": "stream",
     "text": [
      "Error fetching historical data for 13WEEKMATURE: No historical data found for ticker\n",
      "Monthly data for MAR saved successfully.\n",
      "Monthly data for LPX saved successfully.\n",
      "Monthly data for NU saved successfully.\n",
      "Monthly data for DCO saved successfully.\n",
      "Monthly data for UFPI saved successfully.\n",
      "Monthly data for GPK saved successfully.\n",
      "Monthly data for VOD saved successfully.\n",
      "Monthly data for CMP saved successfully.\n"
     ]
    },
    {
     "name": "stderr",
     "output_type": "stream",
     "text": [
      "$SCHWD: possibly delisted; No timezone found\n"
     ]
    },
    {
     "name": "stdout",
     "output_type": "stream",
     "text": [
      "Error fetching historical data for SCHWD: No historical data found for ticker\n",
      "Monthly data for JBL saved successfully.\n",
      "Monthly data for EMXC saved successfully.\n",
      "Monthly data for JEPI saved successfully.\n",
      "Monthly data for VO saved successfully.\n",
      "Monthly data for VOO saved successfully.\n",
      "Monthly data for RVNC saved successfully.\n"
     ]
    },
    {
     "name": "stderr",
     "output_type": "stream",
     "text": [
      "$VMW: possibly delisted; No timezone found\n"
     ]
    },
    {
     "name": "stdout",
     "output_type": "stream",
     "text": [
      "Error fetching historical data for VMW: No historical data found for ticker\n",
      "Monthly data for GPCR saved successfully.\n",
      "Monthly data for PAA saved successfully.\n",
      "Monthly data for HIG saved successfully.\n",
      "Monthly data for KMI saved successfully.\n",
      "Monthly data for CMI saved successfully.\n",
      "Monthly data for DTE saved successfully.\n",
      "Monthly data for TDY saved successfully.\n"
     ]
    },
    {
     "name": "stderr",
     "output_type": "stream",
     "text": [
      "$MMP: possibly delisted; No timezone found\n"
     ]
    },
    {
     "name": "stdout",
     "output_type": "stream",
     "text": [
      "Error fetching historical data for MMP: No historical data found for ticker\n"
     ]
    },
    {
     "name": "stderr",
     "output_type": "stream",
     "text": [
      "$91282CDR9: possibly delisted; No timezone found\n"
     ]
    },
    {
     "name": "stdout",
     "output_type": "stream",
     "text": [
      "Error fetching historical data for 91282CDR9: No historical data found for ticker\n"
     ]
    },
    {
     "name": "stderr",
     "output_type": "stream",
     "text": [
      "$912797LL9: possibly delisted; No timezone found\n"
     ]
    },
    {
     "name": "stdout",
     "output_type": "stream",
     "text": [
      "Error fetching historical data for 912797LL9: No historical data found for ticker\n"
     ]
    },
    {
     "name": "stderr",
     "output_type": "stream",
     "text": [
      "$AAMA: possibly delisted; No timezone found\n"
     ]
    },
    {
     "name": "stdout",
     "output_type": "stream",
     "text": [
      "Error fetching historical data for AAMA: No historical data found for ticker\n",
      "Monthly data for NTR saved successfully.\n",
      "Monthly data for GD saved successfully.\n",
      "Monthly data for APA saved successfully.\n",
      "Monthly data for PNC saved successfully.\n",
      "Monthly data for WAL saved successfully.\n",
      "Monthly data for CUBE saved successfully.\n",
      "Monthly data for CF saved successfully.\n",
      "Monthly data for VGR saved successfully.\n",
      "Monthly data for YUM saved successfully.\n",
      "Monthly data for IR saved successfully.\n",
      "Monthly data for SQ saved successfully.\n",
      "Monthly data for KVUE saved successfully.\n",
      "Monthly data for BTO saved successfully.\n",
      "Monthly data for NVS saved successfully.\n"
     ]
    },
    {
     "name": "stderr",
     "output_type": "stream",
     "text": [
      "$GPP: possibly delisted; No timezone found\n"
     ]
    },
    {
     "name": "stdout",
     "output_type": "stream",
     "text": [
      "Error fetching historical data for GPP: No historical data found for ticker\n",
      "Monthly data for FITB saved successfully.\n",
      "Monthly data for VBTX saved successfully.\n",
      "Monthly data for ARQT saved successfully.\n",
      "Monthly data for AZTA saved successfully.\n",
      "Monthly data for IFF saved successfully.\n",
      "Monthly data for CYRX saved successfully.\n",
      "Monthly data for CSPCY saved successfully.\n",
      "Monthly data for WM saved successfully.\n",
      "Monthly data for RCL saved successfully.\n",
      "Monthly data for FMX saved successfully.\n",
      "Monthly data for ATLKY saved successfully.\n",
      "Monthly data for DXCM saved successfully.\n",
      "Monthly data for IJR saved successfully.\n",
      "Monthly data for FMCSX saved successfully.\n",
      "Monthly data for QQQ saved successfully.\n",
      "Monthly data for DFS saved successfully.\n",
      "Monthly data for BR saved successfully.\n",
      "Monthly data for ETR saved successfully.\n",
      "Monthly data for FAF saved successfully.\n",
      "Monthly data for CBOE saved successfully.\n",
      "Monthly data for XEL saved successfully.\n",
      "Monthly data for DORM saved successfully.\n",
      "Monthly data for LAMR saved successfully.\n",
      "Monthly data for BIO saved successfully.\n",
      "Monthly data for COLD saved successfully.\n",
      "Monthly data for NDAQ saved successfully.\n",
      "Monthly data for WRB saved successfully.\n",
      "Monthly data for HES saved successfully.\n",
      "Monthly data for AOS saved successfully.\n",
      "Monthly data for NSRGY saved successfully.\n",
      "Monthly data for LBRDK saved successfully.\n",
      "Monthly data for SUI saved successfully.\n",
      "Monthly data for TEL saved successfully.\n",
      "Monthly data for WSO saved successfully.\n",
      "Monthly data for DD saved successfully.\n",
      "Monthly data for CASY saved successfully.\n",
      "Monthly data for WAT saved successfully.\n",
      "Monthly data for SO saved successfully.\n",
      "Monthly data for VNT saved successfully.\n",
      "Monthly data for IT saved successfully.\n",
      "Monthly data for GL saved successfully.\n",
      "Monthly data for ARE saved successfully.\n",
      "Monthly data for DUK saved successfully.\n",
      "Monthly data for BWXT saved successfully.\n",
      "Monthly data for AVY saved successfully.\n",
      "Monthly data for BAH saved successfully.\n",
      "Monthly data for MTB saved successfully.\n",
      "Monthly data for FLR saved successfully.\n",
      "Monthly data for FANG saved successfully.\n",
      "Monthly data for POR saved successfully.\n",
      "Monthly data for NSA saved successfully.\n",
      "Monthly data for LKQ saved successfully.\n",
      "Monthly data for SSNC saved successfully.\n",
      "Monthly data for PCAR saved successfully.\n",
      "Monthly data for RGLD saved successfully.\n",
      "Monthly data for TT saved successfully.\n",
      "Monthly data for EXPD saved successfully.\n",
      "Monthly data for LNT saved successfully.\n",
      "Monthly data for CRL saved successfully.\n",
      "Monthly data for PRU saved successfully.\n",
      "Monthly data for TSN saved successfully.\n",
      "Monthly data for RBC saved successfully.\n",
      "Monthly data for JCI saved successfully.\n",
      "Monthly data for AI saved successfully.\n",
      "Monthly data for AMLP saved successfully.\n",
      "Monthly data for WCN saved successfully.\n",
      "Monthly data for TIMB saved successfully.\n",
      "Monthly data for FEP saved successfully.\n",
      "Monthly data for TAK saved successfully.\n",
      "Monthly data for CRWD saved successfully.\n",
      "Monthly data for AGAE saved successfully.\n",
      "Monthly data for INOD saved successfully.\n",
      "Monthly data for BBEU saved successfully.\n",
      "Monthly data for AQN saved successfully.\n",
      "Monthly data for EME saved successfully.\n",
      "Monthly data for NTLA saved successfully.\n",
      "Monthly data for TWLO saved successfully.\n",
      "Monthly data for LH saved successfully.\n",
      "Monthly data for LUV saved successfully.\n",
      "Monthly data for ASAZY saved successfully.\n",
      "Monthly data for CHD saved successfully.\n",
      "Monthly data for EFX saved successfully.\n",
      "Monthly data for NTRS saved successfully.\n",
      "Monthly data for STLA saved successfully.\n",
      "Monthly data for DASTY saved successfully.\n",
      "Monthly data for DBRG saved successfully.\n",
      "Monthly data for CHGCY saved successfully.\n",
      "Monthly data for PSX saved successfully.\n",
      "Monthly data for JHEM saved successfully.\n",
      "Monthly data for F saved successfully.\n"
     ]
    },
    {
     "name": "stderr",
     "output_type": "stream",
     "text": [
      "$WTT: possibly delisted; No timezone found\n"
     ]
    },
    {
     "name": "stdout",
     "output_type": "stream",
     "text": [
      "Error fetching historical data for WTT: No historical data found for ticker\n",
      "Monthly data for TPR saved successfully.\n",
      "Monthly data for SOFI saved successfully.\n",
      "Monthly data for WTW saved successfully.\n",
      "Monthly data for RMBS saved successfully.\n",
      "Monthly data for CC saved successfully.\n",
      "Monthly data for SHV saved successfully.\n"
     ]
    },
    {
     "name": "stderr",
     "output_type": "stream",
     "text": [
      "$DUE1001203: possibly delisted; No timezone found\n"
     ]
    },
    {
     "name": "stdout",
     "output_type": "stream",
     "text": [
      "Error fetching historical data for DUE1001203: No historical data found for ticker\n",
      "Monthly data for PR saved successfully.\n",
      "Monthly data for ROAD saved successfully.\n",
      "Monthly data for LNC saved successfully.\n",
      "Monthly data for SWX saved successfully.\n",
      "Monthly data for ABNB saved successfully.\n",
      "Monthly data for NSP saved successfully.\n",
      "Monthly data for ALL saved successfully.\n",
      "Monthly data for LSXMK saved successfully.\n",
      "Monthly data for LSXMA saved successfully.\n",
      "Monthly data for LLYVA saved successfully.\n",
      "Monthly data for SEDG saved successfully.\n",
      "Monthly data for LLYVK saved successfully.\n",
      "Monthly data for WTKWY saved successfully.\n",
      "Monthly data for SIGCY saved successfully.\n",
      "Monthly data for FDS saved successfully.\n",
      "Monthly data for AFL saved successfully.\n"
     ]
    },
    {
     "name": "stderr",
     "output_type": "stream",
     "text": [
      "$914476PV2: possibly delisted; No timezone found\n"
     ]
    },
    {
     "name": "stdout",
     "output_type": "stream",
     "text": [
      "Error fetching historical data for 914476PV2: No historical data found for ticker\n"
     ]
    },
    {
     "name": "stderr",
     "output_type": "stream",
     "text": [
      "$506120KP8: possibly delisted; No timezone found\n"
     ]
    },
    {
     "name": "stdout",
     "output_type": "stream",
     "text": [
      "Error fetching historical data for 506120KP8: No historical data found for ticker\n"
     ]
    },
    {
     "name": "stderr",
     "output_type": "stream",
     "text": [
      "$605699PU5: possibly delisted; No timezone found\n"
     ]
    },
    {
     "name": "stdout",
     "output_type": "stream",
     "text": [
      "Error fetching historical data for 605699PU5: No historical data found for ticker\n"
     ]
    },
    {
     "name": "stderr",
     "output_type": "stream",
     "text": [
      "$784532JF1: possibly delisted; No timezone found\n"
     ]
    },
    {
     "name": "stdout",
     "output_type": "stream",
     "text": [
      "Error fetching historical data for 784532JF1: No historical data found for ticker\n",
      "Monthly data for CCL saved successfully.\n",
      "Monthly data for WBA saved successfully.\n",
      "Monthly data for HLN saved successfully.\n",
      "Monthly data for KUBTY saved successfully.\n",
      "Monthly data for AAGIY saved successfully.\n",
      "Monthly data for BATRK saved successfully.\n",
      "Monthly data for SAP saved successfully.\n",
      "Monthly data for MELI saved successfully.\n",
      "Monthly data for HLIO saved successfully.\n",
      "Monthly data for IFNNY saved successfully.\n",
      "Monthly data for SRPT saved successfully.\n",
      "Monthly data for VTR saved successfully.\n",
      "Monthly data for APTV saved successfully.\n",
      "Monthly data for HMN saved successfully.\n",
      "Monthly data for THO saved successfully.\n",
      "Monthly data for DAR saved successfully.\n",
      "Monthly data for SPOT saved successfully.\n"
     ]
    },
    {
     "name": "stderr",
     "output_type": "stream",
     "text": [
      "$LSI: possibly delisted; No timezone found\n"
     ]
    },
    {
     "name": "stdout",
     "output_type": "stream",
     "text": [
      "Error fetching historical data for LSI: No historical data found for ticker\n",
      "Monthly data for NXRT saved successfully.\n",
      "Monthly data for BXP saved successfully.\n",
      "Monthly data for DRH saved successfully.\n",
      "Monthly data for RLJ saved successfully.\n",
      "Monthly data for LBTYA saved successfully.\n",
      "Monthly data for SR saved successfully.\n",
      "Monthly data for SKT saved successfully.\n",
      "Monthly data for SHO saved successfully.\n",
      "Monthly data for ENTA saved successfully.\n",
      "Monthly data for PHIN saved successfully.\n",
      "Monthly data for HALO saved successfully.\n",
      "Monthly data for CBU saved successfully.\n",
      "Monthly data for CIEN saved successfully.\n",
      "Monthly data for AVTR saved successfully.\n",
      "Monthly data for WELL saved successfully.\n",
      "Monthly data for TEAM saved successfully.\n",
      "Monthly data for KHC saved successfully.\n",
      "Monthly data for PECO saved successfully.\n",
      "Monthly data for EXR saved successfully.\n",
      "Monthly data for LVMUY saved successfully.\n",
      "Monthly data for STT saved successfully.\n",
      "Monthly data for EPAM saved successfully.\n",
      "Error fetching data for AAP: HTTPSConnectionPool(host='query2.finance.yahoo.com', port=443): Read timed out.\n",
      "Monthly data for AAP saved successfully.\n",
      "Monthly data for CLVT saved successfully.\n",
      "Monthly data for TRIP saved successfully.\n",
      "Monthly data for EVBG saved successfully.\n"
     ]
    },
    {
     "name": "stderr",
     "output_type": "stream",
     "text": [
      "$UBA: possibly delisted; No timezone found\n"
     ]
    },
    {
     "name": "stdout",
     "output_type": "stream",
     "text": [
      "Error fetching historical data for UBA: No historical data found for ticker\n",
      "Monthly data for IIPR saved successfully.\n",
      "Monthly data for LBTYK saved successfully.\n",
      "Monthly data for PARAA saved successfully.\n",
      "Monthly data for ADC saved successfully.\n",
      "Monthly data for EQR saved successfully.\n",
      "Monthly data for SGH saved successfully.\n",
      "Monthly data for BFS saved successfully.\n"
     ]
    },
    {
     "name": "stderr",
     "output_type": "stream",
     "text": [
      "$HEIA: possibly delisted; No timezone found\n"
     ]
    },
    {
     "name": "stdout",
     "output_type": "stream",
     "text": [
      "Error fetching historical data for HEIA: No historical data found for ticker\n",
      "Monthly data for PLTK saved successfully.\n",
      "Monthly data for BEPC saved successfully.\n",
      "Monthly data for CTRE saved successfully.\n",
      "Monthly data for AMCX saved successfully.\n",
      "Monthly data for KRG saved successfully.\n",
      "Monthly data for HST saved successfully.\n",
      "Monthly data for AVB saved successfully.\n",
      "Monthly data for GTY saved successfully.\n",
      "Monthly data for AMCR saved successfully.\n",
      "Monthly data for STX saved successfully.\n",
      "Monthly data for RLAY saved successfully.\n",
      "Monthly data for MKTX saved successfully.\n",
      "Monthly data for UDR saved successfully.\n",
      "Monthly data for JAZZ saved successfully.\n"
     ]
    },
    {
     "name": "stderr",
     "output_type": "stream",
     "text": [
      "$AYX: possibly delisted; No timezone found\n"
     ]
    },
    {
     "name": "stdout",
     "output_type": "stream",
     "text": [
      "Error fetching historical data for AYX: No historical data found for ticker\n",
      "Monthly data for KLIC saved successfully.\n",
      "Monthly data for MAA saved successfully.\n",
      "Monthly data for TNDM saved successfully.\n",
      "Monthly data for INN saved successfully.\n",
      "Monthly data for LHX saved successfully.\n",
      "Monthly data for ESS saved successfully.\n"
     ]
    },
    {
     "name": "stderr",
     "output_type": "stream",
     "text": [
      "$PEAK: possibly delisted; No timezone found\n"
     ]
    },
    {
     "name": "stdout",
     "output_type": "stream",
     "text": [
      "Error fetching historical data for PEAK: No historical data found for ticker\n",
      "Monthly data for KRC saved successfully.\n",
      "Monthly data for SBGI saved successfully.\n",
      "Monthly data for TFX saved successfully.\n",
      "Monthly data for ROIC saved successfully.\n",
      "Monthly data for BGNE saved successfully.\n",
      "Monthly data for UE saved successfully.\n",
      "Monthly data for SBAC saved successfully.\n",
      "Monthly data for CAG saved successfully.\n",
      "Monthly data for MOH saved successfully.\n",
      "Monthly data for WPM saved successfully.\n",
      "Monthly data for CNC saved successfully.\n",
      "Monthly data for ALEX saved successfully.\n",
      "Monthly data for INVH saved successfully.\n",
      "Monthly data for CHPT saved successfully.\n",
      "Error fetching data for ADM: HTTPSConnectionPool(host='query2.finance.yahoo.com', port=443): Read timed out.\n",
      "Monthly data for ADM saved successfully.\n",
      "Monthly data for BELFB saved successfully.\n",
      "Monthly data for EXC saved successfully.\n",
      "Monthly data for JBGS saved successfully.\n"
     ]
    },
    {
     "name": "stderr",
     "output_type": "stream",
     "text": [
      "$HHC: possibly delisted; No timezone found\n"
     ]
    },
    {
     "name": "stdout",
     "output_type": "stream",
     "text": [
      "Error fetching historical data for HHC: No historical data found for ticker\n",
      "Monthly data for KDP saved successfully.\n",
      "Monthly data for SLG saved successfully.\n",
      "Monthly data for IRT saved successfully.\n",
      "Monthly data for FERG saved successfully.\n",
      "Monthly data for RWT saved successfully.\n",
      "Monthly data for CADE saved successfully.\n",
      "Monthly data for EQIX saved successfully.\n",
      "Monthly data for PK saved successfully.\n",
      "Monthly data for DLTR saved successfully.\n",
      "Monthly data for FCPT saved successfully.\n",
      "Monthly data for ICHR saved successfully.\n",
      "Monthly data for QDEL saved successfully.\n",
      "Monthly data for OGS saved successfully.\n",
      "Monthly data for IOT saved successfully.\n",
      "Monthly data for YUMC saved successfully.\n",
      "Monthly data for PEB saved successfully.\n",
      "Monthly data for RBA saved successfully.\n",
      "Monthly data for EPRT saved successfully.\n",
      "Monthly data for EIX saved successfully.\n",
      "Monthly data for PSA saved successfully.\n",
      "Monthly data for EPR saved successfully.\n",
      "Monthly data for PD saved successfully.\n",
      "Monthly data for LUMN saved successfully.\n",
      "Monthly data for KRYAY saved successfully.\n",
      "Monthly data for SMNEY saved successfully.\n",
      "Monthly data for SALRY saved successfully.\n",
      "Monthly data for HKXCY saved successfully.\n",
      "Monthly data for ALFVY saved successfully.\n",
      "Monthly data for JHX saved successfully.\n",
      "Monthly data for CCOEY saved successfully.\n",
      "Monthly data for TM saved successfully.\n",
      "Monthly data for DANOY saved successfully.\n",
      "Monthly data for SHECY saved successfully.\n",
      "Monthly data for IHG saved successfully.\n",
      "Monthly data for LGRDY saved successfully.\n",
      "Monthly data for BURBY saved successfully.\n",
      "Monthly data for HCMLY saved successfully.\n",
      "Monthly data for HOCPY saved successfully.\n",
      "Monthly data for SXYAY saved successfully.\n",
      "Monthly data for ARKAY saved successfully.\n",
      "Monthly data for DKILY saved successfully.\n",
      "Monthly data for IDEXY saved successfully.\n",
      "Monthly data for TMICY saved successfully.\n",
      "Monthly data for CSLLY saved successfully.\n",
      "Monthly data for UPMMY saved successfully.\n",
      "Monthly data for HESAY saved successfully.\n",
      "Monthly data for BXBLY saved successfully.\n",
      "Monthly data for HSBC saved successfully.\n",
      "Monthly data for OLCLY saved successfully.\n",
      "Monthly data for NRILY saved successfully.\n",
      "Monthly data for PUBGY saved successfully.\n",
      "Monthly data for BAESY saved successfully.\n",
      "Monthly data for SMFG saved successfully.\n",
      "Monthly data for VWAPY saved successfully.\n",
      "Monthly data for SDVKY saved successfully.\n",
      "Monthly data for ANZGY saved successfully.\n",
      "Monthly data for JSGRY saved successfully.\n",
      "Monthly data for SVNDY saved successfully.\n",
      "Monthly data for SONVY saved successfully.\n",
      "Monthly data for NOK saved successfully.\n",
      "Monthly data for ANYYY saved successfully.\n",
      "Monthly data for FJTSY saved successfully.\n",
      "Monthly data for HMC saved successfully.\n"
     ]
    },
    {
     "name": "stderr",
     "output_type": "stream",
     "text": [
      "$FRRVY: possibly delisted; No timezone found\n"
     ]
    },
    {
     "name": "stdout",
     "output_type": "stream",
     "text": [
      "Error fetching historical data for FRRVY: No historical data found for ticker\n",
      "Monthly data for TRUMY saved successfully.\n",
      "Monthly data for JTKWY saved successfully.\n",
      "Monthly data for VACNY saved successfully.\n",
      "Monthly data for BVVBY saved successfully.\n",
      "Monthly data for PROSY saved successfully.\n",
      "Monthly data for UMICY saved successfully.\n",
      "Monthly data for UCBJY saved successfully.\n",
      "Monthly data for STBFY saved successfully.\n",
      "Monthly data for AAVMY saved successfully.\n",
      "Monthly data for TEZNY saved successfully.\n",
      "Monthly data for PANDY saved successfully.\n",
      "Monthly data for GVDNY saved successfully.\n",
      "Monthly data for TLGPY saved successfully.\n",
      "Monthly data for SAN saved successfully.\n",
      "Monthly data for PUK saved successfully.\n",
      "Monthly data for IFJPY saved successfully.\n",
      "Monthly data for AEG saved successfully.\n",
      "Monthly data for TKAMY saved successfully.\n",
      "Monthly data for ADRNY saved successfully.\n",
      "Monthly data for SCMWY saved successfully.\n",
      "Monthly data for RIO saved successfully.\n",
      "Monthly data for MKTAY saved successfully.\n",
      "Monthly data for ZURVY saved successfully.\n",
      "Monthly data for TCEHY saved successfully.\n",
      "Monthly data for CJPRY saved successfully.\n",
      "Monthly data for GNGBY saved successfully.\n",
      "Monthly data for CODYY saved successfully.\n",
      "Monthly data for LOGI saved successfully.\n",
      "Monthly data for SAXPY saved successfully.\n",
      "Monthly data for AHKSY saved successfully.\n",
      "Monthly data for SKHHY saved successfully.\n",
      "Monthly data for MDIBY saved successfully.\n",
      "Monthly data for NSANY saved successfully.\n",
      "Monthly data for BTLCY saved successfully.\n",
      "Monthly data for CRH saved successfully.\n",
      "Monthly data for BAYRY saved successfully.\n",
      "Monthly data for ISNPY saved successfully.\n",
      "Monthly data for KBCSY saved successfully.\n",
      "Monthly data for AZN saved successfully.\n",
      "Monthly data for JSAIY saved successfully.\n",
      "Monthly data for DLICY saved successfully.\n",
      "Monthly data for NMR saved successfully.\n",
      "Monthly data for IMBBY saved successfully.\n",
      "Monthly data for MGDDY saved successfully.\n",
      "Monthly data for CAJPY saved successfully.\n",
      "Monthly data for JAPAY saved successfully.\n",
      "Monthly data for UUGRY saved successfully.\n",
      "Monthly data for RTO saved successfully.\n",
      "Monthly data for CRZBY saved successfully.\n",
      "Monthly data for DNNGY saved successfully.\n",
      "Monthly data for ENLAY saved successfully.\n",
      "Monthly data for SNY saved successfully.\n",
      "Monthly data for QBIEY saved successfully.\n",
      "Monthly data for BNTGY saved successfully.\n",
      "Monthly data for EPOKY saved successfully.\n",
      "Monthly data for GASNY saved successfully.\n",
      "Monthly data for TTNDY saved successfully.\n",
      "Monthly data for MFG saved successfully.\n",
      "Monthly data for EBKDY saved successfully.\n",
      "Monthly data for DNZOY saved successfully.\n",
      "Monthly data for KMTUY saved successfully.\n",
      "Monthly data for MIELY saved successfully.\n",
      "Monthly data for CMWAY saved successfully.\n",
      "Monthly data for MTSFY saved successfully.\n",
      "Monthly data for VLVLY saved successfully.\n",
      "Monthly data for SINGY saved successfully.\n",
      "Monthly data for AKZOY saved successfully.\n",
      "Monthly data for BDRFY saved successfully.\n",
      "Monthly data for SGSOY saved successfully.\n",
      "Monthly data for SPKKY saved successfully.\n",
      "Monthly data for DSNKY saved successfully.\n",
      "Monthly data for TKOMY saved successfully.\n",
      "Monthly data for FSUGY saved successfully.\n",
      "Monthly data for AONNY saved successfully.\n",
      "Monthly data for SE saved successfully.\n",
      "Monthly data for DRPRY saved successfully.\n",
      "Monthly data for KGSPY saved successfully.\n",
      "Monthly data for MTUAY saved successfully.\n",
      "Monthly data for GBERY saved successfully.\n",
      "Monthly data for ALC saved successfully.\n",
      "Monthly data for SUTNY saved successfully.\n",
      "Monthly data for YASKY saved successfully.\n",
      "Monthly data for KIM saved successfully.\n",
      "Monthly data for DNPLY saved successfully.\n",
      "Monthly data for HSQVY saved successfully.\n",
      "Monthly data for SKHSY saved successfully.\n",
      "Monthly data for CLLNY saved successfully.\n",
      "Monthly data for SNN saved successfully.\n",
      "Monthly data for FUJIY saved successfully.\n",
      "Monthly data for SOMMY saved successfully.\n",
      "Monthly data for MSLOY saved successfully.\n",
      "Monthly data for SMMNY saved successfully.\n",
      "Monthly data for OTSKY saved successfully.\n",
      "Monthly data for PRYMY saved successfully.\n",
      "Monthly data for DTEGY saved successfully.\n",
      "Monthly data for ESLOY saved successfully.\n",
      "Monthly data for DWAHY saved successfully.\n",
      "Monthly data for TOELY saved successfully.\n",
      "Monthly data for BRDCY saved successfully.\n",
      "Monthly data for MSADY saved successfully.\n",
      "Monthly data for WJRYY saved successfully.\n",
      "Monthly data for ARGX saved successfully.\n",
      "Monthly data for OPHLY saved successfully.\n",
      "Monthly data for SFTBY saved successfully.\n",
      "Monthly data for MSSMY saved successfully.\n",
      "Monthly data for MURGY saved successfully.\n",
      "Monthly data for CGEMY saved successfully.\n",
      "Monthly data for CLPBY saved successfully.\n",
      "Monthly data for TLPFY saved successfully.\n",
      "Monthly data for SCGLY saved successfully.\n",
      "Monthly data for SMTOY saved successfully.\n",
      "Monthly data for BNPQY saved successfully.\n",
      "Monthly data for SMCAY saved successfully.\n",
      "Monthly data for ABBNY saved successfully.\n",
      "Monthly data for OVCHY saved successfully.\n",
      "Monthly data for RHHBY saved successfully.\n",
      "Monthly data for ZLNDY saved successfully.\n",
      "Monthly data for SPXCY saved successfully.\n",
      "Monthly data for SIEGY saved successfully.\n",
      "Monthly data for MKKGY saved successfully.\n",
      "Monthly data for MZDAY saved successfully.\n",
      "Monthly data for BTI saved successfully.\n",
      "Monthly data for KHNGY saved successfully.\n",
      "Monthly data for YARIY saved successfully.\n",
      "Monthly data for KNBWY saved successfully.\n",
      "Monthly data for DSCSY saved successfully.\n",
      "Monthly data for NWG saved successfully.\n",
      "Monthly data for ASHTY saved successfully.\n",
      "Monthly data for WPP saved successfully.\n",
      "Monthly data for CZMWY saved successfully.\n",
      "Monthly data for NRDBY saved successfully.\n",
      "Monthly data for ALPMY saved successfully.\n",
      "Monthly data for NICE saved successfully.\n",
      "Monthly data for VCISY saved successfully.\n",
      "Monthly data for LSRCY saved successfully.\n",
      "Monthly data for RELX saved successfully.\n",
      "Monthly data for SYIEY saved successfully.\n"
     ]
    },
    {
     "name": "stderr",
     "output_type": "stream",
     "text": [
      "$YAMHY: possibly delisted; No timezone found\n"
     ]
    },
    {
     "name": "stdout",
     "output_type": "stream",
     "text": [
      "Error fetching historical data for YAMHY: No historical data found for ticker\n",
      "Monthly data for SWRAY saved successfully.\n",
      "Monthly data for NEXOY saved successfully.\n",
      "Monthly data for MQBKY saved successfully.\n",
      "Monthly data for AVVIY saved successfully.\n",
      "Monthly data for DQJCY saved successfully.\n",
      "Monthly data for SSREY saved successfully.\n",
      "Monthly data for QABSY saved successfully.\n",
      "Monthly data for JRONY saved successfully.\n",
      "Monthly data for HXGBY saved successfully.\n",
      "Monthly data for RNMBY saved successfully.\n",
      "Monthly data for OCDDY saved successfully.\n",
      "Monthly data for ICL saved successfully.\n",
      "Monthly data for HEINY saved successfully.\n",
      "Monthly data for HVRRY saved successfully.\n",
      "Monthly data for NINOY saved successfully.\n",
      "Monthly data for NDEKY saved successfully.\n",
      "Monthly data for DFKCY saved successfully.\n",
      "Monthly data for KSRYY saved successfully.\n",
      "Monthly data for ADDYY saved successfully.\n",
      "Monthly data for SSMXY saved successfully.\n",
      "Monthly data for KDDIY saved successfully.\n",
      "Monthly data for SMFKY saved successfully.\n",
      "Monthly data for WRDLY saved successfully.\n",
      "Monthly data for DB saved successfully.\n",
      "Monthly data for MRAAY saved successfully.\n",
      "Monthly data for AHEXY saved successfully.\n",
      "Monthly data for NTDOY saved successfully.\n"
     ]
    },
    {
     "name": "stderr",
     "output_type": "stream",
     "text": [
      "$ITTOY: possibly delisted; No timezone found\n"
     ]
    },
    {
     "name": "stdout",
     "output_type": "stream",
     "text": [
      "Error fetching historical data for ITTOY: No historical data found for ticker\n",
      "Monthly data for ERIC saved successfully.\n",
      "Monthly data for TMSNY saved successfully.\n",
      "Monthly data for ISUZY saved successfully.\n",
      "Monthly data for AMKBY saved successfully.\n",
      "Monthly data for TEF saved successfully.\n",
      "Monthly data for DNBBY saved successfully.\n",
      "Monthly data for STM saved successfully.\n",
      "Monthly data for UBS saved successfully.\n",
      "Monthly data for LYG saved successfully.\n",
      "Monthly data for ALIZY saved successfully.\n",
      "Monthly data for SAFRY saved successfully.\n",
      "Monthly data for ING saved successfully.\n",
      "Monthly data for NABZY saved successfully.\n",
      "Monthly data for AIQUY saved successfully.\n",
      "Monthly data for TRYIY saved successfully.\n",
      "Monthly data for CRARY saved successfully.\n",
      "Monthly data for IBDRY saved successfully.\n",
      "Monthly data for OLYMY saved successfully.\n",
      "Monthly data for NTTYY saved successfully.\n",
      "Monthly data for MUFG saved successfully.\n",
      "Monthly data for ALLE saved successfully.\n",
      "Monthly data for SUHJY saved successfully.\n",
      "Monthly data for NNGRY saved successfully.\n",
      "Monthly data for KNRRY saved successfully.\n",
      "Monthly data for ATEYY saved successfully.\n",
      "Monthly data for EDPFY saved successfully.\n",
      "Monthly data for HDELY saved successfully.\n",
      "Monthly data for HTHIY saved successfully.\n",
      "Monthly data for NCBDY saved successfully.\n"
     ]
    },
    {
     "name": "stderr",
     "output_type": "stream",
     "text": [
      "$NCMGY: possibly delisted; No timezone found\n"
     ]
    },
    {
     "name": "stdout",
     "output_type": "stream",
     "text": [
      "Error fetching historical data for NCMGY: No historical data found for ticker\n",
      "Monthly data for TOTDY saved successfully.\n",
      "Monthly data for MBGYY saved successfully.\n",
      "Monthly data for AJINY saved successfully.\n",
      "Monthly data for NJDCY saved successfully.\n",
      "Monthly data for RANJY saved successfully.\n",
      "Monthly data for FMS saved successfully.\n",
      "Monthly data for NGG saved successfully.\n",
      "Monthly data for MHGVY saved successfully.\n",
      "Monthly data for ENGIY saved successfully.\n",
      "Monthly data for KGFHY saved successfully.\n",
      "Monthly data for EADSY saved successfully.\n",
      "Monthly data for BBVA saved successfully.\n",
      "Monthly data for KKPNY saved successfully.\n",
      "Monthly data for BUD saved successfully.\n",
      "Monthly data for VEOEY saved successfully.\n",
      "Monthly data for SSEZY saved successfully.\n",
      "Monthly data for AMADY saved successfully.\n",
      "Monthly data for CHEOY saved successfully.\n",
      "Monthly data for TTDKY saved successfully.\n",
      "Monthly data for MTHRY saved successfully.\n",
      "Monthly data for CMSQY saved successfully.\n",
      "Monthly data for DBOEY saved successfully.\n"
     ]
    },
    {
     "name": "stderr",
     "output_type": "stream",
     "text": [
      "$RPT: possibly delisted; No timezone found\n"
     ]
    },
    {
     "name": "stdout",
     "output_type": "stream",
     "text": [
      "Error fetching historical data for RPT: No historical data found for ticker\n",
      "Monthly data for DHLGY saved successfully.\n",
      "Monthly data for VWAGY saved successfully.\n",
      "Monthly data for OMRNY saved successfully.\n",
      "Monthly data for FBP saved successfully.\n",
      "Monthly data for SWDBY saved successfully.\n",
      "Monthly data for BMRRY saved successfully.\n",
      "Monthly data for AXAHY saved successfully.\n",
      "Monthly data for SOAGY saved successfully.\n",
      "Monthly data for SZKMY saved successfully.\n",
      "Monthly data for UOVEY saved successfully.\n",
      "Monthly data for SKFRY saved successfully.\n",
      "Monthly data for SVNLY saved successfully.\n",
      "Monthly data for FRCOY saved successfully.\n",
      "Monthly data for SKLTY saved successfully.\n",
      "Monthly data for BDNNY saved successfully.\n",
      "Monthly data for DNTUY saved successfully.\n",
      "Monthly data for BCS saved successfully.\n",
      "Monthly data for NTES saved successfully.\n",
      "Monthly data for SOBKY saved successfully.\n"
     ]
    },
    {
     "name": "stderr",
     "output_type": "stream",
     "text": [
      "$8WEEKMATURE: possibly delisted; No timezone found\n"
     ]
    },
    {
     "name": "stdout",
     "output_type": "stream",
     "text": [
      "Error fetching historical data for 8WEEKMATURE: No historical data found for ticker\n",
      "Monthly data for MSI saved successfully.\n",
      "Monthly data for PAYX saved successfully.\n",
      "Monthly data for SNV saved successfully.\n",
      "Monthly data for COF saved successfully.\n",
      "Monthly data for BROS saved successfully.\n",
      "Monthly data for VAL saved successfully.\n",
      "Monthly data for FDX saved successfully.\n",
      "Monthly data for OLPX saved successfully.\n",
      "Monthly data for LCID saved successfully.\n",
      "Monthly data for ATUS saved successfully.\n"
     ]
    },
    {
     "name": "stderr",
     "output_type": "stream",
     "text": [
      "$DISH: possibly delisted; No timezone found\n"
     ]
    },
    {
     "name": "stdout",
     "output_type": "stream",
     "text": [
      "Error fetching historical data for DISH: No historical data found for ticker\n",
      "Monthly data for QS saved successfully.\n",
      "Monthly data for BIDU saved successfully.\n",
      "Monthly data for SNPS saved successfully.\n",
      "Monthly data for HUBS saved successfully.\n",
      "Monthly data for SREA saved successfully.\n",
      "Monthly data for FTV saved successfully.\n"
     ]
    },
    {
     "name": "stderr",
     "output_type": "stream",
     "text": [
      "$ARGO: possibly delisted; No timezone found\n"
     ]
    },
    {
     "name": "stdout",
     "output_type": "stream",
     "text": [
      "Error fetching historical data for ARGO: No historical data found for ticker\n"
     ]
    },
    {
     "name": "stderr",
     "output_type": "stream",
     "text": [
      "$MATURE: possibly delisted; No timezone found\n"
     ]
    },
    {
     "name": "stdout",
     "output_type": "stream",
     "text": [
      "Error fetching historical data for MATURE: No historical data found for ticker\n",
      "Monthly data for GPN saved successfully.\n",
      "Monthly data for PTON saved successfully.\n",
      "Monthly data for SIRI saved successfully.\n",
      "Monthly data for GLD saved successfully.\n"
     ]
    },
    {
     "name": "stderr",
     "output_type": "stream",
     "text": [
      "$WBK: possibly delisted; No timezone found\n"
     ]
    },
    {
     "name": "stdout",
     "output_type": "stream",
     "text": [
      "Error fetching historical data for WBK: No historical data found for ticker\n"
     ]
    },
    {
     "name": "stderr",
     "output_type": "stream",
     "text": [
      "$BELGIUM: possibly delisted; No timezone found\n"
     ]
    },
    {
     "name": "stdout",
     "output_type": "stream",
     "text": [
      "Error fetching historical data for BELGIUM: No historical data found for ticker\n",
      "Monthly data for REIT saved successfully.\n",
      "Monthly data for NTAP saved successfully.\n"
     ]
    },
    {
     "name": "stderr",
     "output_type": "stream",
     "text": [
      "$SIRE: possibly delisted; No timezone found\n"
     ]
    },
    {
     "name": "stdout",
     "output_type": "stream",
     "text": [
      "Error fetching historical data for SIRE: No historical data found for ticker\n",
      "Monthly data for OCLCF saved successfully.\n",
      "Monthly data for JEF saved successfully.\n",
      "Monthly data for BMO saved successfully.\n",
      "Monthly data for AEP saved successfully.\n",
      "Monthly data for FHN saved successfully.\n",
      "Monthly data for CTAS saved successfully.\n",
      "Monthly data for CINF saved successfully.\n",
      "Monthly data for BCE saved successfully.\n",
      "Monthly data for SON saved successfully.\n",
      "Monthly data for AWK saved successfully.\n",
      "Monthly data for DECK saved successfully.\n",
      "Monthly data for NNN saved successfully.\n",
      "Monthly data for AGR saved successfully.\n",
      "Monthly data for TRU saved successfully.\n",
      "Monthly data for IPG saved successfully.\n",
      "Monthly data for USPH saved successfully.\n",
      "Monthly data for CEG saved successfully.\n",
      "Monthly data for KEYS saved successfully.\n"
     ]
    },
    {
     "name": "stderr",
     "output_type": "stream",
     "text": [
      "$STATEOF: possibly delisted; No timezone found\n"
     ]
    },
    {
     "name": "stdout",
     "output_type": "stream",
     "text": [
      "Error fetching historical data for STATEOF: No historical data found for ticker\n"
     ]
    },
    {
     "name": "stderr",
     "output_type": "stream",
     "text": [
      "$ABB: possibly delisted; No timezone found\n"
     ]
    },
    {
     "name": "stdout",
     "output_type": "stream",
     "text": [
      "Error fetching historical data for ABB: No historical data found for ticker\n",
      "Monthly data for IQV saved successfully.\n"
     ]
    },
    {
     "name": "stderr",
     "output_type": "stream",
     "text": [
      "$AQUA: possibly delisted; No timezone found\n"
     ]
    },
    {
     "name": "stdout",
     "output_type": "stream",
     "text": [
      "Error fetching historical data for AQUA: No historical data found for ticker\n",
      "Monthly data for ETSY saved successfully.\n",
      "Monthly data for UI saved successfully.\n",
      "Monthly data for SNAP saved successfully.\n",
      "Monthly data for CCCS saved successfully.\n",
      "Monthly data for PINS saved successfully.\n",
      "Monthly data for VFC saved successfully.\n",
      "Monthly data for AJG saved successfully.\n",
      "Monthly data for LPLA saved successfully.\n",
      "Monthly data for CCK saved successfully.\n",
      "Monthly data for IVV saved successfully.\n",
      "Monthly data for FQAL saved successfully.\n",
      "Monthly data for SNDR saved successfully.\n",
      "Monthly data for BRKR saved successfully.\n",
      "Monthly data for SBIO saved successfully.\n",
      "Monthly data for VSH saved successfully.\n",
      "Monthly data for LGI saved successfully.\n",
      "Monthly data for JHMM saved successfully.\n",
      "Monthly data for FDN saved successfully.\n",
      "Monthly data for AVNT saved successfully.\n",
      "Monthly data for FIMKX saved successfully.\n",
      "Monthly data for FCPIX saved successfully.\n",
      "Monthly data for DGRS saved successfully.\n",
      "Monthly data for MRVL saved successfully.\n",
      "Monthly data for RTH saved successfully.\n",
      "Monthly data for MRO saved successfully.\n",
      "Monthly data for BHF saved successfully.\n",
      "Monthly data for PEG saved successfully.\n",
      "Monthly data for IYY saved successfully.\n",
      "Monthly data for WFAFY saved successfully.\n",
      "Monthly data for RSP saved successfully.\n",
      "Monthly data for IWD saved successfully.\n",
      "Monthly data for UA saved successfully.\n",
      "Monthly data for CARG saved successfully.\n",
      "Monthly data for SYF saved successfully.\n",
      "Monthly data for RITM saved successfully.\n"
     ]
    },
    {
     "name": "stderr",
     "output_type": "stream",
     "text": [
      "$KRTX: possibly delisted; No timezone found\n"
     ]
    },
    {
     "name": "stdout",
     "output_type": "stream",
     "text": [
      "Error fetching historical data for KRTX: No historical data found for ticker\n",
      "Monthly data for EDIT saved successfully.\n",
      "Monthly data for AIG saved successfully.\n",
      "Monthly data for CONN saved successfully.\n",
      "Monthly data for UGI saved successfully.\n",
      "Monthly data for COLB saved successfully.\n",
      "Monthly data for NTNX saved successfully.\n",
      "Monthly data for RNG saved successfully.\n",
      "Monthly data for PLUG saved successfully.\n",
      "Monthly data for NTRA saved successfully.\n",
      "Monthly data for NOV saved successfully.\n",
      "Monthly data for GM saved successfully.\n",
      "Monthly data for HUN saved successfully.\n",
      "Monthly data for ESRT saved successfully.\n",
      "Monthly data for RGA saved successfully.\n",
      "Monthly data for ARRY saved successfully.\n"
     ]
    },
    {
     "name": "stderr",
     "output_type": "stream",
     "text": [
      "$MRTX: possibly delisted; No timezone found\n"
     ]
    },
    {
     "name": "stdout",
     "output_type": "stream",
     "text": [
      "Error fetching historical data for MRTX: No historical data found for ticker\n",
      "Monthly data for GTLB saved successfully.\n",
      "Monthly data for ENPH saved successfully.\n",
      "Monthly data for UAL saved successfully.\n",
      "Monthly data for FOLD saved successfully.\n",
      "Monthly data for AAT saved successfully.\n",
      "Monthly data for NEM saved successfully.\n",
      "Monthly data for TAP saved successfully.\n",
      "Monthly data for UNM saved successfully.\n",
      "Monthly data for SBRA saved successfully.\n",
      "Monthly data for AXS saved successfully.\n",
      "Monthly data for CWK saved successfully.\n",
      "Monthly data for OUT saved successfully.\n",
      "Monthly data for ZS saved successfully.\n",
      "Monthly data for APO saved successfully.\n",
      "Monthly data for VTRS saved successfully.\n",
      "Monthly data for BILL saved successfully.\n",
      "Monthly data for FCNCA saved successfully.\n",
      "Monthly data for INSP saved successfully.\n",
      "Monthly data for VNO saved successfully.\n",
      "Monthly data for QTWO saved successfully.\n",
      "Monthly data for LPSN saved successfully.\n",
      "Monthly data for MLKN saved successfully.\n",
      "Monthly data for LC saved successfully.\n",
      "Monthly data for CSGP saved successfully.\n",
      "Monthly data for VAC saved successfully.\n",
      "Monthly data for FWONK saved successfully.\n",
      "Monthly data for AKR saved successfully.\n",
      "Monthly data for FLO saved successfully.\n",
      "Monthly data for ROKU saved successfully.\n",
      "Monthly data for OPEN saved successfully.\n",
      "Monthly data for DLR saved successfully.\n",
      "Monthly data for MDGL saved successfully.\n",
      "Monthly data for WBS saved successfully.\n",
      "Monthly data for FCEL saved successfully.\n",
      "Monthly data for EWBC saved successfully.\n",
      "Monthly data for NYCB saved successfully.\n",
      "Monthly data for CPT saved successfully.\n",
      "Monthly data for NFG saved successfully.\n",
      "Monthly data for MRVI saved successfully.\n",
      "Monthly data for YOU saved successfully.\n",
      "Monthly data for WY saved successfully.\n",
      "Monthly data for JLL saved successfully.\n",
      "Monthly data for AGNC saved successfully.\n",
      "Monthly data for CAR saved successfully.\n",
      "Monthly data for DNB saved successfully.\n",
      "Monthly data for AHCO saved successfully.\n",
      "Monthly data for CHDN saved successfully.\n"
     ]
    },
    {
     "name": "stderr",
     "output_type": "stream",
     "text": [
      "$CSII: possibly delisted; No timezone found\n"
     ]
    },
    {
     "name": "stdout",
     "output_type": "stream",
     "text": [
      "Error fetching historical data for CSII: No historical data found for ticker\n",
      "Monthly data for MKSI saved successfully.\n",
      "Monthly data for QSR saved successfully.\n",
      "Monthly data for TREX saved successfully.\n"
     ]
    },
    {
     "name": "stderr",
     "output_type": "stream",
     "text": [
      "$FLT: possibly delisted; No timezone found\n"
     ]
    },
    {
     "name": "stdout",
     "output_type": "stream",
     "text": [
      "Error fetching historical data for FLT: No historical data found for ticker\n",
      "Monthly data for APPF saved successfully.\n",
      "Monthly data for SCI saved successfully.\n",
      "Monthly data for VCTR saved successfully.\n",
      "Monthly data for CROX saved successfully.\n",
      "Monthly data for MTD saved successfully.\n",
      "Monthly data for GFI saved successfully.\n",
      "Monthly data for DQ saved successfully.\n",
      "Monthly data for NDSN saved successfully.\n",
      "Monthly data for SSD saved successfully.\n"
     ]
    },
    {
     "name": "stderr",
     "output_type": "stream",
     "text": [
      "$LMST: possibly delisted; No timezone found\n"
     ]
    },
    {
     "name": "stdout",
     "output_type": "stream",
     "text": [
      "Error fetching historical data for LMST: No historical data found for ticker\n"
     ]
    },
    {
     "name": "stderr",
     "output_type": "stream",
     "text": [
      "$GRMN: possibly delisted; No price data found  (1d 2020-01-01 -> 2024-08-28)\n"
     ]
    },
    {
     "name": "stdout",
     "output_type": "stream",
     "text": [
      "Error fetching historical data for GRMN: No historical data found for ticker\n",
      "Monthly data for RH saved successfully.\n"
     ]
    },
    {
     "name": "stderr",
     "output_type": "stream",
     "text": [
      "$CNHI: possibly delisted; No timezone found\n"
     ]
    },
    {
     "name": "stdout",
     "output_type": "stream",
     "text": [
      "Error fetching historical data for CNHI: No historical data found for ticker\n",
      "Monthly data for GRFS saved successfully.\n",
      "Monthly data for MONOY saved successfully.\n",
      "Monthly data for VONOY saved successfully.\n",
      "Monthly data for SKBSY saved successfully.\n",
      "Monthly data for ASXFY saved successfully.\n",
      "Monthly data for ECL saved successfully.\n"
     ]
    },
    {
     "name": "stderr",
     "output_type": "stream",
     "text": [
      "$DPSGY: possibly delisted; No timezone found\n"
     ]
    },
    {
     "name": "stdout",
     "output_type": "stream",
     "text": [
      "Error fetching historical data for DPSGY: No historical data found for ticker\n",
      "Monthly data for MITEY saved successfully.\n",
      "Monthly data for NTDTY saved successfully.\n",
      "Monthly data for SMPNY saved successfully.\n",
      "Monthly data for BHKLY saved successfully.\n",
      "Monthly data for SSB saved successfully.\n",
      "Monthly data for VIASP saved successfully.\n",
      "Monthly data for BOH saved successfully.\n"
     ]
    },
    {
     "name": "stderr",
     "output_type": "stream",
     "text": [
      "$FRC: possibly delisted; No timezone found\n"
     ]
    },
    {
     "name": "stdout",
     "output_type": "stream",
     "text": [
      "Error fetching historical data for FRC: No historical data found for ticker\n",
      "Monthly data for LTRPA saved successfully.\n"
     ]
    },
    {
     "name": "stderr",
     "output_type": "stream",
     "text": [
      "$CS: possibly delisted; No timezone found\n"
     ]
    },
    {
     "name": "stdout",
     "output_type": "stream",
     "text": [
      "Error fetching historical data for CS: No historical data found for ticker\n",
      "Monthly data for MPC saved successfully.\n",
      "Monthly data for WCC saved successfully.\n",
      "Monthly data for ABCB saved successfully.\n",
      "Monthly data for O saved successfully.\n",
      "Monthly data for NUE saved successfully.\n",
      "Monthly data for TYG saved successfully.\n",
      "Monthly data for CIVI saved successfully.\n"
     ]
    },
    {
     "name": "stderr",
     "output_type": "stream",
     "text": [
      "SIVB: Period '1mo' is invalid, must be one of ['1d', '5d']\n"
     ]
    },
    {
     "name": "stdout",
     "output_type": "stream",
     "text": [
      "Monthly data for WDS saved successfully.\n",
      "Error fetching historical data for SIVB: No historical data found for ticker\n",
      "Monthly data for SCHD saved successfully.\n",
      "Monthly data for SVC saved successfully.\n",
      "Monthly data for CPB saved successfully.\n",
      "Monthly data for BCC saved successfully.\n",
      "Monthly data for OHI saved successfully.\n",
      "Monthly data for CTLT saved successfully.\n",
      "Monthly data for GMED saved successfully.\n",
      "Monthly data for DEI saved successfully.\n",
      "Monthly data for GO saved successfully.\n",
      "Monthly data for ED saved successfully.\n",
      "Monthly data for DAL saved successfully.\n",
      "Monthly data for NLY saved successfully.\n",
      "Monthly data for ATO saved successfully.\n",
      "Monthly data for Z saved successfully.\n",
      "Monthly data for APPS saved successfully.\n",
      "Monthly data for ALLY saved successfully.\n",
      "Monthly data for RJF saved successfully.\n",
      "Monthly data for BMRN saved successfully.\n",
      "Monthly data for BLNK saved successfully.\n",
      "Monthly data for SILK saved successfully.\n",
      "Monthly data for PAYC saved successfully.\n",
      "Monthly data for SBNY saved successfully.\n",
      "Monthly data for MKC saved successfully.\n",
      "Monthly data for ELAN saved successfully.\n",
      "Monthly data for HE saved successfully.\n",
      "Monthly data for BRO saved successfully.\n",
      "Monthly data for CDNA saved successfully.\n",
      "Monthly data for HPP saved successfully.\n",
      "Monthly data for CNP saved successfully.\n",
      "Monthly data for INCY saved successfully.\n"
     ]
    },
    {
     "name": "stderr",
     "output_type": "stream",
     "text": [
      "$PACW: possibly delisted; No timezone found\n"
     ]
    },
    {
     "name": "stdout",
     "output_type": "stream",
     "text": [
      "Error fetching historical data for PACW: No historical data found for ticker\n",
      "Monthly data for BIIB saved successfully.\n",
      "Monthly data for IONS saved successfully.\n",
      "Monthly data for SRE saved successfully.\n",
      "Monthly data for RIVN saved successfully.\n",
      "Monthly data for IBRX saved successfully.\n",
      "Monthly data for K saved successfully.\n"
     ]
    },
    {
     "name": "stderr",
     "output_type": "stream",
     "text": [
      "$RTN: possibly delisted; No timezone found\n"
     ]
    },
    {
     "name": "stdout",
     "output_type": "stream",
     "text": [
      "Error fetching historical data for RTN: No historical data found for ticker\n",
      "Monthly data for PFF saved successfully.\n",
      "Monthly data for RUN saved successfully.\n",
      "Monthly data for FIVE saved successfully.\n",
      "Monthly data for UNICY saved successfully.\n",
      "Monthly data for UNVGY saved successfully.\n",
      "Monthly data for SGAPY saved successfully.\n"
     ]
    },
    {
     "name": "stderr",
     "output_type": "stream",
     "text": [
      "$TOSYY: possibly delisted; No timezone found\n"
     ]
    },
    {
     "name": "stdout",
     "output_type": "stream",
     "text": [
      "Error fetching historical data for TOSYY: No historical data found for ticker\n",
      "Monthly data for RCRUY saved successfully.\n",
      "Monthly data for TELNY saved successfully.\n",
      "Monthly data for NPPNY saved successfully.\n",
      "Monthly data for ELUXY saved successfully.\n",
      "Monthly data for ITC saved successfully.\n",
      "Monthly data for KKOYY saved successfully.\n",
      "Monthly data for CBZ saved successfully.\n"
     ]
    },
    {
     "name": "stderr",
     "output_type": "stream",
     "text": [
      "$MATURIT: possibly delisted; No timezone found\n"
     ]
    },
    {
     "name": "stdout",
     "output_type": "stream",
     "text": [
      "Error fetching historical data for MATURIT: No historical data found for ticker\n",
      "Monthly data for PFGC saved successfully.\n",
      "Monthly data for FPI saved successfully.\n",
      "Monthly data for SQM saved successfully.\n"
     ]
    },
    {
     "name": "stderr",
     "output_type": "stream",
     "text": [
      "$BRKA: possibly delisted; No timezone found\n"
     ]
    },
    {
     "name": "stdout",
     "output_type": "stream",
     "text": [
      "Error fetching historical data for BRKA: No historical data found for ticker\n",
      "Monthly data for KBE saved successfully.\n",
      "Monthly data for VFH saved successfully.\n",
      "Monthly data for BSM saved successfully.\n"
     ]
    },
    {
     "name": "stderr",
     "output_type": "stream",
     "text": [
      "$CANO: possibly delisted; No timezone found\n"
     ]
    },
    {
     "name": "stdout",
     "output_type": "stream",
     "text": [
      "Error fetching historical data for CANO: No historical data found for ticker\n",
      "Monthly data for LUBYX saved successfully.\n",
      "Monthly data for GNR saved successfully.\n",
      "Monthly data for VHT saved successfully.\n",
      "Monthly data for MOO saved successfully.\n",
      "Monthly data for QTEC saved successfully.\n",
      "Monthly data for NXTG saved successfully.\n",
      "Monthly data for CDL saved successfully.\n",
      "Monthly data for LDP saved successfully.\n",
      "Monthly data for ABYIX saved successfully.\n",
      "Monthly data for MBXIX saved successfully.\n",
      "Monthly data for SPGP saved successfully.\n",
      "Monthly data for IGHG saved successfully.\n",
      "Monthly data for VEEV saved successfully.\n",
      "Monthly data for WDAY saved successfully.\n",
      "Monthly data for VRSK saved successfully.\n",
      "Monthly data for IBN saved successfully.\n",
      "Monthly data for MTCH saved successfully.\n",
      "Monthly data for RSG saved successfully.\n"
     ]
    },
    {
     "name": "stderr",
     "output_type": "stream",
     "text": [
      "HZNP: Period '1mo' is invalid, must be one of ['1d', '5d']\n"
     ]
    },
    {
     "name": "stdout",
     "output_type": "stream",
     "text": [
      "Monthly data for ARWR saved successfully.\n",
      "Error fetching historical data for HZNP: No historical data found for ticker\n"
     ]
    },
    {
     "name": "stderr",
     "output_type": "stream",
     "text": [
      "$SWAV: possibly delisted; No timezone found\n"
     ]
    },
    {
     "name": "stdout",
     "output_type": "stream",
     "text": [
      "Error fetching historical data for SWAV: No historical data found for ticker\n"
     ]
    },
    {
     "name": "stderr",
     "output_type": "stream",
     "text": [
      "$SYNH: possibly delisted; No timezone found\n"
     ]
    },
    {
     "name": "stdout",
     "output_type": "stream",
     "text": [
      "Error fetching historical data for SYNH: No historical data found for ticker\n"
     ]
    },
    {
     "name": "stderr",
     "output_type": "stream",
     "text": [
      "$MAXR: possibly delisted; No timezone found\n"
     ]
    },
    {
     "name": "stdout",
     "output_type": "stream",
     "text": [
      "Error fetching historical data for MAXR: No historical data found for ticker\n",
      "Monthly data for FATE saved successfully.\n",
      "Monthly data for WIW saved successfully.\n",
      "Monthly data for CHE saved successfully.\n",
      "Monthly data for ICLR saved successfully.\n",
      "Monthly data for ORLY saved successfully.\n",
      "Monthly data for ENVX saved successfully.\n",
      "Monthly data for SPWR saved successfully.\n",
      "Monthly data for RBLX saved successfully.\n",
      "Monthly data for HAS saved successfully.\n"
     ]
    },
    {
     "name": "stderr",
     "output_type": "stream",
     "text": [
      "$ESALY: possibly delisted; No timezone found\n"
     ]
    },
    {
     "name": "stdout",
     "output_type": "stream",
     "text": [
      "Error fetching historical data for ESALY: No historical data found for ticker\n"
     ]
    },
    {
     "name": "stderr",
     "output_type": "stream",
     "text": [
      "$BACPL: possibly delisted; No timezone found\n"
     ]
    },
    {
     "name": "stdout",
     "output_type": "stream",
     "text": [
      "Error fetching historical data for BACPL: No historical data found for ticker\n"
     ]
    },
    {
     "name": "stderr",
     "output_type": "stream",
     "text": [
      "$RDSMY: possibly delisted; No timezone found\n"
     ]
    },
    {
     "name": "stdout",
     "output_type": "stream",
     "text": [
      "Error fetching historical data for RDSMY: No historical data found for ticker\n",
      "Monthly data for AGI saved successfully.\n",
      "Monthly data for MTSI saved successfully.\n",
      "Monthly data for CG saved successfully.\n",
      "Monthly data for CHRS saved successfully.\n",
      "Monthly data for CMPS saved successfully.\n",
      "Monthly data for BAX saved successfully.\n",
      "Monthly data for TTWO saved successfully.\n",
      "Monthly data for MUNI saved successfully.\n"
     ]
    },
    {
     "name": "stderr",
     "output_type": "stream",
     "text": [
      "$4WEEKMATURE: possibly delisted; No timezone found\n"
     ]
    },
    {
     "name": "stdout",
     "output_type": "stream",
     "text": [
      "Error fetching historical data for 4WEEKMATURE: No historical data found for ticker\n",
      "Monthly data for PSO saved successfully.\n",
      "Monthly data for JAPSY saved successfully.\n"
     ]
    },
    {
     "name": "stderr",
     "output_type": "stream",
     "text": [
      "$13WEEKMATURE: possibly delisted; No timezone found\n"
     ]
    },
    {
     "name": "stdout",
     "output_type": "stream",
     "text": [
      "Error fetching historical data for 13WEEKMATURE: No historical data found for ticker\n",
      "Monthly data for SAND saved successfully.\n",
      "Monthly data for WTRG saved successfully.\n",
      "Monthly data for HOLX saved successfully.\n",
      "Monthly data for ATKR saved successfully.\n",
      "Monthly data for TU saved successfully.\n",
      "Monthly data for FAST saved successfully.\n",
      "Monthly data for BHP saved successfully.\n",
      "Monthly data for SRVR saved successfully.\n",
      "Monthly data for MGM saved successfully.\n",
      "Monthly data for GEHC saved successfully.\n",
      "Monthly data for GE saved successfully.\n"
     ]
    },
    {
     "name": "stderr",
     "output_type": "stream",
     "text": [
      "$RNWK: possibly delisted; No timezone found\n"
     ]
    },
    {
     "name": "stdout",
     "output_type": "stream",
     "text": [
      "Error fetching historical data for RNWK: No historical data found for ticker\n",
      "Monthly data for SUPN saved successfully.\n"
     ]
    },
    {
     "name": "stderr",
     "output_type": "stream",
     "text": [
      "$91282CFN6: possibly delisted; No timezone found\n"
     ]
    },
    {
     "name": "stdout",
     "output_type": "stream",
     "text": [
      "Error fetching historical data for 91282CFN6: No historical data found for ticker\n",
      "Monthly data for COHR saved successfully.\n",
      "Monthly data for GNRC saved successfully.\n",
      "Monthly data for AKAM saved successfully.\n",
      "Monthly data for FISV saved successfully.\n",
      "Monthly data for ARCB saved successfully.\n",
      "Monthly data for SWK saved successfully.\n"
     ]
    },
    {
     "name": "stderr",
     "output_type": "stream",
     "text": [
      "$BLL: possibly delisted; No timezone found\n"
     ]
    },
    {
     "name": "stdout",
     "output_type": "stream",
     "text": [
      "Error fetching historical data for BLL: No historical data found for ticker\n",
      "Monthly data for WYNN saved successfully.\n",
      "Monthly data for MASI saved successfully.\n",
      "Monthly data for ATHA saved successfully.\n",
      "Monthly data for CRGY saved successfully.\n",
      "Monthly data for GEVO saved successfully.\n"
     ]
    },
    {
     "name": "stderr",
     "output_type": "stream",
     "text": [
      "$MNRL: possibly delisted; No timezone found\n"
     ]
    },
    {
     "name": "stdout",
     "output_type": "stream",
     "text": [
      "Error fetching historical data for MNRL: No historical data found for ticker\n",
      "Monthly data for NTST saved successfully.\n",
      "Monthly data for AVXL saved successfully.\n",
      "Monthly data for TELL saved successfully.\n",
      "Monthly data for PCVX saved successfully.\n",
      "Monthly data for SWTX saved successfully.\n"
     ]
    },
    {
     "name": "stderr",
     "output_type": "stream",
     "text": [
      "$912796ZP7: possibly delisted; No timezone found\n"
     ]
    },
    {
     "name": "stdout",
     "output_type": "stream",
     "text": [
      "Error fetching historical data for 912796ZP7: No historical data found for ticker\n",
      "Monthly data for CTRA saved successfully.\n",
      "Monthly data for XPRO saved successfully.\n",
      "Monthly data for KURA saved successfully.\n",
      "Monthly data for AROC saved successfully.\n",
      "Monthly data for DOC saved successfully.\n",
      "Monthly data for KRYS saved successfully.\n",
      "Monthly data for SAVA saved successfully.\n",
      "Monthly data for KALV saved successfully.\n",
      "Monthly data for NESR saved successfully.\n",
      "Monthly data for BLFS saved successfully.\n",
      "Monthly data for HLX saved successfully.\n",
      "Monthly data for HP saved successfully.\n",
      "Monthly data for NOTV saved successfully.\n",
      "Monthly data for RLMD saved successfully.\n"
     ]
    },
    {
     "name": "stderr",
     "output_type": "stream",
     "text": [
      "$INSWV: possibly delisted; No timezone found\n"
     ]
    },
    {
     "name": "stdout",
     "output_type": "stream",
     "text": [
      "Error fetching historical data for INSWV: No historical data found for ticker\n",
      "Monthly data for CMTG saved successfully.\n",
      "Monthly data for COGT saved successfully.\n"
     ]
    },
    {
     "name": "stderr",
     "output_type": "stream",
     "text": [
      "$912796YJ2: possibly delisted; No timezone found\n"
     ]
    },
    {
     "name": "stdout",
     "output_type": "stream",
     "text": [
      "Error fetching historical data for 912796YJ2: No historical data found for ticker\n",
      "Monthly data for INSM saved successfully.\n",
      "Monthly data for SGENX saved successfully.\n",
      "Monthly data for SCHP saved successfully.\n",
      "Monthly data for ESI saved successfully.\n",
      "Monthly data for GFL saved successfully.\n",
      "Monthly data for FFIV saved successfully.\n",
      "Monthly data for BFAM saved successfully.\n",
      "Monthly data for FOUR saved successfully.\n",
      "Monthly data for ACHC saved successfully.\n"
     ]
    },
    {
     "name": "stderr",
     "output_type": "stream",
     "text": [
      "$BKI: possibly delisted; No timezone found\n"
     ]
    },
    {
     "name": "stdout",
     "output_type": "stream",
     "text": [
      "Error fetching historical data for BKI: No historical data found for ticker\n",
      "Monthly data for ENTG saved successfully.\n",
      "Monthly data for BLDR saved successfully.\n",
      "Monthly data for GT saved successfully.\n",
      "Monthly data for XYL saved successfully.\n",
      "Monthly data for PLNT saved successfully.\n",
      "Monthly data for CDW saved successfully.\n",
      "Monthly data for AZEK saved successfully.\n",
      "Monthly data for LYV saved successfully.\n",
      "Monthly data for REZI saved successfully.\n",
      "Monthly data for MAT saved successfully.\n",
      "Monthly data for LESL saved successfully.\n",
      "Monthly data for BBWI saved successfully.\n",
      "Monthly data for USFD saved successfully.\n",
      "Monthly data for VRT saved successfully.\n"
     ]
    },
    {
     "name": "stderr",
     "output_type": "stream",
     "text": [
      "$DSEY: possibly delisted; No timezone found\n"
     ]
    },
    {
     "name": "stdout",
     "output_type": "stream",
     "text": [
      "Error fetching historical data for DSEY: No historical data found for ticker\n",
      "Monthly data for BERY saved successfully.\n",
      "Monthly data for MLM saved successfully.\n",
      "Monthly data for VICI saved successfully.\n",
      "Monthly data for SMG saved successfully.\n",
      "Monthly data for QRVO saved successfully.\n",
      "Monthly data for CZR saved successfully.\n"
     ]
    },
    {
     "name": "stderr",
     "output_type": "stream",
     "text": [
      "$CLR: possibly delisted; No timezone found\n"
     ]
    },
    {
     "name": "stdout",
     "output_type": "stream",
     "text": [
      "Error fetching historical data for CLR: No historical data found for ticker\n"
     ]
    },
    {
     "name": "stderr",
     "output_type": "stream",
     "text": [
      "$SSLTY: possibly delisted; No price data found  (1d 2020-01-01 -> 2024-08-28)\n"
     ]
    },
    {
     "name": "stdout",
     "output_type": "stream",
     "text": [
      "Monthly data for ZIMV saved successfully.\n",
      "$SSLTY: possibly delisted; No price data found  (1d 2020-01-01 -> 2024-08-28)\n",
      "Error fetching historical data for SSLTY: No historical data found for ticker\n"
     ]
    },
    {
     "name": "stderr",
     "output_type": "stream",
     "text": [
      "$TREASURYINFLATIO: possibly delisted; No timezone found\n"
     ]
    },
    {
     "name": "stdout",
     "output_type": "stream",
     "text": [
      "Error fetching historical data for TREASURYINFLATIO: No historical data found for ticker\n",
      "Monthly data for ZBH saved successfully.\n"
     ]
    },
    {
     "name": "stderr",
     "output_type": "stream",
     "text": [
      "$6MONTH: possibly delisted; No timezone found\n"
     ]
    },
    {
     "name": "stdout",
     "output_type": "stream",
     "text": [
      "Error fetching historical data for 6MONTH: No historical data found for ticker\n",
      "Monthly data for BATRA saved successfully.\n",
      "Monthly data for AMP saved successfully.\n",
      "Monthly data for CR saved successfully.\n",
      "Monthly data for QYLD saved successfully.\n",
      "Monthly data for LBRDA saved successfully.\n",
      "Monthly data for BTEC saved successfully.\n",
      "Monthly data for FSMDX saved successfully.\n",
      "Monthly data for FLYW saved successfully.\n",
      "Monthly data for EFA saved successfully.\n",
      "Monthly data for IRBT saved successfully.\n"
     ]
    },
    {
     "name": "stderr",
     "output_type": "stream",
     "text": [
      "$COUP: possibly delisted; No timezone found\n"
     ]
    },
    {
     "name": "stdout",
     "output_type": "stream",
     "text": [
      "Error fetching historical data for COUP: No historical data found for ticker\n"
     ]
    },
    {
     "name": "stderr",
     "output_type": "stream",
     "text": [
      "$HSAC: possibly delisted; No timezone found\n"
     ]
    },
    {
     "name": "stdout",
     "output_type": "stream",
     "text": [
      "Error fetching historical data for HSAC: No historical data found for ticker\n",
      "Monthly data for AKRO saved successfully.\n",
      "Monthly data for KOD saved successfully.\n"
     ]
    },
    {
     "name": "stderr",
     "output_type": "stream",
     "text": [
      "BCEL: No data found, symbol may be delisted\n"
     ]
    },
    {
     "name": "stdout",
     "output_type": "stream",
     "text": [
      "Error fetching historical data for BCEL: No historical data found for ticker\n",
      "Monthly data for OCGN saved successfully.\n"
     ]
    },
    {
     "name": "stderr",
     "output_type": "stream",
     "text": [
      "$ENOB: possibly delisted; No timezone found\n",
      "$TLRN: possibly delisted; No price data found  (1d 2020-01-01 -> 2024-08-28)\n"
     ]
    },
    {
     "name": "stdout",
     "output_type": "stream",
     "text": [
      "Error fetching historical data for ENOB: No historical data found for ticker\n",
      "$TLRN: possibly delisted; No price data found  (1d 2020-01-01 -> 2024-08-28)\n",
      "Error fetching historical data for TLRN: No historical data found for ticker\n"
     ]
    },
    {
     "name": "stderr",
     "output_type": "stream",
     "text": [
      "$SI: possibly delisted; No timezone found\n"
     ]
    },
    {
     "name": "stdout",
     "output_type": "stream",
     "text": [
      "Error fetching historical data for SI: No historical data found for ticker\n",
      "Monthly data for U saved successfully.\n",
      "Monthly data for VYM saved successfully.\n",
      "Monthly data for MAIIX saved successfully.\n",
      "Monthly data for FHYS saved successfully.\n",
      "Monthly data for FDEV saved successfully.\n",
      "Monthly data for BAGIX saved successfully.\n"
     ]
    },
    {
     "name": "stderr",
     "output_type": "stream",
     "text": [
      "$TWTR: possibly delisted; No timezone found\n"
     ]
    },
    {
     "name": "stdout",
     "output_type": "stream",
     "text": [
      "Error fetching historical data for TWTR: No historical data found for ticker\n",
      "Monthly data for AE saved successfully.\n",
      "Monthly data for JOE saved successfully.\n",
      "Monthly data for BMN saved successfully.\n",
      "Monthly data for KBH saved successfully.\n"
     ]
    },
    {
     "name": "stderr",
     "output_type": "stream",
     "text": [
      "$FB: possibly delisted; No timezone found\n"
     ]
    },
    {
     "name": "stdout",
     "output_type": "stream",
     "text": [
      "Error fetching historical data for FB: No historical data found for ticker\n",
      "Monthly data for FAS saved successfully.\n",
      "Monthly data for USO saved successfully.\n",
      "Monthly data for FTBFX saved successfully.\n",
      "Monthly data for ANDE saved successfully.\n",
      "Monthly data for CPXWF saved successfully.\n"
     ]
    },
    {
     "name": "stderr",
     "output_type": "stream",
     "text": [
      "$CCXI: possibly delisted; No timezone found\n"
     ]
    },
    {
     "name": "stdout",
     "output_type": "stream",
     "text": [
      "Error fetching historical data for CCXI: No historical data found for ticker\n",
      "Monthly data for EFAD saved successfully.\n",
      "Monthly data for GMRE saved successfully.\n",
      "Monthly data for GSMYX saved successfully.\n"
     ]
    },
    {
     "name": "stderr",
     "output_type": "stream",
     "text": [
      "$ISEE: possibly delisted; No timezone found\n"
     ]
    },
    {
     "name": "stdout",
     "output_type": "stream",
     "text": [
      "Error fetching historical data for ISEE: No historical data found for ticker\n",
      "Monthly data for PLL saved successfully.\n",
      "Monthly data for AEE saved successfully.\n"
     ]
    },
    {
     "name": "stderr",
     "output_type": "stream",
     "text": [
      "$BRCM: possibly delisted; No price data found  (1d 2020-01-01 -> 2024-08-28)\n"
     ]
    },
    {
     "name": "stdout",
     "output_type": "stream",
     "text": [
      "Monthly data for AMLX saved successfully.\n",
      "$BRCM: possibly delisted; No price data found  (1d 2020-01-01 -> 2024-08-28)\n",
      "Error fetching historical data for BRCM: No historical data found for ticker\n",
      "Monthly data for PPL saved successfully.\n",
      "Monthly data for PCTY saved successfully.\n"
     ]
    },
    {
     "name": "stderr",
     "output_type": "stream",
     "text": [
      "$912796X87: possibly delisted; No timezone found\n"
     ]
    },
    {
     "name": "stdout",
     "output_type": "stream",
     "text": [
      "Error fetching historical data for 912796X87: No historical data found for ticker\n"
     ]
    },
    {
     "name": "stderr",
     "output_type": "stream",
     "text": [
      "$BRMK: possibly delisted; No timezone found\n"
     ]
    },
    {
     "name": "stdout",
     "output_type": "stream",
     "text": [
      "Error fetching historical data for BRMK: No historical data found for ticker\n",
      "Monthly data for VTNR saved successfully.\n"
     ]
    },
    {
     "name": "stderr",
     "output_type": "stream",
     "text": [
      "$912796U31: possibly delisted; No timezone found\n"
     ]
    },
    {
     "name": "stdout",
     "output_type": "stream",
     "text": [
      "Error fetching historical data for 912796U31: No historical data found for ticker\n",
      "Monthly data for EXPE saved successfully.\n",
      "Monthly data for ELS saved successfully.\n",
      "Monthly data for TROW saved successfully.\n",
      "Monthly data for SH saved successfully.\n",
      "Monthly data for SEIC saved successfully.\n",
      "Monthly data for WIT saved successfully.\n",
      "Monthly data for HQL saved successfully.\n"
     ]
    },
    {
     "name": "stderr",
     "output_type": "stream",
     "text": [
      "$NID: possibly delisted; No timezone found\n"
     ]
    },
    {
     "name": "stdout",
     "output_type": "stream",
     "text": [
      "Error fetching historical data for NID: No historical data found for ticker\n",
      "Monthly data for DGRO saved successfully.\n",
      "Monthly data for IMKTA saved successfully.\n",
      "Monthly data for AA saved successfully.\n",
      "Monthly data for MGY saved successfully.\n",
      "Monthly data for WRK saved successfully.\n",
      "Monthly data for NEWT saved successfully.\n",
      "Monthly data for SJT saved successfully.\n",
      "Monthly data for KMX saved successfully.\n",
      "Monthly data for ARKK saved successfully.\n"
     ]
    },
    {
     "name": "stderr",
     "output_type": "stream",
     "text": [
      "$91282CFG1: possibly delisted; No timezone found\n"
     ]
    },
    {
     "name": "stdout",
     "output_type": "stream",
     "text": [
      "Error fetching historical data for 91282CFG1: No historical data found for ticker\n"
     ]
    },
    {
     "name": "stderr",
     "output_type": "stream",
     "text": [
      "$912796YH6: possibly delisted; No timezone found\n"
     ]
    },
    {
     "name": "stdout",
     "output_type": "stream",
     "text": [
      "Error fetching historical data for 912796YH6: No historical data found for ticker\n",
      "Monthly data for MFH saved successfully.\n",
      "Monthly data for STAG saved successfully.\n"
     ]
    },
    {
     "name": "stderr",
     "output_type": "stream",
     "text": [
      "$CVET: possibly delisted; No timezone found\n"
     ]
    },
    {
     "name": "stdout",
     "output_type": "stream",
     "text": [
      "Error fetching historical data for CVET: No historical data found for ticker\n"
     ]
    },
    {
     "name": "stderr",
     "output_type": "stream",
     "text": [
      "$LGFB: possibly delisted; No timezone found\n"
     ]
    },
    {
     "name": "stdout",
     "output_type": "stream",
     "text": [
      "Error fetching historical data for LGFB: No historical data found for ticker\n"
     ]
    },
    {
     "name": "stderr",
     "output_type": "stream",
     "text": [
      "ABMD: No data found, symbol may be delisted\n"
     ]
    },
    {
     "name": "stdout",
     "output_type": "stream",
     "text": [
      "Error fetching historical data for ABMD: No historical data found for ticker\n",
      "Monthly data for ONEQ saved successfully.\n",
      "Monthly data for FCNTX saved successfully.\n",
      "Monthly data for IVW saved successfully.\n",
      "Monthly data for CHTR saved successfully.\n",
      "Monthly data for ROST saved successfully.\n",
      "Monthly data for FBKWX saved successfully.\n"
     ]
    },
    {
     "name": "stderr",
     "output_type": "stream",
     "text": [
      "$ECOM: possibly delisted; No timezone found\n"
     ]
    },
    {
     "name": "stdout",
     "output_type": "stream",
     "text": [
      "Error fetching historical data for ECOM: No historical data found for ticker\n",
      "Monthly data for NHI saved successfully.\n",
      "Monthly data for SSYS saved successfully.\n",
      "Monthly data for PTC saved successfully.\n"
     ]
    },
    {
     "name": "stderr",
     "output_type": "stream",
     "text": [
      "$912796XQ7: possibly delisted; No timezone found\n"
     ]
    },
    {
     "name": "stdout",
     "output_type": "stream",
     "text": [
      "Error fetching historical data for 912796XQ7: No historical data found for ticker\n"
     ]
    },
    {
     "name": "stderr",
     "output_type": "stream",
     "text": [
      "$BKEPP: possibly delisted; No timezone found\n"
     ]
    },
    {
     "name": "stdout",
     "output_type": "stream",
     "text": [
      "Error fetching historical data for BKEPP: No historical data found for ticker\n",
      "Monthly data for XLE saved successfully.\n",
      "Monthly data for OZKAP saved successfully.\n",
      "Monthly data for CDNS saved successfully.\n"
     ]
    },
    {
     "name": "stderr",
     "output_type": "stream",
     "text": [
      "$HIL: possibly delisted; No timezone found\n"
     ]
    },
    {
     "name": "stdout",
     "output_type": "stream",
     "text": [
      "Error fetching historical data for HIL: No historical data found for ticker\n",
      "Monthly data for AMC saved successfully.\n",
      "Monthly data for FINX saved successfully.\n",
      "Monthly data for IJS saved successfully.\n"
     ]
    },
    {
     "name": "stderr",
     "output_type": "stream",
     "text": [
      "$MSP: possibly delisted; No timezone found\n"
     ]
    },
    {
     "name": "stdout",
     "output_type": "stream",
     "text": [
      "Error fetching historical data for MSP: No historical data found for ticker\n",
      "Monthly data for EELV saved successfully.\n",
      "Monthly data for KRE saved successfully.\n",
      "Monthly data for CEF saved successfully.\n",
      "Monthly data for GDXJ saved successfully.\n",
      "Monthly data for RPD saved successfully.\n",
      "Monthly data for PRF saved successfully.\n",
      "Monthly data for GSSC saved successfully.\n",
      "Monthly data for CIBR saved successfully.\n",
      "Monthly data for GSIMX saved successfully.\n",
      "Monthly data for CFA saved successfully.\n",
      "Monthly data for FIASX saved successfully.\n"
     ]
    },
    {
     "name": "stderr",
     "output_type": "stream",
     "text": [
      "$PYPLV: possibly delisted; No timezone found\n"
     ]
    },
    {
     "name": "stdout",
     "output_type": "stream",
     "text": [
      "Error fetching historical data for PYPLV: No historical data found for ticker\n",
      "Monthly data for DPZ saved successfully.\n",
      "Monthly data for EMN saved successfully.\n",
      "Monthly data for DURA saved successfully.\n",
      "Monthly data for CMA saved successfully.\n",
      "Monthly data for FICO saved successfully.\n",
      "Monthly data for CARR saved successfully.\n",
      "Monthly data for DRI saved successfully.\n",
      "Monthly data for VRAI saved successfully.\n",
      "Monthly data for REG saved successfully.\n",
      "Monthly data for L saved successfully.\n",
      "Monthly data for CE saved successfully.\n",
      "Monthly data for NVR saved successfully.\n",
      "Monthly data for WHR saved successfully.\n",
      "Monthly data for MAS saved successfully.\n",
      "Monthly data for FIP saved successfully.\n",
      "Monthly data for KNOP saved successfully.\n",
      "Monthly data for ABNFX saved successfully.\n",
      "Monthly data for OC saved successfully.\n",
      "Monthly data for DHS saved successfully.\n",
      "Monthly data for XLY saved successfully.\n",
      "Monthly data for MUB saved successfully.\n",
      "Monthly data for EFAV saved successfully.\n",
      "Monthly data for PCNNX saved successfully.\n",
      "Monthly data for IDV saved successfully.\n",
      "Monthly data for JHCBX saved successfully.\n",
      "Monthly data for XLC saved successfully.\n",
      "Monthly data for BURL saved successfully.\n",
      "Monthly data for SCHF saved successfully.\n",
      "Monthly data for GXO saved successfully.\n",
      "Monthly data for NOVT saved successfully.\n",
      "Monthly data for AATC saved successfully.\n"
     ]
    },
    {
     "name": "stderr",
     "output_type": "stream",
     "text": [
      "$VTRSV: possibly delisted; No timezone found\n"
     ]
    },
    {
     "name": "stdout",
     "output_type": "stream",
     "text": [
      "Error fetching historical data for VTRSV: No historical data found for ticker\n",
      "Monthly data for STNG saved successfully.\n",
      "Monthly data for AR saved successfully.\n",
      "Monthly data for UBSI saved successfully.\n"
     ]
    },
    {
     "name": "stderr",
     "output_type": "stream",
     "text": [
      "$ESTE: possibly delisted; No timezone found\n"
     ]
    },
    {
     "name": "stdout",
     "output_type": "stream",
     "text": [
      "Error fetching historical data for ESTE: No historical data found for ticker\n"
     ]
    },
    {
     "name": "stderr",
     "output_type": "stream",
     "text": [
      "$ASBC: possibly delisted; No price data found  (1d 2020-01-01 -> 2024-08-28)\n"
     ]
    },
    {
     "name": "stdout",
     "output_type": "stream",
     "text": [
      "Monthly data for SM saved successfully.\n",
      "$ASBC: possibly delisted; No price data found  (1d 2020-01-01 -> 2024-08-28)\n",
      "Error fetching historical data for ASBC: No historical data found for ticker\n"
     ]
    },
    {
     "name": "stderr",
     "output_type": "stream",
     "text": [
      "$GNKOQ: possibly delisted; No timezone found\n"
     ]
    },
    {
     "name": "stdout",
     "output_type": "stream",
     "text": [
      "Error fetching historical data for GNKOQ: No historical data found for ticker\n"
     ]
    },
    {
     "name": "stderr",
     "output_type": "stream",
     "text": [
      "$CDEV: possibly delisted; No timezone found\n"
     ]
    },
    {
     "name": "stdout",
     "output_type": "stream",
     "text": [
      "Error fetching historical data for CDEV: No historical data found for ticker\n",
      "Monthly data for PBA saved successfully.\n",
      "Monthly data for UVV saved successfully.\n",
      "Monthly data for TXT saved successfully.\n",
      "Monthly data for TIP saved successfully.\n",
      "Monthly data for SPR saved successfully.\n",
      "Monthly data for IBDO saved successfully.\n",
      "Monthly data for IBDQ saved successfully.\n",
      "Monthly data for VTIP saved successfully.\n",
      "Monthly data for MFC saved successfully.\n",
      "Monthly data for BEKE saved successfully.\n",
      "Monthly data for EPD saved successfully.\n"
     ]
    },
    {
     "name": "stderr",
     "output_type": "stream",
     "text": [
      "$CWENA: possibly delisted; No timezone found\n"
     ]
    },
    {
     "name": "stdout",
     "output_type": "stream",
     "text": [
      "Error fetching historical data for CWENA: No historical data found for ticker\n",
      "Monthly data for FNB saved successfully.\n",
      "Monthly data for TXRH saved successfully.\n",
      "Monthly data for AGCO saved successfully.\n",
      "Monthly data for NWBI saved successfully.\n"
     ]
    },
    {
     "name": "stderr",
     "output_type": "stream",
     "text": [
      "$LHCG: possibly delisted; No timezone found\n"
     ]
    },
    {
     "name": "stdout",
     "output_type": "stream",
     "text": [
      "Error fetching historical data for LHCG: No historical data found for ticker\n",
      "Monthly data for ITT saved successfully.\n"
     ]
    },
    {
     "name": "stderr",
     "output_type": "stream",
     "text": [
      "$RTL: possibly delisted; No timezone found\n"
     ]
    },
    {
     "name": "stdout",
     "output_type": "stream",
     "text": [
      "Error fetching historical data for RTL: No historical data found for ticker\n",
      "Monthly data for EVT saved successfully.\n",
      "Monthly data for IMAX saved successfully.\n",
      "Monthly data for RC saved successfully.\n",
      "Monthly data for AXSM saved successfully.\n",
      "Monthly data for UUUU saved successfully.\n",
      "Monthly data for IWN saved successfully.\n",
      "Monthly data for ACAD saved successfully.\n",
      "Monthly data for FIXD saved successfully.\n"
     ]
    },
    {
     "name": "stderr",
     "output_type": "stream",
     "text": [
      "$CPE: possibly delisted; No timezone found\n"
     ]
    },
    {
     "name": "stdout",
     "output_type": "stream",
     "text": [
      "Error fetching historical data for CPE: No historical data found for ticker\n",
      "Monthly data for ALLK saved successfully.\n",
      "Monthly data for MAC saved successfully.\n"
     ]
    },
    {
     "name": "stderr",
     "output_type": "stream",
     "text": [
      "$PLAN: possibly delisted; No timezone found\n"
     ]
    },
    {
     "name": "stdout",
     "output_type": "stream",
     "text": [
      "Error fetching historical data for PLAN: No historical data found for ticker\n",
      "Monthly data for NAT saved successfully.\n",
      "Monthly data for KOS saved successfully.\n",
      "Monthly data for NBR saved successfully.\n"
     ]
    },
    {
     "name": "stderr",
     "output_type": "stream",
     "text": [
      "$NEX: possibly delisted; No timezone found\n"
     ]
    },
    {
     "name": "stdout",
     "output_type": "stream",
     "text": [
      "Error fetching historical data for NEX: No historical data found for ticker\n",
      "Monthly data for GNK saved successfully.\n",
      "Monthly data for SHYG saved successfully.\n",
      "Monthly data for IWB saved successfully.\n",
      "Monthly data for ASB saved successfully.\n",
      "Monthly data for BRBR saved successfully.\n"
     ]
    },
    {
     "name": "stderr",
     "output_type": "stream",
     "text": [
      "$CERN: possibly delisted; No timezone found\n"
     ]
    },
    {
     "name": "stdout",
     "output_type": "stream",
     "text": [
      "Error fetching historical data for CERN: No historical data found for ticker\n",
      "Monthly data for AMBP saved successfully.\n"
     ]
    },
    {
     "name": "stderr",
     "output_type": "stream",
     "text": [
      "$U325CD: possibly delisted; No timezone found\n"
     ]
    },
    {
     "name": "stdout",
     "output_type": "stream",
     "text": [
      "Error fetching historical data for U325CD: No historical data found for ticker\n",
      "Monthly data for CMS saved successfully.\n",
      "Monthly data for WEC saved successfully.\n"
     ]
    },
    {
     "name": "stderr",
     "output_type": "stream",
     "text": [
      "$912796U49: possibly delisted; No timezone found\n"
     ]
    },
    {
     "name": "stdout",
     "output_type": "stream",
     "text": [
      "Error fetching historical data for 912796U49: No historical data found for ticker\n",
      "Monthly data for PPA saved successfully.\n",
      "Monthly data for PAVE saved successfully.\n",
      "Monthly data for OXBR saved successfully.\n",
      "Monthly data for VCSH saved successfully.\n"
     ]
    },
    {
     "name": "stderr",
     "output_type": "stream",
     "text": [
      "$MTBC: possibly delisted; No timezone found\n"
     ]
    },
    {
     "name": "stdout",
     "output_type": "stream",
     "text": [
      "Error fetching historical data for MTBC: No historical data found for ticker\n",
      "Monthly data for UPST saved successfully.\n",
      "Monthly data for FWONA saved successfully.\n",
      "Monthly data for FLL saved successfully.\n",
      "Monthly data for ORI saved successfully.\n"
     ]
    },
    {
     "name": "stderr",
     "output_type": "stream",
     "text": [
      "$91282CEG2: possibly delisted; No timezone found\n"
     ]
    },
    {
     "name": "stdout",
     "output_type": "stream",
     "text": [
      "Error fetching historical data for 91282CEG2: No historical data found for ticker\n",
      "Monthly data for CHKP saved successfully.\n"
     ]
    },
    {
     "name": "stderr",
     "output_type": "stream",
     "text": [
      "$DRE: possibly delisted; No timezone found\n"
     ]
    },
    {
     "name": "stdout",
     "output_type": "stream",
     "text": [
      "Error fetching historical data for DRE: No historical data found for ticker\n",
      "Monthly data for LMND saved successfully.\n",
      "Monthly data for MP saved successfully.\n"
     ]
    },
    {
     "name": "stderr",
     "output_type": "stream",
     "text": [
      "$Y: possibly delisted; No timezone found\n"
     ]
    },
    {
     "name": "stdout",
     "output_type": "stream",
     "text": [
      "Error fetching historical data for Y: No historical data found for ticker\n"
     ]
    },
    {
     "name": "stderr",
     "output_type": "stream",
     "text": [
      "$NEEQ: possibly delisted; No timezone found\n"
     ]
    },
    {
     "name": "stdout",
     "output_type": "stream",
     "text": [
      "Error fetching historical data for NEEQ: No historical data found for ticker\n",
      "Monthly data for JD saved successfully.\n",
      "Monthly data for SCHH saved successfully.\n",
      "Monthly data for CRNC saved successfully.\n"
     ]
    },
    {
     "name": "stderr",
     "output_type": "stream",
     "text": [
      "$SDC: possibly delisted; No timezone found\n"
     ]
    },
    {
     "name": "stdout",
     "output_type": "stream",
     "text": [
      "Error fetching historical data for SDC: No historical data found for ticker\n",
      "Monthly data for IWM saved successfully.\n",
      "Monthly data for SPCE saved successfully.\n",
      "Monthly data for UGRO saved successfully.\n",
      "Monthly data for TLRY saved successfully.\n",
      "Monthly data for USAC saved successfully.\n"
     ]
    },
    {
     "name": "stderr",
     "output_type": "stream",
     "text": [
      "$ECOL: possibly delisted; No timezone found\n"
     ]
    },
    {
     "name": "stdout",
     "output_type": "stream",
     "text": [
      "Error fetching historical data for ECOL: No historical data found for ticker\n"
     ]
    },
    {
     "name": "stderr",
     "output_type": "stream",
     "text": [
      "$TA: possibly delisted; No timezone found\n"
     ]
    },
    {
     "name": "stdout",
     "output_type": "stream",
     "text": [
      "Error fetching historical data for TA: No historical data found for ticker\n",
      "Monthly data for R saved successfully.\n",
      "Monthly data for CP saved successfully.\n",
      "Monthly data for SNA saved successfully.\n",
      "Monthly data for CABO saved successfully.\n",
      "Monthly data for EXP saved successfully.\n",
      "Monthly data for BKE saved successfully.\n",
      "Monthly data for NEO saved successfully.\n",
      "Monthly data for TWST saved successfully.\n",
      "Monthly data for AMH saved successfully.\n",
      "Monthly data for ARKG saved successfully.\n",
      "Monthly data for JBI saved successfully.\n",
      "Monthly data for DOW saved successfully.\n",
      "Monthly data for KWEB saved successfully.\n",
      "Monthly data for NNGPF saved successfully.\n",
      "Monthly data for UPMKF saved successfully.\n",
      "Monthly data for VALE saved successfully.\n",
      "Monthly data for PSMMY saved successfully.\n",
      "Monthly data for TGOPY saved successfully.\n"
     ]
    },
    {
     "name": "stderr",
     "output_type": "stream",
     "text": [
      "$VOLVY: possibly delisted; No price data found  (1d 2020-01-01 -> 2024-08-28)\n",
      "$NTT: possibly delisted; No price data found  (1d 2020-01-01 -> 2024-08-28)\n"
     ]
    },
    {
     "name": "stdout",
     "output_type": "stream",
     "text": [
      "Monthly data for EVRG saved successfully.\n",
      "$VOLVY: possibly delisted; No price data found  (1d 2020-01-01 -> 2024-08-28)\n",
      "Error fetching historical data for VOLVY: No historical data found for ticker\n",
      "$NTT: possibly delisted; No price data found  (1d 2020-01-01 -> 2024-08-28)\n",
      "Error fetching historical data for NTT: No historical data found for ticker\n",
      "Monthly data for WPC saved successfully.\n",
      "Monthly data for BTVCY saved successfully.\n",
      "Monthly data for ASX saved successfully.\n"
     ]
    },
    {
     "name": "stderr",
     "output_type": "stream",
     "text": [
      "$DNHBY: possibly delisted; No timezone found\n"
     ]
    },
    {
     "name": "stdout",
     "output_type": "stream",
     "text": [
      "Error fetching historical data for DNHBY: No historical data found for ticker\n",
      "Monthly data for PWCDF saved successfully.\n",
      "Monthly data for TSCDY saved successfully.\n"
     ]
    },
    {
     "name": "stderr",
     "output_type": "stream",
     "text": [
      "$SKHCY: possibly delisted; No timezone found\n"
     ]
    },
    {
     "name": "stdout",
     "output_type": "stream",
     "text": [
      "Error fetching historical data for SKHCY: No historical data found for ticker\n",
      "Monthly data for CSTL saved successfully.\n"
     ]
    },
    {
     "name": "stderr",
     "output_type": "stream",
     "text": [
      "$BANCE: possibly delisted; No timezone found\n"
     ]
    },
    {
     "name": "stdout",
     "output_type": "stream",
     "text": [
      "Error fetching historical data for BANCE: No historical data found for ticker\n",
      "Monthly data for BLKB saved successfully.\n",
      "Monthly data for FLEX saved successfully.\n",
      "Monthly data for MGA saved successfully.\n"
     ]
    },
    {
     "name": "stderr",
     "output_type": "stream",
     "text": [
      "$AZSEY: possibly delisted; No timezone found\n"
     ]
    },
    {
     "name": "stdout",
     "output_type": "stream",
     "text": [
      "Error fetching historical data for AZSEY: No historical data found for ticker\n",
      "Monthly data for TACO saved successfully.\n",
      "Monthly data for GBCI saved successfully.\n"
     ]
    },
    {
     "name": "stderr",
     "output_type": "stream",
     "text": [
      "$ANTM: possibly delisted; No timezone found\n"
     ]
    },
    {
     "name": "stdout",
     "output_type": "stream",
     "text": [
      "Error fetching historical data for ANTM: No historical data found for ticker\n"
     ]
    },
    {
     "name": "stderr",
     "output_type": "stream",
     "text": [
      "$IAA: possibly delisted; No timezone found\n"
     ]
    },
    {
     "name": "stdout",
     "output_type": "stream",
     "text": [
      "Error fetching historical data for IAA: No historical data found for ticker\n"
     ]
    },
    {
     "name": "stderr",
     "output_type": "stream",
     "text": [
      "$KMIW: possibly delisted; No timezone found\n"
     ]
    },
    {
     "name": "stdout",
     "output_type": "stream",
     "text": [
      "Error fetching historical data for KMIW: No historical data found for ticker\n",
      "Monthly data for CVNA saved successfully.\n",
      "Monthly data for GFS saved successfully.\n",
      "Monthly data for BBH saved successfully.\n"
     ]
    },
    {
     "name": "stderr",
     "output_type": "stream",
     "text": [
      "$PBCT: possibly delisted; No timezone found\n"
     ]
    },
    {
     "name": "stdout",
     "output_type": "stream",
     "text": [
      "Error fetching historical data for PBCT: No historical data found for ticker\n",
      "Monthly data for ENLC saved successfully.\n",
      "Monthly data for FANUF saved successfully.\n",
      "Monthly data for DAIUF saved successfully.\n",
      "Monthly data for TRNO saved successfully.\n",
      "Monthly data for KAI saved successfully.\n",
      "Monthly data for PI saved successfully.\n",
      "Monthly data for CGNX saved successfully.\n",
      "Monthly data for GH saved successfully.\n",
      "Monthly data for LVMHF saved successfully.\n",
      "Monthly data for IAU saved successfully.\n",
      "Monthly data for FNV saved successfully.\n",
      "Monthly data for PDM saved successfully.\n"
     ]
    },
    {
     "name": "stderr",
     "output_type": "stream",
     "text": [
      "$DISCA: possibly delisted; No timezone found\n"
     ]
    },
    {
     "name": "stdout",
     "output_type": "stream",
     "text": [
      "Error fetching historical data for DISCA: No historical data found for ticker\n",
      "Monthly data for LVS saved successfully.\n",
      "Monthly data for XYIGY saved successfully.\n",
      "Monthly data for AM saved successfully.\n",
      "Monthly data for TRI saved successfully.\n",
      "Monthly data for SCHZ saved successfully.\n"
     ]
    },
    {
     "name": "stderr",
     "output_type": "stream",
     "text": [
      "$PSXP: possibly delisted; No timezone found\n"
     ]
    },
    {
     "name": "stdout",
     "output_type": "stream",
     "text": [
      "Error fetching historical data for PSXP: No historical data found for ticker\n",
      "Monthly data for ICUI saved successfully.\n"
     ]
    },
    {
     "name": "stderr",
     "output_type": "stream",
     "text": [
      "$NUVA: possibly delisted; No timezone found\n"
     ]
    },
    {
     "name": "stdout",
     "output_type": "stream",
     "text": [
      "Error fetching historical data for NUVA: No historical data found for ticker\n",
      "Monthly data for PFFV saved successfully.\n",
      "Monthly data for FE saved successfully.\n",
      "Monthly data for VRP saved successfully.\n",
      "Monthly data for HXL saved successfully.\n",
      "Monthly data for FPE saved successfully.\n",
      "Monthly data for FSP saved successfully.\n",
      "Monthly data for GEMIX saved successfully.\n",
      "Monthly data for LUBFX saved successfully.\n",
      "Monthly data for PTMC saved successfully.\n",
      "Monthly data for BOOT saved successfully.\n",
      "Monthly data for ITA saved successfully.\n",
      "Monthly data for XAR saved successfully.\n",
      "Monthly data for EFG saved successfully.\n",
      "Monthly data for IEUR saved successfully.\n",
      "Monthly data for FLGB saved successfully.\n",
      "Monthly data for SPHB saved successfully.\n"
     ]
    },
    {
     "name": "stderr",
     "output_type": "stream",
     "text": [
      "$PBFX: possibly delisted; No timezone found\n",
      "AXTE: Period '1mo' is invalid, must be one of ['1d', '5d']\n",
      "AXHE: Period '1mo' is invalid, must be one of ['1d', '5d']\n"
     ]
    },
    {
     "name": "stdout",
     "output_type": "stream",
     "text": [
      "Error fetching historical data for PBFX: No historical data found for ticker\n",
      "Error fetching historical data for AXTE: No historical data found for ticker\n",
      "Error fetching historical data for AXHE: No historical data found for ticker\n",
      "Monthly data for ILPT saved successfully.\n",
      "Monthly data for AB saved successfully.\n",
      "Monthly data for KBA saved successfully.\n",
      "Monthly data for IVOO saved successfully.\n",
      "Monthly data for BEN saved successfully.\n",
      "Monthly data for BTC saved successfully.\n",
      "Monthly data for PSDTX saved successfully.\n",
      "Monthly data for BXMT saved successfully.\n"
     ]
    },
    {
     "name": "stderr",
     "output_type": "stream",
     "text": [
      "$ABC: possibly delisted; No timezone found\n"
     ]
    },
    {
     "name": "stdout",
     "output_type": "stream",
     "text": [
      "Error fetching historical data for ABC: No historical data found for ticker\n"
     ]
    },
    {
     "name": "stderr",
     "output_type": "stream",
     "text": [
      "HTZWW: Period '1mo' is invalid, must be one of ['1d', '5d']\n"
     ]
    },
    {
     "name": "stdout",
     "output_type": "stream",
     "text": [
      "Monthly data for PONCX saved successfully.\n",
      "Error fetching historical data for HTZWW: No historical data found for ticker\n",
      "Monthly data for PATK saved successfully.\n",
      "Monthly data for OLP saved successfully.\n",
      "Monthly data for OTIS saved successfully.\n",
      "Monthly data for DTM saved successfully.\n",
      "Monthly data for KYN saved successfully.\n",
      "Monthly data for AY saved successfully.\n",
      "Monthly data for GLAD saved successfully.\n",
      "Monthly data for PTNQ saved successfully.\n",
      "Monthly data for TDC saved successfully.\n",
      "Monthly data for FXI saved successfully.\n",
      "Monthly data for WES saved successfully.\n",
      "Monthly data for GLW saved successfully.\n",
      "Monthly data for ORMP saved successfully.\n",
      "Monthly data for GVA saved successfully.\n"
     ]
    },
    {
     "name": "stderr",
     "output_type": "stream",
     "text": [
      "$BFB: possibly delisted; No timezone found\n"
     ]
    },
    {
     "name": "stdout",
     "output_type": "stream",
     "text": [
      "Error fetching historical data for BFB: No historical data found for ticker\n",
      "Monthly data for ABQCX saved successfully.\n",
      "Monthly data for PEGA saved successfully.\n",
      "Monthly data for FGSCX saved successfully.\n",
      "Monthly data for CLOU saved successfully.\n",
      "Monthly data for NWL saved successfully.\n",
      "Monthly data for FUN saved successfully.\n"
     ]
    },
    {
     "name": "stderr",
     "output_type": "stream",
     "text": [
      "$FUND2: possibly delisted; No timezone found\n"
     ]
    },
    {
     "name": "stdout",
     "output_type": "stream",
     "text": [
      "Error fetching historical data for FUND2: No historical data found for ticker\n"
     ]
    },
    {
     "name": "stderr",
     "output_type": "stream",
     "text": [
      "$SRLP: possibly delisted; No timezone found\n"
     ]
    },
    {
     "name": "stdout",
     "output_type": "stream",
     "text": [
      "Error fetching historical data for SRLP: No historical data found for ticker\n"
     ]
    },
    {
     "name": "stderr",
     "output_type": "stream",
     "text": [
      "$FUND2LTH: possibly delisted; No timezone found\n"
     ]
    },
    {
     "name": "stdout",
     "output_type": "stream",
     "text": [
      "Error fetching historical data for FUND2LTH: No historical data found for ticker\n",
      "Monthly data for DCI saved successfully.\n",
      "Monthly data for ZM saved successfully.\n",
      "Monthly data for SLB saved successfully.\n",
      "Monthly data for HSIC saved successfully.\n",
      "Monthly data for WEX saved successfully.\n",
      "Monthly data for FHLC saved successfully.\n"
     ]
    },
    {
     "name": "stderr",
     "output_type": "stream",
     "text": [
      "$IS: possibly delisted; No timezone found\n"
     ]
    },
    {
     "name": "stdout",
     "output_type": "stream",
     "text": [
      "Error fetching historical data for IS: No historical data found for ticker\n"
     ]
    },
    {
     "name": "stderr",
     "output_type": "stream",
     "text": [
      "$INFO: possibly delisted; No timezone found\n"
     ]
    },
    {
     "name": "stdout",
     "output_type": "stream",
     "text": [
      "Error fetching historical data for INFO: No historical data found for ticker\n",
      "Monthly data for ENVA saved successfully.\n",
      "Monthly data for CLDT saved successfully.\n"
     ]
    },
    {
     "name": "stderr",
     "output_type": "stream",
     "text": [
      "$NS: possibly delisted; No timezone found\n"
     ]
    },
    {
     "name": "stdout",
     "output_type": "stream",
     "text": [
      "Error fetching historical data for NS: No historical data found for ticker\n",
      "Monthly data for PNFP saved successfully.\n",
      "Monthly data for CCEP saved successfully.\n"
     ]
    },
    {
     "name": "stderr",
     "output_type": "stream",
     "text": [
      "$BKEP: possibly delisted; No timezone found\n"
     ]
    },
    {
     "name": "stdout",
     "output_type": "stream",
     "text": [
      "Error fetching historical data for BKEP: No historical data found for ticker\n"
     ]
    },
    {
     "name": "stderr",
     "output_type": "stream",
     "text": [
      "$SPLK: possibly delisted; No timezone found\n"
     ]
    },
    {
     "name": "stdout",
     "output_type": "stream",
     "text": [
      "Error fetching historical data for SPLK: No historical data found for ticker\n",
      "Monthly data for RNR saved successfully.\n",
      "Monthly data for CSL saved successfully.\n"
     ]
    },
    {
     "name": "stderr",
     "output_type": "stream",
     "text": [
      "$SCU: possibly delisted; No timezone found\n"
     ]
    },
    {
     "name": "stdout",
     "output_type": "stream",
     "text": [
      "Error fetching historical data for SCU: No historical data found for ticker\n",
      "Monthly data for RHP saved successfully.\n",
      "Monthly data for QMCO saved successfully.\n",
      "Monthly data for IXJ saved successfully.\n"
     ]
    },
    {
     "name": "stderr",
     "output_type": "stream",
     "text": [
      "$SHLX: possibly delisted; No timezone found\n"
     ]
    },
    {
     "name": "stdout",
     "output_type": "stream",
     "text": [
      "Error fetching historical data for SHLX: No historical data found for ticker\n",
      "Monthly data for IYZ saved successfully.\n",
      "Monthly data for SPH saved successfully.\n",
      "Monthly data for ITCI saved successfully.\n",
      "Monthly data for MPLX saved successfully.\n",
      "Monthly data for CEM saved successfully.\n",
      "Monthly data for FVRR saved successfully.\n",
      "Monthly data for ITUB saved successfully.\n",
      "Monthly data for ASXC saved successfully.\n",
      "Monthly data for RNGR saved successfully.\n"
     ]
    },
    {
     "name": "stderr",
     "output_type": "stream",
     "text": [
      "$WRKV: possibly delisted; No timezone found\n"
     ]
    },
    {
     "name": "stdout",
     "output_type": "stream",
     "text": [
      "Error fetching historical data for WRKV: No historical data found for ticker\n",
      "Monthly data for PENN saved successfully.\n",
      "Monthly data for VRM saved successfully.\n",
      "Monthly data for RXT saved successfully.\n",
      "Monthly data for PAGS saved successfully.\n",
      "Monthly data for MTX saved successfully.\n"
     ]
    },
    {
     "name": "stderr",
     "output_type": "stream",
     "text": [
      "$CORPORAT: possibly delisted; No timezone found\n"
     ]
    },
    {
     "name": "stdout",
     "output_type": "stream",
     "text": [
      "Error fetching historical data for CORPORAT: No historical data found for ticker\n",
      "Monthly data for TRUP saved successfully.\n",
      "Monthly data for HBAN saved successfully.\n",
      "Monthly data for XRAY saved successfully.\n",
      "Monthly data for BCPC saved successfully.\n",
      "Monthly data for SLVM saved successfully.\n"
     ]
    },
    {
     "name": "stderr",
     "output_type": "stream",
     "text": [
      "$CTAA: possibly delisted; No timezone found\n",
      "KPLTW: Period '1mo' is invalid, must be one of ['1d', '5d']\n"
     ]
    },
    {
     "name": "stdout",
     "output_type": "stream",
     "text": [
      "Error fetching historical data for CTAA: No historical data found for ticker\n",
      "Error fetching historical data for KPLTW: No historical data found for ticker\n"
     ]
    },
    {
     "name": "stderr",
     "output_type": "stream",
     "text": [
      "$ORCC: possibly delisted; No timezone found\n"
     ]
    },
    {
     "name": "stdout",
     "output_type": "stream",
     "text": [
      "Error fetching historical data for ORCC: No historical data found for ticker\n"
     ]
    },
    {
     "name": "stderr",
     "output_type": "stream",
     "text": [
      "$OFC: possibly delisted; No timezone found\n"
     ]
    },
    {
     "name": "stdout",
     "output_type": "stream",
     "text": [
      "Error fetching historical data for OFC: No historical data found for ticker\n"
     ]
    },
    {
     "name": "stderr",
     "output_type": "stream",
     "text": [
      "$CONE: possibly delisted; No timezone found\n"
     ]
    },
    {
     "name": "stdout",
     "output_type": "stream",
     "text": [
      "Error fetching historical data for CONE: No historical data found for ticker\n",
      "Monthly data for FDIS saved successfully.\n",
      "Monthly data for LITE saved successfully.\n",
      "Monthly data for FTEC saved successfully.\n",
      "Monthly data for TDOC saved successfully.\n",
      "Monthly data for FSK saved successfully.\n",
      "Monthly data for HIPO saved successfully.\n"
     ]
    },
    {
     "name": "stderr",
     "output_type": "stream",
     "text": [
      "$UN: possibly delisted; No timezone found\n"
     ]
    },
    {
     "name": "stdout",
     "output_type": "stream",
     "text": [
      "Error fetching historical data for UN: No historical data found for ticker\n",
      "Monthly data for KYOCF saved successfully.\n",
      "Monthly data for FPEI saved successfully.\n",
      "Monthly data for MITK saved successfully.\n",
      "Monthly data for VAIAF saved successfully.\n",
      "Monthly data for TNC saved successfully.\n",
      "Monthly data for COR saved successfully.\n",
      "Monthly data for FBND saved successfully.\n",
      "Monthly data for INDB saved successfully.\n",
      "Monthly data for MAIN saved successfully.\n",
      "Monthly data for LZ saved successfully.\n",
      "Monthly data for CAPL saved successfully.\n",
      "Monthly data for EBS saved successfully.\n",
      "Monthly data for HTLD saved successfully.\n",
      "Monthly data for SRLN saved successfully.\n"
     ]
    },
    {
     "name": "stderr",
     "output_type": "stream",
     "text": [
      "$ENBL: possibly delisted; No timezone found\n"
     ]
    },
    {
     "name": "stdout",
     "output_type": "stream",
     "text": [
      "Error fetching historical data for ENBL: No historical data found for ticker\n",
      "Monthly data for MSB saved successfully.\n",
      "Monthly data for BEP saved successfully.\n",
      "Monthly data for APAM saved successfully.\n"
     ]
    },
    {
     "name": "stderr",
     "output_type": "stream",
     "text": [
      "$DWAC: possibly delisted; No timezone found\n"
     ]
    },
    {
     "name": "stdout",
     "output_type": "stream",
     "text": [
      "Error fetching historical data for DWAC: No historical data found for ticker\n"
     ]
    },
    {
     "name": "stderr",
     "output_type": "stream",
     "text": [
      "$CARDONA: possibly delisted; No timezone found\n"
     ]
    },
    {
     "name": "stdout",
     "output_type": "stream",
     "text": [
      "Error fetching historical data for CARDONA: No historical data found for ticker\n",
      "Monthly data for BE saved successfully.\n",
      "Monthly data for KPLT saved successfully.\n",
      "Monthly data for CLNE saved successfully.\n",
      "Monthly data for FMAT saved successfully.\n",
      "Monthly data for CALX saved successfully.\n",
      "Monthly data for DUKH saved successfully.\n",
      "Monthly data for DIAL saved successfully.\n",
      "Monthly data for LRNZ saved successfully.\n",
      "Monthly data for COMM saved successfully.\n",
      "Monthly data for GLP saved successfully.\n",
      "Monthly data for AAL saved successfully.\n",
      "Monthly data for GPS saved successfully.\n",
      "Monthly data for OSW saved successfully.\n",
      "Monthly data for MDNDF saved successfully.\n",
      "Monthly data for ATHM saved successfully.\n"
     ]
    },
    {
     "name": "stderr",
     "output_type": "stream",
     "text": [
      "$GCGMF: possibly delisted; No timezone found\n"
     ]
    },
    {
     "name": "stdout",
     "output_type": "stream",
     "text": [
      "Error fetching historical data for GCGMF: No historical data found for ticker\n",
      "Monthly data for NRDY saved successfully.\n",
      "Monthly data for LW saved successfully.\n",
      "Monthly data for WWD saved successfully.\n",
      "Monthly data for GEL saved successfully.\n"
     ]
    },
    {
     "name": "stderr",
     "output_type": "stream",
     "text": [
      "$WLTW: possibly delisted; No timezone found\n"
     ]
    },
    {
     "name": "stdout",
     "output_type": "stream",
     "text": [
      "Error fetching historical data for WLTW: No historical data found for ticker\n",
      "Monthly data for WCLD saved successfully.\n",
      "Monthly data for CRSP saved successfully.\n",
      "Monthly data for PEJ saved successfully.\n"
     ]
    },
    {
     "name": "stderr",
     "output_type": "stream",
     "text": [
      "$AVYA: possibly delisted; No timezone found\n"
     ]
    },
    {
     "name": "stdout",
     "output_type": "stream",
     "text": [
      "Error fetching historical data for AVYA: No historical data found for ticker\n"
     ]
    },
    {
     "name": "stderr",
     "output_type": "stream",
     "text": [
      "$RLGY: possibly delisted; No timezone found\n"
     ]
    },
    {
     "name": "stdout",
     "output_type": "stream",
     "text": [
      "Error fetching historical data for RLGY: No historical data found for ticker\n",
      "Monthly data for MDY saved successfully.\n",
      "Monthly data for GDDY saved successfully.\n",
      "Monthly data for AMJ saved successfully.\n",
      "Monthly data for BLDP saved successfully.\n",
      "Monthly data for PRGS saved successfully.\n",
      "Monthly data for PGX saved successfully.\n"
     ]
    },
    {
     "name": "stderr",
     "output_type": "stream",
     "text": [
      "$CREE: possibly delisted; No timezone found\n"
     ]
    },
    {
     "name": "stdout",
     "output_type": "stream",
     "text": [
      "Error fetching historical data for CREE: No historical data found for ticker\n",
      "Monthly data for BWA saved successfully.\n"
     ]
    },
    {
     "name": "stderr",
     "output_type": "stream",
     "text": [
      "$LMRK: possibly delisted; No timezone found\n"
     ]
    },
    {
     "name": "stdout",
     "output_type": "stream",
     "text": [
      "Error fetching historical data for LMRK: No historical data found for ticker\n",
      "Monthly data for VSCO saved successfully.\n",
      "Monthly data for XLRE saved successfully.\n",
      "Monthly data for IBUY saved successfully.\n",
      "Monthly data for NVVE saved successfully.\n",
      "Monthly data for CHWY saved successfully.\n",
      "Monthly data for WW saved successfully.\n"
     ]
    },
    {
     "name": "stderr",
     "output_type": "stream",
     "text": [
      "$ESGC: possibly delisted; No timezone found\n"
     ]
    },
    {
     "name": "stdout",
     "output_type": "stream",
     "text": [
      "Error fetching historical data for ESGC: No historical data found for ticker\n",
      "Monthly data for CNA saved successfully.\n",
      "Monthly data for TRV saved successfully.\n"
     ]
    },
    {
     "name": "stderr",
     "output_type": "stream",
     "text": [
      "$VIAC: possibly delisted; No timezone found\n"
     ]
    },
    {
     "name": "stdout",
     "output_type": "stream",
     "text": [
      "Error fetching historical data for VIAC: No historical data found for ticker\n"
     ]
    },
    {
     "name": "stderr",
     "output_type": "stream",
     "text": [
      "$ROLL: possibly delisted; No timezone found\n"
     ]
    },
    {
     "name": "stdout",
     "output_type": "stream",
     "text": [
      "Error fetching historical data for ROLL: No historical data found for ticker\n",
      "Monthly data for XPO saved successfully.\n",
      "Monthly data for ORAN saved successfully.\n",
      "Monthly data for SAM saved successfully.\n"
     ]
    },
    {
     "name": "stderr",
     "output_type": "stream",
     "text": [
      "$RDSA: possibly delisted; No timezone found\n"
     ]
    },
    {
     "name": "stdout",
     "output_type": "stream",
     "text": [
      "Error fetching historical data for RDSA: No historical data found for ticker\n"
     ]
    },
    {
     "name": "stderr",
     "output_type": "stream",
     "text": [
      "$QTS: possibly delisted; No timezone found\n"
     ]
    },
    {
     "name": "stdout",
     "output_type": "stream",
     "text": [
      "Error fetching historical data for QTS: No historical data found for ticker\n"
     ]
    },
    {
     "name": "stderr",
     "output_type": "stream",
     "text": [
      "$MONTGOMERYAL2SCHAUMBERGIL1: possibly delisted; No timezone found\n"
     ]
    },
    {
     "name": "stdout",
     "output_type": "stream",
     "text": [
      "Error fetching historical data for MONTGOMERYAL2SCHAUMBERGIL1: No historical data found for ticker\n"
     ]
    },
    {
     "name": "stderr",
     "output_type": "stream",
     "text": [
      "$ALXN: possibly delisted; No timezone found\n"
     ]
    },
    {
     "name": "stdout",
     "output_type": "stream",
     "text": [
      "Error fetching historical data for ALXN: No historical data found for ticker\n",
      "Monthly data for MTUM saved successfully.\n",
      "Monthly data for DTD saved successfully.\n"
     ]
    },
    {
     "name": "stderr",
     "output_type": "stream",
     "text": [
      "$NLOK: possibly delisted; No timezone found\n",
      "$LTD: possibly delisted; No price data found  (1d 2020-01-01 -> 2024-08-28)\n"
     ]
    },
    {
     "name": "stdout",
     "output_type": "stream",
     "text": [
      "Error fetching historical data for NLOK: No historical data found for ticker\n",
      "$LTD: possibly delisted; No price data found  (1d 2020-01-01 -> 2024-08-28)\n",
      "Error fetching historical data for LTD: No historical data found for ticker\n",
      "Monthly data for VXX saved successfully.\n"
     ]
    },
    {
     "name": "stderr",
     "output_type": "stream",
     "text": [
      "$AESE: possibly delisted; No timezone found\n"
     ]
    },
    {
     "name": "stdout",
     "output_type": "stream",
     "text": [
      "Error fetching historical data for AESE: No historical data found for ticker\n"
     ]
    },
    {
     "name": "stderr",
     "output_type": "stream",
     "text": [
      "FDRXX: Period '1mo' is invalid, must be one of ['1d', '5d']\n"
     ]
    },
    {
     "name": "stdout",
     "output_type": "stream",
     "text": [
      "Monthly data for FBALX saved successfully.\n",
      "Error fetching historical data for FDRXX: No historical data found for ticker\n",
      "Monthly data for MRIN saved successfully.\n",
      "Monthly data for NVCR saved successfully.\n",
      "Monthly data for AMZA saved successfully.\n",
      "Monthly data for HNDL saved successfully.\n",
      "Monthly data for TOTZF saved successfully.\n",
      "Monthly data for ETV saved successfully.\n"
     ]
    },
    {
     "name": "stderr",
     "output_type": "stream",
     "text": [
      "$CDK: possibly delisted; No timezone found\n"
     ]
    },
    {
     "name": "stdout",
     "output_type": "stream",
     "text": [
      "Error fetching historical data for CDK: No historical data found for ticker\n",
      "Monthly data for AQB saved successfully.\n",
      "Monthly data for RAMP saved successfully.\n",
      "Monthly data for TRIT saved successfully.\n",
      "Monthly data for TNL saved successfully.\n",
      "Monthly data for OGN saved successfully.\n",
      "Monthly data for SITE saved successfully.\n",
      "Monthly data for MTDR saved successfully.\n"
     ]
    },
    {
     "name": "stderr",
     "output_type": "stream",
     "text": [
      "$STOR: possibly delisted; No timezone found\n",
      "$BHI: possibly delisted; No price data found  (1d 2020-01-01 -> 2024-08-28)\n"
     ]
    },
    {
     "name": "stdout",
     "output_type": "stream",
     "text": [
      "Error fetching historical data for STOR: No historical data found for ticker\n",
      "$BHI: possibly delisted; No price data found  (1d 2020-01-01 -> 2024-08-28)\n",
      "Error fetching historical data for BHI: No historical data found for ticker\n",
      "Monthly data for GME saved successfully.\n",
      "Monthly data for LEA saved successfully.\n"
     ]
    },
    {
     "name": "stderr",
     "output_type": "stream",
     "text": [
      "$CCC: possibly delisted; No timezone found\n"
     ]
    },
    {
     "name": "stdout",
     "output_type": "stream",
     "text": [
      "Error fetching historical data for CCC: No historical data found for ticker\n",
      "Monthly data for PLTR saved successfully.\n",
      "Monthly data for AMRC saved successfully.\n",
      "Monthly data for TTEK saved successfully.\n",
      "Monthly data for DOV saved successfully.\n"
     ]
    },
    {
     "name": "stderr",
     "output_type": "stream",
     "text": [
      "$ALYF: possibly delisted; No timezone found\n"
     ]
    },
    {
     "name": "stdout",
     "output_type": "stream",
     "text": [
      "Error fetching historical data for ALYF: No historical data found for ticker\n"
     ]
    },
    {
     "name": "stderr",
     "output_type": "stream",
     "text": [
      "$STAY: possibly delisted; No timezone found\n"
     ]
    },
    {
     "name": "stdout",
     "output_type": "stream",
     "text": [
      "Error fetching historical data for STAY: No historical data found for ticker\n",
      "Monthly data for GBTC saved successfully.\n",
      "Monthly data for TBBC saved successfully.\n",
      "Monthly data for ETHE saved successfully.\n",
      "Monthly data for WLK saved successfully.\n",
      "Monthly data for VRSN saved successfully.\n",
      "Monthly data for CWH saved successfully.\n"
     ]
    },
    {
     "name": "stderr",
     "output_type": "stream",
     "text": [
      "$TCF: possibly delisted; No timezone found\n"
     ]
    },
    {
     "name": "stdout",
     "output_type": "stream",
     "text": [
      "Error fetching historical data for TCF: No historical data found for ticker\n",
      "Monthly data for TER saved successfully.\n",
      "Monthly data for SF saved successfully.\n",
      "Monthly data for ATRC saved successfully.\n",
      "Monthly data for JNPR saved successfully.\n"
     ]
    },
    {
     "name": "stderr",
     "output_type": "stream",
     "text": [
      "$MANT: possibly delisted; No timezone found\n"
     ]
    },
    {
     "name": "stdout",
     "output_type": "stream",
     "text": [
      "Error fetching historical data for MANT: No historical data found for ticker\n",
      "Monthly data for IPGP saved successfully.\n",
      "Monthly data for DOCU saved successfully.\n",
      "Monthly data for LEG saved successfully.\n",
      "Monthly data for WSM saved successfully.\n"
     ]
    },
    {
     "name": "stderr",
     "output_type": "stream",
     "text": [
      "$TPCO: possibly delisted; No timezone found\n"
     ]
    },
    {
     "name": "stdout",
     "output_type": "stream",
     "text": [
      "Error fetching historical data for TPCO: No historical data found for ticker\n",
      "Monthly data for DIN saved successfully.\n",
      "Monthly data for CHGG saved successfully.\n",
      "Monthly data for CELC saved successfully.\n",
      "Monthly data for BALY saved successfully.\n"
     ]
    },
    {
     "name": "stderr",
     "output_type": "stream",
     "text": [
      "$FFG: possibly delisted; No timezone found\n"
     ]
    },
    {
     "name": "stdout",
     "output_type": "stream",
     "text": [
      "Error fetching historical data for FFG: No historical data found for ticker\n"
     ]
    },
    {
     "name": "stderr",
     "output_type": "stream",
     "text": [
      "$VVNT: possibly delisted; No timezone found\n"
     ]
    },
    {
     "name": "stdout",
     "output_type": "stream",
     "text": [
      "Error fetching historical data for VVNT: No historical data found for ticker\n"
     ]
    },
    {
     "name": "stderr",
     "output_type": "stream",
     "text": [
      "$BRKS: possibly delisted; No timezone found\n"
     ]
    },
    {
     "name": "stdout",
     "output_type": "stream",
     "text": [
      "Error fetching historical data for BRKS: No historical data found for ticker\n",
      "Monthly data for TLK saved successfully.\n",
      "Monthly data for AEIS saved successfully.\n"
     ]
    },
    {
     "name": "stderr",
     "output_type": "stream",
     "text": [
      "$BOWX: possibly delisted; No timezone found\n"
     ]
    },
    {
     "name": "stdout",
     "output_type": "stream",
     "text": [
      "Error fetching historical data for BOWX: No historical data found for ticker\n",
      "Monthly data for NIO saved successfully.\n",
      "Monthly data for VMC saved successfully.\n"
     ]
    },
    {
     "name": "stderr",
     "output_type": "stream",
     "text": [
      "$APPAD: possibly delisted; No timezone found\n"
     ]
    },
    {
     "name": "stdout",
     "output_type": "stream",
     "text": [
      "Error fetching historical data for APPAD: No historical data found for ticker\n",
      "Monthly data for FDSWX saved successfully.\n",
      "Monthly data for LDNXF saved successfully.\n"
     ]
    },
    {
     "name": "stderr",
     "output_type": "stream",
     "text": [
      "$FL4SG: possibly delisted; No timezone found\n"
     ]
    },
    {
     "name": "stdout",
     "output_type": "stream",
     "text": [
      "Error fetching historical data for FL4SG: No historical data found for ticker\n",
      "Monthly data for KTOS saved successfully.\n",
      "Monthly data for ICSH saved successfully.\n",
      "Monthly data for HNST saved successfully.\n",
      "Monthly data for QRTEA saved successfully.\n",
      "Monthly data for HAE saved successfully.\n",
      "Monthly data for LL saved successfully.\n",
      "Monthly data for PCRX saved successfully.\n",
      "Monthly data for TREE saved successfully.\n",
      "Monthly data for SABR saved successfully.\n"
     ]
    },
    {
     "name": "stderr",
     "output_type": "stream",
     "text": [
      "$BRP: possibly delisted; No timezone found\n"
     ]
    },
    {
     "name": "stdout",
     "output_type": "stream",
     "text": [
      "Error fetching historical data for BRP: No historical data found for ticker\n"
     ]
    },
    {
     "name": "stderr",
     "output_type": "stream",
     "text": [
      "$GSS: possibly delisted; No timezone found\n"
     ]
    },
    {
     "name": "stdout",
     "output_type": "stream",
     "text": [
      "Error fetching historical data for GSS: No historical data found for ticker\n",
      "Monthly data for YTRA saved successfully.\n"
     ]
    },
    {
     "name": "stderr",
     "output_type": "stream",
     "text": [
      "$GFN: possibly delisted; No timezone found\n"
     ]
    },
    {
     "name": "stdout",
     "output_type": "stream",
     "text": [
      "Error fetching historical data for GFN: No historical data found for ticker\n",
      "Monthly data for EMKR saved successfully.\n",
      "Monthly data for TGNA saved successfully.\n",
      "Monthly data for GPRO saved successfully.\n"
     ]
    },
    {
     "name": "stderr",
     "output_type": "stream",
     "text": [
      "$PARTINTEREST: possibly delisted; No timezone found\n"
     ]
    },
    {
     "name": "stdout",
     "output_type": "stream",
     "text": [
      "Error fetching historical data for PARTINTEREST: No historical data found for ticker\n"
     ]
    },
    {
     "name": "stderr",
     "output_type": "stream",
     "text": [
      "$VAR: possibly delisted; No timezone found\n"
     ]
    },
    {
     "name": "stdout",
     "output_type": "stream",
     "text": [
      "Error fetching historical data for VAR: No historical data found for ticker\n",
      "Monthly data for VPU saved successfully.\n"
     ]
    },
    {
     "name": "stderr",
     "output_type": "stream",
     "text": [
      "$BPMP: possibly delisted; No timezone found\n"
     ]
    },
    {
     "name": "stdout",
     "output_type": "stream",
     "text": [
      "Error fetching historical data for BPMP: No historical data found for ticker\n",
      "Monthly data for SU saved successfully.\n",
      "Monthly data for RHHBF saved successfully.\n",
      "Monthly data for GAN saved successfully.\n"
     ]
    },
    {
     "name": "stderr",
     "output_type": "stream",
     "text": [
      "$NUAN: possibly delisted; No timezone found\n"
     ]
    },
    {
     "name": "stdout",
     "output_type": "stream",
     "text": [
      "Error fetching historical data for NUAN: No historical data found for ticker\n",
      "Monthly data for AMTX saved successfully.\n",
      "Monthly data for ORA saved successfully.\n",
      "Monthly data for OMCL saved successfully.\n"
     ]
    },
    {
     "name": "stderr",
     "output_type": "stream",
     "text": [
      "$CMLTU: possibly delisted; No timezone found\n"
     ]
    },
    {
     "name": "stdout",
     "output_type": "stream",
     "text": [
      "Error fetching historical data for CMLTU: No historical data found for ticker\n",
      "Monthly data for NYT saved successfully.\n",
      "Monthly data for WAB saved successfully.\n",
      "Monthly data for CENT saved successfully.\n",
      "Monthly data for CWEN saved successfully.\n",
      "Monthly data for HOFV saved successfully.\n"
     ]
    },
    {
     "name": "stderr",
     "output_type": "stream",
     "text": [
      "$ETWOW: possibly delisted; No timezone found\n"
     ]
    },
    {
     "name": "stdout",
     "output_type": "stream",
     "text": [
      "Error fetching historical data for ETWOW: No historical data found for ticker\n",
      "Monthly data for SHAK saved successfully.\n",
      "Monthly data for QCRH saved successfully.\n",
      "Monthly data for HRTX saved successfully.\n",
      "Monthly data for FUND saved successfully.\n",
      "Monthly data for GTN saved successfully.\n",
      "Monthly data for CACI saved successfully.\n",
      "Monthly data for MCS saved successfully.\n",
      "Monthly data for IEX saved successfully.\n",
      "Monthly data for EBAY saved successfully.\n"
     ]
    },
    {
     "name": "stderr",
     "output_type": "stream",
     "text": [
      "$CNR: possibly delisted; No timezone found\n"
     ]
    },
    {
     "name": "stdout",
     "output_type": "stream",
     "text": [
      "Error fetching historical data for CNR: No historical data found for ticker\n"
     ]
    },
    {
     "name": "stderr",
     "output_type": "stream",
     "text": [
      "$NASDAQ: possibly delisted; No price data found  (1d 2020-01-01 -> 2024-08-28)\n"
     ]
    },
    {
     "name": "stdout",
     "output_type": "stream",
     "text": [
      "Monthly data for QRTEP saved successfully.\n",
      "$NASDAQ: possibly delisted; No price data found  (1d 2020-01-01 -> 2024-08-28)\n",
      "Error fetching historical data for NASDAQ: No historical data found for ticker\n",
      "Monthly data for GDRX saved successfully.\n",
      "Monthly data for NI saved successfully.\n",
      "Monthly data for BJ saved successfully.\n",
      "Monthly data for ARMK saved successfully.\n",
      "Monthly data for ACST saved successfully.\n",
      "Monthly data for CTRM saved successfully.\n",
      "Monthly data for ESTC saved successfully.\n"
     ]
    },
    {
     "name": "stderr",
     "output_type": "stream",
     "text": [
      "$RDSA: possibly delisted; No timezone found\n"
     ]
    },
    {
     "name": "stdout",
     "output_type": "stream",
     "text": [
      "Error fetching historical data for RDSA: No historical data found for ticker\n",
      "Monthly data for ROG saved successfully.\n",
      "Monthly data for HCRB saved successfully.\n"
     ]
    },
    {
     "name": "stderr",
     "output_type": "stream",
     "text": [
      "$CMLFU: possibly delisted; No timezone found\n"
     ]
    },
    {
     "name": "stdout",
     "output_type": "stream",
     "text": [
      "Error fetching historical data for CMLFU: No historical data found for ticker\n",
      "Monthly data for POOL saved successfully.\n",
      "Monthly data for VOX saved successfully.\n"
     ]
    },
    {
     "name": "stderr",
     "output_type": "stream",
     "text": [
      "$DBAELLIOTT: possibly delisted; No timezone found\n"
     ]
    },
    {
     "name": "stdout",
     "output_type": "stream",
     "text": [
      "Error fetching historical data for DBAELLIOTT: No historical data found for ticker\n",
      "Monthly data for NCLH saved successfully.\n",
      "Monthly data for FIVN saved successfully.\n",
      "Monthly data for SLAB saved successfully.\n"
     ]
    },
    {
     "name": "stderr",
     "output_type": "stream",
     "text": [
      "$PFPT: possibly delisted; No timezone found\n"
     ]
    },
    {
     "name": "stdout",
     "output_type": "stream",
     "text": [
      "Error fetching historical data for PFPT: No historical data found for ticker\n",
      "Monthly data for BKR saved successfully.\n"
     ]
    },
    {
     "name": "stderr",
     "output_type": "stream",
     "text": [
      "$VIVO: possibly delisted; No timezone found\n"
     ]
    },
    {
     "name": "stdout",
     "output_type": "stream",
     "text": [
      "Error fetching historical data for VIVO: No historical data found for ticker\n",
      "Monthly data for OSUR saved successfully.\n",
      "Monthly data for WSC saved successfully.\n",
      "Monthly data for GPC saved successfully.\n"
     ]
    },
    {
     "name": "stderr",
     "output_type": "stream",
     "text": [
      "$DGNR: possibly delisted; No timezone found\n"
     ]
    },
    {
     "name": "stdout",
     "output_type": "stream",
     "text": [
      "Error fetching historical data for DGNR: No historical data found for ticker\n"
     ]
    },
    {
     "name": "stderr",
     "output_type": "stream",
     "text": [
      "$APHA: possibly delisted; No timezone found\n"
     ]
    },
    {
     "name": "stdout",
     "output_type": "stream",
     "text": [
      "Error fetching historical data for APHA: No historical data found for ticker\n",
      "Monthly data for LUKOY saved successfully.\n",
      "Monthly data for FUPBY saved successfully.\n",
      "Monthly data for BL saved successfully.\n",
      "Monthly data for CNI saved successfully.\n",
      "Monthly data for ERJ saved successfully.\n"
     ]
    },
    {
     "name": "stderr",
     "output_type": "stream",
     "text": [
      "$RDSB: possibly delisted; No timezone found\n"
     ]
    },
    {
     "name": "stdout",
     "output_type": "stream",
     "text": [
      "Error fetching historical data for RDSB: No historical data found for ticker\n",
      "Monthly data for ABEV saved successfully.\n"
     ]
    },
    {
     "name": "stderr",
     "output_type": "stream",
     "text": [
      "$CLGX: possibly delisted; No timezone found\n"
     ]
    },
    {
     "name": "stdout",
     "output_type": "stream",
     "text": [
      "Error fetching historical data for CLGX: No historical data found for ticker\n",
      "Monthly data for AOSL saved successfully.\n"
     ]
    },
    {
     "name": "stderr",
     "output_type": "stream",
     "text": [
      "$HRC: possibly delisted; No timezone found\n"
     ]
    },
    {
     "name": "stdout",
     "output_type": "stream",
     "text": [
      "Error fetching historical data for HRC: No historical data found for ticker\n",
      "Monthly data for AL saved successfully.\n",
      "Monthly data for ST saved successfully.\n",
      "Monthly data for EHC saved successfully.\n"
     ]
    },
    {
     "name": "stderr",
     "output_type": "stream",
     "text": [
      "$SOLO: possibly delisted; No timezone found\n"
     ]
    },
    {
     "name": "stdout",
     "output_type": "stream",
     "text": [
      "Error fetching historical data for SOLO: No historical data found for ticker\n"
     ]
    },
    {
     "name": "stderr",
     "output_type": "stream",
     "text": [
      "$SC: possibly delisted; No timezone found\n"
     ]
    },
    {
     "name": "stdout",
     "output_type": "stream",
     "text": [
      "Error fetching historical data for SC: No historical data found for ticker\n",
      "Monthly data for LYB saved successfully.\n"
     ]
    },
    {
     "name": "stderr",
     "output_type": "stream",
     "text": [
      "$XEC: possibly delisted; No timezone found\n"
     ]
    },
    {
     "name": "stdout",
     "output_type": "stream",
     "text": [
      "Error fetching historical data for XEC: No historical data found for ticker\n"
     ]
    },
    {
     "name": "stderr",
     "output_type": "stream",
     "text": [
      "$ATH: possibly delisted; No timezone found\n"
     ]
    },
    {
     "name": "stdout",
     "output_type": "stream",
     "text": [
      "Error fetching historical data for ATH: No historical data found for ticker\n"
     ]
    },
    {
     "name": "stderr",
     "output_type": "stream",
     "text": [
      "$UNVR: possibly delisted; No timezone found\n"
     ]
    },
    {
     "name": "stdout",
     "output_type": "stream",
     "text": [
      "Error fetching historical data for UNVR: No historical data found for ticker\n"
     ]
    },
    {
     "name": "stderr",
     "output_type": "stream",
     "text": [
      "$WYND: possibly delisted; No timezone found\n"
     ]
    },
    {
     "name": "stdout",
     "output_type": "stream",
     "text": [
      "Error fetching historical data for WYND: No historical data found for ticker\n",
      "Monthly data for OMF saved successfully.\n",
      "Monthly data for OKTA saved successfully.\n",
      "Monthly data for LYFT saved successfully.\n",
      "Monthly data for DXC saved successfully.\n",
      "Monthly data for IPWR saved successfully.\n",
      "Monthly data for ZG saved successfully.\n",
      "Monthly data for TOL saved successfully.\n",
      "Monthly data for WH saved successfully.\n",
      "Monthly data for SEE saved successfully.\n"
     ]
    },
    {
     "name": "stderr",
     "output_type": "stream",
     "text": [
      "$ARNA: possibly delisted; No timezone found\n"
     ]
    },
    {
     "name": "stdout",
     "output_type": "stream",
     "text": [
      "Error fetching historical data for ARNA: No historical data found for ticker\n",
      "Monthly data for FEMS saved successfully.\n",
      "Monthly data for GGSM saved successfully.\n",
      "Monthly data for EEM saved successfully.\n",
      "Monthly data for CRON saved successfully.\n"
     ]
    },
    {
     "name": "stderr",
     "output_type": "stream",
     "text": [
      "$GRUB: possibly delisted; No timezone found\n"
     ]
    },
    {
     "name": "stdout",
     "output_type": "stream",
     "text": [
      "Error fetching historical data for GRUB: No historical data found for ticker\n",
      "Monthly data for ACB saved successfully.\n",
      "Monthly data for CGC saved successfully.\n",
      "Monthly data for AAIGF saved successfully.\n",
      "Monthly data for MJNA saved successfully.\n",
      "Monthly data for YETI saved successfully.\n",
      "Monthly data for DOMO saved successfully.\n"
     ]
    },
    {
     "name": "stderr",
     "output_type": "stream",
     "text": [
      "$QUMU: possibly delisted; No timezone found\n"
     ]
    },
    {
     "name": "stdout",
     "output_type": "stream",
     "text": [
      "Error fetching historical data for QUMU: No historical data found for ticker\n",
      "Monthly data for XCAPX saved successfully.\n",
      "Monthly data for HUM saved successfully.\n",
      "Monthly data for DMTK saved successfully.\n",
      "Monthly data for DDD saved successfully.\n",
      "Monthly data for PPC saved successfully.\n"
     ]
    },
    {
     "name": "stderr",
     "output_type": "stream",
     "text": [
      "$EVOP: possibly delisted; No timezone found\n"
     ]
    },
    {
     "name": "stdout",
     "output_type": "stream",
     "text": [
      "Error fetching historical data for EVOP: No historical data found for ticker\n",
      "Monthly data for FSLY saved successfully.\n"
     ]
    },
    {
     "name": "stderr",
     "output_type": "stream",
     "text": [
      "$JIH: possibly delisted; No timezone found\n"
     ]
    },
    {
     "name": "stdout",
     "output_type": "stream",
     "text": [
      "Error fetching historical data for JIH: No historical data found for ticker\n",
      "Monthly data for LEE saved successfully.\n"
     ]
    },
    {
     "name": "stderr",
     "output_type": "stream",
     "text": [
      "$LMACU: possibly delisted; No timezone found\n"
     ]
    },
    {
     "name": "stdout",
     "output_type": "stream",
     "text": [
      "Error fetching historical data for LMACU: No historical data found for ticker\n"
     ]
    },
    {
     "name": "stderr",
     "output_type": "stream",
     "text": [
      "$NYMX: possibly delisted; No timezone found\n"
     ]
    },
    {
     "name": "stdout",
     "output_type": "stream",
     "text": [
      "Error fetching historical data for NYMX: No historical data found for ticker\n",
      "Monthly data for SJM saved successfully.\n",
      "Monthly data for DKNG saved successfully.\n",
      "Monthly data for GBDC saved successfully.\n",
      "Monthly data for SDOG saved successfully.\n"
     ]
    },
    {
     "name": "stderr",
     "output_type": "stream",
     "text": [
      "$ZOOM: possibly delisted; No timezone found\n"
     ]
    },
    {
     "name": "stdout",
     "output_type": "stream",
     "text": [
      "Error fetching historical data for ZOOM: No historical data found for ticker\n",
      "Monthly data for DAN saved successfully.\n",
      "Monthly data for JETS saved successfully.\n"
     ]
    },
    {
     "name": "stderr",
     "output_type": "stream",
     "text": [
      "$PCPL: possibly delisted; No timezone found\n"
     ]
    },
    {
     "name": "stdout",
     "output_type": "stream",
     "text": [
      "Error fetching historical data for PCPL: No historical data found for ticker\n"
     ]
    },
    {
     "name": "stderr",
     "output_type": "stream",
     "text": [
      "$AUY: possibly delisted; No timezone found\n"
     ]
    },
    {
     "name": "stdout",
     "output_type": "stream",
     "text": [
      "Error fetching historical data for AUY: No historical data found for ticker\n",
      "Monthly data for TKC saved successfully.\n",
      "Monthly data for MLYNF saved successfully.\n",
      "Monthly data for TSCDF saved successfully.\n"
     ]
    },
    {
     "name": "stderr",
     "output_type": "stream",
     "text": [
      "$NCMGF: possibly delisted; No timezone found\n"
     ]
    },
    {
     "name": "stdout",
     "output_type": "stream",
     "text": [
      "Error fetching historical data for NCMGF: No historical data found for ticker\n",
      "Monthly data for RODM saved successfully.\n",
      "Monthly data for JGCCF saved successfully.\n"
     ]
    },
    {
     "name": "stderr",
     "output_type": "stream",
     "text": [
      "$VIVV: possibly delisted; No timezone found\n"
     ]
    },
    {
     "name": "stdout",
     "output_type": "stream",
     "text": [
      "Error fetching historical data for VIVV: No historical data found for ticker\n",
      "Monthly data for WOLWF saved successfully.\n",
      "Monthly data for OGFGF saved successfully.\n",
      "Monthly data for MJDLF saved successfully.\n",
      "Monthly data for PDS saved successfully.\n"
     ]
    },
    {
     "name": "stderr",
     "output_type": "stream",
     "text": [
      "$CEMCF: possibly delisted; No timezone found\n"
     ]
    },
    {
     "name": "stdout",
     "output_type": "stream",
     "text": [
      "Error fetching historical data for CEMCF: No historical data found for ticker\n"
     ]
    },
    {
     "name": "stderr",
     "output_type": "stream",
     "text": [
      "$WAIR: possibly delisted; No timezone found\n"
     ]
    },
    {
     "name": "stdout",
     "output_type": "stream",
     "text": [
      "Error fetching historical data for WAIR: No historical data found for ticker\n",
      "Monthly data for CIG saved successfully.\n"
     ]
    },
    {
     "name": "stderr",
     "output_type": "stream",
     "text": [
      "$FSKR: possibly delisted; No timezone found\n"
     ]
    },
    {
     "name": "stdout",
     "output_type": "stream",
     "text": [
      "Error fetching historical data for FSKR: No historical data found for ticker\n",
      "Monthly data for VIV saved successfully.\n",
      "Monthly data for AIO saved successfully.\n"
     ]
    },
    {
     "name": "stderr",
     "output_type": "stream",
     "text": [
      "$FEYE: possibly delisted; No timezone found\n"
     ]
    },
    {
     "name": "stdout",
     "output_type": "stream",
     "text": [
      "Error fetching historical data for FEYE: No historical data found for ticker\n",
      "Monthly data for ACGL saved successfully.\n"
     ]
    },
    {
     "name": "stderr",
     "output_type": "stream",
     "text": [
      "$AJRD: possibly delisted; No timezone found\n"
     ]
    },
    {
     "name": "stdout",
     "output_type": "stream",
     "text": [
      "Error fetching historical data for AJRD: No historical data found for ticker\n"
     ]
    },
    {
     "name": "stderr",
     "output_type": "stream",
     "text": [
      "$TIF: possibly delisted; No timezone found\n"
     ]
    },
    {
     "name": "stdout",
     "output_type": "stream",
     "text": [
      "Error fetching historical data for TIF: No historical data found for ticker\n",
      "Monthly data for LI saved successfully.\n"
     ]
    },
    {
     "name": "stderr",
     "output_type": "stream",
     "text": [
      "$CHNG: possibly delisted; No timezone found\n"
     ]
    },
    {
     "name": "stdout",
     "output_type": "stream",
     "text": [
      "Error fetching historical data for CHNG: No historical data found for ticker\n",
      "Monthly data for CNF saved successfully.\n"
     ]
    },
    {
     "name": "stderr",
     "output_type": "stream",
     "text": [
      "$FLIR: possibly delisted; No timezone found\n"
     ]
    },
    {
     "name": "stdout",
     "output_type": "stream",
     "text": [
      "Error fetching historical data for FLIR: No historical data found for ticker\n"
     ]
    },
    {
     "name": "stderr",
     "output_type": "stream",
     "text": [
      "$PCPLU: possibly delisted; No timezone found\n"
     ]
    },
    {
     "name": "stdout",
     "output_type": "stream",
     "text": [
      "Error fetching historical data for PCPLU: No historical data found for ticker\n",
      "Monthly data for QQXT saved successfully.\n",
      "Monthly data for XLB saved successfully.\n",
      "Monthly data for ARW saved successfully.\n",
      "Monthly data for SRNE saved successfully.\n",
      "Monthly data for LB saved successfully.\n",
      "Monthly data for ASMB saved successfully.\n",
      "Monthly data for XLF saved successfully.\n"
     ]
    },
    {
     "name": "stderr",
     "output_type": "stream",
     "text": [
      "$RETA: possibly delisted; No timezone found\n"
     ]
    },
    {
     "name": "stdout",
     "output_type": "stream",
     "text": [
      "Error fetching historical data for RETA: No historical data found for ticker\n",
      "Monthly data for EDU saved successfully.\n",
      "Monthly data for HII saved successfully.\n"
     ]
    },
    {
     "name": "stderr",
     "output_type": "stream",
     "text": [
      "$PSTH: possibly delisted; No timezone found\n"
     ]
    },
    {
     "name": "stdout",
     "output_type": "stream",
     "text": [
      "Error fetching historical data for PSTH: No historical data found for ticker\n"
     ]
    },
    {
     "name": "stderr",
     "output_type": "stream",
     "text": [
      "$HDS: possibly delisted; No timezone found\n"
     ]
    },
    {
     "name": "stdout",
     "output_type": "stream",
     "text": [
      "Error fetching historical data for HDS: No historical data found for ticker\n"
     ]
    },
    {
     "name": "stderr",
     "output_type": "stream",
     "text": [
      "$NGLS: possibly delisted; No price data found  (1d 2020-01-01 -> 2024-08-28)\n"
     ]
    },
    {
     "name": "stdout",
     "output_type": "stream",
     "text": [
      "Monthly data for FTDR saved successfully.\n",
      "$NGLS: possibly delisted; No price data found  (1d 2020-01-01 -> 2024-08-28)\n",
      "Error fetching historical data for NGLS: No historical data found for ticker\n",
      "Monthly data for NBIX saved successfully.\n",
      "Monthly data for EXPI saved successfully.\n",
      "Monthly data for ETY saved successfully.\n"
     ]
    },
    {
     "name": "stderr",
     "output_type": "stream",
     "text": [
      "$CHL: possibly delisted; No timezone found\n"
     ]
    },
    {
     "name": "stdout",
     "output_type": "stream",
     "text": [
      "Error fetching historical data for CHL: No historical data found for ticker\n"
     ]
    },
    {
     "name": "stderr",
     "output_type": "stream",
     "text": [
      "$CTXS: possibly delisted; No timezone found\n"
     ]
    },
    {
     "name": "stdout",
     "output_type": "stream",
     "text": [
      "Error fetching historical data for CTXS: No historical data found for ticker\n"
     ]
    },
    {
     "name": "stderr",
     "output_type": "stream",
     "text": [
      "$ARNC: possibly delisted; No timezone found\n"
     ]
    },
    {
     "name": "stdout",
     "output_type": "stream",
     "text": [
      "Error fetching historical data for ARNC: No historical data found for ticker\n",
      "Monthly data for VSAT saved successfully.\n"
     ]
    },
    {
     "name": "stderr",
     "output_type": "stream",
     "text": [
      "$CATM: possibly delisted; No timezone found\n"
     ]
    },
    {
     "name": "stdout",
     "output_type": "stream",
     "text": [
      "Error fetching historical data for CATM: No historical data found for ticker\n"
     ]
    },
    {
     "name": "stderr",
     "output_type": "stream",
     "text": [
      "$RAD: possibly delisted; No timezone found\n"
     ]
    },
    {
     "name": "stdout",
     "output_type": "stream",
     "text": [
      "Error fetching historical data for RAD: No historical data found for ticker\n"
     ]
    },
    {
     "name": "stderr",
     "output_type": "stream",
     "text": [
      "$DNKN: possibly delisted; No timezone found\n"
     ]
    },
    {
     "name": "stdout",
     "output_type": "stream",
     "text": [
      "Error fetching historical data for DNKN: No historical data found for ticker\n"
     ]
    },
    {
     "name": "stderr",
     "output_type": "stream",
     "text": [
      "$PRAH: possibly delisted; No timezone found\n"
     ]
    },
    {
     "name": "stdout",
     "output_type": "stream",
     "text": [
      "Error fetching historical data for PRAH: No historical data found for ticker\n"
     ]
    },
    {
     "name": "stderr",
     "output_type": "stream",
     "text": [
      "$SNE: possibly delisted; No timezone found\n"
     ]
    },
    {
     "name": "stdout",
     "output_type": "stream",
     "text": [
      "Error fetching historical data for SNE: No historical data found for ticker\n",
      "Monthly data for AIV saved successfully.\n",
      "Monthly data for THR saved successfully.\n",
      "Monthly data for NVGS saved successfully.\n",
      "Monthly data for ZUO saved successfully.\n",
      "Monthly data for BLUE saved successfully.\n",
      "Monthly data for GSLC saved successfully.\n"
     ]
    },
    {
     "name": "stderr",
     "output_type": "stream",
     "text": [
      "$CEQP: possibly delisted; No timezone found\n"
     ]
    },
    {
     "name": "stdout",
     "output_type": "stream",
     "text": [
      "Error fetching historical data for CEQP: No historical data found for ticker\n"
     ]
    },
    {
     "name": "stderr",
     "output_type": "stream",
     "text": [
      "$WORK: possibly delisted; No timezone found\n"
     ]
    },
    {
     "name": "stdout",
     "output_type": "stream",
     "text": [
      "Error fetching historical data for WORK: No historical data found for ticker\n",
      "Monthly data for NTRP saved successfully.\n",
      "Error fetching data for ZBRA: HTTPSConnectionPool(host='query2.finance.yahoo.com', port=443): Read timed out.\n",
      "Error fetching data for ZBRA: HTTPSConnectionPool(host='query2.finance.yahoo.com', port=443): Read timed out.\n",
      "Monthly data for ZBRA saved successfully.\n",
      "Monthly data for LAND saved successfully.\n"
     ]
    },
    {
     "name": "stderr",
     "output_type": "stream",
     "text": [
      "$BGG: possibly delisted; No timezone found\n"
     ]
    },
    {
     "name": "stdout",
     "output_type": "stream",
     "text": [
      "Error fetching historical data for BGG: No historical data found for ticker\n"
     ]
    },
    {
     "name": "stderr",
     "output_type": "stream",
     "text": [
      "$CCMP: possibly delisted; No timezone found\n"
     ]
    },
    {
     "name": "stdout",
     "output_type": "stream",
     "text": [
      "Error fetching historical data for CCMP: No historical data found for ticker\n",
      "Monthly data for YEXT saved successfully.\n",
      "Monthly data for WIX saved successfully.\n"
     ]
    },
    {
     "name": "stderr",
     "output_type": "stream",
     "text": [
      "$GMLP: possibly delisted; No timezone found\n"
     ]
    },
    {
     "name": "stdout",
     "output_type": "stream",
     "text": [
      "Error fetching historical data for GMLP: No historical data found for ticker\n",
      "Monthly data for FVD saved successfully.\n",
      "Monthly data for SWN saved successfully.\n"
     ]
    },
    {
     "name": "stderr",
     "output_type": "stream",
     "text": [
      "$CTRCF: possibly delisted; No timezone found\n"
     ]
    },
    {
     "name": "stdout",
     "output_type": "stream",
     "text": [
      "Error fetching historical data for CTRCF: No historical data found for ticker\n",
      "Monthly data for REGL saved successfully.\n",
      "Monthly data for PASO saved successfully.\n"
     ]
    },
    {
     "name": "stderr",
     "output_type": "stream",
     "text": [
      "$VRTU: possibly delisted; No timezone found\n"
     ]
    },
    {
     "name": "stdout",
     "output_type": "stream",
     "text": [
      "Error fetching historical data for VRTU: No historical data found for ticker\n",
      "Monthly data for RBCAA saved successfully.\n",
      "Monthly data for HBI saved successfully.\n",
      "Monthly data for PSIX saved successfully.\n",
      "Monthly data for PAAS saved successfully.\n",
      "Monthly data for FISI saved successfully.\n",
      "Monthly data for ACIW saved successfully.\n",
      "Monthly data for PTLC saved successfully.\n",
      "Monthly data for BIP saved successfully.\n"
     ]
    },
    {
     "name": "stderr",
     "output_type": "stream",
     "text": [
      "$IPHI: possibly delisted; No timezone found\n"
     ]
    },
    {
     "name": "stdout",
     "output_type": "stream",
     "text": [
      "Error fetching historical data for IPHI: No historical data found for ticker\n",
      "Monthly data for FUBO saved successfully.\n",
      "Monthly data for OIH saved successfully.\n",
      "Monthly data for SMLP saved successfully.\n",
      "Monthly data for DBX saved successfully.\n",
      "Monthly data for SDXAY saved successfully.\n"
     ]
    },
    {
     "name": "stderr",
     "output_type": "stream",
     "text": [
      "$ANZBY: possibly delisted; No timezone found\n"
     ]
    },
    {
     "name": "stdout",
     "output_type": "stream",
     "text": [
      "Error fetching historical data for ANZBY: No historical data found for ticker\n",
      "Monthly data for HLDCY saved successfully.\n",
      "Monthly data for AGESY saved successfully.\n"
     ]
    },
    {
     "name": "stderr",
     "output_type": "stream",
     "text": [
      "$NTXFY: possibly delisted; No timezone found\n"
     ]
    },
    {
     "name": "stdout",
     "output_type": "stream",
     "text": [
      "Error fetching historical data for NTXFY: No historical data found for ticker\n",
      "Monthly data for AER saved successfully.\n",
      "Monthly data for BASFY saved successfully.\n",
      "Monthly data for FUJHY saved successfully.\n"
     ]
    },
    {
     "name": "stderr",
     "output_type": "stream",
     "text": [
      "$WOPEY: possibly delisted; No timezone found\n"
     ]
    },
    {
     "name": "stdout",
     "output_type": "stream",
     "text": [
      "Error fetching historical data for WOPEY: No historical data found for ticker\n"
     ]
    },
    {
     "name": "stderr",
     "output_type": "stream",
     "text": [
      "$TLSYY: possibly delisted; No timezone found\n"
     ]
    },
    {
     "name": "stdout",
     "output_type": "stream",
     "text": [
      "Error fetching historical data for TLSYY: No historical data found for ticker\n"
     ]
    },
    {
     "name": "stderr",
     "output_type": "stream",
     "text": [
      "$CSLT: possibly delisted; No timezone found\n"
     ]
    },
    {
     "name": "stdout",
     "output_type": "stream",
     "text": [
      "Error fetching historical data for CSLT: No historical data found for ticker\n"
     ]
    },
    {
     "name": "stderr",
     "output_type": "stream",
     "text": [
      "$TOT: possibly delisted; No timezone found\n"
     ]
    },
    {
     "name": "stdout",
     "output_type": "stream",
     "text": [
      "Error fetching historical data for TOT: No historical data found for ticker\n"
     ]
    },
    {
     "name": "stderr",
     "output_type": "stream",
     "text": [
      "$MFGP: possibly delisted; No timezone found\n"
     ]
    },
    {
     "name": "stdout",
     "output_type": "stream",
     "text": [
      "Error fetching historical data for MFGP: No historical data found for ticker\n"
     ]
    },
    {
     "name": "stderr",
     "output_type": "stream",
     "text": [
      "$MRWSY: possibly delisted; No timezone found\n"
     ]
    },
    {
     "name": "stdout",
     "output_type": "stream",
     "text": [
      "Error fetching historical data for MRWSY: No historical data found for ticker\n",
      "Monthly data for TEVA saved successfully.\n",
      "Monthly data for GLPEY saved successfully.\n",
      "Monthly data for VOPKY saved successfully.\n"
     ]
    },
    {
     "name": "stderr",
     "output_type": "stream",
     "text": [
      "$ATASY: possibly delisted; No timezone found\n"
     ]
    },
    {
     "name": "stdout",
     "output_type": "stream",
     "text": [
      "Error fetching historical data for ATASY: No historical data found for ticker\n"
     ]
    },
    {
     "name": "stderr",
     "output_type": "stream",
     "text": [
      "$CAJ: possibly delisted; No timezone found\n"
     ]
    },
    {
     "name": "stdout",
     "output_type": "stream",
     "text": [
      "Error fetching historical data for CAJ: No historical data found for ticker\n",
      "Monthly data for SSUMY saved successfully.\n",
      "Monthly data for HSNGY saved successfully.\n",
      "Monthly data for MLCO saved successfully.\n",
      "Monthly data for KPELY saved successfully.\n",
      "Monthly data for DLAKY saved successfully.\n",
      "Monthly data for FINMY saved successfully.\n",
      "Monthly data for OMVKY saved successfully.\n",
      "Monthly data for POAHY saved successfully.\n",
      "Monthly data for RYCEY saved successfully.\n",
      "Monthly data for REPYY saved successfully.\n",
      "Monthly data for IX saved successfully.\n",
      "Monthly data for CUK saved successfully.\n",
      "Monthly data for ACSAY saved successfully.\n",
      "Monthly data for HLPPY saved successfully.\n",
      "Monthly data for EJPRY saved successfully.\n",
      "Monthly data for TLSNY saved successfully.\n",
      "Monthly data for NTOIY saved successfully.\n",
      "Monthly data for E saved successfully.\n",
      "Monthly data for CNS saved successfully.\n",
      "Monthly data for MITSY saved successfully.\n",
      "Monthly data for TS saved successfully.\n",
      "Monthly data for IPXHY saved successfully.\n",
      "Monthly data for HRI saved successfully.\n",
      "Monthly data for MPLN saved successfully.\n"
     ]
    },
    {
     "name": "stderr",
     "output_type": "stream",
     "text": [
      "$GLOP: possibly delisted; No timezone found\n"
     ]
    },
    {
     "name": "stdout",
     "output_type": "stream",
     "text": [
      "Error fetching historical data for GLOP: No historical data found for ticker\n",
      "Monthly data for CVI saved successfully.\n",
      "Monthly data for BYND saved successfully.\n",
      "Monthly data for MMLP saved successfully.\n",
      "Monthly data for AMN saved successfully.\n",
      "Monthly data for VAW saved successfully.\n",
      "Monthly data for SKX saved successfully.\n",
      "Monthly data for BEEM saved successfully.\n"
     ]
    },
    {
     "name": "stderr",
     "output_type": "stream",
     "text": [
      "$GWPH: possibly delisted; No timezone found\n"
     ]
    },
    {
     "name": "stdout",
     "output_type": "stream",
     "text": [
      "Error fetching historical data for GWPH: No historical data found for ticker\n",
      "Monthly data for ACM saved successfully.\n"
     ]
    },
    {
     "name": "stderr",
     "output_type": "stream",
     "text": [
      "$XLNX: possibly delisted; No timezone found\n"
     ]
    },
    {
     "name": "stdout",
     "output_type": "stream",
     "text": [
      "Error fetching historical data for XLNX: No historical data found for ticker\n",
      "Monthly data for RCI saved successfully.\n"
     ]
    },
    {
     "name": "stderr",
     "output_type": "stream",
     "text": [
      "$APEN: possibly delisted; No timezone found\n"
     ]
    },
    {
     "name": "stdout",
     "output_type": "stream",
     "text": [
      "Error fetching historical data for APEN: No historical data found for ticker\n",
      "Monthly data for PPBI saved successfully.\n",
      "Monthly data for GWRE saved successfully.\n",
      "Monthly data for CSIQ saved successfully.\n",
      "Monthly data for PRLB saved successfully.\n",
      "Monthly data for LGND saved successfully.\n"
     ]
    },
    {
     "name": "stderr",
     "output_type": "stream",
     "text": [
      "$NBLX: possibly delisted; No timezone found\n"
     ]
    },
    {
     "name": "stdout",
     "output_type": "stream",
     "text": [
      "Error fetching historical data for NBLX: No historical data found for ticker\n",
      "Monthly data for OLED saved successfully.\n",
      "Monthly data for PRAA saved successfully.\n",
      "Monthly data for FLCB saved successfully.\n",
      "Monthly data for SPTM saved successfully.\n",
      "Monthly data for FLCO saved successfully.\n"
     ]
    },
    {
     "name": "stderr",
     "output_type": "stream",
     "text": [
      "$EBSB: possibly delisted; No timezone found\n"
     ]
    },
    {
     "name": "stdout",
     "output_type": "stream",
     "text": [
      "Error fetching historical data for EBSB: No historical data found for ticker\n",
      "Monthly data for CATY saved successfully.\n",
      "Monthly data for GOVT saved successfully.\n",
      "Monthly data for VWO saved successfully.\n",
      "Monthly data for VDC saved successfully.\n",
      "Monthly data for FLQL saved successfully.\n"
     ]
    },
    {
     "name": "stderr",
     "output_type": "stream",
     "text": [
      "$CRY: possibly delisted; No timezone found\n"
     ]
    },
    {
     "name": "stdout",
     "output_type": "stream",
     "text": [
      "Error fetching historical data for CRY: No historical data found for ticker\n",
      "Monthly data for VEA saved successfully.\n",
      "Monthly data for PRA saved successfully.\n",
      "Monthly data for NEOG saved successfully.\n",
      "Monthly data for WSTL saved successfully.\n",
      "Monthly data for TECH saved successfully.\n",
      "Monthly data for NVAX saved successfully.\n",
      "Monthly data for ANSS saved successfully.\n",
      "Monthly data for ROL saved successfully.\n",
      "Monthly data for LII saved successfully.\n",
      "Monthly data for AMED saved successfully.\n"
     ]
    },
    {
     "name": "stderr",
     "output_type": "stream",
     "text": [
      "$CMLF: possibly delisted; No timezone found\n"
     ]
    },
    {
     "name": "stdout",
     "output_type": "stream",
     "text": [
      "Error fetching historical data for CMLF: No historical data found for ticker\n",
      "Monthly data for USMV saved successfully.\n",
      "Monthly data for ESGU saved successfully.\n",
      "Monthly data for VTI saved successfully.\n",
      "Monthly data for IEFA saved successfully.\n",
      "Monthly data for PUTW saved successfully.\n",
      "Monthly data for IEF saved successfully.\n",
      "Monthly data for VLUE saved successfully.\n",
      "Monthly data for IHI saved successfully.\n",
      "Monthly data for DSU saved successfully.\n",
      "Monthly data for XSOE saved successfully.\n",
      "Monthly data for DIV saved successfully.\n",
      "Monthly data for EVV saved successfully.\n",
      "Monthly data for BTZ saved successfully.\n",
      "Monthly data for YNDX saved successfully.\n"
     ]
    },
    {
     "name": "stderr",
     "output_type": "stream",
     "text": [
      "$CDAY: possibly delisted; No timezone found\n"
     ]
    },
    {
     "name": "stdout",
     "output_type": "stream",
     "text": [
      "Error fetching historical data for CDAY: No historical data found for ticker\n"
     ]
    },
    {
     "name": "stderr",
     "output_type": "stream",
     "text": [
      "$NBL: possibly delisted; No timezone found\n"
     ]
    },
    {
     "name": "stdout",
     "output_type": "stream",
     "text": [
      "Error fetching historical data for NBL: No historical data found for ticker\n",
      "Monthly data for AMTD saved successfully.\n",
      "Monthly data for WKHS saved successfully.\n"
     ]
    },
    {
     "name": "stderr",
     "output_type": "stream",
     "text": [
      "$ETFC: possibly delisted; No timezone found\n"
     ]
    },
    {
     "name": "stdout",
     "output_type": "stream",
     "text": [
      "Error fetching historical data for ETFC: No historical data found for ticker\n"
     ]
    },
    {
     "name": "stderr",
     "output_type": "stream",
     "text": [
      "$BREW: possibly delisted; No timezone found\n"
     ]
    },
    {
     "name": "stdout",
     "output_type": "stream",
     "text": [
      "Error fetching historical data for BREW: No historical data found for ticker\n",
      "Monthly data for PBF saved successfully.\n"
     ]
    },
    {
     "name": "stderr",
     "output_type": "stream",
     "text": [
      "$WPX: possibly delisted; No timezone found\n"
     ]
    },
    {
     "name": "stdout",
     "output_type": "stream",
     "text": [
      "Error fetching historical data for WPX: No historical data found for ticker\n",
      "Monthly data for LEVI saved successfully.\n"
     ]
    },
    {
     "name": "stderr",
     "output_type": "stream",
     "text": [
      "$AVLR: possibly delisted; No timezone found\n"
     ]
    },
    {
     "name": "stdout",
     "output_type": "stream",
     "text": [
      "Error fetching historical data for AVLR: No historical data found for ticker\n"
     ]
    },
    {
     "name": "stderr",
     "output_type": "stream",
     "text": [
      "$PKI: possibly delisted; No timezone found\n"
     ]
    },
    {
     "name": "stdout",
     "output_type": "stream",
     "text": [
      "Error fetching historical data for PKI: No historical data found for ticker\n",
      "Monthly data for ATOAX saved successfully.\n"
     ]
    },
    {
     "name": "stderr",
     "output_type": "stream",
     "text": [
      "$SVCBY: possibly delisted; No timezone found\n"
     ]
    },
    {
     "name": "stdout",
     "output_type": "stream",
     "text": [
      "Error fetching historical data for SVCBY: No historical data found for ticker\n",
      "Monthly data for ENR saved successfully.\n",
      "Monthly data for RHI saved successfully.\n",
      "Monthly data for CHUY saved successfully.\n",
      "Monthly data for DRQ saved successfully.\n",
      "Monthly data for POST saved successfully.\n",
      "Monthly data for FHB saved successfully.\n",
      "Monthly data for TGTX saved successfully.\n",
      "Monthly data for SNX saved successfully.\n",
      "Monthly data for BAND saved successfully.\n",
      "Monthly data for USMC saved successfully.\n",
      "Monthly data for INO saved successfully.\n",
      "Monthly data for ANY saved successfully.\n",
      "Monthly data for POWI saved successfully.\n",
      "Monthly data for AMWD saved successfully.\n",
      "Monthly data for BHC saved successfully.\n"
     ]
    },
    {
     "name": "stderr",
     "output_type": "stream",
     "text": [
      "$CCXX: possibly delisted; No timezone found\n"
     ]
    },
    {
     "name": "stdout",
     "output_type": "stream",
     "text": [
      "Error fetching historical data for CCXX: No historical data found for ticker\n",
      "Monthly data for FTA saved successfully.\n",
      "Monthly data for RUSHA saved successfully.\n",
      "Monthly data for MYE saved successfully.\n",
      "Monthly data for DOX saved successfully.\n"
     ]
    },
    {
     "name": "stderr",
     "output_type": "stream",
     "text": [
      "$SKVKY: possibly delisted; No timezone found\n"
     ]
    },
    {
     "name": "stdout",
     "output_type": "stream",
     "text": [
      "Error fetching historical data for SKVKY: No historical data found for ticker\n",
      "Monthly data for KMPR saved successfully.\n",
      "Monthly data for XLV saved successfully.\n",
      "Monthly data for CWB saved successfully.\n",
      "Monthly data for WDC saved successfully.\n",
      "Monthly data for SDY saved successfully.\n",
      "Monthly data for BGFV saved successfully.\n"
     ]
    },
    {
     "name": "stderr",
     "output_type": "stream",
     "text": [
      "$DCP: possibly delisted; No timezone found\n"
     ]
    },
    {
     "name": "stdout",
     "output_type": "stream",
     "text": [
      "Error fetching historical data for DCP: No historical data found for ticker\n",
      "Monthly data for RAND saved successfully.\n"
     ]
    },
    {
     "name": "stderr",
     "output_type": "stream",
     "text": [
      "$HFC: possibly delisted; No timezone found\n"
     ]
    },
    {
     "name": "stdout",
     "output_type": "stream",
     "text": [
      "Error fetching historical data for HFC: No historical data found for ticker\n",
      "Monthly data for ZI saved successfully.\n",
      "Monthly data for PGNY saved successfully.\n",
      "Monthly data for OSK saved successfully.\n",
      "Monthly data for WDFC saved successfully.\n",
      "Monthly data for NWE saved successfully.\n",
      "Monthly data for CBRE saved successfully.\n",
      "Monthly data for IAC saved successfully.\n",
      "Monthly data for BECN saved successfully.\n",
      "Monthly data for SIL saved successfully.\n",
      "Monthly data for SYPR saved successfully.\n"
     ]
    },
    {
     "name": "stderr",
     "output_type": "stream",
     "text": [
      "$SPKE: possibly delisted; No timezone found\n"
     ]
    },
    {
     "name": "stdout",
     "output_type": "stream",
     "text": [
      "Error fetching historical data for SPKE: No historical data found for ticker\n",
      "Monthly data for BIPC saved successfully.\n"
     ]
    },
    {
     "name": "stderr",
     "output_type": "stream",
     "text": [
      "$RXN: possibly delisted; No timezone found\n"
     ]
    },
    {
     "name": "stdout",
     "output_type": "stream",
     "text": [
      "Error fetching historical data for RXN: No historical data found for ticker\n",
      "Monthly data for PROF saved successfully.\n",
      "Monthly data for NKLA saved successfully.\n",
      "Monthly data for HUYA saved successfully.\n"
     ]
    },
    {
     "name": "stderr",
     "output_type": "stream",
     "text": [
      "$TMUSR: possibly delisted; No timezone found\n"
     ]
    },
    {
     "name": "stdout",
     "output_type": "stream",
     "text": [
      "Error fetching historical data for TMUSR: No historical data found for ticker\n"
     ]
    },
    {
     "name": "stderr",
     "output_type": "stream",
     "text": [
      "$MSBHY: possibly delisted; No timezone found\n"
     ]
    },
    {
     "name": "stdout",
     "output_type": "stream",
     "text": [
      "Error fetching historical data for MSBHY: No historical data found for ticker\n",
      "Monthly data for NMIH saved successfully.\n",
      "Monthly data for TCOM saved successfully.\n",
      "Monthly data for DUSA saved successfully.\n"
     ]
    },
    {
     "name": "stderr",
     "output_type": "stream",
     "text": [
      "$VSLR: possibly delisted; No timezone found\n"
     ]
    },
    {
     "name": "stdout",
     "output_type": "stream",
     "text": [
      "Error fetching historical data for VSLR: No historical data found for ticker\n",
      "Monthly data for GGT saved successfully.\n",
      "Monthly data for DLS saved successfully.\n",
      "Monthly data for BAM saved successfully.\n",
      "Monthly data for SFST saved successfully.\n",
      "Monthly data for CXW saved successfully.\n",
      "Monthly data for WK saved successfully.\n"
     ]
    },
    {
     "name": "stderr",
     "output_type": "stream",
     "text": [
      "$LTHM: possibly delisted; No timezone found\n"
     ]
    },
    {
     "name": "stdout",
     "output_type": "stream",
     "text": [
      "Error fetching historical data for LTHM: No historical data found for ticker\n"
     ]
    },
    {
     "name": "stderr",
     "output_type": "stream",
     "text": [
      "$BLFSD: possibly delisted; No timezone found\n"
     ]
    },
    {
     "name": "stdout",
     "output_type": "stream",
     "text": [
      "Error fetching historical data for BLFSD: No historical data found for ticker\n",
      "Monthly data for LEN saved successfully.\n"
     ]
    },
    {
     "name": "stderr",
     "output_type": "stream",
     "text": [
      "$LENB: possibly delisted; No timezone found\n"
     ]
    },
    {
     "name": "stdout",
     "output_type": "stream",
     "text": [
      "Error fetching historical data for LENB: No historical data found for ticker\n",
      "Monthly data for KIDS saved successfully.\n",
      "Monthly data for BDC saved successfully.\n",
      "Monthly data for STWD saved successfully.\n",
      "Monthly data for TFFP saved successfully.\n",
      "Monthly data for INFR saved successfully.\n",
      "Monthly data for ISD saved successfully.\n",
      "Monthly data for EFV saved successfully.\n",
      "Monthly data for VV saved successfully.\n",
      "Monthly data for REYN saved successfully.\n"
     ]
    },
    {
     "name": "stderr",
     "output_type": "stream",
     "text": [
      "$NVIGF: possibly delisted; No timezone found\n"
     ]
    },
    {
     "name": "stdout",
     "output_type": "stream",
     "text": [
      "Error fetching historical data for NVIGF: No historical data found for ticker\n",
      "Monthly data for BDN saved successfully.\n",
      "Monthly data for SKYY saved successfully.\n",
      "Monthly data for PRJAX saved successfully.\n",
      "Monthly data for PSNL saved successfully.\n",
      "Monthly data for SPSC saved successfully.\n",
      "Monthly data for ETP saved successfully.\n",
      "Monthly data for ITOT saved successfully.\n"
     ]
    },
    {
     "name": "stderr",
     "output_type": "stream",
     "text": [
      "$AGN: possibly delisted; No timezone found\n"
     ]
    },
    {
     "name": "stdout",
     "output_type": "stream",
     "text": [
      "Error fetching historical data for AGN: No historical data found for ticker\n"
     ]
    },
    {
     "name": "stderr",
     "output_type": "stream",
     "text": [
      "$ADS: possibly delisted; No timezone found\n"
     ]
    },
    {
     "name": "stdout",
     "output_type": "stream",
     "text": [
      "Error fetching historical data for ADS: No historical data found for ticker\n",
      "Monthly data for IVZ saved successfully.\n",
      "Monthly data for FLS saved successfully.\n"
     ]
    },
    {
     "name": "stderr",
     "output_type": "stream",
     "text": [
      "$FLXN: possibly delisted; No timezone found\n"
     ]
    },
    {
     "name": "stdout",
     "output_type": "stream",
     "text": [
      "Error fetching historical data for FLXN: No historical data found for ticker\n"
     ]
    },
    {
     "name": "stderr",
     "output_type": "stream",
     "text": [
      "$CMD: possibly delisted; No timezone found\n"
     ]
    },
    {
     "name": "stdout",
     "output_type": "stream",
     "text": [
      "Error fetching historical data for CMD: No historical data found for ticker\n",
      "Monthly data for EVH saved successfully.\n",
      "Monthly data for FNMA saved successfully.\n",
      "Monthly data for IBKR saved successfully.\n",
      "Monthly data for MORN saved successfully.\n",
      "Monthly data for BRY saved successfully.\n",
      "Monthly data for SERV saved successfully.\n"
     ]
    },
    {
     "name": "stderr",
     "output_type": "stream",
     "text": [
      "$BIF: possibly delisted; No timezone found\n",
      "$CTECBX: possibly delisted; No price data found  (1d 2020-01-01 -> 2024-08-28)\n"
     ]
    },
    {
     "name": "stdout",
     "output_type": "stream",
     "text": [
      "Error fetching historical data for BIF: No historical data found for ticker\n",
      "$CTECBX: possibly delisted; No price data found  (1d 2020-01-01 -> 2024-08-28)\n",
      "Error fetching historical data for CTECBX: No historical data found for ticker\n",
      "Monthly data for ONTO saved successfully.\n",
      "Monthly data for HCSG saved successfully.\n",
      "Monthly data for HOG saved successfully.\n",
      "Monthly data for HRB saved successfully.\n"
     ]
    },
    {
     "name": "stderr",
     "output_type": "stream",
     "text": [
      "$CTL: possibly delisted; No timezone found\n"
     ]
    },
    {
     "name": "stdout",
     "output_type": "stream",
     "text": [
      "Error fetching historical data for CTL: No historical data found for ticker\n",
      "Monthly data for NWS saved successfully.\n",
      "Monthly data for NWSA saved successfully.\n",
      "Monthly data for AYI saved successfully.\n"
     ]
    },
    {
     "name": "stderr",
     "output_type": "stream",
     "text": [
      "$LBDAV: possibly delisted; No timezone found\n"
     ]
    },
    {
     "name": "stdout",
     "output_type": "stream",
     "text": [
      "Error fetching historical data for LBDAV: No historical data found for ticker\n"
     ]
    },
    {
     "name": "stderr",
     "output_type": "stream",
     "text": [
      "$GLIBA: possibly delisted; No timezone found\n"
     ]
    },
    {
     "name": "stdout",
     "output_type": "stream",
     "text": [
      "Error fetching historical data for GLIBA: No historical data found for ticker\n",
      "Monthly data for ASGN saved successfully.\n"
     ]
    },
    {
     "name": "stderr",
     "output_type": "stream",
     "text": [
      "$POEFF: possibly delisted; No timezone found\n"
     ]
    },
    {
     "name": "stdout",
     "output_type": "stream",
     "text": [
      "Error fetching historical data for POEFF: No historical data found for ticker\n"
     ]
    },
    {
     "name": "stderr",
     "output_type": "stream",
     "text": [
      "$DEACU: possibly delisted; No timezone found\n"
     ]
    },
    {
     "name": "stdout",
     "output_type": "stream",
     "text": [
      "Error fetching historical data for DEACU: No historical data found for ticker\n"
     ]
    },
    {
     "name": "stderr",
     "output_type": "stream",
     "text": [
      "$PS: possibly delisted; No timezone found\n"
     ]
    },
    {
     "name": "stdout",
     "output_type": "stream",
     "text": [
      "Error fetching historical data for PS: No historical data found for ticker\n",
      "Monthly data for RQI saved successfully.\n",
      "Monthly data for SOJA saved successfully.\n",
      "Monthly data for FRIAX saved successfully.\n",
      "Monthly data for CAIFX saved successfully.\n",
      "Monthly data for TRP saved successfully.\n",
      "Monthly data for SUN saved successfully.\n",
      "Monthly data for PAGP saved successfully.\n"
     ]
    },
    {
     "name": "stderr",
     "output_type": "stream",
     "text": [
      "$TCP: possibly delisted; No timezone found\n"
     ]
    },
    {
     "name": "stdout",
     "output_type": "stream",
     "text": [
      "Error fetching historical data for TCP: No historical data found for ticker\n",
      "Monthly data for TRGP saved successfully.\n",
      "Monthly data for SSL saved successfully.\n",
      "Monthly data for M saved successfully.\n",
      "Monthly data for AXTA saved successfully.\n"
     ]
    },
    {
     "name": "stderr",
     "output_type": "stream",
     "text": [
      "$EQM: possibly delisted; No timezone found\n"
     ]
    },
    {
     "name": "stdout",
     "output_type": "stream",
     "text": [
      "Error fetching historical data for EQM: No historical data found for ticker\n",
      "Monthly data for BOIVF saved successfully.\n"
     ]
    },
    {
     "name": "stderr",
     "output_type": "stream",
     "text": [
      "$UTX: possibly delisted; No timezone found\n"
     ]
    },
    {
     "name": "stdout",
     "output_type": "stream",
     "text": [
      "Error fetching historical data for UTX: No historical data found for ticker\n",
      "Monthly data for EAF saved successfully.\n",
      "Monthly data for UHAL saved successfully.\n",
      "Monthly data for PNQI saved successfully.\n",
      "Monthly data for FOXA saved successfully.\n",
      "Monthly data for FOX saved successfully.\n",
      "Monthly data for URBN saved successfully.\n",
      "Monthly data for ACA saved successfully.\n",
      "Monthly data for MSM saved successfully.\n",
      "Monthly data for RL saved successfully.\n",
      "Monthly data for DIA saved successfully.\n",
      "Monthly data for UPLD saved successfully.\n",
      "Monthly data for AIZ saved successfully.\n",
      "Monthly data for NNVC saved successfully.\n",
      "Monthly data for HAYN saved successfully.\n",
      "Monthly data for GLNCY saved successfully.\n"
     ]
    },
    {
     "name": "stderr",
     "output_type": "stream",
     "text": [
      "$MTSC: possibly delisted; No timezone found\n"
     ]
    },
    {
     "name": "stdout",
     "output_type": "stream",
     "text": [
      "Error fetching historical data for MTSC: No historical data found for ticker\n"
     ]
    },
    {
     "name": "stderr",
     "output_type": "stream",
     "text": [
      "$AIMC: possibly delisted; No timezone found\n"
     ]
    },
    {
     "name": "stdout",
     "output_type": "stream",
     "text": [
      "Error fetching historical data for AIMC: No historical data found for ticker\n",
      "Monthly data for NXST saved successfully.\n"
     ]
    },
    {
     "name": "stderr",
     "output_type": "stream",
     "text": [
      "$DISCK: possibly delisted; No timezone found\n"
     ]
    },
    {
     "name": "stdout",
     "output_type": "stream",
     "text": [
      "Error fetching historical data for DISCK: No historical data found for ticker\n",
      "Monthly data for QLEIX saved successfully.\n",
      "Monthly data for PFG saved successfully.\n"
     ]
    },
    {
     "name": "stderr",
     "output_type": "stream",
     "text": [
      "$FPL: possibly delisted; No timezone found\n"
     ]
    },
    {
     "name": "stdout",
     "output_type": "stream",
     "text": [
      "Error fetching historical data for FPL: No historical data found for ticker\n",
      "Monthly data for ZION saved successfully.\n",
      "Monthly data for AMG saved successfully.\n",
      "Monthly data for GEM saved successfully.\n"
     ]
    },
    {
     "name": "stderr",
     "output_type": "stream",
     "text": [
      "$HCN: possibly delisted; No price data found  (1d 2020-01-01 -> 2024-08-28)\n"
     ]
    },
    {
     "name": "stdout",
     "output_type": "stream",
     "text": [
      "Monthly data for BOTZ saved successfully.\n",
      "$HCN: possibly delisted; No price data found  (1d 2020-01-01 -> 2024-08-28)\n",
      "Error fetching historical data for HCN: No historical data found for ticker\n",
      "Monthly data for OAYIX saved successfully.\n",
      "Monthly data for KSS saved successfully.\n",
      "Monthly data for KNX saved successfully.\n",
      "Monthly data for JWN saved successfully.\n",
      "Monthly data for IAT saved successfully.\n",
      "Monthly data for GLOB saved successfully.\n",
      "Monthly data for DSGX saved successfully.\n",
      "Monthly data for UNF saved successfully.\n",
      "Monthly data for IDA saved successfully.\n",
      "Monthly data for AIR saved successfully.\n",
      "Monthly data for VONE saved successfully.\n"
     ]
    },
    {
     "name": "stderr",
     "output_type": "stream",
     "text": [
      "$FEI: possibly delisted; No timezone found\n"
     ]
    },
    {
     "name": "stdout",
     "output_type": "stream",
     "text": [
      "Error fetching historical data for FEI: No historical data found for ticker\n",
      "Monthly data for HTZ saved successfully.\n",
      "Monthly data for PLYA saved successfully.\n",
      "Monthly data for CIM saved successfully.\n",
      "Monthly data for GOOS saved successfully.\n",
      "Monthly data for FRT saved successfully.\n",
      "Monthly data for QGEN saved successfully.\n"
     ]
    },
    {
     "name": "stderr",
     "output_type": "stream",
     "text": [
      "$HTA: possibly delisted; No timezone found\n"
     ]
    },
    {
     "name": "stdout",
     "output_type": "stream",
     "text": [
      "Error fetching historical data for HTA: No historical data found for ticker\n",
      "Monthly data for BYD saved successfully.\n",
      "Monthly data for AAN saved successfully.\n",
      "Monthly data for AVT saved successfully.\n"
     ]
    },
    {
     "name": "stderr",
     "output_type": "stream",
     "text": [
      "$CEMI: possibly delisted; No timezone found\n"
     ]
    },
    {
     "name": "stdout",
     "output_type": "stream",
     "text": [
      "Error fetching historical data for CEMI: No historical data found for ticker\n"
     ]
    },
    {
     "name": "stderr",
     "output_type": "stream",
     "text": [
      "$TLND: possibly delisted; No timezone found\n"
     ]
    },
    {
     "name": "stdout",
     "output_type": "stream",
     "text": [
      "Error fetching historical data for TLND: No historical data found for ticker\n"
     ]
    },
    {
     "name": "stderr",
     "output_type": "stream",
     "text": [
      "$SZEVY: possibly delisted; No timezone found\n"
     ]
    },
    {
     "name": "stdout",
     "output_type": "stream",
     "text": [
      "Error fetching historical data for SZEVY: No historical data found for ticker\n",
      "Monthly data for CRRFY saved successfully.\n",
      "Monthly data for RNLSY saved successfully.\n",
      "Monthly data for BG saved successfully.\n",
      "Monthly data for RDEIY saved successfully.\n",
      "Monthly data for CDLX saved successfully.\n"
     ]
    },
    {
     "name": "stderr",
     "output_type": "stream",
     "text": [
      "$GEAGY: possibly delisted; No timezone found\n"
     ]
    },
    {
     "name": "stdout",
     "output_type": "stream",
     "text": [
      "Error fetching historical data for GEAGY: No historical data found for ticker\n"
     ]
    },
    {
     "name": "stderr",
     "output_type": "stream",
     "text": [
      "$PCRFY: possibly delisted; No timezone found\n"
     ]
    },
    {
     "name": "stdout",
     "output_type": "stream",
     "text": [
      "Error fetching historical data for PCRFY: No historical data found for ticker\n",
      "Monthly data for VC saved successfully.\n",
      "Monthly data for PVH saved successfully.\n",
      "Monthly data for DSDVY saved successfully.\n",
      "Monthly data for HNNMY saved successfully.\n",
      "Monthly data for COTY saved successfully.\n"
     ]
    },
    {
     "name": "stderr",
     "output_type": "stream",
     "text": [
      "$HLUYY: possibly delisted; No timezone found\n"
     ]
    },
    {
     "name": "stdout",
     "output_type": "stream",
     "text": [
      "Error fetching historical data for HLUYY: No historical data found for ticker\n"
     ]
    },
    {
     "name": "stderr",
     "output_type": "stream",
     "text": [
      "$NATI: possibly delisted; No timezone found\n"
     ]
    },
    {
     "name": "stdout",
     "output_type": "stream",
     "text": [
      "Error fetching historical data for NATI: No historical data found for ticker\n",
      "Monthly data for RWEOY saved successfully.\n"
     ]
    },
    {
     "name": "stderr",
     "output_type": "stream",
     "text": [
      "$PDYPY: possibly delisted; No timezone found\n"
     ]
    },
    {
     "name": "stdout",
     "output_type": "stream",
     "text": [
      "Error fetching historical data for PDYPY: No historical data found for ticker\n"
     ]
    },
    {
     "name": "stderr",
     "output_type": "stream",
     "text": [
      "$CCLAY: possibly delisted; No timezone found\n"
     ]
    },
    {
     "name": "stdout",
     "output_type": "stream",
     "text": [
      "Error fetching historical data for CCLAY: No historical data found for ticker\n",
      "Monthly data for SWGAY saved successfully.\n"
     ]
    },
    {
     "name": "stderr",
     "output_type": "stream",
     "text": [
      "$WCAGY: possibly delisted; No timezone found\n"
     ]
    },
    {
     "name": "stdout",
     "output_type": "stream",
     "text": [
      "Error fetching historical data for WCAGY: No historical data found for ticker\n",
      "Monthly data for ENGGY saved successfully.\n",
      "Monthly data for CPRI saved successfully.\n"
     ]
    },
    {
     "name": "stderr",
     "output_type": "stream",
     "text": [
      "$RBS: possibly delisted; No timezone found\n"
     ]
    },
    {
     "name": "stdout",
     "output_type": "stream",
     "text": [
      "Error fetching historical data for RBS: No historical data found for ticker\n",
      "Monthly data for STE saved successfully.\n",
      "Monthly data for JBAXY saved successfully.\n",
      "Monthly data for HPE saved successfully.\n"
     ]
    },
    {
     "name": "stderr",
     "output_type": "stream",
     "text": [
      "$SWMAY: possibly delisted; No timezone found\n"
     ]
    },
    {
     "name": "stdout",
     "output_type": "stream",
     "text": [
      "Error fetching historical data for SWMAY: No historical data found for ticker\n",
      "Monthly data for UHS saved successfully.\n",
      "Monthly data for PRGO saved successfully.\n"
     ]
    },
    {
     "name": "stderr",
     "output_type": "stream",
     "text": [
      "$SNP: possibly delisted; No timezone found\n"
     ]
    },
    {
     "name": "stdout",
     "output_type": "stream",
     "text": [
      "Error fetching historical data for SNP: No historical data found for ticker\n",
      "Monthly data for AVNS saved successfully.\n",
      "Monthly data for MHK saved successfully.\n",
      "Monthly data for NVEE saved successfully.\n",
      "Monthly data for MEOH saved successfully.\n"
     ]
    },
    {
     "name": "stderr",
     "output_type": "stream",
     "text": [
      "$JMP: possibly delisted; No timezone found\n"
     ]
    },
    {
     "name": "stdout",
     "output_type": "stream",
     "text": [
      "Error fetching historical data for JMP: No historical data found for ticker\n",
      "Monthly data for JBT saved successfully.\n",
      "Monthly data for EGHT saved successfully.\n"
     ]
    },
    {
     "name": "stderr",
     "output_type": "stream",
     "text": [
      "$RP: possibly delisted; No timezone found\n"
     ]
    },
    {
     "name": "stdout",
     "output_type": "stream",
     "text": [
      "Error fetching historical data for RP: No historical data found for ticker\n",
      "Monthly data for KTB saved successfully.\n",
      "Monthly data for ENS saved successfully.\n",
      "Monthly data for ANIK saved successfully.\n"
     ]
    },
    {
     "name": "stderr",
     "output_type": "stream",
     "text": [
      "$NEWR: possibly delisted; No timezone found\n"
     ]
    },
    {
     "name": "stdout",
     "output_type": "stream",
     "text": [
      "Error fetching historical data for NEWR: No historical data found for ticker\n"
     ]
    },
    {
     "name": "stderr",
     "output_type": "stream",
     "text": [
      "$BBBY: possibly delisted; No timezone found\n"
     ]
    },
    {
     "name": "stdout",
     "output_type": "stream",
     "text": [
      "Error fetching historical data for BBBY: No historical data found for ticker\n",
      "Monthly data for FTSM saved successfully.\n",
      "Monthly data for WCMIX saved successfully.\n",
      "Monthly data for FDL saved successfully.\n",
      "Monthly data for COO saved successfully.\n",
      "Monthly data for MTN saved successfully.\n",
      "Monthly data for ENV saved successfully.\n",
      "Monthly data for INMD saved successfully.\n",
      "Monthly data for BSTZ saved successfully.\n",
      "Monthly data for CNK saved successfully.\n",
      "Monthly data for NULG saved successfully.\n",
      "Monthly data for SPYG saved successfully.\n",
      "Monthly data for IGV saved successfully.\n",
      "Monthly data for CFR saved successfully.\n"
     ]
    },
    {
     "name": "stderr",
     "output_type": "stream",
     "text": [
      "$HZN: possibly delisted; No timezone found\n"
     ]
    },
    {
     "name": "stdout",
     "output_type": "stream",
     "text": [
      "Error fetching historical data for HZN: No historical data found for ticker\n",
      "Monthly data for QSY saved successfully.\n",
      "Monthly data for FNKO saved successfully.\n",
      "Monthly data for DENN saved successfully.\n",
      "Monthly data for EEFT saved successfully.\n",
      "Monthly data for VWDRY saved successfully.\n",
      "Monthly data for KRNT saved successfully.\n"
     ]
    },
    {
     "name": "stderr",
     "output_type": "stream",
     "text": [
      "$PRSP: possibly delisted; No timezone found\n"
     ]
    },
    {
     "name": "stdout",
     "output_type": "stream",
     "text": [
      "Error fetching historical data for PRSP: No historical data found for ticker\n",
      "Monthly data for OMC saved successfully.\n",
      "Monthly data for CSQ saved successfully.\n",
      "Monthly data for SNNUF saved successfully.\n",
      "Monthly data for CHRW saved successfully.\n"
     ]
    },
    {
     "name": "stderr",
     "output_type": "stream",
     "text": [
      "$TCO: possibly delisted; No timezone found\n"
     ]
    },
    {
     "name": "stdout",
     "output_type": "stream",
     "text": [
      "Error fetching historical data for TCO: No historical data found for ticker\n"
     ]
    },
    {
     "name": "stderr",
     "output_type": "stream",
     "text": [
      "$WMGI: possibly delisted; No timezone found\n"
     ]
    },
    {
     "name": "stdout",
     "output_type": "stream",
     "text": [
      "Error fetching historical data for WMGI: No historical data found for ticker\n"
     ]
    },
    {
     "name": "stderr",
     "output_type": "stream",
     "text": [
      "$POL: possibly delisted; No timezone found\n"
     ]
    },
    {
     "name": "stdout",
     "output_type": "stream",
     "text": [
      "Error fetching historical data for POL: No historical data found for ticker\n"
     ]
    },
    {
     "name": "stderr",
     "output_type": "stream",
     "text": [
      "$KL: possibly delisted; No timezone found\n"
     ]
    },
    {
     "name": "stdout",
     "output_type": "stream",
     "text": [
      "Error fetching historical data for KL: No historical data found for ticker\n"
     ]
    },
    {
     "name": "stderr",
     "output_type": "stream",
     "text": [
      "$912796WX3: possibly delisted; No timezone found\n"
     ]
    },
    {
     "name": "stdout",
     "output_type": "stream",
     "text": [
      "Error fetching historical data for 912796WX3: No historical data found for ticker\n",
      "Monthly data for BMEZ saved successfully.\n",
      "Monthly data for FRFHF saved successfully.\n"
     ]
    },
    {
     "name": "stderr",
     "output_type": "stream",
     "text": [
      "$GSAH: possibly delisted; No timezone found\n"
     ]
    },
    {
     "name": "stdout",
     "output_type": "stream",
     "text": [
      "Error fetching historical data for GSAH: No historical data found for ticker\n"
     ]
    },
    {
     "name": "stderr",
     "output_type": "stream",
     "text": [
      "$WCG: possibly delisted; No timezone found\n"
     ]
    },
    {
     "name": "stdout",
     "output_type": "stream",
     "text": [
      "Error fetching historical data for WCG: No historical data found for ticker\n",
      "Monthly data for SANM saved successfully.\n"
     ]
    },
    {
     "name": "stderr",
     "output_type": "stream",
     "text": [
      "$LPT: possibly delisted; No timezone found\n"
     ]
    },
    {
     "name": "stdout",
     "output_type": "stream",
     "text": [
      "Error fetching historical data for LPT: No historical data found for ticker\n",
      "Monthly data for AROW saved successfully.\n"
     ]
    },
    {
     "name": "stderr",
     "output_type": "stream",
     "text": [
      "$GRA: possibly delisted; No timezone found\n",
      "$FMCMF: possibly delisted; No price data found  (1d 2020-01-01 -> 2024-08-28)\n"
     ]
    },
    {
     "name": "stdout",
     "output_type": "stream",
     "text": [
      "Error fetching historical data for GRA: No historical data found for ticker\n",
      "$FMCMF: possibly delisted; No price data found  (1d 2020-01-01 -> 2024-08-28)\n",
      "Error fetching historical data for FMCMF: No historical data found for ticker\n",
      "Monthly data for CENTA saved successfully.\n"
     ]
    },
    {
     "name": "stderr",
     "output_type": "stream",
     "text": [
      "$GCP: possibly delisted; No timezone found\n"
     ]
    },
    {
     "name": "stdout",
     "output_type": "stream",
     "text": [
      "Error fetching historical data for GCP: No historical data found for ticker\n",
      "Monthly data for XRT saved successfully.\n",
      "Monthly data for ADTN saved successfully.\n",
      "Monthly data for BIV saved successfully.\n",
      "Monthly data for FIKMX saved successfully.\n",
      "Monthly data for VFIJX saved successfully.\n",
      "Monthly data for IVE saved successfully.\n",
      "Monthly data for IHS saved successfully.\n"
     ]
    },
    {
     "name": "stderr",
     "output_type": "stream",
     "text": [
      "$TSS: possibly delisted; No timezone found\n"
     ]
    },
    {
     "name": "stdout",
     "output_type": "stream",
     "text": [
      "Error fetching historical data for TSS: No historical data found for ticker\n",
      "Monthly data for TGBAX saved successfully.\n",
      "Monthly data for GTX saved successfully.\n",
      "Monthly data for FBSI saved successfully.\n"
     ]
    },
    {
     "name": "stderr",
     "output_type": "stream",
     "text": [
      "$SPN: possibly delisted; No timezone found\n"
     ]
    },
    {
     "name": "stdout",
     "output_type": "stream",
     "text": [
      "Error fetching historical data for SPN: No historical data found for ticker\n",
      "Monthly data for EXPO saved successfully.\n",
      "Monthly data for HACK saved successfully.\n",
      "Monthly data for QUAD saved successfully.\n",
      "Monthly data for ERH saved successfully.\n",
      "Monthly data for CWST saved successfully.\n"
     ]
    },
    {
     "name": "stderr",
     "output_type": "stream",
     "text": [
      "$NLSN: possibly delisted; No timezone found\n"
     ]
    },
    {
     "name": "stdout",
     "output_type": "stream",
     "text": [
      "Error fetching historical data for NLSN: No historical data found for ticker\n"
     ]
    },
    {
     "name": "stderr",
     "output_type": "stream",
     "text": [
      "$CBS: possibly delisted; No timezone found\n"
     ]
    },
    {
     "name": "stdout",
     "output_type": "stream",
     "text": [
      "Error fetching historical data for CBS: No historical data found for ticker\n"
     ]
    },
    {
     "name": "stderr",
     "output_type": "stream",
     "text": [
      "$VIAB: possibly delisted; No timezone found\n"
     ]
    },
    {
     "name": "stdout",
     "output_type": "stream",
     "text": [
      "Error fetching historical data for VIAB: No historical data found for ticker\n"
     ]
    },
    {
     "name": "stderr",
     "output_type": "stream",
     "text": [
      "$MYL: possibly delisted; No timezone found\n"
     ]
    },
    {
     "name": "stdout",
     "output_type": "stream",
     "text": [
      "Error fetching historical data for MYL: No historical data found for ticker\n",
      "Monthly data for CMPR saved successfully.\n",
      "Monthly data for CBT saved successfully.\n"
     ]
    },
    {
     "name": "stderr",
     "output_type": "stream",
     "text": [
      "$CLNC: possibly delisted; No timezone found\n"
     ]
    },
    {
     "name": "stdout",
     "output_type": "stream",
     "text": [
      "Error fetching historical data for CLNC: No historical data found for ticker\n",
      "Monthly data for NPSNY saved successfully.\n",
      "Monthly data for GCI saved successfully.\n"
     ]
    },
    {
     "name": "stderr",
     "output_type": "stream",
     "text": [
      "$CELG: possibly delisted; No timezone found\n"
     ]
    },
    {
     "name": "stdout",
     "output_type": "stream",
     "text": [
      "Error fetching historical data for CELG: No historical data found for ticker\n"
     ]
    },
    {
     "name": "stderr",
     "output_type": "stream",
     "text": [
      "$DDAIF: possibly delisted; No timezone found\n"
     ]
    },
    {
     "name": "stdout",
     "output_type": "stream",
     "text": [
      "Error fetching historical data for DDAIF: No historical data found for ticker\n"
     ]
    },
    {
     "name": "stderr",
     "output_type": "stream",
     "text": [
      "$ECA: possibly delisted; No timezone found\n"
     ]
    },
    {
     "name": "stdout",
     "output_type": "stream",
     "text": [
      "Error fetching historical data for ECA: No historical data found for ticker\n",
      "Monthly data for FND saved successfully.\n"
     ]
    },
    {
     "name": "stderr",
     "output_type": "stream",
     "text": [
      "$TRHC: possibly delisted; No timezone found\n"
     ]
    },
    {
     "name": "stdout",
     "output_type": "stream",
     "text": [
      "Error fetching historical data for TRHC: No historical data found for ticker\n",
      "Monthly data for CLB saved successfully.\n",
      "Monthly data for RGNX saved successfully.\n"
     ]
    },
    {
     "name": "stderr",
     "output_type": "stream",
     "text": [
      "$AYR: possibly delisted; No timezone found\n"
     ]
    },
    {
     "name": "stdout",
     "output_type": "stream",
     "text": [
      "Error fetching historical data for AYR: No historical data found for ticker\n",
      "Monthly data for CLS saved successfully.\n"
     ]
    },
    {
     "name": "stderr",
     "output_type": "stream",
     "text": [
      "$IBKC: possibly delisted; No timezone found\n"
     ]
    },
    {
     "name": "stdout",
     "output_type": "stream",
     "text": [
      "Error fetching historical data for IBKC: No historical data found for ticker\n"
     ]
    },
    {
     "name": "stderr",
     "output_type": "stream",
     "text": [
      "$IIVI: possibly delisted; No timezone found\n"
     ]
    },
    {
     "name": "stdout",
     "output_type": "stream",
     "text": [
      "Error fetching historical data for IIVI: No historical data found for ticker\n",
      "Monthly data for TWO saved successfully.\n",
      "Monthly data for SIX saved successfully.\n",
      "Monthly data for CAE saved successfully.\n"
     ]
    },
    {
     "name": "stderr",
     "output_type": "stream",
     "text": [
      "$MN: possibly delisted; No timezone found\n"
     ]
    },
    {
     "name": "stdout",
     "output_type": "stream",
     "text": [
      "Error fetching historical data for MN: No historical data found for ticker\n"
     ]
    },
    {
     "name": "stderr",
     "output_type": "stream",
     "text": [
      "$120137: possibly delisted; No timezone found\n"
     ]
    },
    {
     "name": "stdout",
     "output_type": "stream",
     "text": [
      "Error fetching historical data for 120137: No historical data found for ticker\n"
     ]
    },
    {
     "name": "stderr",
     "output_type": "stream",
     "text": [
      "$CBM: possibly delisted; No timezone found\n"
     ]
    },
    {
     "name": "stdout",
     "output_type": "stream",
     "text": [
      "Error fetching historical data for CBM: No historical data found for ticker\n",
      "Monthly data for INDA saved successfully.\n"
     ]
    },
    {
     "name": "stderr",
     "output_type": "stream",
     "text": [
      "$ZEN: possibly delisted; No timezone found\n"
     ]
    },
    {
     "name": "stdout",
     "output_type": "stream",
     "text": [
      "Error fetching historical data for ZEN: No historical data found for ticker\n",
      "Monthly data for MD saved successfully.\n",
      "Monthly data for TWOU saved successfully.\n",
      "Monthly data for MDRX saved successfully.\n",
      "Monthly data for MIDD saved successfully.\n",
      "Monthly data for TYL saved successfully.\n"
     ]
    },
    {
     "name": "stderr",
     "output_type": "stream",
     "text": [
      "$ERI: possibly delisted; No timezone found\n"
     ]
    },
    {
     "name": "stdout",
     "output_type": "stream",
     "text": [
      "Error fetching historical data for ERI: No historical data found for ticker\n",
      "Monthly data for XBI saved successfully.\n",
      "Monthly data for RYAOF saved successfully.\n"
     ]
    },
    {
     "name": "stderr",
     "output_type": "stream",
     "text": [
      "$3V64TI: possibly delisted; No timezone found\n"
     ]
    },
    {
     "name": "stdout",
     "output_type": "stream",
     "text": [
      "Error fetching historical data for 3V64TI: No historical data found for ticker\n"
     ]
    },
    {
     "name": "stderr",
     "output_type": "stream",
     "text": [
      "$0QZIIL: possibly delisted; No timezone found\n"
     ]
    },
    {
     "name": "stdout",
     "output_type": "stream",
     "text": [
      "Error fetching historical data for 0QZIIL: No historical data found for ticker\n",
      "Monthly data for JNK saved successfully.\n"
     ]
    },
    {
     "name": "stderr",
     "output_type": "stream",
     "text": [
      "$LM: possibly delisted; No timezone found\n"
     ]
    },
    {
     "name": "stdout",
     "output_type": "stream",
     "text": [
      "Error fetching historical data for LM: No historical data found for ticker\n"
     ]
    },
    {
     "name": "stderr",
     "output_type": "stream",
     "text": [
      "$BPL: possibly delisted; No timezone found\n"
     ]
    },
    {
     "name": "stdout",
     "output_type": "stream",
     "text": [
      "Error fetching historical data for BPL: No historical data found for ticker\n",
      "Monthly data for PRO saved successfully.\n"
     ]
    },
    {
     "name": "stderr",
     "output_type": "stream",
     "text": [
      "$UPMKY: possibly delisted; No timezone found\n"
     ]
    },
    {
     "name": "stdout",
     "output_type": "stream",
     "text": [
      "Error fetching historical data for UPMKY: No historical data found for ticker\n",
      "Monthly data for ATR saved successfully.\n",
      "Monthly data for LNN saved successfully.\n",
      "Monthly data for CBL saved successfully.\n"
     ]
    },
    {
     "name": "stderr",
     "output_type": "stream",
     "text": [
      "$GFSZY: possibly delisted; No timezone found\n"
     ]
    },
    {
     "name": "stdout",
     "output_type": "stream",
     "text": [
      "Error fetching historical data for GFSZY: No historical data found for ticker\n",
      "Monthly data for DIFTY saved successfully.\n"
     ]
    },
    {
     "name": "stderr",
     "output_type": "stream",
     "text": [
      "$CLNY: possibly delisted; No timezone found\n"
     ]
    },
    {
     "name": "stdout",
     "output_type": "stream",
     "text": [
      "Error fetching historical data for CLNY: No historical data found for ticker\n",
      "Monthly data for PBSFY saved successfully.\n",
      "Monthly data for JMHLY saved successfully.\n",
      "Monthly data for HENOY saved successfully.\n",
      "Monthly data for BZLFY saved successfully.\n"
     ]
    },
    {
     "name": "stderr",
     "output_type": "stream",
     "text": [
      "$SEMG: possibly delisted; No timezone found\n"
     ]
    },
    {
     "name": "stdout",
     "output_type": "stream",
     "text": [
      "Error fetching historical data for SEMG: No historical data found for ticker\n"
     ]
    },
    {
     "name": "stderr",
     "output_type": "stream",
     "text": [
      "$SNH: possibly delisted; No timezone found\n"
     ]
    },
    {
     "name": "stdout",
     "output_type": "stream",
     "text": [
      "Error fetching historical data for SNH: No historical data found for ticker\n"
     ]
    },
    {
     "name": "stderr",
     "output_type": "stream",
     "text": [
      "$ETM: possibly delisted; No timezone found\n",
      "$DNSKY: possibly delisted; No price data found  (1d 2020-01-01 -> 2024-08-28)\n"
     ]
    },
    {
     "name": "stdout",
     "output_type": "stream",
     "text": [
      "Error fetching historical data for ETM: No historical data found for ticker\n",
      "$DNSKY: possibly delisted; No price data found  (1d 2020-01-01 -> 2024-08-28)\n",
      "Error fetching historical data for DNSKY: No historical data found for ticker\n"
     ]
    },
    {
     "name": "stderr",
     "output_type": "stream",
     "text": [
      "$TVTY: possibly delisted; No timezone found\n"
     ]
    },
    {
     "name": "stdout",
     "output_type": "stream",
     "text": [
      "Error fetching historical data for TVTY: No historical data found for ticker\n",
      "Monthly data for RCKY saved successfully.\n",
      "Monthly data for CARS saved successfully.\n",
      "Monthly data for UCON saved successfully.\n"
     ]
    },
    {
     "name": "stderr",
     "output_type": "stream",
     "text": [
      "$912796SH3: possibly delisted; No timezone found\n"
     ]
    },
    {
     "name": "stdout",
     "output_type": "stream",
     "text": [
      "Error fetching historical data for 912796SH3: No historical data found for ticker\n"
     ]
    },
    {
     "name": "stderr",
     "output_type": "stream",
     "text": [
      "$DUE70120: possibly delisted; No timezone found\n"
     ]
    },
    {
     "name": "stdout",
     "output_type": "stream",
     "text": [
      "Error fetching historical data for DUE70120: No historical data found for ticker\n"
     ]
    },
    {
     "name": "stderr",
     "output_type": "stream",
     "text": [
      "$APC: possibly delisted; No timezone found\n"
     ]
    },
    {
     "name": "stdout",
     "output_type": "stream",
     "text": [
      "Error fetching historical data for APC: No historical data found for ticker\n"
     ]
    },
    {
     "name": "stderr",
     "output_type": "stream",
     "text": [
      "$JEC: possibly delisted; No timezone found\n"
     ]
    },
    {
     "name": "stdout",
     "output_type": "stream",
     "text": [
      "Error fetching historical data for JEC: No historical data found for ticker\n"
     ]
    },
    {
     "name": "stderr",
     "output_type": "stream",
     "text": [
      "$MDSO: possibly delisted; No timezone found\n"
     ]
    },
    {
     "name": "stdout",
     "output_type": "stream",
     "text": [
      "Error fetching historical data for MDSO: No historical data found for ticker\n",
      "Monthly data for VST saved successfully.\n",
      "Monthly data for TUP saved successfully.\n",
      "Monthly data for MSTR saved successfully.\n"
     ]
    },
    {
     "name": "stderr",
     "output_type": "stream",
     "text": [
      "$MGP: possibly delisted; No timezone found\n"
     ]
    },
    {
     "name": "stdout",
     "output_type": "stream",
     "text": [
      "Error fetching historical data for MGP: No historical data found for ticker\n"
     ]
    },
    {
     "name": "stderr",
     "output_type": "stream",
     "text": [
      "$COT: possibly delisted; No timezone found\n"
     ]
    },
    {
     "name": "stdout",
     "output_type": "stream",
     "text": [
      "Error fetching historical data for COT: No historical data found for ticker\n",
      "Monthly data for KAR saved successfully.\n",
      "Monthly data for PLAY saved successfully.\n",
      "Monthly data for NEU saved successfully.\n",
      "Monthly data for APT saved successfully.\n"
     ]
    },
    {
     "name": "stderr",
     "output_type": "stream",
     "text": [
      "$DUE100137: possibly delisted; No timezone found\n"
     ]
    },
    {
     "name": "stdout",
     "output_type": "stream",
     "text": [
      "Error fetching historical data for DUE100137: No historical data found for ticker\n"
     ]
    },
    {
     "name": "stderr",
     "output_type": "stream",
     "text": [
      "$DUE080125: possibly delisted; No timezone found\n"
     ]
    },
    {
     "name": "stdout",
     "output_type": "stream",
     "text": [
      "Error fetching historical data for DUE080125: No historical data found for ticker\n",
      "Monthly data for REVB saved successfully.\n"
     ]
    },
    {
     "name": "stderr",
     "output_type": "stream",
     "text": [
      "PDCE: Period '1mo' is invalid, must be one of ['1d', '5d']\n"
     ]
    },
    {
     "name": "stdout",
     "output_type": "stream",
     "text": [
      "Monthly data for APNHY saved successfully.\n",
      "Error fetching historical data for PDCE: No historical data found for ticker\n"
     ]
    },
    {
     "name": "stderr",
     "output_type": "stream",
     "text": [
      "$MINI: possibly delisted; No timezone found\n"
     ]
    },
    {
     "name": "stdout",
     "output_type": "stream",
     "text": [
      "Error fetching historical data for MINI: No historical data found for ticker\n"
     ]
    },
    {
     "name": "stderr",
     "output_type": "stream",
     "text": [
      "$ANDX: possibly delisted; No timezone found\n"
     ]
    },
    {
     "name": "stdout",
     "output_type": "stream",
     "text": [
      "Error fetching historical data for ANDX: No historical data found for ticker\n",
      "Monthly data for IJH saved successfully.\n",
      "Monthly data for ALRM saved successfully.\n",
      "Monthly data for MALOX saved successfully.\n",
      "Monthly data for NRG saved successfully.\n",
      "Monthly data for VPMAX saved successfully.\n",
      "Monthly data for IWF saved successfully.\n",
      "Monthly data for TSCIX saved successfully.\n",
      "Monthly data for GTCSX saved successfully.\n",
      "Monthly data for TCBI saved successfully.\n"
     ]
    },
    {
     "name": "stderr",
     "output_type": "stream",
     "text": [
      "$RHT: possibly delisted; No timezone found\n",
      "$BAMXY: possibly delisted; No price data found  (1d 2020-01-01 -> 2024-08-28)\n"
     ]
    },
    {
     "name": "stdout",
     "output_type": "stream",
     "text": [
      "Error fetching historical data for RHT: No historical data found for ticker\n",
      "$BAMXY: possibly delisted; No price data found  (1d 2020-01-01 -> 2024-08-28)\n",
      "Error fetching historical data for BAMXY: No historical data found for ticker\n",
      "Monthly data for STI saved successfully.\n"
     ]
    },
    {
     "name": "stderr",
     "output_type": "stream",
     "text": [
      "$HUBA: possibly delisted; No timezone found\n"
     ]
    },
    {
     "name": "stdout",
     "output_type": "stream",
     "text": [
      "Error fetching historical data for HUBA: No historical data found for ticker\n"
     ]
    },
    {
     "name": "stderr",
     "output_type": "stream",
     "text": [
      "$WAGE: possibly delisted; No timezone found\n"
     ]
    },
    {
     "name": "stdout",
     "output_type": "stream",
     "text": [
      "Error fetching historical data for WAGE: No historical data found for ticker\n"
     ]
    },
    {
     "name": "stderr",
     "output_type": "stream",
     "text": [
      "$TMK: possibly delisted; No timezone found\n"
     ]
    },
    {
     "name": "stdout",
     "output_type": "stream",
     "text": [
      "Error fetching historical data for TMK: No historical data found for ticker\n",
      "Monthly data for RDUS saved successfully.\n",
      "Monthly data for ARI saved successfully.\n"
     ]
    },
    {
     "name": "stderr",
     "output_type": "stream",
     "text": [
      "$SRC: possibly delisted; No timezone found\n"
     ]
    },
    {
     "name": "stdout",
     "output_type": "stream",
     "text": [
      "Error fetching historical data for SRC: No historical data found for ticker\n",
      "Monthly data for WING saved successfully.\n",
      "Monthly data for APVO saved successfully.\n",
      "Monthly data for MED saved successfully.\n",
      "Monthly data for HIW saved successfully.\n"
     ]
    },
    {
     "name": "stderr",
     "output_type": "stream",
     "text": [
      "$FII: possibly delisted; No timezone found\n"
     ]
    },
    {
     "name": "stdout",
     "output_type": "stream",
     "text": [
      "Error fetching historical data for FII: No historical data found for ticker\n",
      "Monthly data for IRTC saved successfully.\n",
      "Monthly data for CHH saved successfully.\n",
      "Monthly data for ADUS saved successfully.\n",
      "Monthly data for CCOI saved successfully.\n",
      "Monthly data for HL saved successfully.\n",
      "Monthly data for HCP saved successfully.\n",
      "Monthly data for PLCE saved successfully.\n",
      "Monthly data for AXGN saved successfully.\n",
      "Monthly data for G saved successfully.\n",
      "Monthly data for AMBA saved successfully.\n",
      "Monthly data for PGRE saved successfully.\n",
      "Monthly data for WAFD saved successfully.\n",
      "Monthly data for WTS saved successfully.\n",
      "Monthly data for TRMK saved successfully.\n",
      "Monthly data for LANC saved successfully.\n",
      "Monthly data for PNW saved successfully.\n",
      "Monthly data for OXM saved successfully.\n",
      "Monthly data for APLE saved successfully.\n"
     ]
    },
    {
     "name": "stderr",
     "output_type": "stream",
     "text": [
      "$LLL: possibly delisted; No timezone found\n"
     ]
    },
    {
     "name": "stdout",
     "output_type": "stream",
     "text": [
      "Error fetching historical data for LLL: No historical data found for ticker\n",
      "Monthly data for CVLT saved successfully.\n",
      "Monthly data for FFIN saved successfully.\n"
     ]
    },
    {
     "name": "stderr",
     "output_type": "stream",
     "text": [
      "$GBT: possibly delisted; No timezone found\n"
     ]
    },
    {
     "name": "stdout",
     "output_type": "stream",
     "text": [
      "Error fetching historical data for GBT: No historical data found for ticker\n"
     ]
    },
    {
     "name": "stderr",
     "output_type": "stream",
     "text": [
      "$CXP: possibly delisted; No timezone found\n"
     ]
    },
    {
     "name": "stdout",
     "output_type": "stream",
     "text": [
      "Error fetching historical data for CXP: No historical data found for ticker\n",
      "Monthly data for TRMB saved successfully.\n",
      "Monthly data for BOOM saved successfully.\n",
      "Monthly data for SITC saved successfully.\n"
     ]
    },
    {
     "name": "stderr",
     "output_type": "stream",
     "text": [
      "$UMPQ: possibly delisted; No timezone found\n"
     ]
    },
    {
     "name": "stdout",
     "output_type": "stream",
     "text": [
      "Error fetching historical data for UMPQ: No historical data found for ticker\n",
      "Monthly data for VRNS saved successfully.\n"
     ]
    },
    {
     "name": "stderr",
     "output_type": "stream",
     "text": [
      "$FBC: possibly delisted; No timezone found\n"
     ]
    },
    {
     "name": "stdout",
     "output_type": "stream",
     "text": [
      "Error fetching historical data for FBC: No historical data found for ticker\n"
     ]
    },
    {
     "name": "stderr",
     "output_type": "stream",
     "text": [
      "$BXS: possibly delisted; No timezone found\n"
     ]
    },
    {
     "name": "stdout",
     "output_type": "stream",
     "text": [
      "Error fetching historical data for BXS: No historical data found for ticker\n",
      "Monthly data for H saved successfully.\n",
      "Monthly data for DLB saved successfully.\n",
      "Monthly data for MANH saved successfully.\n",
      "Monthly data for REXR saved successfully.\n",
      "Monthly data for PB saved successfully.\n",
      "Monthly data for EGBN saved successfully.\n",
      "Monthly data for BKU saved successfully.\n",
      "Monthly data for CDE saved successfully.\n",
      "Monthly data for FIBK saved successfully.\n",
      "Monthly data for AWI saved successfully.\n",
      "Monthly data for DNOW saved successfully.\n",
      "Monthly data for LAUR saved successfully.\n",
      "Monthly data for PNR saved successfully.\n",
      "Monthly data for SMGZY saved successfully.\n"
     ]
    },
    {
     "name": "stderr",
     "output_type": "stream",
     "text": [
      "$BBT: possibly delisted; No timezone found\n"
     ]
    },
    {
     "name": "stdout",
     "output_type": "stream",
     "text": [
      "Error fetching historical data for BBT: No historical data found for ticker\n"
     ]
    },
    {
     "name": "stderr",
     "output_type": "stream",
     "text": [
      "$RDSAAS: possibly delisted; No timezone found\n"
     ]
    },
    {
     "name": "stdout",
     "output_type": "stream",
     "text": [
      "Error fetching historical data for RDSAAS: No historical data found for ticker\n",
      "Monthly data for AZPN saved successfully.\n",
      "Monthly data for EXEL saved successfully.\n",
      "Monthly data for ARR saved successfully.\n",
      "Monthly data for MTH saved successfully.\n"
     ]
    },
    {
     "name": "stderr",
     "output_type": "stream",
     "text": [
      "$FDC: possibly delisted; No timezone found\n"
     ]
    },
    {
     "name": "stdout",
     "output_type": "stream",
     "text": [
      "Error fetching historical data for FDC: No historical data found for ticker\n"
     ]
    },
    {
     "name": "stderr",
     "output_type": "stream",
     "text": [
      "$40056FN84: possibly delisted; No timezone found\n"
     ]
    },
    {
     "name": "stdout",
     "output_type": "stream",
     "text": [
      "Error fetching historical data for 40056FN84: No historical data found for ticker\n",
      "Monthly data for FFRHX saved successfully.\n",
      "Monthly data for MDXG saved successfully.\n"
     ]
    },
    {
     "name": "stderr",
     "output_type": "stream",
     "text": [
      "$WBC: possibly delisted; No timezone found\n"
     ]
    },
    {
     "name": "stdout",
     "output_type": "stream",
     "text": [
      "Error fetching historical data for WBC: No historical data found for ticker\n",
      "Monthly data for AMRX saved successfully.\n",
      "Monthly data for INFY saved successfully.\n"
     ]
    },
    {
     "name": "stderr",
     "output_type": "stream",
     "text": [
      "$PDRDY: possibly delisted; No timezone found\n"
     ]
    },
    {
     "name": "stdout",
     "output_type": "stream",
     "text": [
      "Error fetching historical data for PDRDY: No historical data found for ticker\n",
      "Monthly data for RBGLY saved successfully.\n"
     ]
    },
    {
     "name": "stderr",
     "output_type": "stream",
     "text": [
      "$GMXAY: possibly delisted; No timezone found\n"
     ]
    },
    {
     "name": "stdout",
     "output_type": "stream",
     "text": [
      "Error fetching historical data for GMXAY: No historical data found for ticker\n",
      "Monthly data for KOSCF saved successfully.\n",
      "Monthly data for SMECF saved successfully.\n"
     ]
    },
    {
     "name": "stderr",
     "output_type": "stream",
     "text": [
      "$OOCP: possibly delisted; No timezone found\n"
     ]
    },
    {
     "name": "stdout",
     "output_type": "stream",
     "text": [
      "Error fetching historical data for OOCP: No historical data found for ticker\n"
     ]
    },
    {
     "name": "stderr",
     "output_type": "stream",
     "text": [
      "$NJ: possibly delisted; No price data found  (1d 2020-01-01 -> 2024-08-28)\n"
     ]
    },
    {
     "name": "stdout",
     "output_type": "stream",
     "text": [
      "Monthly data for CABGY saved successfully.\n",
      "$NJ: possibly delisted; No price data found  (1d 2020-01-01 -> 2024-08-28)\n",
      "Error fetching historical data for NJ: No historical data found for ticker\n"
     ]
    },
    {
     "name": "stderr",
     "output_type": "stream",
     "text": [
      "$RYDBF: possibly delisted; No timezone found\n"
     ]
    },
    {
     "name": "stdout",
     "output_type": "stream",
     "text": [
      "Error fetching historical data for RYDBF: No historical data found for ticker\n",
      "Monthly data for PKCOY saved successfully.\n",
      "Monthly data for KYCCF saved successfully.\n",
      "Monthly data for IEMG saved successfully.\n"
     ]
    },
    {
     "name": "stderr",
     "output_type": "stream",
     "text": [
      "$40055AY43: possibly delisted; No timezone found\n"
     ]
    },
    {
     "name": "stdout",
     "output_type": "stream",
     "text": [
      "Error fetching historical data for 40055AY43: No historical data found for ticker\n"
     ]
    },
    {
     "name": "stderr",
     "output_type": "stream",
     "text": [
      "$CTRL: possibly delisted; No timezone found\n"
     ]
    },
    {
     "name": "stdout",
     "output_type": "stream",
     "text": [
      "Error fetching historical data for CTRL: No historical data found for ticker\n"
     ]
    },
    {
     "name": "stderr",
     "output_type": "stream",
     "text": [
      "$AVP: possibly delisted; No timezone found\n"
     ]
    },
    {
     "name": "stdout",
     "output_type": "stream",
     "text": [
      "Error fetching historical data for AVP: No historical data found for ticker\n",
      "Monthly data for ESGR saved successfully.\n",
      "Monthly data for JGCCY saved successfully.\n"
     ]
    },
    {
     "name": "stderr",
     "output_type": "stream",
     "text": [
      "$DWDP: possibly delisted; No timezone found\n"
     ]
    },
    {
     "name": "stdout",
     "output_type": "stream",
     "text": [
      "Error fetching historical data for DWDP: No historical data found for ticker\n",
      "Monthly data for GDV saved successfully.\n",
      "Monthly data for PBYI saved successfully.\n",
      "Monthly data for KMT saved successfully.\n"
     ]
    },
    {
     "name": "stderr",
     "output_type": "stream",
     "text": [
      "$AMBR: possibly delisted; No timezone found\n"
     ]
    },
    {
     "name": "stdout",
     "output_type": "stream",
     "text": [
      "Error fetching historical data for AMBR: No historical data found for ticker\n",
      "Monthly data for TPX saved successfully.\n"
     ]
    },
    {
     "name": "stderr",
     "output_type": "stream",
     "text": [
      "$HPT: possibly delisted; No timezone found\n"
     ]
    },
    {
     "name": "stdout",
     "output_type": "stream",
     "text": [
      "Error fetching historical data for HPT: No historical data found for ticker\n",
      "Monthly data for EGY saved successfully.\n",
      "Monthly data for CNDT saved successfully.\n"
     ]
    },
    {
     "name": "stderr",
     "output_type": "stream",
     "text": [
      "$070136: possibly delisted; No timezone found\n"
     ]
    },
    {
     "name": "stdout",
     "output_type": "stream",
     "text": [
      "Error fetching historical data for 070136: No historical data found for ticker\n"
     ]
    },
    {
     "name": "stderr",
     "output_type": "stream",
     "text": [
      "$070128: possibly delisted; No timezone found\n"
     ]
    },
    {
     "name": "stdout",
     "output_type": "stream",
     "text": [
      "Error fetching historical data for 070128: No historical data found for ticker\n",
      "Monthly data for TDS saved successfully.\n",
      "Monthly data for XRX saved successfully.\n",
      "Monthly data for DMRC saved successfully.\n",
      "Monthly data for MGPI saved successfully.\n",
      "Monthly data for ABM saved successfully.\n",
      "Monthly data for RDFN saved successfully.\n"
     ]
    },
    {
     "name": "stderr",
     "output_type": "stream",
     "text": [
      "$SCHN: possibly delisted; No timezone found\n"
     ]
    },
    {
     "name": "stdout",
     "output_type": "stream",
     "text": [
      "Error fetching historical data for SCHN: No historical data found for ticker\n",
      "Monthly data for DBD saved successfully.\n"
     ]
    },
    {
     "name": "stderr",
     "output_type": "stream",
     "text": [
      "$UBNT: possibly delisted; No timezone found\n"
     ]
    },
    {
     "name": "stdout",
     "output_type": "stream",
     "text": [
      "Error fetching historical data for UBNT: No historical data found for ticker\n"
     ]
    },
    {
     "name": "stderr",
     "output_type": "stream",
     "text": [
      "$WP: possibly delisted; No timezone found\n"
     ]
    },
    {
     "name": "stdout",
     "output_type": "stream",
     "text": [
      "Error fetching historical data for WP: No historical data found for ticker\n"
     ]
    },
    {
     "name": "stderr",
     "output_type": "stream",
     "text": [
      "$ULTI: possibly delisted; No timezone found\n"
     ]
    },
    {
     "name": "stdout",
     "output_type": "stream",
     "text": [
      "Error fetching historical data for ULTI: No historical data found for ticker\n",
      "Monthly data for EAT saved successfully.\n",
      "Monthly data for ESNT saved successfully.\n",
      "Monthly data for BIG saved successfully.\n"
     ]
    },
    {
     "name": "stderr",
     "output_type": "stream",
     "text": [
      "$VCRA: possibly delisted; No timezone found\n"
     ]
    },
    {
     "name": "stdout",
     "output_type": "stream",
     "text": [
      "Error fetching historical data for VCRA: No historical data found for ticker\n",
      "Monthly data for LLDTF saved successfully.\n"
     ]
    },
    {
     "name": "stderr",
     "output_type": "stream",
     "text": [
      "$ADSW: possibly delisted; No timezone found\n"
     ]
    },
    {
     "name": "stdout",
     "output_type": "stream",
     "text": [
      "Error fetching historical data for ADSW: No historical data found for ticker\n",
      "Monthly data for UNCHF saved successfully.\n"
     ]
    },
    {
     "name": "stderr",
     "output_type": "stream",
     "text": [
      "$NTDMF: possibly delisted; No timezone found\n"
     ]
    },
    {
     "name": "stdout",
     "output_type": "stream",
     "text": [
      "Error fetching historical data for NTDMF: No historical data found for ticker\n",
      "Monthly data for SFTBF saved successfully.\n",
      "Monthly data for WGO saved successfully.\n"
     ]
    },
    {
     "name": "stderr",
     "output_type": "stream",
     "text": [
      "$SWH: possibly delisted; No price data found  (1d 2020-01-01 -> 2024-08-28)\n"
     ]
    },
    {
     "name": "stdout",
     "output_type": "stream",
     "text": [
      "Monthly data for VIOT saved successfully.\n",
      "$SWH: possibly delisted; No price data found  (1d 2020-01-01 -> 2024-08-28)\n",
      "Error fetching historical data for SWH: No historical data found for ticker\n",
      "Monthly data for PUMP saved successfully.\n",
      "Monthly data for TMHC saved successfully.\n",
      "Monthly data for CCS saved successfully.\n"
     ]
    },
    {
     "name": "stderr",
     "output_type": "stream",
     "text": [
      "$WDR: possibly delisted; No timezone found\n"
     ]
    },
    {
     "name": "stdout",
     "output_type": "stream",
     "text": [
      "Error fetching historical data for WDR: No historical data found for ticker\n"
     ]
    },
    {
     "name": "stderr",
     "output_type": "stream",
     "text": [
      "$II: possibly delisted; No price data found  (1d 2020-01-01 -> 2024-08-28)\n"
     ]
    },
    {
     "name": "stdout",
     "output_type": "stream",
     "text": [
      "Monthly data for CRI saved successfully.\n",
      "$II: possibly delisted; No price data found  (1d 2020-01-01 -> 2024-08-28)\n",
      "Error fetching historical data for II: No historical data found for ticker\n",
      "Monthly data for TORIX saved successfully.\n",
      "Monthly data for SUP saved successfully.\n"
     ]
    },
    {
     "name": "stderr",
     "output_type": "stream",
     "text": [
      "$ELLI: possibly delisted; No timezone found\n"
     ]
    },
    {
     "name": "stdout",
     "output_type": "stream",
     "text": [
      "Error fetching historical data for ELLI: No historical data found for ticker\n",
      "Monthly data for INGR saved successfully.\n",
      "Monthly data for BOKF saved successfully.\n"
     ]
    },
    {
     "name": "stderr",
     "output_type": "stream",
     "text": [
      "$CHEUY: possibly delisted; No price data found  (1d 2020-01-01 -> 2024-08-28)\n"
     ]
    },
    {
     "name": "stdout",
     "output_type": "stream",
     "text": [
      "Monthly data for LCII saved successfully.\n",
      "$CHEUY: possibly delisted; No price data found  (1d 2020-01-01 -> 2024-08-28)\n",
      "Error fetching historical data for CHEUY: No historical data found for ticker\n",
      "Monthly data for VET saved successfully.\n",
      "Monthly data for LFUS saved successfully.\n",
      "Monthly data for DCM saved successfully.\n",
      "Monthly data for JRVR saved successfully.\n",
      "Monthly data for CM saved successfully.\n",
      "Monthly data for GOLF saved successfully.\n",
      "Monthly data for WASH saved successfully.\n",
      "Monthly data for BLX saved successfully.\n",
      "Monthly data for AIN saved successfully.\n",
      "Monthly data for AGO saved successfully.\n",
      "Monthly data for EGP saved successfully.\n",
      "Monthly data for BGS saved successfully.\n"
     ]
    },
    {
     "name": "stderr",
     "output_type": "stream",
     "text": [
      "$BGCP: possibly delisted; No timezone found\n"
     ]
    },
    {
     "name": "stdout",
     "output_type": "stream",
     "text": [
      "Error fetching historical data for BGCP: No historical data found for ticker\n",
      "Monthly data for PNM saved successfully.\n",
      "Monthly data for CNSL saved successfully.\n",
      "Monthly data for MAN saved successfully.\n",
      "Monthly data for HOPE saved successfully.\n",
      "Monthly data for HNI saved successfully.\n",
      "Monthly data for FUL saved successfully.\n",
      "Monthly data for CNMD saved successfully.\n",
      "Monthly data for ALE saved successfully.\n"
     ]
    },
    {
     "name": "stderr",
     "output_type": "stream",
     "text": [
      "$DUKPA: possibly delisted; No timezone found\n"
     ]
    },
    {
     "name": "stdout",
     "output_type": "stream",
     "text": [
      "Error fetching historical data for DUKPA: No historical data found for ticker\n",
      "Monthly data for FTS saved successfully.\n",
      "Monthly data for HA saved successfully.\n",
      "Monthly data for DKS saved successfully.\n",
      "Monthly data for ALV saved successfully.\n"
     ]
    },
    {
     "name": "stderr",
     "output_type": "stream",
     "text": [
      "$WGHPY: possibly delisted; No timezone found\n"
     ]
    },
    {
     "name": "stdout",
     "output_type": "stream",
     "text": [
      "Error fetching historical data for WGHPY: No historical data found for ticker\n",
      "Monthly data for OZK saved successfully.\n",
      "Monthly data for NMRK saved successfully.\n"
     ]
    },
    {
     "name": "stderr",
     "output_type": "stream",
     "text": [
      "$AHONY: possibly delisted; No timezone found\n"
     ]
    },
    {
     "name": "stdout",
     "output_type": "stream",
     "text": [
      "Error fetching historical data for AHONY: No historical data found for ticker\n",
      "Monthly data for MSA saved successfully.\n",
      "Monthly data for DK saved successfully.\n"
     ]
    },
    {
     "name": "stderr",
     "output_type": "stream",
     "text": [
      "$JCOM: possibly delisted; No timezone found\n"
     ]
    },
    {
     "name": "stdout",
     "output_type": "stream",
     "text": [
      "Error fetching historical data for JCOM: No historical data found for ticker\n",
      "Monthly data for LECO saved successfully.\n",
      "Monthly data for PRNHX saved successfully.\n",
      "Monthly data for FSTFX saved successfully.\n"
     ]
    },
    {
     "name": "stderr",
     "output_type": "stream",
     "text": [
      "$FFHRX: possibly delisted; No timezone found\n"
     ]
    },
    {
     "name": "stdout",
     "output_type": "stream",
     "text": [
      "Error fetching historical data for FFHRX: No historical data found for ticker\n",
      "Monthly data for FLMVX saved successfully.\n"
     ]
    },
    {
     "name": "stderr",
     "output_type": "stream",
     "text": [
      "$HRS: possibly delisted; No timezone found\n"
     ]
    },
    {
     "name": "stdout",
     "output_type": "stream",
     "text": [
      "Error fetching historical data for HRS: No historical data found for ticker\n",
      "Monthly data for EYE saved successfully.\n"
     ]
    },
    {
     "name": "stderr",
     "output_type": "stream",
     "text": [
      "$PER: possibly delisted; No timezone found\n"
     ]
    },
    {
     "name": "stdout",
     "output_type": "stream",
     "text": [
      "Error fetching historical data for PER: No historical data found for ticker\n",
      "Monthly data for UTGN saved successfully.\n"
     ]
    },
    {
     "name": "stderr",
     "output_type": "stream",
     "text": [
      "$RCII: possibly delisted; No timezone found\n"
     ]
    },
    {
     "name": "stdout",
     "output_type": "stream",
     "text": [
      "Error fetching historical data for RCII: No historical data found for ticker\n"
     ]
    },
    {
     "name": "stderr",
     "output_type": "stream",
     "text": [
      "$TFCFA: possibly delisted; No timezone found\n"
     ]
    },
    {
     "name": "stdout",
     "output_type": "stream",
     "text": [
      "Error fetching historical data for TFCFA: No historical data found for ticker\n"
     ]
    },
    {
     "name": "stderr",
     "output_type": "stream",
     "text": [
      "$DOOR: possibly delisted; No timezone found\n"
     ]
    },
    {
     "name": "stdout",
     "output_type": "stream",
     "text": [
      "Error fetching historical data for DOOR: No historical data found for ticker\n",
      "Monthly data for OGE saved successfully.\n",
      "Monthly data for GBX saved successfully.\n"
     ]
    },
    {
     "name": "stderr",
     "output_type": "stream",
     "text": [
      "$TFCF: possibly delisted; No timezone found\n"
     ]
    },
    {
     "name": "stdout",
     "output_type": "stream",
     "text": [
      "Error fetching historical data for TFCF: No historical data found for ticker\n",
      "Monthly data for FF saved successfully.\n"
     ]
    },
    {
     "name": "stderr",
     "output_type": "stream",
     "text": [
      "$CTRP: possibly delisted; No timezone found\n"
     ]
    },
    {
     "name": "stdout",
     "output_type": "stream",
     "text": [
      "Error fetching historical data for CTRP: No historical data found for ticker\n",
      "Monthly data for XSLV saved successfully.\n"
     ]
    },
    {
     "name": "stderr",
     "output_type": "stream",
     "text": [
      "$XENT: possibly delisted; No timezone found\n"
     ]
    },
    {
     "name": "stdout",
     "output_type": "stream",
     "text": [
      "Error fetching historical data for XENT: No historical data found for ticker\n"
     ]
    },
    {
     "name": "stderr",
     "output_type": "stream",
     "text": [
      "$CTB: possibly delisted; No timezone found\n"
     ]
    },
    {
     "name": "stdout",
     "output_type": "stream",
     "text": [
      "Error fetching historical data for CTB: No historical data found for ticker\n",
      "Monthly data for UTHR saved successfully.\n",
      "Monthly data for BH saved successfully.\n"
     ]
    },
    {
     "name": "stderr",
     "output_type": "stream",
     "text": [
      "$DPLO: possibly delisted; No timezone found\n"
     ]
    },
    {
     "name": "stdout",
     "output_type": "stream",
     "text": [
      "Error fetching historical data for DPLO: No historical data found for ticker\n",
      "Monthly data for IBP saved successfully.\n",
      "Monthly data for GBOOY saved successfully.\n",
      "Monthly data for DEA saved successfully.\n",
      "Monthly data for EXG saved successfully.\n"
     ]
    },
    {
     "name": "stderr",
     "output_type": "stream",
     "text": [
      "$MSG: possibly delisted; No timezone found\n"
     ]
    },
    {
     "name": "stdout",
     "output_type": "stream",
     "text": [
      "Error fetching historical data for MSG: No historical data found for ticker\n",
      "Monthly data for CPRT saved successfully.\n",
      "Monthly data for JJSF saved successfully.\n"
     ]
    },
    {
     "name": "stderr",
     "output_type": "stream",
     "text": [
      "$APU: possibly delisted; No timezone found\n"
     ]
    },
    {
     "name": "stdout",
     "output_type": "stream",
     "text": [
      "Error fetching historical data for APU: No historical data found for ticker\n"
     ]
    },
    {
     "name": "stderr",
     "output_type": "stream",
     "text": [
      "$CNXM: possibly delisted; No timezone found\n"
     ]
    },
    {
     "name": "stdout",
     "output_type": "stream",
     "text": [
      "Error fetching historical data for CNXM: No historical data found for ticker\n"
     ]
    },
    {
     "name": "stderr",
     "output_type": "stream",
     "text": [
      "$CINR: possibly delisted; No timezone found\n"
     ]
    },
    {
     "name": "stdout",
     "output_type": "stream",
     "text": [
      "Error fetching historical data for CINR: No historical data found for ticker\n"
     ]
    },
    {
     "name": "stderr",
     "output_type": "stream",
     "text": [
      "$SPKEP: possibly delisted; No timezone found\n"
     ]
    },
    {
     "name": "stdout",
     "output_type": "stream",
     "text": [
      "Error fetching historical data for SPKEP: No historical data found for ticker\n"
     ]
    },
    {
     "name": "stderr",
     "output_type": "stream",
     "text": [
      "$ZAYO: possibly delisted; No timezone found\n"
     ]
    },
    {
     "name": "stdout",
     "output_type": "stream",
     "text": [
      "Error fetching historical data for ZAYO: No historical data found for ticker\n",
      "Monthly data for HESM saved successfully.\n",
      "Monthly data for SAVE saved successfully.\n"
     ]
    },
    {
     "name": "stderr",
     "output_type": "stream",
     "text": [
      "$ORBK: possibly delisted; No timezone found\n"
     ]
    },
    {
     "name": "stdout",
     "output_type": "stream",
     "text": [
      "Error fetching historical data for ORBK: No historical data found for ticker\n"
     ]
    },
    {
     "name": "stderr",
     "output_type": "stream",
     "text": [
      "$912796QV4: possibly delisted; No timezone found\n"
     ]
    },
    {
     "name": "stdout",
     "output_type": "stream",
     "text": [
      "Error fetching historical data for 912796QV4: No historical data found for ticker\n"
     ]
    },
    {
     "name": "stderr",
     "output_type": "stream",
     "text": [
      "$ATHN: possibly delisted; No timezone found\n",
      "$BFET: possibly delisted; No price data found  (1d 2020-01-01 -> 2024-08-28)\n"
     ]
    },
    {
     "name": "stdout",
     "output_type": "stream",
     "text": [
      "Error fetching historical data for ATHN: No historical data found for ticker\n",
      "$BFET: possibly delisted; No price data found  (1d 2020-01-01 -> 2024-08-28)\n",
      "Error fetching historical data for BFET: No historical data found for ticker\n",
      "Monthly data for GCO saved successfully.\n"
     ]
    },
    {
     "name": "stderr",
     "output_type": "stream",
     "text": [
      "$PSB: possibly delisted; No timezone found\n",
      "$ESRX: possibly delisted; No price data found  (1d 2020-01-01 -> 2024-08-28)\n"
     ]
    },
    {
     "name": "stdout",
     "output_type": "stream",
     "text": [
      "Error fetching historical data for PSB: No historical data found for ticker\n",
      "$ESRX: possibly delisted; No price data found  (1d 2020-01-01 -> 2024-08-28)\n",
      "Error fetching historical data for ESRX: No historical data found for ticker\n"
     ]
    },
    {
     "name": "stderr",
     "output_type": "stream",
     "text": [
      "$UFS: possibly delisted; No timezone found\n",
      "$ANCX: possibly delisted; No price data found  (1d 2020-01-01 -> 2024-08-28)\n"
     ]
    },
    {
     "name": "stdout",
     "output_type": "stream",
     "text": [
      "Error fetching historical data for UFS: No historical data found for ticker\n",
      "$ANCX: possibly delisted; No price data found  (1d 2020-01-01 -> 2024-08-28)\n",
      "Error fetching historical data for ANCX: No historical data found for ticker\n"
     ]
    },
    {
     "name": "stderr",
     "output_type": "stream",
     "text": [
      "$TNTOF: possibly delisted; No timezone found\n"
     ]
    },
    {
     "name": "stdout",
     "output_type": "stream",
     "text": [
      "Error fetching historical data for TNTOF: No historical data found for ticker\n",
      "Monthly data for NAVI saved successfully.\n",
      "Monthly data for AX saved successfully.\n",
      "Monthly data for OPI saved successfully.\n"
     ]
    },
    {
     "name": "stderr",
     "output_type": "stream",
     "text": [
      "$SNHY: possibly delisted; No timezone found\n",
      "$CCT: possibly delisted; No price data found  (1d 2020-01-01 -> 2024-08-28)\n"
     ]
    },
    {
     "name": "stdout",
     "output_type": "stream",
     "text": [
      "Error fetching historical data for SNHY: No historical data found for ticker\n",
      "$CCT: possibly delisted; No price data found  (1d 2020-01-01 -> 2024-08-28)\n",
      "Error fetching historical data for CCT: No historical data found for ticker\n",
      "Monthly data for THG saved successfully.\n",
      "Monthly data for IXP saved successfully.\n"
     ]
    },
    {
     "name": "stderr",
     "output_type": "stream",
     "text": [
      "$LABL: possibly delisted; No timezone found\n"
     ]
    },
    {
     "name": "stdout",
     "output_type": "stream",
     "text": [
      "Error fetching historical data for LABL: No historical data found for ticker\n",
      "Monthly data for AMSF saved successfully.\n"
     ]
    },
    {
     "name": "stderr",
     "output_type": "stream",
     "text": [
      "$BEL: possibly delisted; No timezone found\n"
     ]
    },
    {
     "name": "stdout",
     "output_type": "stream",
     "text": [
      "Error fetching historical data for BEL: No historical data found for ticker\n"
     ]
    },
    {
     "name": "stderr",
     "output_type": "stream",
     "text": [
      "$AOBC: possibly delisted; No timezone found\n",
      "$TVPT: possibly delisted; No price data found  (1d 2020-01-01 -> 2024-08-28)\n"
     ]
    },
    {
     "name": "stdout",
     "output_type": "stream",
     "text": [
      "Error fetching historical data for AOBC: No historical data found for ticker\n",
      "$TVPT: possibly delisted; No price data found  (1d 2020-01-01 -> 2024-08-28)\n",
      "Error fetching historical data for TVPT: No historical data found for ticker\n",
      "Monthly data for WB saved successfully.\n",
      "Monthly data for PETQ saved successfully.\n",
      "Monthly data for LLESY saved successfully.\n",
      "Monthly data for VGT saved successfully.\n",
      "Monthly data for MC saved successfully.\n",
      "Monthly data for CVGW saved successfully.\n"
     ]
    },
    {
     "name": "stderr",
     "output_type": "stream",
     "text": [
      "$PEGI: possibly delisted; No timezone found\n"
     ]
    },
    {
     "name": "stdout",
     "output_type": "stream",
     "text": [
      "Error fetching historical data for PEGI: No historical data found for ticker\n",
      "Monthly data for KN saved successfully.\n",
      "Monthly data for PCG saved successfully.\n"
     ]
    },
    {
     "name": "stderr",
     "output_type": "stream",
     "text": [
      "$ESL: possibly delisted; No timezone found\n"
     ]
    },
    {
     "name": "stdout",
     "output_type": "stream",
     "text": [
      "Error fetching historical data for ESL: No historical data found for ticker\n",
      "Monthly data for SONO saved successfully.\n"
     ]
    },
    {
     "name": "stderr",
     "output_type": "stream",
     "text": [
      "$PTLA: possibly delisted; No timezone found\n",
      "$SCG: possibly delisted; No price data found  (1d 2020-01-01 -> 2024-08-28)\n"
     ]
    },
    {
     "name": "stdout",
     "output_type": "stream",
     "text": [
      "Error fetching historical data for PTLA: No historical data found for ticker\n",
      "$SCG: possibly delisted; No price data found  (1d 2020-01-01 -> 2024-08-28)\n",
      "Error fetching historical data for SCG: No historical data found for ticker\n"
     ]
    },
    {
     "name": "stderr",
     "output_type": "stream",
     "text": [
      "$CXO: possibly delisted; No timezone found\n"
     ]
    },
    {
     "name": "stdout",
     "output_type": "stream",
     "text": [
      "Error fetching historical data for CXO: No historical data found for ticker\n",
      "Monthly data for VOE saved successfully.\n",
      "Monthly data for VB saved successfully.\n"
     ]
    },
    {
     "name": "stderr",
     "output_type": "stream",
     "text": [
      "$ARAV: possibly delisted; No timezone found\n"
     ]
    },
    {
     "name": "stdout",
     "output_type": "stream",
     "text": [
      "Error fetching historical data for ARAV: No historical data found for ticker\n"
     ]
    },
    {
     "name": "stderr",
     "output_type": "stream",
     "text": [
      "$BKCC: possibly delisted; No timezone found\n"
     ]
    },
    {
     "name": "stdout",
     "output_type": "stream",
     "text": [
      "Error fetching historical data for BKCC: No historical data found for ticker\n"
     ]
    },
    {
     "name": "stderr",
     "output_type": "stream",
     "text": [
      "$MIC: possibly delisted; No timezone found\n"
     ]
    },
    {
     "name": "stdout",
     "output_type": "stream",
     "text": [
      "Error fetching historical data for MIC: No historical data found for ticker\n"
     ]
    },
    {
     "name": "stderr",
     "output_type": "stream",
     "text": [
      "$MZOR: possibly delisted; No price data found  (1d 2020-01-01 -> 2024-08-28)\n"
     ]
    },
    {
     "name": "stdout",
     "output_type": "stream",
     "text": [
      "Monthly data for RA saved successfully.\n",
      "$MZOR: possibly delisted; No price data found  (1d 2020-01-01 -> 2024-08-28)\n",
      "Error fetching historical data for MZOR: No historical data found for ticker\n",
      "Monthly data for FTAI saved successfully.\n",
      "Monthly data for MMS saved successfully.\n",
      "Monthly data for VCR saved successfully.\n",
      "Monthly data for VTV saved successfully.\n",
      "Monthly data for SEKEY saved successfully.\n",
      "Monthly data for MRT saved successfully.\n",
      "Monthly data for SIR saved successfully.\n"
     ]
    },
    {
     "name": "stderr",
     "output_type": "stream",
     "text": [
      "$LN: possibly delisted; No timezone found\n"
     ]
    },
    {
     "name": "stdout",
     "output_type": "stream",
     "text": [
      "Error fetching historical data for LN: No historical data found for ticker\n"
     ]
    },
    {
     "name": "stderr",
     "output_type": "stream",
     "text": [
      "$AMCRY: possibly delisted; No timezone found\n"
     ]
    },
    {
     "name": "stdout",
     "output_type": "stream",
     "text": [
      "Error fetching historical data for AMCRY: No historical data found for ticker\n",
      "Monthly data for CATO saved successfully.\n",
      "Monthly data for CPYYY saved successfully.\n",
      "Monthly data for ASOMY saved successfully.\n",
      "Monthly data for VLEEY saved successfully.\n"
     ]
    },
    {
     "name": "stderr",
     "output_type": "stream",
     "text": [
      "$STAR: possibly delisted; No timezone found\n",
      "$SHPG: possibly delisted; No price data found  (1d 2020-01-01 -> 2024-08-28)\n",
      "$GOV: possibly delisted; No price data found  (1d 2020-01-01 -> 2024-08-28)\n"
     ]
    },
    {
     "name": "stdout",
     "output_type": "stream",
     "text": [
      "Error fetching historical data for STAR: No historical data found for ticker\n",
      "$SHPG: possibly delisted; No price data found  (1d 2020-01-01 -> 2024-08-28)\n",
      "Error fetching historical data for SHPG: No historical data found for ticker\n",
      "$GOV: possibly delisted; No price data found  (1d 2020-01-01 -> 2024-08-28)\n",
      "Error fetching historical data for GOV: No historical data found for ticker\n",
      "Monthly data for GFAFX saved successfully.\n",
      "Monthly data for OMI saved successfully.\n"
     ]
    },
    {
     "name": "stderr",
     "output_type": "stream",
     "text": [
      "$INGIY: possibly delisted; No timezone found\n"
     ]
    },
    {
     "name": "stdout",
     "output_type": "stream",
     "text": [
      "Error fetching historical data for INGIY: No historical data found for ticker\n",
      "Monthly data for AHT saved successfully.\n",
      "Monthly data for BHR saved successfully.\n"
     ]
    },
    {
     "name": "stderr",
     "output_type": "stream",
     "text": [
      "$NRBAY: possibly delisted; No price data found  (1d 2020-01-01 -> 2024-08-28)\n"
     ]
    },
    {
     "name": "stdout",
     "output_type": "stream",
     "text": [
      "Monthly data for FSNUY saved successfully.\n",
      "$NRBAY: possibly delisted; No price data found  (1d 2020-01-01 -> 2024-08-28)\n",
      "Error fetching historical data for NRBAY: No historical data found for ticker\n"
     ]
    },
    {
     "name": "stderr",
     "output_type": "stream",
     "text": [
      "$SMTA: possibly delisted; No timezone found\n",
      "$VLP: possibly delisted; No price data found  (1d 2020-01-01 -> 2024-08-28)\n"
     ]
    },
    {
     "name": "stdout",
     "output_type": "stream",
     "text": [
      "Error fetching historical data for SMTA: No historical data found for ticker\n",
      "$VLP: possibly delisted; No price data found  (1d 2020-01-01 -> 2024-08-28)\n",
      "Error fetching historical data for VLP: No historical data found for ticker\n",
      "Monthly data for EMLP saved successfully.\n"
     ]
    },
    {
     "name": "stderr",
     "output_type": "stream",
     "text": [
      "$LM09SG: possibly delisted; No timezone found\n"
     ]
    },
    {
     "name": "stdout",
     "output_type": "stream",
     "text": [
      "Error fetching historical data for LM09SG: No historical data found for ticker\n",
      "Monthly data for VWNAX saved successfully.\n",
      "Monthly data for HR saved successfully.\n"
     ]
    },
    {
     "name": "stderr",
     "output_type": "stream",
     "text": [
      "$SAFM: possibly delisted; No timezone found\n"
     ]
    },
    {
     "name": "stdout",
     "output_type": "stream",
     "text": [
      "Error fetching historical data for SAFM: No historical data found for ticker\n",
      "Monthly data for MAIPX saved successfully.\n"
     ]
    },
    {
     "name": "stderr",
     "output_type": "stream",
     "text": [
      "$XON: possibly delisted; No timezone found\n"
     ]
    },
    {
     "name": "stdout",
     "output_type": "stream",
     "text": [
      "Error fetching historical data for XON: No historical data found for ticker\n"
     ]
    },
    {
     "name": "stderr",
     "output_type": "stream",
     "text": [
      "$WGP: possibly delisted; No timezone found\n"
     ]
    },
    {
     "name": "stdout",
     "output_type": "stream",
     "text": [
      "Error fetching historical data for WGP: No historical data found for ticker\n"
     ]
    },
    {
     "name": "stderr",
     "output_type": "stream",
     "text": [
      "$BBAVY: possibly delisted; No timezone found\n"
     ]
    },
    {
     "name": "stdout",
     "output_type": "stream",
     "text": [
      "Error fetching historical data for BBAVY: No historical data found for ticker\n"
     ]
    },
    {
     "name": "stderr",
     "output_type": "stream",
     "text": [
      "$EQGP: possibly delisted; No price data found  (1d 2020-01-01 -> 2024-08-28)\n"
     ]
    },
    {
     "name": "stdout",
     "output_type": "stream",
     "text": [
      "Monthly data for SRCL saved successfully.\n",
      "$EQGP: possibly delisted; No price data found  (1d 2020-01-01 -> 2024-08-28)\n",
      "Error fetching historical data for EQGP: No historical data found for ticker\n",
      "Monthly data for IWO saved successfully.\n",
      "Monthly data for PKB saved successfully.\n",
      "Monthly data for PCY saved successfully.\n",
      "Monthly data for HAINX saved successfully.\n",
      "Monthly data for MT saved successfully.\n"
     ]
    },
    {
     "name": "stderr",
     "output_type": "stream",
     "text": [
      "$BBL: possibly delisted; No timezone found\n"
     ]
    },
    {
     "name": "stdout",
     "output_type": "stream",
     "text": [
      "Error fetching historical data for BBL: No historical data found for ticker\n",
      "Monthly data for STLD saved successfully.\n",
      "Monthly data for ICAGY saved successfully.\n",
      "Monthly data for EMB saved successfully.\n",
      "Monthly data for SLQD saved successfully.\n",
      "Monthly data for EMLC saved successfully.\n",
      "Monthly data for PGF saved successfully.\n"
     ]
    },
    {
     "name": "stderr",
     "output_type": "stream",
     "text": [
      "$BHGE: possibly delisted; No timezone found\n"
     ]
    },
    {
     "name": "stdout",
     "output_type": "stream",
     "text": [
      "Error fetching historical data for BHGE: No historical data found for ticker\n"
     ]
    },
    {
     "name": "stderr",
     "output_type": "stream",
     "text": [
      "$BRKB: possibly delisted; No timezone found\n"
     ]
    },
    {
     "name": "stdout",
     "output_type": "stream",
     "text": [
      "Error fetching historical data for BRKB: No historical data found for ticker\n"
     ]
    },
    {
     "name": "stderr",
     "output_type": "stream",
     "text": [
      "$AMGP: possibly delisted; No timezone found\n"
     ]
    },
    {
     "name": "stdout",
     "output_type": "stream",
     "text": [
      "Error fetching historical data for AMGP: No historical data found for ticker\n",
      "Monthly data for DM saved successfully.\n"
     ]
    },
    {
     "name": "stderr",
     "output_type": "stream",
     "text": [
      "$WBT: possibly delisted; No timezone found\n"
     ]
    },
    {
     "name": "stdout",
     "output_type": "stream",
     "text": [
      "Error fetching historical data for WBT: No historical data found for ticker\n"
     ]
    },
    {
     "name": "stderr",
     "output_type": "stream",
     "text": [
      "$AET: possibly delisted; No price data found  (1d 2020-01-01 -> 2024-08-28)\n"
     ]
    },
    {
     "name": "stdout",
     "output_type": "stream",
     "text": [
      "Monthly data for BV saved successfully.\n",
      "$AET: possibly delisted; No price data found  (1d 2020-01-01 -> 2024-08-28)\n",
      "Error fetching historical data for AET: No historical data found for ticker\n",
      "Monthly data for IEZ saved successfully.\n",
      "Monthly data for BAMXF saved successfully.\n",
      "Monthly data for INGN saved successfully.\n"
     ]
    },
    {
     "name": "stderr",
     "output_type": "stream",
     "text": [
      "$TI: possibly delisted; No timezone found\n"
     ]
    },
    {
     "name": "stdout",
     "output_type": "stream",
     "text": [
      "Error fetching historical data for TI: No historical data found for ticker\n"
     ]
    },
    {
     "name": "stderr",
     "output_type": "stream",
     "text": [
      "$TKPYY: possibly delisted; No price data found  (1d 2020-01-01 -> 2024-08-28)\n"
     ]
    },
    {
     "name": "stdout",
     "output_type": "stream",
     "text": [
      "Monthly data for AIVAF saved successfully.\n",
      "$TKPYY: possibly delisted; No price data found  (1d 2020-01-01 -> 2024-08-28)\n",
      "Error fetching historical data for TKPYY: No historical data found for ticker\n",
      "Monthly data for ASBFY saved successfully.\n"
     ]
    },
    {
     "name": "stderr",
     "output_type": "stream",
     "text": [
      "$MTZPY: possibly delisted; No timezone found\n"
     ]
    },
    {
     "name": "stdout",
     "output_type": "stream",
     "text": [
      "Error fetching historical data for MTZPY: No historical data found for ticker\n",
      "Monthly data for ROYMY saved successfully.\n",
      "Monthly data for FPAFY saved successfully.\n"
     ]
    },
    {
     "name": "stderr",
     "output_type": "stream",
     "text": [
      "$CDR: possibly delisted; No timezone found\n"
     ]
    },
    {
     "name": "stdout",
     "output_type": "stream",
     "text": [
      "Error fetching historical data for CDR: No historical data found for ticker\n",
      "Monthly data for ITVPY saved successfully.\n",
      "Monthly data for STRNY saved successfully.\n",
      "Monthly data for YAHOY saved successfully.\n"
     ]
    },
    {
     "name": "stderr",
     "output_type": "stream",
     "text": [
      "$ACGPF: possibly delisted; No timezone found\n"
     ]
    },
    {
     "name": "stdout",
     "output_type": "stream",
     "text": [
      "Error fetching historical data for ACGPF: No historical data found for ticker\n",
      "Monthly data for HAIN saved successfully.\n"
     ]
    },
    {
     "name": "stderr",
     "output_type": "stream",
     "text": [
      "$ARRS: possibly delisted; No timezone found\n"
     ]
    },
    {
     "name": "stdout",
     "output_type": "stream",
     "text": [
      "Error fetching historical data for ARRS: No historical data found for ticker\n",
      "Monthly data for SOMLY saved successfully.\n",
      "Monthly data for CA saved successfully.\n"
     ]
    },
    {
     "name": "stderr",
     "output_type": "stream",
     "text": [
      "$NRZ: possibly delisted; No timezone found\n"
     ]
    },
    {
     "name": "stdout",
     "output_type": "stream",
     "text": [
      "Error fetching historical data for NRZ: No historical data found for ticker\n",
      "Monthly data for LXFR saved successfully.\n",
      "Monthly data for PX saved successfully.\n",
      "Monthly data for PRI saved successfully.\n"
     ]
    },
    {
     "name": "stderr",
     "output_type": "stream",
     "text": [
      "$MSTYPA: possibly delisted; No timezone found\n"
     ]
    },
    {
     "name": "stdout",
     "output_type": "stream",
     "text": [
      "Error fetching historical data for MSTYPA: No historical data found for ticker\n",
      "Monthly data for SMAWF saved successfully.\n"
     ]
    },
    {
     "name": "stderr",
     "output_type": "stream",
     "text": [
      "$VSM: possibly delisted; No timezone found\n"
     ]
    },
    {
     "name": "stdout",
     "output_type": "stream",
     "text": [
      "Error fetching historical data for VSM: No historical data found for ticker\n"
     ]
    },
    {
     "name": "stderr",
     "output_type": "stream",
     "text": [
      "$ABX: possibly delisted; No price data found  (1d 2020-01-01 -> 2024-08-28)\n",
      "$ETE: possibly delisted; No price data found  (1d 2020-01-01 -> 2024-08-28)\n"
     ]
    },
    {
     "name": "stdout",
     "output_type": "stream",
     "text": [
      "Monthly data for LSTR saved successfully.\n",
      "$ABX: possibly delisted; No price data found  (1d 2020-01-01 -> 2024-08-28)\n",
      "Error fetching historical data for ABX: No historical data found for ticker\n",
      "$ETE: possibly delisted; No price data found  (1d 2020-01-01 -> 2024-08-28)\n",
      "Error fetching historical data for ETE: No historical data found for ticker\n",
      "Monthly data for DFIN saved successfully.\n",
      "Monthly data for KS saved successfully.\n"
     ]
    },
    {
     "name": "stderr",
     "output_type": "stream",
     "text": [
      "$RVI: possibly delisted; No timezone found\n",
      "$EVHC: possibly delisted; No price data found  (1d 2020-01-01 -> 2024-08-28)\n"
     ]
    },
    {
     "name": "stdout",
     "output_type": "stream",
     "text": [
      "Error fetching historical data for RVI: No historical data found for ticker\n",
      "$EVHC: possibly delisted; No price data found  (1d 2020-01-01 -> 2024-08-28)\n",
      "Error fetching historical data for EVHC: No historical data found for ticker\n"
     ]
    },
    {
     "name": "stderr",
     "output_type": "stream",
     "text": [
      "$CBLK: possibly delisted; No timezone found\n"
     ]
    },
    {
     "name": "stdout",
     "output_type": "stream",
     "text": [
      "Error fetching historical data for CBLK: No historical data found for ticker\n"
     ]
    },
    {
     "name": "stderr",
     "output_type": "stream",
     "text": [
      "$ONESHAREFORONESHARE: possibly delisted; No timezone found\n"
     ]
    },
    {
     "name": "stdout",
     "output_type": "stream",
     "text": [
      "Error fetching historical data for ONESHAREFORONESHARE: No historical data found for ticker\n",
      "Monthly data for CNQ saved successfully.\n",
      "Monthly data for CCJ saved successfully.\n",
      "Monthly data for SHOO saved successfully.\n"
     ]
    },
    {
     "name": "stderr",
     "output_type": "stream",
     "text": [
      "$ENLK: possibly delisted; No price data found  (1d 2020-01-01 -> 2024-08-28)\n"
     ]
    },
    {
     "name": "stdout",
     "output_type": "stream",
     "text": [
      "Monthly data for ASND saved successfully.\n",
      "$ENLK: possibly delisted; No price data found  (1d 2020-01-01 -> 2024-08-28)\n",
      "Error fetching historical data for ENLK: No historical data found for ticker\n",
      "Monthly data for NVT saved successfully.\n",
      "Monthly data for MLPX saved successfully.\n",
      "Monthly data for HOMB saved successfully.\n",
      "Monthly data for TBT saved successfully.\n",
      "Monthly data for EDR saved successfully.\n",
      "Monthly data for AN saved successfully.\n"
     ]
    },
    {
     "name": "stderr",
     "output_type": "stream",
     "text": [
      "$IDTI: possibly delisted; No timezone found\n"
     ]
    },
    {
     "name": "stdout",
     "output_type": "stream",
     "text": [
      "Error fetching historical data for IDTI: No historical data found for ticker\n"
     ]
    },
    {
     "name": "stderr",
     "output_type": "stream",
     "text": [
      "$CCH: possibly delisted; No timezone found\n"
     ]
    },
    {
     "name": "stdout",
     "output_type": "stream",
     "text": [
      "Error fetching historical data for CCH: No historical data found for ticker\n",
      "Monthly data for JG saved successfully.\n",
      "Monthly data for SSMXF saved successfully.\n"
     ]
    },
    {
     "name": "stderr",
     "output_type": "stream",
     "text": [
      "$GPT: possibly delisted; No price data found  (1d 2020-01-01 -> 2024-08-28)\n"
     ]
    },
    {
     "name": "stdout",
     "output_type": "stream",
     "text": [
      "Monthly data for CUTR saved successfully.\n",
      "$GPT: possibly delisted; No price data found  (1d 2020-01-01 -> 2024-08-28)\n",
      "Error fetching historical data for GPT: No historical data found for ticker\n"
     ]
    },
    {
     "name": "stderr",
     "output_type": "stream",
     "text": [
      "$KSU: possibly delisted; No timezone found\n"
     ]
    },
    {
     "name": "stdout",
     "output_type": "stream",
     "text": [
      "Error fetching historical data for KSU: No historical data found for ticker\n",
      "Monthly data for ROBO saved successfully.\n",
      "Monthly data for RPG saved successfully.\n",
      "Monthly data for EMGF saved successfully.\n"
     ]
    },
    {
     "name": "stderr",
     "output_type": "stream",
     "text": [
      "$COTV: possibly delisted; No price data found  (1d 2020-01-01 -> 2024-08-28)\n"
     ]
    },
    {
     "name": "stdout",
     "output_type": "stream",
     "text": [
      "Monthly data for FTI saved successfully.\n",
      "$COTV: possibly delisted; No price data found  (1d 2020-01-01 -> 2024-08-28)\n",
      "Error fetching historical data for COTV: No historical data found for ticker\n"
     ]
    },
    {
     "name": "stderr",
     "output_type": "stream",
     "text": [
      "$OZM: possibly delisted; No timezone found\n"
     ]
    },
    {
     "name": "stdout",
     "output_type": "stream",
     "text": [
      "Error fetching historical data for OZM: No historical data found for ticker\n"
     ]
    },
    {
     "name": "stderr",
     "output_type": "stream",
     "text": [
      "$LOGM: possibly delisted; No timezone found\n"
     ]
    },
    {
     "name": "stdout",
     "output_type": "stream",
     "text": [
      "Error fetching historical data for LOGM: No historical data found for ticker\n"
     ]
    },
    {
     "name": "stderr",
     "output_type": "stream",
     "text": [
      "$DLPH: possibly delisted; No timezone found\n",
      "$NYLD: possibly delisted; No price data found  (1d 2020-01-01 -> 2024-08-28)\n"
     ]
    },
    {
     "name": "stdout",
     "output_type": "stream",
     "text": [
      "Error fetching historical data for DLPH: No historical data found for ticker\n",
      "$NYLD: possibly delisted; No price data found  (1d 2020-01-01 -> 2024-08-28)\n",
      "Error fetching historical data for NYLD: No historical data found for ticker\n"
     ]
    },
    {
     "name": "stderr",
     "output_type": "stream",
     "text": [
      "$912796QX0: possibly delisted; No timezone found\n"
     ]
    },
    {
     "name": "stdout",
     "output_type": "stream",
     "text": [
      "Error fetching historical data for 912796QX0: No historical data found for ticker\n",
      "Monthly data for VNQ saved successfully.\n"
     ]
    },
    {
     "name": "stderr",
     "output_type": "stream",
     "text": [
      "$TIS: possibly delisted; No timezone found\n"
     ]
    },
    {
     "name": "stdout",
     "output_type": "stream",
     "text": [
      "Error fetching historical data for TIS: No historical data found for ticker\n"
     ]
    },
    {
     "name": "stderr",
     "output_type": "stream",
     "text": [
      "GOOCV: Period '1mo' is invalid, must be one of ['1d', '5d']\n",
      "$TANN: possibly delisted; No price data found  (1d 2020-01-01 -> 2024-08-28)\n"
     ]
    },
    {
     "name": "stdout",
     "output_type": "stream",
     "text": [
      "Monthly data for NOKBF saved successfully.\n",
      "Error fetching historical data for GOOCV: No historical data found for ticker\n",
      "$TANN: possibly delisted; No price data found  (1d 2020-01-01 -> 2024-08-28)\n",
      "Error fetching historical data for TANN: No historical data found for ticker\n"
     ]
    },
    {
     "name": "stderr",
     "output_type": "stream",
     "text": [
      "$WPZ: possibly delisted; No price data found  (1d 2020-01-01 -> 2024-08-28)\n"
     ]
    },
    {
     "name": "stdout",
     "output_type": "stream",
     "text": [
      "$WPZ: possibly delisted; No price data found  (1d 2020-01-01 -> 2024-08-28)\n",
      "Error fetching historical data for WPZ: No historical data found for ticker\n",
      "Monthly data for MXL saved successfully.\n"
     ]
    },
    {
     "name": "stderr",
     "output_type": "stream",
     "text": [
      "$WPG: possibly delisted; No timezone found\n"
     ]
    },
    {
     "name": "stdout",
     "output_type": "stream",
     "text": [
      "Error fetching historical data for WPG: No historical data found for ticker\n",
      "Monthly data for PSEC saved successfully.\n",
      "Monthly data for CX saved successfully.\n",
      "Monthly data for IGIB saved successfully.\n"
     ]
    },
    {
     "name": "stderr",
     "output_type": "stream",
     "text": [
      "$TGE: possibly delisted; No timezone found\n",
      "$QCP: possibly delisted; No price data found  (1d 2020-01-01 -> 2024-08-28)\n"
     ]
    },
    {
     "name": "stdout",
     "output_type": "stream",
     "text": [
      "Error fetching historical data for TGE: No historical data found for ticker\n",
      "$QCP: possibly delisted; No price data found  (1d 2020-01-01 -> 2024-08-28)\n",
      "Error fetching historical data for QCP: No historical data found for ticker\n",
      "Monthly data for XT saved successfully.\n",
      "Monthly data for UNFI saved successfully.\n"
     ]
    },
    {
     "name": "stderr",
     "output_type": "stream",
     "text": [
      "$IIN: possibly delisted; No timezone found\n"
     ]
    },
    {
     "name": "stdout",
     "output_type": "stream",
     "text": [
      "Error fetching historical data for IIN: No historical data found for ticker\n",
      "Monthly data for PBR saved successfully.\n"
     ]
    },
    {
     "name": "stderr",
     "output_type": "stream",
     "text": [
      "$BAF: possibly delisted; No timezone found\n",
      "$RMP: possibly delisted; No price data found  (1d 2020-01-01 -> 2024-08-28)\n"
     ]
    },
    {
     "name": "stdout",
     "output_type": "stream",
     "text": [
      "Error fetching historical data for BAF: No historical data found for ticker\n",
      "$RMP: possibly delisted; No price data found  (1d 2020-01-01 -> 2024-08-28)\n",
      "Error fetching historical data for RMP: No historical data found for ticker\n",
      "Monthly data for CASH saved successfully.\n",
      "Monthly data for SURG saved successfully.\n",
      "Monthly data for PSTG saved successfully.\n"
     ]
    },
    {
     "name": "stderr",
     "output_type": "stream",
     "text": [
      "VRAY: Period '1mo' is invalid, must be one of ['1d', '5d']\n"
     ]
    },
    {
     "name": "stdout",
     "output_type": "stream",
     "text": [
      "Monthly data for HGV saved successfully.\n",
      "Error fetching historical data for VRAY: No historical data found for ticker\n",
      "Monthly data for CRMT saved successfully.\n"
     ]
    },
    {
     "name": "stderr",
     "output_type": "stream",
     "text": [
      "$TWX: possibly delisted; No price data found  (1d 2020-01-01 -> 2024-08-28)\n"
     ]
    },
    {
     "name": "stdout",
     "output_type": "stream",
     "text": [
      "Monthly data for NKTR saved successfully.\n",
      "$TWX: possibly delisted; No price data found  (1d 2020-01-01 -> 2024-08-28)\n",
      "Error fetching historical data for TWX: No historical data found for ticker\n"
     ]
    },
    {
     "name": "stderr",
     "output_type": "stream",
     "text": [
      "$NORTHWESTER: possibly delisted; No timezone found\n"
     ]
    },
    {
     "name": "stdout",
     "output_type": "stream",
     "text": [
      "Error fetching historical data for NORTHWESTER: No historical data found for ticker\n",
      "Monthly data for LQD saved successfully.\n",
      "Monthly data for LTC saved successfully.\n",
      "Monthly data for HSTM saved successfully.\n",
      "Monthly data for BAYZF saved successfully.\n",
      "Monthly data for WINA saved successfully.\n"
     ]
    },
    {
     "name": "stderr",
     "output_type": "stream",
     "text": [
      "$OZRK: possibly delisted; No timezone found\n"
     ]
    },
    {
     "name": "stdout",
     "output_type": "stream",
     "text": [
      "Error fetching historical data for OZRK: No historical data found for ticker\n",
      "Monthly data for USG saved successfully.\n"
     ]
    },
    {
     "name": "stderr",
     "output_type": "stream",
     "text": [
      "$AHGP: possibly delisted; No price data found  (1d 2020-01-01 -> 2024-08-28)\n"
     ]
    },
    {
     "name": "stdout",
     "output_type": "stream",
     "text": [
      "Monthly data for ECPG saved successfully.\n",
      "$AHGP: possibly delisted; No price data found  (1d 2020-01-01 -> 2024-08-28)\n",
      "Error fetching historical data for AHGP: No historical data found for ticker\n"
     ]
    },
    {
     "name": "stderr",
     "output_type": "stream",
     "text": [
      "$DVMT: possibly delisted; No price data found  (1d 2020-01-01 -> 2024-08-28)\n"
     ]
    },
    {
     "name": "stdout",
     "output_type": "stream",
     "text": [
      "Monthly data for CODI saved successfully.\n",
      "$DVMT: possibly delisted; No price data found  (1d 2020-01-01 -> 2024-08-28)\n",
      "Error fetching historical data for DVMT: No historical data found for ticker\n"
     ]
    },
    {
     "name": "stderr",
     "output_type": "stream",
     "text": [
      "$TTM: possibly delisted; No timezone found\n"
     ]
    },
    {
     "name": "stdout",
     "output_type": "stream",
     "text": [
      "Error fetching historical data for TTM: No historical data found for ticker\n",
      "Monthly data for GTES saved successfully.\n"
     ]
    },
    {
     "name": "stderr",
     "output_type": "stream",
     "text": [
      "$APY: possibly delisted; No timezone found\n"
     ]
    },
    {
     "name": "stdout",
     "output_type": "stream",
     "text": [
      "Error fetching historical data for APY: No historical data found for ticker\n",
      "Monthly data for GOGO saved successfully.\n",
      "Monthly data for INOV saved successfully.\n"
     ]
    },
    {
     "name": "stderr",
     "output_type": "stream",
     "text": [
      "$MIK: possibly delisted; No timezone found\n"
     ]
    },
    {
     "name": "stdout",
     "output_type": "stream",
     "text": [
      "Error fetching historical data for MIK: No historical data found for ticker\n",
      "Monthly data for YELP saved successfully.\n",
      "Monthly data for BOX saved successfully.\n"
     ]
    },
    {
     "name": "stderr",
     "output_type": "stream",
     "text": [
      "$ALLYA: possibly delisted; No timezone found\n"
     ]
    },
    {
     "name": "stdout",
     "output_type": "stream",
     "text": [
      "Error fetching historical data for ALLYA: No historical data found for ticker\n",
      "Monthly data for TKGBY saved successfully.\n",
      "Monthly data for TOTL saved successfully.\n",
      "Monthly data for IYE saved successfully.\n",
      "Monthly data for CHK saved successfully.\n"
     ]
    },
    {
     "name": "stderr",
     "output_type": "stream",
     "text": [
      "$IBMMX: possibly delisted; No timezone found\n"
     ]
    },
    {
     "name": "stdout",
     "output_type": "stream",
     "text": [
      "Error fetching historical data for IBMMX: No historical data found for ticker\n",
      "Monthly data for VGK saved successfully.\n"
     ]
    },
    {
     "name": "stderr",
     "output_type": "stream",
     "text": [
      "$SEP: possibly delisted; No price data found  (1d 2020-01-01 -> 2024-08-28)\n"
     ]
    },
    {
     "name": "stdout",
     "output_type": "stream",
     "text": [
      "Monthly data for EV saved successfully.\n",
      "$SEP: possibly delisted; No price data found  (1d 2020-01-01 -> 2024-08-28)\n",
      "Error fetching historical data for SEP: No historical data found for ticker\n"
     ]
    },
    {
     "name": "stderr",
     "output_type": "stream",
     "text": [
      "$TEP: possibly delisted; No price data found  (1d 2020-01-01 -> 2024-08-28)\n"
     ]
    },
    {
     "name": "stdout",
     "output_type": "stream",
     "text": [
      "Monthly data for CGNT saved successfully.\n",
      "$TEP: possibly delisted; No price data found  (1d 2020-01-01 -> 2024-08-28)\n",
      "Error fetching historical data for TEP: No historical data found for ticker\n"
     ]
    },
    {
     "name": "stderr",
     "output_type": "stream",
     "text": [
      "$INVESTMEN: possibly delisted; No timezone found\n"
     ]
    },
    {
     "name": "stdout",
     "output_type": "stream",
     "text": [
      "Error fetching historical data for INVESTMEN: No historical data found for ticker\n"
     ]
    },
    {
     "name": "stderr",
     "output_type": "stream",
     "text": [
      "$ACXM: possibly delisted; No price data found  (1d 2020-01-01 -> 2024-08-28)\n"
     ]
    },
    {
     "name": "stdout",
     "output_type": "stream",
     "text": [
      "Monthly data for CDXS saved successfully.\n",
      "$ACXM: possibly delisted; No price data found  (1d 2020-01-01 -> 2024-08-28)\n",
      "Error fetching historical data for ACXM: No historical data found for ticker\n",
      "Monthly data for ODVYX saved successfully.\n"
     ]
    },
    {
     "name": "stderr",
     "output_type": "stream",
     "text": [
      "$FINL: possibly delisted; No price data found  (1d 2020-01-01 -> 2024-08-28)\n",
      "$CLNS: possibly delisted; No price data found  (1d 2020-01-01 -> 2024-08-28)\n"
     ]
    },
    {
     "name": "stdout",
     "output_type": "stream",
     "text": [
      "Monthly data for BKD saved successfully.\n",
      "$FINL: possibly delisted; No price data found  (1d 2020-01-01 -> 2024-08-28)\n",
      "Error fetching historical data for FINL: No historical data found for ticker\n",
      "$CLNS: possibly delisted; No price data found  (1d 2020-01-01 -> 2024-08-28)\n",
      "Error fetching historical data for CLNS: No historical data found for ticker\n",
      "Monthly data for BRX saved successfully.\n",
      "Monthly data for DDR saved successfully.\n"
     ]
    },
    {
     "name": "stderr",
     "output_type": "stream",
     "text": [
      "$BT: possibly delisted; No timezone found\n",
      "$SKYAY: possibly delisted; No price data found  (1d 2020-01-01 -> 2024-08-28)\n"
     ]
    },
    {
     "name": "stdout",
     "output_type": "stream",
     "text": [
      "Error fetching historical data for BT: No historical data found for ticker\n",
      "$SKYAY: possibly delisted; No price data found  (1d 2020-01-01 -> 2024-08-28)\n",
      "Error fetching historical data for SKYAY: No historical data found for ticker\n",
      "Monthly data for CCIZX saved successfully.\n",
      "Monthly data for TATYY saved successfully.\n",
      "Monthly data for LXP saved successfully.\n"
     ]
    },
    {
     "name": "stderr",
     "output_type": "stream",
     "text": [
      "$DPS: possibly delisted; No price data found  (1d 2020-01-01 -> 2024-08-28)\n"
     ]
    },
    {
     "name": "stdout",
     "output_type": "stream",
     "text": [
      "Monthly data for WARFY saved successfully.\n",
      "$DPS: possibly delisted; No price data found  (1d 2020-01-01 -> 2024-08-28)\n",
      "Error fetching historical data for DPS: No historical data found for ticker\n"
     ]
    },
    {
     "name": "stderr",
     "output_type": "stream",
     "text": [
      "$NYLDA: possibly delisted; No timezone found\n"
     ]
    },
    {
     "name": "stdout",
     "output_type": "stream",
     "text": [
      "Error fetching historical data for NYLDA: No historical data found for ticker\n",
      "Monthly data for YTEN saved successfully.\n",
      "Monthly data for VRNT saved successfully.\n",
      "Monthly data for RYT saved successfully.\n"
     ]
    },
    {
     "name": "stderr",
     "output_type": "stream",
     "text": [
      "$LVNTA: possibly delisted; No price data found  (1d 2020-01-01 -> 2024-08-28)\n"
     ]
    },
    {
     "name": "stdout",
     "output_type": "stream",
     "text": [
      "Monthly data for IYT saved successfully.\n",
      "$LVNTA: possibly delisted; No price data found  (1d 2020-01-01 -> 2024-08-28)\n",
      "Error fetching historical data for LVNTA: No historical data found for ticker\n",
      "Monthly data for XSD saved successfully.\n",
      "Monthly data for FDUS saved successfully.\n"
     ]
    },
    {
     "name": "stderr",
     "output_type": "stream",
     "text": [
      "$FNGN: possibly delisted; No timezone found\n",
      "$CALD: possibly delisted; No price data found  (1d 2020-01-01 -> 2024-08-28)\n"
     ]
    },
    {
     "name": "stdout",
     "output_type": "stream",
     "text": [
      "Error fetching historical data for FNGN: No historical data found for ticker\n",
      "$CALD: possibly delisted; No price data found  (1d 2020-01-01 -> 2024-08-28)\n",
      "Error fetching historical data for CALD: No historical data found for ticker\n"
     ]
    },
    {
     "name": "stderr",
     "output_type": "stream",
     "text": [
      "$APTS: possibly delisted; No timezone found\n"
     ]
    },
    {
     "name": "stdout",
     "output_type": "stream",
     "text": [
      "Error fetching historical data for APTS: No historical data found for ticker\n"
     ]
    },
    {
     "name": "stderr",
     "output_type": "stream",
     "text": [
      "$FTSI: possibly delisted; No timezone found\n"
     ]
    },
    {
     "name": "stdout",
     "output_type": "stream",
     "text": [
      "Error fetching historical data for FTSI: No historical data found for ticker\n"
     ]
    },
    {
     "name": "stderr",
     "output_type": "stream",
     "text": [
      "$CVA: possibly delisted; No timezone found\n",
      "$ILG: possibly delisted; No price data found  (1d 2020-01-01 -> 2024-08-28)\n"
     ]
    },
    {
     "name": "stdout",
     "output_type": "stream",
     "text": [
      "Error fetching historical data for CVA: No historical data found for ticker\n",
      "$ILG: possibly delisted; No price data found  (1d 2020-01-01 -> 2024-08-28)\n",
      "Error fetching historical data for ILG: No historical data found for ticker\n"
     ]
    },
    {
     "name": "stderr",
     "output_type": "stream",
     "text": [
      "$CSRA: possibly delisted; No price data found  (1d 2020-01-01 -> 2024-08-28)\n"
     ]
    },
    {
     "name": "stdout",
     "output_type": "stream",
     "text": [
      "Monthly data for PDCO saved successfully.\n",
      "$CSRA: possibly delisted; No price data found  (1d 2020-01-01 -> 2024-08-28)\n",
      "Error fetching historical data for CSRA: No historical data found for ticker\n",
      "Monthly data for MHLD saved successfully.\n"
     ]
    },
    {
     "name": "stderr",
     "output_type": "stream",
     "text": [
      "$PCLN: possibly delisted; No price data found  (1d 2020-01-01 -> 2024-08-28)\n"
     ]
    },
    {
     "name": "stdout",
     "output_type": "stream",
     "text": [
      "Monthly data for SCHA saved successfully.\n",
      "$PCLN: possibly delisted; No price data found  (1d 2020-01-01 -> 2024-08-28)\n",
      "Error fetching historical data for PCLN: No historical data found for ticker\n",
      "Monthly data for GNL saved successfully.\n"
     ]
    },
    {
     "name": "stderr",
     "output_type": "stream",
     "text": [
      "$JCAP: possibly delisted; No timezone found\n"
     ]
    },
    {
     "name": "stdout",
     "output_type": "stream",
     "text": [
      "Error fetching historical data for JCAP: No historical data found for ticker\n"
     ]
    },
    {
     "name": "stderr",
     "output_type": "stream",
     "text": [
      "$VER: possibly delisted; No timezone found\n"
     ]
    },
    {
     "name": "stdout",
     "output_type": "stream",
     "text": [
      "Error fetching historical data for VER: No historical data found for ticker\n"
     ]
    },
    {
     "name": "stderr",
     "output_type": "stream",
     "text": [
      "$PEI: possibly delisted; No timezone found\n"
     ]
    },
    {
     "name": "stdout",
     "output_type": "stream",
     "text": [
      "Error fetching historical data for PEI: No historical data found for ticker\n"
     ]
    },
    {
     "name": "stderr",
     "output_type": "stream",
     "text": [
      "$HIFR: possibly delisted; No timezone found\n"
     ]
    },
    {
     "name": "stdout",
     "output_type": "stream",
     "text": [
      "Error fetching historical data for HIFR: No historical data found for ticker\n",
      "Monthly data for COL saved successfully.\n"
     ]
    },
    {
     "name": "stderr",
     "output_type": "stream",
     "text": [
      "$TNTR: possibly delisted; No timezone found\n"
     ]
    },
    {
     "name": "stdout",
     "output_type": "stream",
     "text": [
      "Error fetching historical data for TNTR: No historical data found for ticker\n",
      "Monthly data for IHE saved successfully.\n"
     ]
    },
    {
     "name": "stderr",
     "output_type": "stream",
     "text": [
      "$NILSY: possibly delisted; No timezone found\n"
     ]
    },
    {
     "name": "stdout",
     "output_type": "stream",
     "text": [
      "Error fetching historical data for NILSY: No historical data found for ticker\n",
      "Monthly data for RYAAY saved successfully.\n",
      "Monthly data for ALOT saved successfully.\n",
      "Monthly data for GRPN saved successfully.\n"
     ]
    },
    {
     "name": "stderr",
     "output_type": "stream",
     "text": [
      "$BIVV: possibly delisted; No price data found  (1d 2020-01-01 -> 2024-08-28)\n",
      "$OA: possibly delisted; No price data found  (1d 2020-01-01 -> 2024-08-28)\n"
     ]
    },
    {
     "name": "stdout",
     "output_type": "stream",
     "text": [
      "Monthly data for IYR saved successfully.\n",
      "$BIVV: possibly delisted; No price data found  (1d 2020-01-01 -> 2024-08-28)\n",
      "Error fetching historical data for BIVV: No historical data found for ticker\n",
      "$OA: possibly delisted; No price data found  (1d 2020-01-01 -> 2024-08-28)\n",
      "Error fetching historical data for OA: No historical data found for ticker\n",
      "Monthly data for HIBB saved successfully.\n",
      "Monthly data for FET saved successfully.\n"
     ]
    },
    {
     "name": "stderr",
     "output_type": "stream",
     "text": [
      "$VNTV: possibly delisted; No price data found  (1d 2020-01-01 -> 2024-08-28)\n"
     ]
    },
    {
     "name": "stdout",
     "output_type": "stream",
     "text": [
      "Monthly data for TTP saved successfully.\n",
      "$VNTV: possibly delisted; No price data found  (1d 2020-01-01 -> 2024-08-28)\n",
      "Error fetching historical data for VNTV: No historical data found for ticker\n",
      "Monthly data for LSCC saved successfully.\n"
     ]
    },
    {
     "name": "stderr",
     "output_type": "stream",
     "text": [
      "$AXE: possibly delisted; No timezone found\n",
      "$CBG: possibly delisted; No price data found  (1d 2020-01-01 -> 2024-08-28)\n"
     ]
    },
    {
     "name": "stdout",
     "output_type": "stream",
     "text": [
      "Error fetching historical data for AXE: No historical data found for ticker\n",
      "$CBG: possibly delisted; No price data found  (1d 2020-01-01 -> 2024-08-28)\n",
      "Error fetching historical data for CBG: No historical data found for ticker\n"
     ]
    },
    {
     "name": "stderr",
     "output_type": "stream",
     "text": [
      "$GXP: possibly delisted; No price data found  (1d 2020-01-01 -> 2024-08-28)\n"
     ]
    },
    {
     "name": "stdout",
     "output_type": "stream",
     "text": [
      "Monthly data for TCX saved successfully.\n",
      "$GXP: possibly delisted; No price data found  (1d 2020-01-01 -> 2024-08-28)\n",
      "Error fetching historical data for GXP: No historical data found for ticker\n",
      "Monthly data for RGC saved successfully.\n",
      "Monthly data for PFS saved successfully.\n"
     ]
    },
    {
     "name": "stderr",
     "output_type": "stream",
     "text": [
      "$OAK: possibly delisted; No timezone found\n",
      "$ENTL: possibly delisted; No price data found  (1d 2020-01-01 -> 2024-08-28)\n",
      "$OREX: possibly delisted; No price data found  (1d 2020-01-01 -> 2024-08-28)\n"
     ]
    },
    {
     "name": "stdout",
     "output_type": "stream",
     "text": [
      "Error fetching historical data for OAK: No historical data found for ticker\n",
      "$ENTL: possibly delisted; No price data found  (1d 2020-01-01 -> 2024-08-28)\n",
      "Error fetching historical data for ENTL: No historical data found for ticker\n",
      "$OREX: possibly delisted; No price data found  (1d 2020-01-01 -> 2024-08-28)\n",
      "Error fetching historical data for OREX: No historical data found for ticker\n"
     ]
    },
    {
     "name": "stderr",
     "output_type": "stream",
     "text": [
      "$FIT: possibly delisted; No timezone found\n"
     ]
    },
    {
     "name": "stdout",
     "output_type": "stream",
     "text": [
      "Error fetching historical data for FIT: No historical data found for ticker\n",
      "Monthly data for LGIH saved successfully.\n",
      "Monthly data for AFT saved successfully.\n"
     ]
    },
    {
     "name": "stderr",
     "output_type": "stream",
     "text": [
      "$ESV: possibly delisted; No timezone found\n"
     ]
    },
    {
     "name": "stdout",
     "output_type": "stream",
     "text": [
      "Error fetching historical data for ESV: No historical data found for ticker\n",
      "Monthly data for BETR saved successfully.\n",
      "Monthly data for MTCIX saved successfully.\n"
     ]
    },
    {
     "name": "stderr",
     "output_type": "stream",
     "text": [
      "$TEGP: possibly delisted; No price data found  (1d 2020-01-01 -> 2024-08-28)\n"
     ]
    },
    {
     "name": "stdout",
     "output_type": "stream",
     "text": [
      "Monthly data for FSD saved successfully.\n",
      "$TEGP: possibly delisted; No price data found  (1d 2020-01-01 -> 2024-08-28)\n",
      "Error fetching historical data for TEGP: No historical data found for ticker\n"
     ]
    },
    {
     "name": "stderr",
     "output_type": "stream",
     "text": [
      "$AFSI: possibly delisted; No price data found  (1d 2020-01-01 -> 2024-08-28)\n"
     ]
    },
    {
     "name": "stdout",
     "output_type": "stream",
     "text": [
      "Monthly data for OI saved successfully.\n",
      "$AFSI: possibly delisted; No price data found  (1d 2020-01-01 -> 2024-08-28)\n",
      "Error fetching historical data for AFSI: No historical data found for ticker\n"
     ]
    },
    {
     "name": "stderr",
     "output_type": "stream",
     "text": [
      "$LKSD: possibly delisted; No timezone found\n"
     ]
    },
    {
     "name": "stdout",
     "output_type": "stream",
     "text": [
      "Error fetching historical data for LKSD: No historical data found for ticker\n"
     ]
    },
    {
     "name": "stderr",
     "output_type": "stream",
     "text": [
      "$INWK: possibly delisted; No timezone found\n",
      "$ITYBY: possibly delisted; No price data found  (1d 2020-01-01 -> 2024-08-28)\n"
     ]
    },
    {
     "name": "stdout",
     "output_type": "stream",
     "text": [
      "Error fetching historical data for INWK: No historical data found for ticker\n",
      "$ITYBY: possibly delisted; No price data found  (1d 2020-01-01 -> 2024-08-28)\n",
      "Error fetching historical data for ITYBY: No historical data found for ticker\n",
      "Monthly data for SMGIX saved successfully.\n",
      "Monthly data for CQP saved successfully.\n",
      "Monthly data for MLPA saved successfully.\n"
     ]
    },
    {
     "name": "stderr",
     "output_type": "stream",
     "text": [
      "$WIN: possibly delisted; No timezone found\n"
     ]
    },
    {
     "name": "stdout",
     "output_type": "stream",
     "text": [
      "Error fetching historical data for WIN: No historical data found for ticker\n"
     ]
    },
    {
     "name": "stderr",
     "output_type": "stream",
     "text": [
      "$TUES: possibly delisted; No timezone found\n"
     ]
    },
    {
     "name": "stdout",
     "output_type": "stream",
     "text": [
      "Error fetching historical data for TUES: No historical data found for ticker\n",
      "Monthly data for RELL saved successfully.\n",
      "Monthly data for ASPN saved successfully.\n"
     ]
    },
    {
     "name": "stderr",
     "output_type": "stream",
     "text": [
      "$ELGX: possibly delisted; No timezone found\n"
     ]
    },
    {
     "name": "stdout",
     "output_type": "stream",
     "text": [
      "Error fetching historical data for ELGX: No historical data found for ticker\n",
      "Monthly data for TV saved successfully.\n"
     ]
    },
    {
     "name": "stderr",
     "output_type": "stream",
     "text": [
      "$MRLN: possibly delisted; No timezone found\n"
     ]
    },
    {
     "name": "stdout",
     "output_type": "stream",
     "text": [
      "Error fetching historical data for MRLN: No historical data found for ticker\n",
      "Monthly data for IDT saved successfully.\n"
     ]
    },
    {
     "name": "stderr",
     "output_type": "stream",
     "text": [
      "$RSPP: possibly delisted; No price data found  (1d 2020-01-01 -> 2024-08-28)\n"
     ]
    },
    {
     "name": "stdout",
     "output_type": "stream",
     "text": [
      "Monthly data for TCPC saved successfully.\n",
      "$RSPP: possibly delisted; No price data found  (1d 2020-01-01 -> 2024-08-28)\n",
      "Error fetching historical data for RSPP: No historical data found for ticker\n"
     ]
    },
    {
     "name": "stderr",
     "output_type": "stream",
     "text": [
      "$CSGKF: possibly delisted; No timezone found\n",
      "$CMLPSX: possibly delisted; No price data found  (1d 2020-01-01 -> 2024-08-28)\n"
     ]
    },
    {
     "name": "stdout",
     "output_type": "stream",
     "text": [
      "Error fetching historical data for CSGKF: No historical data found for ticker\n",
      "$CMLPSX: possibly delisted; No price data found  (1d 2020-01-01 -> 2024-08-28)\n",
      "Error fetching historical data for CMLPSX: No historical data found for ticker\n"
     ]
    },
    {
     "name": "stderr",
     "output_type": "stream",
     "text": [
      "$36966R5P7: possibly delisted; No timezone found\n"
     ]
    },
    {
     "name": "stdout",
     "output_type": "stream",
     "text": [
      "Error fetching historical data for 36966R5P7: No historical data found for ticker\n"
     ]
    },
    {
     "name": "stderr",
     "output_type": "stream",
     "text": [
      "$LVLT: possibly delisted; No price data found  (1d 2020-01-01 -> 2024-08-28)\n",
      "$CAA: possibly delisted; No price data found  (1d 2020-01-01 -> 2024-08-28)\n"
     ]
    },
    {
     "name": "stdout",
     "output_type": "stream",
     "text": [
      "Monthly data for SOUHY saved successfully.\n",
      "$LVLT: possibly delisted; No price data found  (1d 2020-01-01 -> 2024-08-28)\n",
      "Error fetching historical data for LVLT: No historical data found for ticker\n",
      "$CAA: possibly delisted; No price data found  (1d 2020-01-01 -> 2024-08-28)\n",
      "Error fetching historical data for CAA: No historical data found for ticker\n"
     ]
    },
    {
     "name": "stderr",
     "output_type": "stream",
     "text": [
      "$IPXL: possibly delisted; No price data found  (1d 2020-01-01 -> 2024-08-28)\n"
     ]
    },
    {
     "name": "stdout",
     "output_type": "stream",
     "text": [
      "$IPXL: possibly delisted; No price data found  (1d 2020-01-01 -> 2024-08-28)\n",
      "Error fetching historical data for IPXL: No historical data found for ticker\n"
     ]
    },
    {
     "name": "stderr",
     "output_type": "stream",
     "text": [
      "$TEUM: possibly delisted; No timezone found\n",
      "$BONT: possibly delisted; No price data found  (1d 2020-01-01 -> 2024-08-28)\n"
     ]
    },
    {
     "name": "stdout",
     "output_type": "stream",
     "text": [
      "Error fetching historical data for TEUM: No historical data found for ticker\n",
      "$BONT: possibly delisted; No price data found  (1d 2020-01-01 -> 2024-08-28)\n",
      "Error fetching historical data for BONT: No historical data found for ticker\n"
     ]
    },
    {
     "name": "stderr",
     "output_type": "stream",
     "text": [
      "$DXTR: possibly delisted; No price data found  (1d 2020-01-01 -> 2024-08-28)\n"
     ]
    },
    {
     "name": "stdout",
     "output_type": "stream",
     "text": [
      "Monthly data for ATOS saved successfully.\n",
      "$DXTR: possibly delisted; No price data found  (1d 2020-01-01 -> 2024-08-28)\n",
      "Error fetching historical data for DXTR: No historical data found for ticker\n",
      "Monthly data for ADRE saved successfully.\n"
     ]
    },
    {
     "name": "stderr",
     "output_type": "stream",
     "text": [
      "$NGLSA: possibly delisted; No timezone found\n"
     ]
    },
    {
     "name": "stdout",
     "output_type": "stream",
     "text": [
      "Error fetching historical data for NGLSA: No historical data found for ticker\n",
      "Monthly data for FNI saved successfully.\n"
     ]
    },
    {
     "name": "stderr",
     "output_type": "stream",
     "text": [
      "$ZIOP: possibly delisted; No timezone found\n"
     ]
    },
    {
     "name": "stdout",
     "output_type": "stream",
     "text": [
      "Error fetching historical data for ZIOP: No historical data found for ticker\n"
     ]
    },
    {
     "name": "stderr",
     "output_type": "stream",
     "text": [
      "$TRXC: possibly delisted; No timezone found\n",
      "$NEOT: possibly delisted; No price data found  (1d 2020-01-01 -> 2024-08-28)\n"
     ]
    },
    {
     "name": "stdout",
     "output_type": "stream",
     "text": [
      "Error fetching historical data for TRXC: No historical data found for ticker\n",
      "$NEOT: possibly delisted; No price data found  (1d 2020-01-01 -> 2024-08-28)\n",
      "Error fetching historical data for NEOT: No historical data found for ticker\n",
      "Monthly data for RCON saved successfully.\n"
     ]
    },
    {
     "name": "stderr",
     "output_type": "stream",
     "text": [
      "$NETE: possibly delisted; No timezone found\n"
     ]
    },
    {
     "name": "stdout",
     "output_type": "stream",
     "text": [
      "Error fetching historical data for NETE: No historical data found for ticker\n"
     ]
    },
    {
     "name": "stderr",
     "output_type": "stream",
     "text": [
      "$LBIX: possibly delisted; No price data found  (1d 2020-01-01 -> 2024-08-28)\n"
     ]
    },
    {
     "name": "stdout",
     "output_type": "stream",
     "text": [
      "Monthly data for HLF saved successfully.\n",
      "$LBIX: possibly delisted; No price data found  (1d 2020-01-01 -> 2024-08-28)\n",
      "Error fetching historical data for LBIX: No historical data found for ticker\n",
      "Monthly data for VDE saved successfully.\n"
     ]
    },
    {
     "name": "stderr",
     "output_type": "stream",
     "text": [
      "$INFI: possibly delisted; No timezone found\n"
     ]
    },
    {
     "name": "stdout",
     "output_type": "stream",
     "text": [
      "Error fetching historical data for INFI: No historical data found for ticker\n",
      "Monthly data for TIXC saved successfully.\n"
     ]
    },
    {
     "name": "stderr",
     "output_type": "stream",
     "text": [
      "$SCX: possibly delisted; No timezone found\n"
     ]
    },
    {
     "name": "stdout",
     "output_type": "stream",
     "text": [
      "Error fetching historical data for SCX: No historical data found for ticker\n"
     ]
    },
    {
     "name": "stderr",
     "output_type": "stream",
     "text": [
      "OTIC: Period '1mo' is invalid, must be one of ['1d', '5d']\n",
      "$WPPGY: possibly delisted; No price data found  (1d 2020-01-01 -> 2024-08-28)\n"
     ]
    },
    {
     "name": "stdout",
     "output_type": "stream",
     "text": [
      "Error fetching historical data for OTIC: No historical data found for ticker\n",
      "$WPPGY: possibly delisted; No price data found  (1d 2020-01-01 -> 2024-08-28)\n",
      "Error fetching historical data for WPPGY: No historical data found for ticker\n"
     ]
    },
    {
     "name": "stderr",
     "output_type": "stream",
     "text": [
      "$SGBK: possibly delisted; No price data found  (1d 2020-01-01 -> 2024-08-28)\n"
     ]
    },
    {
     "name": "stdout",
     "output_type": "stream",
     "text": [
      "$SGBK: possibly delisted; No price data found  (1d 2020-01-01 -> 2024-08-28)\n",
      "Error fetching historical data for SGBK: No historical data found for ticker\n"
     ]
    },
    {
     "name": "stderr",
     "output_type": "stream",
     "text": [
      "$WTR: possibly delisted; No timezone found\n"
     ]
    },
    {
     "name": "stdout",
     "output_type": "stream",
     "text": [
      "Error fetching historical data for WTR: No historical data found for ticker\n",
      "Monthly data for WF saved successfully.\n",
      "Monthly data for TCS saved successfully.\n"
     ]
    },
    {
     "name": "stderr",
     "output_type": "stream",
     "text": [
      "$LNEGY: possibly delisted; No timezone found\n"
     ]
    },
    {
     "name": "stdout",
     "output_type": "stream",
     "text": [
      "Error fetching historical data for LNEGY: No historical data found for ticker\n",
      "Monthly data for OPK saved successfully.\n",
      "Monthly data for GAMR saved successfully.\n",
      "Monthly data for ANF saved successfully.\n"
     ]
    },
    {
     "name": "stderr",
     "output_type": "stream",
     "text": [
      "$Q: possibly delisted; No price data found  (1d 2020-01-01 -> 2024-08-28)\n",
      "$BCR: possibly delisted; No price data found  (1d 2020-01-01 -> 2024-08-28)\n",
      "$SPLS: possibly delisted; No price data found  (1d 2020-01-01 -> 2024-08-28)\n"
     ]
    },
    {
     "name": "stdout",
     "output_type": "stream",
     "text": [
      "Monthly data for FV saved successfully.\n",
      "$Q: possibly delisted; No price data found  (1d 2020-01-01 -> 2024-08-28)\n",
      "Error fetching historical data for Q: No historical data found for ticker\n",
      "$BCR: possibly delisted; No price data found  (1d 2020-01-01 -> 2024-08-28)\n",
      "Error fetching historical data for BCR: No historical data found for ticker\n",
      "$SPLS: possibly delisted; No price data found  (1d 2020-01-01 -> 2024-08-28)\n",
      "Error fetching historical data for SPLS: No historical data found for ticker\n"
     ]
    },
    {
     "name": "stderr",
     "output_type": "stream",
     "text": [
      "$ITEK: possibly delisted; No price data found  (1d 2020-01-01 -> 2024-08-28)\n",
      "$NPSND: possibly delisted; No price data found  (1d 2020-01-01 -> 2024-08-28)\n"
     ]
    },
    {
     "name": "stdout",
     "output_type": "stream",
     "text": [
      "$ITEK: possibly delisted; No price data found  (1d 2020-01-01 -> 2024-08-28)\n",
      "Error fetching historical data for ITEK: No historical data found for ticker\n",
      "$NPSND: possibly delisted; No price data found  (1d 2020-01-01 -> 2024-08-28)\n",
      "Error fetching historical data for NPSND: No historical data found for ticker\n",
      "Monthly data for VTKLY saved successfully.\n",
      "Monthly data for TD saved successfully.\n"
     ]
    },
    {
     "name": "stderr",
     "output_type": "stream",
     "text": [
      "$MNK: possibly delisted; No timezone found\n"
     ]
    },
    {
     "name": "stdout",
     "output_type": "stream",
     "text": [
      "Error fetching historical data for MNK: No historical data found for ticker\n",
      "Monthly data for CMPGY saved successfully.\n",
      "Monthly data for JSMD saved successfully.\n",
      "Monthly data for JSML saved successfully.\n"
     ]
    },
    {
     "name": "stderr",
     "output_type": "stream",
     "text": [
      "$DDPA: possibly delisted; No timezone found\n"
     ]
    },
    {
     "name": "stdout",
     "output_type": "stream",
     "text": [
      "Error fetching historical data for DDPA: No historical data found for ticker\n"
     ]
    },
    {
     "name": "stderr",
     "output_type": "stream",
     "text": [
      "$EXXI: possibly delisted; No price data found  (1d 2020-01-01 -> 2024-08-28)\n",
      "$WFM: possibly delisted; No price data found  (1d 2020-01-01 -> 2024-08-28)\n"
     ]
    },
    {
     "name": "stdout",
     "output_type": "stream",
     "text": [
      "Monthly data for NPK saved successfully.\n",
      "$EXXI: possibly delisted; No price data found  (1d 2020-01-01 -> 2024-08-28)\n",
      "Error fetching historical data for EXXI: No historical data found for ticker\n",
      "$WFM: possibly delisted; No price data found  (1d 2020-01-01 -> 2024-08-28)\n",
      "Error fetching historical data for WFM: No historical data found for ticker\n",
      "Monthly data for RTNB saved successfully.\n",
      "Monthly data for MWA saved successfully.\n"
     ]
    },
    {
     "name": "stderr",
     "output_type": "stream",
     "text": [
      "$ARCI: possibly delisted; No timezone found\n"
     ]
    },
    {
     "name": "stdout",
     "output_type": "stream",
     "text": [
      "Error fetching historical data for ARCI: No historical data found for ticker\n"
     ]
    },
    {
     "name": "stderr",
     "output_type": "stream",
     "text": [
      "$ACC: possibly delisted; No timezone found\n"
     ]
    },
    {
     "name": "stdout",
     "output_type": "stream",
     "text": [
      "Error fetching historical data for ACC: No historical data found for ticker\n",
      "Monthly data for VOT saved successfully.\n",
      "Monthly data for VOYA saved successfully.\n",
      "Monthly data for IUSG saved successfully.\n",
      "Monthly data for IUSV saved successfully.\n",
      "Monthly data for FXD saved successfully.\n"
     ]
    },
    {
     "name": "stderr",
     "output_type": "stream",
     "text": [
      "$SRF: possibly delisted; No timezone found\n"
     ]
    },
    {
     "name": "stdout",
     "output_type": "stream",
     "text": [
      "Error fetching historical data for SRF: No historical data found for ticker\n"
     ]
    },
    {
     "name": "stderr",
     "output_type": "stream",
     "text": [
      "$PHLD: possibly delisted; No timezone found\n"
     ]
    },
    {
     "name": "stdout",
     "output_type": "stream",
     "text": [
      "Error fetching historical data for PHLD: No historical data found for ticker\n"
     ]
    },
    {
     "name": "stderr",
     "output_type": "stream",
     "text": [
      "$SHPGF: possibly delisted; No timezone found\n",
      "$RAS: possibly delisted; No price data found  (1d 2020-01-01 -> 2024-08-28)\n"
     ]
    },
    {
     "name": "stdout",
     "output_type": "stream",
     "text": [
      "Error fetching historical data for SHPGF: No historical data found for ticker\n",
      "$RAS: possibly delisted; No price data found  (1d 2020-01-01 -> 2024-08-28)\n",
      "Error fetching historical data for RAS: No historical data found for ticker\n",
      "Monthly data for NVDQ saved successfully.\n"
     ]
    },
    {
     "name": "stderr",
     "output_type": "stream",
     "text": [
      "$CYTR: possibly delisted; No timezone found\n"
     ]
    },
    {
     "name": "stdout",
     "output_type": "stream",
     "text": [
      "Error fetching historical data for CYTR: No historical data found for ticker\n"
     ]
    },
    {
     "name": "stderr",
     "output_type": "stream",
     "text": [
      "$RAI: possibly delisted; No price data found  (1d 2020-01-01 -> 2024-08-28)\n"
     ]
    },
    {
     "name": "stdout",
     "output_type": "stream",
     "text": [
      "Monthly data for CAPR saved successfully.\n",
      "$RAI: possibly delisted; No price data found  (1d 2020-01-01 -> 2024-08-28)\n",
      "Error fetching historical data for RAI: No historical data found for ticker\n",
      "Monthly data for PEY saved successfully.\n"
     ]
    },
    {
     "name": "stderr",
     "output_type": "stream",
     "text": [
      "$TEAR: possibly delisted; No timezone found\n"
     ]
    },
    {
     "name": "stdout",
     "output_type": "stream",
     "text": [
      "Error fetching historical data for TEAR: No historical data found for ticker\n",
      "Monthly data for AEZS saved successfully.\n",
      "Monthly data for CCE saved successfully.\n"
     ]
    },
    {
     "name": "stderr",
     "output_type": "stream",
     "text": [
      "$CBAY: possibly delisted; No timezone found\n"
     ]
    },
    {
     "name": "stdout",
     "output_type": "stream",
     "text": [
      "Error fetching historical data for CBAY: No historical data found for ticker\n"
     ]
    },
    {
     "name": "stderr",
     "output_type": "stream",
     "text": [
      "$ZN: possibly delisted; No timezone found\n"
     ]
    },
    {
     "name": "stdout",
     "output_type": "stream",
     "text": [
      "Error fetching historical data for ZN: No historical data found for ticker\n"
     ]
    },
    {
     "name": "stderr",
     "output_type": "stream",
     "text": [
      "$FTR: possibly delisted; No timezone found\n"
     ]
    },
    {
     "name": "stdout",
     "output_type": "stream",
     "text": [
      "Error fetching historical data for FTR: No historical data found for ticker\n",
      "Monthly data for TTC saved successfully.\n"
     ]
    },
    {
     "name": "stderr",
     "output_type": "stream",
     "text": [
      "$ABDC: possibly delisted; No timezone found\n"
     ]
    },
    {
     "name": "stdout",
     "output_type": "stream",
     "text": [
      "Error fetching historical data for ABDC: No historical data found for ticker\n"
     ]
    },
    {
     "name": "stderr",
     "output_type": "stream",
     "text": [
      "$MBFI: possibly delisted; No timezone found\n"
     ]
    },
    {
     "name": "stdout",
     "output_type": "stream",
     "text": [
      "Error fetching historical data for MBFI: No historical data found for ticker\n"
     ]
    },
    {
     "name": "stderr",
     "output_type": "stream",
     "text": [
      "$ZNGASW: possibly delisted; No timezone found\n"
     ]
    },
    {
     "name": "stdout",
     "output_type": "stream",
     "text": [
      "Error fetching historical data for ZNGASW: No historical data found for ticker\n"
     ]
    },
    {
     "name": "stderr",
     "output_type": "stream",
     "text": [
      "$CIU: possibly delisted; No price data found  (1d 2020-01-01 -> 2024-08-28)\n"
     ]
    },
    {
     "name": "stdout",
     "output_type": "stream",
     "text": [
      "Monthly data for ORKLY saved successfully.\n",
      "$CIU: possibly delisted; No price data found  (1d 2020-01-01 -> 2024-08-28)\n",
      "Error fetching historical data for CIU: No historical data found for ticker\n",
      "Monthly data for SLV saved successfully.\n",
      "Monthly data for OUNZ saved successfully.\n"
     ]
    },
    {
     "name": "stderr",
     "output_type": "stream",
     "text": [
      "$JCS: possibly delisted; No timezone found\n",
      "$OKS: possibly delisted; No price data found  (1d 2020-01-01 -> 2024-08-28)\n",
      "$CST: possibly delisted; No price data found  (1d 2020-01-01 -> 2024-08-28)\n"
     ]
    },
    {
     "name": "stdout",
     "output_type": "stream",
     "text": [
      "Error fetching historical data for JCS: No historical data found for ticker\n",
      "$OKS: possibly delisted; No price data found  (1d 2020-01-01 -> 2024-08-28)\n",
      "Error fetching historical data for OKS: No historical data found for ticker\n",
      "$CST: possibly delisted; No price data found  (1d 2020-01-01 -> 2024-08-28)\n",
      "Error fetching historical data for CST: No historical data found for ticker\n"
     ]
    },
    {
     "name": "stderr",
     "output_type": "stream",
     "text": [
      "$WLL: possibly delisted; No timezone found\n"
     ]
    },
    {
     "name": "stdout",
     "output_type": "stream",
     "text": [
      "Error fetching historical data for WLL: No historical data found for ticker\n",
      "Monthly data for EONGY saved successfully.\n"
     ]
    },
    {
     "name": "stderr",
     "output_type": "stream",
     "text": [
      "$MCC: possibly delisted; No timezone found\n",
      "$NFX: possibly delisted; No price data found  (1d 2020-01-01 -> 2024-08-28)\n",
      "$CCP: possibly delisted; No price data found  (1d 2020-01-01 -> 2024-08-28)\n"
     ]
    },
    {
     "name": "stdout",
     "output_type": "stream",
     "text": [
      "Error fetching historical data for MCC: No historical data found for ticker\n",
      "$NFX: possibly delisted; No price data found  (1d 2020-01-01 -> 2024-08-28)\n",
      "Error fetching historical data for NFX: No historical data found for ticker\n",
      "$CCP: possibly delisted; No price data found  (1d 2020-01-01 -> 2024-08-28)\n",
      "Error fetching historical data for CCP: No historical data found for ticker\n"
     ]
    },
    {
     "name": "stderr",
     "output_type": "stream",
     "text": [
      "$CLSN: possibly delisted; No timezone found\n"
     ]
    },
    {
     "name": "stdout",
     "output_type": "stream",
     "text": [
      "Error fetching historical data for CLSN: No historical data found for ticker\n"
     ]
    },
    {
     "name": "stderr",
     "output_type": "stream",
     "text": [
      "$MXIM: possibly delisted; No timezone found\n"
     ]
    },
    {
     "name": "stdout",
     "output_type": "stream",
     "text": [
      "Error fetching historical data for MXIM: No historical data found for ticker\n"
     ]
    },
    {
     "name": "stderr",
     "output_type": "stream",
     "text": [
      "$MDC: possibly delisted; No timezone found\n",
      "$AFAM: possibly delisted; No price data found  (1d 2020-01-01 -> 2024-08-28)\n",
      "$TLLP: possibly delisted; No price data found  (1d 2020-01-01 -> 2024-08-28)\n"
     ]
    },
    {
     "name": "stdout",
     "output_type": "stream",
     "text": [
      "Error fetching historical data for MDC: No historical data found for ticker\n",
      "$AFAM: possibly delisted; No price data found  (1d 2020-01-01 -> 2024-08-28)\n",
      "Error fetching historical data for AFAM: No historical data found for ticker\n",
      "$TLLP: possibly delisted; No price data found  (1d 2020-01-01 -> 2024-08-28)\n",
      "Error fetching historical data for TLLP: No historical data found for ticker\n",
      "Monthly data for DCTH saved successfully.\n"
     ]
    },
    {
     "name": "stderr",
     "output_type": "stream",
     "text": [
      "$AINV: possibly delisted; No timezone found\n",
      "$QTM: possibly delisted; No price data found  (1d 2020-01-01 -> 2024-08-28)\n"
     ]
    },
    {
     "name": "stdout",
     "output_type": "stream",
     "text": [
      "Error fetching historical data for AINV: No historical data found for ticker\n",
      "$QTM: possibly delisted; No price data found  (1d 2020-01-01 -> 2024-08-28)\n",
      "Error fetching historical data for QTM: No historical data found for ticker\n",
      "Monthly data for VNCE saved successfully.\n",
      "Monthly data for VEVIX saved successfully.\n",
      "Monthly data for SLM saved successfully.\n"
     ]
    },
    {
     "name": "stderr",
     "output_type": "stream",
     "text": [
      "$CLNSA: possibly delisted; No timezone found\n"
     ]
    },
    {
     "name": "stdout",
     "output_type": "stream",
     "text": [
      "Error fetching historical data for CLNSA: No historical data found for ticker\n"
     ]
    },
    {
     "name": "stderr",
     "output_type": "stream",
     "text": [
      "$GTOMY: possibly delisted; No timezone found\n"
     ]
    },
    {
     "name": "stdout",
     "output_type": "stream",
     "text": [
      "Error fetching historical data for GTOMY: No historical data found for ticker\n",
      "Monthly data for VIVHY saved successfully.\n",
      "Monthly data for UNIT saved successfully.\n"
     ]
    },
    {
     "name": "stderr",
     "output_type": "stream",
     "text": [
      "$JHB: possibly delisted; No timezone found\n",
      "$POT: possibly delisted; No price data found  (1d 2020-01-01 -> 2024-08-28)\n",
      "$JNS: possibly delisted; No price data found  (1d 2020-01-01 -> 2024-08-28)\n"
     ]
    },
    {
     "name": "stdout",
     "output_type": "stream",
     "text": [
      "Error fetching historical data for JHB: No historical data found for ticker\n",
      "$POT: possibly delisted; No price data found  (1d 2020-01-01 -> 2024-08-28)\n",
      "Error fetching historical data for POT: No historical data found for ticker\n",
      "$JNS: possibly delisted; No price data found  (1d 2020-01-01 -> 2024-08-28)\n",
      "Error fetching historical data for JNS: No historical data found for ticker\n"
     ]
    },
    {
     "name": "stderr",
     "output_type": "stream",
     "text": [
      "$PE: possibly delisted; No timezone found\n",
      "$COH: possibly delisted; No price data found  (1d 2020-01-01 -> 2024-08-28)\n"
     ]
    },
    {
     "name": "stdout",
     "output_type": "stream",
     "text": [
      "Error fetching historical data for PE: No historical data found for ticker\n",
      "$COH: possibly delisted; No price data found  (1d 2020-01-01 -> 2024-08-28)\n",
      "Error fetching historical data for COH: No historical data found for ticker\n",
      "Monthly data for JNUG saved successfully.\n",
      "Monthly data for MNRO saved successfully.\n"
     ]
    },
    {
     "name": "stderr",
     "output_type": "stream",
     "text": [
      "OCN: No data found, symbol may be delisted\n",
      "$FNBC: possibly delisted; No price data found  (1d 2020-01-01 -> 2024-08-28)\n"
     ]
    },
    {
     "name": "stdout",
     "output_type": "stream",
     "text": [
      "Error fetching historical data for OCN: No historical data found for ticker\n",
      "$FNBC: possibly delisted; No price data found  (1d 2020-01-01 -> 2024-08-28)\n",
      "Error fetching historical data for FNBC: No historical data found for ticker\n"
     ]
    },
    {
     "name": "stderr",
     "output_type": "stream",
     "text": [
      "$CWEI: possibly delisted; No price data found  (1d 2020-01-01 -> 2024-08-28)\n"
     ]
    },
    {
     "name": "stdout",
     "output_type": "stream",
     "text": [
      "$CWEI: possibly delisted; No price data found  (1d 2020-01-01 -> 2024-08-28)\n",
      "Error fetching historical data for CWEI: No historical data found for ticker\n"
     ]
    },
    {
     "name": "stderr",
     "output_type": "stream",
     "text": [
      "$LCI: possibly delisted; No timezone found\n"
     ]
    },
    {
     "name": "stdout",
     "output_type": "stream",
     "text": [
      "Error fetching historical data for LCI: No historical data found for ticker\n"
     ]
    },
    {
     "name": "stderr",
     "output_type": "stream",
     "text": [
      "$SZYM: possibly delisted; No price data found  (1d 2020-01-01 -> 2024-08-28)\n",
      "$CEB: possibly delisted; No price data found  (1d 2020-01-01 -> 2024-08-28)\n",
      "$PRXL: possibly delisted; No price data found  (1d 2020-01-01 -> 2024-08-28)\n"
     ]
    },
    {
     "name": "stdout",
     "output_type": "stream",
     "text": [
      "Monthly data for FTK saved successfully.\n",
      "$SZYM: possibly delisted; No price data found  (1d 2020-01-01 -> 2024-08-28)\n",
      "Error fetching historical data for SZYM: No historical data found for ticker\n",
      "$CEB: possibly delisted; No price data found  (1d 2020-01-01 -> 2024-08-28)\n",
      "Error fetching historical data for CEB: No historical data found for ticker\n",
      "$PRXL: possibly delisted; No price data found  (1d 2020-01-01 -> 2024-08-28)\n",
      "Error fetching historical data for PRXL: No historical data found for ticker\n"
     ]
    },
    {
     "name": "stderr",
     "output_type": "stream",
     "text": [
      "$AGU: possibly delisted; No price data found  (1d 2020-01-01 -> 2024-08-28)\n"
     ]
    },
    {
     "name": "stdout",
     "output_type": "stream",
     "text": [
      "$AGU: possibly delisted; No price data found  (1d 2020-01-01 -> 2024-08-28)\n",
      "Error fetching historical data for AGU: No historical data found for ticker\n"
     ]
    },
    {
     "name": "stderr",
     "output_type": "stream",
     "text": [
      "$WETF: possibly delisted; No timezone found\n"
     ]
    },
    {
     "name": "stdout",
     "output_type": "stream",
     "text": [
      "Error fetching historical data for WETF: No historical data found for ticker\n"
     ]
    },
    {
     "name": "stderr",
     "output_type": "stream",
     "text": [
      "$TLRD: possibly delisted; No timezone found\n"
     ]
    },
    {
     "name": "stdout",
     "output_type": "stream",
     "text": [
      "Error fetching historical data for TLRD: No historical data found for ticker\n",
      "Monthly data for CMTL saved successfully.\n",
      "Monthly data for IJJ saved successfully.\n"
     ]
    },
    {
     "name": "stderr",
     "output_type": "stream",
     "text": [
      "$CMCSK: possibly delisted; No price data found  (1d 2020-01-01 -> 2024-08-28)\n",
      "$VSAR: possibly delisted; No price data found  (1d 2020-01-01 -> 2024-08-28)\n"
     ]
    },
    {
     "name": "stdout",
     "output_type": "stream",
     "text": [
      "Monthly data for ERIE saved successfully.\n",
      "$CMCSK: possibly delisted; No price data found  (1d 2020-01-01 -> 2024-08-28)\n",
      "Error fetching historical data for CMCSK: No historical data found for ticker\n",
      "$VSAR: possibly delisted; No price data found  (1d 2020-01-01 -> 2024-08-28)\n",
      "Error fetching historical data for VSAR: No historical data found for ticker\n",
      "Monthly data for MLPI saved successfully.\n",
      "Monthly data for RYH saved successfully.\n",
      "Monthly data for FL saved successfully.\n",
      "Monthly data for RVT saved successfully.\n"
     ]
    },
    {
     "name": "stderr",
     "output_type": "stream",
     "text": [
      "$LLTC: possibly delisted; No price data found  (1d 2020-01-01 -> 2024-08-28)\n"
     ]
    },
    {
     "name": "stdout",
     "output_type": "stream",
     "text": [
      "Monthly data for WOOF saved successfully.\n",
      "$LLTC: possibly delisted; No price data found  (1d 2020-01-01 -> 2024-08-28)\n",
      "Error fetching historical data for LLTC: No historical data found for ticker\n",
      "Monthly data for IYH saved successfully.\n",
      "Monthly data for NVG saved successfully.\n",
      "Monthly data for VCIT saved successfully.\n"
     ]
    },
    {
     "name": "stderr",
     "output_type": "stream",
     "text": [
      "$FCGYF: possibly delisted; No price data found  (1d 2020-01-01 -> 2024-08-28)\n"
     ]
    },
    {
     "name": "stdout",
     "output_type": "stream",
     "text": [
      "Monthly data for CLC saved successfully.\n",
      "$FCGYF: possibly delisted; No price data found  (1d 2020-01-01 -> 2024-08-28)\n",
      "Error fetching historical data for FCGYF: No historical data found for ticker\n"
     ]
    },
    {
     "name": "stderr",
     "output_type": "stream",
     "text": [
      "$MJN: possibly delisted; No price data found  (1d 2020-01-01 -> 2024-08-28)\n"
     ]
    },
    {
     "name": "stdout",
     "output_type": "stream",
     "text": [
      "$MJN: possibly delisted; No price data found  (1d 2020-01-01 -> 2024-08-28)\n",
      "Error fetching historical data for MJN: No historical data found for ticker\n"
     ]
    },
    {
     "name": "stderr",
     "output_type": "stream",
     "text": [
      "$ALOG: possibly delisted; No price data found  (1d 2020-01-01 -> 2024-08-28)\n"
     ]
    },
    {
     "name": "stdout",
     "output_type": "stream",
     "text": [
      "Monthly data for IBB saved successfully.\n",
      "$ALOG: possibly delisted; No price data found  (1d 2020-01-01 -> 2024-08-28)\n",
      "Error fetching historical data for ALOG: No historical data found for ticker\n"
     ]
    },
    {
     "name": "stderr",
     "output_type": "stream",
     "text": [
      "$KERX: possibly delisted; No price data found  (1d 2020-01-01 -> 2024-08-28)\n"
     ]
    },
    {
     "name": "stdout",
     "output_type": "stream",
     "text": [
      "$KERX: possibly delisted; No price data found  (1d 2020-01-01 -> 2024-08-28)\n",
      "Error fetching historical data for KERX: No historical data found for ticker\n",
      "Monthly data for ACRE saved successfully.\n",
      "Monthly data for GCBC saved successfully.\n",
      "Monthly data for RMBFX saved successfully.\n"
     ]
    },
    {
     "name": "stderr",
     "output_type": "stream",
     "text": [
      "$AQFH: possibly delisted; No timezone found\n",
      "$SXL: possibly delisted; No price data found  (1d 2020-01-01 -> 2024-08-28)\n"
     ]
    },
    {
     "name": "stdout",
     "output_type": "stream",
     "text": [
      "Error fetching historical data for AQFH: No historical data found for ticker\n",
      "$SXL: possibly delisted; No price data found  (1d 2020-01-01 -> 2024-08-28)\n",
      "Error fetching historical data for SXL: No historical data found for ticker\n"
     ]
    },
    {
     "name": "stderr",
     "output_type": "stream",
     "text": [
      "$BABY: possibly delisted; No timezone found\n"
     ]
    },
    {
     "name": "stdout",
     "output_type": "stream",
     "text": [
      "Error fetching historical data for BABY: No historical data found for ticker\n",
      "Monthly data for FNMAJ saved successfully.\n",
      "Monthly data for XLI saved successfully.\n"
     ]
    },
    {
     "name": "stderr",
     "output_type": "stream",
     "text": [
      "$NEEPC: possibly delisted; No timezone found\n"
     ]
    },
    {
     "name": "stdout",
     "output_type": "stream",
     "text": [
      "Error fetching historical data for NEEPC: No historical data found for ticker\n",
      "Monthly data for NGD saved successfully.\n",
      "Monthly data for XLP saved successfully.\n"
     ]
    },
    {
     "name": "stderr",
     "output_type": "stream",
     "text": [
      "$WFT: possibly delisted; No timezone found\n"
     ]
    },
    {
     "name": "stdout",
     "output_type": "stream",
     "text": [
      "Error fetching historical data for WFT: No historical data found for ticker\n"
     ]
    },
    {
     "name": "stderr",
     "output_type": "stream",
     "text": [
      "$IMGN: possibly delisted; No timezone found\n",
      "$CLMS: possibly delisted; No price data found  (1d 2020-01-01 -> 2024-08-28)\n"
     ]
    },
    {
     "name": "stdout",
     "output_type": "stream",
     "text": [
      "Error fetching historical data for IMGN: No historical data found for ticker\n",
      "$CLMS: possibly delisted; No price data found  (1d 2020-01-01 -> 2024-08-28)\n",
      "Error fetching historical data for CLMS: No historical data found for ticker\n",
      "Monthly data for DBEF saved successfully.\n"
     ]
    },
    {
     "name": "stderr",
     "output_type": "stream",
     "text": [
      "$COG: possibly delisted; No timezone found\n"
     ]
    },
    {
     "name": "stdout",
     "output_type": "stream",
     "text": [
      "Error fetching historical data for COG: No historical data found for ticker\n"
     ]
    },
    {
     "name": "stderr",
     "output_type": "stream",
     "text": [
      "$PLM: possibly delisted; No timezone found\n"
     ]
    },
    {
     "name": "stdout",
     "output_type": "stream",
     "text": [
      "Error fetching historical data for PLM: No historical data found for ticker\n"
     ]
    },
    {
     "name": "stderr",
     "output_type": "stream",
     "text": [
      "$MGU: possibly delisted; No timezone found\n"
     ]
    },
    {
     "name": "stdout",
     "output_type": "stream",
     "text": [
      "Error fetching historical data for MGU: No historical data found for ticker\n",
      "Monthly data for REMX saved successfully.\n",
      "Monthly data for ASHS saved successfully.\n",
      "Monthly data for TRN saved successfully.\n",
      "Monthly data for SYNA saved successfully.\n"
     ]
    },
    {
     "name": "stderr",
     "output_type": "stream",
     "text": [
      "$ZNGA: possibly delisted; No timezone found\n",
      "$OLCB: possibly delisted; No price data found  (1d 2020-01-01 -> 2024-08-28)\n"
     ]
    },
    {
     "name": "stdout",
     "output_type": "stream",
     "text": [
      "Error fetching historical data for ZNGA: No historical data found for ticker\n",
      "$OLCB: possibly delisted; No price data found  (1d 2020-01-01 -> 2024-08-28)\n",
      "Error fetching historical data for OLCB: No historical data found for ticker\n",
      "Monthly data for IAI saved successfully.\n"
     ]
    },
    {
     "name": "stderr",
     "output_type": "stream",
     "text": [
      "$NSR: possibly delisted; No timezone found\n"
     ]
    },
    {
     "name": "stdout",
     "output_type": "stream",
     "text": [
      "Error fetching historical data for NSR: No historical data found for ticker\n",
      "Monthly data for ISDR saved successfully.\n",
      "Monthly data for MAXD saved successfully.\n",
      "Monthly data for AEXAY saved successfully.\n"
     ]
    },
    {
     "name": "stderr",
     "output_type": "stream",
     "text": [
      "$FGP: possibly delisted; No timezone found\n",
      "$IXYS: possibly delisted; No price data found  (1d 2020-01-01 -> 2024-08-28)\n",
      "$STRZA: possibly delisted; No price data found  (1d 2020-01-01 -> 2024-08-28)\n"
     ]
    },
    {
     "name": "stdout",
     "output_type": "stream",
     "text": [
      "Error fetching historical data for FGP: No historical data found for ticker\n",
      "$IXYS: possibly delisted; No price data found  (1d 2020-01-01 -> 2024-08-28)\n",
      "Error fetching historical data for IXYS: No historical data found for ticker\n",
      "$STRZA: possibly delisted; No price data found  (1d 2020-01-01 -> 2024-08-28)\n",
      "Error fetching historical data for STRZA: No historical data found for ticker\n"
     ]
    },
    {
     "name": "stderr",
     "output_type": "stream",
     "text": [
      "$HBHC: possibly delisted; No price data found  (1d 2020-01-01 -> 2024-08-28)\n"
     ]
    },
    {
     "name": "stdout",
     "output_type": "stream",
     "text": [
      "$HBHC: possibly delisted; No price data found  (1d 2020-01-01 -> 2024-08-28)\n",
      "Error fetching historical data for HBHC: No historical data found for ticker\n"
     ]
    },
    {
     "name": "stderr",
     "output_type": "stream",
     "text": [
      "$TGP: possibly delisted; No timezone found\n"
     ]
    },
    {
     "name": "stdout",
     "output_type": "stream",
     "text": [
      "Error fetching historical data for TGP: No historical data found for ticker\n",
      "Monthly data for TLN saved successfully.\n"
     ]
    },
    {
     "name": "stderr",
     "output_type": "stream",
     "text": [
      "$DRYS: possibly delisted; No timezone found\n"
     ]
    },
    {
     "name": "stdout",
     "output_type": "stream",
     "text": [
      "Error fetching historical data for DRYS: No historical data found for ticker\n",
      "Monthly data for IM saved successfully.\n",
      "Monthly data for SBH saved successfully.\n"
     ]
    },
    {
     "name": "stderr",
     "output_type": "stream",
     "text": [
      "$NEEPRI: possibly delisted; No timezone found\n"
     ]
    },
    {
     "name": "stdout",
     "output_type": "stream",
     "text": [
      "Error fetching historical data for NEEPRI: No historical data found for ticker\n",
      "Monthly data for GDX saved successfully.\n",
      "Monthly data for MDU saved successfully.\n"
     ]
    },
    {
     "name": "stderr",
     "output_type": "stream",
     "text": [
      "$SCTY: possibly delisted; No timezone found\n"
     ]
    },
    {
     "name": "stdout",
     "output_type": "stream",
     "text": [
      "Error fetching historical data for SCTY: No historical data found for ticker\n",
      "Monthly data for ADNT saved successfully.\n"
     ]
    },
    {
     "name": "stderr",
     "output_type": "stream",
     "text": [
      "$JCP: possibly delisted; No timezone found\n",
      "$CAB: possibly delisted; No price data found  (1d 2020-01-01 -> 2024-08-28)\n"
     ]
    },
    {
     "name": "stdout",
     "output_type": "stream",
     "text": [
      "Error fetching historical data for JCP: No historical data found for ticker\n",
      "$CAB: possibly delisted; No price data found  (1d 2020-01-01 -> 2024-08-28)\n",
      "Error fetching historical data for CAB: No historical data found for ticker\n"
     ]
    },
    {
     "name": "stderr",
     "output_type": "stream",
     "text": [
      "$NHF: possibly delisted; No timezone found\n"
     ]
    },
    {
     "name": "stdout",
     "output_type": "stream",
     "text": [
      "Error fetching historical data for NHF: No historical data found for ticker\n"
     ]
    },
    {
     "name": "stderr",
     "output_type": "stream",
     "text": [
      "$DPM: possibly delisted; No timezone found\n"
     ]
    },
    {
     "name": "stdout",
     "output_type": "stream",
     "text": [
      "Error fetching historical data for DPM: No historical data found for ticker\n",
      "Monthly data for ASIX saved successfully.\n",
      "Monthly data for ANGO saved successfully.\n"
     ]
    },
    {
     "name": "stderr",
     "output_type": "stream",
     "text": [
      "$LEXEA: possibly delisted; No timezone found\n"
     ]
    },
    {
     "name": "stdout",
     "output_type": "stream",
     "text": [
      "Error fetching historical data for LEXEA: No historical data found for ticker\n"
     ]
    },
    {
     "name": "stderr",
     "output_type": "stream",
     "text": [
      "$BACWSA: possibly delisted; No timezone found\n",
      "$IQNT: possibly delisted; No price data found  (1d 2020-01-01 -> 2024-08-28)\n"
     ]
    },
    {
     "name": "stdout",
     "output_type": "stream",
     "text": [
      "Error fetching historical data for BACWSA: No historical data found for ticker\n",
      "$IQNT: possibly delisted; No price data found  (1d 2020-01-01 -> 2024-08-28)\n",
      "Error fetching historical data for IQNT: No historical data found for ticker\n",
      "Monthly data for ACE saved successfully.\n"
     ]
    },
    {
     "name": "stderr",
     "output_type": "stream",
     "text": [
      "$SYRG: possibly delisted; No price data found  (1d 2020-01-01 -> 2024-08-28)\n"
     ]
    },
    {
     "name": "stdout",
     "output_type": "stream",
     "text": [
      "Monthly data for DLX saved successfully.\n",
      "$SYRG: possibly delisted; No price data found  (1d 2020-01-01 -> 2024-08-28)\n",
      "Error fetching historical data for SYRG: No historical data found for ticker\n",
      "Monthly data for COKE saved successfully.\n",
      "Monthly data for GPOR saved successfully.\n"
     ]
    },
    {
     "name": "stderr",
     "output_type": "stream",
     "text": [
      "$ENH: possibly delisted; No price data found  (1d 2020-01-01 -> 2024-08-28)\n"
     ]
    },
    {
     "name": "stdout",
     "output_type": "stream",
     "text": [
      "Monthly data for EBF saved successfully.\n",
      "$ENH: possibly delisted; No price data found  (1d 2020-01-01 -> 2024-08-28)\n",
      "Error fetching historical data for ENH: No historical data found for ticker\n"
     ]
    },
    {
     "name": "stderr",
     "output_type": "stream",
     "text": [
      "$SNI: possibly delisted; No price data found  (1d 2020-01-01 -> 2024-08-28)\n"
     ]
    },
    {
     "name": "stdout",
     "output_type": "stream",
     "text": [
      "$SNI: possibly delisted; No price data found  (1d 2020-01-01 -> 2024-08-28)\n",
      "Error fetching historical data for SNI: No historical data found for ticker\n"
     ]
    },
    {
     "name": "stderr",
     "output_type": "stream",
     "text": [
      "$UNRDY: possibly delisted; No timezone found\n"
     ]
    },
    {
     "name": "stdout",
     "output_type": "stream",
     "text": [
      "Error fetching historical data for UNRDY: No historical data found for ticker\n"
     ]
    },
    {
     "name": "stderr",
     "output_type": "stream",
     "text": [
      "$HOT: possibly delisted; No price data found  (1d 2020-01-01 -> 2024-08-28)\n",
      "$BUNT: possibly delisted; No price data found  (1d 2020-01-01 -> 2024-08-28)\n"
     ]
    },
    {
     "name": "stdout",
     "output_type": "stream",
     "text": [
      "Monthly data for EGO saved successfully.\n",
      "$HOT: possibly delisted; No price data found  (1d 2020-01-01 -> 2024-08-28)\n",
      "Error fetching historical data for HOT: No historical data found for ticker\n",
      "$BUNT: possibly delisted; No price data found  (1d 2020-01-01 -> 2024-08-28)\n",
      "Error fetching historical data for BUNT: No historical data found for ticker\n",
      "Monthly data for GRX saved successfully.\n",
      "Monthly data for CICHY saved successfully.\n",
      "Monthly data for KEP saved successfully.\n",
      "Monthly data for DIISY saved successfully.\n"
     ]
    },
    {
     "name": "stderr",
     "output_type": "stream",
     "text": [
      "$MDVN: possibly delisted; No price data found  (1d 2020-01-01 -> 2024-08-28)\n"
     ]
    },
    {
     "name": "stdout",
     "output_type": "stream",
     "text": [
      "Monthly data for GIL saved successfully.\n",
      "$MDVN: possibly delisted; No price data found  (1d 2020-01-01 -> 2024-08-28)\n",
      "Error fetching historical data for MDVN: No historical data found for ticker\n",
      "Monthly data for AMX saved successfully.\n",
      "Monthly data for OTEX saved successfully.\n",
      "Monthly data for TDHOY saved successfully.\n",
      "Monthly data for MATX saved successfully.\n"
     ]
    },
    {
     "name": "stderr",
     "output_type": "stream",
     "text": [
      "$TYC: possibly delisted; No price data found  (1d 2020-01-01 -> 2024-08-28)\n"
     ]
    },
    {
     "name": "stdout",
     "output_type": "stream",
     "text": [
      "Monthly data for EMC saved successfully.\n",
      "$TYC: possibly delisted; No price data found  (1d 2020-01-01 -> 2024-08-28)\n",
      "Error fetching historical data for TYC: No historical data found for ticker\n"
     ]
    },
    {
     "name": "stderr",
     "output_type": "stream",
     "text": [
      "$HYH: possibly delisted; No price data found  (1d 2020-01-01 -> 2024-08-28)\n"
     ]
    },
    {
     "name": "stdout",
     "output_type": "stream",
     "text": [
      "Monthly data for TSEM saved successfully.\n",
      "$HYH: possibly delisted; No price data found  (1d 2020-01-01 -> 2024-08-28)\n",
      "Error fetching historical data for HYH: No historical data found for ticker\n"
     ]
    },
    {
     "name": "stderr",
     "output_type": "stream",
     "text": [
      "$STON: possibly delisted; No timezone found\n",
      "$ELRC: possibly delisted; No price data found  (1d 2020-01-01 -> 2024-08-28)\n"
     ]
    },
    {
     "name": "stdout",
     "output_type": "stream",
     "text": [
      "Error fetching historical data for STON: No historical data found for ticker\n",
      "$ELRC: possibly delisted; No price data found  (1d 2020-01-01 -> 2024-08-28)\n",
      "Error fetching historical data for ELRC: No historical data found for ticker\n",
      "Monthly data for RGT saved successfully.\n",
      "Monthly data for YRD saved successfully.\n",
      "Monthly data for EUO saved successfully.\n",
      "Monthly data for MOAT saved successfully.\n",
      "Monthly data for MGRC saved successfully.\n",
      "Monthly data for SIMO saved successfully.\n"
     ]
    },
    {
     "name": "stderr",
     "output_type": "stream",
     "text": [
      "$QIHU: possibly delisted; No price data found  (1d 2020-01-01 -> 2024-08-28)\n"
     ]
    },
    {
     "name": "stdout",
     "output_type": "stream",
     "text": [
      "Monthly data for JACK saved successfully.\n",
      "$QIHU: possibly delisted; No price data found  (1d 2020-01-01 -> 2024-08-28)\n",
      "Error fetching historical data for QIHU: No historical data found for ticker\n"
     ]
    },
    {
     "name": "stderr",
     "output_type": "stream",
     "text": [
      "$AXLL: possibly delisted; No price data found  (1d 2020-01-01 -> 2024-08-28)\n",
      "$MRKT: possibly delisted; No price data found  (1d 2020-01-01 -> 2024-08-28)\n"
     ]
    },
    {
     "name": "stdout",
     "output_type": "stream",
     "text": [
      "$AXLL: possibly delisted; No price data found  (1d 2020-01-01 -> 2024-08-28)\n",
      "Error fetching historical data for AXLL: No historical data found for ticker\n",
      "$MRKT: possibly delisted; No price data found  (1d 2020-01-01 -> 2024-08-28)\n",
      "Error fetching historical data for MRKT: No historical data found for ticker\n",
      "Monthly data for BBU saved successfully.\n",
      "Monthly data for MMHIX saved successfully.\n",
      "Monthly data for LILA saved successfully.\n",
      "Monthly data for FXP saved successfully.\n"
     ]
    },
    {
     "name": "stderr",
     "output_type": "stream",
     "text": [
      "$TECO: possibly delisted; No timezone found\n"
     ]
    },
    {
     "name": "stdout",
     "output_type": "stream",
     "text": [
      "Error fetching historical data for TECO: No historical data found for ticker\n",
      "Monthly data for GAS saved successfully.\n",
      "Monthly data for DWX saved successfully.\n",
      "Monthly data for PNPFF saved successfully.\n"
     ]
    },
    {
     "name": "stderr",
     "output_type": "stream",
     "text": [
      "$GG: possibly delisted; No timezone found\n",
      "$SLW: possibly delisted; No price data found  (1d 2020-01-01 -> 2024-08-28)\n"
     ]
    },
    {
     "name": "stdout",
     "output_type": "stream",
     "text": [
      "Error fetching historical data for GG: No historical data found for ticker\n",
      "$SLW: possibly delisted; No price data found  (1d 2020-01-01 -> 2024-08-28)\n",
      "Error fetching historical data for SLW: No historical data found for ticker\n",
      "Monthly data for AEM saved successfully.\n",
      "Monthly data for REE saved successfully.\n",
      "Monthly data for PAL saved successfully.\n"
     ]
    },
    {
     "name": "stderr",
     "output_type": "stream",
     "text": [
      "$PLGTF: possibly delisted; No timezone found\n"
     ]
    },
    {
     "name": "stdout",
     "output_type": "stream",
     "text": [
      "Error fetching historical data for PLGTF: No historical data found for ticker\n",
      "Monthly data for FCG saved successfully.\n"
     ]
    },
    {
     "name": "stderr",
     "output_type": "stream",
     "text": [
      "$UAC: possibly delisted; No price data found  (1d 2020-01-01 -> 2024-08-28)\n",
      "$CPGX: possibly delisted; No price data found  (1d 2020-01-01 -> 2024-08-28)\n"
     ]
    },
    {
     "name": "stdout",
     "output_type": "stream",
     "text": [
      "Monthly data for KGC saved successfully.\n",
      "$UAC: possibly delisted; No price data found  (1d 2020-01-01 -> 2024-08-28)\n",
      "Error fetching historical data for UAC: No historical data found for ticker\n",
      "$CPGX: possibly delisted; No price data found  (1d 2020-01-01 -> 2024-08-28)\n",
      "Error fetching historical data for CPGX: No historical data found for ticker\n"
     ]
    },
    {
     "name": "stderr",
     "output_type": "stream",
     "text": [
      "$BURFX: possibly delisted; No price data found  (1d 2020-01-01 -> 2024-08-28)\n"
     ]
    },
    {
     "name": "stdout",
     "output_type": "stream",
     "text": [
      "$BURFX: possibly delisted; No price data found  (1d 2020-01-01 -> 2024-08-28)\n",
      "Error fetching historical data for BURFX: No historical data found for ticker\n"
     ]
    },
    {
     "name": "stderr",
     "output_type": "stream",
     "text": [
      "$MON: possibly delisted; No timezone found\n"
     ]
    },
    {
     "name": "stdout",
     "output_type": "stream",
     "text": [
      "Error fetching historical data for MON: No historical data found for ticker\n",
      "Monthly data for DTO saved successfully.\n"
     ]
    },
    {
     "name": "stderr",
     "output_type": "stream",
     "text": [
      "$LNCE: possibly delisted; No price data found  (1d 2020-01-01 -> 2024-08-28)\n"
     ]
    },
    {
     "name": "stdout",
     "output_type": "stream",
     "text": [
      "Monthly data for PAY saved successfully.\n",
      "$LNCE: possibly delisted; No price data found  (1d 2020-01-01 -> 2024-08-28)\n",
      "Error fetching historical data for LNCE: No historical data found for ticker\n"
     ]
    },
    {
     "name": "stderr",
     "output_type": "stream",
     "text": [
      "$3305779: possibly delisted; No timezone found\n",
      "$CAFD: possibly delisted; No price data found  (1d 2020-01-01 -> 2024-08-28)\n"
     ]
    },
    {
     "name": "stdout",
     "output_type": "stream",
     "text": [
      "Error fetching historical data for 3305779: No historical data found for ticker\n",
      "$CAFD: possibly delisted; No price data found  (1d 2020-01-01 -> 2024-08-28)\n",
      "Error fetching historical data for CAFD: No historical data found for ticker\n",
      "Monthly data for MBLY saved successfully.\n"
     ]
    },
    {
     "name": "stderr",
     "output_type": "stream",
     "text": [
      "$4824778: possibly delisted; No timezone found\n"
     ]
    },
    {
     "name": "stdout",
     "output_type": "stream",
     "text": [
      "Error fetching historical data for 4824778: No historical data found for ticker\n",
      "Monthly data for RELY saved successfully.\n"
     ]
    },
    {
     "name": "stderr",
     "output_type": "stream",
     "text": [
      "$6897143: possibly delisted; No timezone found\n",
      "$BIOA: possibly delisted; No price data found  (1d 2020-01-01 -> 2024-08-28)\n"
     ]
    },
    {
     "name": "stdout",
     "output_type": "stream",
     "text": [
      "Error fetching historical data for 6897143: No historical data found for ticker\n",
      "$BIOA: possibly delisted; No price data found  (1d 2020-01-01 -> 2024-08-28)\n",
      "Error fetching historical data for BIOA: No historical data found for ticker\n",
      "Monthly data for ITRI saved successfully.\n"
     ]
    },
    {
     "name": "stderr",
     "output_type": "stream",
     "text": [
      "$B13WZ26: possibly delisted; No timezone found\n"
     ]
    },
    {
     "name": "stdout",
     "output_type": "stream",
     "text": [
      "Error fetching historical data for B13WZ26: No historical data found for ticker\n"
     ]
    },
    {
     "name": "stderr",
     "output_type": "stream",
     "text": [
      "$BLM7FC2: possibly delisted; No timezone found\n"
     ]
    },
    {
     "name": "stdout",
     "output_type": "stream",
     "text": [
      "Error fetching historical data for BLM7FC2: No historical data found for ticker\n"
     ]
    },
    {
     "name": "stderr",
     "output_type": "stream",
     "text": [
      "$RAVN: possibly delisted; No timezone found\n"
     ]
    },
    {
     "name": "stdout",
     "output_type": "stream",
     "text": [
      "Error fetching historical data for RAVN: No historical data found for ticker\n"
     ]
    },
    {
     "name": "stderr",
     "output_type": "stream",
     "text": [
      "$5522714: possibly delisted; No timezone found\n"
     ]
    },
    {
     "name": "stdout",
     "output_type": "stream",
     "text": [
      "Error fetching historical data for 5522714: No historical data found for ticker\n"
     ]
    },
    {
     "name": "stderr",
     "output_type": "stream",
     "text": [
      "$4491235: possibly delisted; No timezone found\n",
      "$FLTX: possibly delisted; No price data found  (1d 2020-01-01 -> 2024-08-28)\n"
     ]
    },
    {
     "name": "stdout",
     "output_type": "stream",
     "text": [
      "Error fetching historical data for 4491235: No historical data found for ticker\n",
      "$FLTX: possibly delisted; No price data found  (1d 2020-01-01 -> 2024-08-28)\n",
      "Error fetching historical data for FLTX: No historical data found for ticker\n"
     ]
    },
    {
     "name": "stderr",
     "output_type": "stream",
     "text": [
      "$MXWL: possibly delisted; No timezone found\n",
      "$SSNI: possibly delisted; No price data found  (1d 2020-01-01 -> 2024-08-28)\n"
     ]
    },
    {
     "name": "stdout",
     "output_type": "stream",
     "text": [
      "Error fetching historical data for MXWL: No historical data found for ticker\n",
      "$SSNI: possibly delisted; No price data found  (1d 2020-01-01 -> 2024-08-28)\n",
      "Error fetching historical data for SSNI: No historical data found for ticker\n"
     ]
    },
    {
     "name": "stderr",
     "output_type": "stream",
     "text": [
      "$B1W8P14: possibly delisted; No timezone found\n",
      "$BXLT: possibly delisted; No price data found  (1d 2020-01-01 -> 2024-08-28)\n"
     ]
    },
    {
     "name": "stdout",
     "output_type": "stream",
     "text": [
      "Error fetching historical data for B1W8P14: No historical data found for ticker\n",
      "$BXLT: possibly delisted; No price data found  (1d 2020-01-01 -> 2024-08-28)\n",
      "Error fetching historical data for BXLT: No historical data found for ticker\n",
      "Monthly data for NGVT saved successfully.\n",
      "Monthly data for BIN saved successfully.\n"
     ]
    },
    {
     "name": "stderr",
     "output_type": "stream",
     "text": [
      "$IRLBF: possibly delisted; No price data found  (1d 2020-01-01 -> 2024-08-28)\n",
      "$ARG: possibly delisted; No price data found  (1d 2020-01-01 -> 2024-08-28)\n"
     ]
    },
    {
     "name": "stdout",
     "output_type": "stream",
     "text": [
      "Monthly data for FDM saved successfully.\n",
      "$IRLBF: possibly delisted; No price data found  (1d 2020-01-01 -> 2024-08-28)\n",
      "Error fetching historical data for IRLBF: No historical data found for ticker\n",
      "$ARG: possibly delisted; No price data found  (1d 2020-01-01 -> 2024-08-28)\n",
      "Error fetching historical data for ARG: No historical data found for ticker\n",
      "Monthly data for OIL saved successfully.\n",
      "Monthly data for PKW saved successfully.\n"
     ]
    },
    {
     "name": "stderr",
     "output_type": "stream",
     "text": [
      "$NRF: possibly delisted; No price data found  (1d 2020-01-01 -> 2024-08-28)\n"
     ]
    },
    {
     "name": "stdout",
     "output_type": "stream",
     "text": [
      "Monthly data for WOR saved successfully.\n",
      "$NRF: possibly delisted; No price data found  (1d 2020-01-01 -> 2024-08-28)\n",
      "Error fetching historical data for NRF: No historical data found for ticker\n"
     ]
    },
    {
     "name": "stderr",
     "output_type": "stream",
     "text": [
      "$NRE: possibly delisted; No timezone found\n",
      "$TWC: possibly delisted; No price data found  (1d 2020-01-01 -> 2024-08-28)\n",
      "$KKD: possibly delisted; No price data found  (1d 2020-01-01 -> 2024-08-28)\n"
     ]
    },
    {
     "name": "stdout",
     "output_type": "stream",
     "text": [
      "Error fetching historical data for NRE: No historical data found for ticker\n",
      "$TWC: possibly delisted; No price data found  (1d 2020-01-01 -> 2024-08-28)\n",
      "Error fetching historical data for TWC: No historical data found for ticker\n",
      "$KKD: possibly delisted; No price data found  (1d 2020-01-01 -> 2024-08-28)\n",
      "Error fetching historical data for KKD: No historical data found for ticker\n",
      "Monthly data for SYT saved successfully.\n"
     ]
    },
    {
     "name": "stderr",
     "output_type": "stream",
     "text": [
      "$SNDK: possibly delisted; No price data found  (1d 2020-01-01 -> 2024-08-28)\n"
     ]
    },
    {
     "name": "stdout",
     "output_type": "stream",
     "text": [
      "Monthly data for MYRG saved successfully.\n",
      "$SNDK: possibly delisted; No price data found  (1d 2020-01-01 -> 2024-08-28)\n",
      "Error fetching historical data for SNDK: No historical data found for ticker\n"
     ]
    },
    {
     "name": "stderr",
     "output_type": "stream",
     "text": [
      "$SYYSG: possibly delisted; No timezone found\n"
     ]
    },
    {
     "name": "stdout",
     "output_type": "stream",
     "text": [
      "Error fetching historical data for SYYSG: No historical data found for ticker\n"
     ]
    },
    {
     "name": "stderr",
     "output_type": "stream",
     "text": [
      "$STJ: possibly delisted; No price data found  (1d 2020-01-01 -> 2024-08-28)\n"
     ]
    },
    {
     "name": "stdout",
     "output_type": "stream",
     "text": [
      "Monthly data for TCAP saved successfully.\n",
      "$STJ: possibly delisted; No price data found  (1d 2020-01-01 -> 2024-08-28)\n",
      "Error fetching historical data for STJ: No historical data found for ticker\n"
     ]
    },
    {
     "name": "stderr",
     "output_type": "stream",
     "text": [
      "$XERBE: possibly delisted; No timezone found\n",
      "$AIRM: possibly delisted; No price data found  (1d 2020-01-01 -> 2024-08-28)\n"
     ]
    },
    {
     "name": "stdout",
     "output_type": "stream",
     "text": [
      "Error fetching historical data for XERBE: No historical data found for ticker\n",
      "$AIRM: possibly delisted; No price data found  (1d 2020-01-01 -> 2024-08-28)\n",
      "Error fetching historical data for AIRM: No historical data found for ticker\n",
      "Monthly data for IRET saved successfully.\n"
     ]
    },
    {
     "name": "stderr",
     "output_type": "stream",
     "text": [
      "$2: possibly delisted; No timezone found\n"
     ]
    },
    {
     "name": "stdout",
     "output_type": "stream",
     "text": [
      "Error fetching historical data for 2: No historical data found for ticker\n"
     ]
    },
    {
     "name": "stderr",
     "output_type": "stream",
     "text": [
      "$SSW: possibly delisted; No timezone found\n",
      "$BKJAY: possibly delisted; No price data found  (1d 2020-01-01 -> 2024-08-28)\n"
     ]
    },
    {
     "name": "stdout",
     "output_type": "stream",
     "text": [
      "Error fetching historical data for SSW: No historical data found for ticker\n",
      "$BKJAY: possibly delisted; No price data found  (1d 2020-01-01 -> 2024-08-28)\n",
      "Error fetching historical data for BKJAY: No historical data found for ticker\n"
     ]
    },
    {
     "name": "stderr",
     "output_type": "stream",
     "text": [
      "$WAK: possibly delisted; No price data found  (1d 2020-01-01 -> 2024-08-28)\n",
      "$LMCA: possibly delisted; No price data found  (1d 2020-01-01 -> 2024-08-28)\n"
     ]
    },
    {
     "name": "stdout",
     "output_type": "stream",
     "text": [
      "Monthly data for WMFFX saved successfully.\n",
      "$WAK: possibly delisted; No price data found  (1d 2020-01-01 -> 2024-08-28)\n",
      "Error fetching historical data for WAK: No historical data found for ticker\n",
      "$LMCA: possibly delisted; No price data found  (1d 2020-01-01 -> 2024-08-28)\n",
      "Error fetching historical data for LMCA: No historical data found for ticker\n"
     ]
    },
    {
     "name": "stderr",
     "output_type": "stream",
     "text": [
      "$LMCK: possibly delisted; No timezone found\n"
     ]
    },
    {
     "name": "stdout",
     "output_type": "stream",
     "text": [
      "Error fetching historical data for LMCK: No historical data found for ticker\n",
      "Monthly data for ADT saved successfully.\n"
     ]
    },
    {
     "name": "stderr",
     "output_type": "stream",
     "text": [
      "$OAS: possibly delisted; No timezone found\n"
     ]
    },
    {
     "name": "stdout",
     "output_type": "stream",
     "text": [
      "Error fetching historical data for OAS: No historical data found for ticker\n"
     ]
    },
    {
     "name": "stderr",
     "output_type": "stream",
     "text": [
      "$DNO: possibly delisted; No price data found  (1d 2020-01-01 -> 2024-08-28)\n"
     ]
    },
    {
     "name": "stdout",
     "output_type": "stream",
     "text": [
      "Monthly data for LAZ saved successfully.\n",
      "$DNO: possibly delisted; No price data found  (1d 2020-01-01 -> 2024-08-28)\n",
      "Error fetching historical data for DNO: No historical data found for ticker\n",
      "Monthly data for YACKX saved successfully.\n",
      "Monthly data for JBLU saved successfully.\n",
      "Monthly data for SRI saved successfully.\n",
      "Monthly data for FXH saved successfully.\n",
      "Monthly data for FXN saved successfully.\n"
     ]
    },
    {
     "name": "stderr",
     "output_type": "stream",
     "text": [
      "$P: possibly delisted; No price data found  (1d 2020-01-01 -> 2024-08-28)\n"
     ]
    },
    {
     "name": "stdout",
     "output_type": "stream",
     "text": [
      "Monthly data for HYG saved successfully.\n",
      "$P: possibly delisted; No price data found  (1d 2020-01-01 -> 2024-08-28)\n",
      "Error fetching historical data for P: No historical data found for ticker\n"
     ]
    },
    {
     "name": "stderr",
     "output_type": "stream",
     "text": [
      "$DUE120129: possibly delisted; No timezone found\n"
     ]
    },
    {
     "name": "stdout",
     "output_type": "stream",
     "text": [
      "Error fetching historical data for DUE120129: No historical data found for ticker\n"
     ]
    },
    {
     "name": "stderr",
     "output_type": "stream",
     "text": [
      "$DUE070125: possibly delisted; No timezone found\n"
     ]
    },
    {
     "name": "stdout",
     "output_type": "stream",
     "text": [
      "Error fetching historical data for DUE070125: No historical data found for ticker\n"
     ]
    },
    {
     "name": "stderr",
     "output_type": "stream",
     "text": [
      "$NCR: possibly delisted; No timezone found\n"
     ]
    },
    {
     "name": "stdout",
     "output_type": "stream",
     "text": [
      "Error fetching historical data for NCR: No historical data found for ticker\n"
     ]
    },
    {
     "name": "stderr",
     "output_type": "stream",
     "text": [
      "$PHH: possibly delisted; No price data found  (1d 2020-01-01 -> 2024-08-28)\n"
     ]
    },
    {
     "name": "stdout",
     "output_type": "stream",
     "text": [
      "Monthly data for FLWS saved successfully.\n",
      "$PHH: possibly delisted; No price data found  (1d 2020-01-01 -> 2024-08-28)\n",
      "Error fetching historical data for PHH: No historical data found for ticker\n"
     ]
    },
    {
     "name": "stderr",
     "output_type": "stream",
     "text": [
      "$SHOS: possibly delisted; No timezone found\n",
      "$SNMX: possibly delisted; No price data found  (1d 2020-01-01 -> 2024-08-28)\n"
     ]
    },
    {
     "name": "stdout",
     "output_type": "stream",
     "text": [
      "Error fetching historical data for SHOS: No historical data found for ticker\n",
      "$SNMX: possibly delisted; No price data found  (1d 2020-01-01 -> 2024-08-28)\n",
      "Error fetching historical data for SNMX: No historical data found for ticker\n"
     ]
    },
    {
     "name": "stderr",
     "output_type": "stream",
     "text": [
      "$SUNE: possibly delisted; No price data found  (1d 2020-01-01 -> 2024-08-28)\n",
      "$LUK: possibly delisted; No price data found  (1d 2020-01-01 -> 2024-08-28)\n"
     ]
    },
    {
     "name": "stdout",
     "output_type": "stream",
     "text": [
      "$SUNE: possibly delisted; No price data found  (1d 2020-01-01 -> 2024-08-28)\n",
      "Error fetching historical data for SUNE: No historical data found for ticker\n",
      "$LUK: possibly delisted; No price data found  (1d 2020-01-01 -> 2024-08-28)\n",
      "Error fetching historical data for LUK: No historical data found for ticker\n",
      "Monthly data for CWGL saved successfully.\n",
      "Monthly data for VXUS saved successfully.\n",
      "Monthly data for MGK saved successfully.\n",
      "Monthly data for XLK saved successfully.\n"
     ]
    },
    {
     "name": "stderr",
     "output_type": "stream",
     "text": [
      "$ADTF: possibly delisted; No timezone found\n"
     ]
    },
    {
     "name": "stdout",
     "output_type": "stream",
     "text": [
      "Error fetching historical data for ADTF: No historical data found for ticker\n",
      "Monthly data for VILLX saved successfully.\n",
      "Monthly data for FBT saved successfully.\n"
     ]
    },
    {
     "name": "stderr",
     "output_type": "stream",
     "text": [
      "$FBHS: possibly delisted; No timezone found\n"
     ]
    },
    {
     "name": "stdout",
     "output_type": "stream",
     "text": [
      "Error fetching historical data for FBHS: No historical data found for ticker\n"
     ]
    },
    {
     "name": "stderr",
     "output_type": "stream",
     "text": [
      "$FTD: possibly delisted; No timezone found\n",
      "$FCS: possibly delisted; No price data found  (1d 2020-01-01 -> 2024-08-28)\n"
     ]
    },
    {
     "name": "stdout",
     "output_type": "stream",
     "text": [
      "Error fetching historical data for FTD: No historical data found for ticker\n",
      "$FCS: possibly delisted; No price data found  (1d 2020-01-01 -> 2024-08-28)\n",
      "Error fetching historical data for FCS: No historical data found for ticker\n"
     ]
    },
    {
     "name": "stderr",
     "output_type": "stream",
     "text": [
      "$PCP: possibly delisted; No price data found  (1d 2020-01-01 -> 2024-08-28)\n"
     ]
    },
    {
     "name": "stdout",
     "output_type": "stream",
     "text": [
      "$PCP: possibly delisted; No price data found  (1d 2020-01-01 -> 2024-08-28)\n",
      "Error fetching historical data for PCP: No historical data found for ticker\n",
      "Monthly data for BLMN saved successfully.\n",
      "Monthly data for MEG saved successfully.\n",
      "Monthly data for HI saved successfully.\n",
      "Monthly data for FOR saved successfully.\n"
     ]
    },
    {
     "name": "stderr",
     "output_type": "stream",
     "text": [
      "$FMER: possibly delisted; No price data found  (1d 2020-01-01 -> 2024-08-28)\n"
     ]
    },
    {
     "name": "stdout",
     "output_type": "stream",
     "text": [
      "Monthly data for NPO saved successfully.\n",
      "$FMER: possibly delisted; No price data found  (1d 2020-01-01 -> 2024-08-28)\n",
      "Error fetching historical data for FMER: No historical data found for ticker\n",
      "Monthly data for CMC saved successfully.\n",
      "Monthly data for AXL saved successfully.\n",
      "Monthly data for KALU saved successfully.\n",
      "Monthly data for ESE saved successfully.\n",
      "Monthly data for XHR saved successfully.\n"
     ]
    },
    {
     "name": "stderr",
     "output_type": "stream",
     "text": [
      "$GWR: possibly delisted; No timezone found\n"
     ]
    },
    {
     "name": "stdout",
     "output_type": "stream",
     "text": [
      "Error fetching historical data for GWR: No historical data found for ticker\n",
      "Monthly data for TIME saved successfully.\n"
     ]
    },
    {
     "name": "stderr",
     "output_type": "stream",
     "text": [
      "$LTXB: possibly delisted; No timezone found\n"
     ]
    },
    {
     "name": "stdout",
     "output_type": "stream",
     "text": [
      "Error fetching historical data for LTXB: No historical data found for ticker\n"
     ]
    },
    {
     "name": "stderr",
     "output_type": "stream",
     "text": [
      "$CHMT: possibly delisted; No timezone found\n"
     ]
    },
    {
     "name": "stdout",
     "output_type": "stream",
     "text": [
      "Error fetching historical data for CHMT: No historical data found for ticker\n",
      "Monthly data for PAG saved successfully.\n",
      "Monthly data for SXT saved successfully.\n"
     ]
    },
    {
     "name": "stderr",
     "output_type": "stream",
     "text": [
      "$SJI: possibly delisted; No timezone found\n"
     ]
    },
    {
     "name": "stdout",
     "output_type": "stream",
     "text": [
      "Error fetching historical data for SJI: No historical data found for ticker\n"
     ]
    },
    {
     "name": "stderr",
     "output_type": "stream",
     "text": [
      "$AEL: possibly delisted; No timezone found\n"
     ]
    },
    {
     "name": "stdout",
     "output_type": "stream",
     "text": [
      "Error fetching historical data for AEL: No historical data found for ticker\n",
      "Monthly data for SIG saved successfully.\n",
      "Monthly data for VSTO saved successfully.\n",
      "Monthly data for SSP saved successfully.\n"
     ]
    },
    {
     "name": "stderr",
     "output_type": "stream",
     "text": [
      "$UBSH: possibly delisted; No timezone found\n"
     ]
    },
    {
     "name": "stdout",
     "output_type": "stream",
     "text": [
      "Error fetching historical data for UBSH: No historical data found for ticker\n",
      "Monthly data for KRNY saved successfully.\n"
     ]
    },
    {
     "name": "stderr",
     "output_type": "stream",
     "text": [
      "$HMHC: possibly delisted; No timezone found\n"
     ]
    },
    {
     "name": "stdout",
     "output_type": "stream",
     "text": [
      "Error fetching historical data for HMHC: No historical data found for ticker\n"
     ]
    },
    {
     "name": "stderr",
     "output_type": "stream",
     "text": [
      "$ALR: possibly delisted; No timezone found\n"
     ]
    },
    {
     "name": "stdout",
     "output_type": "stream",
     "text": [
      "Error fetching historical data for ALR: No historical data found for ticker\n"
     ]
    },
    {
     "name": "stderr",
     "output_type": "stream",
     "text": [
      "$MITL: possibly delisted; No price data found  (1d 2020-01-01 -> 2024-08-28)\n"
     ]
    },
    {
     "name": "stdout",
     "output_type": "stream",
     "text": [
      "Monthly data for WTFC saved successfully.\n",
      "$MITL: possibly delisted; No price data found  (1d 2020-01-01 -> 2024-08-28)\n",
      "Error fetching historical data for MITL: No historical data found for ticker\n",
      "Monthly data for VXF saved successfully.\n",
      "Monthly data for RWL saved successfully.\n",
      "Monthly data for HYI saved successfully.\n",
      "Monthly data for TDIV saved successfully.\n",
      "Monthly data for DTN saved successfully.\n",
      "Monthly data for TBF saved successfully.\n"
     ]
    },
    {
     "name": "stderr",
     "output_type": "stream",
     "text": [
      "$NASDAQWLTW: possibly delisted; No timezone found\n"
     ]
    },
    {
     "name": "stdout",
     "output_type": "stream",
     "text": [
      "Error fetching historical data for NASDAQWLTW: No historical data found for ticker\n",
      "Monthly data for CNRAF saved successfully.\n"
     ]
    },
    {
     "name": "stderr",
     "output_type": "stream",
     "text": [
      "$UBNK: possibly delisted; No timezone found\n"
     ]
    },
    {
     "name": "stdout",
     "output_type": "stream",
     "text": [
      "Error fetching historical data for UBNK: No historical data found for ticker\n"
     ]
    },
    {
     "name": "stderr",
     "output_type": "stream",
     "text": [
      "$RPXC: possibly delisted; No timezone found\n"
     ]
    },
    {
     "name": "stdout",
     "output_type": "stream",
     "text": [
      "Error fetching historical data for RPXC: No historical data found for ticker\n"
     ]
    },
    {
     "name": "stderr",
     "output_type": "stream",
     "text": [
      "$B923935: possibly delisted; No timezone found\n"
     ]
    },
    {
     "name": "stdout",
     "output_type": "stream",
     "text": [
      "Error fetching historical data for B923935: No historical data found for ticker\n"
     ]
    },
    {
     "name": "stderr",
     "output_type": "stream",
     "text": [
      "$BOT4J94: possibly delisted; No timezone found\n"
     ]
    },
    {
     "name": "stdout",
     "output_type": "stream",
     "text": [
      "Error fetching historical data for BOT4J94: No historical data found for ticker\n"
     ]
    },
    {
     "name": "stderr",
     "output_type": "stream",
     "text": [
      "$SPY160219P00180000: possibly delisted; No timezone found\n"
     ]
    },
    {
     "name": "stdout",
     "output_type": "stream",
     "text": [
      "Error fetching historical data for SPY160219P00180000: No historical data found for ticker\n",
      "Monthly data for RDIV saved successfully.\n"
     ]
    },
    {
     "name": "stderr",
     "output_type": "stream",
     "text": [
      "$AEXMU: possibly delisted; No timezone found\n"
     ]
    },
    {
     "name": "stdout",
     "output_type": "stream",
     "text": [
      "Error fetching historical data for AEXMU: No historical data found for ticker\n"
     ]
    },
    {
     "name": "stderr",
     "output_type": "stream",
     "text": [
      "$DWTI: possibly delisted; No timezone found\n"
     ]
    },
    {
     "name": "stdout",
     "output_type": "stream",
     "text": [
      "Error fetching historical data for DWTI: No historical data found for ticker\n"
     ]
    },
    {
     "name": "stderr",
     "output_type": "stream",
     "text": [
      "$RRMS: possibly delisted; No price data found  (1d 2020-01-01 -> 2024-08-28)\n",
      "$XPOI: possibly delisted; No price data found  (1d 2020-01-01 -> 2024-08-28)\n"
     ]
    },
    {
     "name": "stdout",
     "output_type": "stream",
     "text": [
      "Monthly data for TW saved successfully.\n",
      "$RRMS: possibly delisted; No price data found  (1d 2020-01-01 -> 2024-08-28)\n",
      "Error fetching historical data for RRMS: No historical data found for ticker\n",
      "$XPOI: possibly delisted; No price data found  (1d 2020-01-01 -> 2024-08-28)\n",
      "Error fetching historical data for XPOI: No historical data found for ticker\n",
      "Monthly data for TCB saved successfully.\n"
     ]
    },
    {
     "name": "stderr",
     "output_type": "stream",
     "text": [
      "$BCEI: possibly delisted; No timezone found\n"
     ]
    },
    {
     "name": "stdout",
     "output_type": "stream",
     "text": [
      "Error fetching historical data for BCEI: No historical data found for ticker\n"
     ]
    },
    {
     "name": "stderr",
     "output_type": "stream",
     "text": [
      "$DSW: possibly delisted; No timezone found\n"
     ]
    },
    {
     "name": "stdout",
     "output_type": "stream",
     "text": [
      "Error fetching historical data for DSW: No historical data found for ticker\n",
      "Monthly data for ASH saved successfully.\n",
      "Monthly data for TK saved successfully.\n",
      "Monthly data for WSHFX saved successfully.\n",
      "Monthly data for TCIEX saved successfully.\n",
      "Monthly data for DVFAX saved successfully.\n",
      "Monthly data for QCGLIX saved successfully.\n",
      "Monthly data for QCSTIX saved successfully.\n",
      "Monthly data for TILVX saved successfully.\n",
      "Monthly data for QREARX saved successfully.\n",
      "Monthly data for TIMVX saved successfully.\n",
      "Monthly data for TISBX saved successfully.\n",
      "Monthly data for TCOIX saved successfully.\n",
      "Monthly data for QCGRIX saved successfully.\n"
     ]
    },
    {
     "name": "stderr",
     "output_type": "stream",
     "text": [
      "$MWE: possibly delisted; No price data found  (1d 2020-01-01 -> 2024-08-28)\n",
      "$MWE: possibly delisted; No price data found  (1d 2020-01-01 -> 2024-08-28)\n"
     ]
    },
    {
     "name": "stdout",
     "output_type": "stream",
     "text": [
      "Monthly data for HTLF saved successfully.\n",
      "$MWE: possibly delisted; No price data found  (1d 2020-01-01 -> 2024-08-28)\n",
      "Error fetching historical data for MWE: No historical data found for ticker\n",
      "$MWE: possibly delisted; No price data found  (1d 2020-01-01 -> 2024-08-28)\n",
      "Error fetching historical data for MWE: No historical data found for ticker\n",
      "Monthly data for NE saved successfully.\n",
      "Monthly data for HIX saved successfully.\n"
     ]
    },
    {
     "name": "stderr",
     "output_type": "stream",
     "text": [
      "$MIXT: possibly delisted; No timezone found\n",
      "$GMCR: possibly delisted; No price data found  (1d 2020-01-01 -> 2024-08-28)\n"
     ]
    },
    {
     "name": "stdout",
     "output_type": "stream",
     "text": [
      "Error fetching historical data for MIXT: No historical data found for ticker\n",
      "$GMCR: possibly delisted; No price data found  (1d 2020-01-01 -> 2024-08-28)\n",
      "Error fetching historical data for GMCR: No historical data found for ticker\n"
     ]
    },
    {
     "name": "stderr",
     "output_type": "stream",
     "text": [
      "$TOO: possibly delisted; No timezone found\n"
     ]
    },
    {
     "name": "stdout",
     "output_type": "stream",
     "text": [
      "Error fetching historical data for TOO: No historical data found for ticker\n"
     ]
    },
    {
     "name": "stderr",
     "output_type": "stream",
     "text": [
      "$B1WSP14: possibly delisted; No timezone found\n"
     ]
    },
    {
     "name": "stdout",
     "output_type": "stream",
     "text": [
      "Error fetching historical data for B1WSP14: No historical data found for ticker\n",
      "Monthly data for FSTR saved successfully.\n"
     ]
    },
    {
     "name": "stderr",
     "output_type": "stream",
     "text": [
      "$HSC: possibly delisted; No timezone found\n",
      "$CVSL: possibly delisted; No price data found  (1d 2020-01-01 -> 2024-08-28)\n",
      "$HCBK: possibly delisted; No price data found  (1d 2020-01-01 -> 2024-08-28)\n"
     ]
    },
    {
     "name": "stdout",
     "output_type": "stream",
     "text": [
      "Error fetching historical data for HSC: No historical data found for ticker\n",
      "$CVSL: possibly delisted; No price data found  (1d 2020-01-01 -> 2024-08-28)\n",
      "Error fetching historical data for CVSL: No historical data found for ticker\n",
      "$HCBK: possibly delisted; No price data found  (1d 2020-01-01 -> 2024-08-28)\n",
      "Error fetching historical data for HCBK: No historical data found for ticker\n"
     ]
    },
    {
     "name": "stderr",
     "output_type": "stream",
     "text": [
      "$DEL: possibly delisted; No price data found  (1d 2020-01-01 -> 2024-08-28)\n"
     ]
    },
    {
     "name": "stdout",
     "output_type": "stream",
     "text": [
      "Monthly data for ARCO saved successfully.\n",
      "$DEL: possibly delisted; No price data found  (1d 2020-01-01 -> 2024-08-28)\n",
      "Error fetching historical data for DEL: No historical data found for ticker\n"
     ]
    },
    {
     "name": "stderr",
     "output_type": "stream",
     "text": [
      "$ARMH: possibly delisted; No price data found  (1d 2020-01-01 -> 2024-08-28)\n",
      "$CPPL: possibly delisted; No price data found  (1d 2020-01-01 -> 2024-08-28)\n"
     ]
    },
    {
     "name": "stdout",
     "output_type": "stream",
     "text": [
      "Monthly data for IYLD saved successfully.\n",
      "$ARMH: possibly delisted; No price data found  (1d 2020-01-01 -> 2024-08-28)\n",
      "Error fetching historical data for ARMH: No historical data found for ticker\n",
      "$CPPL: possibly delisted; No price data found  (1d 2020-01-01 -> 2024-08-28)\n",
      "Error fetching historical data for CPPL: No historical data found for ticker\n"
     ]
    },
    {
     "name": "stderr",
     "output_type": "stream",
     "text": [
      "$LNKD: possibly delisted; No price data found  (1d 2020-01-01 -> 2024-08-28)\n",
      "$VRX: possibly delisted; No price data found  (1d 2020-01-01 -> 2024-08-28)\n"
     ]
    },
    {
     "name": "stdout",
     "output_type": "stream",
     "text": [
      "Monthly data for CGO saved successfully.\n",
      "$LNKD: possibly delisted; No price data found  (1d 2020-01-01 -> 2024-08-28)\n",
      "Error fetching historical data for LNKD: No historical data found for ticker\n",
      "$VRX: possibly delisted; No price data found  (1d 2020-01-01 -> 2024-08-28)\n",
      "Error fetching historical data for VRX: No historical data found for ticker\n"
     ]
    },
    {
     "name": "stderr",
     "output_type": "stream",
     "text": [
      "$CMLP: possibly delisted; No price data found  (1d 2020-01-01 -> 2024-08-28)\n"
     ]
    },
    {
     "name": "stdout",
     "output_type": "stream",
     "text": [
      "$CMLP: possibly delisted; No price data found  (1d 2020-01-01 -> 2024-08-28)\n",
      "Error fetching historical data for CMLP: No historical data found for ticker\n"
     ]
    },
    {
     "name": "stderr",
     "output_type": "stream",
     "text": [
      "$FTBXL: possibly delisted; No timezone found\n"
     ]
    },
    {
     "name": "stdout",
     "output_type": "stream",
     "text": [
      "Error fetching historical data for FTBXL: No historical data found for ticker\n",
      "Monthly data for ATAZF saved successfully.\n",
      "Monthly data for HEDJ saved successfully.\n",
      "Monthly data for RDVY saved successfully.\n"
     ]
    },
    {
     "name": "stderr",
     "output_type": "stream",
     "text": [
      "$CVC: possibly delisted; No price data found  (1d 2020-01-01 -> 2024-08-28)\n",
      "$SLH: possibly delisted; No price data found  (1d 2020-01-01 -> 2024-08-28)\n"
     ]
    },
    {
     "name": "stdout",
     "output_type": "stream",
     "text": [
      "Monthly data for FXG saved successfully.\n",
      "$CVC: possibly delisted; No price data found  (1d 2020-01-01 -> 2024-08-28)\n",
      "Error fetching historical data for CVC: No historical data found for ticker\n",
      "$SLH: possibly delisted; No price data found  (1d 2020-01-01 -> 2024-08-28)\n",
      "Error fetching historical data for SLH: No historical data found for ticker\n"
     ]
    },
    {
     "name": "stderr",
     "output_type": "stream",
     "text": [
      "$JDD: possibly delisted; No timezone found\n",
      "$XLS: possibly delisted; No price data found  (1d 2020-01-01 -> 2024-08-28)\n"
     ]
    },
    {
     "name": "stdout",
     "output_type": "stream",
     "text": [
      "Error fetching historical data for JDD: No historical data found for ticker\n",
      "$XLS: possibly delisted; No price data found  (1d 2020-01-01 -> 2024-08-28)\n",
      "Error fetching historical data for XLS: No historical data found for ticker\n"
     ]
    },
    {
     "name": "stderr",
     "output_type": "stream",
     "text": [
      "$DUE120127: possibly delisted; No timezone found\n",
      "$TE: possibly delisted; No price data found  (1d 2020-01-01 -> 2024-08-28)\n"
     ]
    },
    {
     "name": "stdout",
     "output_type": "stream",
     "text": [
      "Error fetching historical data for DUE120127: No historical data found for ticker\n",
      "$TE: possibly delisted; No price data found  (1d 2020-01-01 -> 2024-08-28)\n",
      "Error fetching historical data for TE: No historical data found for ticker\n",
      "Monthly data for EQT saved successfully.\n"
     ]
    },
    {
     "name": "stderr",
     "output_type": "stream",
     "text": [
      "$CIT: possibly delisted; No timezone found\n",
      "$QLIK: possibly delisted; No price data found  (1d 2020-01-01 -> 2024-08-28)\n"
     ]
    },
    {
     "name": "stdout",
     "output_type": "stream",
     "text": [
      "Error fetching historical data for CIT: No historical data found for ticker\n",
      "$QLIK: possibly delisted; No price data found  (1d 2020-01-01 -> 2024-08-28)\n",
      "Error fetching historical data for QLIK: No historical data found for ticker\n"
     ]
    },
    {
     "name": "stderr",
     "output_type": "stream",
     "text": [
      "$FDML: possibly delisted; No price data found  (1d 2020-01-01 -> 2024-08-28)\n"
     ]
    },
    {
     "name": "stdout",
     "output_type": "stream",
     "text": [
      "$FDML: possibly delisted; No price data found  (1d 2020-01-01 -> 2024-08-28)\n",
      "Error fetching historical data for FDML: No historical data found for ticker\n"
     ]
    },
    {
     "name": "stderr",
     "output_type": "stream",
     "text": [
      "$DUE040127: possibly delisted; No timezone found\n",
      "$HW: possibly delisted; No price data found  (1d 2020-01-01 -> 2024-08-28)\n"
     ]
    },
    {
     "name": "stdout",
     "output_type": "stream",
     "text": [
      "Error fetching historical data for DUE040127: No historical data found for ticker\n",
      "$HW: possibly delisted; No price data found  (1d 2020-01-01 -> 2024-08-28)\n",
      "Error fetching historical data for HW: No historical data found for ticker\n",
      "Monthly data for SPHQ saved successfully.\n",
      "Monthly data for ASHR saved successfully.\n",
      "Monthly data for YCS saved successfully.\n",
      "Monthly data for FPX saved successfully.\n",
      "Monthly data for REX saved successfully.\n"
     ]
    },
    {
     "name": "stderr",
     "output_type": "stream",
     "text": [
      "$RSCO: possibly delisted; No price data found  (1d 2020-01-01 -> 2024-08-28)\n"
     ]
    },
    {
     "name": "stdout",
     "output_type": "stream",
     "text": [
      "Monthly data for SLY saved successfully.\n",
      "$RSCO: possibly delisted; No price data found  (1d 2020-01-01 -> 2024-08-28)\n",
      "Error fetching historical data for RSCO: No historical data found for ticker\n"
     ]
    },
    {
     "name": "stderr",
     "output_type": "stream",
     "text": [
      "$OCR: possibly delisted; No price data found  (1d 2020-01-01 -> 2024-08-28)\n"
     ]
    },
    {
     "name": "stdout",
     "output_type": "stream",
     "text": [
      "Monthly data for NGS saved successfully.\n",
      "$OCR: possibly delisted; No price data found  (1d 2020-01-01 -> 2024-08-28)\n",
      "Error fetching historical data for OCR: No historical data found for ticker\n"
     ]
    },
    {
     "name": "stderr",
     "output_type": "stream",
     "text": [
      "$DUE070127: possibly delisted; No timezone found\n"
     ]
    },
    {
     "name": "stdout",
     "output_type": "stream",
     "text": [
      "Error fetching historical data for DUE070127: No historical data found for ticker\n"
     ]
    },
    {
     "name": "stderr",
     "output_type": "stream",
     "text": [
      "$SPNC: possibly delisted; No price data found  (1d 2020-01-01 -> 2024-08-28)\n"
     ]
    },
    {
     "name": "stdout",
     "output_type": "stream",
     "text": [
      "Monthly data for FAN saved successfully.\n",
      "$SPNC: possibly delisted; No price data found  (1d 2020-01-01 -> 2024-08-28)\n",
      "Error fetching historical data for SPNC: No historical data found for ticker\n",
      "Monthly data for LQDT saved successfully.\n"
     ]
    },
    {
     "name": "stderr",
     "output_type": "stream",
     "text": [
      "$CHLKF: possibly delisted; No timezone found\n"
     ]
    },
    {
     "name": "stdout",
     "output_type": "stream",
     "text": [
      "Error fetching historical data for CHLKF: No historical data found for ticker\n",
      "Monthly data for SCD saved successfully.\n",
      "Monthly data for KWIPF saved successfully.\n",
      "Monthly data for SNGNF saved successfully.\n",
      "Monthly data for ITOCF saved successfully.\n",
      "Monthly data for ISUZF saved successfully.\n",
      "Monthly data for TELNF saved successfully.\n"
     ]
    },
    {
     "name": "stderr",
     "output_type": "stream",
     "text": [
      "$AMRI: possibly delisted; No price data found  (1d 2020-01-01 -> 2024-08-28)\n"
     ]
    },
    {
     "name": "stdout",
     "output_type": "stream",
     "text": [
      "Monthly data for NZTCF saved successfully.\n",
      "$AMRI: possibly delisted; No price data found  (1d 2020-01-01 -> 2024-08-28)\n",
      "Error fetching historical data for AMRI: No historical data found for ticker\n"
     ]
    },
    {
     "name": "stderr",
     "output_type": "stream",
     "text": [
      "$USBN: possibly delisted; No timezone found\n"
     ]
    },
    {
     "name": "stdout",
     "output_type": "stream",
     "text": [
      "Error fetching historical data for USBN: No historical data found for ticker\n"
     ]
    },
    {
     "name": "stderr",
     "output_type": "stream",
     "text": [
      "$HMSY: possibly delisted; No timezone found\n"
     ]
    },
    {
     "name": "stdout",
     "output_type": "stream",
     "text": [
      "Error fetching historical data for HMSY: No historical data found for ticker\n"
     ]
    },
    {
     "name": "stderr",
     "output_type": "stream",
     "text": [
      "$TTFS: possibly delisted; No price data found  (1d 2020-01-01 -> 2024-08-28)\n"
     ]
    },
    {
     "name": "stdout",
     "output_type": "stream",
     "text": [
      "Monthly data for CBRL saved successfully.\n",
      "$TTFS: possibly delisted; No price data found  (1d 2020-01-01 -> 2024-08-28)\n",
      "Error fetching historical data for TTFS: No historical data found for ticker\n"
     ]
    },
    {
     "name": "stderr",
     "output_type": "stream",
     "text": [
      "$OMN: possibly delisted; No timezone found\n"
     ]
    },
    {
     "name": "stdout",
     "output_type": "stream",
     "text": [
      "Error fetching historical data for OMN: No historical data found for ticker\n"
     ]
    },
    {
     "name": "stderr",
     "output_type": "stream",
     "text": [
      "$TFM: possibly delisted; No price data found  (1d 2020-01-01 -> 2024-08-28)\n",
      "$SVU: possibly delisted; No price data found  (1d 2020-01-01 -> 2024-08-28)\n"
     ]
    },
    {
     "name": "stdout",
     "output_type": "stream",
     "text": [
      "Monthly data for CW saved successfully.\n",
      "$TFM: possibly delisted; No price data found  (1d 2020-01-01 -> 2024-08-28)\n",
      "Error fetching historical data for TFM: No historical data found for ticker\n",
      "$SVU: possibly delisted; No price data found  (1d 2020-01-01 -> 2024-08-28)\n",
      "Error fetching historical data for SVU: No historical data found for ticker\n"
     ]
    },
    {
     "name": "stderr",
     "output_type": "stream",
     "text": [
      "$VNR: possibly delisted; No price data found  (1d 2020-01-01 -> 2024-08-28)\n"
     ]
    },
    {
     "name": "stdout",
     "output_type": "stream",
     "text": [
      "Monthly data for BW saved successfully.\n",
      "$VNR: possibly delisted; No price data found  (1d 2020-01-01 -> 2024-08-28)\n",
      "Error fetching historical data for VNR: No historical data found for ticker\n",
      "Monthly data for OAKIX saved successfully.\n"
     ]
    },
    {
     "name": "stderr",
     "output_type": "stream",
     "text": [
      "$TLSRP: possibly delisted; No timezone found\n"
     ]
    },
    {
     "name": "stdout",
     "output_type": "stream",
     "text": [
      "Error fetching historical data for TLSRP: No historical data found for ticker\n"
     ]
    },
    {
     "name": "stderr",
     "output_type": "stream",
     "text": [
      "$WSH: possibly delisted; No price data found  (1d 2020-01-01 -> 2024-08-28)\n"
     ]
    },
    {
     "name": "stdout",
     "output_type": "stream",
     "text": [
      "Monthly data for AFTEX saved successfully.\n",
      "$WSH: possibly delisted; No price data found  (1d 2020-01-01 -> 2024-08-28)\n",
      "Error fetching historical data for WSH: No historical data found for ticker\n",
      "Monthly data for CJNK saved successfully.\n"
     ]
    },
    {
     "name": "stderr",
     "output_type": "stream",
     "text": [
      "$SBUXSW: possibly delisted; No timezone found\n"
     ]
    },
    {
     "name": "stdout",
     "output_type": "stream",
     "text": [
      "Error fetching historical data for SBUXSW: No historical data found for ticker\n",
      "Monthly data for MSACX saved successfully.\n",
      "Monthly data for WSTMX saved successfully.\n"
     ]
    },
    {
     "name": "stderr",
     "output_type": "stream",
     "text": [
      "$CTRX: possibly delisted; No price data found  (1d 2020-01-01 -> 2024-08-28)\n"
     ]
    },
    {
     "name": "stdout",
     "output_type": "stream",
     "text": [
      "Monthly data for VMIIX saved successfully.\n",
      "$CTRX: possibly delisted; No price data found  (1d 2020-01-01 -> 2024-08-28)\n",
      "Error fetching historical data for CTRX: No historical data found for ticker\n",
      "Monthly data for VADDX saved successfully.\n"
     ]
    },
    {
     "name": "stderr",
     "output_type": "stream",
     "text": [
      "$UPL: possibly delisted; No timezone found\n",
      "$NGIPX: possibly delisted; No price data found  (1d 2020-01-01 -> 2024-08-28)\n"
     ]
    },
    {
     "name": "stdout",
     "output_type": "stream",
     "text": [
      "Error fetching historical data for UPL: No historical data found for ticker\n",
      "$NGIPX: possibly delisted; No price data found  (1d 2020-01-01 -> 2024-08-28)\n",
      "Error fetching historical data for NGIPX: No historical data found for ticker\n",
      "Monthly data for ACSDX saved successfully.\n",
      "Monthly data for MGEMX saved successfully.\n"
     ]
    },
    {
     "name": "stderr",
     "output_type": "stream",
     "text": [
      "$KRFT: possibly delisted; No price data found  (1d 2020-01-01 -> 2024-08-28)\n"
     ]
    },
    {
     "name": "stdout",
     "output_type": "stream",
     "text": [
      "Monthly data for VSMIX saved successfully.\n",
      "$KRFT: possibly delisted; No price data found  (1d 2020-01-01 -> 2024-08-28)\n",
      "Error fetching historical data for KRFT: No historical data found for ticker\n",
      "Monthly data for ALTR saved successfully.\n"
     ]
    },
    {
     "name": "stderr",
     "output_type": "stream",
     "text": [
      "$ATML: possibly delisted; No price data found  (1d 2020-01-01 -> 2024-08-28)\n"
     ]
    },
    {
     "name": "stdout",
     "output_type": "stream",
     "text": [
      "Monthly data for TEG saved successfully.\n",
      "$ATML: possibly delisted; No price data found  (1d 2020-01-01 -> 2024-08-28)\n",
      "Error fetching historical data for ATML: No historical data found for ticker\n",
      "Monthly data for CVG saved successfully.\n",
      "Monthly data for FXB saved successfully.\n",
      "Monthly data for FXC saved successfully.\n"
     ]
    },
    {
     "name": "stderr",
     "output_type": "stream",
     "text": [
      "$CTFSPARTN: possibly delisted; No timezone found\n"
     ]
    },
    {
     "name": "stdout",
     "output_type": "stream",
     "text": [
      "Error fetching historical data for CTFSPARTN: No historical data found for ticker\n",
      "Monthly data for ACT saved successfully.\n"
     ]
    },
    {
     "name": "stderr",
     "output_type": "stream",
     "text": [
      "$CY: possibly delisted; No timezone found\n",
      "$LO: possibly delisted; No price data found  (1d 2020-01-01 -> 2024-08-28)\n"
     ]
    },
    {
     "name": "stdout",
     "output_type": "stream",
     "text": [
      "Error fetching historical data for CY: No historical data found for ticker\n",
      "$LO: possibly delisted; No price data found  (1d 2020-01-01 -> 2024-08-28)\n",
      "Error fetching historical data for LO: No historical data found for ticker\n",
      "Monthly data for DPG saved successfully.\n"
     ]
    },
    {
     "name": "stderr",
     "output_type": "stream",
     "text": [
      "$BUNTRP: possibly delisted; No timezone found\n"
     ]
    },
    {
     "name": "stdout",
     "output_type": "stream",
     "text": [
      "Error fetching historical data for BUNTRP: No historical data found for ticker\n"
     ]
    },
    {
     "name": "stderr",
     "output_type": "stream",
     "text": [
      "$WX: possibly delisted; No price data found  (1d 2020-01-01 -> 2024-08-28)\n"
     ]
    },
    {
     "name": "stdout",
     "output_type": "stream",
     "text": [
      "Monthly data for MUR saved successfully.\n",
      "$WX: possibly delisted; No price data found  (1d 2020-01-01 -> 2024-08-28)\n",
      "Error fetching historical data for WX: No historical data found for ticker\n"
     ]
    },
    {
     "name": "stderr",
     "output_type": "stream",
     "text": [
      "$DATA: possibly delisted; No timezone found\n"
     ]
    },
    {
     "name": "stdout",
     "output_type": "stream",
     "text": [
      "Error fetching historical data for DATA: No historical data found for ticker\n"
     ]
    },
    {
     "name": "stderr",
     "output_type": "stream",
     "text": [
      "$RCPT: possibly delisted; No price data found  (1d 2020-01-01 -> 2024-08-28)\n"
     ]
    },
    {
     "name": "stdout",
     "output_type": "stream",
     "text": [
      "Monthly data for DO saved successfully.\n",
      "$RCPT: possibly delisted; No price data found  (1d 2020-01-01 -> 2024-08-28)\n",
      "Error fetching historical data for RCPT: No historical data found for ticker\n"
     ]
    },
    {
     "name": "stderr",
     "output_type": "stream",
     "text": [
      "$CRZO: possibly delisted; No timezone found\n"
     ]
    },
    {
     "name": "stdout",
     "output_type": "stream",
     "text": [
      "Error fetching historical data for CRZO: No historical data found for ticker\n"
     ]
    },
    {
     "name": "stderr",
     "output_type": "stream",
     "text": [
      "$IACI: possibly delisted; No price data found  (1d 2020-01-01 -> 2024-08-28)\n"
     ]
    },
    {
     "name": "stdout",
     "output_type": "stream",
     "text": [
      "Monthly data for INFA saved successfully.\n",
      "$IACI: possibly delisted; No price data found  (1d 2020-01-01 -> 2024-08-28)\n",
      "Error fetching historical data for IACI: No historical data found for ticker\n",
      "Monthly data for INFN saved successfully.\n"
     ]
    },
    {
     "name": "stderr",
     "output_type": "stream",
     "text": [
      "$BRGYY: possibly delisted; No price data found  (1d 2020-01-01 -> 2024-08-28)\n"
     ]
    },
    {
     "name": "stdout",
     "output_type": "stream",
     "text": [
      "Monthly data for CFFN saved successfully.\n",
      "$BRGYY: possibly delisted; No price data found  (1d 2020-01-01 -> 2024-08-28)\n",
      "Error fetching historical data for BRGYY: No historical data found for ticker\n"
     ]
    },
    {
     "name": "stderr",
     "output_type": "stream",
     "text": [
      "$GBTZY: possibly delisted; No timezone found\n"
     ]
    },
    {
     "name": "stdout",
     "output_type": "stream",
     "text": [
      "Error fetching historical data for GBTZY: No historical data found for ticker\n",
      "Monthly data for IWP saved successfully.\n"
     ]
    },
    {
     "name": "stderr",
     "output_type": "stream",
     "text": [
      "$HPY: possibly delisted; No price data found  (1d 2020-01-01 -> 2024-08-28)\n"
     ]
    },
    {
     "name": "stdout",
     "output_type": "stream",
     "text": [
      "Monthly data for DDS saved successfully.\n",
      "$HPY: possibly delisted; No price data found  (1d 2020-01-01 -> 2024-08-28)\n",
      "Error fetching historical data for HPY: No historical data found for ticker\n"
     ]
    },
    {
     "name": "stderr",
     "output_type": "stream",
     "text": [
      "$AMAG: possibly delisted; No timezone found\n"
     ]
    },
    {
     "name": "stdout",
     "output_type": "stream",
     "text": [
      "Error fetching historical data for AMAG: No historical data found for ticker\n"
     ]
    },
    {
     "name": "stderr",
     "output_type": "stream",
     "text": [
      "$JOY: possibly delisted; No price data found  (1d 2020-01-01 -> 2024-08-28)\n"
     ]
    },
    {
     "name": "stdout",
     "output_type": "stream",
     "text": [
      "Monthly data for ATI saved successfully.\n",
      "$JOY: possibly delisted; No price data found  (1d 2020-01-01 -> 2024-08-28)\n",
      "Error fetching historical data for JOY: No historical data found for ticker\n"
     ]
    },
    {
     "name": "stderr",
     "output_type": "stream",
     "text": [
      "$ISIS: possibly delisted; No price data found  (1d 2020-01-01 -> 2024-08-28)\n",
      "$KORS: possibly delisted; No price data found  (1d 2020-01-01 -> 2024-08-28)\n"
     ]
    },
    {
     "name": "stdout",
     "output_type": "stream",
     "text": [
      "Monthly data for YY saved successfully.\n",
      "$ISIS: possibly delisted; No price data found  (1d 2020-01-01 -> 2024-08-28)\n",
      "Error fetching historical data for ISIS: No historical data found for ticker\n",
      "$KORS: possibly delisted; No price data found  (1d 2020-01-01 -> 2024-08-28)\n",
      "Error fetching historical data for KORS: No historical data found for ticker\n"
     ]
    },
    {
     "name": "stderr",
     "output_type": "stream",
     "text": [
      "$GMT: possibly delisted; No price data found  (1d 2020-01-01 -> 2024-08-28)\n"
     ]
    },
    {
     "name": "stdout",
     "output_type": "stream",
     "text": [
      "Monthly data for NTCT saved successfully.\n",
      "$GMT: possibly delisted; No price data found  (1d 2020-01-01 -> 2024-08-28)\n",
      "Error fetching historical data for GMT: No historical data found for ticker\n"
     ]
    },
    {
     "name": "stderr",
     "output_type": "stream",
     "text": [
      "$MNTA: possibly delisted; No timezone found\n"
     ]
    },
    {
     "name": "stdout",
     "output_type": "stream",
     "text": [
      "Error fetching historical data for MNTA: No historical data found for ticker\n",
      "Monthly data for SATS saved successfully.\n"
     ]
    },
    {
     "name": "stderr",
     "output_type": "stream",
     "text": [
      "$ADVS: possibly delisted; No price data found  (1d 2020-01-01 -> 2024-08-28)\n"
     ]
    },
    {
     "name": "stdout",
     "output_type": "stream",
     "text": [
      "Monthly data for CSTM saved successfully.\n",
      "$ADVS: possibly delisted; No price data found  (1d 2020-01-01 -> 2024-08-28)\n",
      "Error fetching historical data for ADVS: No historical data found for ticker\n"
     ]
    },
    {
     "name": "stderr",
     "output_type": "stream",
     "text": [
      "$CLI: possibly delisted; No timezone found\n"
     ]
    },
    {
     "name": "stdout",
     "output_type": "stream",
     "text": [
      "Error fetching historical data for CLI: No historical data found for ticker\n"
     ]
    },
    {
     "name": "stderr",
     "output_type": "stream",
     "text": [
      "$BITA: possibly delisted; No timezone found\n"
     ]
    },
    {
     "name": "stdout",
     "output_type": "stream",
     "text": [
      "Error fetching historical data for BITA: No historical data found for ticker\n"
     ]
    },
    {
     "name": "stderr",
     "output_type": "stream",
     "text": [
      "$AKRX: possibly delisted; No timezone found\n"
     ]
    },
    {
     "name": "stdout",
     "output_type": "stream",
     "text": [
      "Error fetching historical data for AKRX: No historical data found for ticker\n"
     ]
    },
    {
     "name": "stderr",
     "output_type": "stream",
     "text": [
      "$CAW: possibly delisted; No timezone found\n"
     ]
    },
    {
     "name": "stdout",
     "output_type": "stream",
     "text": [
      "Error fetching historical data for CAW: No historical data found for ticker\n",
      "Monthly data for SGMA saved successfully.\n",
      "Monthly data for GIFI saved successfully.\n",
      "Monthly data for MMSI saved successfully.\n"
     ]
    },
    {
     "name": "stderr",
     "output_type": "stream",
     "text": [
      "$DNR: possibly delisted; No timezone found\n"
     ]
    },
    {
     "name": "stdout",
     "output_type": "stream",
     "text": [
      "Error fetching historical data for DNR: No historical data found for ticker\n",
      "Monthly data for MPX saved successfully.\n"
     ]
    },
    {
     "name": "stderr",
     "output_type": "stream",
     "text": [
      "$ROVI: possibly delisted; No price data found  (1d 2020-01-01 -> 2024-08-28)\n",
      "$PNRA: possibly delisted; No price data found  (1d 2020-01-01 -> 2024-08-28)\n"
     ]
    },
    {
     "name": "stdout",
     "output_type": "stream",
     "text": [
      "Monthly data for DAKT saved successfully.\n",
      "$ROVI: possibly delisted; No price data found  (1d 2020-01-01 -> 2024-08-28)\n",
      "Error fetching historical data for ROVI: No historical data found for ticker\n",
      "$PNRA: possibly delisted; No price data found  (1d 2020-01-01 -> 2024-08-28)\n",
      "Error fetching historical data for PNRA: No historical data found for ticker\n",
      "Monthly data for GVP saved successfully.\n",
      "Monthly data for AFG saved successfully.\n"
     ]
    },
    {
     "name": "stderr",
     "output_type": "stream",
     "text": [
      "$GCAP: possibly delisted; No timezone found\n"
     ]
    },
    {
     "name": "stdout",
     "output_type": "stream",
     "text": [
      "Error fetching historical data for GCAP: No historical data found for ticker\n"
     ]
    },
    {
     "name": "stderr",
     "output_type": "stream",
     "text": [
      "$SXE: possibly delisted; No timezone found\n"
     ]
    },
    {
     "name": "stdout",
     "output_type": "stream",
     "text": [
      "Error fetching historical data for SXE: No historical data found for ticker\n"
     ]
    },
    {
     "name": "stderr",
     "output_type": "stream",
     "text": [
      "$SNR: possibly delisted; No timezone found\n"
     ]
    },
    {
     "name": "stdout",
     "output_type": "stream",
     "text": [
      "Error fetching historical data for SNR: No historical data found for ticker\n",
      "Monthly data for ZMLP saved successfully.\n"
     ]
    },
    {
     "name": "stderr",
     "output_type": "stream",
     "text": [
      "$PMFG: possibly delisted; No price data found  (1d 2020-01-01 -> 2024-08-28)\n"
     ]
    },
    {
     "name": "stdout",
     "output_type": "stream",
     "text": [
      "Monthly data for AOZOF saved successfully.\n",
      "$PMFG: possibly delisted; No price data found  (1d 2020-01-01 -> 2024-08-28)\n",
      "Error fetching historical data for PMFG: No historical data found for ticker\n",
      "Monthly data for AMSYF saved successfully.\n"
     ]
    },
    {
     "name": "stderr",
     "output_type": "stream",
     "text": [
      "$UNT: possibly delisted; No timezone found\n"
     ]
    },
    {
     "name": "stdout",
     "output_type": "stream",
     "text": [
      "Error fetching historical data for UNT: No historical data found for ticker\n",
      "Monthly data for RGP saved successfully.\n",
      "Monthly data for RGP saved successfully.\n",
      "Monthly data for IGT saved successfully.\n",
      "Monthly data for TBVPF saved successfully.\n",
      "Monthly data for CUAEF saved successfully.\n"
     ]
    },
    {
     "name": "stderr",
     "output_type": "stream",
     "text": [
      "$CYT: possibly delisted; No timezone found\n"
     ]
    },
    {
     "name": "stdout",
     "output_type": "stream",
     "text": [
      "Error fetching historical data for CYT: No historical data found for ticker\n"
     ]
    },
    {
     "name": "stderr",
     "output_type": "stream",
     "text": [
      "$FOEAF: possibly delisted; No timezone found\n"
     ]
    },
    {
     "name": "stdout",
     "output_type": "stream",
     "text": [
      "Error fetching historical data for FOEAF: No historical data found for ticker\n",
      "Monthly data for IPKW saved successfully.\n",
      "Monthly data for EWW saved successfully.\n"
     ]
    },
    {
     "name": "stderr",
     "output_type": "stream",
     "text": [
      "$FOE: possibly delisted; No timezone found\n"
     ]
    },
    {
     "name": "stdout",
     "output_type": "stream",
     "text": [
      "Error fetching historical data for FOE: No historical data found for ticker\n",
      "Monthly data for RALS saved successfully.\n"
     ]
    },
    {
     "name": "stderr",
     "output_type": "stream",
     "text": [
      "$B0T4J94: possibly delisted; No timezone found\n"
     ]
    },
    {
     "name": "stdout",
     "output_type": "stream",
     "text": [
      "Error fetching historical data for B0T4J94: No historical data found for ticker\n",
      "Monthly data for FR saved successfully.\n"
     ]
    },
    {
     "name": "stderr",
     "output_type": "stream",
     "text": [
      "$JMG: possibly delisted; No price data found  (1d 2020-01-01 -> 2024-08-28)\n"
     ]
    },
    {
     "name": "stdout",
     "output_type": "stream",
     "text": [
      "Monthly data for OPY saved successfully.\n",
      "$JMG: possibly delisted; No price data found  (1d 2020-01-01 -> 2024-08-28)\n",
      "Error fetching historical data for JMG: No historical data found for ticker\n"
     ]
    },
    {
     "name": "stderr",
     "output_type": "stream",
     "text": [
      "$NXTM: possibly delisted; No timezone found\n"
     ]
    },
    {
     "name": "stdout",
     "output_type": "stream",
     "text": [
      "Error fetching historical data for NXTM: No historical data found for ticker\n",
      "Monthly data for SPB saved successfully.\n"
     ]
    },
    {
     "name": "stderr",
     "output_type": "stream",
     "text": [
      "$RYL: possibly delisted; No price data found  (1d 2020-01-01 -> 2024-08-28)\n"
     ]
    },
    {
     "name": "stdout",
     "output_type": "stream",
     "text": [
      "$RYL: possibly delisted; No price data found  (1d 2020-01-01 -> 2024-08-28)\n",
      "Error fetching historical data for RYL: No historical data found for ticker\n"
     ]
    },
    {
     "name": "stderr",
     "output_type": "stream",
     "text": [
      "$BN7Q3G8: possibly delisted; No timezone found\n",
      "$BLT: possibly delisted; No price data found  (1d 2020-01-01 -> 2024-08-28)\n",
      "$WGL: possibly delisted; No price data found  (1d 2020-01-01 -> 2024-08-28)\n"
     ]
    },
    {
     "name": "stdout",
     "output_type": "stream",
     "text": [
      "Error fetching historical data for BN7Q3G8: No historical data found for ticker\n",
      "$BLT: possibly delisted; No price data found  (1d 2020-01-01 -> 2024-08-28)\n",
      "Error fetching historical data for BLT: No historical data found for ticker\n",
      "$WGL: possibly delisted; No price data found  (1d 2020-01-01 -> 2024-08-28)\n",
      "Error fetching historical data for WGL: No historical data found for ticker\n"
     ]
    },
    {
     "name": "stderr",
     "output_type": "stream",
     "text": [
      "$MRD: possibly delisted; No price data found  (1d 2020-01-01 -> 2024-08-28)\n",
      "$FEIC: possibly delisted; No price data found  (1d 2020-01-01 -> 2024-08-28)\n"
     ]
    },
    {
     "name": "stdout",
     "output_type": "stream",
     "text": [
      "$MRD: possibly delisted; No price data found  (1d 2020-01-01 -> 2024-08-28)\n",
      "Error fetching historical data for MRD: No historical data found for ticker\n",
      "$FEIC: possibly delisted; No price data found  (1d 2020-01-01 -> 2024-08-28)\n",
      "Error fetching historical data for FEIC: No historical data found for ticker\n",
      "Monthly data for VMI saved successfully.\n"
     ]
    },
    {
     "name": "stderr",
     "output_type": "stream",
     "text": [
      "$XL: possibly delisted; No timezone found\n"
     ]
    },
    {
     "name": "stdout",
     "output_type": "stream",
     "text": [
      "Error fetching historical data for XL: No historical data found for ticker\n"
     ]
    },
    {
     "name": "stderr",
     "output_type": "stream",
     "text": [
      "$ZU: possibly delisted; No timezone found\n"
     ]
    },
    {
     "name": "stdout",
     "output_type": "stream",
     "text": [
      "Error fetching historical data for ZU: No historical data found for ticker\n",
      "Monthly data for PRPFX saved successfully.\n"
     ]
    },
    {
     "name": "stderr",
     "output_type": "stream",
     "text": [
      "$CCLP: possibly delisted; No timezone found\n"
     ]
    },
    {
     "name": "stdout",
     "output_type": "stream",
     "text": [
      "Error fetching historical data for CCLP: No historical data found for ticker\n"
     ]
    },
    {
     "name": "stderr",
     "output_type": "stream",
     "text": [
      "$XLSWI: possibly delisted; No timezone found\n",
      "$PETM: possibly delisted; No price data found  (1d 2020-01-01 -> 2024-08-28)\n"
     ]
    },
    {
     "name": "stdout",
     "output_type": "stream",
     "text": [
      "Error fetching historical data for XLSWI: No historical data found for ticker\n",
      "$PETM: possibly delisted; No price data found  (1d 2020-01-01 -> 2024-08-28)\n",
      "Error fetching historical data for PETM: No historical data found for ticker\n",
      "Monthly data for ERII saved successfully.\n",
      "Monthly data for BSV saved successfully.\n"
     ]
    },
    {
     "name": "stderr",
     "output_type": "stream",
     "text": [
      "$APL: possibly delisted; No price data found  (1d 2020-01-01 -> 2024-08-28)\n"
     ]
    },
    {
     "name": "stdout",
     "output_type": "stream",
     "text": [
      "Monthly data for TRS saved successfully.\n",
      "$APL: possibly delisted; No price data found  (1d 2020-01-01 -> 2024-08-28)\n",
      "Error fetching historical data for APL: No historical data found for ticker\n",
      "Monthly data for INRD saved successfully.\n",
      "Monthly data for XLU saved successfully.\n",
      "Monthly data for SMEZ saved successfully.\n",
      "Monthly data for QAI saved successfully.\n",
      "Monthly data for AGG saved successfully.\n"
     ]
    },
    {
     "name": "stderr",
     "output_type": "stream",
     "text": [
      "$DFRG: possibly delisted; No timezone found\n"
     ]
    },
    {
     "name": "stdout",
     "output_type": "stream",
     "text": [
      "Error fetching historical data for DFRG: No historical data found for ticker\n",
      "Monthly data for AAON saved successfully.\n"
     ]
    },
    {
     "name": "stderr",
     "output_type": "stream",
     "text": [
      "$SGY: possibly delisted; No price data found  (1d 2020-01-01 -> 2024-08-28)\n"
     ]
    },
    {
     "name": "stdout",
     "output_type": "stream",
     "text": [
      "Monthly data for PBH saved successfully.\n",
      "$SGY: possibly delisted; No price data found  (1d 2020-01-01 -> 2024-08-28)\n",
      "Error fetching historical data for SGY: No historical data found for ticker\n"
     ]
    },
    {
     "name": "stderr",
     "output_type": "stream",
     "text": [
      "$MFRM: possibly delisted; No price data found  (1d 2020-01-01 -> 2024-08-28)\n",
      "$PLKI: possibly delisted; No price data found  (1d 2020-01-01 -> 2024-08-28)\n"
     ]
    },
    {
     "name": "stdout",
     "output_type": "stream",
     "text": [
      "Monthly data for ICON saved successfully.\n",
      "$MFRM: possibly delisted; No price data found  (1d 2020-01-01 -> 2024-08-28)\n",
      "Error fetching historical data for MFRM: No historical data found for ticker\n",
      "$PLKI: possibly delisted; No price data found  (1d 2020-01-01 -> 2024-08-28)\n",
      "Error fetching historical data for PLKI: No historical data found for ticker\n",
      "Monthly data for RRTS saved successfully.\n"
     ]
    },
    {
     "name": "stderr",
     "output_type": "stream",
     "text": [
      "$FMBI: possibly delisted; No timezone found\n"
     ]
    },
    {
     "name": "stdout",
     "output_type": "stream",
     "text": [
      "Error fetching historical data for FMBI: No historical data found for ticker\n"
     ]
    },
    {
     "name": "stderr",
     "output_type": "stream",
     "text": [
      "$CMN: possibly delisted; No price data found  (1d 2020-01-01 -> 2024-08-28)\n"
     ]
    },
    {
     "name": "stdout",
     "output_type": "stream",
     "text": [
      "Monthly data for KWR saved successfully.\n",
      "$CMN: possibly delisted; No price data found  (1d 2020-01-01 -> 2024-08-28)\n",
      "Error fetching historical data for CMN: No historical data found for ticker\n"
     ]
    },
    {
     "name": "stderr",
     "output_type": "stream",
     "text": [
      "$CTCT: possibly delisted; No price data found  (1d 2020-01-01 -> 2024-08-28)\n",
      "$SQI: possibly delisted; No price data found  (1d 2020-01-01 -> 2024-08-28)\n"
     ]
    },
    {
     "name": "stdout",
     "output_type": "stream",
     "text": [
      "Monthly data for SMTC saved successfully.\n",
      "$CTCT: possibly delisted; No price data found  (1d 2020-01-01 -> 2024-08-28)\n",
      "Error fetching historical data for CTCT: No historical data found for ticker\n",
      "$SQI: possibly delisted; No price data found  (1d 2020-01-01 -> 2024-08-28)\n",
      "Error fetching historical data for SQI: No historical data found for ticker\n"
     ]
    },
    {
     "name": "stderr",
     "output_type": "stream",
     "text": [
      "$IPCM: possibly delisted; No price data found  (1d 2020-01-01 -> 2024-08-28)\n"
     ]
    },
    {
     "name": "stdout",
     "output_type": "stream",
     "text": [
      "Monthly data for BMR saved successfully.\n",
      "$IPCM: possibly delisted; No price data found  (1d 2020-01-01 -> 2024-08-28)\n",
      "Error fetching historical data for IPCM: No historical data found for ticker\n"
     ]
    },
    {
     "name": "stderr",
     "output_type": "stream",
     "text": [
      "$PLT: possibly delisted; No timezone found\n"
     ]
    },
    {
     "name": "stdout",
     "output_type": "stream",
     "text": [
      "Error fetching historical data for PLT: No historical data found for ticker\n",
      "Monthly data for THRM saved successfully.\n"
     ]
    },
    {
     "name": "stderr",
     "output_type": "stream",
     "text": [
      "$AMSG: possibly delisted; No price data found  (1d 2020-01-01 -> 2024-08-28)\n"
     ]
    },
    {
     "name": "stdout",
     "output_type": "stream",
     "text": [
      "Monthly data for ATRO saved successfully.\n",
      "$AMSG: possibly delisted; No price data found  (1d 2020-01-01 -> 2024-08-28)\n",
      "Error fetching historical data for AMSG: No historical data found for ticker\n"
     ]
    },
    {
     "name": "stderr",
     "output_type": "stream",
     "text": [
      "$TUMI: possibly delisted; No price data found  (1d 2020-01-01 -> 2024-08-28)\n"
     ]
    },
    {
     "name": "stdout",
     "output_type": "stream",
     "text": [
      "Monthly data for CHEF saved successfully.\n",
      "$TUMI: possibly delisted; No price data found  (1d 2020-01-01 -> 2024-08-28)\n",
      "Error fetching historical data for TUMI: No historical data found for ticker\n"
     ]
    },
    {
     "name": "stderr",
     "output_type": "stream",
     "text": [
      "$CYBX: possibly delisted; No price data found  (1d 2020-01-01 -> 2024-08-28)\n"
     ]
    },
    {
     "name": "stdout",
     "output_type": "stream",
     "text": [
      "Monthly data for HF saved successfully.\n",
      "$CYBX: possibly delisted; No price data found  (1d 2020-01-01 -> 2024-08-28)\n",
      "Error fetching historical data for CYBX: No historical data found for ticker\n",
      "Monthly data for SWI saved successfully.\n"
     ]
    },
    {
     "name": "stderr",
     "output_type": "stream",
     "text": [
      "$TYPE: possibly delisted; No timezone found\n"
     ]
    },
    {
     "name": "stdout",
     "output_type": "stream",
     "text": [
      "Error fetching historical data for TYPE: No historical data found for ticker\n"
     ]
    },
    {
     "name": "stderr",
     "output_type": "stream",
     "text": [
      "$VSI: possibly delisted; No timezone found\n"
     ]
    },
    {
     "name": "stdout",
     "output_type": "stream",
     "text": [
      "Error fetching historical data for VSI: No historical data found for ticker\n",
      "Monthly data for SIGI saved successfully.\n",
      "Monthly data for THS saved successfully.\n"
     ]
    },
    {
     "name": "stderr",
     "output_type": "stream",
     "text": [
      "$MDCA: possibly delisted; No timezone found\n"
     ]
    },
    {
     "name": "stdout",
     "output_type": "stream",
     "text": [
      "Error fetching historical data for MDCA: No historical data found for ticker\n"
     ]
    },
    {
     "name": "stderr",
     "output_type": "stream",
     "text": [
      "$EPAY: possibly delisted; No timezone found\n"
     ]
    },
    {
     "name": "stdout",
     "output_type": "stream",
     "text": [
      "Error fetching historical data for EPAY: No historical data found for ticker\n",
      "Monthly data for EVR saved successfully.\n"
     ]
    },
    {
     "name": "stderr",
     "output_type": "stream",
     "text": [
      "$LOCK: possibly delisted; No price data found  (1d 2020-01-01 -> 2024-08-28)\n"
     ]
    },
    {
     "name": "stdout",
     "output_type": "stream",
     "text": [
      "Monthly data for ABCO saved successfully.\n",
      "$LOCK: possibly delisted; No price data found  (1d 2020-01-01 -> 2024-08-28)\n",
      "Error fetching historical data for LOCK: No historical data found for ticker\n",
      "Monthly data for MG saved successfully.\n"
     ]
    },
    {
     "name": "stderr",
     "output_type": "stream",
     "text": [
      "$TNGO: possibly delisted; No price data found  (1d 2020-01-01 -> 2024-08-28)\n"
     ]
    },
    {
     "name": "stdout",
     "output_type": "stream",
     "text": [
      "Monthly data for HUBG saved successfully.\n",
      "$TNGO: possibly delisted; No price data found  (1d 2020-01-01 -> 2024-08-28)\n",
      "Error fetching historical data for TNGO: No historical data found for ticker\n",
      "Monthly data for CMRE saved successfully.\n",
      "Monthly data for SVM saved successfully.\n"
     ]
    },
    {
     "name": "stderr",
     "output_type": "stream",
     "text": [
      "$ACMP: possibly delisted; No price data found  (1d 2020-01-01 -> 2024-08-28)\n",
      "$APAGF: possibly delisted; No price data found  (1d 2020-01-01 -> 2024-08-28)\n"
     ]
    },
    {
     "name": "stdout",
     "output_type": "stream",
     "text": [
      "Monthly data for PBI saved successfully.\n",
      "$ACMP: possibly delisted; No price data found  (1d 2020-01-01 -> 2024-08-28)\n",
      "Error fetching historical data for ACMP: No historical data found for ticker\n",
      "$APAGF: possibly delisted; No price data found  (1d 2020-01-01 -> 2024-08-28)\n",
      "Error fetching historical data for APAGF: No historical data found for ticker\n"
     ]
    },
    {
     "name": "stderr",
     "output_type": "stream",
     "text": [
      "$DTV: possibly delisted; No timezone found\n"
     ]
    },
    {
     "name": "stdout",
     "output_type": "stream",
     "text": [
      "Error fetching historical data for DTV: No historical data found for ticker\n"
     ]
    },
    {
     "name": "stderr",
     "output_type": "stream",
     "text": [
      "$EEI: possibly delisted; No timezone found\n",
      "$SBMRY: possibly delisted; No price data found  (1d 2020-01-01 -> 2024-08-28)\n"
     ]
    },
    {
     "name": "stdout",
     "output_type": "stream",
     "text": [
      "Error fetching historical data for EEI: No historical data found for ticker\n",
      "$SBMRY: possibly delisted; No price data found  (1d 2020-01-01 -> 2024-08-28)\n",
      "Error fetching historical data for SBMRY: No historical data found for ticker\n"
     ]
    },
    {
     "name": "stderr",
     "output_type": "stream",
     "text": [
      "$RUK: possibly delisted; No price data found  (1d 2020-01-01 -> 2024-08-28)\n"
     ]
    },
    {
     "name": "stdout",
     "output_type": "stream",
     "text": [
      "Monthly data for CTTAY saved successfully.\n",
      "$RUK: possibly delisted; No price data found  (1d 2020-01-01 -> 2024-08-28)\n",
      "Error fetching historical data for RUK: No historical data found for ticker\n",
      "Monthly data for COV saved successfully.\n"
     ]
    },
    {
     "name": "stderr",
     "output_type": "stream",
     "text": [
      "$BMBLY: possibly delisted; No timezone found\n"
     ]
    },
    {
     "name": "stdout",
     "output_type": "stream",
     "text": [
      "Error fetching historical data for BMBLY: No historical data found for ticker\n",
      "Monthly data for FOSL saved successfully.\n",
      "Monthly data for CFRUY saved successfully.\n",
      "Monthly data for SNPHY saved successfully.\n",
      "Monthly data for CIOXY saved successfully.\n"
     ]
    },
    {
     "name": "stderr",
     "output_type": "stream",
     "text": [
      "$NYSECOV: possibly delisted; No timezone found\n"
     ]
    },
    {
     "name": "stdout",
     "output_type": "stream",
     "text": [
      "Error fetching historical data for NYSECOV: No historical data found for ticker\n",
      "Monthly data for CVE saved successfully.\n"
     ]
    },
    {
     "name": "stderr",
     "output_type": "stream",
     "text": [
      "$PTNR: possibly delisted; No timezone found\n"
     ]
    },
    {
     "name": "stdout",
     "output_type": "stream",
     "text": [
      "Error fetching historical data for PTNR: No historical data found for ticker\n",
      "Monthly data for CJREF saved successfully.\n",
      "Monthly data for OII saved successfully.\n",
      "Monthly data for DVY saved successfully.\n"
     ]
    },
    {
     "name": "stderr",
     "output_type": "stream",
     "text": [
      "$SDLP: possibly delisted; No timezone found\n"
     ]
    },
    {
     "name": "stdout",
     "output_type": "stream",
     "text": [
      "Error fetching historical data for SDLP: No historical data found for ticker\n"
     ]
    },
    {
     "name": "stderr",
     "output_type": "stream",
     "text": [
      "$ATU: possibly delisted; No timezone found\n"
     ]
    },
    {
     "name": "stdout",
     "output_type": "stream",
     "text": [
      "Error fetching historical data for ATU: No historical data found for ticker\n",
      "Monthly data for VVC saved successfully.\n",
      "Monthly data for NOG saved successfully.\n"
     ]
    },
    {
     "name": "stderr",
     "output_type": "stream",
     "text": [
      "$AKCPF: possibly delisted; No timezone found\n",
      "$KLXI: possibly delisted; No price data found  (1d 2020-01-01 -> 2024-08-28)\n",
      "$VLKPY: possibly delisted; No price data found  (1d 2020-01-01 -> 2024-08-28)\n",
      "$BEAV: possibly delisted; No price data found  (1d 2020-01-01 -> 2024-08-28)\n"
     ]
    },
    {
     "name": "stdout",
     "output_type": "stream",
     "text": [
      "Error fetching historical data for AKCPF: No historical data found for ticker\n",
      "$KLXI: possibly delisted; No price data found  (1d 2020-01-01 -> 2024-08-28)\n",
      "Error fetching historical data for KLXI: No historical data found for ticker\n",
      "$VLKPY: possibly delisted; No price data found  (1d 2020-01-01 -> 2024-08-28)\n",
      "Error fetching historical data for VLKPY: No historical data found for ticker\n",
      "$BEAV: possibly delisted; No price data found  (1d 2020-01-01 -> 2024-08-28)\n",
      "Error fetching historical data for BEAV: No historical data found for ticker\n"
     ]
    },
    {
     "name": "stderr",
     "output_type": "stream",
     "text": [
      "$URIRP: possibly delisted; No price data found  (1d 2020-01-01 -> 2024-08-28)\n"
     ]
    },
    {
     "name": "stdout",
     "output_type": "stream",
     "text": [
      "$URIRP: possibly delisted; No price data found  (1d 2020-01-01 -> 2024-08-28)\n",
      "Error fetching historical data for URIRP: No historical data found for ticker\n"
     ]
    },
    {
     "name": "stderr",
     "output_type": "stream",
     "text": [
      "$DRAD: possibly delisted; No timezone found\n"
     ]
    },
    {
     "name": "stdout",
     "output_type": "stream",
     "text": [
      "Error fetching historical data for DRAD: No historical data found for ticker\n"
     ]
    },
    {
     "name": "stderr",
     "output_type": "stream",
     "text": [
      "$VPFG: possibly delisted; No price data found  (1d 2020-01-01 -> 2024-08-28)\n"
     ]
    },
    {
     "name": "stdout",
     "output_type": "stream",
     "text": [
      "Monthly data for FCNCB saved successfully.\n",
      "$VPFG: possibly delisted; No price data found  (1d 2020-01-01 -> 2024-08-28)\n",
      "Error fetching historical data for VPFG: No historical data found for ticker\n",
      "Monthly data for B saved successfully.\n"
     ]
    },
    {
     "name": "stderr",
     "output_type": "stream",
     "text": [
      "$HOSPIC: possibly delisted; No timezone found\n"
     ]
    },
    {
     "name": "stdout",
     "output_type": "stream",
     "text": [
      "Error fetching historical data for HOSPIC: No historical data found for ticker\n"
     ]
    },
    {
     "name": "stderr",
     "output_type": "stream",
     "text": [
      "$TDA: possibly delisted; No timezone found\n"
     ]
    },
    {
     "name": "stdout",
     "output_type": "stream",
     "text": [
      "Error fetching historical data for TDA: No historical data found for ticker\n"
     ]
    },
    {
     "name": "stderr",
     "output_type": "stream",
     "text": [
      "$CPN: possibly delisted; No price data found  (1d 2020-01-01 -> 2024-08-28)\n",
      "$LNCO: possibly delisted; No price data found  (1d 2020-01-01 -> 2024-08-28)\n"
     ]
    },
    {
     "name": "stdout",
     "output_type": "stream",
     "text": [
      "Monthly data for TOLLX saved successfully.\n",
      "$CPN: possibly delisted; No price data found  (1d 2020-01-01 -> 2024-08-28)\n",
      "Error fetching historical data for CPN: No historical data found for ticker\n",
      "$LNCO: possibly delisted; No price data found  (1d 2020-01-01 -> 2024-08-28)\n",
      "Error fetching historical data for LNCO: No historical data found for ticker\n",
      "Monthly data for VGRAX saved successfully.\n",
      "Monthly data for LINE saved successfully.\n",
      "Monthly data for ACEIX saved successfully.\n",
      "Monthly data for WASCX saved successfully.\n",
      "Monthly data for MDDVX saved successfully.\n",
      "Monthly data for FLRN saved successfully.\n",
      "Monthly data for SDRL saved successfully.\n",
      "Monthly data for SCHE saved successfully.\n",
      "Monthly data for HTD saved successfully.\n",
      "Monthly data for ETG saved successfully.\n",
      "Monthly data for BTF saved successfully.\n"
     ]
    },
    {
     "name": "stderr",
     "output_type": "stream",
     "text": [
      "$HGH: possibly delisted; No timezone found\n",
      "$BYI: possibly delisted; No price data found  (1d 2020-01-01 -> 2024-08-28)\n"
     ]
    },
    {
     "name": "stdout",
     "output_type": "stream",
     "text": [
      "Error fetching historical data for HGH: No historical data found for ticker\n",
      "$BYI: possibly delisted; No price data found  (1d 2020-01-01 -> 2024-08-28)\n",
      "Error fetching historical data for BYI: No historical data found for ticker\n",
      "Monthly data for OLN saved successfully.\n"
     ]
    },
    {
     "name": "stderr",
     "output_type": "stream",
     "text": [
      "$CIR: possibly delisted; No timezone found\n"
     ]
    },
    {
     "name": "stdout",
     "output_type": "stream",
     "text": [
      "Error fetching historical data for CIR: No historical data found for ticker\n"
     ]
    },
    {
     "name": "stderr",
     "output_type": "stream",
     "text": [
      "$CEA: possibly delisted; No timezone found\n"
     ]
    },
    {
     "name": "stdout",
     "output_type": "stream",
     "text": [
      "Error fetching historical data for CEA: No historical data found for ticker\n",
      "Monthly data for RYN saved successfully.\n",
      "Monthly data for MFCDX saved successfully.\n",
      "Monthly data for CBI saved successfully.\n"
     ]
    },
    {
     "name": "stderr",
     "output_type": "stream",
     "text": [
      "$SYMC: possibly delisted; No timezone found\n",
      "$TMH: possibly delisted; No price data found  (1d 2020-01-01 -> 2024-08-28)\n"
     ]
    },
    {
     "name": "stdout",
     "output_type": "stream",
     "text": [
      "Error fetching historical data for SYMC: No historical data found for ticker\n",
      "$TMH: possibly delisted; No price data found  (1d 2020-01-01 -> 2024-08-28)\n",
      "Error fetching historical data for TMH: No historical data found for ticker\n",
      "Monthly data for ONVO saved successfully.\n",
      "Monthly data for DBA saved successfully.\n",
      "Monthly data for ENTR saved successfully.\n"
     ]
    },
    {
     "name": "stderr",
     "output_type": "stream",
     "text": [
      "$BCOR: possibly delisted; No timezone found\n"
     ]
    },
    {
     "name": "stdout",
     "output_type": "stream",
     "text": [
      "Error fetching historical data for BCOR: No historical data found for ticker\n"
     ]
    },
    {
     "name": "stderr",
     "output_type": "stream",
     "text": [
      "$SFLY: possibly delisted; No timezone found\n",
      "$ELX: possibly delisted; No price data found  (1d 2020-01-01 -> 2024-08-28)\n",
      "$ARCP: possibly delisted; No price data found  (1d 2020-01-01 -> 2024-08-28)\n"
     ]
    },
    {
     "name": "stdout",
     "output_type": "stream",
     "text": [
      "Error fetching historical data for SFLY: No historical data found for ticker\n",
      "$ELX: possibly delisted; No price data found  (1d 2020-01-01 -> 2024-08-28)\n",
      "Error fetching historical data for ELX: No historical data found for ticker\n",
      "$ARCP: possibly delisted; No price data found  (1d 2020-01-01 -> 2024-08-28)\n",
      "Error fetching historical data for ARCP: No historical data found for ticker\n"
     ]
    },
    {
     "name": "stderr",
     "output_type": "stream",
     "text": [
      "$COFPP: possibly delisted; No timezone found\n"
     ]
    },
    {
     "name": "stdout",
     "output_type": "stream",
     "text": [
      "Error fetching historical data for COFPP: No historical data found for ticker\n",
      "Monthly data for LYSFF saved successfully.\n",
      "Monthly data for IRDM saved successfully.\n"
     ]
    },
    {
     "name": "stderr",
     "output_type": "stream",
     "text": [
      "$NES: possibly delisted; No timezone found\n"
     ]
    },
    {
     "name": "stdout",
     "output_type": "stream",
     "text": [
      "Error fetching historical data for NES: No historical data found for ticker\n",
      "Monthly data for GARPF saved successfully.\n",
      "Monthly data for FOJCF saved successfully.\n",
      "Monthly data for MTW saved successfully.\n",
      "Monthly data for VIXY saved successfully.\n"
     ]
    },
    {
     "name": "stderr",
     "output_type": "stream",
     "text": [
      "$MEMP: possibly delisted; No price data found  (1d 2020-01-01 -> 2024-08-28)\n"
     ]
    },
    {
     "name": "stdout",
     "output_type": "stream",
     "text": [
      "Monthly data for ASBRF saved successfully.\n",
      "$MEMP: possibly delisted; No price data found  (1d 2020-01-01 -> 2024-08-28)\n",
      "Error fetching historical data for MEMP: No historical data found for ticker\n"
     ]
    },
    {
     "name": "stderr",
     "output_type": "stream",
     "text": [
      "$6320058: possibly delisted; No timezone found\n"
     ]
    },
    {
     "name": "stdout",
     "output_type": "stream",
     "text": [
      "Error fetching historical data for 6320058: No historical data found for ticker\n"
     ]
    },
    {
     "name": "stderr",
     "output_type": "stream",
     "text": [
      "$CDA: possibly delisted; No price data found  (1d 2020-01-01 -> 2024-08-28)\n"
     ]
    },
    {
     "name": "stdout",
     "output_type": "stream",
     "text": [
      "Monthly data for PNNT saved successfully.\n",
      "$CDA: possibly delisted; No price data found  (1d 2020-01-01 -> 2024-08-28)\n",
      "Error fetching historical data for CDA: No historical data found for ticker\n",
      "Monthly data for SCZ saved successfully.\n"
     ]
    },
    {
     "name": "stderr",
     "output_type": "stream",
     "text": [
      "$INF: possibly delisted; No timezone found\n"
     ]
    },
    {
     "name": "stdout",
     "output_type": "stream",
     "text": [
      "Error fetching historical data for INF: No historical data found for ticker\n"
     ]
    },
    {
     "name": "stderr",
     "output_type": "stream",
     "text": [
      "$USBPN: possibly delisted; No timezone found\n"
     ]
    },
    {
     "name": "stdout",
     "output_type": "stream",
     "text": [
      "Error fetching historical data for USBPN: No historical data found for ticker\n",
      "Monthly data for LNXW saved successfully.\n"
     ]
    },
    {
     "name": "stderr",
     "output_type": "stream",
     "text": [
      "$HBAYF: possibly delisted; No timezone found\n"
     ]
    },
    {
     "name": "stdout",
     "output_type": "stream",
     "text": [
      "Error fetching historical data for HBAYF: No historical data found for ticker\n",
      "Monthly data for BNEFF saved successfully.\n"
     ]
    },
    {
     "name": "stderr",
     "output_type": "stream",
     "text": [
      "$FUR: possibly delisted; No price data found  (1d 2020-01-01 -> 2024-08-28)\n"
     ]
    },
    {
     "name": "stdout",
     "output_type": "stream",
     "text": [
      "Monthly data for AVA saved successfully.\n",
      "$FUR: possibly delisted; No price data found  (1d 2020-01-01 -> 2024-08-28)\n",
      "Error fetching historical data for FUR: No historical data found for ticker\n",
      "Monthly data for SPGYF saved successfully.\n"
     ]
    },
    {
     "name": "stderr",
     "output_type": "stream",
     "text": [
      "$GSJK: possibly delisted; No price data found  (1d 2020-01-01 -> 2024-08-28)\n"
     ]
    },
    {
     "name": "stdout",
     "output_type": "stream",
     "text": [
      "Monthly data for UFI saved successfully.\n",
      "$GSJK: possibly delisted; No price data found  (1d 2020-01-01 -> 2024-08-28)\n",
      "Error fetching historical data for GSJK: No historical data found for ticker\n",
      "Monthly data for ILF saved successfully.\n"
     ]
    },
    {
     "name": "stderr",
     "output_type": "stream",
     "text": [
      "$VTTI: possibly delisted; No price data found  (1d 2020-01-01 -> 2024-08-28)\n"
     ]
    },
    {
     "name": "stdout",
     "output_type": "stream",
     "text": [
      "Monthly data for EPP saved successfully.\n",
      "$VTTI: possibly delisted; No price data found  (1d 2020-01-01 -> 2024-08-28)\n",
      "Error fetching historical data for VTTI: No historical data found for ticker\n",
      "Monthly data for HYT saved successfully.\n"
     ]
    },
    {
     "name": "stderr",
     "output_type": "stream",
     "text": [
      "$WLP: possibly delisted; No price data found  (1d 2020-01-01 -> 2024-08-28)\n"
     ]
    },
    {
     "name": "stdout",
     "output_type": "stream",
     "text": [
      "Monthly data for RYAM saved successfully.\n",
      "$WLP: possibly delisted; No price data found  (1d 2020-01-01 -> 2024-08-28)\n",
      "Error fetching historical data for WLP: No historical data found for ticker\n",
      "Monthly data for ATMP saved successfully.\n"
     ]
    },
    {
     "name": "stderr",
     "output_type": "stream",
     "text": [
      "$OSRNDE: possibly delisted; No timezone found\n",
      "$LGP: possibly delisted; No price data found  (1d 2020-01-01 -> 2024-08-28)\n"
     ]
    },
    {
     "name": "stdout",
     "output_type": "stream",
     "text": [
      "Error fetching historical data for OSRNDE: No historical data found for ticker\n",
      "$LGP: possibly delisted; No price data found  (1d 2020-01-01 -> 2024-08-28)\n",
      "Error fetching historical data for LGP: No historical data found for ticker\n"
     ]
    },
    {
     "name": "stderr",
     "output_type": "stream",
     "text": [
      "$FDO: possibly delisted; No price data found  (1d 2020-01-01 -> 2024-08-28)\n",
      "$RIGP: possibly delisted; No price data found  (1d 2020-01-01 -> 2024-08-28)\n"
     ]
    },
    {
     "name": "stdout",
     "output_type": "stream",
     "text": [
      "Monthly data for SEM saved successfully.\n",
      "$FDO: possibly delisted; No price data found  (1d 2020-01-01 -> 2024-08-28)\n",
      "Error fetching historical data for FDO: No historical data found for ticker\n",
      "$RIGP: possibly delisted; No price data found  (1d 2020-01-01 -> 2024-08-28)\n",
      "Error fetching historical data for RIGP: No historical data found for ticker\n",
      "Monthly data for BPAQF saved successfully.\n",
      "Monthly data for HUBB saved successfully.\n",
      "Monthly data for PL saved successfully.\n"
     ]
    },
    {
     "name": "stderr",
     "output_type": "stream",
     "text": [
      "$PGH: possibly delisted; No price data found  (1d 2020-01-01 -> 2024-08-28)\n"
     ]
    },
    {
     "name": "stdout",
     "output_type": "stream",
     "text": [
      "Monthly data for HCC saved successfully.\n",
      "$PGH: possibly delisted; No price data found  (1d 2020-01-01 -> 2024-08-28)\n",
      "Error fetching historical data for PGH: No historical data found for ticker\n",
      "Monthly data for MLPRX saved successfully.\n",
      "Monthly data for BTE saved successfully.\n"
     ]
    },
    {
     "name": "stderr",
     "output_type": "stream",
     "text": [
      "$CFX: possibly delisted; No timezone found\n"
     ]
    },
    {
     "name": "stdout",
     "output_type": "stream",
     "text": [
      "Error fetching historical data for CFX: No historical data found for ticker\n",
      "Monthly data for BWX saved successfully.\n",
      "Monthly data for PHB saved successfully.\n"
     ]
    },
    {
     "name": "stderr",
     "output_type": "stream",
     "text": [
      "$MDP: possibly delisted; No timezone found\n"
     ]
    },
    {
     "name": "stdout",
     "output_type": "stream",
     "text": [
      "Error fetching historical data for MDP: No historical data found for ticker\n",
      "Monthly data for IDU saved successfully.\n"
     ]
    },
    {
     "name": "stderr",
     "output_type": "stream",
     "text": [
      "$TMST: possibly delisted; No timezone found\n"
     ]
    },
    {
     "name": "stdout",
     "output_type": "stream",
     "text": [
      "Error fetching historical data for TMST: No historical data found for ticker\n"
     ]
    },
    {
     "name": "stderr",
     "output_type": "stream",
     "text": [
      "$NTI: possibly delisted; No price data found  (1d 2020-01-01 -> 2024-08-28)\n"
     ]
    },
    {
     "name": "stdout",
     "output_type": "stream",
     "text": [
      "Monthly data for TKR saved successfully.\n",
      "$NTI: possibly delisted; No price data found  (1d 2020-01-01 -> 2024-08-28)\n",
      "Error fetching historical data for NTI: No historical data found for ticker\n"
     ]
    },
    {
     "name": "stderr",
     "output_type": "stream",
     "text": [
      "$PWE: possibly delisted; No price data found  (1d 2020-01-01 -> 2024-08-28)\n",
      "$QRE: possibly delisted; No price data found  (1d 2020-01-01 -> 2024-08-28)\n"
     ]
    },
    {
     "name": "stdout",
     "output_type": "stream",
     "text": [
      "Monthly data for RCS saved successfully.\n",
      "$PWE: possibly delisted; No price data found  (1d 2020-01-01 -> 2024-08-28)\n",
      "Error fetching historical data for PWE: No historical data found for ticker\n",
      "$QRE: possibly delisted; No price data found  (1d 2020-01-01 -> 2024-08-28)\n",
      "Error fetching historical data for QRE: No historical data found for ticker\n"
     ]
    },
    {
     "name": "stderr",
     "output_type": "stream",
     "text": [
      "$RNDY: possibly delisted; No price data found  (1d 2020-01-01 -> 2024-08-28)\n"
     ]
    },
    {
     "name": "stdout",
     "output_type": "stream",
     "text": [
      "Monthly data for YRAIF saved successfully.\n",
      "$RNDY: possibly delisted; No price data found  (1d 2020-01-01 -> 2024-08-28)\n",
      "Error fetching historical data for RNDY: No historical data found for ticker\n",
      "Monthly data for LMGEX saved successfully.\n",
      "Monthly data for PRE saved successfully.\n",
      "Monthly data for AIT saved successfully.\n"
     ]
    },
    {
     "name": "stderr",
     "output_type": "stream",
     "text": [
      "$CMO: possibly delisted; No timezone found\n"
     ]
    },
    {
     "name": "stdout",
     "output_type": "stream",
     "text": [
      "Error fetching historical data for CMO: No historical data found for ticker\n"
     ]
    },
    {
     "name": "stderr",
     "output_type": "stream",
     "text": [
      "$ROC: possibly delisted; No timezone found\n",
      "$JOSB: possibly delisted; No price data found  (1d 2020-01-01 -> 2024-08-28)\n",
      "$DOM: possibly delisted; No price data found  (1d 2020-01-01 -> 2024-08-28)\n",
      "$TCK: possibly delisted; No price data found  (1d 2020-01-01 -> 2024-08-28)\n"
     ]
    },
    {
     "name": "stdout",
     "output_type": "stream",
     "text": [
      "Error fetching historical data for ROC: No historical data found for ticker\n",
      "$JOSB: possibly delisted; No price data found  (1d 2020-01-01 -> 2024-08-28)\n",
      "Error fetching historical data for JOSB: No historical data found for ticker\n",
      "$DOM: possibly delisted; No price data found  (1d 2020-01-01 -> 2024-08-28)\n",
      "Error fetching historical data for DOM: No historical data found for ticker\n",
      "$TCK: possibly delisted; No price data found  (1d 2020-01-01 -> 2024-08-28)\n",
      "Error fetching historical data for TCK: No historical data found for ticker\n",
      "Monthly data for IDCBY saved successfully.\n",
      "Monthly data for GNW saved successfully.\n",
      "Monthly data for KMR saved successfully.\n"
     ]
    },
    {
     "name": "stderr",
     "output_type": "stream",
     "text": [
      "$PEGFF: possibly delisted; No price data found  (1d 2020-01-01 -> 2024-08-28)\n"
     ]
    },
    {
     "name": "stdout",
     "output_type": "stream",
     "text": [
      "Monthly data for CAOVY saved successfully.\n",
      "$PEGFF: possibly delisted; No price data found  (1d 2020-01-01 -> 2024-08-28)\n",
      "Error fetching historical data for PEGFF: No historical data found for ticker\n",
      "Monthly data for DNFGY saved successfully.\n"
     ]
    },
    {
     "name": "stderr",
     "output_type": "stream",
     "text": [
      "$CCCGY: possibly delisted; No timezone found\n"
     ]
    },
    {
     "name": "stdout",
     "output_type": "stream",
     "text": [
      "Error fetching historical data for CCCGY: No historical data found for ticker\n",
      "Monthly data for DBP saved successfully.\n"
     ]
    },
    {
     "name": "stderr",
     "output_type": "stream",
     "text": [
      "$GNC: possibly delisted; No timezone found\n"
     ]
    },
    {
     "name": "stdout",
     "output_type": "stream",
     "text": [
      "Error fetching historical data for GNC: No historical data found for ticker\n",
      "Monthly data for TAL saved successfully.\n"
     ]
    },
    {
     "name": "stderr",
     "output_type": "stream",
     "text": [
      "$CPEA: possibly delisted; No timezone found\n"
     ]
    },
    {
     "name": "stdout",
     "output_type": "stream",
     "text": [
      "Error fetching historical data for CPEA: No historical data found for ticker\n",
      "Monthly data for NRP saved successfully.\n"
     ]
    },
    {
     "name": "stderr",
     "output_type": "stream",
     "text": [
      "$PPR: possibly delisted; No timezone found\n",
      "$GIMO: possibly delisted; No price data found  (1d 2020-01-01 -> 2024-08-28)\n"
     ]
    },
    {
     "name": "stdout",
     "output_type": "stream",
     "text": [
      "Error fetching historical data for PPR: No historical data found for ticker\n",
      "$GIMO: possibly delisted; No price data found  (1d 2020-01-01 -> 2024-08-28)\n",
      "Error fetching historical data for GIMO: No historical data found for ticker\n"
     ]
    },
    {
     "name": "stderr",
     "output_type": "stream",
     "text": [
      "$ECIFY: possibly delisted; No timezone found\n"
     ]
    },
    {
     "name": "stdout",
     "output_type": "stream",
     "text": [
      "Error fetching historical data for ECIFY: No historical data found for ticker\n",
      "Monthly data for RKT saved successfully.\n",
      "Monthly data for BC saved successfully.\n"
     ]
    },
    {
     "name": "stderr",
     "output_type": "stream",
     "text": [
      "$QEP: possibly delisted; No timezone found\n",
      "$CFN: possibly delisted; No price data found  (1d 2020-01-01 -> 2024-08-28)\n",
      "$EGN: possibly delisted; No price data found  (1d 2020-01-01 -> 2024-08-28)\n"
     ]
    },
    {
     "name": "stdout",
     "output_type": "stream",
     "text": [
      "Error fetching historical data for QEP: No historical data found for ticker\n",
      "$CFN: possibly delisted; No price data found  (1d 2020-01-01 -> 2024-08-28)\n",
      "Error fetching historical data for CFN: No historical data found for ticker\n",
      "$EGN: possibly delisted; No price data found  (1d 2020-01-01 -> 2024-08-28)\n",
      "Error fetching historical data for EGN: No historical data found for ticker\n"
     ]
    },
    {
     "name": "stderr",
     "output_type": "stream",
     "text": [
      "$MHFI: possibly delisted; No price data found  (1d 2020-01-01 -> 2024-08-28)\n",
      "$WNR: possibly delisted; No price data found  (1d 2020-01-01 -> 2024-08-28)\n"
     ]
    },
    {
     "name": "stdout",
     "output_type": "stream",
     "text": [
      "Monthly data for VR saved successfully.\n",
      "$MHFI: possibly delisted; No price data found  (1d 2020-01-01 -> 2024-08-28)\n",
      "Error fetching historical data for MHFI: No historical data found for ticker\n",
      "$WNR: possibly delisted; No price data found  (1d 2020-01-01 -> 2024-08-28)\n",
      "Error fetching historical data for WNR: No historical data found for ticker\n",
      "Monthly data for TRW saved successfully.\n"
     ]
    },
    {
     "name": "stderr",
     "output_type": "stream",
     "text": [
      "$APOL: possibly delisted; No price data found  (1d 2020-01-01 -> 2024-08-28)\n"
     ]
    },
    {
     "name": "stdout",
     "output_type": "stream",
     "text": [
      "Monthly data for PHI saved successfully.\n",
      "$APOL: possibly delisted; No price data found  (1d 2020-01-01 -> 2024-08-28)\n",
      "Error fetching historical data for APOL: No historical data found for ticker\n"
     ]
    },
    {
     "name": "stderr",
     "output_type": "stream",
     "text": [
      "$RRD: possibly delisted; No timezone found\n",
      "$ONNN: possibly delisted; No price data found  (1d 2020-01-01 -> 2024-08-28)\n",
      "$WR: possibly delisted; No price data found  (1d 2020-01-01 -> 2024-08-28)\n"
     ]
    },
    {
     "name": "stdout",
     "output_type": "stream",
     "text": [
      "Error fetching historical data for RRD: No historical data found for ticker\n",
      "$ONNN: possibly delisted; No price data found  (1d 2020-01-01 -> 2024-08-28)\n",
      "Error fetching historical data for ONNN: No historical data found for ticker\n",
      "$WR: possibly delisted; No price data found  (1d 2020-01-01 -> 2024-08-28)\n",
      "Error fetching historical data for WR: No historical data found for ticker\n"
     ]
    },
    {
     "name": "stderr",
     "output_type": "stream",
     "text": [
      "$BRCD: possibly delisted; No price data found  (1d 2020-01-01 -> 2024-08-28)\n",
      "$STO: possibly delisted; No price data found  (1d 2020-01-01 -> 2024-08-28)\n",
      "$TSO: possibly delisted; No price data found  (1d 2020-01-01 -> 2024-08-28)\n"
     ]
    },
    {
     "name": "stdout",
     "output_type": "stream",
     "text": [
      "$BRCD: possibly delisted; No price data found  (1d 2020-01-01 -> 2024-08-28)\n",
      "Error fetching historical data for BRCD: No historical data found for ticker\n",
      "$STO: possibly delisted; No price data found  (1d 2020-01-01 -> 2024-08-28)\n",
      "Error fetching historical data for STO: No historical data found for ticker\n",
      "$TSO: possibly delisted; No price data found  (1d 2020-01-01 -> 2024-08-28)\n",
      "Error fetching historical data for TSO: No historical data found for ticker\n"
     ]
    },
    {
     "name": "stderr",
     "output_type": "stream",
     "text": [
      "$KMP: possibly delisted; No price data found  (1d 2020-01-01 -> 2024-08-28)\n",
      "$CAM: possibly delisted; No price data found  (1d 2020-01-01 -> 2024-08-28)\n"
     ]
    },
    {
     "name": "stdout",
     "output_type": "stream",
     "text": [
      "$KMP: possibly delisted; No price data found  (1d 2020-01-01 -> 2024-08-28)\n",
      "Error fetching historical data for KMP: No historical data found for ticker\n",
      "$CAM: possibly delisted; No price data found  (1d 2020-01-01 -> 2024-08-28)\n",
      "Error fetching historical data for CAM: No historical data found for ticker\n"
     ]
    },
    {
     "name": "stderr",
     "output_type": "stream",
     "text": [
      "$SJR: possibly delisted; No timezone found\n",
      "$ZMH: possibly delisted; No price data found  (1d 2020-01-01 -> 2024-08-28)\n"
     ]
    },
    {
     "name": "stdout",
     "output_type": "stream",
     "text": [
      "Error fetching historical data for SJR: No historical data found for ticker\n",
      "$ZMH: possibly delisted; No price data found  (1d 2020-01-01 -> 2024-08-28)\n",
      "Error fetching historical data for ZMH: No historical data found for ticker\n",
      "Monthly data for NMFC saved successfully.\n"
     ]
    },
    {
     "name": "stderr",
     "output_type": "stream",
     "text": [
      "$SWAY: possibly delisted; No timezone found\n"
     ]
    },
    {
     "name": "stdout",
     "output_type": "stream",
     "text": [
      "Error fetching historical data for SWAY: No historical data found for ticker\n"
     ]
    },
    {
     "name": "stderr",
     "output_type": "stream",
     "text": [
      "$B5NC0D0: possibly delisted; No timezone found\n"
     ]
    },
    {
     "name": "stdout",
     "output_type": "stream",
     "text": [
      "Error fetching historical data for B5NC0D0: No historical data found for ticker\n",
      "Monthly data for CTBI saved successfully.\n"
     ]
    },
    {
     "name": "stderr",
     "output_type": "stream",
     "text": [
      "$CPSI: possibly delisted; No timezone found\n"
     ]
    },
    {
     "name": "stdout",
     "output_type": "stream",
     "text": [
      "Error fetching historical data for CPSI: No historical data found for ticker\n"
     ]
    },
    {
     "name": "stderr",
     "output_type": "stream",
     "text": [
      "$FLY: possibly delisted; No timezone found\n"
     ]
    },
    {
     "name": "stdout",
     "output_type": "stream",
     "text": [
      "Error fetching historical data for FLY: No historical data found for ticker\n"
     ]
    },
    {
     "name": "stderr",
     "output_type": "stream",
     "text": [
      "$CYS: possibly delisted; No price data found  (1d 2020-01-01 -> 2024-08-28)\n",
      "$LDR: possibly delisted; No price data found  (1d 2020-01-01 -> 2024-08-28)\n"
     ]
    },
    {
     "name": "stdout",
     "output_type": "stream",
     "text": [
      "Monthly data for CHCO saved successfully.\n",
      "$CYS: possibly delisted; No price data found  (1d 2020-01-01 -> 2024-08-28)\n",
      "Error fetching historical data for CYS: No historical data found for ticker\n",
      "$LDR: possibly delisted; No price data found  (1d 2020-01-01 -> 2024-08-28)\n",
      "Error fetching historical data for LDR: No historical data found for ticker\n"
     ]
    },
    {
     "name": "stderr",
     "output_type": "stream",
     "text": [
      "$YHOO: possibly delisted; No timezone found\n"
     ]
    },
    {
     "name": "stdout",
     "output_type": "stream",
     "text": [
      "Error fetching historical data for YHOO: No historical data found for ticker\n"
     ]
    },
    {
     "name": "stderr",
     "output_type": "stream",
     "text": [
      "$HTS: possibly delisted; No price data found  (1d 2020-01-01 -> 2024-08-28)\n",
      "$MWO: possibly delisted; No price data found  (1d 2020-01-01 -> 2024-08-28)\n"
     ]
    },
    {
     "name": "stdout",
     "output_type": "stream",
     "text": [
      "Monthly data for FFBC saved successfully.\n",
      "$HTS: possibly delisted; No price data found  (1d 2020-01-01 -> 2024-08-28)\n",
      "Error fetching historical data for HTS: No historical data found for ticker\n",
      "$MWO: possibly delisted; No price data found  (1d 2020-01-01 -> 2024-08-28)\n",
      "Error fetching historical data for MWO: No historical data found for ticker\n"
     ]
    },
    {
     "name": "stderr",
     "output_type": "stream",
     "text": [
      "$ROSE: possibly delisted; No timezone found\n",
      "$LGCY: possibly delisted; No price data found  (1d 2020-01-01 -> 2024-08-28)\n",
      "$EVEP: possibly delisted; No price data found  (1d 2020-01-01 -> 2024-08-28)\n",
      "$SUSQ: possibly delisted; No price data found  (1d 2020-01-01 -> 2024-08-28)\n"
     ]
    },
    {
     "name": "stdout",
     "output_type": "stream",
     "text": [
      "Error fetching historical data for ROSE: No historical data found for ticker\n",
      "$LGCY: possibly delisted; No price data found  (1d 2020-01-01 -> 2024-08-28)\n",
      "Error fetching historical data for LGCY: No historical data found for ticker\n",
      "$EVEP: possibly delisted; No price data found  (1d 2020-01-01 -> 2024-08-28)\n",
      "Error fetching historical data for EVEP: No historical data found for ticker\n",
      "$SUSQ: possibly delisted; No price data found  (1d 2020-01-01 -> 2024-08-28)\n",
      "Error fetching historical data for SUSQ: No historical data found for ticker\n"
     ]
    },
    {
     "name": "stderr",
     "output_type": "stream",
     "text": [
      "$FSFR: possibly delisted; No price data found  (1d 2020-01-01 -> 2024-08-28)\n"
     ]
    },
    {
     "name": "stdout",
     "output_type": "stream",
     "text": [
      "$FSFR: possibly delisted; No price data found  (1d 2020-01-01 -> 2024-08-28)\n",
      "Error fetching historical data for FSFR: No historical data found for ticker\n"
     ]
    },
    {
     "name": "stderr",
     "output_type": "stream",
     "text": [
      "VODPD: Period '1mo' is invalid, must be one of ['1d', '5d']\n"
     ]
    },
    {
     "name": "stdout",
     "output_type": "stream",
     "text": [
      "Monthly data for MTAGF saved successfully.\n",
      "Error fetching historical data for VODPD: No historical data found for ticker\n",
      "Monthly data for AZNCF saved successfully.\n",
      "Monthly data for AOZOY saved successfully.\n"
     ]
    },
    {
     "name": "stderr",
     "output_type": "stream",
     "text": [
      "$JPJQL: possibly delisted; No timezone found\n"
     ]
    },
    {
     "name": "stdout",
     "output_type": "stream",
     "text": [
      "Error fetching historical data for JPJQL: No historical data found for ticker\n",
      "Monthly data for AETUF saved successfully.\n"
     ]
    },
    {
     "name": "stderr",
     "output_type": "stream",
     "text": [
      "$WAG: possibly delisted; No price data found  (1d 2020-01-01 -> 2024-08-28)\n"
     ]
    },
    {
     "name": "stdout",
     "output_type": "stream",
     "text": [
      "Monthly data for NMM saved successfully.\n",
      "$WAG: possibly delisted; No price data found  (1d 2020-01-01 -> 2024-08-28)\n",
      "Error fetching historical data for WAG: No historical data found for ticker\n"
     ]
    },
    {
     "name": "stderr",
     "output_type": "stream",
     "text": [
      "$3: possibly delisted; No timezone found\n",
      "$SUSP: possibly delisted; No price data found  (1d 2020-01-01 -> 2024-08-28)\n"
     ]
    },
    {
     "name": "stdout",
     "output_type": "stream",
     "text": [
      "Error fetching historical data for 3: No historical data found for ticker\n",
      "$SUSP: possibly delisted; No price data found  (1d 2020-01-01 -> 2024-08-28)\n",
      "Error fetching historical data for SUSP: No historical data found for ticker\n",
      "Monthly data for RIG saved successfully.\n"
     ]
    },
    {
     "name": "stderr",
     "output_type": "stream",
     "text": [
      "$EEP: possibly delisted; No price data found  (1d 2020-01-01 -> 2024-08-28)\n"
     ]
    },
    {
     "name": "stdout",
     "output_type": "stream",
     "text": [
      "Monthly data for EC saved successfully.\n",
      "$EEP: possibly delisted; No price data found  (1d 2020-01-01 -> 2024-08-28)\n",
      "Error fetching historical data for EEP: No historical data found for ticker\n"
     ]
    },
    {
     "name": "stderr",
     "output_type": "stream",
     "text": [
      "$EEQ: possibly delisted; No price data found  (1d 2020-01-01 -> 2024-08-28)\n"
     ]
    },
    {
     "name": "stdout",
     "output_type": "stream",
     "text": [
      "$EEQ: possibly delisted; No price data found  (1d 2020-01-01 -> 2024-08-28)\n",
      "Error fetching historical data for EEQ: No historical data found for ticker\n"
     ]
    },
    {
     "name": "stderr",
     "output_type": "stream",
     "text": [
      "$MOGA: possibly delisted; No timezone found\n",
      "$BBRY: possibly delisted; No price data found  (1d 2020-01-01 -> 2024-08-28)\n"
     ]
    },
    {
     "name": "stdout",
     "output_type": "stream",
     "text": [
      "Error fetching historical data for MOGA: No historical data found for ticker\n",
      "$BBRY: possibly delisted; No price data found  (1d 2020-01-01 -> 2024-08-28)\n",
      "Error fetching historical data for BBRY: No historical data found for ticker\n",
      "Monthly data for BFK saved successfully.\n"
     ]
    },
    {
     "name": "stderr",
     "output_type": "stream",
     "text": [
      "$MIE: possibly delisted; No timezone found\n"
     ]
    },
    {
     "name": "stdout",
     "output_type": "stream",
     "text": [
      "Error fetching historical data for MIE: No historical data found for ticker\n"
     ]
    },
    {
     "name": "stderr",
     "output_type": "stream",
     "text": [
      "$JMF: possibly delisted; No timezone found\n"
     ]
    },
    {
     "name": "stdout",
     "output_type": "stream",
     "text": [
      "Error fetching historical data for JMF: No historical data found for ticker\n"
     ]
    },
    {
     "name": "stderr",
     "output_type": "stream",
     "text": [
      "$CEN: possibly delisted; No timezone found\n"
     ]
    },
    {
     "name": "stdout",
     "output_type": "stream",
     "text": [
      "Error fetching historical data for CEN: No historical data found for ticker\n",
      "Monthly data for NML saved successfully.\n",
      "Monthly data for CBA saved successfully.\n",
      "Monthly data for ARP saved successfully.\n"
     ]
    },
    {
     "name": "stderr",
     "output_type": "stream",
     "text": [
      "$CPHD: possibly delisted; No price data found  (1d 2020-01-01 -> 2024-08-28)\n"
     ]
    },
    {
     "name": "stdout",
     "output_type": "stream",
     "text": [
      "Monthly data for OTTR saved successfully.\n",
      "$CPHD: possibly delisted; No price data found  (1d 2020-01-01 -> 2024-08-28)\n",
      "Error fetching historical data for CPHD: No historical data found for ticker\n"
     ]
    },
    {
     "name": "stderr",
     "output_type": "stream",
     "text": [
      "$MRH: possibly delisted; No price data found  (1d 2020-01-01 -> 2024-08-28)\n"
     ]
    },
    {
     "name": "stdout",
     "output_type": "stream",
     "text": [
      "Monthly data for PCL saved successfully.\n",
      "$MRH: possibly delisted; No price data found  (1d 2020-01-01 -> 2024-08-28)\n",
      "Error fetching historical data for MRH: No historical data found for ticker\n"
     ]
    },
    {
     "name": "stderr",
     "output_type": "stream",
     "text": [
      "$CTY: possibly delisted; No timezone found\n"
     ]
    },
    {
     "name": "stdout",
     "output_type": "stream",
     "text": [
      "Error fetching historical data for CTY: No historical data found for ticker\n",
      "Monthly data for VODPF saved successfully.\n",
      "Monthly data for CUB saved successfully.\n",
      "Monthly data for FCN saved successfully.\n"
     ]
    },
    {
     "name": "stderr",
     "output_type": "stream",
     "text": [
      "$BBEP: possibly delisted; No price data found  (1d 2020-01-01 -> 2024-08-28)\n"
     ]
    },
    {
     "name": "stdout",
     "output_type": "stream",
     "text": [
      "Monthly data for MTZ saved successfully.\n",
      "$BBEP: possibly delisted; No price data found  (1d 2020-01-01 -> 2024-08-28)\n",
      "Error fetching historical data for BBEP: No historical data found for ticker\n",
      "$HNZ: possibly delisted; No price data found  (1d 2020-01-01 -> 2024-08-28)\n"
     ]
    },
    {
     "name": "stderr",
     "output_type": "stream",
     "text": [
      "$HNZ: possibly delisted; No price data found  (1d 2020-01-01 -> 2024-08-28)\n",
      "$LLTI: possibly delisted; No price data found  (1d 2020-01-01 -> 2024-08-28)\n",
      "$SAPE: possibly delisted; No price data found  (1d 2020-01-01 -> 2024-08-28)\n"
     ]
    },
    {
     "name": "stdout",
     "output_type": "stream",
     "text": [
      "Error fetching historical data for HNZ: No historical data found for ticker\n",
      "$LLTI: possibly delisted; No price data found  (1d 2020-01-01 -> 2024-08-28)\n",
      "Error fetching historical data for LLTI: No historical data found for ticker\n",
      "$SAPE: possibly delisted; No price data found  (1d 2020-01-01 -> 2024-08-28)\n",
      "Error fetching historical data for SAPE: No historical data found for ticker\n"
     ]
    },
    {
     "name": "stderr",
     "output_type": "stream",
     "text": [
      "$NTRI: possibly delisted; No timezone found\n"
     ]
    },
    {
     "name": "stdout",
     "output_type": "stream",
     "text": [
      "Error fetching historical data for NTRI: No historical data found for ticker\n"
     ]
    },
    {
     "name": "stderr",
     "output_type": "stream",
     "text": [
      "$WCRX: possibly delisted; No price data found  (1d 2020-01-01 -> 2024-08-28)\n",
      "$MLPN: possibly delisted; No price data found  (1d 2020-01-01 -> 2024-08-28)\n"
     ]
    },
    {
     "name": "stdout",
     "output_type": "stream",
     "text": [
      "Monthly data for VCLT saved successfully.\n",
      "$WCRX: possibly delisted; No price data found  (1d 2020-01-01 -> 2024-08-28)\n",
      "Error fetching historical data for WCRX: No historical data found for ticker\n",
      "$MLPN: possibly delisted; No price data found  (1d 2020-01-01 -> 2024-08-28)\n",
      "Error fetching historical data for MLPN: No historical data found for ticker\n",
      "Monthly data for IYG saved successfully.\n",
      "Monthly data for FEZ saved successfully.\n",
      "Monthly data for UIS saved successfully.\n"
     ]
    },
    {
     "name": "stderr",
     "output_type": "stream",
     "text": [
      "$GMXRQ: possibly delisted; No timezone found\n"
     ]
    },
    {
     "name": "stdout",
     "output_type": "stream",
     "text": [
      "Error fetching historical data for GMXRQ: No historical data found for ticker\n",
      "Monthly data for EPC saved successfully.\n",
      "Data collection completed.\n"
     ]
    }
   ],
   "source": [
    "import yfinance as yf\n",
    "import pandas as pd\n",
    "\n",
    "def get_stock_info(ticker):\n",
    "    try:\n",
    "        stock = yf.Ticker(ticker)\n",
    "        info = stock.info\n",
    "        if not info:  \n",
    "            raise ValueError(\"No data found for ticker\")\n",
    "        return {\n",
    "                    'Ticker': ticker,\n",
    "                    'Industry': info.get('industry', 'N/A'),\n",
    "                    'Sector': info.get('sector', 'N/A'),\n",
    "                    'Market Cap': info.get('marketCap', 'N/A'),\n",
    "                    'PE Ratio': info.get('trailingPE', 'N/A'),\n",
    "                    'Price to Book': info.get('priceToBook', 'N/A'),\n",
    "                    'Return on Equity': info.get('returnOnEquity', 'N/A'),\n",
    "                    'Price to Sales': info.get('priceToSalesTrailing12Months', 'N/A'),\n",
    "                    'Dividend Yield': info.get('dividendYield', 'N/A'),\n",
    "                    'Current Ratio': info.get('currentRatio', 'N/A'),\n",
    "                    'Beta': info.get('beta', 'N/A'),\n",
    "                    'Address1': info.get('address1', 'N/A'),\n",
    "                    'City': info.get('city', 'N/A'),\n",
    "                    'State': info.get('state', 'N/A'),\n",
    "                    'Zip': info.get('zip', 'N/A'),\n",
    "                    'Country': info.get('country', 'N/A'),\n",
    "                    'Phone': info.get('phone', 'N/A'),\n",
    "                    'Website': info.get('website', 'N/A'),\n",
    "                    'Industry Key': info.get('industryKey', 'N/A'),\n",
    "                    'Industry Disp': info.get('industryDisp', 'N/A'),\n",
    "                    'Sector Key': info.get('sectorKey', 'N/A'),\n",
    "                    'Sector Disp': info.get('sectorDisp', 'N/A'),\n",
    "                    'Long Business Summary': info.get('longBusinessSummary', 'N/A'),\n",
    "                    'Full Time Employees': info.get('fullTimeEmployees', 'N/A'),\n",
    "                    'Company Officers': info.get('companyOfficers', 'N/A'),\n",
    "                    'Audit Risk': info.get('auditRisk', 'N/A'),\n",
    "                    'Board Risk': info.get('boardRisk', 'N/A'),\n",
    "                    'Compensation Risk': info.get('compensationRisk', 'N/A'),\n",
    "                    'Shareholder Rights Risk': info.get('shareHolderRightsRisk', 'N/A'),\n",
    "                    'Overall Risk': info.get('overallRisk', 'N/A'),\n",
    "                    'Governance Epoch Date': info.get('governanceEpochDate', 'N/A'),\n",
    "                    'Compensation As Of Epoch Date': info.get('compensationAsOfEpochDate', 'N/A'),\n",
    "                    'IR Website': info.get('irWebsite', 'N/A'),\n",
    "                    'Max Age': info.get('maxAge', 'N/A'),\n",
    "                    'Price Hint': info.get('priceHint', 'N/A'),\n",
    "                    'Previous Close': info.get('previousClose', 'N/A'),\n",
    "                    'Open': info.get('open', 'N/A'),\n",
    "                    'Day Low': info.get('dayLow', 'N/A'),\n",
    "                    'Day High': info.get('dayHigh', 'N/A'),\n",
    "                    'Regular Market Previous Close': info.get('regularMarketPreviousClose', 'N/A'),\n",
    "                    'Regular Market Open': info.get('regularMarketOpen', 'N/A'),\n",
    "                    'Regular Market Day Low': info.get('regularMarketDayLow', 'N/A'),\n",
    "                    'Regular Market Day High': info.get('regularMarketDayHigh', 'N/A'),\n",
    "                    'Dividend Rate': info.get('dividendRate', 'N/A'),\n",
    "                    'Ex Dividend Date': info.get('exDividendDate', 'N/A'),\n",
    "                    'Payout Ratio': info.get('payoutRatio', 'N/A'),\n",
    "                    'Five Year Avg Dividend Yield': info.get('fiveYearAvgDividendYield', 'N/A'),\n",
    "                    'Forward PE': info.get('forwardPE', 'N/A'),\n",
    "                    'Volume': info.get('volume', 'N/A'),\n",
    "                    'Regular Market Volume': info.get('regularMarketVolume', 'N/A'),\n",
    "                    'Average Volume': info.get('averageVolume', 'N/A'),\n",
    "                    'Average Volume 10 Days': info.get('averageVolume10days', 'N/A'),\n",
    "                    'Bid': info.get('bid', 'N/A'),\n",
    "                    'Ask': info.get('ask', 'N/A'),\n",
    "                    'Bid Size': info.get('bidSize', 'N/A'),\n",
    "                    'Ask Size': info.get('askSize', 'N/A'),\n",
    "                    'Fifty Two Week Low': info.get('fiftyTwoWeekLow', 'N/A'),\n",
    "                    'Fifty Two Week High': info.get('fiftyTwoWeekHigh', 'N/A'),\n",
    "                    'Price To Sales Trailing 12 Months': info.get('priceToSalesTrailing12Months', 'N/A'),\n",
    "                    'Fifty Day Average': info.get('fiftyDayAverage', 'N/A'),\n",
    "                    'Two Hundred Day Average': info.get('twoHundredDayAverage', 'N/A'),\n",
    "                    'Trailing Annual Dividend Rate': info.get('trailingAnnualDividendRate', 'N/A'),\n",
    "                    'Trailing Annual Dividend Yield': info.get('trailingAnnualDividendYield', 'N/A'),\n",
    "                    'Currency': info.get('currency', 'N/A'),\n",
    "                    'Enterprise Value': info.get('enterpriseValue', 'N/A'),\n",
    "                    'Profit Margins': info.get('profitMargins', 'N/A'),\n",
    "                    'Float Shares': info.get('floatShares', 'N/A'),\n",
    "                    'Shares Outstanding': info.get('sharesOutstanding', 'N/A'),\n",
    "                    'Shares Short': info.get('sharesShort', 'N/A'),\n",
    "                    'Shares Short Prior Month': info.get('sharesShortPriorMonth', 'N/A'),\n",
    "                    'Shares Short Previous Month Date': info.get('sharesShortPreviousMonthDate', 'N/A'),\n",
    "                    'Date Short Interest': info.get('dateShortInterest', 'N/A'),\n",
    "                    'Shares Percent Shares Out': info.get('sharesPercentSharesOut', 'N/A'),\n",
    "                    'Held Percent Insiders': info.get('heldPercentInsiders', 'N/A'),\n",
    "                    'Held Percent Institutions': info.get('heldPercentInstitutions', 'N/A'),\n",
    "                    'Short Ratio': info.get('shortRatio', 'N/A'),\n",
    "                    'Short Percent Of Float': info.get('shortPercentOfFloat', 'N/A'),\n",
    "                    'Implied Shares Outstanding': info.get('impliedSharesOutstanding', 'N/A'),\n",
    "                    'Book Value': info.get('bookValue', 'N/A'),\n",
    "                    'Last Fiscal Year End': info.get('lastFiscalYearEnd', 'N/A'),\n",
    "                    'Next Fiscal Year End': info.get('nextFiscalYearEnd', 'N/A'),\n",
    "                    'Most Recent Quarter': info.get('mostRecentQuarter', 'N/A'),\n",
    "                    'Earnings Quarterly Growth': info.get('earningsQuarterlyGrowth', 'N/A'),\n",
    "                    'Net Income To Common': info.get('netIncomeToCommon', 'N/A'),\n",
    "                    'Trailing EPS': info.get('trailingEps', 'N/A'),\n",
    "                    'Forward EPS': info.get('forwardEps', 'N/A'),\n",
    "                    'PEG Ratio': info.get('pegRatio', 'N/A'),\n",
    "                    'Last Split Factor': info.get('lastSplitFactor', 'N/A'),\n",
    "                    'Last Split Date': info.get('lastSplitDate', 'N/A'),\n",
    "                    'Enterprise To Revenue': info.get('enterpriseToRevenue', 'N/A'),\n",
    "                    'Enterprise To EBITDA': info.get('enterpriseToEbitda', 'N/A'),\n",
    "                    '52 Week Change': info.get('52WeekChange', 'N/A'),\n",
    "                    'SandP 52 Week Change': info.get('SandP52WeekChange', 'N/A'),\n",
    "                    'Last Dividend Value': info.get('lastDividendValue', 'N/A'),\n",
    "                    'Last Dividend Date': info.get('lastDividendDate', 'N/A'),\n",
    "                    'Exchange': info.get('exchange', 'N/A'),\n",
    "                    'Quote Type': info.get('quoteType', 'N/A'),\n",
    "                    'Symbol': info.get('symbol', 'N/A'),\n",
    "                    'Underlying Symbol': info.get('underlyingSymbol', 'N/A'),\n",
    "                    'Short Name': info.get('shortName', 'N/A'),\n",
    "                    'Long Name': info.get('longName', 'N/A'),\n",
    "                    'First Trade Date Epoch UTC': info.get('firstTradeDateEpochUtc', 'N/A'),\n",
    "                    'Time Zone Full Name': info.get('timeZoneFullName', 'N/A'),\n",
    "                    'Time Zone Short Name': info.get('timeZoneShortName', 'N/A'),\n",
    "                    'UUID': info.get('uuid', 'N/A'),\n",
    "                    'Message Board ID': info.get('messageBoardId', 'N/A'),\n",
    "                    'GMT Offset Milliseconds': info.get('gmtOffSetMilliseconds', 'N/A'),\n",
    "                    'Current Price': info.get('currentPrice', 'N/A'),\n",
    "                    'Target High Price': info.get('targetHighPrice', 'N/A'),\n",
    "                    'Target Low Price': info.get('targetLowPrice', 'N/A'),\n",
    "                    'Target Mean Price': info.get('targetMeanPrice', 'N/A'),\n",
    "                    'Target Median Price': info.get('targetMedianPrice', 'N/A'),\n",
    "                    'Recommendation Mean': info.get('recommendationMean', 'N/A'),\n",
    "                    'Recommendation Key': info.get('recommendationKey', 'N/A'),\n",
    "                    'Number Of Analyst Opinions': info.get('numberOfAnalystOpinions', 'N/A'),\n",
    "                    'Total Cash': info.get('totalCash', 'N/A'),\n",
    "                    'Total Cash Per Share': info.get('totalCashPerShare', 'N/A'),\n",
    "                    'EBITDA': info.get('ebitda', 'N/A'),\n",
    "                    'Total Debt': info.get('totalDebt', 'N/A'),\n",
    "                    'Quick Ratio': info.get('quickRatio', 'N/A'),\n",
    "                    'Total Revenue': info.get('totalRevenue', 'N/A'),\n",
    "                    'Debt To Equity': info.get('debtToEquity', 'N/A'),\n",
    "                    'Revenue Per Share': info.get('revenuePerShare', 'N/A'),\n",
    "                    'Return on Assets': info.get('returnOnAssets', 'N/A'),\n",
    "                    'Return on Equity': info.get('returnOnEquity', 'N/A'),\n",
    "                    'Free Cash Flow': info.get('freeCashflow', 'N/A'),\n",
    "                    'Operating Cash Flow': info.get('operatingCashflow', 'N/A'),\n",
    "                    'Earnings Growth': info.get('earningsGrowth', 'N/A'),\n",
    "                    'Revenue Growth': info.get('revenueGrowth', 'N/A'),\n",
    "                    'Gross Margins': info.get('grossMargins', 'N/A'),\n",
    "                    'EBITDA Margins': info.get('ebitdaMargins', 'N/A'),\n",
    "                    'Operating Margins': info.get('operatingMargins', 'N/A'),\n",
    "                    'Financial Currency': info.get('financialCurrency', 'N/A'),\n",
    "                    'Trailing PEG Ratio': info.get('trailingPegRatio', 'N/A')}\n",
    "    except Exception as e:\n",
    "        print(f\"Error fetching data for {ticker}: {e}\")\n",
    "        return None\n",
    "\n",
    "def get_monthly_data(ticker, start_date):\n",
    "    try:\n",
    "        stock = yf.Ticker(ticker)\n",
    "        hist = stock.history(start=start_date)\n",
    "        if hist.empty:\n",
    "            raise ValueError(\"No historical data found for ticker\")\n",
    "\n",
    "        hist_resampled = hist.resample('M').agg({\n",
    "            'Open': 'mean',\n",
    "            'High': 'max',\n",
    "            'Low': 'min',\n",
    "            'Close': 'mean',\n",
    "            'Volume': 'sum'\n",
    "        })\n",
    "        expected_keys = ['Ticker', 'Industry', 'Sector', 'Market Cap', 'PE Ratio', 'Price to Book', 'Return on Equity',\n",
    "                        'Price to Sales', 'Dividend Yield', 'Current Ratio', 'Beta', 'Address1', 'City', 'State', 'Zip',\n",
    "                        'Country', 'Phone', 'Website', 'Industry Key', 'Industry Disp', 'Sector Key', 'Sector Disp',\n",
    "                        'Long Business Summary', 'Full Time Employees', 'Company Officers', 'Audit Risk', 'Board Risk',\n",
    "                        'Compensation Risk', 'Shareholder Rights Risk', 'Overall Risk', 'Governance Epoch Date',\n",
    "                        'Compensation As Of Epoch Date', 'IR Website', 'Max Age', 'Price Hint', 'Previous Close', 'Open',\n",
    "                        'Day Low', 'Day High', 'Regular Market Previous Close', 'Regular Market Open',\n",
    "                        'Regular Market Day Low', 'Regular Market Day High', 'Dividend Rate', 'Ex Dividend Date',\n",
    "                        'Payout Ratio', 'Five Year Avg Dividend Yield', 'Forward PE', 'Volume', 'Regular Market Volume',\n",
    "                        'Average Volume', 'Average Volume 10 Days', 'Bid', 'Ask', 'Bid Size', 'Ask Size',\n",
    "                        'Fifty Two Week Low', 'Fifty Two Week High', 'Price To Sales Trailing 12 Months',\n",
    "                        'Fifty Day Average', 'Two Hundred Day Average', 'Trailing Annual Dividend Rate',\n",
    "                        'Trailing Annual Dividend Yield', 'Currency', 'Enterprise Value', 'Profit Margins', 'Float Shares',\n",
    "                        'Shares Outstanding', 'Shares Short', 'Shares Short Prior Month', 'Shares Short Previous Month Date',\n",
    "                        'Date Short Interest', 'Shares Percent Shares Out', 'Held Percent Insiders', 'Held Percent Institutions',\n",
    "                        'Short Ratio', 'Short Percent Of Float', 'Implied Shares Outstanding', 'Book Value',\n",
    "                        'Last Fiscal Year End', 'Next Fiscal Year End', 'Most Recent Quarter', 'Earnings Quarterly Growth',\n",
    "                        'Net Income To Common', 'Trailing EPS', 'Forward EPS', 'PEG Ratio', 'Last Split Factor', 'Last Split Date',\n",
    "                        'Enterprise To Revenue', 'Enterprise To EBITDA', '52 Week Change', 'SandP 52 Week Change', 'Last Dividend Value',\n",
    "                        'Last Dividend Date', 'Exchange', 'Quote Type', 'Symbol', 'Underlying Symbol', 'Short Name', 'Long Name',\n",
    "                        'First Trade Date Epoch UTC', 'Time Zone Full Name', 'Time Zone Short Name', 'UUID', 'Message Board ID',\n",
    "                        'GMT Offset Milliseconds', 'Current Price', 'Target High Price', 'Target Low Price', 'Target Mean Price',\n",
    "                        'Target Median Price', 'Recommendation Mean', 'Recommendation Key', 'Number Of Analyst Opinions',\n",
    "                        'Total Cash', 'Total Cash Per Share', 'EBITDA', 'Total Debt', 'Quick Ratio', 'Total Revenue', 'Debt To Equity',\n",
    "                        'Revenue Per Share', 'Return on Assets', 'Return on Equity', 'Free Cash Flow', 'Operating Cash Flow',\n",
    "                        'Earnings Growth', 'Revenue Growth', 'Gross Margins', 'EBITDA Margins', 'Operating Margins', 'Financial Currency',\n",
    "                        'Trailing PEG Ratio']\n",
    "\n",
    "        fundamentals = pd.DataFrame(index=hist_resampled.index,columns=expected_keys)\n",
    "\n",
    "        for date in fundamentals.index:\n",
    "            stock_info = get_stock_info(ticker)\n",
    "            if stock_info:\n",
    "                for key, value in stock_info.items():\n",
    "                    fundamentals.at[date, key] = value\n",
    "        monthly_data = pd.concat([hist_resampled, fundamentals], axis=1)\n",
    "        monthly_data['Ticker'] = ticker\n",
    "\n",
    "        return monthly_data\n",
    "\n",
    "    except Exception as e:\n",
    "        print(f\"Error fetching historical data for {ticker}: {e}\")\n",
    "        return pd.DataFrame()\n",
    "\n",
    "start_date = '2020-01-01'\n",
    "for ticker in cleaned_tickers:\n",
    "    monthly_data = get_monthly_data(ticker, start_date)\n",
    "    if not monthly_data.empty:\n",
    "        monthly_data.to_csv(f'/Users/paigeblackstone/Desktop/Portfolio29/Portfolio29/Investment_Management/datapull_YF_082824/{ticker}_monthly_data.csv')\n",
    "        print(f\"Monthly data for {ticker} saved successfully.\")\n",
    "\n",
    "print(\"Data collection completed.\")\n"
   ]
  },
  {
   "cell_type": "code",
   "execution_count": 2,
   "metadata": {},
   "outputs": [
    {
     "name": "stdout",
     "output_type": "stream",
     "text": [
      "                             Date       Open       High        Low      Close  \\\n",
      "0       2020-01-31 00:00:00-05:00  10.026021  10.067338   9.988050  10.026021   \n",
      "1       2020-02-29 00:00:00-05:00  10.072954  10.121563  10.048661  10.072954   \n",
      "2       2020-03-31 00:00:00-04:00   9.888803  10.158977   9.438684   9.888803   \n",
      "3       2020-04-30 00:00:00-04:00   9.874361   9.930797   9.780893   9.874361   \n",
      "4       2020-05-31 00:00:00-04:00   9.941533  10.044488   9.860562   9.941533   \n",
      "...                           ...        ...        ...        ...        ...   \n",
      "157558  2024-04-30 00:00:00-04:00  92.008212  96.554496  88.085345  91.714539   \n",
      "157559  2024-05-31 00:00:00-04:00  91.709609  95.153490  85.607545  91.643648   \n",
      "157560  2024-06-30 00:00:00-04:00  83.943377  88.361752  82.004362  83.800497   \n",
      "157561  2024-07-31 00:00:00-04:00  84.836553  86.653945  82.024105  84.796622   \n",
      "157562  2024-08-31 00:00:00-04:00  83.677499  89.169998  76.980003  83.645805   \n",
      "\n",
      "          Volume Ticker             Industry              Sector  \\\n",
      "0              0  FSTFX                  NaN                 NaN   \n",
      "1              0  FSTFX                  NaN                 NaN   \n",
      "2              0  FSTFX                  NaN                 NaN   \n",
      "3              0  FSTFX                  NaN                 NaN   \n",
      "4              0  FSTFX                  NaN                 NaN   \n",
      "...          ...    ...                  ...                 ...   \n",
      "157558  19868200    BMO  Banks - Diversified  Financial Services   \n",
      "157559  19765800    BMO  Banks - Diversified  Financial Services   \n",
      "157560  13478400    BMO  Banks - Diversified  Financial Services   \n",
      "157561  27726100    BMO  Banks - Diversified  Financial Services   \n",
      "157562  22075821    BMO  Banks - Diversified  Financial Services   \n",
      "\n",
      "          Market Cap  ...  Return on Equity.1  Free Cash Flow  \\\n",
      "0                NaN  ...                 NaN             NaN   \n",
      "1                NaN  ...                 NaN             NaN   \n",
      "2                NaN  ...                 NaN             NaN   \n",
      "3                NaN  ...                 NaN             NaN   \n",
      "4                NaN  ...                 NaN             NaN   \n",
      "...              ...  ...                 ...             ...   \n",
      "157558  5.964125e+10  ...                 NaN             NaN   \n",
      "157559  5.964125e+10  ...                 NaN             NaN   \n",
      "157560  5.964125e+10  ...                 NaN             NaN   \n",
      "157561  5.964125e+10  ...                 NaN             NaN   \n",
      "157562  5.964125e+10  ...                 NaN             NaN   \n",
      "\n",
      "        Operating Cash Flow  Earnings Growth  Revenue Growth  Gross Margins  \\\n",
      "0                       NaN              NaN             NaN            NaN   \n",
      "1                       NaN              NaN             NaN            NaN   \n",
      "2                       NaN              NaN             NaN            NaN   \n",
      "3                       NaN              NaN             NaN            NaN   \n",
      "4                       NaN              NaN             NaN            NaN   \n",
      "...                     ...              ...             ...            ...   \n",
      "157558                  NaN            0.259           -0.02            NaN   \n",
      "157559                  NaN            0.259           -0.02            NaN   \n",
      "157560                  NaN            0.259           -0.02            NaN   \n",
      "157561                  NaN            0.259           -0.02            NaN   \n",
      "157562                  NaN            0.259           -0.02            NaN   \n",
      "\n",
      "        EBITDA Margins Operating Margins Financial Currency Trailing PEG Ratio  \n",
      "0                  NaN               NaN                NaN                NaN  \n",
      "1                  NaN               NaN                NaN                NaN  \n",
      "2                  NaN               NaN                NaN                NaN  \n",
      "3                  NaN               NaN                NaN                NaN  \n",
      "4                  NaN               NaN                NaN                NaN  \n",
      "...                ...               ...                ...                ...  \n",
      "157558             NaN           0.35534                CAD                NaN  \n",
      "157559             NaN           0.35534                CAD                NaN  \n",
      "157560             NaN           0.35534                CAD                NaN  \n",
      "157561             NaN           0.35534                CAD                NaN  \n",
      "157562             NaN           0.35534                CAD                NaN  \n",
      "\n",
      "[157563 rows x 140 columns]\n"
     ]
    }
   ],
   "source": [
    "csv_folder = '/Users/paigeblackstone/Desktop/Portfolio29/Portfolio29/Investment_Management/datapull_YF_082824/'\n",
    "dataframes = []\n",
    "\n",
    "for filename in os.listdir(csv_folder):\n",
    "    if filename.endswith('_monthly_data.csv'):\n",
    "        ticker = filename.split('_')[0]\n",
    "        file_path = os.path.join(csv_folder, filename)\n",
    "        df = pd.read_csv(file_path)\n",
    "        df['Ticker'] = ticker\n",
    "        dataframes.append(df)\n",
    "\n",
    "\n",
    "combined_df = pd.concat(dataframes, ignore_index=True)\n",
    "\n",
    "print(combined_df)"
   ]
  },
  {
   "cell_type": "code",
   "execution_count": 4,
   "metadata": {},
   "outputs": [
    {
     "data": {
      "text/plain": [
       "['Date',\n",
       " 'Open',\n",
       " 'High',\n",
       " 'Low',\n",
       " 'Close',\n",
       " 'Volume',\n",
       " 'Ticker',\n",
       " 'Industry',\n",
       " 'Sector',\n",
       " 'Market Cap',\n",
       " 'PE Ratio',\n",
       " 'Price to Book',\n",
       " 'Return on Equity',\n",
       " 'Price to Sales',\n",
       " 'Dividend Yield',\n",
       " 'Current Ratio',\n",
       " 'Beta',\n",
       " 'Address1',\n",
       " 'City',\n",
       " 'State',\n",
       " 'Zip',\n",
       " 'Country',\n",
       " 'Phone',\n",
       " 'Website',\n",
       " 'Industry Key',\n",
       " 'Industry Disp',\n",
       " 'Sector Key',\n",
       " 'Sector Disp',\n",
       " 'Long Business Summary',\n",
       " 'Full Time Employees',\n",
       " 'Company Officers',\n",
       " 'Audit Risk',\n",
       " 'Board Risk',\n",
       " 'Compensation Risk',\n",
       " 'Shareholder Rights Risk',\n",
       " 'Overall Risk',\n",
       " 'Governance Epoch Date',\n",
       " 'Compensation As Of Epoch Date',\n",
       " 'IR Website',\n",
       " 'Max Age',\n",
       " 'Price Hint',\n",
       " 'Previous Close',\n",
       " 'Open.1',\n",
       " 'Day Low',\n",
       " 'Day High',\n",
       " 'Regular Market Previous Close',\n",
       " 'Regular Market Open',\n",
       " 'Regular Market Day Low',\n",
       " 'Regular Market Day High',\n",
       " 'Dividend Rate',\n",
       " 'Ex Dividend Date',\n",
       " 'Payout Ratio',\n",
       " 'Five Year Avg Dividend Yield',\n",
       " 'Forward PE',\n",
       " 'Volume.1',\n",
       " 'Regular Market Volume',\n",
       " 'Average Volume',\n",
       " 'Average Volume 10 Days',\n",
       " 'Bid',\n",
       " 'Ask',\n",
       " 'Bid Size',\n",
       " 'Ask Size',\n",
       " 'Fifty Two Week Low',\n",
       " 'Fifty Two Week High',\n",
       " 'Price To Sales Trailing 12 Months',\n",
       " 'Fifty Day Average',\n",
       " 'Two Hundred Day Average',\n",
       " 'Trailing Annual Dividend Rate',\n",
       " 'Trailing Annual Dividend Yield',\n",
       " 'Currency',\n",
       " 'Enterprise Value',\n",
       " 'Profit Margins',\n",
       " 'Float Shares',\n",
       " 'Shares Outstanding',\n",
       " 'Shares Short',\n",
       " 'Shares Short Prior Month',\n",
       " 'Shares Short Previous Month Date',\n",
       " 'Date Short Interest',\n",
       " 'Shares Percent Shares Out',\n",
       " 'Held Percent Insiders',\n",
       " 'Held Percent Institutions',\n",
       " 'Short Ratio',\n",
       " 'Short Percent Of Float',\n",
       " 'Implied Shares Outstanding',\n",
       " 'Book Value',\n",
       " 'Last Fiscal Year End',\n",
       " 'Next Fiscal Year End',\n",
       " 'Most Recent Quarter',\n",
       " 'Earnings Quarterly Growth',\n",
       " 'Net Income To Common',\n",
       " 'Trailing EPS',\n",
       " 'Forward EPS',\n",
       " 'PEG Ratio',\n",
       " 'Last Split Factor',\n",
       " 'Last Split Date',\n",
       " 'Enterprise To Revenue',\n",
       " 'Enterprise To EBITDA',\n",
       " '52 Week Change',\n",
       " 'SandP 52 Week Change',\n",
       " 'Last Dividend Value',\n",
       " 'Last Dividend Date',\n",
       " 'Exchange',\n",
       " 'Quote Type',\n",
       " 'Symbol',\n",
       " 'Underlying Symbol',\n",
       " 'Short Name',\n",
       " 'Long Name',\n",
       " 'First Trade Date Epoch UTC',\n",
       " 'Time Zone Full Name',\n",
       " 'Time Zone Short Name',\n",
       " 'UUID',\n",
       " 'Message Board ID',\n",
       " 'GMT Offset Milliseconds',\n",
       " 'Current Price',\n",
       " 'Target High Price',\n",
       " 'Target Low Price',\n",
       " 'Target Mean Price',\n",
       " 'Target Median Price',\n",
       " 'Recommendation Mean',\n",
       " 'Recommendation Key',\n",
       " 'Number Of Analyst Opinions',\n",
       " 'Total Cash',\n",
       " 'Total Cash Per Share',\n",
       " 'EBITDA',\n",
       " 'Total Debt',\n",
       " 'Quick Ratio',\n",
       " 'Total Revenue',\n",
       " 'Debt To Equity',\n",
       " 'Revenue Per Share',\n",
       " 'Return on Assets',\n",
       " 'Return on Equity.1',\n",
       " 'Free Cash Flow',\n",
       " 'Operating Cash Flow',\n",
       " 'Earnings Growth',\n",
       " 'Revenue Growth',\n",
       " 'Gross Margins',\n",
       " 'EBITDA Margins',\n",
       " 'Operating Margins',\n",
       " 'Financial Currency',\n",
       " 'Trailing PEG Ratio']"
      ]
     },
     "execution_count": 4,
     "metadata": {},
     "output_type": "execute_result"
    }
   ],
   "source": [
    "combined_df.columns.to_list()"
   ]
  },
  {
   "cell_type": "code",
   "execution_count": 6,
   "metadata": {},
   "outputs": [
    {
     "data": {
      "text/plain": [
       "[dtype('O'),\n",
       " dtype('float64'),\n",
       " dtype('float64'),\n",
       " dtype('float64'),\n",
       " dtype('float64'),\n",
       " dtype('int64'),\n",
       " dtype('O'),\n",
       " dtype('O'),\n",
       " dtype('O'),\n",
       " dtype('float64'),\n",
       " dtype('float64'),\n",
       " dtype('float64'),\n",
       " dtype('float64'),\n",
       " dtype('float64'),\n",
       " dtype('float64'),\n",
       " dtype('float64'),\n",
       " dtype('float64'),\n",
       " dtype('O'),\n",
       " dtype('O'),\n",
       " dtype('O'),\n",
       " dtype('O'),\n",
       " dtype('O'),\n",
       " dtype('O'),\n",
       " dtype('O'),\n",
       " dtype('O'),\n",
       " dtype('O'),\n",
       " dtype('O'),\n",
       " dtype('O'),\n",
       " dtype('O'),\n",
       " dtype('float64'),\n",
       " dtype('O'),\n",
       " dtype('float64'),\n",
       " dtype('float64'),\n",
       " dtype('float64'),\n",
       " dtype('float64'),\n",
       " dtype('float64'),\n",
       " dtype('float64'),\n",
       " dtype('float64'),\n",
       " dtype('O'),\n",
       " dtype('float64'),\n",
       " dtype('float64'),\n",
       " dtype('float64'),\n",
       " dtype('float64'),\n",
       " dtype('float64'),\n",
       " dtype('float64'),\n",
       " dtype('float64'),\n",
       " dtype('float64'),\n",
       " dtype('float64'),\n",
       " dtype('float64'),\n",
       " dtype('float64'),\n",
       " dtype('float64'),\n",
       " dtype('float64'),\n",
       " dtype('float64'),\n",
       " dtype('float64'),\n",
       " dtype('float64'),\n",
       " dtype('float64'),\n",
       " dtype('float64'),\n",
       " dtype('float64'),\n",
       " dtype('float64'),\n",
       " dtype('float64'),\n",
       " dtype('float64'),\n",
       " dtype('float64'),\n",
       " dtype('float64'),\n",
       " dtype('float64'),\n",
       " dtype('float64'),\n",
       " dtype('float64'),\n",
       " dtype('float64'),\n",
       " dtype('float64'),\n",
       " dtype('float64'),\n",
       " dtype('O'),\n",
       " dtype('float64'),\n",
       " dtype('float64'),\n",
       " dtype('float64'),\n",
       " dtype('float64'),\n",
       " dtype('float64'),\n",
       " dtype('float64'),\n",
       " dtype('float64'),\n",
       " dtype('float64'),\n",
       " dtype('float64'),\n",
       " dtype('float64'),\n",
       " dtype('float64'),\n",
       " dtype('float64'),\n",
       " dtype('float64'),\n",
       " dtype('float64'),\n",
       " dtype('float64'),\n",
       " dtype('float64'),\n",
       " dtype('float64'),\n",
       " dtype('float64'),\n",
       " dtype('float64'),\n",
       " dtype('float64'),\n",
       " dtype('float64'),\n",
       " dtype('float64'),\n",
       " dtype('float64'),\n",
       " dtype('O'),\n",
       " dtype('float64'),\n",
       " dtype('float64'),\n",
       " dtype('float64'),\n",
       " dtype('float64'),\n",
       " dtype('float64'),\n",
       " dtype('float64'),\n",
       " dtype('float64'),\n",
       " dtype('O'),\n",
       " dtype('O'),\n",
       " dtype('O'),\n",
       " dtype('O'),\n",
       " dtype('O'),\n",
       " dtype('O'),\n",
       " dtype('float64'),\n",
       " dtype('O'),\n",
       " dtype('O'),\n",
       " dtype('O'),\n",
       " dtype('O'),\n",
       " dtype('float64'),\n",
       " dtype('float64'),\n",
       " dtype('float64'),\n",
       " dtype('float64'),\n",
       " dtype('float64'),\n",
       " dtype('float64'),\n",
       " dtype('float64'),\n",
       " dtype('O'),\n",
       " dtype('float64'),\n",
       " dtype('float64'),\n",
       " dtype('float64'),\n",
       " dtype('float64'),\n",
       " dtype('float64'),\n",
       " dtype('float64'),\n",
       " dtype('float64'),\n",
       " dtype('float64'),\n",
       " dtype('float64'),\n",
       " dtype('float64'),\n",
       " dtype('float64'),\n",
       " dtype('float64'),\n",
       " dtype('float64'),\n",
       " dtype('float64'),\n",
       " dtype('float64'),\n",
       " dtype('float64'),\n",
       " dtype('float64'),\n",
       " dtype('float64'),\n",
       " dtype('O'),\n",
       " dtype('float64')]"
      ]
     },
     "execution_count": 6,
     "metadata": {},
     "output_type": "execute_result"
    }
   ],
   "source": [
    "combined_df.dtypes.to_list()"
   ]
  },
  {
   "cell_type": "code",
   "execution_count": 7,
   "metadata": {},
   "outputs": [
    {
     "name": "stdout",
     "output_type": "stream",
     "text": [
      "Date                   object\n",
      "Open                  float64\n",
      "High                  float64\n",
      "Low                   float64\n",
      "Close                 float64\n",
      "                       ...   \n",
      "Gross Margins         float64\n",
      "EBITDA Margins        float64\n",
      "Operating Margins     float64\n",
      "Financial Currency     object\n",
      "Trailing PEG Ratio    float64\n",
      "Length: 140, dtype: object\n",
      "Error: (\"Could not convert 'M5J 2S1' with type str: tried to convert to double\", 'Conversion failed for column Zip with type object')\n"
     ]
    }
   ],
   "source": [
    "numeric_columns = [\n",
    "    'Open', 'High', 'Low', 'Close', 'Volume', 'Market Cap', 'PE Ratio',\n",
    "    'Price to Book', 'Return on Equity', 'Price to Sales', 'Dividend Yield',\n",
    "    'Current Ratio', 'Beta', 'Previous Close', 'Day Low', 'Day High',\n",
    "    'Regular Market Previous Close', 'Regular Market Open', 'Regular Market Day Low',\n",
    "    'Regular Market Day High', 'Dividend Rate', 'Payout Ratio', 'Five Year Avg Dividend Yield',\n",
    "    'Forward PE', 'Volume.1', 'Regular Market Volume', 'Average Volume', 'Average Volume 10 Days',\n",
    "    'Bid', 'Ask', 'Bid Size', 'Ask Size', 'Fifty Two Week Low', 'Fifty Two Week High',\n",
    "    'Price To Sales Trailing 12 Months', 'Fifty Day Average', 'Two Hundred Day Average',\n",
    "    'Trailing Annual Dividend Rate', 'Trailing Annual Dividend Yield', 'Enterprise Value',\n",
    "    'Profit Margins', 'Float Shares', 'Shares Outstanding', 'Shares Short', 'Shares Short Prior Month',\n",
    "    'Shares Short Previous Month Date', 'Date Short Interest', 'Shares Percent Shares Out',\n",
    "    'Held Percent Insiders', 'Held Percent Institutions', 'Short Ratio', 'Short Percent Of Float',\n",
    "    'Implied Shares Outstanding', 'Book Value', 'Last Fiscal Year End', 'Next Fiscal Year End',\n",
    "    'Most Recent Quarter', 'Earnings Quarterly Growth', 'Net Income To Common', 'Trailing EPS',\n",
    "    'Forward EPS', 'PEG Ratio', 'Last Split Factor', 'Last Split Date', 'Enterprise To Revenue',\n",
    "    'Enterprise To EBITDA', '52 Week Change', 'SandP 52 Week Change', 'Last Dividend Value',\n",
    "    'Last Dividend Date', 'Total Cash', 'Total Cash Per Share', 'EBITDA', 'Total Debt',\n",
    "    'Quick Ratio', 'Total Revenue', 'Debt To Equity', 'Revenue Per Share', 'Return on Assets',\n",
    "    'Return on Equity.1', 'Free Cash Flow', 'Operating Cash Flow', 'Earnings Growth', 'Revenue Growth',\n",
    "    'Gross Margins', 'EBITDA Margins', 'Operating Margins', 'Trailing PEG Ratio'\n",
    "]\n",
    "\n",
    "# Coerce non-numeric values to NaN\n",
    "for col in numeric_columns:\n",
    "    if col in combined_df.columns:\n",
    "        combined_df[col] = pd.to_numeric(combined_df[col], errors='coerce')\n",
    "\n",
    "# Check data types again\n",
    "print(combined_df.dtypes)\n",
    "\n",
    "# Save to Parquet file\n",
    "try:\n",
    "    combined_df.to_parquet('/Users/paigeblackstone/Desktop/Portfolio29/Portfolio29/Investment_Management/datapull_YF_082824/congress_stock_data.parquet', engine='pyarrow')\n",
    "except Exception as e:\n",
    "    print(f\"Error: {e}\")"
   ]
  },
  {
   "cell_type": "code",
   "execution_count": 8,
   "metadata": {},
   "outputs": [
    {
     "data": {
      "text/plain": [
       "[dtype('O'),\n",
       " dtype('float64'),\n",
       " dtype('float64'),\n",
       " dtype('float64'),\n",
       " dtype('float64'),\n",
       " dtype('int64'),\n",
       " dtype('O'),\n",
       " dtype('O'),\n",
       " dtype('O'),\n",
       " dtype('float64'),\n",
       " dtype('float64'),\n",
       " dtype('float64'),\n",
       " dtype('float64'),\n",
       " dtype('float64'),\n",
       " dtype('float64'),\n",
       " dtype('float64'),\n",
       " dtype('float64'),\n",
       " dtype('O'),\n",
       " dtype('O'),\n",
       " dtype('O'),\n",
       " dtype('O'),\n",
       " dtype('O'),\n",
       " dtype('O'),\n",
       " dtype('O'),\n",
       " dtype('O'),\n",
       " dtype('O'),\n",
       " dtype('O'),\n",
       " dtype('O'),\n",
       " dtype('O'),\n",
       " dtype('float64'),\n",
       " dtype('O'),\n",
       " dtype('float64'),\n",
       " dtype('float64'),\n",
       " dtype('float64'),\n",
       " dtype('float64'),\n",
       " dtype('float64'),\n",
       " dtype('float64'),\n",
       " dtype('float64'),\n",
       " dtype('O'),\n",
       " dtype('float64'),\n",
       " dtype('float64'),\n",
       " dtype('float64'),\n",
       " dtype('float64'),\n",
       " dtype('float64'),\n",
       " dtype('float64'),\n",
       " dtype('float64'),\n",
       " dtype('float64'),\n",
       " dtype('float64'),\n",
       " dtype('float64'),\n",
       " dtype('float64'),\n",
       " dtype('float64'),\n",
       " dtype('float64'),\n",
       " dtype('float64'),\n",
       " dtype('float64'),\n",
       " dtype('float64'),\n",
       " dtype('float64'),\n",
       " dtype('float64'),\n",
       " dtype('float64'),\n",
       " dtype('float64'),\n",
       " dtype('float64'),\n",
       " dtype('float64'),\n",
       " dtype('float64'),\n",
       " dtype('float64'),\n",
       " dtype('float64'),\n",
       " dtype('float64'),\n",
       " dtype('float64'),\n",
       " dtype('float64'),\n",
       " dtype('float64'),\n",
       " dtype('float64'),\n",
       " dtype('O'),\n",
       " dtype('float64'),\n",
       " dtype('float64'),\n",
       " dtype('float64'),\n",
       " dtype('float64'),\n",
       " dtype('float64'),\n",
       " dtype('float64'),\n",
       " dtype('float64'),\n",
       " dtype('float64'),\n",
       " dtype('float64'),\n",
       " dtype('float64'),\n",
       " dtype('float64'),\n",
       " dtype('float64'),\n",
       " dtype('float64'),\n",
       " dtype('float64'),\n",
       " dtype('float64'),\n",
       " dtype('float64'),\n",
       " dtype('float64'),\n",
       " dtype('float64'),\n",
       " dtype('float64'),\n",
       " dtype('float64'),\n",
       " dtype('float64'),\n",
       " dtype('float64'),\n",
       " dtype('float64'),\n",
       " dtype('float64'),\n",
       " dtype('float64'),\n",
       " dtype('float64'),\n",
       " dtype('float64'),\n",
       " dtype('float64'),\n",
       " dtype('float64'),\n",
       " dtype('float64'),\n",
       " dtype('float64'),\n",
       " dtype('O'),\n",
       " dtype('O'),\n",
       " dtype('O'),\n",
       " dtype('O'),\n",
       " dtype('O'),\n",
       " dtype('O'),\n",
       " dtype('float64'),\n",
       " dtype('O'),\n",
       " dtype('O'),\n",
       " dtype('O'),\n",
       " dtype('O'),\n",
       " dtype('float64'),\n",
       " dtype('float64'),\n",
       " dtype('float64'),\n",
       " dtype('float64'),\n",
       " dtype('float64'),\n",
       " dtype('float64'),\n",
       " dtype('float64'),\n",
       " dtype('O'),\n",
       " dtype('float64'),\n",
       " dtype('float64'),\n",
       " dtype('float64'),\n",
       " dtype('float64'),\n",
       " dtype('float64'),\n",
       " dtype('float64'),\n",
       " dtype('float64'),\n",
       " dtype('float64'),\n",
       " dtype('float64'),\n",
       " dtype('float64'),\n",
       " dtype('float64'),\n",
       " dtype('float64'),\n",
       " dtype('float64'),\n",
       " dtype('float64'),\n",
       " dtype('float64'),\n",
       " dtype('float64'),\n",
       " dtype('float64'),\n",
       " dtype('float64'),\n",
       " dtype('O'),\n",
       " dtype('float64')]"
      ]
     },
     "execution_count": 8,
     "metadata": {},
     "output_type": "execute_result"
    }
   ],
   "source": [
    "combined_df.dtypes.to_list()"
   ]
  },
  {
   "cell_type": "code",
   "execution_count": 9,
   "metadata": {},
   "outputs": [
    {
     "name": "stdout",
     "output_type": "stream",
     "text": [
      "Non-numeric values found in column: Date\n",
      "['2020-01-31 00:00:00-05:00' '2020-02-29 00:00:00-05:00'\n",
      " '2020-03-31 00:00:00-04:00' '2020-04-30 00:00:00-04:00'\n",
      " '2020-05-31 00:00:00-04:00' '2020-06-30 00:00:00-04:00'\n",
      " '2020-07-31 00:00:00-04:00' '2020-08-31 00:00:00-04:00'\n",
      " '2020-09-30 00:00:00-04:00' '2020-10-31 00:00:00-04:00'\n",
      " '2020-11-30 00:00:00-05:00' '2020-12-31 00:00:00-05:00'\n",
      " '2021-01-31 00:00:00-05:00' '2021-02-28 00:00:00-05:00'\n",
      " '2021-03-31 00:00:00-04:00' '2021-04-30 00:00:00-04:00'\n",
      " '2021-05-31 00:00:00-04:00' '2021-06-30 00:00:00-04:00'\n",
      " '2021-07-31 00:00:00-04:00' '2021-08-31 00:00:00-04:00'\n",
      " '2021-09-30 00:00:00-04:00' '2021-10-31 00:00:00-04:00'\n",
      " '2021-11-30 00:00:00-05:00' '2021-12-31 00:00:00-05:00'\n",
      " '2022-01-31 00:00:00-05:00' '2022-02-28 00:00:00-05:00'\n",
      " '2022-03-31 00:00:00-04:00' '2022-04-30 00:00:00-04:00'\n",
      " '2022-05-31 00:00:00-04:00' '2022-06-30 00:00:00-04:00'\n",
      " '2022-07-31 00:00:00-04:00' '2022-08-31 00:00:00-04:00'\n",
      " '2022-09-30 00:00:00-04:00' '2022-10-31 00:00:00-04:00'\n",
      " '2022-11-30 00:00:00-05:00' '2022-12-31 00:00:00-05:00'\n",
      " '2023-01-31 00:00:00-05:00' '2023-02-28 00:00:00-05:00'\n",
      " '2023-03-31 00:00:00-04:00' '2023-04-30 00:00:00-04:00'\n",
      " '2023-05-31 00:00:00-04:00' '2023-06-30 00:00:00-04:00'\n",
      " '2023-07-31 00:00:00-04:00' '2023-08-31 00:00:00-04:00'\n",
      " '2023-09-30 00:00:00-04:00' '2023-10-31 00:00:00-04:00'\n",
      " '2023-11-30 00:00:00-05:00' '2023-12-31 00:00:00-05:00'\n",
      " '2024-01-31 00:00:00-05:00' '2024-02-29 00:00:00-05:00'\n",
      " '2024-03-31 00:00:00-04:00' '2024-04-30 00:00:00-04:00'\n",
      " '2024-05-31 00:00:00-04:00' '2024-06-30 00:00:00-04:00'\n",
      " '2024-07-31 00:00:00-04:00' '2024-08-31 00:00:00-04:00']\n",
      "Non-numeric values found in column: Ticker\n",
      "['FSTFX' 'EXAS' 'ZBRA' ... 'TTDKY' 'NMFC' 'BMO']\n",
      "Non-numeric values found in column: Industry\n",
      "['Diagnostics & Research' 'Communication Equipment' 'Asset Management'\n",
      " 'Semiconductor Equipment & Materials' 'Financial Data & Stock Exchanges'\n",
      " 'Gold' 'Oil & Gas Equipment & Services' 'Aerospace & Defense'\n",
      " 'Medical Devices' 'Discount Stores' 'Restaurants'\n",
      " 'Internet Content & Information' 'Household & Personal Products'\n",
      " 'Packaged Foods' 'Tools & Accessories' 'Information Technology Services'\n",
      " 'Utilities - Regulated Electric' 'Entertainment'\n",
      " 'Medical Instruments & Supplies' 'Consulting Services'\n",
      " 'Advertising Agencies' 'Biotechnology' 'Auto Parts' 'Capital Markets'\n",
      " 'Oil & Gas E&P' 'Packaging & Containers' 'Engineering & Construction'\n",
      " 'Electrical Equipment & Parts' 'Software - Application'\n",
      " 'Software - Infrastructure' 'REIT - Diversified' 'Recreational Vehicles'\n",
      " 'Telecom Services' 'Auto & Truck Dealerships' 'Banks - Regional' 'Solar'\n",
      " 'Utilities - Renewable' 'REIT - Retail' 'Insurance - Life'\n",
      " 'Scientific & Technical Instruments' 'Computer Hardware'\n",
      " 'Specialty Industrial Machinery' 'Farm & Heavy Construction Machinery'\n",
      " 'Electronic Components' 'Drug Manufacturers - General' 'Marine Shipping'\n",
      " 'Conglomerates' 'Tobacco' 'Other Industrial Metals & Mining'\n",
      " 'Furnishings, Fixtures & Appliances' 'REIT - Specialty'\n",
      " 'Real Estate - Diversified' 'Utilities - Diversified' 'Publishing'\n",
      " 'Metal Fabrication' 'Waste Management' 'Staffing & Employment Services'\n",
      " 'Leisure' 'Integrated Freight & Logistics' 'Semiconductors'\n",
      " 'Utilities - Regulated Gas' 'Insurance - Diversified'\n",
      " 'Medical Care Facilities' 'Internet Retail'\n",
      " 'Building Products & Equipment' 'Credit Services'\n",
      " 'Drug Manufacturers - Specialty & Generic' 'Specialty Chemicals'\n",
      " 'Oil & Gas Midstream' 'Silver' 'Real Estate - Development' 'Airlines'\n",
      " 'Banks - Diversified' 'Specialty Retail' 'REIT - Healthcare Facilities'\n",
      " 'Specialty Business Services' 'Trucking' 'Travel Services'\n",
      " 'Electronics & Computer Distribution' 'Real Estate Services'\n",
      " 'Residential Construction' 'Footwear & Accessories'\n",
      " 'Oil & Gas Integrated' 'Insurance - Property & Casualty' 'Apparel Retail'\n",
      " 'Oil & Gas Refining & Marketing' 'Chemicals' 'Medical Distribution'\n",
      " 'Insurance - Specialty' 'Gambling' 'Resorts & Casinos'\n",
      " 'Security & Protection Services' 'Textile Manufacturing' 'REIT - Office'\n",
      " 'Auto Manufacturers' 'Railroads' 'Electronic Gaming & Multimedia'\n",
      " 'Oil & Gas Drilling' 'Industrial Distribution' 'Insurance - Reinsurance'\n",
      " 'Agricultural Inputs' 'Education & Training Services' 'Thermal Coal'\n",
      " 'REIT - Industrial' 'Pollution & Treatment Controls'\n",
      " 'Utilities - Independent Power Producers' 'Health Information Services'\n",
      " 'Copper' 'Rental & Leasing Services' 'Aluminum' 'Steel'\n",
      " 'Home Improvement Retail' 'REIT - Residential' 'Apparel Manufacturing'\n",
      " 'Broadcasting' 'REIT - Mortgage' 'Paper & Paper Products'\n",
      " 'Beverages - Non-Alcoholic' 'REIT - Hotel & Motel'\n",
      " 'Utilities - Regulated Water' 'Financial Conglomerates' 'Uranium'\n",
      " 'Department Stores' 'Coking Coal' 'Farm Products' 'Grocery Stores'\n",
      " 'Mortgage Finance' 'Building Materials' 'Lodging' 'Food Distribution'\n",
      " 'Lumber & Wood Production' 'Insurance Brokers' 'Consumer Electronics'\n",
      " 'Beverages - Wineries & Distilleries' 'Infrastructure Operations'\n",
      " 'Confectioners' 'Other Precious Metals & Mining'\n",
      " 'Business Equipment & Supplies' 'Personal Services' 'Luxury Goods'\n",
      " 'Beverages - Brewers' 'Healthcare Plans' 'Airports & Air Services'\n",
      " 'Pharmaceutical Retailers']\n",
      "Non-numeric values found in column: Sector\n",
      "['Healthcare' 'Technology' 'Financial Services' 'Basic Materials' 'Energy'\n",
      " 'Industrials' 'Consumer Defensive' 'Consumer Cyclical'\n",
      " 'Communication Services' 'Utilities' 'Real Estate']\n",
      "Non-numeric values found in column: Address1\n",
      "['Boston, MA 02109' '5505 Endeavor Lane' '3 Overlook Point' ...\n",
      " '14 Schoolhouse Road' 'Nihonbashi Takashimaya Mitsui Building'\n",
      " '129 rue Saint-Jacques']\n",
      "Non-numeric values found in column: City\n",
      "['Madison' 'Lincolnshire' 'Newport Beach' 'Shanghai' 'Sydney' 'Chicago'\n",
      " 'Toronto' 'Houston' 'Fort Collins' 'Warsaw' 'Bentonville' 'San Antonio'\n",
      " 'Orlando' 'Santa Monica' 'Cincinnati' 'Paris' 'Anjo' 'Norwalk' 'Columbus'\n",
      " 'New York' 'South Jordan' 'Atlanta' 'Milwaukee' 'Durham' 'Northville'\n",
      " 'San Jose' 'Grand Cayman' 'Tokyo' 'Charlotte' 'Dallas' 'Fremont'\n",
      " 'West Palm Beach' 'San Francisco' 'Plano' 'Elkhart' 'Makati City'\n",
      " 'Lake Forest' 'Verdun' 'San Diego' 'Fort Lauderdale' 'Melbourne'\n",
      " 'Montrouge' 'Guelph' 'Westford' 'Baltimore' 'Kobe' 'Chattanooga'\n",
      " 'Pittsburgh' 'Westminster' 'Memphis' 'Singapore' 'London' 'Moline'\n",
      " 'Austin' 'Thousand Oaks' 'Novi' 'Marousi' 'Scottsdale' 'Overland Park'\n",
      " 'Calhoun' 'Boca Raton' 'Kennesaw' 'Blue Bell' 'Perth' 'Chadstone'\n",
      " 'Maple Plain' 'Allentown' 'Grants Pass' 'Kingwood' 'Nassau' 'Greenwich'\n",
      " 'Lima' 'Whippany' 'Panama City' 'Bandung' 'Brussels' 'Franklin'\n",
      " 'Hellerup' 'Archbold' 'Bagsvaerd' 'Stamford' 'Englewood' 'Calgary'\n",
      " 'Princeton' 'Livonia' 'Mexico City' 'Exton' 'Somerville' 'Brentwood'\n",
      " 'Waukesha' 'Causeway Bay' 'Brooklyn Heights' 'Seattle' 'Framingham'\n",
      " 'Vancouver' 'Kowloon City' 'Alhambra' 'Birmingham' 'Dublin' 'Palo Alto'\n",
      " 'Bethesda' 'Rye' 'Duluth' 'Weybridge' 'Long Island City' 'Philadelphia'\n",
      " 'Wilmington' 'Ewing' 'Downers Grove' 'Teaneck' 'Louisville' 'Santa Clara'\n",
      " 'Miami' 'Laval' 'Centennial' 'Waltham' 'Aarhus' 'Newtown' 'Hollywood'\n",
      " 'Stanford' 'Central' 'Tampa' 'Washington' 'Langfang' 'Davidson' 'Akron'\n",
      " 'Helsinki' 'Bristol' 'Boston' 'Nelsonville' 'Courbevoie' 'Stockholm'\n",
      " 'Redwood City' 'Anoka' 'Cleveland' 'Gothenburg' 'Düsseldorf' 'Nashville'\n",
      " 'Migdal Haemek' 'Saint Paul' 'Schaffhausen' 'Broomfield' 'Crystal Lake'\n",
      " 'Toledo' 'Midland' 'North Canton' 'Madrid' 'Geneva' 'Hamilton' 'Irvine'\n",
      " 'Las Vegas' 'Beverly Hills' 'Vernon Hills' 'Nanterre' 'Corunna' 'Denver'\n",
      " 'Hoboken' 'San Ramon' 'Waterloo' 'Oak Brook' 'Harvey' 'Los Angeles'\n",
      " 'Norfolk' 'Wolfsburg' 'Boise' 'Swords' 'Seoul' 'North Charleston'\n",
      " 'Chandler' 'Saint Louis' 'Burlington' 'Baton Rouge' 'Cambridge' 'Oxford'\n",
      " 'Batesville' 'Kaohsiung' 'Newbury' 'Studio City' 'Westlake' 'Munich'\n",
      " 'Herzliya' 'Phoenix' 'Winona' 'Bolingbrook' 'Roseland' 'San Carlos'\n",
      " 'Reston' 'Baar' 'Suwa-shi' 'Fairfield' 'Zurich' 'Rueil-Malmaison'\n",
      " 'Seguin' 'Plantation' 'Leawood' 'Alameda' 'Maumee' 'Charleston'\n",
      " 'Albuquerque' 'Medina' 'Woburn' 'Marlborough' 'Beijing' 'Pasadena'\n",
      " 'Hanover' 'Lisbon' 'Indianapolis' 'Mumbai' 'Spring' 'Audubon' 'Tempe'\n",
      " 'Guangzhou' 'Gaithersburg' 'Greeley' 'Bridgewater' 'Jersey City'\n",
      " 'Malvern' 'Portland' 'Newton' 'Manhattan Beach' 'King of Prussia'\n",
      " 'Richmond' 'Edmonton' 'Kyoto' 'American Fork' 'Canonsburg' 'Istanbul'\n",
      " 'Coral Gables' 'Dundalk' 'Goleta' 'Beaverton' 'Santa Ana' 'Southlake'\n",
      " 'Tinton Falls' 'Luxembourg City' 'Kingsport' 'Rotterdam' 'New Albany'\n",
      " 'Nagoya' 'Hunt Valley' 'Glens Falls' 'Amsterdam' 'Schaumburg' 'Mattoon'\n",
      " 'Saint Louis Park' 'Elkhorn' 'Springfield' 'Fort Worth' 'Glenview'\n",
      " 'Portage' 'San Leandro' 'Dearborn' 'Florham Park' 'Montevideo' 'Newark'\n",
      " 'Carmel' 'Mason' 'Elk Grove Village' 'Winter Haven' 'Bengaluru'\n",
      " 'Oklahoma City' 'Liberty Lake' 'Raleigh' 'Stuart' 'Sarasota' 'Pembroke'\n",
      " 'Salt Lake City' 'Medford' 'Bryn Mawr' 'Plymouth Meeting' 'Eden Prairie'\n",
      " 'Honolulu' 'Vista' 'Plainview' 'Northbrook' 'Los Gatos' 'Uxbridge'\n",
      " 'The Woodlands' 'Kalispell' 'Glen Mills' 'Rolle' 'Tulsa' 'Portsmouth'\n",
      " 'Rahway' 'Darmstadt' 'Evansville' 'Monroe' 'Rockville' 'Lakewood'\n",
      " 'Crawley' 'Ball Ground' 'Pleasanton' 'Brookwood' 'Harvard' 'Coraopolis'\n",
      " 'Massy' 'São Paulo' 'North Little Rock' 'North Chicago' 'Manchester'\n",
      " 'Detroit' 'Lowell' 'Arlington' 'Issaquah' 'Yokohama' 'Little Rock'\n",
      " 'Shenzhen' 'EmeryVille' 'McLean' 'Sunnyvale' 'Lausanne' 'Puteaux'\n",
      " 'Wheaton' 'Minneapolis' 'Winston-Salem' 'Wallingford' 'Bellevue'\n",
      " 'Cranberry Township' 'Mentor' 'Rome' 'Orrville' 'Eau Claire'\n",
      " 'Frankfurt am Main' 'Round Rock' 'Irving' 'Naperville' 'Belmont'\n",
      " 'Pawtucket' 'York' 'Carlsbad' 'Wakefield' 'Lafayette' 'Sharonville'\n",
      " 'Bergen' 'Limassol' 'Abbotsford' 'Oslo' 'Coppell' 'Topeka' 'Melville'\n",
      " 'Limoges' 'Moncton' 'Davenport' 'Essen' 'San Mateo' 'Brookings'\n",
      " 'North Reading' 'West Conshohocken' 'Van Buren' 'Menlo Park' 'Jupiter'\n",
      " 'Marysville' 'Chiba' 'Westport' 'Luxembourg' 'Newport News' 'Santa Paula'\n",
      " 'Grand Rapids' 'Westbrook' 'Osaka' 'Hilversum' 'Minato' 'Perrysburg'\n",
      " 'Oaks' 'Bozeman' 'Tustin' 'George Town' 'Hamburg' 'Tarrytown' 'Bedford'\n",
      " 'Rolling Meadows' 'Montreal' 'Fergus Falls' 'Wan Chai' 'Springdale'\n",
      " 'Hammond' 'Billerica' 'Mississauga' 'Richardson' 'Johannesburg'\n",
      " 'Middleton' 'Cupertino' 'South San Francisco' 'Monaco' 'Zeeland' 'Durban'\n",
      " 'Southfield' 'Greensboro' 'Bella Vista' 'Kariya' 'Campbell' 'Lynchburg'\n",
      " 'Bonn' 'Silver Spring' 'Hillsboro' 'Slough' 'Buffalo' 'Deridder'\n",
      " 'Jacksonville' 'Branchville' 'Skillman' 'Radnor' 'Ventura' 'Brooklyn'\n",
      " 'Mechanicsville' 'Herzliya Pituach' 'Bilbao' 'Lancaster' 'El Segundo'\n",
      " 'Santiago' 'Leverkusen' 'Canton' 'Windsor' 'Northborough' 'Bothell'\n",
      " 'North Bethesda' 'West Warwick' 'Issy-les-Moulineaux' 'Unterföhring'\n",
      " 'Urayasu' 'Reno' 'Basel' 'West Henrietta' 'Milpitas' 'Tysons' 'Miramar'\n",
      " 'Omaha' 'Vero Beach' 'Herndon' 'Camana Bay' 'Evendale' 'Mountain View'\n",
      " 'Lund' 'Westlake Village' 'Providence' 'Monett' 'Troy' 'Dayton' 'Qingdao'\n",
      " 'Williamsville' 'San Clemente' 'Huntsville' 'Kverva' 'Corning' 'Toyota'\n",
      " 'Montvale' 'Herzogenaurach' \"Coeur d'Alene\" 'Hong Kong' 'Rock Hill'\n",
      " 'Kitakyushu' 'Midlothian' 'Stavanger' 'Asheville' 'Merrillville'\n",
      " 'Wichita' 'Princeton Junction' 'Espoo' 'Shelton' 'Corte Madera' 'Bezons'\n",
      " 'Leinfelden-Echterdingen' 'Camarillo' 'Roswell' 'Walnut Creek'\n",
      " 'Merritt Island' 'Marietta' 'Minnetonka' 'Vernier' 'Mill Valley'\n",
      " 'Saint Helier' 'Sioux Falls' 'Hampton' 'Latham' 'Greenwood Village'\n",
      " 'Bowie' 'Milan' 'Farmington' 'Eagle' 'Mainz' 'Purchase' 'Wayne' 'Andover'\n",
      " 'Rochester' 'Estero' 'Boulogne-Billancourt' 'Foster City' 'LaFox'\n",
      " 'Thomasville' 'Rio De Janeiro' 'Burbank' 'Green Bay' 'Avon Lake'\n",
      " 'Walldorf' 'Wood Dale' 'Zaandam' 'Lansing' 'Hatfield' 'Thornton'\n",
      " 'Parsippany' 'Bensalem' 'Smiths Falls' 'Mooresville' 'Santa Barbara'\n",
      " 'Palm Beach Gardens' 'Kirkland' 'Yamanashi' 'Sakai' 'Hsinchu City'\n",
      " 'Bad Homburg vor der Höhe' 'Highlands Ranch' 'Auckland' 'Nacka'\n",
      " 'Mount Laurel' 'Kwun Tong' 'Hartsville' 'Fort Smith' 'Nagaokakyo'\n",
      " 'Markham' 'Holzminden' 'Kansas City' 'Fort Washington' 'Bogotá'\n",
      " 'Westchester' 'Leiden' 'Northvale' 'Claremont' 'Bern' 'Bangkok'\n",
      " 'Brentford' 'Rosemead' 'Saxonburg' 'North Liberty' 'Long Beach'\n",
      " 'East Perth' 'Vélizy-Villacoublay' 'Santa Rosa' 'Napa' 'New Britain'\n",
      " 'Bloomington' 'Bromley' 'Yardley' 'Tacoma' 'Jackson' 'West Lafayette'\n",
      " 'Kenosha' 'Attleboro' 'Tupelo' 'Glen Allen' 'Stuttgart' 'Turin'\n",
      " 'Monterrey' 'Rosh Haayin' 'Chesterfield' 'Covington' 'Steinhausen'\n",
      " 'Sugar Land' 'Temple' 'Watford' 'Kingscourt' 'Diemen' 'Clayton'\n",
      " 'Alpharetta' 'Armonk' 'Needham' 'Menomonee Falls' 'Hartford'\n",
      " 'Incline Village' 'Leuven' 'Clichy' 'Mountain Grove' 'Hiroshima'\n",
      " 'Redmond' 'Bloomfield Hills' 'Rosemont' 'Itasca' 'Goodlettsville'\n",
      " 'Hamamatsu-shi' 'Spartanburg' 'Schindellegi' 'Victor' 'Colmar' 'Schiphol'\n",
      " 'Munsbach' 'New Braunfels' 'Copenhagen' 'Bad Homburg' 'Juno Beach'\n",
      " 'Kilgore' 'Alphen aan den Rijn' 'Zug' 'Greenville' 'Fairhaven'\n",
      " 'Hicksville' 'Naju-Si' 'Cologne' 'Berwyn' 'Aliso Viejo'\n",
      " 'Ludwigshafen am Rhein' 'Hangzhou' 'Murfreesboro' 'Lake Success'\n",
      " 'Golden Valley' 'Leamington' 'Jena' 'Miami Beach' 'Tel Aviv'\n",
      " 'Auburn Hills' 'Harmondsworth' 'San Rafael' 'Vevey' 'Alcobendas'\n",
      " 'Sandton' 'Cape Town' 'Neubiberg' 'Kuala Lumpur' 'Chertsey' 'Catskill'\n",
      " 'Everett' 'Tralee' 'Coventry' 'New Brunswick' 'Muscatine' 'Germantown'\n",
      " 'Falls Church' 'Eindhoven' 'Panama City Beach' \"Yokne'am\" 'Rogers'\n",
      " 'Bloomfield' 'Lexington' 'Saint-Laurent' 'Veldhoven' 'Fornebu'\n",
      " 'Ann Arbor' 'Ames' 'Mayfield' 'Kokomo' 'Vienna' 'Pittsford' 'Athens'\n",
      " 'New Orleans' 'Greenfield' 'Wyomissing' 'Sundbyberg' 'Cork' 'Hoofddorp'\n",
      " 'Göttingen' 'Yulee' 'Ankeny' 'Winchester' 'Sunrise' 'Benton Harbor'\n",
      " 'Chiyoda' 'The Hague' 'Draper' 'Solna' 'Chuo' 'Yamaguchi' 'North Andover'\n",
      " 'Corona' 'Woking' 'Forchheim' 'El Paso' 'Spokane' 'Bochum' 'Cerritos'\n",
      " 'Humlebæk' 'Saint Petersburg' 'Columbia' 'Findlay' 'Bismarck'\n",
      " 'Fredericia' 'Reading' 'Quarry Bay' 'Camden' 'Fort Myers' 'Chesapeake'\n",
      " 'Park City' 'Jerusalem' 'Woodbridge' 'Des Moines' 'Frisco'\n",
      " 'Welwyn Garden City' 'Worcester' 'Secaucus' \"Saint John's\" 'Westerville'\n",
      " 'Saskatoon' 'Mechanicsburg' 'Somerset' 'Malta' 'Fort Wayne' 'Oakville'\n",
      " 'Warrington' 'Camberley' 'Beachwood' 'Oakland' 'Oshkosh' 'Woonsocket'\n",
      " 'Annapolis' 'Deerfield' 'Great Neck' 'Burnaby' 'Royal Oak' 'Red Bank'\n",
      " 'Buenos Aires' 'Center Valley' 'Hercules' 'Aurora' 'Watsonville'\n",
      " 'Brisbane' 'East Aurora' 'San Juan' 'Ashburn' 'Neuhausen am Rheinfall'\n",
      " 'Hedehusene' 'Mettawa' 'Maranello' 'Corpus Christi' 'Danbury'\n",
      " 'Daytona Beach' 'West Orange' 'Ottawa' 'Alachua' 'Tai Po' 'Erie'\n",
      " 'Harrisburg' 'Anniston' 'Heidelberg' 'Pikeville' 'Carthage'\n",
      " 'Neuilly-sur-Seine' 'Kearney' 'Vaughan' 'Ridgefield'\n",
      " 'San Pedro Garza García' 'Conshohocken' 'Tysons Corner' 'Glendale'\n",
      " 'Barcelona' 'Independence' 'Franklin Lakes' 'Moscow' 'Lanham' 'Orange'\n",
      " 'Venlo' 'Mascot' 'Lake Oswego' 'Addison' 'Richfield' 'Mannheim' 'Acton'\n",
      " 'Denton' 'Natick' 'Hemel Hempstead' 'Belo Horizonte' 'Largo'\n",
      " 'Friendswood' 'Lebanon' 'Livermore' 'Dothan' 'Milford' 'Ridgeland'\n",
      " 'Yokohama-shi' 'Abilene' 'Golden' 'Kwai Chung' 'Ridgefield Park'\n",
      " 'Rutland' 'Miami Lakes' 'Biel/Bienne' 'Stäfa' 'Hilliard' 'Bonita Springs'\n",
      " 'Grapevine' 'Morrisville' 'Edinburgh' 'Elgin' 'Bethlehem' \"Ra'anana\"\n",
      " 'Conway' 'McKinney' 'Barueri' 'Reynoldsburg' 'Westerly' 'Bellingham'\n",
      " 'Berlin' 'Bartlett' 'Shijiazhuang' 'Wuhan' 'Bannockburn' 'Gurugram'\n",
      " 'Barangaroo' 'Dewitt' 'Hershey' 'Jericho' 'Evanston' 'Watertown'\n",
      " 'Billings' 'Vantaa' 'Colombes' 'Rockland' 'Aberdeen' 'Riverwoods'\n",
      " 'Petah Tikva' 'Atchison' 'Rapperswil-Jona' 'Sussex' 'Sennwald'\n",
      " 'Woodland Hills']\n",
      "Non-numeric values found in column: State\n",
      "['WI' 'IL' 'CA' 'NSW' 'ON' 'TX' 'CO' 'IN' 'AR' 'FL' 'OH' 'CT' 'NY' 'UT'\n",
      " 'GA' 'NC' 'MI' 'QC' 'MA' 'MD' 'TN' 'PA' 'VIC' 'AZ' 'KS' 'MN' 'OR' 'WA'\n",
      " 'NJ' 'AB' 'DF' 'BC' 'AL' 'KY' 'DC' 'NV' 'VA' 'ID' 'SC' 'MO' 'LA' 'DE'\n",
      " 'WV' 'NM' 'ME' 'NE' 'OK' 'HI' 'MT' 'NH' 'SP' 'RM' 'RI' 'NB' 'IA' 'SD'\n",
      " 'RJ' 'MS' 'TO' 'NL' 'ND' 'NF' 'SK' 'PR' 'MG' 'VT']\n",
      "Non-numeric values found in column: Zip\n",
      "['M5J 2S1' '77079-1121' '446-8502' '06851-1056' '43215-2373' 'KY-1-1208'\n",
      " '107-6332' 'M4E 2R2' '10019-6108' '46514-3305' 'H3E 3B3' '77024-2217'\n",
      " 'N1K 1E6' '01886-4105' '21231-3380' '651-0073' '10017-3956' '107-6325'\n",
      " '15222-3111' 'W1K 4QY' '101-0021' '91320-1799' 'EC4Y 0DY' 'WC2R 2PG'\n",
      " '100-8411' '33487-1307' '108-8211' 'PH1 3AQ' 'SW1P 1WG' '18101-1179'\n",
      " '92121-1069' '07981-0206' '06901-3261' 'T2R 1J4' 'T2P 0H7' '19341-1147'\n",
      " 'SW1E 5DH' '98104-7800' 'V6C 2V6' 'D02 TY74' '75235-1611' '10580-1422'\n",
      " '100-8330' 'KT13 0NY' 'V6E 3X1' '60654-4708' '95052-8039' '94128-8999'\n",
      " '33132-2096' '75219-4518' 'H7L 4A8' 'EC2N 1AR' 'D18 X5R3' '20037-1701'\n",
      " '44316-0001' '06010-6376' '111 22' 'EC3A 8BE' '44114-1306' '417 15'\n",
      " '77024-1908' '55102-2233' 'M5A 0B5' '100-0005' '44720-2556' '94103-1410'\n",
      " 'N2V 1C6' '103-8666' '90025-1745' '10281-1023' '83702-5627' 'K67 NY94'\n",
      " '20814-4641' 'HM 12' 'T2C 4X9' 'V6C 0S6' '53202-5304' 'RG14 2FN' 'HM 08'\n",
      " 'M5J 2J5' '95054-1549' '55987-1500' 'TW8 9DW' '103-6031' '392-8502'\n",
      " '07004-3510' '160-8338' '103-8426' 'M5J 0B6' '01752-1234' '105-7537'\n",
      " '100-8133' '78735-6213' '1249-300' '46204-3438' '77389-1425' '102-8583'\n",
      " '60680-5379' '80634-9038' '19355-2143' '02458-1634' 'T2P 4J8'\n",
      " '19406-0958' 'T5H 0E9' '601-8205' '85004-2189' '15222-2401' 'A91 XR61'\n",
      " '92707-5759' '15212-5858' '91107-6024' 'T2P 5H1' '30328-7250'\n",
      " '89119-4012' '3016 CK' '105-8688' 'D02 P820' '450-6101' '1102 CT'\n",
      " '63102-2188' '44124-4141' '61938-5973' '85072-3999' '68022-6482'\n",
      " '62715-0001' '146-8501' 'EC3M 4AE' '94568-7579' 'SW1Y 4PD' '73101-0321'\n",
      " 'M5J 2V5' 'V6J 1C7' 'D01 H104' 'HM08' '84133-1109' '63124-1186'\n",
      " '19010-3489' '90401-1452' '96801-3924' 'UB8 1EZ' 'EC2A 1AF' '92707-5913'\n",
      " 'W2 1GG' '06851-1092' '10019-6748' '10580-1412' '32801-9803' '45249-1667'\n",
      " 'M5J 2T3' '05425-070' '60064-6400' 'T2P 0R3' '97005-6453' '112 74'\n",
      " '222-8552' '105 45' '23219-3306' '92121-1714' '22102-3211' '80237-2632'\n",
      " '98006-1350' '16066-5207' '44667-0280' '37421-6000' '54703-3703'\n",
      " '19104-5054' '60563-2787' 'YO19 4FE' '01880-6210' 'HM 11' '20814-1109'\n",
      " '77079-2703' '53224-9508' 'WC2N 5EH' '04571-936' '153-0042' 'E1C 1T7'\n",
      " '21030-1394' '48226-1279' '53202-4125' '261-8515' '94104-3503'\n",
      " '75201-4657' 'N1 9FX' '87102-3289' '530-8552' '1217 EW' '108-6290'\n",
      " '10022-2203' 'V6C 3M1' '65802-2298' '105-5135' 'M5J 2J1' '66211-1938'\n",
      " '105-6927' '20814-6352' 'D02 VH94' '105-7050' '92782-0539' '77046-1124'\n",
      " '44145-4551' 'KY1-9005' 'T2P 1G1' '107-0052' '10591-6707' '60008-4050'\n",
      " '55347-5076' 'H3A 3J2' '56538-0496' '105-8316' '72762-6999' '107 24'\n",
      " 'L4W 5K5' '33178-2428' 'T2P 0M5' 'V6B 0S6' '102-8452' '10120-1220'\n",
      " 'E14 5HQ' 'EC2V 7HN' '45202-1100' '48034-8205' 'SE1 9GL' 'SW1Y 4AD'\n",
      " '75039-5421' '84121-7033' '02199-8103' '448-8661' '102-8660' '97124-6421'\n",
      " 'SW1E 5BP' '104-0061' 'SL1 3UH' '100-0006' '53224-9536' '541-8564'\n",
      " '10001-2192' '1019 GM' 'TW13 QS' '78701-3788' 'M5H 0B4' '100-8176'\n",
      " 'SL4 1RS' '612-8501' '45202-4726' '143-8580' '20852-4041' '43615-4040'\n",
      " '108-0014' '77079-4500' 'W1F 7HS' '279-8511' '141-8924' 'M6K 3M1'\n",
      " '75254-4308' 'CH-6340' 'KY1-9006' '1096 BC' '22102-5151' '68154-5215'\n",
      " 'W1F 0DQ' '89193-8510' '32801-6400' 'M4W 1G9' 'KY1-1108' '75201-7849'\n",
      " '94065-1562' '91361-5693' '19103-2838' '02111-1293' '530-8341' 'M4W 1E5'\n",
      " '44115-1075' '600-8530' '37214-1207' '35806-2807' '22203-2120' 'W12 7RU'\n",
      " '471-8571' '98109-5210' '10017-3852' '83815-9408' '100-8601' '806-0004'\n",
      " '30339-3182' '163-1339' '80202-1161' '01451-001' '06484-1000' '105-7529'\n",
      " 'SW1P 2AW' '10119-4015' '04530-001' '93012-8790' '541-0045' '15219-2800'\n",
      " '150-8554' 'EC2V 6DT' 'JE2 4UF' '75254-2957' '107-0061' 'D04 Y0C2'\n",
      " 'CB2 0AA' '19087-1603' '47708-1013' '19112-1495' '14625-2396' '04344-902'\n",
      " '1017 ZD' '530-0011' '75019-3863' '164 83' '10019-2714' '32202-5019'\n",
      " '10017-6318' '60045-5201' 'EC4M 7LS' '75201-6404' 'SL4 5GD' '60147-0393'\n",
      " 'HM11' '163-0914' '22250-145' '1070 AS' '1506 MA' '55402-2807'\n",
      " '48912-1595' '91360-2362' 'AL10 9UL' 'WC2N 5JR' 'K7A 0A8' '49464-0302'\n",
      " '28273-5975' '151-0053' 'N2L 0A1' '106 70' '401-0597' '60606-2682'\n",
      " '590-8577' '02454-9161' '80129-1540' '131 54' '92673-6277' '29550-3350'\n",
      " '617-8555' 'L4G 1H6' '64106-2003' '2333 CS' 'SE1 7NA' '45014-5141'\n",
      " 'TW8 9GS' '95403-1738' '20814-6522' 'HM 19' 'BR1 1DP' '90064-1044'\n",
      " '33637-2015' '98402-4200' 'EC3M 7DQ' '55344-2650' '53718-2148'\n",
      " '77077-2099' 'M5C 2Y7' '130-8602' '107-8077' 'SW1E 5JD' '10019-0601'\n",
      " '27409-9421' '23060-6148' 'M5V 2H1' '19103-2935' 'M5L 1G9' '530-0001'\n",
      " 'V6B 0M3' '104-8340' 'M5J 0E7' '63017-1706' '70433-5001' '1082 MS'\n",
      " '85224-6199' 'WD18 8YE' 'A82 XY31' '1112 TC' '94941-6007' '60606-6627'\n",
      " '80237-2766' '220-6001' 'W1H 7JT' '94403-1907' '103-8411' '730-8670'\n",
      " '98052-6399' '100-0004' '48302-0954' '07310-1686' '432-8611' '103-8645'\n",
      " '29319-9966' '1118 BG' '1649-033' '555-0012' '601-8550' '95138-1002'\n",
      " 'M5H 3H1' '104-0033' '2400 BA' 'E14 5HP' 'D02 YX20' '1082 PP' '107-8556'\n",
      " '19312-1177' '55912-3680' '105-7123' '37129-6346' 'N8H 5L4' 'UB7 0GB'\n",
      " '103-0022' '100-8310' '48265-3000' '802-8601' '531-0076' '10019-4499'\n",
      " '60606-2624' '95110-2704' 'KT16 9BQ' '103-8251' '541-0041' '140-0002'\n",
      " '83702-5389' '23219-4350' 'V92 EH11' 'EC1A 1AA' 'CV1 2LZ' '10017-6707'\n",
      " '52761-0071' '78738-6723' '74119-4833' '111 47' '38138-3606' '162-8001'\n",
      " '10174-0002' '5656 AG' '601-8501' '160-8347' 'M5K 1E7' 'H4T 1G6'\n",
      " '5504 DR' 'D02 VY79' '94403-7107' '75201-2237' '05409-000' 'W1H 7EJ'\n",
      " '48211-1198' '46904-9013' '14534-4560' 'T2P 3L8' '47202-3005'\n",
      " '89519-6075' '530-8323' '46204-3565' '1349-065' '172 63' '06902-7700'\n",
      " '91101-6104' 'T12 X8N6' '2132 LS' 'NW1 7FB' '55420-1196' '55144-1000'\n",
      " '32097-0002' '10019-2960' '533-8555' 'H2Y 2J3' '49022-2692' '102-8282'\n",
      " '2595 AS' '135-6033' 'L5K 1B1' '103-8324' 'M5E 1V3' '754-0894'\n",
      " '01845-6098' 'WC2R 0RL' 'M5J 2N7' '415 50' 'GU21 6HT' '35242-2225'\n",
      " '99202-2600' '30339-2210' 'SE1 9AX' '20241-030' '18106-5500' '28277-3607'\n",
      " '45840-3229' '30320-6001' '90025-6821' 'T2P 3P8' '58506-5650' '530-8241'\n",
      " '1011 DJ' '55802-2093' '44114-2315' '19355-2132' '08102-1658' '1012 SG'\n",
      " '84098-7660' '33487-3650' 'D04 E5W7' '94103-3104' 'T2P 3E3' '556-8601'\n",
      " '100-8280' 'L4H 4G3' '15212-5872' 'AL7 1GA' '19610-1247' '151-0072'\n",
      " 'A1E 0E4' 'S7M 1J3' 'S7K 5R6' 'L6J 2X1' 'WA5 3LP' '08103-1799' 'GU16 7EX'\n",
      " '77056-4400' '90080-0210' '44122-7200' 'D01 K0Y8' '20004-2505' '101-0048'\n",
      " '90067-4733' '103-6020' '115-0043' '60606-1220' '11021-3104' 'V5J 5J8'\n",
      " 'C1084ABA' '103-8668' '83716-9632' '94086-5304' '94005-1021' '00908-0146'\n",
      " '106 38' '95134-1706' '540-0037' '111 23' '45262-5737' '60045-3420'\n",
      " '20814-5422' 'T6X 1V8' '10166-0188' 'H3B 2M9' '10036-2774' 'K2P 2L8'\n",
      " '02110-2320' '16530-0001' '3072 AP' '1101EB' '27408-7612' 'TW8 9DF'\n",
      " '106-0032' '68845-4915' '98004-8617' '2591 TV' 'L4K 0H9' 'W1T 4EZ'\n",
      " '100-8233' 'HM12' 'V6E 0C3' '19428-1800' '91201-2349' '73102-5015'\n",
      " 'L4G 7K1' '92130-2677' '07417-1880' '77046-0521' '5912 PL' 'D04 N2R2'\n",
      " '94583-2324' 'M5X 1E1' '10022-7499' '30342-4788' '94612-1888' 'M5K 1A2'\n",
      " '111 53' '85224-6155' '77042-4103' '01760-2059' 'HP2 4TZ' '90245-5012'\n",
      " '164-0001' '30190-131' '33773-4908' '37087-4779' '30308-1925'\n",
      " '94551-7800' 'W1H 7LX' '39157-6005' '220-8720' '108-0075' '19428-2380'\n",
      " '108-8503' '22775-057' 'BS3 2LL' '75261-9100' '100-8116' 'EH12 1HQ'\n",
      " '150-0001' '75070-8080' '06455-030' '44720-5450' '02116-5749'\n",
      " '93108-2737' '1016 ED' '417 56' '104-8315' '13214-1883' '11753-2128'\n",
      " '55164-0683' 'M2N 6L7' '101 20' '220-8686' '10281-0221' 'V6C 2B5'\n",
      " '99201-0603' '90401-1889' 'EC1N 2HT' '02114-2016' '30309-7673' 'AB15 4YB'\n",
      " '33401-6146' '100-8631' '22102-4285' '53089-3995' '103-6128' 'H2Y 1L6']\n",
      "Non-numeric values found in column: Country\n",
      "['United States' 'China' 'Australia' 'Canada' 'France' 'Japan'\n",
      " 'Cayman Islands' 'Philippines' 'Singapore' 'United Kingdom' 'Greece'\n",
      " 'Bahamas' 'Peru' 'Panama' 'Indonesia' 'Belgium' 'Denmark' 'Mexico'\n",
      " 'Hong Kong' 'Ireland' 'Finland' 'Sweden' 'Germany' 'Israel' 'Switzerland'\n",
      " 'Spain' 'Bermuda' 'South Korea' 'Taiwan' 'Portugal' 'India' 'Turkey'\n",
      " 'Luxembourg' 'Netherlands' 'Uruguay' 'Brazil' 'Italy' 'Norway' 'Cyprus'\n",
      " 'South Africa' 'Monaco' 'Chile' 'Jersey' 'New Zealand' 'Colombia'\n",
      " 'Thailand' 'Malaysia' 'Austria' 'Argentina' 'Russia']\n",
      "Non-numeric values found in column: Phone\n",
      "['608 284 5700' '847 634 6700' '949 720 6000' ... '(646) 768-4240'\n",
      " '81 3 6778 1000' '212 720 0300']\n",
      "Non-numeric values found in column: Website\n",
      "['https://www.exactsciences.com' 'https://www.zebra.com'\n",
      " 'https://www.allianzinvestors.com/Products/pages/373.aspx' ...\n",
      " 'https://www.jp.tdk.com' 'https://www.newmountainfinance.com'\n",
      " 'https://www.bmo.com']\n",
      "Non-numeric values found in column: Industry Key\n",
      "['diagnostics-research' 'communication-equipment' 'asset-management'\n",
      " 'semiconductor-equipment-materials' 'financial-data-stock-exchanges'\n",
      " 'gold' 'oil-gas-equipment-services' 'aerospace-defense' 'medical-devices'\n",
      " 'discount-stores' 'restaurants' 'internet-content-information'\n",
      " 'household-personal-products' 'packaged-foods' 'tools-accessories'\n",
      " 'information-technology-services' 'utilities-regulated-electric'\n",
      " 'entertainment' 'medical-instruments-supplies' 'consulting-services'\n",
      " 'advertising-agencies' 'biotechnology' 'auto-parts' 'capital-markets'\n",
      " 'oil-gas-e-p' 'packaging-containers' 'engineering-construction'\n",
      " 'electrical-equipment-parts' 'software-application'\n",
      " 'software-infrastructure' 'reit-diversified' 'recreational-vehicles'\n",
      " 'telecom-services' 'auto-truck-dealerships' 'banks-regional' 'solar'\n",
      " 'utilities-renewable' 'reit-retail' 'insurance-life'\n",
      " 'scientific-technical-instruments' 'computer-hardware'\n",
      " 'specialty-industrial-machinery' 'farm-heavy-construction-machinery'\n",
      " 'electronic-components' 'drug-manufacturers-general' 'marine-shipping'\n",
      " 'conglomerates' 'tobacco' 'other-industrial-metals-mining'\n",
      " 'furnishings-fixtures-appliances' 'reit-specialty'\n",
      " 'real-estate-diversified' 'utilities-diversified' 'publishing'\n",
      " 'metal-fabrication' 'waste-management' 'staffing-employment-services'\n",
      " 'leisure' 'integrated-freight-logistics' 'semiconductors'\n",
      " 'utilities-regulated-gas' 'insurance-diversified'\n",
      " 'medical-care-facilities' 'internet-retail' 'building-products-equipment'\n",
      " 'credit-services' 'drug-manufacturers-specialty-generic'\n",
      " 'specialty-chemicals' 'oil-gas-midstream' 'silver'\n",
      " 'real-estate-development' 'airlines' 'banks-diversified'\n",
      " 'specialty-retail' 'reit-healthcare-facilities'\n",
      " 'specialty-business-services' 'trucking' 'travel-services'\n",
      " 'electronics-computer-distribution' 'real-estate-services'\n",
      " 'residential-construction' 'footwear-accessories' 'oil-gas-integrated'\n",
      " 'insurance-property-casualty' 'apparel-retail'\n",
      " 'oil-gas-refining-marketing' 'chemicals' 'medical-distribution'\n",
      " 'insurance-specialty' 'gambling' 'resorts-casinos'\n",
      " 'security-protection-services' 'textile-manufacturing' 'reit-office'\n",
      " 'auto-manufacturers' 'railroads' 'electronic-gaming-multimedia'\n",
      " 'oil-gas-drilling' 'industrial-distribution' 'insurance-reinsurance'\n",
      " 'agricultural-inputs' 'education-training-services' 'thermal-coal'\n",
      " 'reit-industrial' 'pollution-treatment-controls'\n",
      " 'utilities-independent-power-producers' 'health-information-services'\n",
      " 'copper' 'rental-leasing-services' 'aluminum' 'steel'\n",
      " 'home-improvement-retail' 'reit-residential' 'apparel-manufacturing'\n",
      " 'broadcasting' 'reit-mortgage' 'paper-paper-products'\n",
      " 'beverages-non-alcoholic' 'reit-hotel-motel' 'utilities-regulated-water'\n",
      " 'financial-conglomerates' 'uranium' 'department-stores' 'coking-coal'\n",
      " 'farm-products' 'grocery-stores' 'mortgage-finance' 'building-materials'\n",
      " 'lodging' 'food-distribution' 'lumber-wood-production'\n",
      " 'insurance-brokers' 'consumer-electronics'\n",
      " 'beverages-wineries-distilleries' 'infrastructure-operations'\n",
      " 'confectioners' 'other-precious-metals-mining'\n",
      " 'business-equipment-supplies' 'personal-services' 'luxury-goods'\n",
      " 'beverages-brewers' 'healthcare-plans' 'airports-air-services'\n",
      " 'pharmaceutical-retailers']\n",
      "Non-numeric values found in column: Industry Disp\n",
      "['Diagnostics & Research' 'Communication Equipment' 'Asset Management'\n",
      " 'Semiconductor Equipment & Materials' 'Financial Data & Stock Exchanges'\n",
      " 'Gold' 'Oil & Gas Equipment & Services' 'Aerospace & Defense'\n",
      " 'Medical Devices' 'Discount Stores' 'Restaurants'\n",
      " 'Internet Content & Information' 'Household & Personal Products'\n",
      " 'Packaged Foods' 'Tools & Accessories' 'Information Technology Services'\n",
      " 'Utilities - Regulated Electric' 'Entertainment'\n",
      " 'Medical Instruments & Supplies' 'Consulting Services'\n",
      " 'Advertising Agencies' 'Biotechnology' 'Auto Parts' 'Capital Markets'\n",
      " 'Oil & Gas E&P' 'Packaging & Containers' 'Engineering & Construction'\n",
      " 'Electrical Equipment & Parts' 'Software - Application'\n",
      " 'Software - Infrastructure' 'REIT - Diversified' 'Recreational Vehicles'\n",
      " 'Telecom Services' 'Auto & Truck Dealerships' 'Banks - Regional' 'Solar'\n",
      " 'Utilities - Renewable' 'REIT - Retail' 'Insurance - Life'\n",
      " 'Scientific & Technical Instruments' 'Computer Hardware'\n",
      " 'Specialty Industrial Machinery' 'Farm & Heavy Construction Machinery'\n",
      " 'Electronic Components' 'Drug Manufacturers - General' 'Marine Shipping'\n",
      " 'Conglomerates' 'Tobacco' 'Other Industrial Metals & Mining'\n",
      " 'Furnishings, Fixtures & Appliances' 'REIT - Specialty'\n",
      " 'Real Estate - Diversified' 'Utilities - Diversified' 'Publishing'\n",
      " 'Metal Fabrication' 'Waste Management' 'Staffing & Employment Services'\n",
      " 'Leisure' 'Integrated Freight & Logistics' 'Semiconductors'\n",
      " 'Utilities - Regulated Gas' 'Insurance - Diversified'\n",
      " 'Medical Care Facilities' 'Internet Retail'\n",
      " 'Building Products & Equipment' 'Credit Services'\n",
      " 'Drug Manufacturers - Specialty & Generic' 'Specialty Chemicals'\n",
      " 'Oil & Gas Midstream' 'Silver' 'Real Estate - Development' 'Airlines'\n",
      " 'Banks - Diversified' 'Specialty Retail' 'REIT - Healthcare Facilities'\n",
      " 'Specialty Business Services' 'Trucking' 'Travel Services'\n",
      " 'Electronics & Computer Distribution' 'Real Estate Services'\n",
      " 'Residential Construction' 'Footwear & Accessories'\n",
      " 'Oil & Gas Integrated' 'Insurance - Property & Casualty' 'Apparel Retail'\n",
      " 'Oil & Gas Refining & Marketing' 'Chemicals' 'Medical Distribution'\n",
      " 'Insurance - Specialty' 'Gambling' 'Resorts & Casinos'\n",
      " 'Security & Protection Services' 'Textile Manufacturing' 'REIT - Office'\n",
      " 'Auto Manufacturers' 'Railroads' 'Electronic Gaming & Multimedia'\n",
      " 'Oil & Gas Drilling' 'Industrial Distribution' 'Insurance - Reinsurance'\n",
      " 'Agricultural Inputs' 'Education & Training Services' 'Thermal Coal'\n",
      " 'REIT - Industrial' 'Pollution & Treatment Controls'\n",
      " 'Utilities - Independent Power Producers' 'Health Information Services'\n",
      " 'Copper' 'Rental & Leasing Services' 'Aluminum' 'Steel'\n",
      " 'Home Improvement Retail' 'REIT - Residential' 'Apparel Manufacturing'\n",
      " 'Broadcasting' 'REIT - Mortgage' 'Paper & Paper Products'\n",
      " 'Beverages - Non - Alcoholic' 'REIT - Hotel & Motel'\n",
      " 'Utilities - Regulated Water' 'Financial Conglomerates' 'Uranium'\n",
      " 'Department Stores' 'Coking Coal' 'Farm Products' 'Grocery Stores'\n",
      " 'Mortgage Finance' 'Building Materials' 'Lodging' 'Food Distribution'\n",
      " 'Lumber & Wood Production' 'Insurance Brokers' 'Consumer Electronics'\n",
      " 'Beverages - Wineries & Distilleries' 'Infrastructure Operations'\n",
      " 'Confectioners' 'Other Precious Metals & Mining'\n",
      " 'Business Equipment & Supplies' 'Personal Services' 'Luxury Goods'\n",
      " 'Beverages - Brewers' 'Healthcare Plans' 'Airports & Air Services'\n",
      " 'Pharmaceutical Retailers']\n",
      "Non-numeric values found in column: Sector Key\n",
      "['healthcare' 'technology' 'financial-services' 'basic-materials' 'energy'\n",
      " 'industrials' 'consumer-defensive' 'consumer-cyclical'\n",
      " 'communication-services' 'utilities' 'real-estate']\n",
      "Non-numeric values found in column: Sector Disp\n",
      "['Healthcare' 'Technology' 'Financial Services' 'Basic Materials' 'Energy'\n",
      " 'Industrials' 'Consumer Defensive' 'Consumer Cyclical'\n",
      " 'Communication Services' 'Utilities' 'Real Estate']\n",
      "Non-numeric values found in column: Long Business Summary\n",
      "['The fund normally invests at least 80% of assets in investment-grade municipal securities whose interest is exempt from federal income tax. It normally maintains a dollar-weighted average maturity between two and five years. The fund invests more than 25% of total assets in municipal securities that finance similar types of projects.'\n",
      " \"Exact Sciences Corporation provides cancer screening and diagnostic test products in the United States and internationally. The company offers Cologuard, a non-invasive stool-based DNA screening test to detect DNA and hemoglobin biomarkers associated with colorectal cancer and pre-cancer. It also provides Oncotype DX Breast Recurrence Score Test; Oncotype DX Breast DCIS Score Test; Oncotype DX Colon Recurrence Score Test; OncoExTra Test for tumor profiling for patients with advanced, metastatic, refractory, relapsed, or recurrent cancer; and Covid-19 testing services. The company's pipeline products focus on enhancing the Cologuard test's performance characteristics and developing blood and other fluid-based tests. It has license agreements with MAYO Foundation for Medical Education and Research, and Johns Hopkins University. Exact Sciences Corporation was incorporated in 1995 and is headquartered in Madison, Wisconsin.\"\n",
      " 'Zebra Technologies Corporation, together with its subsidiaries, provides enterprise asset intelligence solutions in the automatic identification and data capture solutions industry worldwide. It operates in two segments, Asset Intelligence & Tracking, and Enterprise Visibility & Mobility. The company designs, manufactures, and sells printers that produce labels, wristbands, tickets, receipts, and plastic cards; dye-sublimination thermal card printers that produce images, which are used for personal identification, access control, and financial transactions; radio frequency identification device (RFID) printers that encode data into passive RFID transponders; accessories and options for printers, including carrying cases, vehicle mounts, and battery chargers; stock and customized thermal labels, receipts, ribbons, plastic cards, and RFID tags for printers; and temperature-monitoring labels primarily used in vaccine distribution. It also provides various maintenance, technical support, repair, and managed and professional services; fixed readers, RFID enabled mobile computers, and RFID sleds; tags, sensors, exciters, middleware software, and application software; and physical inventory management solutions, and rugged and enterprise-grade mobile computing products and accessories, as well as real-time location systems and services. In addition, the company offers barcode scanners and imagers, RFID readers, industrial machine vision cameras, and fixed industrial scanners; workforce management, workflow execution and task management, and prescriptive analytics, as well as communications and collaboration solutions; and cloud-based software subscriptions, retail, and robotics automation solutions. The company serves retail and e-commerce, manufacturing, transportation and logistics, healthcare, public sector, and other industries through direct sales force, and network of channel partners. The company was founded in 1969 and is headquartered in Lincolnshire, Illinois.'\n",
      " ...\n",
      " 'TDK Corporation, together with its subsidiaries, engages in manufacture and sale of electronic components in Japan, Europe, China, Asia, the Americas, and internationally. The company operates through Passive Components, Sensor Application Products, Magnetic Application Products, Energy Application Products, and Other segments. The Passive Components segment offers ceramic capacitors, aluminum electrolytic capacitors, film capacitors, high-frequency components, piezoelectric materials, and circuit protection components, as well as inductive devices, including ferrite cores, coils, and transformers. The Sensor Application Products segment provides temperature and pressure, magnetic, and MEMS sensors. The Magnetic Application Products segment offers hard disk drives (HDD) heads, HDD suspension assemblies, and magnets. The Energy Application Products segment provides energy devices comprising rechargeable batteries, and power supplies. The Other segment provides mechatronics production equipment and camera module micro actuators for smartphones and other products. The company also engages in engages in insurance and real estate agency businesses. The company was formerly known as Tokyo Denki Kagaku Kogyo K.K. and changed its name to TDK Corporation in 1983. TDK Corporation was founded in 1935 and is headquartered in Tokyo, Japan.'\n",
      " 'New Mountain Finance Corporation (Nasdaq: NMFC), a business development company is a private equity / buyouts and loan fund specializes in directly investing and lending to middle market companies in \\x93defensive growth\\x94 industries. The fund prefers investing in buyout and middle market companies. It also makes investments in debt securities at all levels of the capital structure including first and second lien debt, unsecured notes, and mezzanine securities. In some cases, its investments may also include equity interests. It targets energy, engineering and consulting services, specialty chemicals and materials, trading companies and distributors, commercial printing, diversified support services, education services, environmental and facilities services, office services and supplies, media, distributors, health care services, health care facilities, application software, business services, systems software, federal services, distribution and logistics, interactive home entertainment, telecommunication services, hydroelectric power generation, electric power generation by fossil fuels, electric power generation by nuclear fuels, health care technology, and security and alarm services. The fund seeks to invest in United States of America. It seeks to invest between $10 million and $125 million per transaction. The firm invests through both primary originations and open-market secondary purchases. It invests in companies with EBITDA between $10 million and $200 million. The fund seeks a majority stake in its portfolio companies.'\n",
      " \"Bank of Montreal provides diversified financial services primarily in North America. It operates through Canadian P&C, U.S P&C, BMO Wealth Management, and BMO Capital Markets segments. The company's personal banking products and services include deposits, mortgages, home lending, consumer credit, small business lending, credit cards, cash management, financial and investment advice, and other banking services; and commercial banking products and services comprise various of financing options and treasury and payment solutions, as well as risk management products. It also offers investing, banking, and wealth management advisory; digital investing services; financial solutions for individuals, families, and businesses; provides investment management services to institutional, retail, and high net worth investors; and diversified insurance, and wealth and pension de-risking solutions. In addition, the company provides individual life, critical illness and annuity products, as well as segregated funds, and group creditor and travel insurance to customers; debt and equity capital-raising, loan origination and syndication, balance sheet management, treasury management, mergers and acquisitions advice, restructurings and recapitalizations, trade finance, and risk mitigation services, as well as a range of banking and other operating services. Further, the company offers research and access to financial markets for institutional, corporate and retail clients through an integrated suite of sales and trading solutions related to debt, foreign exchange, interest rates, credit, equities, securitization, and commodities; provides new product development and origination services, as well as risk management and advisory services for hedging strategies, including in interest rates, foreign exchange rates and commodities prices; and funding and liquidity management services. The company was founded in 1817 and is headquartered in Montreal, Canada.\"]\n",
      "Non-numeric values found in column: Company Officers\n",
      "[\"[{'maxAge': 1, 'name': 'Mr. Kevin T. Conroy', 'age': 57, 'title': 'Chairman of The Board & CEO', 'yearBorn': 1966, 'fiscalYear': 2023, 'totalPay': 3143663, 'exercisedValue': 0, 'unexercisedValue': 23814904}, {'maxAge': 1, 'name': 'Mr. Jake  Orville MBA', 'age': 49, 'title': 'Executive VP & General Manager of Pipeline', 'yearBorn': 1974, 'fiscalYear': 2023, 'totalPay': 1037212, 'exercisedValue': 0, 'unexercisedValue': 0}, {'maxAge': 1, 'name': 'Mr. Brian  Baranick', 'age': 45, 'title': 'Executive VP & General Manager of Precision Oncology', 'yearBorn': 1978, 'fiscalYear': 2023, 'totalPay': 942890, 'exercisedValue': 0, 'unexercisedValue': 0}, {'maxAge': 1, 'name': 'Mr. Aaron  Bloomer', 'age': 37, 'title': 'Chief Financial Officer', 'yearBorn': 1986, 'fiscalYear': 2023, 'exercisedValue': 0, 'unexercisedValue': 0}, {'maxAge': 1, 'name': 'Dr. Jorge A. Garces Ph.D.', 'age': 51, 'title': 'Chief Science Officer', 'yearBorn': 1972, 'fiscalYear': 2023, 'exercisedValue': 0, 'unexercisedValue': 0}, {'maxAge': 1, 'name': 'Mr. Nassar  Nizami', 'title': 'Chief Information Officer', 'fiscalYear': 2023, 'exercisedValue': 0, 'unexercisedValue': 0}, {'maxAge': 1, 'name': 'Ms. Megan  Jones', 'title': 'Associate Manager of Investor Relations', 'fiscalYear': 2023, 'exercisedValue': 0, 'unexercisedValue': 0}, {'maxAge': 1, 'name': 'Mr. Tim  Caprez', 'title': 'Chief Compliance Counsel & VP', 'fiscalYear': 2023, 'exercisedValue': 0, 'unexercisedValue': 0}, {'maxAge': 1, 'name': 'Mr. James  Herriott', 'age': 43, 'title': 'Senior VP, General Counsel & Secretary', 'yearBorn': 1980, 'fiscalYear': 2023, 'exercisedValue': 0, 'unexercisedValue': 0}, {'maxAge': 1, 'name': 'Ms. Sarah  Condella', 'age': 42, 'title': 'Executive Vice President of Human Resources', 'yearBorn': 1981, 'fiscalYear': 2023, 'totalPay': 742763, 'exercisedValue': 0, 'unexercisedValue': 844423}]\"\n",
      " '[{\\'maxAge\\': 1, \\'name\\': \\'Mr. William J. Burns\\', \\'age\\': 56, \\'title\\': \\'CEO & Director\\', \\'yearBorn\\': 1967, \\'fiscalYear\\': 2023, \\'totalPay\\': 1259359, \\'exercisedValue\\': 0, \\'unexercisedValue\\': 2401634}, {\\'maxAge\\': 1, \\'name\\': \\'Mr. Nathan Andrew Winters\\', \\'age\\': 43, \\'title\\': \\'Chief Financial Officer\\', \\'yearBorn\\': 1980, \\'fiscalYear\\': 2023, \\'totalPay\\': 762569, \\'exercisedValue\\': 0, \\'unexercisedValue\\': 102082}, {\\'maxAge\\': 1, \\'name\\': \\'Ms. Cristen L. Kogl\\', \\'age\\': 57, \\'title\\': \\'Chief Legal Officer, General Counsel & Corporate Secretary\\', \\'yearBorn\\': 1966, \\'fiscalYear\\': 2023, \\'totalPay\\': 741897, \\'exercisedValue\\': 0, \\'unexercisedValue\\': 671493}, {\\'maxAge\\': 1, \\'name\\': \\'Mr. Jeffrey F. Schmitz\\', \\'age\\': 59, \\'title\\': \\'Chief People Officer\\', \\'yearBorn\\': 1964, \\'fiscalYear\\': 2023, \\'totalPay\\': 646746, \\'exercisedValue\\': 0, \\'unexercisedValue\\': 151583}, {\\'maxAge\\': 1, \\'name\\': \\'Mr. Joseph Ramsey White\\', \\'age\\': 53, \\'title\\': \\'Chief Product & Solutions Officer\\', \\'yearBorn\\': 1970, \\'fiscalYear\\': 2023, \\'totalPay\\': 777573, \\'exercisedValue\\': 0, \\'unexercisedValue\\': 355511}, {\\'maxAge\\': 1, \\'name\\': \"Ms. Colleen M. O\\'Sullivan\", \\'age\\': 56, \\'title\\': \\'Senior VP & Chief Accounting Officer\\', \\'yearBorn\\': 1967, \\'fiscalYear\\': 2023, \\'exercisedValue\\': 0, \\'unexercisedValue\\': 0}, {\\'maxAge\\': 1, \\'name\\': \\'Mr. Tom  Bianculli\\', \\'title\\': \\'Chief Technology Officer\\', \\'fiscalYear\\': 2023, \\'exercisedValue\\': 0, \\'unexercisedValue\\': 0}, {\\'maxAge\\': 1, \\'name\\': \\'Mr. Matt  Ausman\\', \\'title\\': \\'Chief Information Officer\\', \\'fiscalYear\\': 2023, \\'exercisedValue\\': 0, \\'unexercisedValue\\': 0}, {\\'maxAge\\': 1, \\'name\\': \\'Mr. Michael A. Steele C.F.A., IRC\\', \\'age\\': 50, \\'title\\': \\'Vice President of Investor Relations\\', \\'yearBorn\\': 1973, \\'fiscalYear\\': 2023, \\'exercisedValue\\': 0, \\'unexercisedValue\\': 0}, {\\'maxAge\\': 1, \\'name\\': \\'Mr. Robert John Armstrong\\', \\'age\\': 41, \\'title\\': \\'Chief Marketing Officer\\', \\'yearBorn\\': 1982, \\'fiscalYear\\': 2023, \\'exercisedValue\\': 0, \\'unexercisedValue\\': 0}]'\n",
      " \"[{'maxAge': 1, 'name': 'Mr. Daniel John Ivascyn', 'age': 53, 'title': 'Portfolio Manager', 'yearBorn': 1970, 'exercisedValue': 0, 'unexercisedValue': 0}, {'maxAge': 1, 'name': 'Mr. Lew Wallace Jacobs IV', 'age': 52, 'title': 'President and Managing Director', 'yearBorn': 1971, 'exercisedValue': 0, 'unexercisedValue': 0}]\"\n",
      " ...\n",
      " \"[{'maxAge': 1, 'name': 'Mr. Noboru  Saito', 'age': 57, 'title': 'President, CEO, GM of Humidifier Countermeasures HQ & Representative Director', 'yearBorn': 1966, 'fiscalYear': 2024, 'totalPay': 650292, 'exercisedValue': 0, 'unexercisedValue': 0}, {'maxAge': 1, 'name': 'Mr. Tetsuji  Yamanishi', 'age': 63, 'title': 'CFO, Senior Executive VP & Director', 'yearBorn': 1960, 'fiscalYear': 2024, 'totalPay': 594948, 'exercisedValue': 0, 'unexercisedValue': 0}, {'maxAge': 1, 'name': 'Mr. Shigeki  Sato', 'age': 59, 'title': 'CTO, Senior VP, GM of Technology & Intellectual Property HQ & Director', 'yearBorn': 1964, 'fiscalYear': 2024, 'exercisedValue': 0, 'unexercisedValue': 0}, {'maxAge': 1, 'name': 'Ikuo  Fukuchi', 'title': 'Corporate Officer, Global Chief Compliance Officer and GM of Legal & Compliance HQ', 'fiscalYear': 2024, 'exercisedValue': 0, 'unexercisedValue': 0}, {'maxAge': 1, 'name': 'Mr. Michael  Pocsatko', 'title': 'Senior VP and GM of Corporate Marketing & Incubation HQ', 'fiscalYear': 2024, 'exercisedValue': 0, 'unexercisedValue': 0}, {'maxAge': 1, 'name': 'Mr. Andreas  Keller', 'title': 'Senior VP, GM of Human Resources HQ and Chief People & Sustainability Officer', 'fiscalYear': 2024, 'exercisedValue': 0, 'unexercisedValue': 0}, {'maxAge': 1, 'name': 'Mr. Kim Guan  Ong', 'title': 'Corporate Officer', 'fiscalYear': 2024, 'exercisedValue': 0, 'unexercisedValue': 0}, {'maxAge': 1, 'name': 'Takao  Tsutsui', 'title': 'Corporate Officer', 'fiscalYear': 2024, 'exercisedValue': 0, 'unexercisedValue': 0}, {'maxAge': 1, 'name': 'Takeshi  Takahashi', 'title': 'Corporate Officer, GM of Quality Assurance HQ and Chief Officer of Quality, Safety & Environment', 'fiscalYear': 2024, 'exercisedValue': 0, 'unexercisedValue': 0}, {'maxAge': 1, 'name': 'Mr. Fumio  Sashida', 'title': 'Corporate Officer', 'fiscalYear': 2024, 'exercisedValue': 0, 'unexercisedValue': 0}]\"\n",
      " \"[{'maxAge': 1, 'name': 'Mr. John R. Kline', 'age': 48, 'title': 'President, CEO & Director', 'yearBorn': 1975, 'fiscalYear': 2023, 'exercisedValue': 0, 'unexercisedValue': 0}, {'maxAge': 1, 'name': 'Mr. Adam B. Weinstein CPA', 'age': 44, 'title': 'Chief Administrative Officer, Executive VP & Director', 'yearBorn': 1979, 'fiscalYear': 2023, 'exercisedValue': 0, 'unexercisedValue': 0}, {'maxAge': 1, 'name': 'Mr. Kris  Corbett', 'age': 47, 'title': 'CFO & Treasurer', 'yearBorn': 1976, 'fiscalYear': 2023, 'exercisedValue': 0, 'unexercisedValue': 0}, {'maxAge': 1, 'name': 'Ms. Laura Holson Boswerger', 'age': 37, 'title': 'Chief Operating Officer', 'yearBorn': 1986, 'fiscalYear': 2023, 'exercisedValue': 0, 'unexercisedValue': 0}]\"\n",
      " \"[{'maxAge': 1, 'name': 'Mr. William Darryl White', 'age': 51, 'title': 'CEO & Director', 'yearBorn': 1972, 'fiscalYear': 2023, 'totalPay': 2865510, 'exercisedValue': 0, 'unexercisedValue': 0}, {'maxAge': 1, 'name': 'Mr. Tayfun  Tuzun', 'age': 58, 'title': 'Chief Financial Officer', 'yearBorn': 1965, 'fiscalYear': 2023, 'totalPay': 1170774, 'exercisedValue': 0, 'unexercisedValue': 0}, {'maxAge': 1, 'name': 'Mr. Steve  Tennyson C.F.A.', 'title': 'Chief Technology & Operations Officer', 'fiscalYear': 2023, 'totalPay': 1323881, 'exercisedValue': 0, 'unexercisedValue': 0}, {'maxAge': 1, 'name': 'Ms. Erminia  Johannson', 'title': 'Group Head of North American Personal & Business Banking', 'fiscalYear': 2023, 'totalPay': 1481300, 'exercisedValue': 0, 'unexercisedValue': 0}, {'maxAge': 1, 'name': 'Ms. Christine  Viau', 'title': 'Head of Investor Relations', 'fiscalYear': 2023, 'exercisedValue': 0, 'unexercisedValue': 0}, {'maxAge': 1, 'name': 'Ms. Sharon Marie Haward-Laird', 'title': 'General Counsel', 'fiscalYear': 2023, 'exercisedValue': 0, 'unexercisedValue': 0}, {'maxAge': 1, 'name': 'Ms. Kimberley Crews Goode', 'title': 'Chief Communications & Social Impact Officer', 'fiscalYear': 2023, 'exercisedValue': 0, 'unexercisedValue': 0}, {'maxAge': 1, 'name': 'Ms. Catherine Margaret Roche', 'title': 'Chief Marketing Officer', 'fiscalYear': 2023, 'exercisedValue': 0, 'unexercisedValue': 0}, {'maxAge': 1, 'name': 'Ms. Mona  Malone', 'title': 'Chief Human Resources Officer and Head of People, Culture & Brand', 'fiscalYear': 2023, 'exercisedValue': 0, 'unexercisedValue': 0}, {'maxAge': 1, 'name': 'Mr. Richard D. Rudderham', 'title': 'Head of Business Tech. Integration & Interim Head of Ent. Initiatives, Infrastructure and Innovation', 'fiscalYear': 2023, 'exercisedValue': 0, 'unexercisedValue': 0}]\"]\n",
      "Non-numeric values found in column: IR Website\n",
      "['http://investor.exactsciences.com'\n",
      " 'http://www.zebra.com/id/zebra/na/en/index/about_zebra/investor_relations.html'\n",
      " 'http://ir.dqsolar.com/phoenix.zhtml?c=234265&p=irol-IRHome'\n",
      " 'http://www.woodward.com/investors.aspx'\n",
      " 'http://investor.darden.com/investors/investor-relations/default.aspx'\n",
      " 'http://www.pg.com/en_US/investors/index.shtml'\n",
      " 'https://www.aep.com/investors/'\n",
      " 'http://investors.cbscorporation.com/phoenix.zhtml?c=99462&p=irol-irhome'\n",
      " 'http://investor.merit.com/phoenix.zhtml?c=65799&p=irol-irhome'\n",
      " 'http://www.equifax.com/investor_center/en_us'\n",
      " 'http://www.omnicomgroup.com/InvestorRelations'\n",
      " 'http://www.wisconsinenergy.com/invest/investor.htm'\n",
      " 'http://investor.shareholder.com/biocryst/index.cfm'\n",
      " 'http://www.inpex.co.jp/english/ir/index.html'\n",
      " 'http://ir.sealedair.com/phoenix.zhtml?c=104693&p=irol-irhome'\n",
      " 'http://www.amg.com/InvestorRelations/' 'http://www.thorindustries.com/'\n",
      " 'http://www.pldt.com.ph/investor/Pages/Investor.aspx'\n",
      " 'http://phx.corporate-ir.net/phoenix.zhtml?c=113281&p=irol-IRHome'\n",
      " 'http://investors.autonation.com/phoenix.zhtml?c=85803&p=irol-irhome'\n",
      " 'http://ir.marathonoil.com/index.cfm'\n",
      " 'http://ir.netscout.com/phoenix.zhtml?c=92658&p=irol-irhome'\n",
      " 'http://www.tel.com/ir/index.htm'\n",
      " 'http://www.investors.unum.com/phoenix.zhtml?c=112190&p=irol-irhome'\n",
      " 'http://ir.eqt.com/' 'http://ir.fhnc.com/index.cfm'\n",
      " 'http://www.smcworld.com/docs/ir/en/'\n",
      " 'http://phx.corporate-ir.net/phoenix.zhtml?c=83523&p=irol-stockquote'\n",
      " 'http://investors.flextronics.com/phoenix.zhtml?c=98555&p=irol-irhome'\n",
      " 'http://investors.amgen.com/phoenix.zhtml?c=61656&p=irol-IRHome'\n",
      " 'http://www.stoneridge.com/investor/stock.aspx'\n",
      " 'http://www.starbulk.com/en/investor-relations'\n",
      " 'http://www.unilever.com/investorrelations/'\n",
      " 'http://www.dai-ichi-life.co.jp/english/investor/index.html'\n",
      " 'http://investor.taser.com/phoenix.zhtml?c=129937&p=irol-IRHome'\n",
      " 'http://phx.corporate-ir.net/phoenix.zhtml?c=148615&p=irol-irhome'\n",
      " 'http://phx.corporate-ir.net/phoenix.zhtml?c=95954&p=irol-IRHome'\n",
      " 'http://www.kentaku.co.jp/e/ir/index.html'\n",
      " 'http://phx.corporate-ir.net/phoenix.zhtml?c=80253&p=irol-IRHome'\n",
      " 'http://www.unisys.com/unisys/about/investorrelations.jsp?id=202'\n",
      " 'http://www.pplweb.com/investors.aspx'\n",
      " 'http://investors.wm.com/phoenix.zhtml?c=119743&p=irol-IRHome'\n",
      " 'http://ir.insperity.com/phoenix.zhtml?c=105568&p=irol-irhome'\n",
      " 'http://phx.corporate-ir.net/phoenix.zhtml?c=97944&p=irol-stockquotechart'\n",
      " 'http://investor.diodes.com/phoenix.zhtml?c=62202&p=irol-IRHome'\n",
      " 'http://investor.suburbanpropane.com/phoenix.zhtml?c=75495&p=irol-IRHome'\n",
      " 'http://www.bladex.com/investors'\n",
      " 'http://www.telkom.co.id/investor-relation/'\n",
      " 'http://www.biglots.com/corporate/investor-relations'\n",
      " 'http://phx.corporate-ir.net/phoenix.zhtml?c=71354&p=irol-irhome'\n",
      " 'http://www.novonordisk.com/investors/default.asp'\n",
      " 'http://phx.corporate-ir.net/phoenix.zhtml?c=75598&p=irol-investors'\n",
      " 'http://ir.libertyinteractive.com/index.cfm'\n",
      " 'http://www.westpharma.com/en/Investors/Pages/default.aspx'\n",
      " 'http://investor.wd40company.com/phoenix.zhtml?c=104082&p=irol-IRHome'\n",
      " 'http://ir.graftech.com/phoenix.zhtml?c=114451&p=irol-irhome'\n",
      " 'http://investor.weyerhaeuser.com/phoenix.zhtml?c=92287&p=irol-irhome'\n",
      " 'http://www.drewindustries.com/index.php?option=com_wrapper&view=wrapper&Itemid=28'\n",
      " 'http://www.unicharm.co.jp/english/ir/index.html'\n",
      " 'http://www.emcore.com/investor' 'http://ir.regions.com/'\n",
      " 'http://www.perrigo.com/investors/investor_landing.aspx'\n",
      " 'http://southwest.investorroom.com/' 'http://www.mufg.jp/english/ir/'\n",
      " 'http://investor.jetblue.com/phoenix.zhtml?c=131045&p=irol-irhome'\n",
      " 'http://trow.client.shareholder.com/'\n",
      " 'http://www.ventasreit.com/investor-relations'\n",
      " 'http://phx.corporate-ir.net/phoenix.zhtml?c=71810&p=irol-irhome'\n",
      " 'http://www.churchdwight.com/investors.aspx' 'http://ir.nektar.com/'\n",
      " 'http://investors.cognizant.com/'\n",
      " 'http://phx.corporate-ir.net/phoenix.zhtml?c=112039&p=irol-irhome'\n",
      " 'http://www.appliedmaterials.com/investor-relations'\n",
      " 'http://investor.visa.com/phoenix.zhtml?c=215693&p=irol-IRHome'\n",
      " 'http://phx.corporate-ir.net/phoenix.zhtml?c=103045&p=irol-irhome'\n",
      " 'http://investor.arrow.com/phoenix.zhtml?c=85834&p=irol-stockChart'\n",
      " 'http://ir.thermofisher.com/phoenix.zhtml?c=89145&p=irol-IRHome'\n",
      " 'http://ir.priceline.com/' 'http://www.vestas.com/en/investor.aspx'\n",
      " 'http://www.terex.com/en/investor-relations/index.htm'\n",
      " 'http://www.coli.com.hk/En/Investor/index.aspx'\n",
      " 'http://phx.corporate-ir.net/phoenix.zhtml?c=82105&p=irol-irhome'\n",
      " 'http://www.goodyear.com/investor/'\n",
      " 'http://ir.barnesgroupinc.com/phoenix.zhtml?c=79454&p=irol-IRHome'\n",
      " 'http://www.dexcom.com/about-dexcom/investor-relations'\n",
      " 'http://investor.ptc.com/' 'http://www.investquest.com/iq/r/rcky/'\n",
      " 'https://www.snl.com/irweblinkx/corporateprofile.aspx?iid=100334'\n",
      " 'http://investor.cna.com/phoenix.zhtml?c=104503&p=irol-irhome'\n",
      " 'http://phx.corporate-ir.net/phoenix.zhtml?c=75042&p=irol-IRHome'\n",
      " 'http://ir.towerjazz.com/phoenix.zhtml?c=79678&p=irol-irhome'\n",
      " 'http://investor.ecolab.com/'\n",
      " 'http://investors.te.com/phoenix.zhtml?c=209396&p=irol-irhome'\n",
      " 'http://www.bnymellon.com/investorrelations/index.html'\n",
      " 'http://investors.crocs.com/phoenix.zhtml?c=193409&p=irol-irhome'\n",
      " 'http://investors.aptar.com/phoenix.zhtml?c=109617&p=irol-IRHome'\n",
      " 'http://ir.acadia-pharm.com/phoenix.zhtml?c=125180&p=irol-irhome'\n",
      " 'http://investor.owenscorning.com/investors/investor-relations-home'\n",
      " 'http://www.corusent.com/home/Corporate/InvestorRelations/tabid/1675/Default.aspx'\n",
      " 'http://investors.cleanenergyfuels.com/'\n",
      " 'http://investor.dolby.com/stockquote.cfm'\n",
      " 'http://www.investors.amadeus.com/english/inv_relations/'\n",
      " 'http://ir.amerisbank.com/corporateprofile.aspx?iid=100594'\n",
      " 'http://ir.cardinalhealth.com/'\n",
      " 'http://corporate.morningstar.com/US/asp/subject.aspx?xmlfile=423.xml'\n",
      " 'http://phx.corporate-ir.net/phoenix.zhtml?c=89087&p=irol-irhome'\n",
      " 'http://www.inditex.com/en/shareholders_and_investors/investor_relations/share'\n",
      " 'http://phx.corporate-ir.net/phoenix.zhtml?c=80547&p=irol-IRHome'\n",
      " 'http://phx.corporate-ir.net/phoenix.zhtml?c=108789&p=irol-irhome'\n",
      " 'http://www.toray.com/ir/index.html'\n",
      " 'http://www.ppg.com/corporate/investorcenter/Pages/new.aspx'\n",
      " 'http://www.idacorpinc.com/investorRelations/default.cfm'\n",
      " 'http://phx.corporate-ir.net/phoenix.zhtml?c=105112&p=irol-irhome'\n",
      " 'http://investors.amdocs.com/phoenix.zhtml?c=113915&p=irol-IRHome'\n",
      " 'http://www.cpr.ca/en/invest-in-cp/Pages/default.aspx'\n",
      " 'http://investors.amedisys.com/phoenix.zhtml?c=64257&p=irol-IRHome'\n",
      " 'http://www.f5.com/about/investor-relations/'\n",
      " 'http://www.panamericansilver.com/investors/'\n",
      " 'http://www.sensient.com/financial/quote.htm' 'http://investor.ea.com/'\n",
      " 'http://www.rockwellautomation.com/rockwellautomation/about-us/investor-relations/overview.page?'\n",
      " 'http://phx.corporate-ir.net/phoenix.zhtml?c=78137&p=irol-irhome'\n",
      " 'http://ir.hillenbrandinc.com/' 'http://ir.jbtcorporation.com/'\n",
      " 'http://www.vodafone.com/content/index/investors.html'\n",
      " 'http://www.gapinc.com/content/gapinc/html/investors.html'\n",
      " 'http://www.aboutschwab.com/investor_relations'\n",
      " 'http://www.rbc.com/investorrelations/index.html'\n",
      " 'http://investorcenter.slb.com/phoenix.zhtml?c=97513&p=irol-irhome'\n",
      " 'http://www.intc.com/?iid=ftr+invrel'\n",
      " 'http://phx.corporate-ir.net/phoenix.zhtml?c=98901&p=irol-irhome'\n",
      " 'http://investor.illumina.com/phoenix.zhtml?c=121127&p=IROL-irhome'\n",
      " 'http://investor.fastenal.com/index.cfm'\n",
      " 'http://www.investquest.com/iq/a/adp/'\n",
      " 'http://www.td-holdings.co.jp/en/ir/' 'http://global.epson.com/IR/'\n",
      " 'http://alamo-group.net/Investor_Relations.html'\n",
      " 'http://www.nksj-hd.com/en/ir/'\n",
      " 'http://www.daiichisankyo.com/media_investors/investor_relations/index.html'\n",
      " 'http://investor.wdc.com/' 'http://www.exelixis.com/investors-media'\n",
      " 'http://phx.corporate-ir.net/phoenix.zhtml?c=66043&p=irol-irhome'\n",
      " 'http://ir.ccbn.com/ir.zhtml?t=IPG&s=2100'\n",
      " 'http://phx.corporate-ir.net/phoenix.zhtml?c=108235&p=irol-irhome'\n",
      " 'http://www.sunlife.com/Global/Investors?vgnLocale=en_CA'\n",
      " 'http://phx.corporate-ir.net/phoenix.zhtml?c=62272&p=irol-irhome'\n",
      " 'http://www.santander.com/csgs/Satellite?appID=santander.wc.CFWCSancomQP01&canal=CSCORP&cid=1278677292437&empr=CFWCSancomQP01&leng=en_GB&pagename=CFWCSancomQP01%2FPage%2FCFQP01_PageSubhome5_PT6'\n",
      " 'http://www.arrowheadresearch.com/invest.html'\n",
      " 'http://www.mec.co.jp/e/investor/index.html'\n",
      " 'http://investors.watsco.com/phoenix.zhtml?c=94992&p=irol-irhome'\n",
      " 'http://investor.digitalrealty.com/corporateprofile.aspx?iid=4094311'\n",
      " 'http://investors.simon.com/phoenix.zhtml?c=113968&p=irol-IRHome&m=1&s=0'\n",
      " 'http://ir.exxonmobil.com/phoenix.zhtml?c=115024&p=irol-irhome'\n",
      " 'http://ir.teldta.com/phoenix.zhtml?c=67422&p=irol-irhome'\n",
      " 'http://www.exeloncorp.com/performance/investors/overview.aspx'\n",
      " 'http://investors.emergentbiosolutions.com/phoenix.zhtml?c=202582&p=irol-irhome#node/150'\n",
      " 'http://phx.corporate-ir.net/phoenix.zhtml?c=68228&p=irol-irhome'\n",
      " 'http://mgmresorts.investorroom.com/index.php?s=122'\n",
      " 'http://www.snl.com/irweblinkx/corporateprofile.aspx?iid=4165163'\n",
      " 'http://skx.com/investor.jsp'\n",
      " 'http://ir.uhsinc.com/phoenix.zhtml?c=105817&p=irol-IRHome'\n",
      " 'http://www.vrtx.com/finances.html'\n",
      " 'http://www.nidec.co.jp/english/ir/index.html'\n",
      " 'http://anss.client.shareholder.com/index.cfm'\n",
      " 'http://www.fcx.com/ir/index.htm' 'http://investors.ryder.com/'\n",
      " 'http://investorrelations.gd.com/phoenix.zhtml?c=85778&p=irol-irhome'\n",
      " 'http://phx.corporate-ir.net/phoenix.zhtml?c=107246&p=irol-irhome'\n",
      " 'http://www.deckers.com/investors' 'http://www.digimarc.com/investors'\n",
      " 'http://www.jhfunds.com/Fund/Performance.aspx?ProductType=ClosedEnd&FundID=34700&ClassCode=CE&BackToFundTableType=Price'\n",
      " 'http://phx.corporate-ir.net/phoenix.zhtml?c=70735&p=irol-irhome'\n",
      " 'http://www.sabre-holdings.com/investor/'\n",
      " 'http://ir.commvault.com/phoenix.zhtml?c=197582&p=irol-IRHome'\n",
      " 'http://www.eastman.com/Company/Investors/Pages/Introduction.aspx'\n",
      " 'http://www.transcanada.com/investorcentre.html'\n",
      " 'http://ir.kratosdefense.com/index.cfm'\n",
      " 'http://www.abercrombie.com/anf/investors/investorrelations.html'\n",
      " 'http://www.mol.co.jp/ir-e/index.html'\n",
      " 'http://investor.insmed.com/stockquote.cfm'\n",
      " 'http://investor.accenture.com/phoenix.zhtml?c=129731&p=irol-irhome'\n",
      " 'http://english.jr-central.co.jp/company/ir/index.html'\n",
      " 'https://www.frostbank.com/Pages/Investor-Relations.aspx'\n",
      " 'http://www.ing.com/Our-Company/Investor-relations.htm'\n",
      " 'http://www.stifel.com/investor-relations'\n",
      " 'http://www.brambles.com/investor-centre'\n",
      " 'http://phx.corporate-ir.net/phoenix.zhtml?c=97464&p=irol-irhome'\n",
      " 'http://www.pinnaclewest.com/main/pnw/investors/default.html'\n",
      " 'http://www.aciworldwide.com/en/Who-we-are/Investor-relations.aspx'\n",
      " 'http://phx.corporate-ir.net/phoenix.zhtml?c=101912&p=irol-irhome'\n",
      " 'http://investor.itw.com/phoenix.zhtml?c=71064&p=irol-irhome'\n",
      " 'http://phx.corporate-ir.net/phoenix.zhtml?c=118965&p=irol-irhome'\n",
      " 'http://ir.energyrecovery.com/phoenix.zhtml?c=221013&p=irol-IRHome'\n",
      " 'http://corporate.ford.com/our-company/investors'\n",
      " 'http://www.canon.com/ir/' 'http://www.nucor.com/investor/'\n",
      " 'http://www.aig.com/investors_3171_437776.html'\n",
      " 'https://www.salliemae.com/about/investors/'\n",
      " 'http://www.cokeconsolidated.com/investor-relations.aspx'\n",
      " 'http://phx.corporate-ir.net/phoenix.zhtml?c=64847&p=irol-IRHome'\n",
      " 'http://www.bp.com/sectionbodycopy.do?categoryId=132&contentId=7063897'\n",
      " 'http://www.snl.com/irweblinkx/corporateprofile.aspx?iid=1019950'\n",
      " 'http://www.oge.com/investor-relations/Pages/InvestorRelations.aspx'\n",
      " 'http://investors.itron.com/'\n",
      " 'http://phx.corporate-ir.net/phoenix.zhtml?c=130560&p=irol-irhome'\n",
      " 'http://phx.corporate-ir.net/phoenix.zhtml?c=99690&p=irol-stockquote'\n",
      " 'http://phx.corporate-ir.net/phoenix.zhtml?c=116051&p=irol-irhome'\n",
      " 'http://www.lithia.com/index.cfm?action=dealerlink&Link=1016263&linkname=Lithia%20Investor%20Relations'\n",
      " 'http://ir.aquaamerica.com/'\n",
      " 'http://www.macerich.com/investing/investing.aspx?v=overview'\n",
      " 'http://investor.kbhome.com/' 'http://investors.stratasys.com/'\n",
      " 'http://investor.conagrafoods.com/phoenix.zhtml?c=97518&p=irol-irhome'\n",
      " 'http://www.allstateinvestors.com/phoenix.zhtml?c=93125&p=irol-irhome'\n",
      " 'http://www.snl.com/IRWebLinkX/stockinfo.aspx?iid=1023792'\n",
      " 'http://phx.corporate-ir.net/phoenix.zhtml?c=77968&p=irol-Irhome'\n",
      " 'http://www.aaon.com/Investors'\n",
      " 'http://www.merck.com/investors/home.html'\n",
      " 'http://ir.centurylink.com/phoenix.zhtml?c=112635&p=irol-IRHome'\n",
      " 'http://www.emcorgroup.com/investors_relations'\n",
      " 'http://phx.corporate-ir.net/phoenix.zhtml?c=90687&p=irol-irhome'\n",
      " 'http://ir.acadiarealty.com/phoenix.zhtml?c=61503&p=irol-irhome'\n",
      " 'http://ir.chartindustries.com/'\n",
      " 'http://www.snl.com/irweblinkx/corporateprofile.aspx?iid=103064'\n",
      " 'http://www.mastec.com/en/investors/'\n",
      " 'http://www.macysinc.com/Investors/'\n",
      " 'http://ri.embraer.com.br/default.aspx?linguagem=en'\n",
      " 'http://www.flotekind.com/investors'\n",
      " 'http://investor.cirrus.com/index.cfm'\n",
      " 'http://phx.corporate-ir.net/phoenix.zhtml?c=76792&p=irol-irhome'\n",
      " 'http://ir.mainstcapital.com/'\n",
      " 'http://ir.atimetals.com/phoenix.zhtml?c=98187&p=irol-irhome'\n",
      " 'http://ir.vulcanmaterials.com/investor-relations/default.aspx'\n",
      " 'http://www.drhorton.com/Company-Information/Investors.aspx'\n",
      " 'http://investors.kaiseraluminum.com/stockquote.cfm'\n",
      " 'http://phx.corporate-ir.net/phoenix.zhtml?c=83830&p=irol-irhome&cm_re=1_en-_-Bottom_Nav-_-Bottom_investor&lang=en-US'\n",
      " 'http://www.lasertec.co.jp/en/ir/index.html'\n",
      " 'http://www.churchilldowns.com/about/investor.html'\n",
      " 'http://www.chk.com/Investors/Pages/Default.aspx'\n",
      " 'http://www.qualcomm.com/connect/investor-relations'\n",
      " 'http://www.blackstonemortgagetrust.com/investor-relations/'\n",
      " 'http://investor.juniper.net/phoenix.zhtml?c=69801&p=irol-irhome'\n",
      " 'http://www.aimco.com/investors'\n",
      " 'http://www.pvh.com/investor_relations.aspx'\n",
      " 'http://www.icicibank.com/aboutus/invest-relations.html'\n",
      " 'http://phx.corporate-ir.net/phoenix.zhtml?c=74271&p=irol-irhome'\n",
      " 'http://www.joneslanglasalle.com/Pages/InvestorRelations.aspx'\n",
      " 'http://investor.t-mobile.com/phoenix.zhtml?c=177745&p=irol-IRHome'\n",
      " 'http://www.investors.averydennison.com/phoenix.zhtml?c=97892&p=irol-irhome'\n",
      " 'http://magellanpetroleum.investorroom.com/'\n",
      " 'http://phx.corporate-ir.net/phoenix.zhtml?c=77952&p=irol-irhome'\n",
      " 'http://www.televisa.com/inversionistas-ingles/'\n",
      " 'http://www.cblproperties.com/cbl.nsf/stock_info.html'\n",
      " 'http://investor.shareholder.com/jpmorganchase/'\n",
      " 'http://investors.firstenergycorp.com/phoenix.zhtml?c=102230&p=irol-IRHome'\n",
      " 'http://investor.brandywinerealty.com/corporateprofile.aspx?iid=103209'\n",
      " 'http://investors.gcu.edu/phoenix.zhtml?c=221997&p=irol-irhome'\n",
      " 'http://www.nabgroup.com/0,,32715,00.html'\n",
      " 'http://investor.hasbro.com/index.cfm'\n",
      " 'http://www.snl.com/IRWebLinkX/stockinfo.aspx?iid=4065591'\n",
      " 'http://investor.shareholder.com/mar/default.cfm'\n",
      " 'http://www.marineharvest.com/en/Investor1/'\n",
      " 'http://www.winmarkcorporation.com/investorrelations.aspx'\n",
      " 'http://ir.hosthotels.com/phoenix.zhtml?c=60734&p=irol-irhome'\n",
      " 'http://www.conocophillips.com/investor-relations/Pages/default.aspx'\n",
      " 'http://investor.shareholder.com/aosmith/'\n",
      " 'http://www.nationalgrid.com/corporate/Investor+relations'\n",
      " 'http://www.comtechtel.com/ir.cfm'\n",
      " 'http://www.usbank.com/cgi_w/cfm/about/investor/index.cfm?icid=HPC_6143&WT.mc_id=r6143&original_ref=http%3A%2F%2Fwww%2Eusbank%2Ecom%2Fen%2FAboutHome%2Ecfm'\n",
      " 'http://ir.pingan.com/en/index.shtml' 'http://investor.zimmer.com/'\n",
      " 'http://www.lee.net/financial/stock.html'\n",
      " 'http://investor.daktronics.com/' 'http://investor.teradyne.com/'\n",
      " 'http://www.omegahealthcare.com/stockinfo.aspx?iid=103065'\n",
      " 'http://phx.corporate-ir.net/phoenix.zhtml?c=96043&p=irol-IRHome'\n",
      " 'http://ir.syntapharma.com/phoenix.zhtml?c=147988&p=irol-irhome'\n",
      " 'http://www.visteon.com/investors/' 'http://www.exponent.com/investors/'\n",
      " 'http://phx.corporate-ir.net/phoenix.zhtml?c=99966&p=irol-irhome'\n",
      " 'http://investor.ligand.com/Investors/Investor-Overview/default.aspx'\n",
      " 'http://www.aeon.info/en/investors/index.html'\n",
      " 'http://www.ameren.com/INVESTORS/Pages/Investorshome.aspx'\n",
      " 'http://www.lincolnelectric.com/en-us/company/investor-relations/Pages/investor-relations.aspx'\n",
      " 'http://codi.client.shareholder.com/ir.cfm'\n",
      " 'http://www.pnmresources.com/investors/default.cfm'\n",
      " 'http://www.ufpinvestor.com/phoenix.zhtml?c=116957&p=irol-irhome'\n",
      " 'http://investor.cmegroup.com/investor-relations/stockquote.cfm'\n",
      " 'http://www.santen.com/ir/index.jsp'\n",
      " 'http://www.telefonica.com/en/shareholders_investors/jsp/home/home.jsp'\n",
      " 'http://www.boeing.com/boeing/companyoffices/financial/index.page?'\n",
      " 'http://www.nikon.com/about/ir/index.htm'\n",
      " 'http://www.methanex.com/investor/index.php'\n",
      " 'http://corporate.oreillyauto.com/corporate/WhoWeAre.do'\n",
      " 'http://www.orix.co.jp/grp/en/ir/'\n",
      " 'http://phx.corporate-ir.net/phoenix.zhtml?c=115565&p=irol-irhome'\n",
      " 'http://www.seic.com/enUS/about/98.htm'\n",
      " 'http://investors.autodesk.com/phoenix.zhtml?c=117861&p=irol-irhome'\n",
      " 'http://www.celsius.com/11-6_Investor_News.htm'\n",
      " 'http://www.snl.com/IRweblinkx/corporateprofile.aspx?IID=4055925'\n",
      " 'http://investor.universalcorp.com/index.cfm'\n",
      " 'http://www.dentsu.com/ir/index.html'\n",
      " 'http://www.sabrahealth.com/stockquote.cfm'\n",
      " 'http://www.snl.com/irweblinkx/corporateprofile.aspx?iid=103094'\n",
      " 'http://www.nordson.com/en-us/about-nordson/investors/Pages/default.aspx'\n",
      " 'http://investor.fabrinet.com/index.cfm'\n",
      " 'http://www.fujifilmholdings.com/en/investors/index.html'\n",
      " 'http://newsroom.regeneron.com/'\n",
      " 'http://ir.huntsman.com/phoenix.zhtml?c=186725&p=irol-irhome'\n",
      " 'http://www.gsig.com/investors/'\n",
      " 'http://investor.ajg.com/phoenix.zhtml?c=104111&p=irol-IRHome'\n",
      " 'http://investor.chrobinson.com/phoenix.zhtml?c=97366&p=irol-IRHome'\n",
      " 'http://www.ottertail.com/investors/investors.cfm'\n",
      " 'http://www.komatsu.com/CompanyInfo/ir/'\n",
      " 'http://ir.tyson.com/phoenix.zhtml?c=65476&p=irol-irHome'\n",
      " 'http://investor.entegris.com/' 'http://www.atea.com/ir'\n",
      " 'http://h30261.www3.hp.com/phoenix.zhtml?c=71087&p=irol-irhome'\n",
      " 'http://www.southerncoppercorp.com/ENG/invrel/Pages/Home.aspx'\n",
      " 'http://www.gulfisland.com/investors.php'\n",
      " 'http://investor.ralphlauren.com/phoenix.zhtml?c=65933&p=irol-irhome'\n",
      " 'http://www.hsbc.com/investor-relations'\n",
      " 'http://www.thekrogerco.com/finance/financialinfo.htm'\n",
      " 'http://ir.halliburton.com/phoenix.zhtml?c=67605&p=irol-irhome'\n",
      " 'http://ir.gentex.com/easyir/home.do?easyirid=4364F5BCCFF04FC6'\n",
      " 'http://www.aspenpharma.com/default.aspx?pid=5&stepid=1&oid=5'\n",
      " 'http://www.investors.ups.com/phoenix.zhtml?c=62900&p=irol-irhome'\n",
      " 'http://www.riotinto.com/investors-87.aspx'\n",
      " 'http://ir.boh.com/phoenix.zhtml?c=117399&p=irol-irhome'\n",
      " 'http://ir.correctionscorp.com/phoenix.zhtml?c=117983&p=irol-irhome'\n",
      " 'http://www.easyir.com/easyir/home.do?easyirid=DDC62B1F65007EB6&lang_id=1'\n",
      " 'http://ir.bostonproperties.com/phoenix.zhtml?c=120176&p=irol-irhome'\n",
      " 'http://www.globaldenso.com/en/investors/' 'http://investors.8x8.com/'\n",
      " 'http://phx.corporate-ir.net/phoenix.zhtml?c=117031&p=irol-IRHome'\n",
      " 'http://ir.idt.net/profiles/investor/CSummary.asp?f=1&BzID=566&Nav=0&LangID=1&s=20&tPName=Profile'\n",
      " 'http://investor.coopercos.com/'\n",
      " 'http://ir.latticesemi.com/phoenix.zhtml?c=117422&p=irol-irhome'\n",
      " 'http://group.shiseido.com/ir/'\n",
      " 'http://investor.paintrials.com/stockquote.cfm'\n",
      " 'http://www.snl.com/irweblinkx/corporateprofile.aspx?iid=4041394'\n",
      " 'http://www.asahi-kasei.co.jp/asahi/en/ir/'\n",
      " 'http://www.selective.com/WebApplications/EDS/PublicSite/Investor_Relations/Investor_Landing.aspx?MenuPath=.3265.3270.&LinkType=CONTENT&ContentID=1905&MenuID=3270'\n",
      " 'http://phx.corporate-ir.net/phoenix.zhtml?c=98069&p=irol-stockquote'\n",
      " 'http://www.ono.co.jp/eng/investor/index.html'\n",
      " 'http://www.pfizer.com/investors/'\n",
      " 'http://www.synopsys.com/Company/InvestorRelations/Pages/default.aspx'\n",
      " 'http://www.bbt.com/bbtdotcom/about/investor-relations/default.page'\n",
      " 'http://www.citigroup.com/citi/investor/overview.html'\n",
      " 'https://www.lfg.com/LincolnPageServer?LFGPage=/lfg/lfgclient/abt/ivrel/index.html'\n",
      " 'https://www.synovus.com/?id=1002' 'http://investors.owens-minor.com/'\n",
      " 'http://investors.tylertech.com/profiles/investor/fullpage.asp?BzID=499&to=cp&Nav=0&LangID=1&s=0&ID=12920'\n",
      " 'http://phx.corporate-ir.net/phoenix.zhtml?c=98651&p=irol-IRHome'\n",
      " 'http://www.scotiabank.com/ca/en/0,,915,00.html'\n",
      " 'http://www.big5sportinggoods.com/content/114/investor-relations.html'\n",
      " 'http://ir.sqm.com/English/investor-relation/default.aspx'\n",
      " 'http://www.investor.bayer.com/no_cache/en/home/'\n",
      " 'http://www.lennar.com/investor/investor.aspx'\n",
      " 'http://www.newmont.com/our-investors'\n",
      " 'http://investor.expeditors.com/index.asp'\n",
      " 'http://www.novozymes.com/en/investor/Pages/default.aspx'\n",
      " 'http://www.mizuho-fg.co.jp/english/investors/index.html'\n",
      " 'http://global.kyocera.com/ir/index.html'\n",
      " 'http://phx.corporate-ir.net/phoenix.zhtml?c=93682&p=irol-irhome'\n",
      " 'http://phx.corporate-ir.net/phoenix.zhtml?c=120530&p=irol-irhome'\n",
      " 'http://www.bandainamco.co.jp/en/ir/index.html'\n",
      " 'http://investor.diamondoffshore.com/phoenix.zhtml?c=78110&p=irol-irhome'\n",
      " 'http://www.diageo.com/en-row/Investor/Pages/default.aspx'\n",
      " 'http://www.olc.co.jp/en/ir/' 'http://www.park24.co.jp/en/ir/'\n",
      " 'http://tucowsinc.com/investors/'\n",
      " 'http://ir.advanced-energy.com/phoenix.zhtml?c=105985&p=irol-IRHome'\n",
      " 'http://investors.irobot.com/phoenix.zhtml?c=193096&p=irol-irhome'\n",
      " 'http://phx.corporate-ir.net/phoenix.zhtml?c=101667&p=irol-irhome'\n",
      " 'http://investor.mercadolibre.com/stockquote.cfm'\n",
      " 'https://www.wellsfargo.com/invest_relations/investor_relations'\n",
      " 'http://ir.kla-tencor.com/'\n",
      " 'http://www.gannett.com/section/INVESTORREL20'\n",
      " 'http://ir.beaconroofingsupply.com/index.cfm'\n",
      " 'http://phx.corporate-ir.net/phoenix.zhtml?c=111222&p=irol-irhome'\n",
      " 'http://www.ge.com/investor-relations'\n",
      " 'http://investor.mt.com/phoenix.zhtml?c=116541&p=irol-irhome'\n",
      " 'http://investor.equinix.com/phoenix.zhtml?c=122662&p=irol-irhome'\n",
      " 'http://www.ltcproperties.com/stockinfo.aspx?iid=102970'\n",
      " 'http://cmcsk.com/' 'http://www.westjr.co.jp/english/ir/'\n",
      " 'http://jkhy.client.shareholder.com/'\n",
      " 'http://www.mondelezinternational.com/Investor/index.aspx'\n",
      " 'http://www.manulife.com/public/investor/index/0,,lang=en&navId=640000,00.html'\n",
      " 'http://investors.sherwin-williams.com/'\n",
      " 'http://investors.centerpointenergy.com/'\n",
      " 'http://investor.mhfi.com/phoenix.zhtml?c=96562&p=irol-irhome'\n",
      " 'http://www.omron.com/ir/'\n",
      " 'http://www.northerntrust.com/about-us/investor-relations'\n",
      " 'http://www.bms.com/investors/Pages/home.aspx'\n",
      " 'http://ir.rymanhp.com/phoenix.zhtml?c=72635&p=irol-irhome'\n",
      " 'http://investor.nationalfuelgas.com/phoenix.zhtml?c=90873&p=irol-irhome'\n",
      " 'http://ir.icumed.com/' 'http://www.pega.com/about-us/investors'\n",
      " 'http://www.morganstanley.com/about/ir/index.html'\n",
      " 'http://www.snl.com/irweblinkx/stockinfo.aspx?iid=103145'\n",
      " 'http://www.corning.com/investor_relations/index.aspx'\n",
      " 'http://www.toyota-global.com/investors/'\n",
      " 'http://www.miteksystems.com/InvestorRelations.asp'\n",
      " 'http://www.snl.com/irweblinkx/corporateprofile.aspx?iid=109020'\n",
      " 'http://www.abbottinvestor.com/phoenix.zhtml?c=94004&p=irol-irhome'\n",
      " 'http://www.oceaneering.com/investor-relations/'\n",
      " 'http://phx.corporate-ir.net/phoenix.zhtml?c=97664&p=irol-irhome'\n",
      " 'http://www.adidas-group.com/en/investorrelations/default.aspx'\n",
      " 'http://www.novavax.com/go.cfm?do=Stock.GetQuote'\n",
      " 'http://investor.shareholder.com/slg/index.cfm'\n",
      " 'http://investor.littelfuse.com/'\n",
      " 'http://www.hecla-mining.com/investors/'\n",
      " 'http://www.sumitomocorp.co.jp/english/ir/index.html'\n",
      " 'http://investor.conedison.com/phoenix.zhtml?c=61493&p=irol-homeprofile'\n",
      " 'http://investor.3dsystems.com/'\n",
      " 'http://www.yaskawa.co.jp/en/ir/index.html'\n",
      " 'http://www.ennis.com/investor_relations/index.html'\n",
      " 'http://www.statoil.com/en/investorcentre/pages/default.aspx'\n",
      " 'http://ir.cbre.com/phoenix.zhtml?c=176560&p=irol-irhome'\n",
      " 'http://www.royalgold.com/new/frames/investor_relations.htm'\n",
      " 'http://ir.nisource.com/index.cfm'\n",
      " 'http://ir.americanexpress.com/phoenix.zhtml?c=64467&p=irol-irhome'\n",
      " 'http://www.kering.com/en/finance'\n",
      " 'http://www.nokia.com/global/about-nokia/investors/investors/'\n",
      " 'http://www.hubbell.com/Investor/Overview.aspx'\n",
      " 'http://investor.factset.com/stockquote.cfm'\n",
      " 'http://www.snl.com/irweblinkx/corporateprofile.aspx?iid=103128'\n",
      " 'http://phx.corporate-ir.net/phoenix.zhtml?c=79100&p=irol-IRHome'\n",
      " 'http://www.mzweb.com.br/ambev2009/web/default_en.asp?idioma=1&conta=44'\n",
      " 'http://ir.central.com/'\n",
      " 'http://phx.corporate-ir.net/phoenix.zhtml?c=73114&p=irol-irhome'\n",
      " 'http://www.shionogi.co.jp/ir_en/highlight/index.html'\n",
      " 'http://www.ussteel.com/corp/investors/index.asp'\n",
      " 'http://www.fhi.co.jp/english/ir/index.html'\n",
      " 'http://www.resmed.com/in/investors/investors.html?nc=investors'\n",
      " 'http://investor.silabs.com/'\n",
      " 'http://phx.corporate-ir.net/phoenix.zhtml?c=119933&p=irol-irhome'\n",
      " 'http://www.snl.com/IRWebLinkX/corporateprofile.aspx?iid=103308'\n",
      " 'http://wesco.investorroom.com/' 'http://boydgaming.investorroom.com/'\n",
      " 'http://www.trin.net/invsrela/default.asp'\n",
      " 'http://www.unitedrentals.com/en/our-company/investor-relations'\n",
      " 'http://www.eaton.com/Eaton/OurCompany/InvestorRelations/index.htm'\n",
      " 'http://ir.lear.com/' 'http://www.pepsico.com/Investors.html'\n",
      " 'http://www.teleflex.com/en/investor/corporateProfile/index.html'\n",
      " 'http://ir.bruker.com/phoenix.zhtml?c=121496&p=irol-IRHome'\n",
      " 'http://phx.corporate-ir.net/phoenix.zhtml?c=93860&p=irol-IRHome'\n",
      " 'http://investor.mksinst.com/' 'http://www.delcath.com/investors/'\n",
      " 'http://investor.paychex.com/'\n",
      " 'http://en.sanofi.com/investors/investors.aspx'\n",
      " 'http://ww13.itau.com.br/portalri/index.aspx?idioma=ing&AspxAutoDetectCookieSupport=1'\n",
      " 'http://investors.gilead.com/phoenix.zhtml?c=69964&p=irol-irhome'\n",
      " 'http://www.heinekeninternational.com/investors.aspx'\n",
      " 'http://www.nitto.com/ir/index.html'\n",
      " 'http://www.orkla.com/Investor-relations'\n",
      " 'http://ir.loews.com/phoenix.zhtml?c=102789&p=irol-index'\n",
      " 'http://ir.ccbn.com/ir.zhtml?t=ORI&s=2100'\n",
      " 'http://www.hess.com/investors/default.aspx'\n",
      " 'http://investor.comerica.com/phoenix.zhtml?c=114699&p=irol-irhome'\n",
      " 'http://phx.corporate-ir.net/phoenix.zhtml?c=131738&p=irol-irhome'\n",
      " 'http://www.skyworksinc.com/Investors.aspx'\n",
      " 'http://investors.portlandgeneral.com/index.cfm'\n",
      " 'http://www.akzonobel.com/investor_relations/'\n",
      " 'http://investors.fedex.com/phoenix.zhtml?c=73289&p=irol-IRHome'\n",
      " 'http://www.polyone.com/en-us/investors/Pages/default.aspx'\n",
      " 'http://phx.corporate-ir.net/phoenix.zhtml?c=117483&p=irol-irhome'\n",
      " 'http://www.liveperson.com/about/ir'\n",
      " 'http://phx.corporate-ir.net/phoenix.zhtml?c=85517&p=irol-stockchart'\n",
      " 'http://www.deluxe.com/news-investor/index.jsp'\n",
      " 'http://www.neogen.com/Corporate/invest.html'\n",
      " 'http://www.investquest.com/iq/t/tdy/'\n",
      " 'http://phx.corporate-ir.net/phoenix.zhtml?c=73030&p=irol-IRHome'\n",
      " 'http://phx.corporate-ir.net/phoenix.zhtml?c=69905&p=irol-stockQuoteChart'\n",
      " 'http://www.reedelsevier.com/InvestorCentre/Pages/Home.aspx'\n",
      " 'http://ir.tupperwarebrands.com/' 'http://investors.netapp.com/'\n",
      " 'http://www.wabtec.com/investor/default.asp'\n",
      " 'http://www.hermanmiller.com/about-us/investors.html'\n",
      " 'http://www.odfl.com/Company/company.html'\n",
      " 'http://phx.corporate-ir.net/phoenix.zhtml?c=95223&p=irol-IRHome'\n",
      " 'http://investor.lilly.com/' 'http://www.catofashions.com/investors.cfm'\n",
      " 'http://www.trendmicro.com/us/about-us/investor-relations/index.html'\n",
      " 'http://www.precisiondrilling.com/InvestorCentre/InvestorCentreOverview.cfm'\n",
      " 'http://www.b2i.us/profiles/investor/CSummary.asp?BzID=604&Nav=0&LangID=1&s=0&tPName=Profile'\n",
      " 'http://ir.monolithicpower.com/index.cfm'\n",
      " 'http://www.fanuc.co.jp/en/ir/index.html'\n",
      " 'http://phx.corporate-ir.net/phoenix.zhtml?c=105322&p=irol-irhome'\n",
      " 'http://www.shimano.com/publish/content/global_corp/en/us/index/financial_information/fact_sheet.html'\n",
      " 'http://nocache-phx.corporate-ir.net/phoenix.zhtml?c=190320&p=irol-IRHome'\n",
      " 'http://www.tsmc.com/english/investorRelations/index.htm'\n",
      " 'http://www.snl.com/irweblinkx/corporateprofile.aspx?iid=103025'\n",
      " 'http://www.jjsnack.com/Investor%20Relations/Press%20Releases/2010/ir.aspx'\n",
      " 'http://phx.corporate-ir.net/phoenix.zhtml?c=92913&p=irol-irhome'\n",
      " 'http://phx.corporate-ir.net/phoenix.zhtml?c=110047&p=irol-irhome'\n",
      " 'http://www.xinyiglass.com/en/tz.html'\n",
      " 'http://www.telekom.com/investor-relations'\n",
      " 'http://www.neurocrine.com/index.cfm?navid=6'\n",
      " 'http://investor.rambus.com/'\n",
      " 'http://phx.corporate-ir.net/phoenix.zhtml?c=82014&p=irol-irhome'\n",
      " 'http://www.arkbest.com/IR/index.asp'\n",
      " 'http://www.murata.com/ir/index.html'\n",
      " 'http://www.alphaprotech.com/investors/Investors.aspx'\n",
      " 'http://ir.prologis.com/index.cfm?discAccept=true'\n",
      " 'http://www.symrise.com/en/investor-relations.html'\n",
      " 'http://investor.incyte.com/phoenix.zhtml?c=69764&p=irol-irhome'\n",
      " 'http://www.snl.com/IRWebLinkX/GenPage.aspx?IID=113645&GKP=1073744577'\n",
      " 'http://www.tollbrothers.com/homesearch/servlet/HomeSearch?app=IRhome'\n",
      " 'http://www.oracle.com/us/corporate/investor-relations/index.html'\n",
      " 'http://www.rbauction.com/investors'\n",
      " 'http://www.paccar.com/investors/investor_resources.asp'\n",
      " 'http://phx.corporate-ir.net/phoenix.zhtml?c=130055&p=irol-stockquote'\n",
      " 'http://www.eads.com/eads/int/en/investor-relations.html'\n",
      " 'http://www.shell.com/home/content/investor/'\n",
      " 'http://phx.corporate-ir.net/phoenix.zhtml?c=110365&p=irol-irhome'\n",
      " 'http://investors.motorolasolutions.com/'\n",
      " 'http://www.swisscom.ch/en/ghq/investor-relations.html'\n",
      " 'http://phx.corporate-ir.net/phoenix.zhtml?c=115908&p=irol-IRHome'\n",
      " 'http://www.thaibev.com/ir.html' 'http://ir.edwards.com/'\n",
      " 'http://www.gsk.com/investors.html'\n",
      " 'http://investors.saic.com/phoenix.zhtml?c=193857&p=irol-IRHome'\n",
      " 'http://www.manpowergroup.com/investors/investors.cfm'\n",
      " 'http://www.edison.com/investors/default.asp'\n",
      " 'http://www.ii-vi.com/investors'\n",
      " 'http://www.heartlandexpress.com/investors/'\n",
      " 'http://phx.corporate-ir.net/phoenix.zhtml?c=137837&p=irol-irhome'\n",
      " 'http://www.nvrinc.com/Investor.aspx' 'http://investors.intuit.com/'\n",
      " 'http://www.up.com/investors/index.shtml'\n",
      " 'http://ir.moodys.com/index.cfm' 'http://investor.apple.com/'\n",
      " 'http://ir.manitowoc.com/phoenix.zhtml?c=67844&p=irol-irhome'\n",
      " 'http://www.limitedbrands.com/investors/default.aspx'\n",
      " 'http://ir.stanleyblackanddecker.com/phoenix.zhtml?c=114416&p=irol-irhome'\n",
      " 'http://investor.renre.com/phoenix.zhtml?c=65065&p=irol-irhome'\n",
      " 'http://www.internationalpaper.com/US/EN/Company/Investors/index.html'\n",
      " 'http://www.lvmh.com/investor-relations/shareholders'\n",
      " 'http://phx.corporate-ir.net/phoenix.zhtml?c=61559&p=irol-irhome'\n",
      " 'http://ir.donaldson.com/'\n",
      " 'http://phx.corporate-ir.net/phoenix.zhtml?c=79637&p=irol-reportsAnnual'\n",
      " 'http://investors.crowncork.com/phoenix.zhtml?c=85121&p=irol-IRHome'\n",
      " 'http://ir.allegiantair.com/phoenix.zhtml?c=197578&p=irol-IRHome'\n",
      " 'http://www.snl.com/irweblinkx/corporateprofile.aspx?iid=100754'\n",
      " 'http://investor.travelers.com/phoenix.zhtml?c=177842&p=irol-irhome'\n",
      " 'http://www.centene.com/investors/'\n",
      " 'http://amnhealthcare.investorroom.com/'\n",
      " 'http://phx.corporate-ir.net/phoenix.zhtml?c=83305&p=irol-irhome'\n",
      " 'http://investors.willis.com/phoenix.zhtml?c=129857&p=irol-IRHome'\n",
      " 'http://www.tennantco.com/am-en/pages/company/investors.aspx'\n",
      " 'http://phx.corporate-ir.net/phoenix.zhtml?c=71431&p=irol-irhome'\n",
      " 'http://www.att.com/gen/landing-pages?pid=5718'\n",
      " 'http://www.sysco.com/investors.html' 'http://www.basinc.com/invest/'\n",
      " 'http://www.asahigroup-holdings.com/en/ir/index.html'\n",
      " 'http://phx.corporate-ir.net/phoenix.zhtml?c=125417&p=irol-irhome'\n",
      " 'http://investors.sci-corp.com/phoenix.zhtml?c=108068&p=irol-irhome&alias=03'\n",
      " 'http://www1.snapon.com/corporate/investorinformationmain.nws'\n",
      " 'http://www.itochu.co.jp/en/ir/'\n",
      " 'http://investor.eastwestbank.com/CorporateProfile.aspx?iid=4040606'\n",
      " 'http://www.dteenergy.com/dteEnergyCompany/investors/'\n",
      " 'http://phx.corporate-ir.net/phoenix.zhtml?c=104364&p=irol-irhome'\n",
      " 'http://www.daimler.com/investor-relations/en'\n",
      " 'http://ir.femsa.com/stockquote.cfm' 'http://www.monotaro.com/main/ir/'\n",
      " 'http://about.telus.com/community/english/investor_relations'\n",
      " 'http://www.bridgestone.com/ir/index.html'\n",
      " 'https://www.cibc.com/ca/investor-relations/welcome.html'\n",
      " 'http://phx.corporate-ir.net/phoenix.zhtml?c=67507&p=irol-IRHome'\n",
      " 'http://ir.poolcorp.com/'\n",
      " 'http://www.deepwater.com/fw/main/Investor-Relations-272.html'\n",
      " 'http://www.infosys.com/investors/pages/index.aspx'\n",
      " 'http://phx.corporate-ir.net/phoenix.zhtml?c=98686&p=irol-IRHome'\n",
      " 'http://www.microchip.com/investorshome.aspx'\n",
      " 'http://global.smith-nephew.com/master/investor_centre_2738.htm'\n",
      " 'http://www.spartanmotors.com/Content.aspx?id=102'\n",
      " 'http://www.snl.com/irweblinkx/corporateprofile.aspx?iid=1137118'\n",
      " 'http://www.firstindustrial.com/SecondaryNavigation/investors/InvestorHome.php#.UYq31aJxRxA'\n",
      " 'http://ir.martinmarietta.com/index.cfm'\n",
      " 'http://www.ibm.com/investor/?lnk=ftif'\n",
      " 'http://www.lixil-group.co.jp/e/ir/default.htm'\n",
      " 'http://ir.ccbn.com/ir.zhtml?t=SSD&s=2100'\n",
      " 'http://www.jgc.co.jp/en/06ir/index.html'\n",
      " 'http://www.tjx.com/investor_landing.asp'\n",
      " 'http://www.universaldisplay.com/default.asp?contentID=580'\n",
      " 'http://www.marineproductscorp.com/profile'\n",
      " 'http://www.kohlscorporation.com/InvestorRelations/Investor01.htm'\n",
      " 'http://ir.thehartford.com/index.cfm' 'http://www.astellas.com/en/ir/'\n",
      " 'http://www.ab-inbev.com/go/investors.cfm'\n",
      " 'http://ir.rpminc.com/phoenix.zhtml?c=75922&p=irol-irhome'\n",
      " 'http://www.loreal.fr' 'http://investor.analog.com/'\n",
      " 'http://www.mazda.com/investors/'\n",
      " 'http://www.microsoft.com/investor/default.aspx'\n",
      " 'http://www.investorrelations.pitneybowes.com/phoenix.zhtml?c=83377&p=irol-irhome'\n",
      " 'http://www.helixesg.com/Investor-Relations/'\n",
      " 'http://ir.tokiomarinehd.com/en/Top.html'\n",
      " 'http://www.wintrust.com/investor-relations/stock.html'\n",
      " 'http://investor.shareholder.com/dollar/'\n",
      " 'http://www.globalsuzuki.com/corp_info/toShareholders/'\n",
      " 'http://www.nomuraholdings.com/investor/' 'http://investor.dennys.com/'\n",
      " 'http://www.cbrands.com/investors'\n",
      " 'http://www.b2i.us/profiles/investor/fullpage.asp?BzID=630&to=cp&Nav=0&LangID=1&s=385&ID=13144'\n",
      " 'http://www.jeronimomartins.pt/investidor.aspx?lang=en'\n",
      " 'http://investor.rushenterprises.com/'\n",
      " 'http://www.leroyseafood.com/en/Investor/Investor/'\n",
      " 'http://investors.powerint.com/index.cfm'\n",
      " 'http://www.carlsberggroup.com/investor/Pages/default.aspx'\n",
      " 'http://ir.thomsonreuters.com/phoenix.zhtml?c=76540&p=irol-irhome'\n",
      " 'http://investor.en.pandora.net/' 'http://www.investquest.com/iq/a/ato/'\n",
      " 'http://www.ms-ad-hd.com/en/ir/index.html'\n",
      " 'http://ir.martinmidstream.com/' 'http://investor.lamrc.com/'\n",
      " 'http://www.aboutmcdonalds.com/mcd/investors.html'\n",
      " 'http://investor.kelloggs.com/investor-relations/default.aspx'\n",
      " 'http://ir.mynycb.com/CorporateProfile.aspx?iid=1024119'\n",
      " 'http://phx.corporate-ir.net/phoenix.zhtml?c=104638&p=irol-irhome'\n",
      " 'http://www.basf.com/group/investor-relations_en/index'\n",
      " 'http://phx.corporate-ir.net/phoenix.zhtml?c=71258&p=irol-irhome'\n",
      " 'http://ir.netease.com/phoenix.zhtml?c=122303&p=irol-stockquote'\n",
      " 'http://www.fujitsu.com/global/about/ir/'\n",
      " 'http://phx.corporate-ir.net/phoenix.zhtml?c=104784&p=irol-stockquote'\n",
      " 'http://phx.corporate-ir.net/phoenix.zhtml?c=65454&p=irol-irhome'\n",
      " 'http://www.borgwarner.com/en/Investors/default.aspx'\n",
      " 'http://www.iairgroup.com/phoenix.zhtml?c=240949&p=irol-irhome'\n",
      " 'http://investors.bmrn.com/index.cfm'\n",
      " 'http://www.ree.es/ingles/accionistas/actualidad.asp'\n",
      " 'http://www.mitsuifudosan.co.jp/english/corporate/ir/index.html'\n",
      " 'http://www.goldfields.co.za/inv_feeds.php'\n",
      " 'http://www.mitsubishielectric.com/company/ir/index.html'\n",
      " 'http://www.aflac.com/investors/default.aspx'\n",
      " 'http://www.toto.co.jp/company/ir_en/index.htm'\n",
      " 'http://www.infineon.com/cms/en/corporate/investor/index.html'\n",
      " 'http://www.archcapgroup.bm/InvestorRelations.aspx'\n",
      " 'http://www.adobe.com/aboutadobe/invrelations/'\n",
      " 'http://global-sei.com/iv/index.html'\n",
      " 'http://investor.telecom.co.nz/phoenix.zhtml?c=91956&p=irol-IRHome'\n",
      " 'http://www.pseg.com/info/investors/index.jsp'\n",
      " 'http://phx.corporate-ir.net/phoenix.zhtml?c=117919&p=irol-irhome'\n",
      " 'http://www.newmarket.com/Investor+Relations/index.htm'\n",
      " 'http://phx.corporate-ir.net/phoenix.zhtml?c=105477&p=irol-irhome'\n",
      " 'http://www.onsemi.com/PowerSolutions/content.do?id=1116'\n",
      " 'http://www.ingredion.com/investors/investors/'\n",
      " 'http://phx.corporate-ir.net/phoenix.zhtml?c=63489&p=irol-homeprofile'\n",
      " 'http://www.salesforce.com/company/investor/'\n",
      " 'http://phx.corporate-ir.net/phoenix.zhtml?c=72735&p=irol-IRHome'\n",
      " 'http://www.realtyincome.com/invest/index.aspx'\n",
      " 'http://investors.mineralstech.com/phoenix.zhtml?c=82665&p=irol-IRHome'\n",
      " 'http://www.investor.jnj.com/investor-relations.cfm'\n",
      " 'http://phx.corporate-ir.net/phoenix.zhtml?c=98627&p=irol-irhome'\n",
      " 'http://www.nytco.com/investors/' 'http://investor.southerncompany.com/'\n",
      " 'http://www.snl.com/irweblinkx/corporateprofile.aspx?iid=103123'\n",
      " 'http://www.dnp.co.jp/eng/investors/'\n",
      " 'http://www.hpinc.com/investor1.htm'\n",
      " 'http://www.investor.fisglobal.com/phoenix.zhtml?c=180304&p=irol-IRHome'\n",
      " 'http://investor.northropgrumman.com/phoenix.zhtml?c=112386&p=irol-irhome'\n",
      " 'http://investors.hologic.com/' 'http://ir.joe.com/index.cfm'\n",
      " 'http://www.nintendo.co.jp/ir/en/index.html'\n",
      " 'http://www.snl.com/irweblinkx/corporateprofile.aspx?iid=103169'\n",
      " 'http://www.snl.com/irweblinkx/corporateprofile.aspx?iid=4077459'\n",
      " 'http://investor.opko.com/'\n",
      " 'http://www.fullhouseresorts.com/pressreleases1.html'\n",
      " 'http://investor.altria.com/phoenix.zhtml?c=80855&p=irol-irhome&src=top_nav'\n",
      " 'http://www.hoya.co.jp/english/investor/index.html'\n",
      " 'http://www.aezsinc.com/en/page.php?p=50'\n",
      " 'http://www.asml.com/asml/show.do?ctx=32918'\n",
      " 'http://investors.elcompanies.com/phoenix.zhtml?c=109458&p=irol-irhome'\n",
      " 'http://investor.annaly.com/corporateprofile.aspx?iid=113558'\n",
      " 'http://www.telenor.com/investor-relations/'\n",
      " 'http://phx.corporate-ir.net/phoenix.zhtml?c=63646&p=irol-irhome'\n",
      " 'http://phx.corporate-ir.net/phoenix.zhtml?c=70455&p=irol-irhome'\n",
      " 'http://www.adm.com/en-US/investors/Pages/default.aspx'\n",
      " 'http://phx.corporate-ir.net/phoenix.zhtml?c=119205&p=irol-irhome'\n",
      " 'http://phx.corporate-ir.net/phoenix.zhtml?c=82381&p=irol-irhome'\n",
      " 'http://phx.corporate-ir.net/phoenix.zhtml?c=203637&p=irol-IRHome'\n",
      " 'http://www.tateandlyle.com/investorrelations/pages/investorrelations.aspx'\n",
      " 'http://investors.target.com/phoenix.zhtml?c=65828&p=irol-IRHome'\n",
      " 'http://investors.progressive.com/phoenix.zhtml?c=81824&p=irol-irhome'\n",
      " 'http://investor.aam.com/phoenix.zhtml?c=63076&p=irol-irhome'\n",
      " 'http://www.enbridge.com/InvestorRelations.aspx'\n",
      " 'http://phx.corporate-ir.net/phoenix.zhtml?c=112916&p=irol-IRHome'\n",
      " 'http://www.investor.fnf.com/'\n",
      " 'http://www.entergy.com/investor_relations/default.aspx'\n",
      " 'http://ir.fticonsulting.com/phoenix.zhtml?c=82634&p=irol-IRHome'\n",
      " 'http://www.daikin.com/investor/index.html'\n",
      " 'http://ir.kiterealty.com/corporateprofile.aspx?iid=4092324'\n",
      " 'http://www.galpenergia.com/EN/Investidor/Paginas/home.aspx'\n",
      " 'http://ir.genmab.com/index.cfm'\n",
      " 'https://www.dom.com/investors/index.jsp'\n",
      " 'http://phx.corporate-ir.net/phoenix.zhtml?c=120420&p=irol-irhome'\n",
      " 'http://investor.gartner.com/phoenix.zhtml?c=99568&p=irol-irhome'\n",
      " 'http://www.mckesson.com/investors/stock-information/stock-information/'\n",
      " 'http://phx.corporate-ir.net/phoenix.zhtml?c=62289&p=irol-irhome'\n",
      " 'http://phx.corporate-ir.net/phoenix.zhtml?c=80574&p=irol-IRHome'\n",
      " 'http://phx.corporate-ir.net/phoenix.zhtml?c=91500&p=irol-irhome'\n",
      " 'http://www.caseys.com/investors.html'\n",
      " 'http://investor.trex.com/phoenix.zhtml?c=86979&p=irol-irhome'\n",
      " 'http://investor.starbucks.com/phoenix.zhtml?c=99518&p=irol-IRHome'\n",
      " 'http://ir.wrberkley.com/'\n",
      " 'http://phx.corporate-ir.net/phoenix.zhtml?c=65743&p=irol-irhome'\n",
      " 'http://www.cohenandsteers.com/corporate_info.asp'\n",
      " 'http://investors.whirlpoolcorp.com/' 'http://ir.yahoo.co.jp/en/'\n",
      " 'http://www.fanniemae.com/portal/about-us/investor-relations/index.html?'\n",
      " 'http://www.nttdata.com/global/en/investor/stock-information/index.html'\n",
      " 'http://www.afginc.com/phoenix.zhtml?c=89330&p=irol-irhome'\n",
      " 'http://investor.kns.com/index.cfm'\n",
      " 'http://www.genesisenergy.com/index.cfm?md=pagebuilder&tmp=home&pid=55&pnid=0&nid=185'\n",
      " 'http://www.chugai-pharm.co.jp/hc/ss/english/ir/index.html'\n",
      " 'http://www.fastretailing.com/eng/ir/'\n",
      " 'http://www.wattswater.com/_investors/overview.asp'\n",
      " 'http://phx.corporate-ir.net/phoenix.zhtml?c=91846&p=irol-irhome'\n",
      " 'http://investors.fiserv.com/' 'http://www.coeur.com/investors'\n",
      " 'http://phx.corporate-ir.net/phoenix.zhtml?c=116492&p=irol-stockquote'\n",
      " 'http://ir.albint.com/'\n",
      " 'http://www.fairfax.ca/Investors/shareholder-information/default.aspx'\n",
      " 'http://sats.client.shareholder.com/'\n",
      " 'http://phx.corporate-ir.net/phoenix.zhtml?c=79032&p=irol-IRHome'\n",
      " 'http://ir.wpcarey.com/corporateprofile.aspx?iid=4054624'\n",
      " 'http://www.williams-sonomainc.com/investors/'\n",
      " 'http://www.hotus.com/investor-relations/'\n",
      " 'http://investor.avistacorp.com/phoenix.zhtml?c=97267&p=irol-IRHome'\n",
      " 'http://www.nu.com/investors/default.asp'\n",
      " 'http://www.monro.com/corporate/corporate-investor-info'\n",
      " 'http://investor.shareholder.com/dillards/'\n",
      " 'http://www.coloplast.com/about/investorrelations/shareinformation/'\n",
      " 'http://www.airproducts.com/investors/overview.aspx'\n",
      " 'http://www.smfg.co.jp/english/investor/'\n",
      " 'http://www.raymondjames.com/about/investor_relations.htm'\n",
      " 'http://www.mednax.com/body_iframe_inv.cfm?id=7'\n",
      " 'http://www.gses.com/investor.php'\n",
      " 'http://investor.dentsply.com/phoenix.zhtml?c=76841&p=irol-irhome'\n",
      " 'http://investor.mscdirect.com/'\n",
      " 'http://phx.corporate-ir.net/phoenix.zhtml?c=71481&p=irol-stockQuote'\n",
      " 'http://www.acegroup.com/Investor-Information/Investor-Information.html'\n",
      " 'http://phx.corporate-ir.net/phoenix.zhtml?c=85260&p=irol-irhome'\n",
      " 'http://www.daiwahouse.co.jp/English/ir_index.html'\n",
      " 'http://www.dongenergy.com/en/investors'\n",
      " 'http://www.allete.com/investors/'\n",
      " 'http://ir.cliffsnaturalresources.com/'\n",
      " 'http://www.snl.com/IRWebLinkX/corporateprofile.aspx?iid=1018438'\n",
      " 'http://ir.amwater.com/phoenix.zhtml?c=215126&p=irol-irhome'\n",
      " 'http://www.dollartreeinfo.com/investors/'\n",
      " 'http://www.nilethera.com/investor.html'\n",
      " 'http://investor.jazzpharma.com/phoenix.zhtml?c=210227&p=irol-irhome'\n",
      " 'http://ir.mandtbank.com/' 'http://www.suncor.com/en/investor/292.aspx'\n",
      " 'http://www.kubota-global.net/ir/'\n",
      " 'http://www.hitachi.com/IR-e/index.html'\n",
      " 'http://phx.corporate-ir.net/phoenix.zhtml?c=113367&p=irol-irhome'\n",
      " 'http://phx.corporate-ir.net/phoenix.zhtml?c=93295&p=irol-irhome'\n",
      " 'http://phx.corporate-ir.net/phoenix.zhtml?c=125598&p=irol-irhome2'\n",
      " 'http://www2.snl.com/irweblinkx/corporateprofile.aspx?iid=103541'\n",
      " 'http://phx.corporate-ir.net/phoenix.zhtml?c=120577&p=irol-irhome'\n",
      " 'http://www.terumo.com/investor/index.html'\n",
      " 'http://www.cameco.com/investors/'\n",
      " 'http://corporate.unitedutilities.com/investors.aspx'\n",
      " 'http://www.investor.agilent.com/phoenix.zhtml?c=103274&p=irol-irhome'\n",
      " 'http://ir.manh.com/phoenix.zhtml?c=113502&p=irol-IRHome'\n",
      " 'http://investor.campbellsoupcompany.com/phoenix.zhtml?c=88650&p=irol-IRHome'\n",
      " 'http://www.carlisle.com/English/investor-relations/default.aspx'\n",
      " 'http://ir.questdiagnostics.com/phoenix.zhtml?c=82068&p=irol-stockquote'\n",
      " 'http://ir.herbalife.com/index.cfm'\n",
      " 'http://www.novartis.com/investors/index.shtml' 'http://ir.ddr.com/'\n",
      " 'http://www.ugicorp.com/investor-relations/stock-information/default.aspx'\n",
      " 'http://www.ucb.com/investors.asp'\n",
      " 'http://www.rwe.com/web/cms/en/105818/rwe/investor-relations/'\n",
      " 'http://www.otsuka.com/en/ir/'\n",
      " 'http://phx.corporate-ir.net/phoenix.zhtml?c=99533&p=irol-irhome'\n",
      " 'http://www.sumitomo-chem.co.jp/english/ir/'\n",
      " 'http://ir.unitedcontinentalholdings.com/phoenix.zhtml?c=83680&p=irol-IRHome'\n",
      " 'http://www.1liberty.com' 'http://www.agreerealty.com/invest'\n",
      " 'http://irsolutions.snl.com/corporateprofile.aspx?iid=102614'\n",
      " 'http://www.footlocker-inc.com/investors.cfm?page=investor-relations'\n",
      " 'http://www.takeda.com/investor-information/'\n",
      " 'http://www.cadence.com/cadence/investor_relations/Pages/default.aspx'\n",
      " 'http://investors.csx.com/phoenix.zhtml?c=92932&p=irol-irhome'\n",
      " 'http://72.32.87.8/Investors/IR_Overview/default.aspx'\n",
      " 'http://investors.micron.com/' 'http://www.westell.com/investors'\n",
      " 'http://investor.intuitivesurgical.com/phoenix.zhtml?c=122359&p=irol-IRHome'\n",
      " 'http://investor.graniteconstruction.com/index.cfm'\n",
      " 'http://ir.cutera.com/phoenix.zhtml?c=130892&p=irol-irhome'\n",
      " 'http://investor.baxter.com/phoenix.zhtml?c=86121&p=irol-stockQuoteChart'\n",
      " 'http://phx.corporate-ir.net/phoenix.zhtml?c=116466&p=irol-IRHome'\n",
      " 'http://www.duke-energy.com/investors/stock-information.asp'\n",
      " 'http://www.teekay.com/investors/default.aspx'\n",
      " 'http://www.capcom.co.jp/ir/english/index.html'\n",
      " 'http://www.rhi.com/InvestorCenter'\n",
      " 'http://www.cintas.com/company/investor_information/highlights.aspx'\n",
      " 'http://investor.dsv.com/index.cfm'\n",
      " 'http://phx.corporate-ir.net/phoenix.zhtml?c=119690&p=irol-irhome'\n",
      " 'http://www.brunswick.com/investors/'\n",
      " 'http://investor.metlife.com/phoenix.zhtml?c=121171&p=irol-irhome'\n",
      " 'http://ir.chipotle.com/phoenix.zhtml?c=194775&p=irol-irhome'\n",
      " 'http://phx.corporate-ir.net/phoenix.zhtml?c=74093&p=irol-IRHome'\n",
      " 'http://ir.belfuse.com/index.cfm'\n",
      " 'http://irnews.mmc.com/phoenix.zhtml?c=113872&p=irol-reportsOther'\n",
      " 'http://investor.aes.com/phoenix.zhtml?c=76149&p=irol-irhome'\n",
      " 'http://www.akamai.com/html/investor/index.html'\n",
      " 'http://www.erieinsurance.com/about/investors.aspx'\n",
      " 'http://www.kpn.com/corporate/aboutkpn/investor-relations.htm'\n",
      " 'http://phx.corporate-ir.net/phoenix.zhtml?c=101338&p=irol-IRhome'\n",
      " 'http://www.snl.com/irweblinkx/corporateprofile.aspx?IID=103061'\n",
      " 'http://www.snl.com/irweblinkx/stockinfo.aspx?iid=100405'\n",
      " 'http://phx.corporate-ir.net/phoenix.zhtml?c=101908&p=irol-irhome'\n",
      " 'http://www.adecco.com/en-US/investors/Pages/default.aspx'\n",
      " 'http://www.buckle.com/corporate/investor-information'\n",
      " 'http://www.kddi.com/english/corporate/ir/index.html'\n",
      " 'http://www.pgecorp.com/investors/'\n",
      " 'http://www.lancastercolony.com/for-investors'\n",
      " 'http://smth.jp/en/ir/index.html'\n",
      " 'http://investor.hawaiianairlines.com/phoenix.zhtml?c=82818&p=irol-IRhome'\n",
      " 'http://www.coca-colacompany.com/investors/'\n",
      " 'http://www.nat.bm/IR/index.html'\n",
      " 'http://phx.corporate-ir.net/phoenix.zhtml?c=115234&p=irol-IRHome'\n",
      " 'http://ir.prestigebrands.com/phoenix.zhtml?c=182173&p=irol-irHome'\n",
      " 'http://www.cemex.com/InvestorCenter.aspx'\n",
      " 'http://www.csec.com/htmlen/investor/index_investor.html'\n",
      " 'http://www.silverwheaton.com/Investors/default.aspx'\n",
      " 'http://www.amerisourcebergen.com/investor/phoenix.zhtml?c=61181&p=irol-irhome'\n",
      " 'http://ir.microstrategy.com/index.cfm'\n",
      " 'http://phx.corporate-ir.net/phoenix.zhtml?c=67097&p=irol-irhome'\n",
      " 'http://www.magna.com/investors'\n",
      " 'http://www.iac.com/investor-relations/overview'\n",
      " 'http://investor.htgc.com/index.cfm'\n",
      " 'http://www.caterpillar.com/investors'\n",
      " 'http://phx.corporate-ir.net/phoenix.zhtml?c=73481&p=irol-irhome&pid=4507'\n",
      " 'http://www.bd.com/investors/'\n",
      " 'http://www.murphyoilcorp.com/ir/default.aspx'\n",
      " 'http://www.oxy.com/InvestorRelations/Pages/default.aspx'\n",
      " 'http://www.abb.com/investorcenter'\n",
      " 'http://phx.corporate-ir.net/phoenix.zhtml?c=72118&p=irol-irhome'\n",
      " 'http://www.brookfieldinfrastructure.com/content/investor_relations-2625.html'\n",
      " 'http://ir.applied.com/phoenix.zhtml?c=97733&p=irol-irhome'\n",
      " 'http://phx.corporate-ir.net/phoenix.zhtml?c=104038&p=irol-irhome'\n",
      " 'http://www.qiagen.com/About-Us/Investors/' 'http://investor.abm.com/'\n",
      " 'http://phx.corporate-ir.net/phoenix.zhtml?c=93228&p=irol-IRHome'\n",
      " 'http://www.schnitzersteel.com/investors.aspx'\n",
      " 'http://phx.corporate-ir.net/phoenix.zhtml?c=109361&p=irol-IRHome'\n",
      " 'http://phx.corporate-ir.net/phoenix.zhtml?c=70667&p=irol-irhome'\n",
      " 'http://investor.shareholder.com/ir/'\n",
      " 'http://investor.chevron.com/phoenix.zhtml?c=130102&p=irol-irhome'\n",
      " 'http://ir.agnc.com/phoenix.zhtml?c=219916&p=irol-irhome'\n",
      " 'http://investor.colgate.com/' 'http://investors.thecloroxcompany.com/'\n",
      " 'http://www.td.com/investor-relations/ir-homepage/ir-homepage/investor-index.jsp'\n",
      " 'http://phx.corporate-ir.net/phoenix.zhtml?c=98215&p=irol-irhome'\n",
      " 'http://www.hld.com/en/investor/circulars.shtml'\n",
      " 'http://www.investors.bestbuy.com/phoenix.zhtml?c=83192&p=IROL-IRhome'\n",
      " 'http://ir.resourcesglobal.com/index.cfm' 'http://ir.darlingii.com/'\n",
      " 'http://www.snl.com/irweblinkx/stockinfo.aspx?iid=100255'\n",
      " 'http://www.fossil.com/webapp/wcs/stores/servlet/ContentView?page=investorRelations_stockSECInfo&storeId=12052&catalogId=25005&langId=-1'\n",
      " 'http://phx.corporate-ir.net/phoenix.zhtml?c=74322&p=irol-irhome'\n",
      " 'http://www.rogerscorp.com/ir/index.aspx'\n",
      " 'https://investor.verisign.com/index.cfm'\n",
      " 'http://www.valero.com/InvestorRelations/Pages/Home.aspx'\n",
      " 'http://investor.insulet.com/index.cfm'\n",
      " 'http://www.nov.com/investor/investorrelations.aspx'\n",
      " 'http://investor.sallybeautyholdings.com/phoenix.zhtml?c=203305&p=irol-irhome'\n",
      " 'http://investor.firstsolar.com/index.cfm'\n",
      " 'http://www.cognex.com/CognexInfo/InvestorInfo/default.aspx?id=104&langtype=1033&locale=us'\n",
      " 'http://investors.graco.com/phoenix.zhtml?c=109328&p=irol-irhome'\n",
      " 'http://investor.shareholder.com/mattel/'\n",
      " 'http://www.kirinholdings.co.jp/english/ir/index.html'\n",
      " 'http://www.brooks.com/company/investors'\n",
      " 'http://www2.blackrock.com/global/home/InvestorRelations/index.htm'\n",
      " 'http://www.agcocorp.com/company/investors.aspx'\n",
      " 'http://investor.bankofamerica.com/phoenix.zhtml?c=71595&p=irol-sec'\n",
      " 'http://www.nscorp.com/nscportal/nscorp/Investors/'\n",
      " 'http://www.mgrc.com/Investor'\n",
      " 'http://ir.worthingtonindustries.com/phoenix.zhtml?c=98793&p=irol-IRHome'\n",
      " 'http://investor.ti.com/'\n",
      " 'http://www.waters.com/waters/en_US/Investors/nav.htm?locale=en_US&cid=134614445'\n",
      " 'http://www.isuzu.co.jp/world/investor/index.html'\n",
      " 'http://investor.harley-davidson.com/phoenix.zhtml?c=87981&p=irol-stockquote&locale=en_US&bmLocale=en_US'\n",
      " 'http://cathaygeneralbancorp.com/Index.asp'\n",
      " 'http://phx.corporate-ir.net/phoenix.zhtml?c=101929&p=irol-IRHome'\n",
      " 'http://www.biogenidec.com/INVESTORS.aspx?ID=5494'\n",
      " 'http://phx.corporate-ir.net/phoenix.zhtml?c=103159&p=irol-irhome'\n",
      " 'http://www.checkpoint.com/corporate/investor-relations/index.html'\n",
      " 'http://jbl.client.shareholder.com/index.cfm'\n",
      " 'http://www.innodata.com/company/investor-relations'\n",
      " 'http://phx.corporate-ir.net/phoenix.zhtml?c=80927&p=irol-IRHome'\n",
      " 'http://www.casella.com/who-we-are/investor-relations'\n",
      " 'http://www.lindsay.com/#'\n",
      " 'http://ir.criver.com/phoenix.zhtml?c=121668&p=irol-irhome'\n",
      " 'http://investor.bokf.com/stockinfo.aspx?iid=100003'\n",
      " 'http://ir.inovio.com/' 'http://www.kimberly-clark.com/investors.aspx'\n",
      " 'http://www.hertz.com/rentacar/abouthertz/index.jsp?targetPage=investorrelations.jsp'\n",
      " 'http://verint.com/corporate/section2a.cfm?article_level2_category_id=15'\n",
      " 'http://phx.corporate-ir.net/phoenix.zhtml?c=130125&p=irol-irhome'\n",
      " 'http://www.b2i.us/profiles/investor/CSummary.asp?BzID=653&Nav=0&LangID=1&s=0&tPName=Profile'\n",
      " 'http://phx.corporate-ir.net/phoenix.zhtml?c=147311&p=IROL-irhome'\n",
      " 'http://www.mandalaydigital.com/investors'\n",
      " 'http://investors.jackinthebox.com/phoenix.zhtml?c=94497&p=irol-IRHome'\n",
      " 'http://www.fico.com/en/Company/Investors/Pages/default.aspx'\n",
      " 'http://phx.corporate-ir.net/phoenix.zhtml?c=88279&p=irol-IRHome'\n",
      " 'http://www.secom.co.jp/english/ir/'\n",
      " 'http://www.costar.com/investors.aspx'\n",
      " 'http://investor.choicehotels.com/phoenix.zhtml?c=99348&p=IROL-irhome'\n",
      " 'http://www.utc.com/Investor+Relations'\n",
      " 'http://ir.jd.com/phoenix.zhtml?c=253315&p=irol-irhome'\n",
      " 'http://www.middleby.com/corp_investors.asp'\n",
      " 'http://phx.corporate-ir.net/phoenix.zhtml?c=99740&p=irol-irhome'\n",
      " 'http://www.nice.com/investor-relations'\n",
      " 'http://phx.corporate-ir.net/phoenix.zhtml?c=83941&p=irol-IRHome'\n",
      " 'https://www.db.com/ir/index_e.htm'\n",
      " 'http://www.timken.com/EN-US/investors/Pages/default.aspx'\n",
      " 'http://www2.snl.com/irweblinkx/stockinfo.aspx?iid=100491'\n",
      " 'http://www.americantower.com/atcweb/irpages/irhome.asp'\n",
      " 'http://www.emerson.com/en-US/about/investor-relations/Pages/default.aspx'\n",
      " 'http://investor.aligntech.com/' 'http://www.yum.com/investors/'\n",
      " 'http://investor.shareholder.com/synaptics/'\n",
      " 'http://www.ajinomoto.com/en/ir/' 'http://ir.avnet.com/'\n",
      " 'http://www.nri.co.jp/ir/english/index.html'\n",
      " 'http://www.cpg.hk/eng/sharewholder_e.htm'\n",
      " 'http://www.coach.com/online/handbags/genWCM-10551-10051-en-/Coach_US/CompanyInformation/InvestorRelations/'\n",
      " 'http://www.dfmg.com.cn/EN/Bulletin.aspx'\n",
      " 'http://investors.stericycle.com/phoenix.zhtml?c=119334&p=irol-IRHome'\n",
      " 'http://www.energizerholdings.com/investors/Pages/default.aspx'\n",
      " 'http://investor.ssctech.com/'\n",
      " 'http://ir.communitybanksystem.com/CorporateProfile.aspx?iid=100185'\n",
      " 'http://www.thehersheycompany.com/investors.aspx'\n",
      " 'http://www.investquest.com/iq/h/hban/'\n",
      " 'http://investor.maersk.com/index.cfm'\n",
      " 'http://phx.corporate-ir.net/phoenix.zhtml?c=76556&p=irol-irhome'\n",
      " 'http://ir.wellpoint.com/phoenix.zhtml?c=130104&p=irol-irHome'\n",
      " 'http://phx.corporate-ir.net/phoenix.zhtml?c=117108&p=irol-irhome'\n",
      " 'http://www.celestica.com/InvestorRelations/InvestorRelations.aspx?id=1138&ekmensel=27_submenu_0_link_3'\n",
      " 'http://www.sjbrt.com/Distribution.html'\n",
      " 'http://investor.fluor.com/phoenix.zhtml?c=124955&p=irol-irhome'\n",
      " 'http://phx.corporate-ir.net/phoenix.zhtml?c=112727&p=irol-IRHome'\n",
      " 'http://ir.curtisswright.com/index.cfm' 'http://investor.belden.com/'\n",
      " 'http://ir.baidu.com/phoenix.zhtml?c=188488&p=irol-stockquote'\n",
      " 'http://investors.dineequity.com/phoenix.zhtml?c=104384&p=irol-irhome'\n",
      " 'http://ir.ccbn.com/ir.zhtml?t=ROL&s=2100'\n",
      " 'http://investor.shareholder.com/amwd/stockquote.cfm'\n",
      " 'http://ir.isispharm.com/phoenix.zhtml?c=222170&p=irol-irhome'\n",
      " 'http://investor.ciena.com/'\n",
      " 'http://www.bostonbeer.com/phoenix.zhtml?c=69432&p=irol-irhome'\n",
      " 'http://phx.corporate-ir.net/phoenix.zhtml?c=100535&p=irol-irhome'\n",
      " 'http://investor.1800flowers.com/'\n",
      " 'http://ir.newellrubbermaid.com/investor-relations/stock-information/stock-quote/default.aspx'\n",
      " 'http://www.tractorsupply.com/InvestorRelationView?storeId=10551&catalogId=10001'\n",
      " 'http://investors.potlatchcorp.com/'\n",
      " 'http://www.snl.com/irweblinkx/corporateprofile.aspx?iid=4137375'\n",
      " 'https://www.umb.com/AboutUMB/InvestorRelations/index.html'\n",
      " 'http://investor.bancwestcorp.com/investor/investor_index.cfm'\n",
      " 'http://phx.corporate-ir.net/phoenix.zhtml?c=78261&p=irol-IRHome'\n",
      " 'http://www.rocklandtrust.com/about-us/investor-relations.aspx'\n",
      " 'http://investor.shareholder.com/sre/index.cfm'\n",
      " 'http://www.proassurance.com/investorrelations/'\n",
      " 'http://www.baytex.ab.ca/investor/overview-investor-relations.cfm'\n",
      " 'http://investors.xcelenergy.com/corporateprofile.aspx?iid=4025308'\n",
      " 'http://www.swn.com/investors/pages/default.aspx'\n",
      " 'http://www.mitsui.com/jp/en/ir/index.html'\n",
      " 'http://199.230.26.96/kmi/index.html' 'http://www.take2games.com/'\n",
      " 'http://www.investor.prudential.com/phoenix.zhtml?c=129695&p=irol-irhome'\n",
      " 'http://www22.verizon.com/investor/' 'http://ir.mgpingredients.com/'\n",
      " 'http://phx.corporate-ir.net/phoenix.zhtml?c=121544&p=irol-irhome'\n",
      " 'http://investors.aecom.com/phoenix.zhtml?c=131318&p=irol-irhome'\n",
      " 'http://www.commercebank.com/about/investor-relations/'\n",
      " 'http://www.techne-corp.com/'\n",
      " 'http://investors.hrblock.com/phoenix.zhtml?c=76888&p=irol-irhome'\n",
      " 'http://www.alliancebernstein.com/abcom/Our_Firm/Investor_Media/Overview.htm'\n",
      " 'http://www.global.tdk.com/ir/'\n",
      " 'http://www.bmo.com/home/about/banking/investor-relations/home']\n",
      "Non-numeric values found in column: Currency\n",
      "['USD']\n",
      "Non-numeric values found in column: Exchange\n",
      "['NAS' 'NCM' 'NMS' 'NGM' 'NYQ' 'PNK' 'BTS' 'OQX' 'PCX' 'YHD' 'ASE' 'OEM'\n",
      " 'OQB']\n",
      "Non-numeric values found in column: Quote Type\n",
      "['MUTUALFUND' 'EQUITY' 'ETF']\n",
      "Non-numeric values found in column: Symbol\n",
      "['FSTFX' 'EXAS' 'ZBRA' ... 'TTDKY' 'NMFC' 'BMO']\n",
      "Non-numeric values found in column: Underlying Symbol\n",
      "['FSTFX' 'EXAS' 'ZBRA' ... 'TTDKY' 'NMFC' 'BMO']\n",
      "Non-numeric values found in column: Short Name\n",
      "['Fidelity Limited Term Municipal' 'Exact Sciences Corporation'\n",
      " 'Zebra Technologies Corporation' ... 'TDK Corp.'\n",
      " 'New Mountain Finance Corporatio' 'Bank Of Montreal']\n",
      "Non-numeric values found in column: Long Name\n",
      "['Fidelity Limited Term Municipal Income' 'Exact Sciences Corporation'\n",
      " 'Zebra Technologies Corporation' ... 'TDK Corporation'\n",
      " 'New Mountain Finance Corporation' 'Bank of Montreal']\n",
      "Non-numeric values found in column: Time Zone Full Name\n",
      "['America/New_York']\n",
      "Non-numeric values found in column: Time Zone Short Name\n",
      "['EDT']\n",
      "Non-numeric values found in column: UUID\n",
      "['29ae4a7a-4812-3a99-8726-22aa8080ff18'\n",
      " 'cc64cb89-936d-3419-82bf-b1c20cc85a89'\n",
      " '53165cfc-fc73-3828-9c77-43899ee16f76' ...\n",
      " 'b11d7eb2-7135-308d-a22a-947768876dfb'\n",
      " '00072a90-ac13-3ec5-a9f9-8eadf00b0060'\n",
      " '14bd66ba-5aef-3092-821b-f1261b66f766']\n",
      "Non-numeric values found in column: Message Board ID\n",
      "['finmb_33744978' 'finmb_28311' 'finmb_393488' ... 'finmb_315963'\n",
      " 'finmb_109764267' 'finmb_19053']\n",
      "Non-numeric values found in column: Recommendation Key\n",
      "['buy' 'none' 'hold' 'underperform' 'strong_buy']\n",
      "Non-numeric values found in column: Financial Currency\n",
      "['USD' 'AUD' 'EUR' 'JPY' 'BRL' 'CAD' 'PHP' 'GBP' 'SGD' 'PEN' 'IDR' 'DKK'\n",
      " 'MXN' 'HKD' 'CNY' 'SEK' 'KRW' 'TWD' 'CHF' 'INR' 'NOK' 'ZAR' 'TRY' 'NZD'\n",
      " 'COP' 'THB' 'MYR' 'ARS' 'RUB']\n"
     ]
    }
   ],
   "source": [
    "object_columns = combined_df.select_dtypes(include=['object']).columns\n",
    "\n",
    "# Check for non-numeric values in these columns\n",
    "for col in object_columns:\n",
    "    if col in combined_df.columns:\n",
    "        non_numeric_values = combined_df[col].apply(lambda x: isinstance(x, str) and not x.replace('.', '', 1).isdigit())\n",
    "        if non_numeric_values.any():\n",
    "            print(f\"Non-numeric values found in column: {col}\")\n",
    "            print(combined_df[non_numeric_values][col].unique())"
   ]
  },
  {
   "cell_type": "code",
   "execution_count": 10,
   "metadata": {},
   "outputs": [
    {
     "data": {
      "text/plain": [
       "[dtype('float64'),\n",
       " dtype('float64'),\n",
       " dtype('float64'),\n",
       " dtype('float64'),\n",
       " dtype('float64'),\n",
       " dtype('int64'),\n",
       " dtype('float64'),\n",
       " dtype('float64'),\n",
       " dtype('float64'),\n",
       " dtype('float64'),\n",
       " dtype('float64'),\n",
       " dtype('float64'),\n",
       " dtype('float64'),\n",
       " dtype('float64'),\n",
       " dtype('float64'),\n",
       " dtype('float64'),\n",
       " dtype('float64'),\n",
       " dtype('float64'),\n",
       " dtype('float64'),\n",
       " dtype('float64'),\n",
       " dtype('float64'),\n",
       " dtype('float64'),\n",
       " dtype('float64'),\n",
       " dtype('float64'),\n",
       " dtype('float64'),\n",
       " dtype('float64'),\n",
       " dtype('float64'),\n",
       " dtype('float64'),\n",
       " dtype('float64'),\n",
       " dtype('float64'),\n",
       " dtype('float64'),\n",
       " dtype('float64'),\n",
       " dtype('float64'),\n",
       " dtype('float64'),\n",
       " dtype('float64'),\n",
       " dtype('float64'),\n",
       " dtype('float64'),\n",
       " dtype('float64'),\n",
       " dtype('float64'),\n",
       " dtype('float64'),\n",
       " dtype('float64'),\n",
       " dtype('float64'),\n",
       " dtype('float64'),\n",
       " dtype('float64'),\n",
       " dtype('float64'),\n",
       " dtype('float64'),\n",
       " dtype('float64'),\n",
       " dtype('float64'),\n",
       " dtype('float64'),\n",
       " dtype('float64'),\n",
       " dtype('float64'),\n",
       " dtype('float64'),\n",
       " dtype('float64'),\n",
       " dtype('float64'),\n",
       " dtype('float64'),\n",
       " dtype('float64'),\n",
       " dtype('float64'),\n",
       " dtype('float64'),\n",
       " dtype('float64'),\n",
       " dtype('float64'),\n",
       " dtype('float64'),\n",
       " dtype('float64'),\n",
       " dtype('float64'),\n",
       " dtype('float64'),\n",
       " dtype('float64'),\n",
       " dtype('float64'),\n",
       " dtype('float64'),\n",
       " dtype('float64'),\n",
       " dtype('float64'),\n",
       " dtype('float64'),\n",
       " dtype('float64'),\n",
       " dtype('float64'),\n",
       " dtype('float64'),\n",
       " dtype('float64'),\n",
       " dtype('float64'),\n",
       " dtype('float64'),\n",
       " dtype('float64'),\n",
       " dtype('float64'),\n",
       " dtype('float64'),\n",
       " dtype('float64'),\n",
       " dtype('float64'),\n",
       " dtype('float64'),\n",
       " dtype('float64'),\n",
       " dtype('float64'),\n",
       " dtype('float64'),\n",
       " dtype('float64'),\n",
       " dtype('float64'),\n",
       " dtype('float64'),\n",
       " dtype('float64'),\n",
       " dtype('float64'),\n",
       " dtype('float64'),\n",
       " dtype('float64'),\n",
       " dtype('float64'),\n",
       " dtype('float64'),\n",
       " dtype('float64'),\n",
       " dtype('float64'),\n",
       " dtype('float64'),\n",
       " dtype('float64'),\n",
       " dtype('float64'),\n",
       " dtype('float64'),\n",
       " dtype('float64'),\n",
       " dtype('float64'),\n",
       " dtype('float64'),\n",
       " dtype('float64'),\n",
       " dtype('float64'),\n",
       " dtype('float64'),\n",
       " dtype('float64'),\n",
       " dtype('float64'),\n",
       " dtype('float64'),\n",
       " dtype('float64'),\n",
       " dtype('float64'),\n",
       " dtype('float64'),\n",
       " dtype('float64'),\n",
       " dtype('float64'),\n",
       " dtype('float64'),\n",
       " dtype('float64'),\n",
       " dtype('float64'),\n",
       " dtype('float64'),\n",
       " dtype('float64'),\n",
       " dtype('float64'),\n",
       " dtype('float64'),\n",
       " dtype('float64'),\n",
       " dtype('float64'),\n",
       " dtype('float64'),\n",
       " dtype('float64'),\n",
       " dtype('float64'),\n",
       " dtype('float64'),\n",
       " dtype('float64'),\n",
       " dtype('float64'),\n",
       " dtype('float64'),\n",
       " dtype('float64'),\n",
       " dtype('float64'),\n",
       " dtype('float64'),\n",
       " dtype('float64'),\n",
       " dtype('float64'),\n",
       " dtype('float64'),\n",
       " dtype('float64'),\n",
       " dtype('float64'),\n",
       " dtype('float64'),\n",
       " dtype('float64')]"
      ]
     },
     "execution_count": 10,
     "metadata": {},
     "output_type": "execute_result"
    }
   ],
   "source": [
    "for col in object_columns:\n",
    "    if col in combined_df.columns:\n",
    "        combined_df[col] = pd.to_numeric(combined_df[col], errors='coerce')\n",
    "        \n",
    "combined_df.dtypes.to_list()        "
   ]
  },
  {
   "cell_type": "code",
   "execution_count": 11,
   "metadata": {},
   "outputs": [],
   "source": [
    "try:\n",
    "    combined_df.to_parquet('/Users/paigeblackstone/Desktop/Portfolio29/Portfolio29/Investment_Management/datapull_YF_082824/congress_stock_data.parquet', engine='pyarrow')\n",
    "except Exception as e:\n",
    "    print(f\"Error: {e}\")\n"
   ]
  },
  {
   "cell_type": "markdown",
   "metadata": {},
   "source": [
    "calculating average returns over time - need to crosstab data to have the columns represent tickers to use this method - otherwise calculate returns by ticker by month using close price\n",
    "average trading days in a year: 252. use this number to annualize the returns multiplying them by the trading days in a year"
   ]
  }
 ],
 "metadata": {
  "kernelspec": {
   "display_name": "venv",
   "language": "python",
   "name": "python3"
  },
  "language_info": {
   "codemirror_mode": {
    "name": "ipython",
    "version": 3
   },
   "file_extension": ".py",
   "mimetype": "text/x-python",
   "name": "python",
   "nbconvert_exporter": "python",
   "pygments_lexer": "ipython3",
   "version": "3.12.4"
  }
 },
 "nbformat": 4,
 "nbformat_minor": 2
}
