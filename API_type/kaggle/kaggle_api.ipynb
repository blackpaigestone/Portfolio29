{
 "cells": [
  {
   "cell_type": "code",
   "execution_count": 5,
   "metadata": {},
   "outputs": [],
   "source": [
    "import os\n",
    "import json\n",
    "from dotenv import load_dotenv\n",
    "import kaggle\n",
    "import pandas as pd\n",
    "import os\n",
    "import yahoo_fin\n",
    "import datetime\n",
    "import shutil\n",
    "from datetime import datetime"
   ]
  },
  {
   "cell_type": "code",
   "execution_count": 6,
   "metadata": {},
   "outputs": [
    {
     "name": "stdout",
     "output_type": "stream",
     "text": [
      "Kaggle API configured successfully.\n"
     ]
    }
   ],
   "source": [
    "load_dotenv()\n",
    "\n",
    "# Retrieve Kaggle API credentials\n",
    "kaggle_username = os.getenv(\"KAGGLE_USERNAME\")\n",
    "kaggle_key = os.getenv(\"KAGGLE_KEY\")\n",
    "\n",
    "# Create the .kaggle directory if it doesn't exist\n",
    "os.makedirs(os.path.expanduser(\"~/.kaggle\"), exist_ok=True)\n",
    "\n",
    "# Write the kaggle.json file\n",
    "api_token = {\"username\": kaggle_username, \"key\": kaggle_key}\n",
    "kaggle_json_path = os.path.expanduser(\"~/.kaggle/kaggle.json\")\n",
    "with open(kaggle_json_path, 'w') as file:\n",
    "    json.dump(api_token, file)\n",
    "\n",
    "# Set file permissions\n",
    "os.chmod(kaggle_json_path, 0o600)\n",
    "\n",
    "print(\"Kaggle API configured successfully.\")"
   ]
  }
 ],
 "metadata": {
  "kernelspec": {
   "display_name": "venv",
   "language": "python",
   "name": "python3"
  },
  "language_info": {
   "codemirror_mode": {
    "name": "ipython",
    "version": 3
   },
   "file_extension": ".py",
   "mimetype": "text/x-python",
   "name": "python",
   "nbconvert_exporter": "python",
   "pygments_lexer": "ipython3",
   "version": "3.12.4"
  }
 },
 "nbformat": 4,
 "nbformat_minor": 2
}
