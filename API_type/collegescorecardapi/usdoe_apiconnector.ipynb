{
 "cells": [
  {
   "cell_type": "code",
   "execution_count": 1,
   "metadata": {},
   "outputs": [],
   "source": [
    "import os\n",
    "from datetime import datetime\n",
    "import requests\n",
    "import pandas as pd\n",
    "from dotenv import load_dotenv\n",
    "import pyarrow.feather as feather\n"
   ]
  },
  {
   "cell_type": "code",
   "execution_count": 2,
   "metadata": {},
   "outputs": [],
   "source": [
    "load_dotenv('/Users/paigeblackstone/Desktop/Portfolio29/Portfolio29/env/usdoe.env')\n",
    "api_key = os.getenv('COLLEGE_SCORECARD_API_KEY')"
   ]
  },
  {
   "cell_type": "markdown",
   "metadata": {},
   "source": [
    "example field selection request:\n",
    "- https://api.data.gov/ed/collegescorecard/v1/schools?api_key=YOUR_API_KEY&fields=id,school.name,latest.cost.tuition.in_state,latest.completion.rate\n",
    "\n",
    "search by name:\n",
    "- https://api.data.gov/ed/collegescorecard/v1/schools?api_key=YOUR_API_KEY&school.name=Stanford University\n",
    "\n",
    "search by state and city:\n",
    "- https://api.data.gov/ed/collegescorecard/v1/schools?api_key=YOUR_API_KEY&school.state=NY&school.city=New York\n",
    "\n",
    "specific fields:\n",
    "- https://api.data.gov/ed/collegescorecard/v1/schools?api_key=YOUR_API_KEY&fields=id,school.name,latest.admissions.admission_rate.overall,latest.student.size\n",
    "\n",
    "paginated requests:\n",
    "- https://api.data.gov/ed/collegescorecard/v1/schools?api_key=YOUR_API_KEY&school.state=TX&page=2&per_page=10\n",
    "\n",
    "\n",
    "school.degrees_awarded.predominant=2,3,4 will match records with a school.degrees_awarded.predominant value of 2, 3 or 4\n",
    "\n",
    "Append the characters __not to the parameter name to specify a negative match.\n",
    "For example: school.region_id__not=5 matches on records where the school.region_id does not equal 5\n",
    "\n",
    "To match on field values in a particular numeric range, use a range match. Append the characters __range to the parameter name to specify a range match, and provide two numbers separated by two periods (..).\n",
    "For example: 2013.student.size__range=100..500 matches on schools which had between 100 and 500 students in 2013.\n",
    "Open-ended ranges can be performed by omitting one side of the range. For example: 2013.student.size__range=1000.. matches on schools which had over 1000 students.\n",
    "\n",
    "Geographic Filtering with zip and distance\n",
    "When the dataset includes a location at the root level (location.lat and location.lon) then the documents will be indexed geographically. You can use the zip and distance options to narrow query results down to those within a geographic area. For example, zip=12345&distance=10mi will return only those results within 10 miles of the center of the given zip code.\n",
    "Additionally, you can request location.lat and location.lon in a search that includes a fields filter and it will return the record(s) with respective lat and/or lon coordinates.\n",
    "\n",
    "Additional Notes on Geographic Filtering\n",
    "By default, any number passed in the distance parameter is treated as a number of miles, but you can specify miles or kilometers by appending mi or km respectively.\n",
    "Distances are calculated from the center of the given zip code, not the boundary.\n",
    "Only U.S. zip codes are supported\n",
    "\n",
    "Nesting Field of Study Results\n",
    "The field of study data is included as an array of objects nested under a specified key. These objects may be queried just like any other data. However, there is an additional parameter to add to your API call to manage what is returned. By default, if specifying a search parameter, only objects of the array that match that parameter will be returned. You can pass &all_programs_nested=true to return all the items in the array instead of just those that match."
   ]
  },
  {
   "cell_type": "code",
   "execution_count": 4,
   "metadata": {},
   "outputs": [
    {
     "name": "stdout",
     "output_type": "stream",
     "text": [
      "Data saved to /Users/paigeblackstone/Library/Mobile Documents/com~apple~CloudDocs/us_doe_data/college_scorecard_data_20240801_145755.feather\n"
     ]
    }
   ],
   "source": [
    "# Function to get user input for criteria\n",
    "def get_user_input():\n",
    "    # Prompt for specific fields to include in the dataset\n",
    "    fields = input(\"Enter the fields you want (comma-separated, e.g., id,school.name,latest.student.size): \")\n",
    "    \n",
    "    # Prompt for filtering criteria\n",
    "    state = input(\"Enter state (e.g., CA) or leave blank for all: \")\n",
    "    size = input(\"Enter student size range (e.g., '1000..5000' for 1000 to 5000) or leave blank for all: \")\n",
    "    tuition = input(\"Enter max out-of-state tuition (e.g., 30000) or leave blank for all: \")\n",
    "    fields_of_study = input(\"Enter field of study (CIP code) or leave blank for all: \")\n",
    "    \n",
    "    # Construct the parameters dictionary based on user input\n",
    "    params = {\n",
    "        'api_key': api_key,\n",
    "        'fields': fields if fields else 'id,school.name,school.city,school.state,latest.student.size,latest.cost.tuition.out_of_state,latest.admissions.admission_rate.overall',\n",
    "        'per_page': 100,\n",
    "        'page': 0\n",
    "    }\n",
    "    if state:\n",
    "        params['school.state'] = state\n",
    "    if size:\n",
    "        params['latest.student.size__range'] = size\n",
    "    if tuition:\n",
    "        params['latest.cost.tuition.out_of_state__lte'] = tuition\n",
    "    if fields_of_study:\n",
    "        params['latest.programs.cip_4_digit.code'] = fields_of_study\n",
    "    \n",
    "    return params\n",
    "\n",
    "def fetch_data(params):\n",
    "    base_url = \"https://api.data.gov/ed/collegescorecard/v1/schools\"\n",
    "    response = requests.get(base_url, params=params)\n",
    "    response.raise_for_status()  # Raise an exception for HTTP errors\n",
    "    data = response.json()\n",
    "    return data['results']\n",
    "\n",
    "# Function to extract and flatten field of study data\n",
    "def extract_fields_of_study(data):\n",
    "    results = []\n",
    "    for school in data:\n",
    "        if 'latest.programs.cip_4_digit' in school:\n",
    "            for program in school['latest.programs.cip_4_digit']:\n",
    "                record = {**school, **program}\n",
    "                results.append(record)\n",
    "    return results\n",
    "\n",
    "# Function to save data to Feather file\n",
    "def save_data_to_feather(data, filename_prefix=\"college_scorecard_data\"):\n",
    "    df = pd.DataFrame(data)\n",
    "    timestamp = datetime.now().strftime('%Y%m%d_%H%M%S')\n",
    "    filename = f'/Users/paigeblackstone/Library/Mobile Documents/com~apple~CloudDocs/us_doe_data/{filename_prefix}_{timestamp}.feather'\n",
    "    feather.write_feather(df, filename)\n",
    "    print(f\"Data saved to {filename}\")\n",
    "\n",
    "# Main function\n",
    "def main():\n",
    "    params = get_user_input()\n",
    "    data = fetch_data(params)\n",
    "    \n",
    "    # Check if field of study data should be included\n",
    "    if 'latest.programs.cip_4_digit.code' in params:\n",
    "        extracted_data = extract_fields_of_study(data)\n",
    "        save_data_to_feather(extracted_data, filename_prefix=\"field_of_study_data\")\n",
    "    else:\n",
    "        save_data_to_feather(data)\n",
    "\n",
    "# Run the script\n",
    "if __name__ == \"__main__\":\n",
    "    main()"
   ]
  },
  {
   "cell_type": "code",
   "execution_count": 7,
   "metadata": {},
   "outputs": [
    {
     "name": "stdout",
     "output_type": "stream",
     "text": [
      "   latest.student.size  latest.cost.tuition.out_of_state  \\\n",
      "0                 5196                             18634   \n",
      "1                12776                             21216   \n",
      "2                  228                                 0   \n",
      "3                 6985                             24770   \n",
      "4                 3296                             19396   \n",
      "\n",
      "   latest.admissions.admission_rate.overall  \\\n",
      "0                                    0.6840   \n",
      "1                                    0.8668   \n",
      "2                                       NaN   \n",
      "3                                    0.7810   \n",
      "4                                    0.9660   \n",
      "\n",
      "                           school.name school.city school.state      id  \n",
      "0             Alabama A & M University      Normal           AL  100654  \n",
      "1  University of Alabama at Birmingham  Birmingham           AL  100663  \n",
      "2                   Amridge University  Montgomery           AL  100690  \n",
      "3  University of Alabama in Huntsville  Huntsville           AL  100706  \n",
      "4             Alabama State University  Montgomery           AL  100724  \n"
     ]
    }
   ],
   "source": [
    "filename = '/Users/paigeblackstone/Library/Mobile Documents/com~apple~CloudDocs/us_doe_data/college_scorecard_data_20240801_145755.feather'\n",
    "\n",
    "# Read the Feather file into a DataFrame\n",
    "df = pd.read_feather(filename)\n",
    "\n",
    "# Preview the DataFrame\n",
    "print(df.head())  # Display the first few rows"
   ]
  }
 ],
 "metadata": {
  "kernelspec": {
   "display_name": "venv",
   "language": "python",
   "name": "python3"
  },
  "language_info": {
   "codemirror_mode": {
    "name": "ipython",
    "version": 3
   },
   "file_extension": ".py",
   "mimetype": "text/x-python",
   "name": "python",
   "nbconvert_exporter": "python",
   "pygments_lexer": "ipython3",
   "version": "3.12.4"
  }
 },
 "nbformat": 4,
 "nbformat_minor": 2
}
