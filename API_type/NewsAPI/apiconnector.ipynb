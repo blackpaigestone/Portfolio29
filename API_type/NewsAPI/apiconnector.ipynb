{
 "cells": [
  {
   "cell_type": "code",
   "execution_count": 1,
   "metadata": {},
   "outputs": [],
   "source": [
    "import os\n",
    "import requests\n",
    "import pandas as pd\n",
    "import pyarrow.feather as feather\n",
    "from dotenv import load_dotenv\n",
    "from itertools import product\n",
    "from datetime import datetime"
   ]
  },
  {
   "cell_type": "code",
   "execution_count": 2,
   "metadata": {},
   "outputs": [],
   "source": [
    "countries = ['us', 'gb', 'fr', 'de', 'it', 'es', 'au', 'ca', 'jp', 'cn']\n",
    "categories = ['business', 'entertainment', 'general', 'health', 'science', 'sports', 'technology']\n",
    "keywords = ['AI', 'technology', 'health']"
   ]
  },
  {
   "cell_type": "code",
   "execution_count": 5,
   "metadata": {},
   "outputs": [
    {
     "name": "stdout",
     "output_type": "stream",
     "text": [
      "Fetching data for country=us, category=business, keyword=AI\n"
     ]
    },
    {
     "ename": "NameError",
     "evalue": "name 'NEWS_API_KEY' is not defined",
     "output_type": "error",
     "traceback": [
      "\u001b[0;31m---------------------------------------------------------------------------\u001b[0m",
      "\u001b[0;31mNameError\u001b[0m                                 Traceback (most recent call last)",
      "Cell \u001b[0;32mIn[5], line 34\u001b[0m\n\u001b[1;32m     32\u001b[0m \u001b[38;5;28;01mfor\u001b[39;00m country, category, keyword \u001b[38;5;129;01min\u001b[39;00m product(countries, categories, keywords):\n\u001b[1;32m     33\u001b[0m     \u001b[38;5;28mprint\u001b[39m(\u001b[38;5;124mf\u001b[39m\u001b[38;5;124m\"\u001b[39m\u001b[38;5;124mFetching data for country=\u001b[39m\u001b[38;5;132;01m{\u001b[39;00mcountry\u001b[38;5;132;01m}\u001b[39;00m\u001b[38;5;124m, category=\u001b[39m\u001b[38;5;132;01m{\u001b[39;00mcategory\u001b[38;5;132;01m}\u001b[39;00m\u001b[38;5;124m, keyword=\u001b[39m\u001b[38;5;132;01m{\u001b[39;00mkeyword\u001b[38;5;132;01m}\u001b[39;00m\u001b[38;5;124m\"\u001b[39m)\n\u001b[0;32m---> 34\u001b[0m     data \u001b[38;5;241m=\u001b[39m \u001b[43mget_custom_headlines\u001b[49m\u001b[43m(\u001b[49m\u001b[43mcountry\u001b[49m\u001b[43m,\u001b[49m\u001b[43m \u001b[49m\u001b[43mcategory\u001b[49m\u001b[43m,\u001b[49m\u001b[43m \u001b[49m\u001b[43mkeyword\u001b[49m\u001b[43m)\u001b[49m\n\u001b[1;32m     35\u001b[0m     articles \u001b[38;5;241m=\u001b[39m data\u001b[38;5;241m.\u001b[39mget(\u001b[38;5;124m'\u001b[39m\u001b[38;5;124marticles\u001b[39m\u001b[38;5;124m'\u001b[39m, [])\n\u001b[1;32m     36\u001b[0m     \u001b[38;5;28;01mfor\u001b[39;00m article \u001b[38;5;129;01min\u001b[39;00m articles:\n",
      "Cell \u001b[0;32mIn[5], line 17\u001b[0m, in \u001b[0;36mget_custom_headlines\u001b[0;34m(country, category, keyword)\u001b[0m\n\u001b[1;32m     10\u001b[0m \u001b[38;5;28;01mdef\u001b[39;00m \u001b[38;5;21mget_custom_headlines\u001b[39m(country, category, keyword):\n\u001b[1;32m     11\u001b[0m     url \u001b[38;5;241m=\u001b[39m \u001b[38;5;124mf\u001b[39m\u001b[38;5;124m\"\u001b[39m\u001b[38;5;132;01m{\u001b[39;00mBASE_URL\u001b[38;5;132;01m}\u001b[39;00m\u001b[38;5;124mtop-headlines\u001b[39m\u001b[38;5;124m\"\u001b[39m\n\u001b[1;32m     12\u001b[0m     params \u001b[38;5;241m=\u001b[39m {\n\u001b[1;32m     13\u001b[0m         \u001b[38;5;124m'\u001b[39m\u001b[38;5;124mcountry\u001b[39m\u001b[38;5;124m'\u001b[39m: country,\n\u001b[1;32m     14\u001b[0m         \u001b[38;5;124m'\u001b[39m\u001b[38;5;124mcategory\u001b[39m\u001b[38;5;124m'\u001b[39m: category,\n\u001b[1;32m     15\u001b[0m         \u001b[38;5;124m'\u001b[39m\u001b[38;5;124mq\u001b[39m\u001b[38;5;124m'\u001b[39m: keyword,\n\u001b[1;32m     16\u001b[0m         \u001b[38;5;124m'\u001b[39m\u001b[38;5;124mpageSize\u001b[39m\u001b[38;5;124m'\u001b[39m: \u001b[38;5;241m10\u001b[39m,\n\u001b[0;32m---> 17\u001b[0m         \u001b[38;5;124m'\u001b[39m\u001b[38;5;124mapiKey\u001b[39m\u001b[38;5;124m'\u001b[39m: \u001b[43mNEWS_API_KEY\u001b[49m\n\u001b[1;32m     18\u001b[0m     }\n\u001b[1;32m     20\u001b[0m     response \u001b[38;5;241m=\u001b[39m requests\u001b[38;5;241m.\u001b[39mget(url, params\u001b[38;5;241m=\u001b[39mparams)\n\u001b[1;32m     22\u001b[0m     \u001b[38;5;28;01mif\u001b[39;00m response\u001b[38;5;241m.\u001b[39mstatus_code \u001b[38;5;241m==\u001b[39m \u001b[38;5;241m200\u001b[39m:\n",
      "\u001b[0;31mNameError\u001b[0m: name 'NEWS_API_KEY' is not defined"
     ]
    }
   ],
   "source": [
    "env_path = '/Users/paigeblackstone/Desktop/Portfolio29/Portfolio29/env/newsapi.env'\n",
    "load_dotenv(env_path)\n",
    "\n",
    "BASE_URL = 'https://newsapi.org/v2/'\n",
    "\n",
    "countries = ['us', 'gb', 'fr', 'de', 'it', 'es', 'au', 'ca', 'jp', 'cn']\n",
    "categories = ['business', 'entertainment', 'general', 'health', 'science', 'sports', 'technology']\n",
    "keywords = ['AI', 'technology', 'health', 'economy', 'business','philosophy', 'culture']\n",
    "\n",
    "def get_custom_headlines(country, category, keyword):\n",
    "    url = f\"{BASE_URL}top-headlines\"\n",
    "    params = {\n",
    "        'country': country,\n",
    "        'category': category,\n",
    "        'q': keyword,\n",
    "        'pageSize': 10,\n",
    "        'apiKey': NEWS_API_KEY\n",
    "    }\n",
    "    \n",
    "    response = requests.get(url, params=params)\n",
    "    \n",
    "    if response.status_code == 200:\n",
    "        data = response.json()\n",
    "        return data\n",
    "    else:\n",
    "        print(f\"Error: {response.status_code}\")\n",
    "        print(response.json())\n",
    "        return {}\n",
    "\n",
    "all_articles = []\n",
    "\n",
    "for country, category, keyword in product(countries, categories, keywords):\n",
    "    print(f\"Fetching data for country={country}, category={category}, keyword={keyword}\")\n",
    "    data = get_custom_headlines(country, category, keyword)\n",
    "    articles = data.get('articles', [])\n",
    "    for article in articles:\n",
    "        article['country'] = country\n",
    "        article['category'] = category\n",
    "        article['keyword'] = keyword\n",
    "    all_articles.extend(articles)\n",
    "\n",
    "df = pd.DataFrame(all_articles)\n"
   ]
  },
  {
   "cell_type": "code",
   "execution_count": 14,
   "metadata": {},
   "outputs": [
    {
     "name": "stdout",
     "output_type": "stream",
     "text": [
      "Data saved to /Users/paigeblackstone/Library/Mobile Documents/com~apple~CloudDocs/news_api_data/newsdata_20240730_163749.feather\n"
     ]
    }
   ],
   "source": [
    "timestamp = datetime.now().strftime('%Y%m%d_%H%M%S')\n",
    "filename = f'/Users/paigeblackstone/Library/Mobile Documents/com~apple~CloudDocs/news_api_data/newsdata_{timestamp}.feather'\n",
    "\n",
    "feather.write_feather(df, filename)\n",
    "print(f\"Data saved to {filename}\")"
   ]
  },
  {
   "cell_type": "code",
   "execution_count": 15,
   "metadata": {},
   "outputs": [
    {
     "name": "stdout",
     "output_type": "stream",
     "text": [
      "Empty DataFrame\n",
      "Columns: []\n",
      "Index: []\n"
     ]
    }
   ],
   "source": [
    "print(df.head())"
   ]
  },
  {
   "cell_type": "code",
   "execution_count": 4,
   "metadata": {},
   "outputs": [
    {
     "name": "stdout",
     "output_type": "stream",
     "text": [
      "{'status': 'ok', 'totalResults': 36, 'articles': [{'source': {'id': 'google-news', 'name': 'Google News'}, 'author': 'The New York Times', 'title': 'Gunman at Trump Rally Was Often a Step Ahead of the Secret Service - The New York Times', 'description': None, 'url': 'https://news.google.com/rss/articles/CBMiX2h0dHBzOi8vd3d3Lm55dGltZXMuY29tLzIwMjQvMDcvMjgvdXMvcG9saXRpY3MvdHJ1bXAtc2hvb3RpbmctdGhvbWFzLWNyb29rcy1zZWNyZXQtc2VydmljZS5odG1s0gEA?oc=5', 'urlToImage': None, 'publishedAt': '2024-07-29T18:33:00Z', 'content': None}, {'source': {'id': 'usa-today', 'name': 'USA Today'}, 'author': 'Nancy Armour, Tom Schad', 'title': 'Olympic gymnastics live updates: US men win bronze in team final, first medal in 16 years - USA TODAY', 'description': \"The U.S. men's gymnastics team is competing in the Olympics team final, going for their first medal since 2008. Follow for live scores and results.\", 'url': 'https://www.usatoday.com/story/sports/olympics/2024/07/29/olympic-gymnastics-live-results-mens-team/74502516007/', 'urlToImage': 'https://www.usatoday.com/gcdn/authoring/authoring-images/2024/07/29/USAT/74592093007-usatsi-23856194.jpg?crop=4594,2584,x0,y670&width=3200&height=1800&format=pjpg&auto=webp', 'publishedAt': '2024-07-29T18:29:07Z', 'content': \"PARIS For the first time in 16 years, the U.S. men's gymnastics team has won an Olympic medal.\\r\\nBuoyed by a resurgent performance from national champion Brody Malone, who competed in five of the six … [+13647 chars]\"}, {'source': {'id': 'google-news', 'name': 'Google News'}, 'author': 'NBC News', 'title': \"Doubts cloud Venezuela's election results as both Maduro and González declare victory - NBC News\", 'description': None, 'url': 'https://news.google.com/rss/articles/CBMiaGh0dHBzOi8vd3d3Lm5iY25ld3MuY29tL25ld3MvbGF0aW5vL3ZlbmV6dWVsYS1lbGVjdGlvbi1yZXN1bHRzLW1hZHVyby1nb256YWxlei1kZWNsYXJlLXdpbm5lci1yY25hMTY0MDQ50gEraHR0cHM6Ly93d3cubmJjbmV3cy5jb20vbmV3cy9hbXAvcmNuYTE2NDA0OQ?oc=5', 'urlToImage': None, 'publishedAt': '2024-07-29T17:59:54Z', 'content': None}, {'source': {'id': 'google-news', 'name': 'Google News'}, 'author': 'The Wall Street Journal', 'title': 'Stock Market Today: Nasdaq, S&P 500 Edge Higher Ahead of Busy Earnings Week - The Wall Street Journal', 'description': None, 'url': 'https://news.google.com/rss/articles/CBMiXWh0dHBzOi8vd3d3Lndzai5jb20vbGl2ZWNvdmVyYWdlL3N0b2NrLW1hcmtldC10b2RheS1lYXJuaW5ncy1kb3ctc3A1MDAtbmFzZGFxLWxpdmUtMDctMjktMjAyNNIBAA?oc=5', 'urlToImage': None, 'publishedAt': '2024-07-29T17:57:00Z', 'content': None}, {'source': {'id': None, 'name': 'NPR'}, 'author': 'Rachel Treisman', 'title': 'JD Vance went viral for ‘cat lady’ comments. The centuries-old trope has a long tail - NPR', 'description': 'Vance lamented the country being run by \"a bunch of childless cat ladies,\" including Vice President Harris. The trope has dogged women since the Middle Ages.', 'url': 'https://www.npr.org/2024/07/29/nx-s1-5055616/jd-vance-childless-cat-lady-history', 'urlToImage': 'https://npr.brightspotcdn.com/dims3/default/strip/false/crop/5815x3271+0+0/resize/1400/quality/100/format/jpeg/?url=http%3A%2F%2Fnpr-brightspot.s3.amazonaws.com%2Fd3%2F06%2F3d8aa4f64ab9a209fea6fb22cc0e%2Fgettyimages-78172604.jpg', 'publishedAt': '2024-07-29T17:42:34Z', 'content': 'Republican vice presidential nominee Sen. JD Vances criticism of prominent Democrats as childless cat ladies has unleashed fury among women, with many now reclaiming the age-old sexist trope as a cal… [+9685 chars]'}, {'source': {'id': 'google-news', 'name': 'Google News'}, 'author': 'Fox News', 'title': 'Alzheimer’s blood test detects disease with 90% accuracy in routine doctors’ appointments: study - Fox News', 'description': None, 'url': 'https://news.google.com/rss/articles/CBMicGh0dHBzOi8vd3d3LmZveG5ld3MuY29tL2hlYWx0aC9hbHpoZWltZXJzLWJsb29kLXRlc3QtZGV0ZWN0cy1kaXNlYXNlLWFjY3VyYWN5LXJvdXRpbmUtZG9jdG9ycy1hcHBvaW50bWVudHMtc3R1ZHnSAXRodHRwczovL3d3dy5mb3huZXdzLmNvbS9oZWFsdGgvYWx6aGVpbWVycy1ibG9vZC10ZXN0LWRldGVjdHMtZGlzZWFzZS1hY2N1cmFjeS1yb3V0aW5lLWRvY3RvcnMtYXBwb2ludG1lbnRzLXN0dWR5LmFtcA?oc=5', 'urlToImage': None, 'publishedAt': '2024-07-29T17:41:00Z', 'content': None}, {'source': {'id': 'google-news', 'name': 'Google News'}, 'author': 'NBC News', 'title': \"Paris Olympics medal count: Track Team USA's wins so far - NBC News\", 'description': None, 'url': 'https://news.google.com/rss/articles/CBMiW2h0dHBzOi8vd3d3Lm5iY25ld3MuY29tL3Nwb3J0cy9vbHltcGljcy8yMDI0LXBhcmlzLW9seW1waWNzLW1lZGFsLWNvdW50LXRlYW0tdXNhLXJjbmExNjQxMDbSAStodHRwczovL3d3dy5uYmNuZXdzLmNvbS9uZXdzL2FtcC9yY25hMTY0MTA2?oc=5', 'urlToImage': None, 'publishedAt': '2024-07-29T17:22:14Z', 'content': None}, {'source': {'id': 'google-news', 'name': 'Google News'}, 'author': 'MacRumors', 'title': 'Apple Intelligence Now Available in New iOS 18.1, iPadOS 18.1, and macOS Sequoia Developer Betas - MacRumors', 'description': None, 'url': 'https://news.google.com/rss/articles/CBMiUGh0dHBzOi8vd3d3Lm1hY3J1bW9ycy5jb20vMjAyNC8wNy8yOS9hcHBsZS1yZWxlYXNlcy1pb3MtMTgtMS1hcHBsZS1pbnRlbGxpZ2VuY2Uv0gEA?oc=5', 'urlToImage': None, 'publishedAt': '2024-07-29T17:17:27Z', 'content': None}, {'source': {'id': 'google-news', 'name': 'Google News'}, 'author': 'Reuters', 'title': \"McDonald's sales fall globally for first time in more than three years - Reuters\", 'description': None, 'url': 'https://news.google.com/rss/articles/CBMigAFodHRwczovL3d3dy5yZXV0ZXJzLmNvbS9idXNpbmVzcy9yZXRhaWwtY29uc3VtZXIvbWNkb25hbGRzLXBvc3RzLXN1cnByaXNlLWRyb3AtcXVhcnRlcmx5LWdsb2JhbC1zYWxlcy1zcGVuZGluZy1zbG93cy0yMDI0LTA3LTI5L9IBAA?oc=5', 'urlToImage': None, 'publishedAt': '2024-07-29T17:03:34Z', 'content': None}, {'source': {'id': 'the-verge', 'name': 'The Verge'}, 'author': 'Antonio G. Di Benedetto', 'title': 'Sony’s PlayStation VR2 is $200 off and cheaper than ever before - The Verge', 'description': 'The PSVR 2 headset is on a huge discount for Sony’s PlayStation Summer Sale, which is also cutting prices on PS5 console covers — all through August 5th.', 'url': 'https://www.theverge.com/2024/7/29/24208642/sony-playstation-vr-2-psvr2-ps5-pc-headset-pixel-8a-deal-sale', 'urlToImage': 'https://cdn.vox-cdn.com/thumbor/OqYsTh2VwKmHzUWxKTFfalR776A=/0x0:2040x1360/1200x628/filters:focal(1020x680:1021x681)/cdn.vox-cdn.com/uploads/chorus_asset/file/24434980/236532_PSVR2_AKrales_0279.jpg', 'publishedAt': '2024-07-29T17:03:16Z', 'content': 'Sonys PlayStation VR2 is $200 off and cheaper than ever before\\r\\nSonys PlayStation VR2 is $200 off and cheaper than ever before\\r\\n / PlayStation 5 console covers are also on a rare discount, along with… [+3056 chars]'}, {'source': {'id': 'google-news', 'name': 'Google News'}, 'author': 'The Associated Press', 'title': 'Israel-Hamas war latest: US cautions Israel over escalation with Hezbollah after weekend attack - The Associated Press', 'description': None, 'url': 'https://news.google.com/rss/articles/CBMiYGh0dHBzOi8vYXBuZXdzLmNvbS9hcnRpY2xlL2lzcmFlbC1oYW1hcy13YXItbGF0ZXN0LTI5LWp1bHktMjAyNC0xMjEzYjU2NDA5ZjM2MjExODE1MDIwZWEwZmRmZWUyONIBAA?oc=5', 'urlToImage': None, 'publishedAt': '2024-07-29T16:43:00Z', 'content': None}, {'source': {'id': 'google-news', 'name': 'Google News'}, 'author': 'CNN', 'title': 'Biden to call for major Supreme Court reforms, including term limits, at Civil Rights Act event Monday - CNN', 'description': None, 'url': 'https://news.google.com/rss/articles/CBMiTWh0dHBzOi8vd3d3LmNubi5jb20vMjAyNC8wNy8yOS9wb2xpdGljcy9iaWRlbi1zdXByZW1lLWNvdXJ0LXJlZm9ybS9pbmRleC5odG1s0gFGaHR0cHM6Ly9hbXAuY25uLmNvbS9jbm4vMjAyNC8wNy8yOS9wb2xpdGljcy9iaWRlbi1zdXByZW1lLWNvdXJ0LXJlZm9ybQ?oc=5', 'urlToImage': None, 'publishedAt': '2024-07-29T16:31:00Z', 'content': None}, {'source': {'id': 'google-news', 'name': 'Google News'}, 'author': 'CBS News', 'title': \"See the mother bear and her cubs that survived Jasper National Park's largest wildfire in 100 years by hiding - CBS News\", 'description': None, 'url': 'https://news.google.com/rss/articles/CBMiV2h0dHBzOi8vd3d3LmNic25ld3MuY29tL25ld3MvbW90aGVyLWJlYXItY3Vicy1zdXJ2aXZlLWphc3Blci1uYXRpb25hbC1wYXJrLWZpcmUtcGhvdG9zL9IBW2h0dHBzOi8vd3d3LmNic25ld3MuY29tL2FtcC9uZXdzL21vdGhlci1iZWFyLWN1YnMtc3Vydml2ZS1qYXNwZXItbmF0aW9uYWwtcGFyay1maXJlLXBob3Rvcy8?oc=5', 'urlToImage': None, 'publishedAt': '2024-07-29T16:24:14Z', 'content': None}, {'source': {'id': 'google-news', 'name': 'Google News'}, 'author': 'TheStreet', 'title': 'Analyst tweaks AMD stock price target ahead of Q2 earnings - TheStreet', 'description': None, 'url': 'https://news.google.com/rss/articles/CBMiZWh0dHBzOi8vd3d3LnRoZXN0cmVldC5jb20vaW52ZXN0aW5nL3N0b2Nrcy9hbmFseXN0LXR3ZWFrcy1hbWQtc3RvY2stcHJpY2UtdGFyZ2V0LWFoZWFkLW9mLXEyLWVhcm5pbmdz0gEA?oc=5', 'urlToImage': None, 'publishedAt': '2024-07-29T16:17:30Z', 'content': None}, {'source': {'id': None, 'name': '[Removed]'}, 'author': None, 'title': '[Removed]', 'description': '[Removed]', 'url': 'https://removed.com', 'urlToImage': None, 'publishedAt': '1970-01-01T00:00:00Z', 'content': '[Removed]'}, {'source': {'id': 'google-news', 'name': 'Google News'}, 'author': 'ABC News', 'title': 'Simone Biles to compete on all four events at Olympic team finals despite calf injury - ABC News', 'description': None, 'url': 'https://news.google.com/rss/articles/CBMiZWh0dHBzOi8vYWJjbmV3cy5nby5jb20vVVMvd2lyZVN0b3J5L3NpbW9uZS1iaWxlcy1jb21wZXRlLWV2ZW50cy1kZXNwaXRlLWNhbGYtaW5qdXJ5LW9seW1waWMtMTEyMzcwNzk10gFpaHR0cHM6Ly9hYmNuZXdzLmdvLmNvbS9hbXAvVVMvd2lyZVN0b3J5L3NpbW9uZS1iaWxlcy1jb21wZXRlLWV2ZW50cy1kZXNwaXRlLWNhbGYtaW5qdXJ5LW9seW1waWMtMTEyMzcwNzk1?oc=5', 'urlToImage': None, 'publishedAt': '2024-07-29T15:29:04Z', 'content': None}, {'source': {'id': 'google-news', 'name': 'Google News'}, 'author': 'Phys.org', 'title': \"New study reveals people's faces evolve to match their names - Phys.org\", 'description': None, 'url': 'https://news.google.com/rss/articles/CBMiOGh0dHBzOi8vcGh5cy5vcmcvbmV3cy8yMDI0LTA3LXJldmVhbHMtcGVvcGxlLWV2b2x2ZS5odG1s0gEA?oc=5', 'urlToImage': None, 'publishedAt': '2024-07-29T15:21:37Z', 'content': None}, {'source': {'id': None, 'name': 'Gizmodo.com'}, 'author': 'Adam Kovac', 'title': 'Triple Meteor Showers Set to Dazzle the Night Sky Over the Next Two Weeks - Gizmodo', 'description': 'It’s an amazing time of year to be a stargazer as the night skies are about to light up with three different meteor showers over a two-week period.', 'url': 'https://gizmodo.com/triple-meteor-showers-set-to-dazzle-the-night-sky-over-the-next-two-weeks-2000480623', 'urlToImage': 'https://gizmodo.com/app/uploads/2024/07/Perseid.jpg', 'publishedAt': '2024-07-29T15:16:34Z', 'content': 'Skywatchers are preparing for a celestial trifecta: The relatively minor Southern delta Aquariids and alpha Capricornids will set the stage for the impressive Perseids, during which up to 100 meteors… [+2559 chars]'}, {'source': {'id': 'google-news', 'name': 'Google News'}, 'author': 'New York Post ', 'title': '1 little girl killed, 7 injured in mass stabbing at Taylor Swift dance party in Southport, UK - New York Post ', 'description': None, 'url': 'https://news.google.com/rss/articles/CBMiggFodHRwczovL255cG9zdC5jb20vMjAyNC8wNy8yOS93b3JsZC1uZXdzLzEtY2hpbGQta2lsbGVkLTctb3RoZXJzLWluanVyZWQtaW4tbWFzcy1zdGFiYmluZy1hdC10YXlsb3Itc3dpZnQtdGhlbWVkLWtpZHMtZGFuY2UtZXZlbnQv0gEA?oc=5', 'urlToImage': None, 'publishedAt': '2024-07-29T14:30:00Z', 'content': None}, {'source': {'id': 'google-news', 'name': 'Google News'}, 'author': 'Daily Mail', 'title': 'Terrifying final minutes gospel group The Nelons endured before they died in plane crash is revealed by aviati - Daily Mail', 'description': None, 'url': 'https://news.google.com/rss/articles/CBMiXGh0dHBzOi8vd3d3LmRhaWx5bWFpbC5jby51ay9uZXdzL2FydGljbGUtMTM2ODQxMDUvbmVsb25zLWZhdGFsLXBsYW5lLWNyYXNoLWdvc3BlbC1ncm91cC5odG1s0gFgaHR0cHM6Ly93d3cuZGFpbHltYWlsLmNvLnVrL25ld3MvYXJ0aWNsZS0xMzY4NDEwNS9hbXAvbmVsb25zLWZhdGFsLXBsYW5lLWNyYXNoLWdvc3BlbC1ncm91cC5odG1s?oc=5', 'urlToImage': None, 'publishedAt': '2024-07-29T14:28:35Z', 'content': None}]}\n"
     ]
    }
   ],
   "source": [
    "import os\n",
    "import requests\n",
    "from dotenv import load_dotenv\n",
    "\n",
    "# Load environment variables from the .env file\n",
    "load_dotenv(dotenv_path='/Users/paigeblackstone/Desktop/Portfolio29/Portfolio29/.env/newsapi.env')\n",
    "\n",
    "# Get the NewsAPI key from the environment variable\n",
    "API_KEY = os.getenv('NEWS_API_KEY')\n",
    "\n",
    "# Define the base URL for NewsAPI\n",
    "BASE_URL = 'https://newsapi.org/v2/'\n",
    "\n",
    "# Define a function to get top headlines\n",
    "def get_top_headlines():\n",
    "    url = f\"{BASE_URL}top-headlines\"\n",
    "    params = {\n",
    "        'country': 'us',  # Get headlines for the US\n",
    "        'apiKey': API_KEY  # Use your API key\n",
    "    }\n",
    "    \n",
    "    response = requests.get(url, params=params)\n",
    "    data = response.json()\n",
    "    return data\n",
    "\n",
    "# Fetch top headlines\n",
    "headlines = get_top_headlines()\n",
    "print(headlines)\n",
    "\n",
    "for article in headlines['articles']:\n",
    "    print(f\"Title: {article['title']}\")\n",
    "    print(f\"Description: {article['description']}\")\n",
    "    print(f\"URL: {article['url']}\\n\")"
   ]
  },
  {
   "cell_type": "code",
   "execution_count": 5,
   "metadata": {},
   "outputs": [
    {
     "name": "stdout",
     "output_type": "stream",
     "text": [
      "Title: Apple Intelligence Now Available in New iOS 18.1, iPadOS 18.1, and macOS Sequoia Developer Betas - MacRumors\n",
      "Description: None\n",
      "URL: https://news.google.com/rss/articles/CBMiUGh0dHBzOi8vd3d3Lm1hY3J1bW9ycy5jb20vMjAyNC8wNy8yOS9hcHBsZS1yZWxlYXNlcy1pb3MtMTgtMS1hcHBsZS1pbnRlbGxpZ2VuY2Uv0gEA?oc=5\n",
      "\n",
      "Title: Nerd Out Over All The Cool Details That Make The Corvette ZR1's 1,064-HP Engine So Awesome - Jalopnik\n",
      "Description: None\n",
      "URL: https://news.google.com/rss/articles/CBMiV2h0dHBzOi8vamFsb3BuaWsuY29tL25lcmQtb3V0LW92ZXItYWxsLXRoZS1jb29sLWRldGFpbHMtdGhhdC1tYWtlLXRoZS1jb3J2ZXQtMTg1MTYwNzc3MNIBAA?oc=5\n",
      "\n",
      "Title: PlayStation unveils adorable Astro Bot PS5 DualSense controller, complete with \"playful\" pair of eyes - Eurogamer\n",
      "Description: None\n",
      "URL: https://news.google.com/rss/articles/CBMifGh0dHBzOi8vd3d3LmV1cm9nYW1lci5uZXQvcGxheXN0YXRpb24tdW52ZWlscy1hZG9yYWJsZS1hc3Ryby1ib3QtcHM1LWR1YWxzZW5zZS1jb250cm9sbGVyLWNvbXBsZXRlLXdpdGgtcGxheWZ1bC1wYWlyLW9mLWV5ZXPSAQA?oc=5\n",
      "\n",
      "Title: Arc’teryx’s new powered pants could make hikers feel 30 pounds lighter - The Verge\n",
      "Description: Designed as a mobility aid, the MO/GO hiking pants feature a powered module on each leg and a three-hour rechargeable battery. They’re expected to ship in late 2025 and are available for preorder now for $4,500.\n",
      "URL: https://www.theverge.com/2024/7/29/24208615/arcteryx-skip-google-x-labs-mogo-hiking-exoskeleton\n",
      "\n",
      "Title: Harry Potter: Quidditch Champions Gets First Gameplay Trailer, Will Launch On PlayStation Plus - Game Informer\n",
      "Description: Here's your first look at the Quidditch sports game in action.\n",
      "URL: https://www.gameinformer.com/2024/07/29/harry-potter-quidditch-champions-gets-first-gameplay-trailer-will-launch-on-playstation\n",
      "\n"
     ]
    }
   ],
   "source": [
    "import os\n",
    "import requests\n",
    "from dotenv import load_dotenv\n",
    "\n",
    "# Load environment variables from the .env file\n",
    "load_dotenv(dotenv_path='/Users/paigeblackstone/Desktop/Portfolio29/Portfolio29/.env/newsapi.env')\n",
    "\n",
    "# Get the NewsAPI key from the environment variable\n",
    "API_KEY = os.getenv('NEWS_API_KEY')\n",
    "\n",
    "# Define the base URL for NewsAPI\n",
    "BASE_URL = 'https://newsapi.org/v2/'\n",
    "\n",
    "def get_custom_headlines():\n",
    "    url = f\"{BASE_URL}top-headlines\"\n",
    "    params = {\n",
    "        'country': 'us',\n",
    "        'category': 'technology',\n",
    "        'q': 'AI',\n",
    "        'pageSize': 5,\n",
    "        'apiKey': API_KEY\n",
    "    }\n",
    "    \n",
    "    response = requests.get(url, params=params)\n",
    "    \n",
    "    if response.status_code == 200:\n",
    "        data = response.json()\n",
    "        return data\n",
    "    else:\n",
    "        print(f\"Error: {response.status_code}\")\n",
    "        print(response.json())\n",
    "        return {}\n",
    "\n",
    "# Fetch custom headlines\n",
    "custom_headlines = get_custom_headlines()\n",
    "\n",
    "# Display the fetched headlines\n",
    "for article in custom_headlines.get('articles', []):\n",
    "    print(f\"Title: {article.get('title')}\")\n",
    "    print(f\"Description: {article.get('description')}\")\n",
    "    print(f\"URL: {article.get('url')}\\n\")\n"
   ]
  },
  {
   "cell_type": "code",
   "execution_count": 6,
   "metadata": {},
   "outputs": [
    {
     "name": "stdout",
     "output_type": "stream",
     "text": [
      "                                         source            author  \\\n",
      "0  {'id': 'google-news', 'name': 'Google News'}         MacRumors   \n",
      "1  {'id': 'google-news', 'name': 'Google News'}          Jalopnik   \n",
      "2  {'id': 'google-news', 'name': 'Google News'}         Eurogamer   \n",
      "3      {'id': 'the-verge', 'name': 'The Verge'}  Andrew Liszewski   \n",
      "4      {'id': None, 'name': 'Gameinformer.com'}    Marcus Stewart   \n",
      "\n",
      "                                               title  \\\n",
      "0  Apple Intelligence Now Available in New iOS 18...   \n",
      "1  Nerd Out Over All The Cool Details That Make T...   \n",
      "2  PlayStation unveils adorable Astro Bot PS5 Dua...   \n",
      "3  Arc’teryx’s new powered pants could make hiker...   \n",
      "4  Harry Potter: Quidditch Champions Gets First G...   \n",
      "\n",
      "                                         description  \\\n",
      "0                                               None   \n",
      "1                                               None   \n",
      "2                                               None   \n",
      "3  Designed as a mobility aid, the MO/GO hiking p...   \n",
      "4  Here's your first look at the Quidditch sports...   \n",
      "\n",
      "                                                 url  \\\n",
      "0  https://news.google.com/rss/articles/CBMiUGh0d...   \n",
      "1  https://news.google.com/rss/articles/CBMiV2h0d...   \n",
      "2  https://news.google.com/rss/articles/CBMifGh0d...   \n",
      "3  https://www.theverge.com/2024/7/29/24208615/ar...   \n",
      "4  https://www.gameinformer.com/2024/07/29/harry-...   \n",
      "\n",
      "                                          urlToImage           publishedAt  \\\n",
      "0                                               None  2024-07-29T17:17:27Z   \n",
      "1                                               None  2024-07-29T16:30:00Z   \n",
      "2                                               None  2024-07-29T15:29:18Z   \n",
      "3  https://cdn.vox-cdn.com/thumbor/R1ukwYOSWHYayP...  2024-07-29T14:27:43Z   \n",
      "4  https://www.gameinformer.com/sites/default/fil...  2024-07-29T14:11:00Z   \n",
      "\n",
      "                                             content  \n",
      "0                                               None  \n",
      "1                                               None  \n",
      "2                                               None  \n",
      "3  Arcteryxs new powered pants could make hikers ...  \n",
      "4  Summer Games Fest gave us the cinematic reveal...  \n"
     ]
    }
   ],
   "source": [
    "import os\n",
    "import requests\n",
    "from dotenv import load_dotenv\n",
    "import pandas as pd\n",
    "\n",
    "load_dotenv(dotenv_path='/Users/paigeblackstone/Desktop/Portfolio29/Portfolio29/.env/newsapi.env')\n",
    "\n",
    "API_KEY = os.getenv('NEWS_API_KEY')\n",
    "\n",
    "BASE_URL = 'https://newsapi.org/v2/'\n",
    "\n",
    "def get_custom_headlines():\n",
    "    url = f\"{BASE_URL}top-headlines\"\n",
    "    params = {\n",
    "        'country': 'us',\n",
    "        'category': 'technology',\n",
    "        'q': 'AI',\n",
    "        'pageSize': 5,\n",
    "        'apiKey': API_KEY\n",
    "    }\n",
    "    \n",
    "    response = requests.get(url, params=params)\n",
    "    \n",
    "    if response.status_code == 200:\n",
    "        data = response.json()\n",
    "        return data\n",
    "    else:\n",
    "        print(f\"Error: {response.status_code}\")\n",
    "        print(response.json())\n",
    "        return {}\n",
    "\n",
    "# Fetch custom headlines\n",
    "custom_headlines = get_custom_headlines()\n",
    "\n",
    "# Convert to DataFrame\n",
    "articles = custom_headlines.get('articles', [])\n",
    "df = pd.DataFrame(articles)\n",
    "\n",
    "# Display the DataFrame\n",
    "print(df.head())"
   ]
  }
 ],
 "metadata": {
  "kernelspec": {
   "display_name": "venv",
   "language": "python",
   "name": "python3"
  },
  "language_info": {
   "codemirror_mode": {
    "name": "ipython",
    "version": 3
   },
   "file_extension": ".py",
   "mimetype": "text/x-python",
   "name": "python",
   "nbconvert_exporter": "python",
   "pygments_lexer": "ipython3",
   "version": "3.12.4"
  }
 },
 "nbformat": 4,
 "nbformat_minor": 2
}
