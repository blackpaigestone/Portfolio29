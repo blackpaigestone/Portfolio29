{
 "cells": [
  {
   "cell_type": "markdown",
   "metadata": {},
   "source": [
    "#credit to caesarmario on kaggle, https://www.kaggle.com/code/caesarmario/auto-update-existing-kaggle-datasets-via-api"
   ]
  },
  {
   "cell_type": "code",
   "execution_count": 1,
   "metadata": {},
   "outputs": [],
   "source": [
    "import kaggle\n",
    "import pandas as pd\n",
    "import os\n",
    "import yahoo_fin\n",
    "import datetime\n",
    "import shutil\n",
    "\n",
    "from datetime import datetime"
   ]
  },
  {
   "cell_type": "code",
   "execution_count": 13,
   "metadata": {},
   "outputs": [
    {
     "name": "stdout",
     "output_type": "stream",
     "text": [
      "Metadata file for samsung not found. Skipping metadata copy.\n",
      "Metadata file for hyundai not found. Skipping metadata copy.\n",
      "Metadata file for bri not found. Skipping metadata copy.\n",
      "Metadata file for bca not found. Skipping metadata copy.\n",
      "Metadata file for mandiri not found. Skipping metadata copy.\n",
      "Metadata file for bni not found. Skipping metadata copy.\n",
      "Metadata file for goto not found. Skipping metadata copy.\n",
      "Metadata file for buka not found. Skipping metadata copy.\n",
      "Metadata file for krom not found. Skipping metadata copy.\n"
     ]
    }
   ],
   "source": [
    "import os\n",
    "import shutil\n",
    "from datetime import datetime\n",
    "from yahoo_fin.stock_info import get_data\n",
    "\n",
    "def hit_api(dataset, base_dir=\"./working\"):\n",
    "    # --- Creating Parameters ---\n",
    "    today = datetime.now().strftime(\"%Y-%m-%d\")\n",
    "    period = {\"1d\": \"\", \"1wk\": \"_weekly\", \"1mo\": \"_monthly\"}\n",
    "    column_rename = [\"Open\", \"High\", \"Low\", \"Close\", \"Adj Close\", \"Volume\"]\n",
    "    \n",
    "    # --- Dataset Dictionary For Loop ---\n",
    "    for x in dataset:\n",
    "        # --- Create Folder in Output Directory ---\n",
    "        output_dir = os.path.join(base_dir, x)\n",
    "        os.makedirs(output_dir, exist_ok=True)\n",
    "        \n",
    "        # --- Copy Dataset Metadata to Output Directory ---\n",
    "        try:\n",
    "            shutil.copy(f\"./input/auto-etl-yahoo-finance-dataset/{x}/dataset-metadata.json\",\n",
    "                        os.path.join(output_dir, \"dataset-metadata.json\"))\n",
    "        except FileNotFoundError:\n",
    "            print(f\"Metadata file for {x} not found. Skipping metadata copy.\")\n",
    "        \n",
    "        for i in period:\n",
    "            try:\n",
    "                # Convert start_date to the correct format\n",
    "                start_date = datetime.strptime(dataset[x]['start_date'], \"%m/%d/%Y\").strftime(\"%Y-%m-%d\")\n",
    "                df_hist = get_data(dataset[x]['stock_code'], start_date=start_date, end_date=today, \n",
    "                                   index_as_date=True, interval=i)\n",
    "\n",
    "                # --- Preprocessing Dataset ---\n",
    "                if 'ticker' in df_hist.columns:\n",
    "                    df_hist.drop('ticker', axis=1, inplace=True)\n",
    "                df_hist.columns = column_rename\n",
    "                df_hist.index.names = ['Date']\n",
    "\n",
    "                # --- Export to `.csv` Files based on Dataset Name ---\n",
    "                df_hist.to_csv(os.path.join(output_dir, f\"{dataset[x]['stock_code']}{period[i]}.csv\"))\n",
    "            except Exception as e:\n",
    "                print(f\"Error fetching data for {dataset[x]['stock_code']} with interval {i}: {e}\")\n",
    "\n",
    "# Example dataset dictionary\n",
    "dataset = {\n",
    "    \"samsung\": {\n",
    "        \"id\": \"samsung-electronics-stock-historical-price\",\n",
    "        \"stock_code\": \"005930.KS\",\n",
    "        \"start_date\": \"01/01/2019\"\n",
    "    },\n",
    "    \"hyundai\": {\n",
    "        \"id\": \"hyundai-motor-company-stock-historical-price\",\n",
    "        \"stock_code\": \"005380.KS\",\n",
    "        \"start_date\": \"01/01/2016\"\n",
    "    },\n",
    "    \"bri\": {\n",
    "        \"id\": \"bank-rakyat-indonesia-stock-historical-price\",\n",
    "        \"stock_code\": \"BBRI.JK\",\n",
    "        \"start_date\": \"01/01/2019\"\n",
    "    },\n",
    "    \"bca\": {\n",
    "        \"id\": \"bank-central-asia-stock-historical-price\",\n",
    "        \"stock_code\": \"BBCA.JK\",\n",
    "        \"start_date\": \"01/01/2019\"\n",
    "    },\n",
    "    \"mandiri\": {\n",
    "        \"id\": \"bank-mandiri-stock-historical-price\",\n",
    "        \"stock_code\": \"BMRI.JK\",\n",
    "        \"start_date\": \"01/01/2019\"\n",
    "    },\n",
    "    \"bni\": {\n",
    "        \"id\": \"bank-negara-indonesia-stock-historical-price\",\n",
    "        \"stock_code\": \"BBNI.JK\",\n",
    "        \"start_date\": \"01/01/2019\"\n",
    "    },\n",
    "    \"goto\": {\n",
    "        \"id\": \"goto-gojek-tokopedia-stock-historical-price\",\n",
    "        \"stock_code\": \"GOTO.JK\",\n",
    "        \"start_date\": \"12/04/2022\"\n",
    "    },\n",
    "    \"buka\": {\n",
    "        \"id\": \"bukalapak-com-stock-historical-price\",\n",
    "        \"stock_code\": \"BUKA.JK\",\n",
    "        \"start_date\": \"07/08/2021\"\n",
    "    },\n",
    "    \"krom\": {\n",
    "        \"id\": \"krom-bank-indonesia-stock-historical-price\",\n",
    "        \"stock_code\": \"BBSI.JK\",\n",
    "        \"start_date\": \"08/09/2020\"\n",
    "    }\n",
    "}\n",
    "\n",
    "# --- Calling Get Stock Data Function ---\n",
    "hit_api(dataset, base_dir=\"./working\")\n"
   ]
  },
  {
   "cell_type": "markdown",
   "metadata": {},
   "source": [
    "creating the dataset(s) as a dictionary "
   ]
  },
  {
   "cell_type": "markdown",
   "metadata": {},
   "source": [
    "updating the datasets to kaggle"
   ]
  },
  {
   "cell_type": "code",
   "execution_count": null,
   "metadata": {},
   "outputs": [],
   "source": [
    "#enter to the command line:\n",
    "!kaggle datasets version -p /kaggle/working/bri -m"
   ]
  }
 ],
 "metadata": {
  "kernelspec": {
   "display_name": "venv",
   "language": "python",
   "name": "python3"
  },
  "language_info": {
   "codemirror_mode": {
    "name": "ipython",
    "version": 3
   },
   "file_extension": ".py",
   "mimetype": "text/x-python",
   "name": "python",
   "nbconvert_exporter": "python",
   "pygments_lexer": "ipython3",
   "version": "3.12.4"
  }
 },
 "nbformat": 4,
 "nbformat_minor": 2
}
