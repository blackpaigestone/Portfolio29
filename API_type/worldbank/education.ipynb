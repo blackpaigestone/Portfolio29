{
 "cells": [
  {
   "cell_type": "code",
   "execution_count": 1,
   "metadata": {},
   "outputs": [
    {
     "ename": "NameError",
     "evalue": "name 'wbdata' is not defined",
     "output_type": "error",
     "traceback": [
      "\u001b[0;31m---------------------------------------------------------------------------\u001b[0m",
      "\u001b[0;31mNameError\u001b[0m                                 Traceback (most recent call last)",
      "Cell \u001b[0;32mIn[1], line 5\u001b[0m\n\u001b[1;32m      2\u001b[0m \u001b[38;5;28;01mimport\u001b[39;00m \u001b[38;5;21;01mpandas\u001b[39;00m \u001b[38;5;28;01mas\u001b[39;00m \u001b[38;5;21;01mpd\u001b[39;00m\n\u001b[1;32m      4\u001b[0m \u001b[38;5;66;03m# Retrieve indicators\u001b[39;00m\n\u001b[0;32m----> 5\u001b[0m result \u001b[38;5;241m=\u001b[39m \u001b[43mwbdata\u001b[49m\u001b[38;5;241m.\u001b[39mget_indicators()\n\u001b[1;32m      6\u001b[0m df \u001b[38;5;241m=\u001b[39m pd\u001b[38;5;241m.\u001b[39mDataFrame(result)\n\u001b[1;32m      8\u001b[0m \u001b[38;5;66;03m# Display the first few rows\u001b[39;00m\n",
      "\u001b[0;31mNameError\u001b[0m: name 'wbdata' is not defined"
     ]
    }
   ],
   "source": [
    "import wbdata as wb\n",
    "import pandas as pd\n",
    "\n",
    "# Retrieve indicators\n",
    "result = wbdata.get_indicators()\n",
    "df = pd.DataFrame(result)\n",
    "\n",
    "# Display the first few rows\n",
    "print(df.head())\n",
    "\n",
    "education_indicators = df[df['name'].str.contains('education', case=False, na=False)]\n",
    "\n",
    "# Save to a CSV file\n",
    "education_indicators.to_csv('education_indicators.csv', index=False)\n",
    "\n",
    "print(\"CSV file 'education_indicators.csv' has been created.\")"
   ]
  },
  {
   "cell_type": "code",
   "execution_count": 5,
   "metadata": {},
   "outputs": [
    {
     "name": "stdout",
     "output_type": "stream",
     "text": [
      "CSV file 'education_indicators.csv' has been created.\n"
     ]
    }
   ],
   "source": [
    "education_indicators = df[df['name'].str.contains('education', case=False, na=False)]\n",
    "\n",
    "# Save to a CSV file\n",
    "education_indicators.to_csv('education_indicators.csv', index=False)\n",
    "\n",
    "print(\"CSV file 'education_indicators.csv' has been created.\")"
   ]
  },
  {
   "cell_type": "code",
   "execution_count": 6,
   "metadata": {},
   "outputs": [
    {
     "ename": "AttributeError",
     "evalue": "module 'wbdata' has no attribute 'search'",
     "output_type": "error",
     "traceback": [
      "\u001b[0;31m---------------------------------------------------------------------------\u001b[0m",
      "\u001b[0;31mAttributeError\u001b[0m                            Traceback (most recent call last)",
      "Cell \u001b[0;32mIn[6], line 1\u001b[0m\n\u001b[0;32m----> 1\u001b[0m indicators \u001b[38;5;241m=\u001b[39m \u001b[43mwb\u001b[49m\u001b[38;5;241;43m.\u001b[39;49m\u001b[43msearch\u001b[49m(\u001b[38;5;124m'\u001b[39m\u001b[38;5;124meducation\u001b[39m\u001b[38;5;124m'\u001b[39m)\n\u001b[1;32m      2\u001b[0m \u001b[38;5;28mprint\u001b[39m(indicators)\n",
      "\u001b[0;31mAttributeError\u001b[0m: module 'wbdata' has no attribute 'search'"
     ]
    }
   ],
   "source": [
    "indicators = wb.search('education')\n",
    "print(indicators)"
   ]
  },
  {
   "cell_type": "code",
   "execution_count": null,
   "metadata": {},
   "outputs": [],
   "source": []
  }
 ],
 "metadata": {
  "kernelspec": {
   "display_name": "venv",
   "language": "python",
   "name": "python3"
  },
  "language_info": {
   "codemirror_mode": {
    "name": "ipython",
    "version": 3
   },
   "file_extension": ".py",
   "mimetype": "text/x-python",
   "name": "python",
   "nbconvert_exporter": "python",
   "pygments_lexer": "ipython3",
   "version": "3.12.4"
  }
 },
 "nbformat": 4,
 "nbformat_minor": 2
}
