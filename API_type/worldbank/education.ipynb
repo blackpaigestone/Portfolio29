{
 "cells": [
  {
   "cell_type": "code",
   "execution_count": 4,
   "metadata": {},
   "outputs": [
    {
     "name": "stdout",
     "output_type": "stream",
     "text": [
      "                     id                                     name unit  \\\n",
      "0    1.0.HCount.1.90usd          Poverty Headcount ($1.90 a day)        \n",
      "1     1.0.HCount.2.5usd          Poverty Headcount ($2.50 a day)        \n",
      "2  1.0.HCount.Mid10to50    Middle Class ($10-50 a day) Headcount        \n",
      "3       1.0.HCount.Ofcl  Official Moderate Poverty Rate-National        \n",
      "4   1.0.HCount.Poor4uds             Poverty Headcount ($4 a day)        \n",
      "\n",
      "                                    source  \\\n",
      "0  {'id': '37', 'value': 'LAC Equity Lab'}   \n",
      "1  {'id': '37', 'value': 'LAC Equity Lab'}   \n",
      "2  {'id': '37', 'value': 'LAC Equity Lab'}   \n",
      "3  {'id': '37', 'value': 'LAC Equity Lab'}   \n",
      "4  {'id': '37', 'value': 'LAC Equity Lab'}   \n",
      "\n",
      "                                          sourceNote  \\\n",
      "0  The poverty headcount index measures the propo...   \n",
      "1  The poverty headcount index measures the propo...   \n",
      "2  The poverty headcount index measures the propo...   \n",
      "3  The poverty headcount index measures the propo...   \n",
      "4  The poverty headcount index measures the propo...   \n",
      "\n",
      "                                  sourceOrganization  \\\n",
      "0  LAC Equity Lab tabulations of SEDLAC (CEDLAS a...   \n",
      "1  LAC Equity Lab tabulations of SEDLAC (CEDLAS a...   \n",
      "2  LAC Equity Lab tabulations of SEDLAC (CEDLAS a...   \n",
      "3  LAC Equity Lab tabulations of data from Nation...   \n",
      "4  LAC Equity Lab tabulations of SEDLAC (CEDLAS a...   \n",
      "\n",
      "                                topics  \n",
      "0  [{'id': '11', 'value': 'Poverty '}]  \n",
      "1  [{'id': '11', 'value': 'Poverty '}]  \n",
      "2  [{'id': '11', 'value': 'Poverty '}]  \n",
      "3  [{'id': '11', 'value': 'Poverty '}]  \n",
      "4  [{'id': '11', 'value': 'Poverty '}]  \n"
     ]
    }
   ],
   "source": [
    "import wbdata as wb\n",
    "import pandas as pd\n",
    "\n",
    "# Retrieve indicators\n",
    "result = wbdata.get_indicators()\n",
    "df = pd.DataFrame(result)\n",
    "\n",
    "# Display the first few rows\n",
    "print(df.head())\n",
    "\n",
    "education_indicators = df[df['name'].str.contains('education', case=False, na=False)]\n",
    "\n",
    "# Save to a CSV file\n",
    "education_indicators.to_csv('education_indicators.csv', index=False)\n",
    "\n",
    "print(\"CSV file 'education_indicators.csv' has been created.\")"
   ]
  },
  {
   "cell_type": "code",
   "execution_count": 5,
   "metadata": {},
   "outputs": [
    {
     "name": "stdout",
     "output_type": "stream",
     "text": [
      "CSV file 'education_indicators.csv' has been created.\n"
     ]
    }
   ],
   "source": [
    "education_indicators = df[df['name'].str.contains('education', case=False, na=False)]\n",
    "\n",
    "# Save to a CSV file\n",
    "education_indicators.to_csv('education_indicators.csv', index=False)\n",
    "\n",
    "print(\"CSV file 'education_indicators.csv' has been created.\")"
   ]
  },
  {
   "cell_type": "code",
   "execution_count": 6,
   "metadata": {},
   "outputs": [
    {
     "ename": "AttributeError",
     "evalue": "module 'wbdata' has no attribute 'search'",
     "output_type": "error",
     "traceback": [
      "\u001b[0;31m---------------------------------------------------------------------------\u001b[0m",
      "\u001b[0;31mAttributeError\u001b[0m                            Traceback (most recent call last)",
      "Cell \u001b[0;32mIn[6], line 1\u001b[0m\n\u001b[0;32m----> 1\u001b[0m indicators \u001b[38;5;241m=\u001b[39m \u001b[43mwb\u001b[49m\u001b[38;5;241;43m.\u001b[39;49m\u001b[43msearch\u001b[49m(\u001b[38;5;124m'\u001b[39m\u001b[38;5;124meducation\u001b[39m\u001b[38;5;124m'\u001b[39m)\n\u001b[1;32m      2\u001b[0m \u001b[38;5;28mprint\u001b[39m(indicators)\n",
      "\u001b[0;31mAttributeError\u001b[0m: module 'wbdata' has no attribute 'search'"
     ]
    }
   ],
   "source": [
    "indicators = wb.search('education')\n",
    "print(indicators)"
   ]
  },
  {
   "cell_type": "code",
   "execution_count": null,
   "metadata": {},
   "outputs": [],
   "source": []
  }
 ],
 "metadata": {
  "kernelspec": {
   "display_name": "venv",
   "language": "python",
   "name": "python3"
  },
  "language_info": {
   "codemirror_mode": {
    "name": "ipython",
    "version": 3
   },
   "file_extension": ".py",
   "mimetype": "text/x-python",
   "name": "python",
   "nbconvert_exporter": "python",
   "pygments_lexer": "ipython3",
   "version": "3.12.4"
  }
 },
 "nbformat": 4,
 "nbformat_minor": 2
}
